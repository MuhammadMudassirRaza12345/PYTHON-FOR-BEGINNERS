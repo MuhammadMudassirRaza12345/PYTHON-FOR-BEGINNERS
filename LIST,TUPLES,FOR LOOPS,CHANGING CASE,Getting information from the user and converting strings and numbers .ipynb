{
 "cells": [
  {
   "cell_type": "markdown",
   "id": "c741679b",
   "metadata": {},
   "source": [
    "## LIST,TUPLES,FOR LOOPS,CHANGING CASE,Getting information from the user and converting strings and numbers\n"
   ]
  },
  {
   "cell_type": "markdown",
   "id": "c4257a82",
   "metadata": {},
   "source": [
    "# LIST\n",
    "\n",
    "#List is like an array consist of group of element"
   ]
  },
  {
   "cell_type": "code",
   "execution_count": 1,
   "id": "2ee54dd4",
   "metadata": {},
   "outputs": [
    {
     "name": "stdout",
     "output_type": "stream",
     "text": [
      "[10, 20, 21, 30, 32, 28, 29, 'Pakistan']\n"
     ]
    }
   ],
   "source": [
    "khi_temp  = [10,20,21,30,32,28,29,\"Pakistan\"]   #A list consit of nos and string\n",
    "print(khi_temp)"
   ]
  },
  {
   "cell_type": "code",
   "execution_count": 2,
   "id": "eeed0682",
   "metadata": {},
   "outputs": [
    {
     "name": "stdout",
     "output_type": "stream",
     "text": [
      "21\n"
     ]
    }
   ],
   "source": [
    "#want to print particular element from list\n",
    "print(khi_temp[2])"
   ]
  },
  {
   "cell_type": "code",
   "execution_count": 3,
   "id": "36aa9fc8",
   "metadata": {},
   "outputs": [
    {
     "name": "stdout",
     "output_type": "stream",
     "text": [
      "8\n"
     ]
    }
   ],
   "source": [
    "#To find length of list we used len() function\n",
    "print(len(khi_temp))"
   ]
  },
  {
   "cell_type": "code",
   "execution_count": 4,
   "id": "595bb6ea",
   "metadata": {},
   "outputs": [
    {
     "name": "stdout",
     "output_type": "stream",
     "text": [
      "[10, 20, 21, 30, 32, 28, 29, 'raza']\n"
     ]
    }
   ],
   "source": [
    "khi_temp[7] =\"raza\"\n",
    "print(khi_temp)\n",
    "##It will change the element from index 7"
   ]
  },
  {
   "cell_type": "code",
   "execution_count": 5,
   "id": "d3bfc73f",
   "metadata": {},
   "outputs": [
    {
     "name": "stdout",
     "output_type": "stream",
     "text": [
      "[10, 20, 21, 30, 32, 28, 29, 'raza', 'Muhammad']\n"
     ]
    }
   ],
   "source": [
    "##Add Element in list  we used append\n",
    "khi_temp.append(\"Muhammad\")\n",
    "print(khi_temp)\n",
    "##All add in last "
   ]
  },
  {
   "cell_type": "code",
   "execution_count": 6,
   "id": "590369bf",
   "metadata": {},
   "outputs": [
    {
     "name": "stdout",
     "output_type": "stream",
     "text": [
      "[10, 20, 21, 30, 32, 28, 29, 'raza']\n"
     ]
    }
   ],
   "source": [
    "##Remove Element in list  we used remove function .\n",
    "khi_temp.remove(\"Muhammad\")\n",
    "print(khi_temp)"
   ]
  },
  {
   "cell_type": "code",
   "execution_count": 7,
   "id": "4a7ab149",
   "metadata": {},
   "outputs": [
    {
     "name": "stdout",
     "output_type": "stream",
     "text": [
      "['ALI', 10, 20, 21, 30, 32, 28, 29, 'raza']\n"
     ]
    }
   ],
   "source": [
    "## if you want to add on particular index we used insert function\n",
    "khi_temp.insert(0,\"ALI\")\n",
    "print(khi_temp)"
   ]
  },
  {
   "cell_type": "code",
   "execution_count": 8,
   "id": "8f2d3574",
   "metadata": {},
   "outputs": [
    {
     "name": "stdout",
     "output_type": "stream",
     "text": [
      "raza\n"
     ]
    }
   ],
   "source": [
    "## if you want to get last element from list  we used pop() \n",
    "khi_temp=khi_temp.pop()\n",
    "print(khi_temp)\n"
   ]
  },
  {
   "cell_type": "code",
   "execution_count": 9,
   "id": "481ce623",
   "metadata": {},
   "outputs": [
    {
     "name": "stdout",
     "output_type": "stream",
     "text": [
      "10\n"
     ]
    }
   ],
   "source": [
    "## if you want to particular element from list  we used pop() \n",
    "khi_temp=['ALI', 10, 20, 21, 30, 32, 28, 29, 'raza']\n",
    "khi_temp1=khi_temp.pop(1)\n",
    "print(khi_temp1)\n"
   ]
  },
  {
   "cell_type": "code",
   "execution_count": 10,
   "id": "ec5521f5",
   "metadata": {},
   "outputs": [],
   "source": [
    "khi_temp=['ALI', 10, 20, 21, 30, 32, 28, 29, 'raza']"
   ]
  },
  {
   "cell_type": "code",
   "execution_count": 1,
   "id": "84619413",
   "metadata": {},
   "outputs": [
    {
     "name": "stdout",
     "output_type": "stream",
     "text": [
      "[1, 8, 4, 3, 15, 20, 25, 89, 65]\n",
      "[1, 3, 4, 8, 15, 20, 25, 65, 89]\n",
      "[89, 65, 25, 20, 15, 8, 4, 3, 1]\n"
     ]
    }
   ],
   "source": [
    "l1=[1,8,4,3,15,20,25,89,65]       #l1 is a list\n",
    "print(l1)\n",
    "\n",
    "l1.sort()\n",
    "print(l1)      #l1 after sorting\n",
    "l1.reverse()\n",
    "print(l1)"
   ]
  },
  {
   "cell_type": "markdown",
   "id": "6fb2b20a",
   "metadata": {},
   "source": [
    "# SLICING IN LIST\n"
   ]
  },
  {
   "cell_type": "code",
   "execution_count": 2,
   "id": "5216c6f8",
   "metadata": {},
   "outputs": [
    {
     "name": "stdout",
     "output_type": "stream",
     "text": [
      "o\n",
      "String Demo\n",
      "omeD gnirtS\n"
     ]
    }
   ],
   "source": [
    "x = \"String Demo\"\n",
    "# -11,-10,-9,-8,-7,-6,-5,-4,-3,-2,-1\n",
    "#  0,1,2,3,4,5,6,7,8,9,10,\n",
    "#This string variable x contains a string containing 11 characters (including spaces).\n",
    "#Since the index in a string starts from 0 to length-1, this string can be looked at as:\n",
    "\n",
    "#Note: The indexes of a string begin from 0 to (length-1) in the forward direction and -1,-2,-3,…, \n",
    "#-length in the backward direction. \n",
    "print(x[-1]) #exclude the value on -1\n",
    "\n",
    "print(x[-11:])\n",
    "print(x[::-1])"
   ]
  },
  {
   "cell_type": "code",
   "execution_count": null,
   "id": "02579302",
   "metadata": {},
   "outputs": [],
   "source": []
  },
  {
   "cell_type": "code",
   "execution_count": 10,
   "id": "7e69f96e",
   "metadata": {},
   "outputs": [
    {
     "name": "stdout",
     "output_type": "stream",
     "text": [
      "String Demo\n"
     ]
    }
   ],
   "source": [
    "print(x[:11])"
   ]
  },
  {
   "cell_type": "code",
   "execution_count": 3,
   "id": "36688053",
   "metadata": {},
   "outputs": [
    {
     "name": "stdout",
     "output_type": "stream",
     "text": [
      "amazin\n"
     ]
    }
   ],
   "source": [
    "x=\"amazing\"\n",
    "print(x[-7:-1])"
   ]
  },
  {
   "cell_type": "code",
   "execution_count": 3,
   "id": "fb102020",
   "metadata": {},
   "outputs": [
    {
     "name": "stdout",
     "output_type": "stream",
     "text": [
      "['ALI', 10, 20, 21]\n"
     ]
    }
   ],
   "source": [
    "##if i want the from index 0 to 3 \n",
    "khi_temp=['ALI', 10, 20, 21, 30, 32, 28, 29, 'raza']\n",
    "print(khi_temp[0:4])"
   ]
  },
  {
   "cell_type": "code",
   "execution_count": null,
   "id": "7087d7a9",
   "metadata": {},
   "outputs": [],
   "source": []
  },
  {
   "cell_type": "code",
   "execution_count": 13,
   "id": "a29fe17e",
   "metadata": {},
   "outputs": [
    {
     "name": "stdout",
     "output_type": "stream",
     "text": [
      "[30, 32, 28, 29, 'raza']\n"
     ]
    }
   ],
   "source": [
    "##if i want the from index 4 to last\n",
    "#inclsive\n",
    "print(khi_temp[4:])\n"
   ]
  },
  {
   "cell_type": "code",
   "execution_count": 14,
   "id": "fae4c65b",
   "metadata": {},
   "outputs": [
    {
     "data": {
      "text/plain": [
       "['ALI', 10, 20, 21]"
      ]
     },
     "execution_count": 14,
     "metadata": {},
     "output_type": "execute_result"
    }
   ],
   "source": [
    "##if i want the from index 0 to 3 \n",
    "#exclusive\n",
    "khi_temp[:4]"
   ]
  },
  {
   "cell_type": "code",
   "execution_count": 31,
   "id": "ffa6fb49",
   "metadata": {},
   "outputs": [
    {
     "data": {
      "text/plain": [
       "[29, 'raza']"
      ]
     },
     "execution_count": 31,
     "metadata": {},
     "output_type": "execute_result"
    }
   ],
   "source": [
    "#second last and last\n",
    "khi_temp[-2:]"
   ]
  },
  {
   "cell_type": "code",
   "execution_count": 32,
   "id": "5fee9047",
   "metadata": {},
   "outputs": [
    {
     "data": {
      "text/plain": [
       "[28, 29, 'raza']"
      ]
     },
     "execution_count": 32,
     "metadata": {},
     "output_type": "execute_result"
    }
   ],
   "source": [
    "#third last,second last and last\n",
    "khi_temp[-3:]"
   ]
  },
  {
   "cell_type": "code",
   "execution_count": 16,
   "id": "a48f6623",
   "metadata": {},
   "outputs": [
    {
     "name": "stdout",
     "output_type": "stream",
     "text": [
      "[10, 20, 21, 30, 32, 28, 29, 'raza']\n"
     ]
    }
   ],
   "source": [
    "#index base value delete we usee delete\n",
    "# del khi_temp[0:2]\n",
    "del khi_temp[0]\n",
    "print(khi_temp)"
   ]
  },
  {
   "cell_type": "code",
   "execution_count": null,
   "id": "1e194113",
   "metadata": {},
   "outputs": [],
   "source": []
  },
  {
   "cell_type": "code",
   "execution_count": 17,
   "id": "9f4d46db",
   "metadata": {},
   "outputs": [
    {
     "name": "stdout",
     "output_type": "stream",
     "text": [
      "[21, 30, 32, 28, 29, 'raza']\n"
     ]
    }
   ],
   "source": [
    "# del khi_temp[0:2]\n",
    "del khi_temp[0:2]\n",
    "print(khi_temp)"
   ]
  },
  {
   "cell_type": "code",
   "execution_count": 18,
   "id": "3e5decc2",
   "metadata": {},
   "outputs": [
    {
     "name": "stdout",
     "output_type": "stream",
     "text": [
      "110\n"
     ]
    }
   ],
   "source": [
    "##find max value in list \n",
    "khi_temp1=[10, 20, 21, 30, 32, 28, 29,110]\n",
    "print(max(khi_temp1)) "
   ]
  },
  {
   "cell_type": "code",
   "execution_count": 19,
   "id": "95e3db4b",
   "metadata": {},
   "outputs": [
    {
     "name": "stdout",
     "output_type": "stream",
     "text": [
      "3\n"
     ]
    }
   ],
   "source": [
    "##find min value in list \n",
    "khi_temp1=[10, 3,8,9,20, 11,18, 21, 30, 32, 28, 29,110]\n",
    "print(min(khi_temp1)) "
   ]
  },
  {
   "cell_type": "code",
   "execution_count": 20,
   "id": "66e03381",
   "metadata": {},
   "outputs": [
    {
     "name": "stdout",
     "output_type": "stream",
     "text": [
      "[3, 8, 9, 10, 11, 18, 20, 21, 28, 29, 30, 32, 110]\n"
     ]
    }
   ],
   "source": [
    "##find sort  the list (Arrange in ascending order)\n",
    "khi_temp1= [10, 3,8,9,20, 11,18, 21, 30, 32, 28, 29,110]\n",
    "khi_temp1.sort()\n",
    "print(khi_temp1)"
   ]
  },
  {
   "cell_type": "code",
   "execution_count": 21,
   "id": "1b60690f",
   "metadata": {},
   "outputs": [
    {
     "name": "stdout",
     "output_type": "stream",
     "text": [
      "['A', 'A', 'A', 'B', 'C', 'A', 'D', 'D', 'E']\n"
     ]
    }
   ],
   "source": [
    "##For Converting String in to list we used list function\n",
    "lst=\"AAABCADDE\"\n",
    "x=list(lst)\n",
    "print(x)"
   ]
  },
  {
   "cell_type": "code",
   "execution_count": 22,
   "id": "379d7422",
   "metadata": {},
   "outputs": [
    {
     "name": "stdout",
     "output_type": "stream",
     "text": [
      "['A', 'A', 'A']\n"
     ]
    }
   ],
   "source": [
    "# list1=x[0:3]\n",
    "list1=x[:3]\n",
    "print(list1)"
   ]
  },
  {
   "cell_type": "code",
   "execution_count": 23,
   "id": "2767de87",
   "metadata": {},
   "outputs": [
    {
     "name": "stdout",
     "output_type": "stream",
     "text": [
      "['B', 'C', 'A']\n"
     ]
    }
   ],
   "source": [
    "list2=x[3:6]\n",
    " \n",
    "print(list2)"
   ]
  },
  {
   "cell_type": "code",
   "execution_count": 24,
   "id": "cdf79151",
   "metadata": {},
   "outputs": [
    {
     "name": "stdout",
     "output_type": "stream",
     "text": [
      "['D', 'D', 'E']\n"
     ]
    }
   ],
   "source": [
    "# list3=x[6:9]\n",
    "list3=x[6:]\n",
    "print(list3)"
   ]
  },
  {
   "cell_type": "code",
   "execution_count": 25,
   "id": "eee7ff2e",
   "metadata": {},
   "outputs": [
    {
     "name": "stdout",
     "output_type": "stream",
     "text": [
      "['A', 'A', 'A', 'B', 'C']\n"
     ]
    }
   ],
   "source": [
    "\n",
    "list4=x[:5]\n",
    "print(list4)"
   ]
  },
  {
   "cell_type": "code",
   "execution_count": 26,
   "id": "5181dd2b",
   "metadata": {},
   "outputs": [
    {
     "name": "stdout",
     "output_type": "stream",
     "text": [
      "['A', 'D', 'D', 'E']\n"
     ]
    }
   ],
   "source": [
    "list5=x[5:]\n",
    "print(list5)\n"
   ]
  },
  {
   "cell_type": "markdown",
   "id": "6018456a",
   "metadata": {},
   "source": [
    "# TUPLES -->toople (Element are fixed not change )"
   ]
  },
  {
   "cell_type": "code",
   "execution_count": 27,
   "id": "acaba22a",
   "metadata": {},
   "outputs": [
    {
     "name": "stdout",
     "output_type": "stream",
     "text": [
      "(1, 2, 3)\n",
      "[1, 2, 3]\n"
     ]
    }
   ],
   "source": [
    "#TUPLES -->toople (Element are fixed not change )\n",
    "x=[1,2,3] \n",
    "\n",
    "#change to tuple\n",
    "y=tuple(x)\n",
    "\n",
    "#change tupple to list\n",
    "x=list(y)\n",
    "\n",
    "\n",
    "print(y)\n",
    "print(x)"
   ]
  },
  {
   "cell_type": "code",
   "execution_count": 28,
   "id": "e65c9f0e",
   "metadata": {},
   "outputs": [
    {
     "name": "stdout",
     "output_type": "stream",
     "text": [
      "('Raza', 'ALi', 1, 2)\n"
     ]
    }
   ],
   "source": [
    "##tuples is a list but we write in () round bracket\n",
    "tp=('Raza',\"ALi\",1,2)\n",
    "print(tp)\n",
    "\n"
   ]
  },
  {
   "cell_type": "code",
   "execution_count": 29,
   "id": "efe17aba",
   "metadata": {},
   "outputs": [
    {
     "ename": "TypeError",
     "evalue": "'tuple' object does not support item assignment",
     "output_type": "error",
     "traceback": [
      "\u001b[1;31m---------------------------------------------------------------------------\u001b[0m",
      "\u001b[1;31mTypeError\u001b[0m                                 Traceback (most recent call last)",
      "Input \u001b[1;32mIn [29]\u001b[0m, in \u001b[0;36m<cell line: 1>\u001b[1;34m()\u001b[0m\n\u001b[1;32m----> 1\u001b[0m tp[\u001b[38;5;241m1\u001b[39m]\u001b[38;5;241m=\u001b[39m\u001b[38;5;241m5\u001b[39m\n\u001b[0;32m      2\u001b[0m \u001b[38;5;28mprint\u001b[39m(tp)\n",
      "\u001b[1;31mTypeError\u001b[0m: 'tuple' object does not support item assignment"
     ]
    }
   ],
   "source": [
    "tp[1]=5\n",
    "print(tp)"
   ]
  },
  {
   "cell_type": "markdown",
   "id": "91afc64e",
   "metadata": {},
   "source": [
    "# For loops"
   ]
  },
  {
   "cell_type": "code",
   "execution_count": 33,
   "id": "95695d64",
   "metadata": {},
   "outputs": [
    {
     "name": "stdout",
     "output_type": "stream",
     "text": [
      "Enter the city karachi\n",
      "It's one of the cleanest cities\n"
     ]
    }
   ],
   "source": [
    "#jsut through if else example how loop help us\n",
    "city_to_check =input(\"Enter the city \")\n",
    "cleanest_cities = [\"karachi\", \"lahore\", \"islamabad\",\"peshawar\", \"quetta\"]\n",
    "if city_to_check == cleanest_cities[0]:\n",
    "    print(\"It's one of the cleanest cities\")\n",
    "    \n",
    "elif city_to_check == cleanest_cities[1]: \n",
    "    print(\"It's one of the cleanest cities\")\n",
    "elif city_to_check == cleanest_cities[2]:\n",
    "    print(\"It's one of the cleanest cities\")\n",
    "elif city_to_check == cleanest_cities[3]:\n",
    "    print(\"It's one of the cleanest cities\")\n",
    "elif city_to_check == cleanest_cities[4]:\n",
    "         print(\"It's one of the cleanest cities\")\n",
    "\n",
    "##It takes times check all condition         "
   ]
  },
  {
   "cell_type": "code",
   "execution_count": null,
   "id": "ffec0359",
   "metadata": {},
   "outputs": [],
   "source": [
    "#syntax for <variable> in <list>\n",
    "#variable will contain a single value in each iteration\n",
    "#i.e first iteration , firstvalue ,second iteration  second value and so on\n",
    "#common practice or notation \n",
    "#use purals for list and singular as variable name\n"
   ]
  },
  {
   "cell_type": "code",
   "execution_count": 34,
   "id": "54177922",
   "metadata": {},
   "outputs": [
    {
     "name": "stdout",
     "output_type": "stream",
     "text": [
      "Enter the city karachi\n",
      "It's one of the cleanest cities\n"
     ]
    }
   ],
   "source": [
    "##Now through loops\n",
    "city_to_check =input(\"Enter the city \")\n",
    "cleanest_cities = [\"karachi\", \"lahore\", \"islamabad\",\"peshawar\", \"quetta\"]\n",
    "##clean_city --> just a variable name \n",
    "##in a kewword --> to check a value present in cleanest_cities\n",
    "## all value come in clean_city from cleanest_cities one by one \n",
    "for clean_city in  cleanest_cities:\n",
    "    if city_to_check.lower() ==  clean_city:\n",
    "        print(\"It's one of the cleanest cities\")\n",
    "        break\n",
    "    else :\n",
    "        print(\"It is not one of the cleanest cities\")"
   ]
  },
  {
   "cell_type": "code",
   "execution_count": 35,
   "id": "b300ae57",
   "metadata": {},
   "outputs": [
    {
     "name": "stdout",
     "output_type": "stream",
     "text": [
      "['karachi', 'sukkar', 'kashmir']\n",
      "['multan', 'lahore', 'islamabad', 'quetta', 'ziarat', 'swat', 'naran']\n"
     ]
    }
   ],
   "source": [
    "cities=[\"karachi\",\"multan\",\"lahore\",\"islamabad\",\"sukkar\",\"kashmir\",\"quetta\",\"ziarat\",\"swat\",\"naran\"]\n",
    "k_in_cities=[]\n",
    "k_not_in_cities=[]\n",
    "for city in cities :    ##in is used for check\n",
    "    if \"k\" in city:\n",
    "        k_in_cities.append(city)\n",
    "      \n",
    "    else: \n",
    "        k_not_in_cities.append(city)\n",
    "        \n",
    "        \n",
    "        \n",
    "print(k_in_cities)   \n",
    "print( k_not_in_cities)\n",
    "        \n",
    "    \n",
    "        \n",
    "        \n",
    "        "
   ]
  },
  {
   "cell_type": "code",
   "execution_count": 36,
   "id": "639ba574",
   "metadata": {},
   "outputs": [
    {
     "name": "stdout",
     "output_type": "stream",
     "text": [
      "Enter name to find index asad\n",
      "3\n",
      "The Student Name is  asad \n",
      " The Student Age is  14.9 \n",
      " The Students Marks 60\n"
     ]
    }
   ],
   "source": [
    "Student_name=input(\"Enter name to find index \")\n",
    "names=['arif','kamran','samran','asad','imran','sameer','nasir','rafeeq','rasheed','fareed']\n",
    "##For location\n",
    "loc=names.index(Student_name)\n",
    "print(loc)\n",
    "age=[15.6,16.7,15.8,14.9,16.0,15.1,15.2,14.3,15.4,15.5]\n",
    "loc1=age[loc]\n",
    "marks=[70,80,90,60,65,67,68,80,96,97]\n",
    "\n",
    "loc2=marks[loc]\n",
    "\n",
    "print(\"The Student Name is \",Student_name,\"\\n\",\"The Student Age is \", loc1 , \"\\n\",\"The Students Marks\",loc2)\n",
    "\n",
    "\n",
    "#scalar variable: single value variable\n",
    "#vector variable :Multi value variable \n",
    "\n"
   ]
  },
  {
   "cell_type": "code",
   "execution_count": 37,
   "id": "08b90fd1",
   "metadata": {},
   "outputs": [
    {
     "name": "stdout",
     "output_type": "stream",
     "text": [
      "['Ali Raza', 'Ali ALi', 'Ali Mujtaba', 'Ali zehra', 'Muhammad Raza', 'Muhammad ALi', 'Muhammad Mujtaba', 'Muhammad zehra', 'Hassan Raza', 'Hassan ALi', 'Hassan Mujtaba', 'Hassan zehra', 'Midhat Raza', 'Midhat ALi', 'Midhat Mujtaba', 'Midhat zehra']\n"
     ]
    }
   ],
   "source": [
    "##Nested loops\n",
    "firstnames=[\"Ali\",\"Muhammad\",\"Hassan\",\"Midhat\"]\n",
    "last_names=[\"Raza\",\"ALi\",\"Mujtaba\",\"zehra\"]\n",
    "full_names=[]\n",
    "for firstname in firstnames:\n",
    "    for last_name in last_names:\n",
    "        full_names.append(firstname +\" \"+last_name )\n",
    "      \n",
    "        \n",
    "print(full_names)\n",
    "\n",
    "\n"
   ]
  },
  {
   "cell_type": "markdown",
   "id": "6c7b8371",
   "metadata": {},
   "source": [
    "# Changing Case\n"
   ]
  },
  {
   "cell_type": "code",
   "execution_count": 38,
   "id": "507398da",
   "metadata": {},
   "outputs": [
    {
     "name": "stdout",
     "output_type": "stream",
     "text": [
      "muhammad mudassir raza\n",
      "doing bachelor in computer science\n",
      "MUHAMMAD MUDASSIR RAZA\n",
      "DOING BACHELOR IN COMPUTER SCIENCE\n",
      "Muhammad Mudassir Raza\n",
      "Doing Bachelor In Computer Science\n",
      "Muhammad mudassir raza\n",
      "Doing bachelor in computer science\n"
     ]
    }
   ],
   "source": [
    "\n",
    "name=\"muhammad mudassir raza\"\n",
    "study=\"doing bachelor in computer science\"\n",
    "print(name.lower())\n",
    "print(study.lower())\n",
    "\n",
    "print(name.upper())\n",
    "print(study.upper())\n",
    "\n",
    "print(name.title())\n",
    "print(study.title())\n",
    "\n",
    "print(name.capitalize())\n",
    "print(study.capitalize())\n"
   ]
  },
  {
   "cell_type": "code",
   "execution_count": 1,
   "id": "8053d99e",
   "metadata": {},
   "outputs": [
    {
     "name": "stdout",
     "output_type": "stream",
     "text": [
      "False\n",
      "3\n",
      "Harry is a good boy\n",
      "Harry are a good boy\n"
     ]
    }
   ],
   "source": [
    "mystr = \"Harry is a good boy\"\n",
    "# print(len(mystr))\n",
    "# print(mystr[::-2])\n",
    "\n",
    "print(mystr.endswith(\"bdoy\"))\n",
    "print(mystr.count(\"o\"))\n",
    "print(mystr.capitalize())\n",
    "print(mystr.replace(\"is\", \"are\"))"
   ]
  },
  {
   "cell_type": "code",
   "execution_count": 39,
   "id": "b906b9f3",
   "metadata": {},
   "outputs": [
    {
     "name": "stdout",
     "output_type": "stream",
     "text": [
      "[0.2198852772466539, 0.23255813953488372, 0.2966101694915254, 0.27079303675048355, 0.15502183406113537, 0.17288801571709234]\n",
      "0.2246260788002957\n"
     ]
    }
   ],
   "source": [
    "# LINEAR REGRESION\n",
    "sizes =[523,645,708,1034,2290,2545] #Y=DEPENDENT VARIABLE\n",
    "prices=[115,150,210,280,355,440]   #X=INDEPENDENT VARIABLE\n",
    "#y=mx+c\n",
    "# logic:prices=size *m +c\n",
    "# logic:c=0  \n",
    "#logic: m=prices/sizes -c #ignore c because it is zero\n",
    "\n",
    "multipliers=[]\n",
    "# m=0\n",
    "loc=0\n",
    "\n",
    "for price in prices: \n",
    "    m=price/sizes[loc]\n",
    "    multipliers.append(m)\n",
    "    loc=loc +1\n",
    "    \n",
    "print(multipliers)\n",
    "\n",
    "multiplier=sum(multipliers)/len(multipliers)  ##mean\n",
    "print(multiplier)  \n",
    "    \n"
   ]
  },
  {
   "cell_type": "code",
   "execution_count": 40,
   "id": "3d870fdc",
   "metadata": {},
   "outputs": [
    {
     "name": "stdout",
     "output_type": "stream",
     "text": [
      "[0.2198852772466539, 0.23255813953488372, 0.2966101694915254, 0.27079303675048355, 0.15502183406113537, 0.17288801571709234]\n",
      "0.2246260788002957\n"
     ]
    }
   ],
   "source": [
    "#Another way\n",
    "\n",
    "sizes =[523,645,708,1034,2290,2545]\n",
    "prices=[115,150,210,280,355,440]  \n",
    "# logic:prices=size *m +c\n",
    "# logic:c=0  \n",
    "#logic: m=price/size -c #ignore c because it is zero\n",
    "multipliers=[]\n",
    "# m=0\n",
    "\n",
    "\n",
    "for loc in range(len(prices)): \n",
    "    m=prices[loc]/sizes[loc]\n",
    "    multipliers.append(m)\n",
    "    \n",
    "print(multipliers)\n",
    "multiplier=sum(multipliers)/len(multipliers)\n",
    "print(multiplier)  "
   ]
  },
  {
   "cell_type": "code",
   "execution_count": 4,
   "id": "c9929a45",
   "metadata": {},
   "outputs": [
    {
     "name": "stdout",
     "output_type": "stream",
     "text": [
      "117.4658\n"
     ]
    }
   ],
   "source": [
    "#testing\n",
    "price=0.2246 *523\n",
    "print(price)"
   ]
  },
  {
   "cell_type": "code",
   "execution_count": 41,
   "id": "20518b76",
   "metadata": {},
   "outputs": [
    {
     "name": "stdout",
     "output_type": "stream",
     "text": [
      "0.2246260788002957\n",
      "predicted:  117.47943921255465 : Actual  115\n",
      "predicted:  144.8838208261907 : Actual  150\n",
      "predicted:  159.03526379060935 : Actual  210\n",
      "predicted:  232.26336547950575 : Actual  280\n",
      "predicted:  514.3937204526771 : Actual  355\n",
      "predicted:  571.6733705467525 : Actual  440\n"
     ]
    }
   ],
   "source": [
    "sizes =[523,645,708,1034,2290,2545]\n",
    "prices=[115,150,210,280,355,440] \n",
    "#y=mx+c\n",
    "# logic:prices=size *m +c\n",
    "# logic:c=0  \n",
    "#logic: m=price/size -c #ignore c because it is zero\n",
    "# x=independent variable\n",
    "# y=dependent variable\n",
    "multipliers=[]\n",
    "# m=0\n",
    "\n",
    "\n",
    "for loc in range(len(prices)): \n",
    "    m=prices[loc]/sizes[loc]\n",
    "    multipliers.append(m)\n",
    "    \n",
    "# print(multipliers)\n",
    "avg_multiplier=sum(multipliers)/len(multipliers)  #mean   (slope)\n",
    "print(avg_multiplier)\n",
    "\n",
    "\n",
    "#testing\n",
    "\n",
    "for loc in range(len(prices)): \n",
    "    price=avg_multiplier*sizes[loc]\n",
    "    print(\"predicted: \",price, \": Actual \",prices[loc])\n",
    "    \n",
    "    "
   ]
  },
  {
   "cell_type": "code",
   "execution_count": null,
   "id": "b065bc10",
   "metadata": {},
   "outputs": [],
   "source": [
    "#mathematical fundamental mathematics"
   ]
  },
  {
   "cell_type": "code",
   "execution_count": 42,
   "id": "f4b000e7",
   "metadata": {},
   "outputs": [
    {
     "name": "stdout",
     "output_type": "stream",
     "text": [
      "Guess the number between 1 to 30: 5\n",
      "Your guess is too low\n",
      "Guess the number between 1 to 30: 15\n",
      "Your guess is too low\n",
      "Guess the number between 1 to 30: 25\n",
      "Your guess is too low\n",
      "Sorry! You LOOSE\n",
      "Correct number is 26\n"
     ]
    }
   ],
   "source": [
    "import random\n",
    "random_number = random.randrange(1,30)\n",
    "flag = False\n",
    "for i in range(1,4):\n",
    "    guess = int(input(\"Guess the number between 1 to 30: \"))\n",
    "    if guess == random_number:\n",
    "        flag = True\n",
    "        break\n",
    "    elif guess < random_number:\n",
    "        print(\"Your guess is too low\")\n",
    "    else:\n",
    "        print(\"Your guess is too high\")\n",
    "if flag:\n",
    "    print(\"Congratulations You win!\")\n",
    "else:\n",
    "    print(\"Sorry! You LOOSE\")\n",
    "    \n",
    "    print(\"Correct number is\", random_number)"
   ]
  },
  {
   "cell_type": "code",
   "execution_count": 46,
   "id": "e9edd9fe",
   "metadata": {},
   "outputs": [
    {
     "ename": "TypeError",
     "evalue": "add() got an unexpected keyword argument 'num1'",
     "output_type": "error",
     "traceback": [
      "\u001b[1;31m---------------------------------------------------------------------------\u001b[0m",
      "\u001b[1;31mTypeError\u001b[0m                                 Traceback (most recent call last)",
      "Input \u001b[1;32mIn [46]\u001b[0m, in \u001b[0;36m<cell line: 5>\u001b[1;34m()\u001b[0m\n\u001b[0;32m      2\u001b[0m     total\u001b[38;5;241m=\u001b[39mten\u001b[38;5;241m+\u001b[39meight\n\u001b[0;32m      3\u001b[0m     \u001b[38;5;28mprint\u001b[39m(total)\n\u001b[1;32m----> 5\u001b[0m \u001b[43madd\u001b[49m\u001b[43m(\u001b[49m\u001b[43mnum1\u001b[49m\u001b[38;5;241;43m=\u001b[39;49m\u001b[38;5;241;43m2\u001b[39;49m\u001b[43m,\u001b[49m\u001b[43mnum2\u001b[49m\u001b[38;5;241;43m=\u001b[39;49m\u001b[38;5;241;43m3\u001b[39;49m\u001b[43m)\u001b[49m\n",
      "\u001b[1;31mTypeError\u001b[0m: add() got an unexpected keyword argument 'num1'"
     ]
    }
   ],
   "source": [
    "def add(ten,eight):\n",
    "    total=ten+eight\n",
    "    print(total)\n",
    "    \n",
    "add(num1=2,num2=3) "
   ]
  },
  {
   "cell_type": "code",
   "execution_count": 1,
   "id": "ae264c9d",
   "metadata": {},
   "outputs": [
    {
     "name": "stdout",
     "output_type": "stream",
     "text": [
      "0 1\n",
      "1 1\n",
      "2 2\n",
      "3 6\n",
      "4 24\n",
      "5 120\n",
      "6 720\n",
      "7 5040\n",
      "8 40320\n",
      "9 362880\n"
     ]
    }
   ],
   "source": [
    "\"\"\"\n",
    "2.Question 2\n",
    "Fill in the blanks to make the factorial function return the factorial of n. \n",
    "Then, print the first 10 factorials (from 0 to 9) with the corresponding number. \n",
    "Remember that the factorial of a number is defined as the product of an integer and all integers before it. For example, \n",
    "the factorial of five (5!) is equal to 1*2*3*4*5=120. Also recall that the factorial of zero (0!) is equal to 1.\n",
    "\"\"\"\n",
    "def factorial(n):\n",
    "    result = 1\n",
    "    for x in range(1,n+1):\n",
    "        result = result * x\n",
    "    return result\n",
    "\n",
    "for n in range(0,10):\n",
    "    print(n, factorial(n+0))"
   ]
  },
  {
   "cell_type": "code",
   "execution_count": 2,
   "id": "05d83b12",
   "metadata": {},
   "outputs": [
    {
     "name": "stdout",
     "output_type": "stream",
     "text": [
      "1\n",
      "8\n",
      "27\n",
      "64\n",
      "125\n",
      "216\n",
      "343\n",
      "512\n",
      "729\n",
      "1000\n"
     ]
    }
   ],
   "source": [
    "\"\"\"\n",
    "3.Question 3\n",
    "Write a script that prints the first 10 cube numbers (x**3), starting with x=1 and ending with x=10.\n",
    "\"\"\"\n",
    "for x in range(1,11):\n",
    "  print(x**3)"
   ]
  },
  {
   "cell_type": "code",
   "execution_count": 3,
   "id": "b84afadc",
   "metadata": {},
   "outputs": [
    {
     "name": "stdout",
     "output_type": "stream",
     "text": [
      "0\n",
      "7\n",
      "14\n",
      "21\n",
      "28\n",
      "35\n",
      "42\n",
      "49\n",
      "56\n",
      "63\n",
      "70\n",
      "77\n",
      "84\n",
      "91\n",
      "98\n"
     ]
    }
   ],
   "source": [
    "\"\"\"\n",
    "4.Question 4\n",
    "Write a script that prints the multiples of 7 between 0 and 100. \n",
    "Print one multiple per line and avoid printing any numbers that aren't multiples of 7. \n",
    "Remember that 0 is also a multiple of 7.\n",
    "\"\"\"\n",
    "\n",
    "for num in range(0,100):\n",
    "  if(num % 7==0):\n",
    "    print(num)\n",
    "  else:\n",
    "    num= num + 1"
   ]
  },
  {
   "cell_type": "code",
   "execution_count": 13,
   "id": "9c6b6f3e",
   "metadata": {},
   "outputs": [
    {
     "ename": "NameError",
     "evalue": "name 'create_user' is not defined",
     "output_type": "error",
     "traceback": [
      "\u001b[1;31m---------------------------------------------------------------------------\u001b[0m",
      "\u001b[1;31mNameError\u001b[0m                                 Traceback (most recent call last)",
      "Input \u001b[1;32mIn [13]\u001b[0m, in \u001b[0;36m<cell line: 9>\u001b[1;34m()\u001b[0m\n\u001b[0;32m      6\u001b[0m         \u001b[38;5;28;01melse\u001b[39;00m:\n\u001b[0;32m      7\u001b[0m             \u001b[38;5;28mprint\u001b[39m(\u001b[38;5;124m\"\u001b[39m\u001b[38;5;124mAttempt \u001b[39m\u001b[38;5;124m\"\u001b[39m \u001b[38;5;241m+\u001b[39m \u001b[38;5;28mstr\u001b[39m(n) \u001b[38;5;241m+\u001b[39m \u001b[38;5;124m\"\u001b[39m\u001b[38;5;124m failed\u001b[39m\u001b[38;5;124m\"\u001b[39m)\n\u001b[1;32m----> 9\u001b[0m retry(\u001b[43mcreate_user\u001b[49m, \u001b[38;5;241m3\u001b[39m)\n\u001b[0;32m     10\u001b[0m retry(stop_service, \u001b[38;5;241m5\u001b[39m)\n",
      "\u001b[1;31mNameError\u001b[0m: name 'create_user' is not defined"
     ]
    }
   ],
   "source": [
    "def retry(operation, attempts):\n",
    "    for n in range(attempts):\n",
    "        if operation():\n",
    "            print(\"Attempt \" + str(n) + \" succeeded\")\n",
    "            break\n",
    "        else:\n",
    "            print(\"Attempt \" + str(n) + \" failed\")\n",
    "\n",
    "retry(create_user, 3)\n",
    "retry(stop_service, 5)"
   ]
  },
  {
   "cell_type": "code",
   "execution_count": null,
   "id": "892cb4bc",
   "metadata": {},
   "outputs": [],
   "source": [
    "def pig_latin(text):\n",
    "  say = \"\"\n",
    "  # Separate the text into words\n",
    "  words = list(text)\n",
    "  for word in words:\n",
    "    # Create the pig latin word and add it to the list\n",
    "    ___\n",
    "    # Turn the list back into a phrase\n",
    "  return ___\n",
    "\t\t\n",
    "print(pig_latin(\"hello how are you\")) # Should be \"ellohay owhay reaay ouyay\"\n",
    "print(pig_latin(\"programming in python is fun\")) # Should be \"rogrammingpay niay ythonpay siay unfay\""
   ]
  },
  {
   "cell_type": "code",
   "execution_count": null,
   "id": "a9904844",
   "metadata": {},
   "outputs": [],
   "source": [
    "#convert list to string\n",
    "def group_list(group, users):\n",
    "  members = ' \"'+group+\": \" +  ' '.join(users)+' \"'\n",
    "  return members\n",
    "\n",
    "print(group_list(\"Marketing\", [\"Mike\", \"Karen\", \"Jake\", \"Tasha\"])) # Should be \"Marketing: Mike, Karen, Jake, Tasha\"\n",
    "print(group_list(\"Engineering\", [\"Kim\", \"Jay\", \"Tom\"])) # Should be \"Engineering: Kim, Jay, Tom\"\n",
    "print(group_list(\"Users\", \"\")) # Should be \"Users:\""
   ]
  },
  {
   "cell_type": "code",
   "execution_count": 21,
   "id": "ab974acd",
   "metadata": {},
   "outputs": [
    {
     "name": "stdout",
     "output_type": "stream",
     "text": [
      "Ken is  30 years old and works as Chef\n",
      "Pat is  35 years old and works as Lawyer\n",
      "Amanda is  25 years old and works as Engineer\n"
     ]
    },
    {
     "data": {
      "text/plain": [
       "'\\nOutput should match:\\nKen is 30 years old and works as Chef\\nPat is 35 years old and works as Lawyer\\nAmanda is 25 years old and works as Engineer\\n'"
      ]
     },
     "execution_count": 21,
     "metadata": {},
     "output_type": "execute_result"
    }
   ],
   "source": [
    "def guest_list(guests):\n",
    "    for guest in guests:\n",
    "        print(\"{name} is  {age} years old and works as {designation}\".format(name=guest[0],age=guest[1], designation=guest[2]))\n",
    " \n",
    "\n",
    "  \n",
    "\n",
    "guest_list([('Ken', 30, \"Chef\"), (\"Pat\", 35, 'Lawyer'), ('Amanda', 25, \"Engineer\")])\n",
    "\n",
    "#Click Run to submit code\n",
    "\"\"\"\n",
    "Output should match:\n",
    "Ken is 30 years old and works as Chef\n",
    "Pat is 35 years old and works as Lawyer\n",
    "Amanda is 25 years old and works as Engineer\n",
    "\"\"\" "
   ]
  },
  {
   "cell_type": "code",
   "execution_count": 22,
   "id": "75bb956b",
   "metadata": {},
   "outputs": [
    {
     "name": "stdout",
     "output_type": "stream",
     "text": [
      "['program.c', 'stdio.h', 'sample.h', 'a.out', 'math.h', 'hpp.out']\n"
     ]
    }
   ],
   "source": [
    "filenames = [\"program.c\", \"stdio.hpp\", \"sample.hpp\", \"a.out\", \"math.hpp\", \"hpp.out\"]\n",
    "# Generate newfilenames as a list containing the new filenames\n",
    "# using as many lines of code as your chosen method requires.\n",
    "filenames = [i.replace(\".hpp\",\".h\") for i in filenames] \n",
    "\n",
    "print(filenames) \n",
    "# Should be [\"program.c\", \"stdio.h\", \"sample.h\", \"a.out\", \"math.h\", \"hpp.out\"]"
   ]
  },
  {
   "cell_type": "code",
   "execution_count": null,
   "id": "d8755889",
   "metadata": {},
   "outputs": [],
   "source": [
    "def group_list(group, users):\n",
    "  \n",
    "    return \"{}: \".format(group) + ','.join(users)\n",
    "\n",
    "print(group_list(\"Marketing\", [\"Mike\", \"Karen\", \"Jake\", \"Tasha\"])) # Should be \"Marketing: Mike, Karen, Jake, Tasha\"\n",
    "print(group_list(\"Engineering\", [\"Kim\", \"Jay\", \"Tom\"])) # Should be \"Engineering: Kim, Jay, Tom\"\n",
    "print(group_list(\"Users\", \"\")) # Should be \"Users:\""
   ]
  },
  {
   "cell_type": "code",
   "execution_count": 24,
   "id": "2d1b7192",
   "metadata": {},
   "outputs": [],
   "source": [
    "def combine_lists(list1, list2):\n",
    "  # Generate a new list containing the elements of list2\n",
    "  # Followed by the elements of list1 in reverse order\n",
    "  new_list = list2\n",
    "  for i in reversed(range(len(list1))):\n",
    "    new_list.append(list1[i])\n",
    "  return new_list\n",
    "\n",
    "Jamies_list = [\"Alice\", \"Cindy\", \"Bobby\", \"Jan\", \"Peter\"]\n",
    "Drews_list = [\"Mike\", \"Carol\", \"Greg\", \"Marcia\"]"
   ]
  },
  {
   "cell_type": "code",
   "execution_count": 25,
   "id": "cd6f2ca8",
   "metadata": {},
   "outputs": [],
   "source": [
    "colors = [\"red\", \"white\", \"blue\"]\n",
    "colors.insert(2, \"yellow\")\n"
   ]
  },
  {
   "cell_type": "code",
   "execution_count": 26,
   "id": "2b28911b",
   "metadata": {},
   "outputs": [
    {
     "data": {
      "text/plain": [
       "['red', 'white', 'yellow', 'blue']"
      ]
     },
     "execution_count": 26,
     "metadata": {},
     "output_type": "execute_result"
    }
   ],
   "source": [
    "colors\n"
   ]
  },
  {
   "cell_type": "code",
   "execution_count": null,
   "id": "c85be240",
   "metadata": {},
   "outputs": [],
   "source": []
  }
 ],
 "metadata": {
  "kernelspec": {
   "display_name": "Python 3 (ipykernel)",
   "language": "python",
   "name": "python3"
  },
  "language_info": {
   "codemirror_mode": {
    "name": "ipython",
    "version": 3
   },
   "file_extension": ".py",
   "mimetype": "text/x-python",
   "name": "python",
   "nbconvert_exporter": "python",
   "pygments_lexer": "ipython3",
   "version": "3.9.12"
  }
 },
 "nbformat": 4,
 "nbformat_minor": 5
}
