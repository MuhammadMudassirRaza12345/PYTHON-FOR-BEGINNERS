{
 "cells": [
  {
   "cell_type": "markdown",
   "id": "c741679b",
   "metadata": {},
   "source": [
    "## 1. LIST\n",
    "## 2. TUPLES \n"
   ]
  },
  {
   "cell_type": "markdown",
   "id": "c4257a82",
   "metadata": {},
   "source": [
    "### 1. LIST\n",
    "\n",
    "- List is like an array consist of group of element"
   ]
  },
  {
   "cell_type": "code",
   "execution_count": 1,
   "id": "2ee54dd4",
   "metadata": {},
   "outputs": [
    {
     "name": "stdout",
     "output_type": "stream",
     "text": [
      "[10, 20, 21, 30, 32, 28, 29, 'Pakistan']\n"
     ]
    }
   ],
   "source": [
    "khi_temp  = [10,20,21,30,32,28,29,\"Pakistan\"]   #A list consit of nos and string\n",
    "print(khi_temp)"
   ]
  },
  {
   "cell_type": "code",
   "execution_count": 2,
   "id": "eeed0682",
   "metadata": {},
   "outputs": [
    {
     "name": "stdout",
     "output_type": "stream",
     "text": [
      "21\n"
     ]
    }
   ],
   "source": [
    "#want to print particular element from list\n",
    "print(khi_temp[2])"
   ]
  },
  {
   "cell_type": "code",
   "execution_count": 3,
   "id": "36aa9fc8",
   "metadata": {},
   "outputs": [
    {
     "name": "stdout",
     "output_type": "stream",
     "text": [
      "8\n"
     ]
    }
   ],
   "source": [
    "#To find length of list we used len() function\n",
    "print(len(khi_temp))"
   ]
  },
  {
   "cell_type": "code",
   "execution_count": 4,
   "id": "595bb6ea",
   "metadata": {},
   "outputs": [
    {
     "name": "stdout",
     "output_type": "stream",
     "text": [
      "[10, 20, 21, 30, 32, 28, 29, 'raza']\n"
     ]
    }
   ],
   "source": [
    "khi_temp[7] =\"raza\"\n",
    "print(khi_temp)\n",
    "##It will change the element from index 7"
   ]
  },
  {
   "cell_type": "code",
   "execution_count": 5,
   "id": "d3bfc73f",
   "metadata": {},
   "outputs": [
    {
     "name": "stdout",
     "output_type": "stream",
     "text": [
      "[10, 20, 21, 30, 32, 28, 29, 'raza', 'Muhammad']\n"
     ]
    }
   ],
   "source": [
    "##Add Element in list  we used append\n",
    "khi_temp.append(\"Muhammad\")\n",
    "print(khi_temp)\n",
    "##All add in last "
   ]
  },
  {
   "cell_type": "code",
   "execution_count": 6,
   "id": "590369bf",
   "metadata": {},
   "outputs": [
    {
     "name": "stdout",
     "output_type": "stream",
     "text": [
      "[10, 20, 21, 30, 32, 28, 29, 'raza']\n"
     ]
    }
   ],
   "source": [
    "##Remove Element in list  we used remove function .\n",
    "khi_temp.remove(\"Muhammad\")\n",
    "print(khi_temp)"
   ]
  },
  {
   "cell_type": "code",
   "execution_count": 7,
   "id": "4a7ab149",
   "metadata": {},
   "outputs": [
    {
     "name": "stdout",
     "output_type": "stream",
     "text": [
      "['ALI', 10, 20, 21, 30, 32, 28, 29, 'raza']\n"
     ]
    }
   ],
   "source": [
    "## if you want to add on particular index we used insert function\n",
    "khi_temp.insert(0,\"ALI\")\n",
    "print(khi_temp)"
   ]
  },
  {
   "cell_type": "code",
   "execution_count": 8,
   "id": "8f2d3574",
   "metadata": {},
   "outputs": [
    {
     "name": "stdout",
     "output_type": "stream",
     "text": [
      "raza\n"
     ]
    }
   ],
   "source": [
    "## if you want to get last element from list  we used pop() \n",
    "khi_temp=khi_temp.pop()\n",
    "print(khi_temp)\n"
   ]
  },
  {
   "cell_type": "code",
   "execution_count": 9,
   "id": "481ce623",
   "metadata": {},
   "outputs": [
    {
     "name": "stdout",
     "output_type": "stream",
     "text": [
      "10\n"
     ]
    }
   ],
   "source": [
    "## if you want to particular element from list  we used pop() \n",
    "khi_temp=['ALI', 10, 20, 21, 30, 32, 28, 29, 'raza']\n",
    "khi_temp1=khi_temp.pop(1)\n",
    "print(khi_temp1)\n"
   ]
  },
  {
   "cell_type": "code",
   "execution_count": 10,
   "id": "ec5521f5",
   "metadata": {},
   "outputs": [],
   "source": [
    "khi_temp=['ALI', 10, 20, 21, 30, 32, 28, 29, 'raza']"
   ]
  },
  {
   "cell_type": "code",
   "execution_count": 4,
   "id": "84619413",
   "metadata": {},
   "outputs": [
    {
     "name": "stdout",
     "output_type": "stream",
     "text": [
      "[1, 8, 4, 3, 15, 20, 25, 89, 65]\n",
      "[65, 89, 25, 20, 15, 3, 4, 8, 1]\n",
      "[1, 3, 4, 8, 15, 20, 25, 65, 89]\n",
      "[89, 65, 25, 20, 15, 8, 4, 3, 1]\n"
     ]
    }
   ],
   "source": [
    "l1=[1,8,4,3,15,20,25,89,65]       #l1 is a list\n",
    "print(l1)\n",
    "\n",
    "l1.reverse()\n",
    "print(l1)\n",
    "\n",
    "# sort function is used to sort the list\n",
    "l1.sort()   # Ascending order\n",
    "print(l1)      #l1 after sorting\n",
    "\n",
    "# or\n",
    "l1.sort(reverse=True)  # Descending order\n",
    "print(l1) \n",
    "\n",
    "\n"
   ]
  },
  {
   "cell_type": "markdown",
   "id": "6fb2b20a",
   "metadata": {},
   "source": [
    "# SLICING IN LIST\n"
   ]
  },
  {
   "cell_type": "code",
   "execution_count": 2,
   "id": "5216c6f8",
   "metadata": {},
   "outputs": [
    {
     "name": "stdout",
     "output_type": "stream",
     "text": [
      "o\n",
      "String Demo\n",
      "omeD gnirtS\n"
     ]
    }
   ],
   "source": [
    "x = \"String Demo\"\n",
    "# -11,-10,-9,-8,-7,-6,-5,-4,-3,-2,-1\n",
    "#  0,1,2,3,4,5,6,7,8,9,10,\n",
    "#This string variable x contains a string containing 11 characters (including spaces).\n",
    "#Since the index in a string starts from 0 to length-1, this string can be looked at as:\n",
    "\n",
    "#Note: The indexes of a string begin from 0 to (length-1) in the forward direction and -1,-2,-3,…, \n",
    "#-length in the backward direction. \n",
    "print(x[-1]) #exclude the value on -1\n",
    "\n",
    "print(x[-11:])\n",
    "print(x[::-1])"
   ]
  },
  {
   "cell_type": "code",
   "execution_count": null,
   "id": "02579302",
   "metadata": {},
   "outputs": [],
   "source": []
  },
  {
   "cell_type": "code",
   "execution_count": 10,
   "id": "7e69f96e",
   "metadata": {},
   "outputs": [
    {
     "name": "stdout",
     "output_type": "stream",
     "text": [
      "String Demo\n"
     ]
    }
   ],
   "source": [
    "print(x[:11])"
   ]
  },
  {
   "cell_type": "code",
   "execution_count": 3,
   "id": "36688053",
   "metadata": {},
   "outputs": [
    {
     "name": "stdout",
     "output_type": "stream",
     "text": [
      "amazin\n"
     ]
    }
   ],
   "source": [
    "x=\"amazing\"\n",
    "print(x[-7:-1])"
   ]
  },
  {
   "cell_type": "code",
   "execution_count": 3,
   "id": "fb102020",
   "metadata": {},
   "outputs": [
    {
     "name": "stdout",
     "output_type": "stream",
     "text": [
      "['ALI', 10, 20, 21]\n"
     ]
    }
   ],
   "source": [
    "##if i want the from index 0 to 3 \n",
    "khi_temp=['ALI', 10, 20, 21, 30, 32, 28, 29, 'raza']\n",
    "print(khi_temp[0:4])"
   ]
  },
  {
   "cell_type": "code",
   "execution_count": null,
   "id": "7087d7a9",
   "metadata": {},
   "outputs": [],
   "source": []
  },
  {
   "cell_type": "code",
   "execution_count": 13,
   "id": "a29fe17e",
   "metadata": {},
   "outputs": [
    {
     "name": "stdout",
     "output_type": "stream",
     "text": [
      "[30, 32, 28, 29, 'raza']\n"
     ]
    }
   ],
   "source": [
    "##if i want the from index 4 to last\n",
    "#inclsive\n",
    "print(khi_temp[4:])\n"
   ]
  },
  {
   "cell_type": "code",
   "execution_count": 14,
   "id": "fae4c65b",
   "metadata": {},
   "outputs": [
    {
     "data": {
      "text/plain": [
       "['ALI', 10, 20, 21]"
      ]
     },
     "execution_count": 14,
     "metadata": {},
     "output_type": "execute_result"
    }
   ],
   "source": [
    "##if i want the from index 0 to 3 \n",
    "#exclusive\n",
    "khi_temp[:4]"
   ]
  },
  {
   "cell_type": "code",
   "execution_count": 31,
   "id": "ffa6fb49",
   "metadata": {},
   "outputs": [
    {
     "data": {
      "text/plain": [
       "[29, 'raza']"
      ]
     },
     "execution_count": 31,
     "metadata": {},
     "output_type": "execute_result"
    }
   ],
   "source": [
    "#second last and last\n",
    "khi_temp[-2:]"
   ]
  },
  {
   "cell_type": "code",
   "execution_count": 32,
   "id": "5fee9047",
   "metadata": {},
   "outputs": [
    {
     "data": {
      "text/plain": [
       "[28, 29, 'raza']"
      ]
     },
     "execution_count": 32,
     "metadata": {},
     "output_type": "execute_result"
    }
   ],
   "source": [
    "#third last,second last and last\n",
    "khi_temp[-3:]"
   ]
  },
  {
   "cell_type": "code",
   "execution_count": 16,
   "id": "a48f6623",
   "metadata": {},
   "outputs": [
    {
     "name": "stdout",
     "output_type": "stream",
     "text": [
      "[10, 20, 21, 30, 32, 28, 29, 'raza']\n"
     ]
    }
   ],
   "source": [
    "#index base value delete we usee delete\n",
    "# del khi_temp[0:2]\n",
    "del khi_temp[0]\n",
    "print(khi_temp)"
   ]
  },
  {
   "cell_type": "code",
   "execution_count": null,
   "id": "1e194113",
   "metadata": {},
   "outputs": [],
   "source": []
  },
  {
   "cell_type": "code",
   "execution_count": 17,
   "id": "9f4d46db",
   "metadata": {},
   "outputs": [
    {
     "name": "stdout",
     "output_type": "stream",
     "text": [
      "[21, 30, 32, 28, 29, 'raza']\n"
     ]
    }
   ],
   "source": [
    "# del khi_temp[0:2]\n",
    "del khi_temp[0:2]\n",
    "print(khi_temp)"
   ]
  },
  {
   "cell_type": "code",
   "execution_count": 18,
   "id": "3e5decc2",
   "metadata": {},
   "outputs": [
    {
     "name": "stdout",
     "output_type": "stream",
     "text": [
      "110\n"
     ]
    }
   ],
   "source": [
    "##find max value in list \n",
    "khi_temp1=[10, 20, 21, 30, 32, 28, 29,110]\n",
    "print(max(khi_temp1)) "
   ]
  },
  {
   "cell_type": "code",
   "execution_count": 19,
   "id": "95e3db4b",
   "metadata": {},
   "outputs": [
    {
     "name": "stdout",
     "output_type": "stream",
     "text": [
      "3\n"
     ]
    }
   ],
   "source": [
    "##find min value in list \n",
    "khi_temp1=[10, 3,8,9,20, 11,18, 21, 30, 32, 28, 29,110]\n",
    "print(min(khi_temp1)) "
   ]
  },
  {
   "cell_type": "code",
   "execution_count": 20,
   "id": "66e03381",
   "metadata": {},
   "outputs": [
    {
     "name": "stdout",
     "output_type": "stream",
     "text": [
      "[3, 8, 9, 10, 11, 18, 20, 21, 28, 29, 30, 32, 110]\n"
     ]
    }
   ],
   "source": [
    "##find sort  the list (Arrange in ascending order)\n",
    "khi_temp1= [10, 3,8,9,20, 11,18, 21, 30, 32, 28, 29,110]\n",
    "khi_temp1.sort()\n",
    "print(khi_temp1)"
   ]
  },
  {
   "cell_type": "code",
   "execution_count": 21,
   "id": "1b60690f",
   "metadata": {},
   "outputs": [
    {
     "name": "stdout",
     "output_type": "stream",
     "text": [
      "['A', 'A', 'A', 'B', 'C', 'A', 'D', 'D', 'E']\n"
     ]
    }
   ],
   "source": [
    "##For Converting String in to list we used list function\n",
    "lst=\"AAABCADDE\"\n",
    "x=list(lst)\n",
    "print(x)"
   ]
  },
  {
   "cell_type": "code",
   "execution_count": 22,
   "id": "379d7422",
   "metadata": {},
   "outputs": [
    {
     "name": "stdout",
     "output_type": "stream",
     "text": [
      "['A', 'A', 'A']\n"
     ]
    }
   ],
   "source": [
    "# list1=x[0:3]\n",
    "list1=x[:3]\n",
    "print(list1)"
   ]
  },
  {
   "cell_type": "code",
   "execution_count": 23,
   "id": "2767de87",
   "metadata": {},
   "outputs": [
    {
     "name": "stdout",
     "output_type": "stream",
     "text": [
      "['B', 'C', 'A']\n"
     ]
    }
   ],
   "source": [
    "list2=x[3:6]\n",
    " \n",
    "print(list2)"
   ]
  },
  {
   "cell_type": "code",
   "execution_count": 24,
   "id": "cdf79151",
   "metadata": {},
   "outputs": [
    {
     "name": "stdout",
     "output_type": "stream",
     "text": [
      "['D', 'D', 'E']\n"
     ]
    }
   ],
   "source": [
    "# list3=x[6:9]\n",
    "list3=x[6:]\n",
    "print(list3)"
   ]
  },
  {
   "cell_type": "code",
   "execution_count": 25,
   "id": "eee7ff2e",
   "metadata": {},
   "outputs": [
    {
     "name": "stdout",
     "output_type": "stream",
     "text": [
      "['A', 'A', 'A', 'B', 'C']\n"
     ]
    }
   ],
   "source": [
    "\n",
    "list4=x[:5]\n",
    "print(list4)"
   ]
  },
  {
   "cell_type": "code",
   "execution_count": 26,
   "id": "5181dd2b",
   "metadata": {},
   "outputs": [
    {
     "name": "stdout",
     "output_type": "stream",
     "text": [
      "['A', 'D', 'D', 'E']\n"
     ]
    }
   ],
   "source": [
    "list5=x[5:]\n",
    "print(list5)\n"
   ]
  },
  {
   "cell_type": "markdown",
   "id": "6018456a",
   "metadata": {},
   "source": [
    "### 2. TUPLES \n",
    "- tuples->toople (Element are fixed not change )"
   ]
  },
  {
   "cell_type": "code",
   "execution_count": 27,
   "id": "acaba22a",
   "metadata": {},
   "outputs": [
    {
     "name": "stdout",
     "output_type": "stream",
     "text": [
      "(1, 2, 3)\n",
      "[1, 2, 3]\n"
     ]
    }
   ],
   "source": [
    "#TUPLES -->toople (Element are fixed not change )\n",
    "x=[1,2,3] \n",
    "\n",
    "#change to tuple\n",
    "y=tuple(x)\n",
    "\n",
    "#change tupple to list\n",
    "x=list(y)\n",
    "\n",
    "\n",
    "print(y)\n",
    "print(x)"
   ]
  },
  {
   "cell_type": "code",
   "execution_count": 28,
   "id": "e65c9f0e",
   "metadata": {},
   "outputs": [
    {
     "name": "stdout",
     "output_type": "stream",
     "text": [
      "('Raza', 'ALi', 1, 2)\n"
     ]
    }
   ],
   "source": [
    "##tuples is a list but we write in () round bracket\n",
    "tp=('Raza',\"ALi\",1,2)\n",
    "print(tp)\n",
    "\n"
   ]
  },
  {
   "cell_type": "code",
   "execution_count": 29,
   "id": "efe17aba",
   "metadata": {},
   "outputs": [
    {
     "ename": "TypeError",
     "evalue": "'tuple' object does not support item assignment",
     "output_type": "error",
     "traceback": [
      "\u001b[1;31m---------------------------------------------------------------------------\u001b[0m",
      "\u001b[1;31mTypeError\u001b[0m                                 Traceback (most recent call last)",
      "Input \u001b[1;32mIn [29]\u001b[0m, in \u001b[0;36m<cell line: 1>\u001b[1;34m()\u001b[0m\n\u001b[1;32m----> 1\u001b[0m tp[\u001b[38;5;241m1\u001b[39m]\u001b[38;5;241m=\u001b[39m\u001b[38;5;241m5\u001b[39m\n\u001b[0;32m      2\u001b[0m \u001b[38;5;28mprint\u001b[39m(tp)\n",
      "\u001b[1;31mTypeError\u001b[0m: 'tuple' object does not support item assignment"
     ]
    }
   ],
   "source": [
    "tp[1]=5\n",
    "print(tp)"
   ]
  },
  {
   "cell_type": "markdown",
   "id": "6c7b8371",
   "metadata": {},
   "source": [
    "# Changing Case\n"
   ]
  },
  {
   "cell_type": "code",
   "execution_count": 5,
   "id": "507398da",
   "metadata": {},
   "outputs": [
    {
     "name": "stdout",
     "output_type": "stream",
     "text": [
      "muhammad mudassir raza\n",
      "doing bachelor in computer science\n",
      "MUHAMMAD MUDASSIR RAZA\n",
      "DOING BACHELOR IN COMPUTER SCIENCE\n",
      "Muhammad Mudassir Raza\n",
      "Doing Bachelor In Computer Science\n",
      "Muhammad mudassir raza\n",
      "Doing bachelor in computer science\n"
     ]
    }
   ],
   "source": [
    "\n",
    "name=\"Muhammad Mudassir Raza\"\n",
    "study=\"doing bachelor in computer science\"\n",
    "print(name.lower())\n",
    "print(study.lower())\n",
    "\n",
    "print(name.upper())\n",
    "print(study.upper())\n",
    "\n",
    "print(name.title())\n",
    "print(study.title())\n",
    "\n",
    "print(name.capitalize())\n",
    "print(study.capitalize())\n"
   ]
  },
  {
   "cell_type": "code",
   "execution_count": null,
   "id": "3a2ac31e",
   "metadata": {},
   "outputs": [],
   "source": []
  }
 ],
 "metadata": {
  "kernelspec": {
   "display_name": "Python 3.10.7 64-bit",
   "language": "python",
   "name": "python3"
  },
  "language_info": {
   "codemirror_mode": {
    "name": "ipython",
    "version": 3
   },
   "file_extension": ".py",
   "mimetype": "text/x-python",
   "name": "python",
   "nbconvert_exporter": "python",
   "pygments_lexer": "ipython3",
   "version": "3.10.7"
  },
  "vscode": {
   "interpreter": {
    "hash": "52ca1e607584ad3398d591ffd75feb2082f1da1c71d65ebfa531d3bca73e6dbb"
   }
  }
 },
 "nbformat": 4,
 "nbformat_minor": 5
}
