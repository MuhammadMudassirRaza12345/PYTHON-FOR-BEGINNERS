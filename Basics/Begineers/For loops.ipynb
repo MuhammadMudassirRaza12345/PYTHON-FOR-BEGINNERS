{
 "cells": [
  {
   "cell_type": "markdown",
   "id": "d5469381",
   "metadata": {},
   "source": [
    "## 1. For loops\n",
    "\n",
    "## 2. Changing Case\n",
    "- 2a. Getting Information From The User And Converting Strings And Numbers\n",
    "- 2b. UpperCase and LowerCase ,Title etc \n",
    "             "
   ]
  },
  {
   "cell_type": "markdown",
   "id": "7421e582",
   "metadata": {},
   "source": [
    "### 1. For loops"
   ]
  },
  {
   "cell_type": "markdown",
   "id": "d6c224ee",
   "metadata": {},
   "source": [
    "#syntax for <variable> in <list>\n",
    "#variable will contain a single value in each iteration\n",
    "#i.e first iteration , firstvalue ,second iteration  second value and so on\n",
    "#common practice or notation \n",
    "#use purals for list and singular as variable name"
   ]
  },
  {
   "cell_type": "code",
   "execution_count": 1,
   "id": "fecf8c7c",
   "metadata": {},
   "outputs": [
    {
     "name": "stdout",
     "output_type": "stream",
     "text": [
      "Enter the city karachi\n",
      "It's one of the cleanest cities\n"
     ]
    }
   ],
   "source": [
    "#jsut through if else example how loop help us\n",
    "city_to_check =input(\"Enter the city \")\n",
    "cleanest_cities = [\"karachi\", \"lahore\", \"islamabad\",\"peshawar\", \"quetta\"]\n",
    "if city_to_check == cleanest_cities[0]:\n",
    "    print(\"It's one of the cleanest cities\")\n",
    "    \n",
    "elif city_to_check == cleanest_cities[1]: \n",
    "    print(\"It's one of the cleanest cities\")\n",
    "elif city_to_check == cleanest_cities[2]:\n",
    "    print(\"It's one of the cleanest cities\")\n",
    "elif city_to_check == cleanest_cities[3]:\n",
    "    print(\"It's one of the cleanest cities\")\n",
    "elif city_to_check == cleanest_cities[4]:\n",
    "         print(\"It's one of the cleanest cities\")\n",
    "\n",
    "##It takes times check all condition         "
   ]
  },
  {
   "cell_type": "code",
   "execution_count": null,
   "id": "ab43c0b3",
   "metadata": {},
   "outputs": [],
   "source": [
    "##Now through loops\n",
    "city_to_check =input(\"Enter the city \")\n",
    "cleanest_cities = [\"karachi\", \"lahore\", \"islamabad\",\"peshawar\", \"quetta\"]\n",
    "##clean_city --> just a variable name \n",
    "##in a kewword --> to check a value present in cleanest_cities\n",
    "## all value come in clean_city from cleanest_cities one by one \n",
    "for clean_city in  cleanest_cities:\n",
    "    if city_to_check.lower() ==  clean_city:\n",
    "        print(\"It's one of the cleanest cities\")\n",
    "        break\n",
    "    else :\n",
    "        print(\"It is not one of the cleanest cities\")"
   ]
  },
  {
   "cell_type": "code",
   "execution_count": 5,
   "id": "4b683650",
   "metadata": {},
   "outputs": [
    {
     "name": "stdout",
     "output_type": "stream",
     "text": [
      "['karachi', 'sukkar', 'kashmir']\n",
      "['multan', 'lahore', 'islamabad', 'quetta', 'ziarat', 'swat', 'naran']\n"
     ]
    }
   ],
   "source": [
    "# Check in Which city k present and k not present\n",
    "cities=[\"karachi\",\"multan\",\"lahore\",\"islamabad\",\"sukkar\",\"kashmir\",\"quetta\",\"ziarat\",\"swat\",\"naran\"]\n",
    "k_in_cities=[]\n",
    "k_not_in_cities=[]\n",
    "for city in cities :    ##in is used for check\n",
    "    if \"k\" in city:\n",
    "        k_in_cities.append(city)\n",
    "      \n",
    "    else: \n",
    "        k_not_in_cities.append(city)\n",
    "        \n",
    "        \n",
    "        \n",
    "print(k_in_cities)   \n",
    "print( k_not_in_cities)\n",
    "        \n",
    "    \n",
    "        \n",
    "        \n",
    "        "
   ]
  },
  {
   "cell_type": "code",
   "execution_count": 23,
   "id": "2e5ed694",
   "metadata": {},
   "outputs": [
    {
     "name": "stdout",
     "output_type": "stream",
     "text": [
      "\n",
      "Name List For Finding Age And Marks :\n",
      "\n",
      "1 ) arif\n",
      "2 ) kamran\n",
      "3 ) samran\n",
      "4 ) asad\n",
      "5 ) imran\n",
      "6 ) sameer\n",
      "7 ) nasir\n",
      "8 ) rafeeq\n",
      "9 ) rasheed\n",
      "10 ) fareed\n",
      "\n",
      "Enter name from above list to find age and marks :  arif\n",
      "\n",
      " The Student Name is  arif \n",
      " The Student Age is  15.6 \n",
      " The Students Marks 70\n"
     ]
    }
   ],
   "source": [
    "#Enter the students in from and  get (find) age and its marks\n",
    "\n",
    "names=['arif','kamran','samran','asad','imran','sameer','nasir','rafeeq','rasheed','fareed']\n",
    "print(\"\\nName List For Finding Age And Marks :\\n\")\n",
    "for i, name in enumerate(names):\n",
    "    print(i+1,\")\",name)\n",
    "    \n",
    "    \n",
    "Student_name=input(\"\\nEnter name from above list to find age and marks :  \")\n",
    "##For location\n",
    "loc=names.index(Student_name)\n",
    "# print(loc)\n",
    "age=[15.6,16.7,15.8,14.9,16.0,15.1,15.2,14.3,15.4,15.5]\n",
    "loc1=age[loc]\n",
    "marks=[70,80,90,60,65,67,68,80,96,97]\n",
    "\n",
    "loc2=marks[loc]\n",
    "\n",
    "print(\"\\n\",\"The Student Name is \",Student_name,\"\\n\",\"The Student Age is \", loc1 , \"\\n\",\"The Students Marks\",loc2)\n",
    "\n",
    "\n",
    "#scalar variable: single value variable\n",
    "#vector variable :Multi value variable \n",
    "\n"
   ]
  },
  {
   "cell_type": "code",
   "execution_count": 24,
   "id": "06fd256b",
   "metadata": {},
   "outputs": [
    {
     "name": "stdout",
     "output_type": "stream",
     "text": [
      "['Ali Raza', 'Ali ALi', 'Ali Mujtaba', 'Ali zehra', 'Muhammad Raza', 'Muhammad ALi', 'Muhammad Mujtaba', 'Muhammad zehra', 'Hassan Raza', 'Hassan ALi', 'Hassan Mujtaba', 'Hassan zehra', 'Midhat Raza', 'Midhat ALi', 'Midhat Mujtaba', 'Midhat zehra']\n"
     ]
    }
   ],
   "source": [
    "##Nested loops\n",
    "firstnames=[\"Ali\",\"Muhammad\",\"Hassan\",\"Midhat\"]\n",
    "last_names=[\"Raza\",\"ALi\",\"Mujtaba\",\"zehra\"]\n",
    "full_names=[]\n",
    "for firstname in firstnames:\n",
    "    for last_name in last_names:\n",
    "        full_names.append(firstname +\" \"+last_name )\n",
    "      \n",
    "        \n",
    "print(full_names)\n",
    "\n",
    "\n"
   ]
  },
  {
   "cell_type": "code",
   "execution_count": 25,
   "id": "2fc3b575",
   "metadata": {},
   "outputs": [
    {
     "name": "stdout",
     "output_type": "stream",
     "text": [
      "[0.2198852772466539, 0.23255813953488372, 0.2966101694915254, 0.27079303675048355, 0.15502183406113537, 0.17288801571709234]\n",
      "0.2246260788002957\n"
     ]
    }
   ],
   "source": [
    "# LINEAR REGRESION\n",
    "sizes =[523,645,708,1034,2290,2545] #Y=DEPENDENT VARIABLE\n",
    "prices=[115,150,210,280,355,440]   #X=INDEPENDENT VARIABLE\n",
    "#y=mx+c\n",
    "# logic:prices=size *m +c\n",
    "# logic:c=0  \n",
    "#logic: m=prices/sizes -c #ignore c because it is zero\n",
    "\n",
    "multipliers=[]\n",
    "# m=0\n",
    "loc=0\n",
    "\n",
    "for price in prices: \n",
    "    m=price/sizes[loc]\n",
    "    multipliers.append(m)\n",
    "    loc=loc +1\n",
    "    \n",
    "print(multipliers)\n",
    "\n",
    "multiplier=sum(multipliers)/len(multipliers)  ##mean\n",
    "print(multiplier)  \n",
    "    \n"
   ]
  },
  {
   "cell_type": "code",
   "execution_count": 26,
   "id": "312c0dc4",
   "metadata": {},
   "outputs": [
    {
     "name": "stdout",
     "output_type": "stream",
     "text": [
      "[0.2198852772466539, 0.23255813953488372, 0.2966101694915254, 0.27079303675048355, 0.15502183406113537, 0.17288801571709234]\n",
      "0.2246260788002957\n"
     ]
    }
   ],
   "source": [
    "#Another way\n",
    "\n",
    "sizes =[523,645,708,1034,2290,2545]\n",
    "prices=[115,150,210,280,355,440]  \n",
    "# logic:prices=size *m +c\n",
    "# logic:c=0  \n",
    "#logic: m=price/size -c #ignore c because it is zero\n",
    "multipliers=[]\n",
    "# m=0\n",
    "\n",
    "\n",
    "for loc in range(len(prices)): \n",
    "    m=prices[loc]/sizes[loc]\n",
    "    multipliers.append(m)\n",
    "    \n",
    "print(multipliers)\n",
    "multiplier=sum(multipliers)/len(multipliers)\n",
    "print(multiplier)  "
   ]
  },
  {
   "cell_type": "code",
   "execution_count": 27,
   "id": "03170b42",
   "metadata": {},
   "outputs": [
    {
     "name": "stdout",
     "output_type": "stream",
     "text": [
      "117.4658\n"
     ]
    }
   ],
   "source": [
    "#testing\n",
    "price=0.2246 *523\n",
    "print(price)"
   ]
  },
  {
   "cell_type": "code",
   "execution_count": 28,
   "id": "43796123",
   "metadata": {},
   "outputs": [
    {
     "name": "stdout",
     "output_type": "stream",
     "text": [
      "0.2246260788002957\n",
      "predicted:  117.47943921255465 : Actual  115\n",
      "predicted:  144.8838208261907 : Actual  150\n",
      "predicted:  159.03526379060935 : Actual  210\n",
      "predicted:  232.26336547950575 : Actual  280\n",
      "predicted:  514.3937204526771 : Actual  355\n",
      "predicted:  571.6733705467525 : Actual  440\n"
     ]
    }
   ],
   "source": [
    "sizes =[523,645,708,1034,2290,2545]\n",
    "prices=[115,150,210,280,355,440] \n",
    "#y=mx+c\n",
    "# logic:prices=size *m +c\n",
    "# logic:c=0  \n",
    "#logic: m=price/size -c #ignore c because it is zero\n",
    "# x=independent variable\n",
    "# y=dependent variable\n",
    "multipliers=[]\n",
    "# m=0\n",
    "\n",
    "\n",
    "for loc in range(len(prices)): \n",
    "    m=prices[loc]/sizes[loc]\n",
    "    multipliers.append(m)\n",
    "    \n",
    "# print(multipliers)\n",
    "avg_multiplier=sum(multipliers)/len(multipliers)  #mean   (slope)\n",
    "print(avg_multiplier)\n",
    "\n",
    "\n",
    "#testing\n",
    "\n",
    "for loc in range(len(prices)): \n",
    "    price=avg_multiplier*sizes[loc]\n",
    "    print(\"predicted: \",price, \": Actual \",prices[loc])\n",
    "    \n",
    "    "
   ]
  },
  {
   "cell_type": "code",
   "execution_count": 29,
   "id": "67874d5a",
   "metadata": {
    "scrolled": true
   },
   "outputs": [
    {
     "name": "stdout",
     "output_type": "stream",
     "text": [
      "Guess the number between 1 to 30: 4\n",
      "Your guess is too low\n",
      "Guess the number between 1 to 30: 10\n",
      "Your guess is too low\n",
      "Guess the number between 1 to 30: 20\n",
      "Your guess is too high\n",
      "Sorry! You LOOSE\n",
      "Correct number is 19\n"
     ]
    }
   ],
   "source": [
    "import random\n",
    "random_number = random.randrange(1,30)\n",
    "flag = False\n",
    "for i in range(1,4):\n",
    "    guess = int(input(\"Guess the number between 1 to 30: \"))\n",
    "    if guess == random_number:\n",
    "        flag = True\n",
    "        break\n",
    "    elif guess < random_number:\n",
    "        print(\"Your guess is too low\")\n",
    "    else:\n",
    "        print(\"Your guess is too high\")\n",
    "if flag:\n",
    "    print(\"Congratulations You win!\")\n",
    "else:\n",
    "    print(\"Sorry! You LOOSE\")\n",
    "    \n",
    "    print(\"Correct number is\", random_number)"
   ]
  },
  {
   "cell_type": "code",
   "execution_count": 32,
   "id": "bd084a48",
   "metadata": {},
   "outputs": [
    {
     "name": "stdout",
     "output_type": "stream",
     "text": [
      "1\n",
      "8\n",
      "27\n",
      "64\n",
      "125\n",
      "216\n",
      "343\n",
      "512\n",
      "729\n",
      "1000\n"
     ]
    }
   ],
   "source": [
    "\"\"\"\n",
    "3.Question 3\n",
    "Write a script that prints the first 10 cube numbers (x**3), starting with x=1 and ending with x=10.\n",
    "\"\"\"\n",
    "for x in range(1,11):\n",
    "    print(x**3)"
   ]
  },
  {
   "cell_type": "code",
   "execution_count": 33,
   "id": "69f96259",
   "metadata": {},
   "outputs": [
    {
     "name": "stdout",
     "output_type": "stream",
     "text": [
      "0\n",
      "7\n",
      "14\n",
      "21\n",
      "28\n",
      "35\n",
      "42\n",
      "49\n",
      "56\n",
      "63\n",
      "70\n",
      "77\n",
      "84\n",
      "91\n",
      "98\n"
     ]
    }
   ],
   "source": [
    "\"\"\"\n",
    "4.Question 4\n",
    "Write a script that prints the multiples of 7 between 0 and 100. \n",
    "Print one multiple per line and avoid printing any numbers that aren't multiples of 7. \n",
    "Remember that 0 is also a multiple of 7.\n",
    "\"\"\"\n",
    "\n",
    "for num in range(0,100):\n",
    "    if(num % 7==0):\n",
    "        print(num)\n",
    "    else:\n",
    "        num= num + 1"
   ]
  },
  {
   "cell_type": "code",
   "execution_count": 39,
   "id": "af0fea97",
   "metadata": {},
   "outputs": [
    {
     "name": "stdout",
     "output_type": "stream",
     "text": [
      "['program.c', 'stdio.h', 'sample.h', 'a.out', 'math.h', 'hpp.out']\n"
     ]
    }
   ],
   "source": [
    "filenames = [\"program.c\", \"stdio.hpp\", \"sample.hpp\", \"a.out\", \"math.hpp\", \"hpp.out\"]\n",
    "# Generate newfilenames as a list containing the new filenames\n",
    "# using as many lines of code as your chosen method requires.\n",
    "filenames = [i.replace(\".hpp\",\".h\") for i in filenames] \n",
    "\n",
    "print(filenames) \n",
    "# Should be [\"program.c\", \"stdio.h\", \"sample.h\", \"a.out\", \"math.h\", \"hpp.out\"]"
   ]
  },
  {
   "cell_type": "markdown",
   "id": "66db28f6",
   "metadata": {},
   "source": [
    "## 2. Changing Case"
   ]
  },
  {
   "cell_type": "code",
   "execution_count": 30,
   "id": "05a8fc71",
   "metadata": {},
   "outputs": [
    {
     "name": "stdout",
     "output_type": "stream",
     "text": [
      "muhammad mudassir raza\n",
      "doing bachelor in computer science\n",
      "MUHAMMAD MUDASSIR RAZA\n",
      "DOING BACHELOR IN COMPUTER SCIENCE\n",
      "Muhammad Mudassir Raza\n",
      "Doing Bachelor In Computer Science\n",
      "Muhammad mudassir raza\n",
      "Doing bachelor in computer science\n"
     ]
    }
   ],
   "source": [
    "name=\"muhammad mudassir raza\"\n",
    "study=\"doing bachelor in computer science\"\n",
    "print(name.lower())\n",
    "print(study.lower())\n",
    "\n",
    "print(name.upper())\n",
    "print(study.upper())\n",
    "\n",
    "print(name.title())\n",
    "print(study.title())\n",
    "\n",
    "print(name.capitalize())\n",
    "print(study.capitalize())"
   ]
  },
  {
   "cell_type": "code",
   "execution_count": 31,
   "id": "06096190",
   "metadata": {},
   "outputs": [
    {
     "name": "stdout",
     "output_type": "stream",
     "text": [
      "False\n",
      "3\n",
      "Harry is a good boy\n",
      "Harry are a good boy\n"
     ]
    }
   ],
   "source": [
    "mystr = \"Harry is a good boy\"\n",
    "# print(len(mystr))\n",
    "# print(mystr[::-2])\n",
    "\n",
    "print(mystr.endswith(\"bdoy\"))\n",
    "print(mystr.count(\"o\"))\n",
    "print(mystr.capitalize())\n",
    "print(mystr.replace(\"is\", \"are\"))"
   ]
  },
  {
   "cell_type": "code",
   "execution_count": null,
   "id": "f946f31a",
   "metadata": {},
   "outputs": [],
   "source": []
  }
 ],
 "metadata": {
  "kernelspec": {
   "display_name": "Python 3 (ipykernel)",
   "language": "python",
   "name": "python3"
  },
  "language_info": {
   "codemirror_mode": {
    "name": "ipython",
    "version": 3
   },
   "file_extension": ".py",
   "mimetype": "text/x-python",
   "name": "python",
   "nbconvert_exporter": "python",
   "pygments_lexer": "ipython3",
   "version": "3.9.12"
  }
 },
 "nbformat": 4,
 "nbformat_minor": 5
}
