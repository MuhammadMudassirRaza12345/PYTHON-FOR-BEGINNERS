{
 "cells": [
  {
   "cell_type": "code",
   "execution_count": 1,
   "id": "2a1f16a6",
   "metadata": {},
   "outputs": [],
   "source": [
    "#for start patterns\n",
    "#https://www.youtube.com/watch?v=fX64q6sYom0\n",
    "#https://simplycoding.in/star-pattern-programs-in-python/"
   ]
  },
  {
   "cell_type": "code",
   "execution_count": 2,
   "id": "f636968f",
   "metadata": {},
   "outputs": [
    {
     "name": "stdout",
     "output_type": "stream",
     "text": [
      "Enter the number or size or rows for printing stars5\n",
      "*   *   *   *   *   \n",
      "\n",
      "*   *   *   *   *   \n",
      "\n",
      "*   *   *   *   *   \n",
      "\n",
      "*   *   *   *   *   \n",
      "\n",
      "*   *   *   *   *   \n",
      "\n"
     ]
    }
   ],
   "source": [
    "#patterns is like a blocks of rows and coloumn\n",
    "n=int(input(\"Enter the number or size or rows for printing stars\"))\n",
    "for i in range(n): #0 to < n\n",
    "#i=row\n",
    "#j=colums\n",
    "#i=0 j= 0 1 2 3 4\n",
    "# 0     * * * * *\n",
    "    \n",
    "    for j in range(n):\n",
    "        print(\"*\",end=\"   \")\n",
    "    print(\"\\n\")    \n"
   ]
  },
  {
   "cell_type": "code",
   "execution_count": 3,
   "id": "6fd095fe",
   "metadata": {},
   "outputs": [
    {
     "name": "stdout",
     "output_type": "stream",
     "text": [
      "Enter the number or size or rows for printing stars5\n",
      "0   1   2   3   4   \n",
      "\n",
      "0   1   2   3   4   \n",
      "\n",
      "0   1   2   3   4   \n",
      "\n",
      "0   1   2   3   4   \n",
      "\n",
      "0   1   2   3   4   \n",
      "\n"
     ]
    }
   ],
   "source": [
    "#patterns is like a blocks of rows and coloumn\n",
    "n=int(input(\"Enter the number or size or rows for printing stars\"))\n",
    "for i in range(n): #0 to < n\n",
    "#i=row\n",
    "#j=colums\n",
    "#i=0 j= 0 1 2 3 4\n",
    "# 0     * * * * *\n",
    "    \n",
    "    for j in range(n):\n",
    "        print(j,end=\"   \")\n",
    "    print(\"\\n\")  "
   ]
  },
  {
   "cell_type": "code",
   "execution_count": 4,
   "id": "c5c66b21",
   "metadata": {},
   "outputs": [
    {
     "name": "stdout",
     "output_type": "stream",
     "text": [
      "Enter the number or size or rows for printing stars5\n",
      "0   0   0   0   0   \n",
      "\n",
      "1   1   1   1   1   \n",
      "\n",
      "2   2   2   2   2   \n",
      "\n",
      "3   3   3   3   3   \n",
      "\n",
      "4   4   4   4   4   \n",
      "\n"
     ]
    }
   ],
   "source": [
    "#patterns is like a blocks of rows and coloumn\n",
    "n=int(input(\"Enter the number or size or rows for printing stars\"))\n",
    "for i in range(n): #0 to < n\n",
    "#i=row\n",
    "#j=colums\n",
    "#i=0 j= 0 1 2 3 4\n",
    "# 0     * * * * *\n",
    "    \n",
    "    for j in range(n):\n",
    "        print(i,end=\"   \")\n",
    "    print(\"\\n\") \n",
    "    \n",
    "# Square    "
   ]
  },
  {
   "cell_type": "code",
   "execution_count": 5,
   "id": "02ce8305",
   "metadata": {},
   "outputs": [
    {
     "name": "stdout",
     "output_type": "stream",
     "text": [
      "Enter the number or size or rows for printing stars5\n",
      "*   \n",
      "\n",
      "*   *   \n",
      "\n",
      "*   *   *   \n",
      "\n",
      "*   *   *   *   \n",
      "\n",
      "*   *   *   *   *   \n",
      "\n"
     ]
    }
   ],
   "source": [
    "#now now increasing  triangle\n",
    "#patterns is like a blocks of rows and coloumn\n",
    "n=int(input(\"Enter the number or size or rows for printing stars\"))\n",
    "for i in range(n): #0 to < n\n",
    "#i=row\n",
    "#j=colums\n",
    "#i=0 j= 0 1 2 3 4\n",
    "# 0     * * * * *\n",
    " \n",
    "    \n",
    "    for j in range(i+1):\n",
    "        # means inner loops run one times for first row , two times for second row , 3 times for third row\n",
    "        print(\"*\",end=\"   \")\n",
    "    print(\"\\n\") \n",
    "    \n",
    "    \n",
    "# O:*\n",
    "#   * *\n",
    "#   * * *\n"
   ]
  },
  {
   "cell_type": "code",
   "execution_count": 6,
   "id": "c47a69be",
   "metadata": {},
   "outputs": [
    {
     "name": "stdout",
     "output_type": "stream",
     "text": [
      "Enter the number or size or rows for printing stars5\n",
      "*   *   *   *   *    \n",
      "*   *   *   *    \n",
      "*   *   *    \n",
      "*   *    \n",
      "*    \n"
     ]
    },
    {
     "data": {
      "text/plain": [
       "'\\nfor j\\n0 to n\\n1 to n \\n...\\n\\n'"
      ]
     },
     "execution_count": 6,
     "metadata": {},
     "output_type": "execute_result"
    }
   ],
   "source": [
    "#now now decreasing  triangle\n",
    "#patterns is like a blocks of rows and coloumn\n",
    "n=int(input(\"Enter the number or size or rows for printing stars\"))\n",
    "for i in range(n): #0 to < n\n",
    "#i=row\n",
    "#j=colums\n",
    "#i=0 j= 0 1 2 3 4\n",
    "# 0     * * * * *\n",
    " \n",
    "    \n",
    "    for j in range(i,n):\n",
    "         \n",
    "        print(\"*\",end=\"   \")\n",
    "    print(\" \") \n",
    "\n",
    "    \n",
    "\n",
    "    \n",
    "    \n",
    "'''\n",
    "for j\n",
    "0 to n\n",
    "1 to n \n",
    "...\n",
    "\n",
    "'''  \n",
    "\n",
    "# O:** *\n",
    "#   * *\n",
    "#   *  \n"
   ]
  },
  {
   "cell_type": "code",
   "execution_count": 7,
   "id": "2876939d",
   "metadata": {},
   "outputs": [
    {
     "name": "stdout",
     "output_type": "stream",
     "text": [
      "Enter the number or size or rows for printing stars5\n",
      "                    *    \n",
      "                *   *    \n",
      "            *   *   *    \n",
      "        *   *   *   *    \n",
      "    *   *   *   *   *    \n"
     ]
    },
    {
     "data": {
      "text/plain": [
       "'\\ni=0 \\nj=0 ---- Print(4 spaces by decreasing triangle) then in same row j=0 print * (increasing triangle) then inner loop finish\\n'"
      ]
     },
     "execution_count": 7,
     "metadata": {},
     "output_type": "execute_result"
    }
   ],
   "source": [
    "#Right side triangle\n",
    "\n",
    "# here two triangle\n",
    "#increasing trinagle\n",
    "#decreasing trinagle\n",
    "\n",
    "\n",
    "\n",
    "n=int(input(\"Enter the number or size or rows for printing stars\"))\n",
    "for i in range(n):\n",
    "    #0 to < n\n",
    "#i=row\n",
    "#j=colums\n",
    "#i=0 j= 0 1 2 3 4\n",
    "# 0     * * * * *\n",
    " \n",
    "#     decreasig tringle\n",
    "    for j in range(i,n):\n",
    "        print(\" \",end=\"   \")\n",
    "#increasing       \n",
    "    \n",
    "     \n",
    "    for j in range(i+1):\n",
    "        print(\"*\",end=\"   \")\n",
    "    print(\" \")\n",
    "    \n",
    "   \n",
    "\n",
    "\"\"\"\n",
    "i=0 \n",
    "j=0 ---- Print(4 spaces by decreasing triangle) then in same row j=0 print * (increasing triangle) then inner loop finish\n",
    "\"\"\"\n",
    "    \n",
    "# O:   *\n",
    "#     * *\n",
    "#   * * *  \n",
    "    "
   ]
  },
  {
   "cell_type": "code",
   "execution_count": 8,
   "id": "ab3d1b0c",
   "metadata": {},
   "outputs": [
    {
     "name": "stdout",
     "output_type": "stream",
     "text": [
      "Enter the number or size or rows for printing stars5\n",
      "    *   *   *   *   *    \n",
      "        *   *   *   *    \n",
      "            *   *   *    \n",
      "                *   *    \n",
      "                    *    \n"
     ]
    },
    {
     "data": {
      "text/plain": [
       "'\\ni=0 \\nj=0 ---- Print(4 spaces by decreasing triangle) then in same row j=0 print * (increasing triangle) then inner loop finish\\n'"
      ]
     },
     "execution_count": 8,
     "metadata": {},
     "output_type": "execute_result"
    }
   ],
   "source": [
    "#Right side triangle\n",
    "\n",
    "# here two triangle\n",
    "#increasing trinagle\n",
    "#decreasing trinagle\n",
    "\n",
    "\n",
    "\n",
    "n=int(input(\"Enter the number or size or rows for printing stars\"))\n",
    "for i in range(n):\n",
    "    #0 to < n\n",
    "#i=row\n",
    "#j=colums\n",
    "#i=0 j= 0 1 2 3 4\n",
    "# 0     * * * * *\n",
    " \n",
    "#increasing       \n",
    "\n",
    "    for j in range(i+1):\n",
    "        print(\" \",end=\"   \")\n",
    "\n",
    "    #     decreasig tringle\n",
    "    for j in range(i,n):\n",
    "        print(\"*\",end=\"   \")\n",
    "    print(\" \")\n",
    "\n",
    "\"\"\"\n",
    "i=0 \n",
    "j=0 ---- Print(4 spaces by decreasing triangle) then in same row j=0 print * (increasing triangle) then inner loop finish\n",
    "\"\"\"\n",
    "    \n",
    " \n",
    "     "
   ]
  },
  {
   "cell_type": "code",
   "execution_count": 9,
   "id": "d6e83d9f",
   "metadata": {},
   "outputs": [
    {
     "name": "stdout",
     "output_type": "stream",
     "text": [
      "Enter the number or size or rows for printing stars5\n",
      ".    .    .    .    .     *    \n",
      ".    .    .    .     $    *    *    \n",
      ".    .    .     $    $    *    *    *    \n",
      ".    .     $    $    $    *    *    *    *    \n",
      ".     $    $    $    $    *    *    *    *    *    \n"
     ]
    },
    {
     "data": {
      "text/plain": [
       "'\\ni=0 \\nj=0 ---- Print(4 spaces by decreasing triangle) then in same row j=0 print * (increasing triangle) then inner loop finish\\n'"
      ]
     },
     "execution_count": 9,
     "metadata": {},
     "output_type": "execute_result"
    }
   ],
   "source": [
    "#Right side triangle\n",
    "\n",
    "# here 3 triangle\n",
    "#increasing trinagle\n",
    "#decreasing trinagle\n",
    "\n",
    "\n",
    "\n",
    "n=int(input(\"Enter the number or size or rows for printing stars\"))\n",
    "for i in range(n):\n",
    "    #0 to < n\n",
    "#i=row\n",
    "#j=colums\n",
    "#i=0 j= 0 1 2 3 4\n",
    "# 0     * * * * *\n",
    "\n",
    "     #     decreasig tringle\n",
    "    for j in range(i,n):\n",
    "        print(\". \",end=\"   \")\n",
    "        \n",
    "        \n",
    "     #increasing       \n",
    "\n",
    "    for j in range(i):\n",
    "        print(\" $\",end=\"   \")\n",
    "\n",
    "\n",
    " #increasing       \n",
    "\n",
    "    for j in range(i+1):\n",
    "        print(\" *\",end=\"   \")\n",
    "    print(\" \")\n",
    "\n",
    "\"\"\"\n",
    "i=0 \n",
    "j=0 ---- Print(4 spaces by decreasing triangle) then in same row j=0 print * (increasing triangle) then inner loop finish\n",
    "\"\"\"\n",
    "    \n",
    " \n",
    "     "
   ]
  },
  {
   "cell_type": "code",
   "execution_count": 10,
   "id": "a64fa383",
   "metadata": {},
   "outputs": [
    {
     "name": "stdout",
     "output_type": "stream",
     "text": [
      "Enter the number or size or rows for printing stars4\n",
      "                 *    \n",
      "            *    *    *    \n",
      "        *   *    *    *    *    \n",
      "    *   *   *    *    *    *    *    \n"
     ]
    },
    {
     "data": {
      "text/plain": [
       "'\\ni=0 \\nj=0 ---- Print(4 spaces by decreasing triangle) then in same row j=0 print * (increasing triangle) then inner loop finish\\n'"
      ]
     },
     "execution_count": 10,
     "metadata": {},
     "output_type": "execute_result"
    }
   ],
   "source": [
    "#6. Write a python program to print following hill star pattern:  \n",
    "\n",
    "# here 3 triangle\n",
    "#increasing trinagle\n",
    "#decreasing trinagle\n",
    "\n",
    "\n",
    "\n",
    "n=int(input(\"Enter the number or size or rows for printing stars\"))\n",
    "for i in range(n):\n",
    "    #0 to < n\n",
    "#i=row\n",
    "#j=colums\n",
    "#i=0 j= 0 1 2 3 4\n",
    "# 0     * * * * *\n",
    "\n",
    "     #     decreasig tringle\n",
    "    for j in range(i,n):\n",
    "        print(\" \",end=\"   \")\n",
    "        \n",
    "        \n",
    "     #increasing       \n",
    "\n",
    "    for j in range(i):\n",
    "        print(\"*\",end=\"   \")\n",
    "\n",
    "\n",
    " #increasing       \n",
    "\n",
    "    for j in range(i+1):\n",
    "        print(\" *\",end=\"   \")\n",
    "    print(\" \")\n",
    "\n",
    "\"\"\"\n",
    "i=0 \n",
    "j=0 ---- Print(4 spaces by decreasing triangle) then in same row j=0 print * (increasing triangle) then inner loop finish\n",
    "\"\"\"\n",
    "    \n",
    " \n",
    "     "
   ]
  },
  {
   "cell_type": "code",
   "execution_count": 11,
   "id": "bc2ff4e0",
   "metadata": {},
   "outputs": [
    {
     "name": "stdout",
     "output_type": "stream",
     "text": [
      "Enter the number or size or rows for printing stars5\n",
      "    *   *   *   *   *   *   *   *   *    \n",
      "        *   *   *   *   *   *   *    \n",
      "            *   *   *   *   *    \n",
      "                *   *   *    \n",
      "                    *    \n"
     ]
    },
    {
     "data": {
      "text/plain": [
       "'\\ni=0 \\nj=0 ---- Print(4 spaces by decreasing triangle) then in same row j=0 print * (increasing triangle) then inner loop finish\\n'"
      ]
     },
     "execution_count": 11,
     "metadata": {},
     "output_type": "execute_result"
    }
   ],
   "source": [
    "#7. Write a python program to print following reversehill star pattern:  \n",
    "\n",
    "# here 3 triangle\n",
    "#increasing trinagle\n",
    "#decreasing trinagle\n",
    "\n",
    "\n",
    "\n",
    "n=int(input(\"Enter the number or size or rows for printing stars\"))\n",
    "for i in range(n):\n",
    "    #0 to < n\n",
    "#i=row\n",
    "#j=colums\n",
    "#i=0 j= 0 1 2 3 4\n",
    "# 0     * * * * *\n",
    "\n",
    "\n",
    "\n",
    " #increasing       \n",
    "\n",
    "    for j in range(i+1):\n",
    "        print(\" \",end=\"   \")\n",
    "   \n",
    "    \n",
    "    for j in range(i,n-1):\n",
    "   \n",
    "        print(\"*\",end=\"   \")\n",
    "   \n",
    " #     decreasig tringle\n",
    "    \n",
    "    for j in range(i,n):\n",
    "        print(\"*\",end=\"   \")\n",
    "    print(\" \")   \n",
    "        \n",
    "     \n",
    "  \n",
    "\n",
    "\n",
    "\n",
    "\"\"\"\n",
    "i=0 \n",
    "j=0 ---- Print(4 spaces by decreasing triangle) then in same row j=0 print * (increasing triangle) then inner loop finish\n",
    "\"\"\"\n",
    "    \n",
    " \n",
    "     "
   ]
  },
  {
   "cell_type": "code",
   "execution_count": 12,
   "id": "f16ee18f",
   "metadata": {},
   "outputs": [
    {
     "name": "stdout",
     "output_type": "stream",
     "text": [
      "Enter the number or size or rows for printing stars5\n",
      "                     *    \n",
      "                *    *    *    \n",
      "            *   *    *    *    *    \n",
      "        *   *   *    *    *    *    *    \n",
      "    *   *   *   *   *   *   *   *   *    \n",
      "        *   *   *   *   *   *   *    \n",
      "            *   *   *   *   *    \n",
      "                *   *   *    \n",
      "                    *    \n"
     ]
    }
   ],
   "source": [
    "#8. Write a python code to print Dimond pattern with star:\n",
    "\n",
    "\n",
    "# hill---------------\n",
    "n=int(input(\"Enter the number or size or rows for printing stars\"))\n",
    "for i in range(n-1): # delete one row for pointed corners\n",
    "    #0 to < n\n",
    "#i=row\n",
    "#j=colums\n",
    "#i=0 j= 0 1 2 3 4\n",
    "# 0     * * * * *\n",
    "\n",
    "     #     decreasig tringle\n",
    "    for j in range(i,n):\n",
    "        print(\" \",end=\"   \")\n",
    "        \n",
    "        \n",
    "     #increasing       \n",
    "\n",
    "    for j in range(i):\n",
    "        print(\"*\",end=\"   \")\n",
    "\n",
    "\n",
    " #increasing       \n",
    "\n",
    "    for j in range(i+1):\n",
    "        print(\" *\",end=\"   \")\n",
    "    print(\" \")\n",
    "\n",
    "\n",
    "\n",
    "\n",
    "\n",
    "\n",
    "\n",
    "\n",
    "# reverse hill --------------------------------\n",
    "\n",
    "for i in range(n):\n",
    "    #0 to < n\n",
    "#i=row\n",
    "#j=colums\n",
    "#i=0 j= 0 1 2 3 4\n",
    "# 0     * * * * *\n",
    "\n",
    "\n",
    "\n",
    " #increasing       \n",
    "\n",
    "    for j in range(i+1):\n",
    "        print(\" \",end=\"   \")\n",
    "   \n",
    "    \n",
    "    for j in range(i,n-1):\n",
    "   \n",
    "        print(\"*\",end=\"   \")\n",
    "   \n",
    " #     decreasig tringle\n",
    "    \n",
    "    for j in range(i,n):\n",
    "        print(\"*\",end=\"   \")\n",
    "    print(\" \")   \n",
    "        \n",
    "     \n",
    "  \n",
    "\n"
   ]
  },
  {
   "cell_type": "code",
   "execution_count": null,
   "id": "6b3ff5c2",
   "metadata": {},
   "outputs": [],
   "source": []
  }
 ],
 "metadata": {
  "kernelspec": {
   "display_name": "Python 3 (ipykernel)",
   "language": "python",
   "name": "python3"
  },
  "language_info": {
   "codemirror_mode": {
    "name": "ipython",
    "version": 3
   },
   "file_extension": ".py",
   "mimetype": "text/x-python",
   "name": "python",
   "nbconvert_exporter": "python",
   "pygments_lexer": "ipython3",
   "version": "3.9.12"
  }
 },
 "nbformat": 4,
 "nbformat_minor": 5
}
