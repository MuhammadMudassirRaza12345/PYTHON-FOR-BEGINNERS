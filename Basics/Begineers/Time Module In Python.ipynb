{
 "cells": [
  {
   "cell_type": "markdown",
   "id": "1817636f",
   "metadata": {},
   "source": [
    "# Time Module In Python"
   ]
  },
  {
   "cell_type": "code",
   "execution_count": 3,
   "id": "c27ccd68",
   "metadata": {},
   "outputs": [],
   "source": [
    "import time"
   ]
  },
  {
   "cell_type": "markdown",
   "id": "38504007",
   "metadata": {},
   "source": [
    "\n",
    "- In Python, time can be tracked through its built-in libraries. The time module consists of all time-related functions. It - - - also allows us to access several types of clocks required for various purposes. We will be discussing some of these important  - functions that are commonly used and come handy for further programming.\n",
    "\n",
    "- time.time():\n",
    "- It returns us the seconds of time that have elapsed since the Unix epoch. In simple words, it tells us the time in seconds --  -that have passed since 1 January 1970. Its syntax is simple and easy to use.\n"
   ]
  },
  {
   "cell_type": "code",
   "execution_count": 6,
   "id": "06e20f09",
   "metadata": {},
   "outputs": [
    {
     "name": "stdout",
     "output_type": "stream",
     "text": [
      "Seconds since epoch = 1663681174.7548838 seconds\n"
     ]
    }
   ],
   "source": [
    "import time\n",
    "seconds = time.time()\n",
    "print(\"Seconds since epoch =\", seconds,\"seconds\")\n",
    "\n"
   ]
  },
  {
   "cell_type": "code",
   "execution_count": 8,
   "id": "eeb9d92d",
   "metadata": {},
   "outputs": [
    {
     "name": "stdout",
     "output_type": "stream",
     "text": [
      "Tue Sep 20 18:41:10 2022\n"
     ]
    }
   ],
   "source": [
    "print(time.asctime())\n",
    "    \n",
    "# We use the function time.asctime() to print the local time onto the screen. There are a lot of other ways to do it but time.asctime() prints the time in a sequence using a 24 characters string. \n",
    "# The format will be something like this: Mon Feb 10 08:01:02 2020\n",
    "    "
   ]
  },
  {
   "cell_type": "code",
   "execution_count": 15,
   "id": "24ba59ca",
   "metadata": {},
   "outputs": [
    {
     "name": "stdout",
     "output_type": "stream",
     "text": [
      "None\n"
     ]
    }
   ],
   "source": [
    "# import time\n",
    "print(time.sleep(5))\n",
    "\n",
    "# time.sleep()\n",
    "# What sleep() function does is, it delays the execution of further commands for given specific seconds. In simple terms, it sends the program to sleep for some defined number of seconds. sleep() function is mostly used in programs directly connected to the operating system and in-game development. It halts the program execution, giving other programs a chance to get executed simultaneously. \n",
    "\n",
    "# The syntax is :\n",
    "# time.sleep(5)\n",
    "# The number of seconds is sent as a parameter within parenthesis. The program will go to sleep for 5 seconds after getting to this line of code and will continue its execution afterward.\n"
   ]
  },
  {
   "cell_type": "code",
   "execution_count": 20,
   "id": "cafb69c5",
   "metadata": {},
   "outputs": [
    {
     "name": "stdout",
     "output_type": "stream",
     "text": [
      "time.localtime() returns: %s time.struct_time(tm_year=2022, tm_mon=9, tm_mday=20, tm_hour=18, tm_min=50, tm_sec=22, tm_wday=1, tm_yday=263, tm_isdst=0)\n"
     ]
    }
   ],
   "source": [
    "#time.localtime()\n",
    "\n",
    "#The time.localtime() is used to convert the number of seconds to local time. This function takes seconds as a parameter and returns the date and time in time.struct_time format. It is optional to pass seconds as a parameter. If seconds is not provided, the current time will be returned by time() is used.\n",
    "\n",
    "# The syntax is:\n",
    "# time.localtime([ sec ])\n",
    "# for e.g\n",
    "import time\n",
    "print(\"time.localtime() returns: %s\",time.localtime())"
   ]
  },
  {
   "cell_type": "code",
   "execution_count": null,
   "id": "6715076d",
   "metadata": {},
   "outputs": [],
   "source": [
    "# Uses of time modules:\n",
    "# We can use the time module \n",
    "\n",
    "# In games where missions depend on a certain time limit.\n",
    "# To check the execution time a certain part of our code is taking.\n",
    "# To print the date or local time onto the screen\n",
    "# To suspend the execution of python thread.\n",
    "# To measure the efficiency of the code.\n",
    "# There are many built-in functions in the time module. Not all of them are discussed in this tutorial. Explore more time module functions and use them in your code, so that you can measure the execution time of your code. "
   ]
  },
  {
   "cell_type": "code",
   "execution_count": 22,
   "id": "89f33085",
   "metadata": {},
   "outputs": [
    {
     "name": "stdout",
     "output_type": "stream",
     "text": [
      "This is harry bhai\n",
      "This is harry bhai\n",
      "This is harry bhai\n",
      "This is harry bhai\n",
      "This is harry bhai\n",
      "This is harry bhai\n",
      "This is harry bhai\n",
      "This is harry bhai\n",
      "This is harry bhai\n",
      "This is harry bhai\n",
      "This is harry bhai\n",
      "This is harry bhai\n",
      "This is harry bhai\n",
      "This is harry bhai\n",
      "This is harry bhai\n",
      "This is harry bhai\n",
      "This is harry bhai\n",
      "This is harry bhai\n",
      "This is harry bhai\n",
      "This is harry bhai\n",
      "This is harry bhai\n",
      "This is harry bhai\n",
      "This is harry bhai\n",
      "This is harry bhai\n",
      "This is harry bhai\n",
      "This is harry bhai\n",
      "This is harry bhai\n",
      "This is harry bhai\n",
      "This is harry bhai\n",
      "This is harry bhai\n",
      "This is harry bhai\n",
      "This is harry bhai\n",
      "This is harry bhai\n",
      "This is harry bhai\n",
      "This is harry bhai\n",
      "This is harry bhai\n",
      "This is harry bhai\n",
      "This is harry bhai\n",
      "This is harry bhai\n",
      "This is harry bhai\n",
      "This is harry bhai\n",
      "This is harry bhai\n",
      "This is harry bhai\n",
      "This is harry bhai\n",
      "This is harry bhai\n",
      "While loop ran in 90.31986856460571 Seconds\n"
     ]
    }
   ],
   "source": [
    "\n",
    "initial = time.time()\n",
    "\n",
    "k = 0\n",
    "while(k<45):\n",
    "    print(\"This is harry bhai\")\n",
    "    time.sleep(2)\n",
    "    k+=1\n",
    "print(\"While loop ran in\", time.time() - initial, \"Seconds\")\n",
    "\n",
    "\n",
    "\n",
    "\n",
    "\n"
   ]
  },
  {
   "cell_type": "code",
   "execution_count": 25,
   "id": "25f10ce7",
   "metadata": {},
   "outputs": [
    {
     "name": "stdout",
     "output_type": "stream",
     "text": [
      "This is harry bhai\n",
      "This is harry bhai\n",
      "This is harry bhai\n",
      "This is harry bhai\n",
      "This is harry bhai\n",
      "This is harry bhai\n",
      "This is harry bhai\n",
      "This is harry bhai\n",
      "This is harry bhai\n",
      "This is harry bhai\n",
      "This is harry bhai\n",
      "This is harry bhai\n",
      "This is harry bhai\n",
      "This is harry bhai\n",
      "This is harry bhai\n",
      "This is harry bhai\n",
      "This is harry bhai\n",
      "This is harry bhai\n",
      "This is harry bhai\n",
      "This is harry bhai\n",
      "This is harry bhai\n",
      "This is harry bhai\n",
      "This is harry bhai\n",
      "This is harry bhai\n",
      "This is harry bhai\n",
      "This is harry bhai\n",
      "This is harry bhai\n",
      "This is harry bhai\n",
      "This is harry bhai\n",
      "This is harry bhai\n",
      "This is harry bhai\n",
      "This is harry bhai\n",
      "This is harry bhai\n",
      "This is harry bhai\n",
      "This is harry bhai\n",
      "This is harry bhai\n",
      "This is harry bhai\n",
      "This is harry bhai\n",
      "This is harry bhai\n",
      "This is harry bhai\n",
      "This is harry bhai\n",
      "This is harry bhai\n",
      "This is harry bhai\n",
      "This is harry bhai\n",
      "This is harry bhai\n",
      "For loop ran in 0.003995180130004883 Seconds\n"
     ]
    }
   ],
   "source": [
    "import time\n",
    "initial2 =time.time()\n",
    "for i in range(45):\n",
    "    print(\"This is harry bhai\")\n",
    "print(\"For loop ran in\", time.time() - initial2, \"Seconds\")"
   ]
  },
  {
   "cell_type": "code",
   "execution_count": 24,
   "id": "bd7be4ea",
   "metadata": {},
   "outputs": [
    {
     "name": "stdout",
     "output_type": "stream",
     "text": [
      "Tue Sep 20 18:56:52 2022\n"
     ]
    }
   ],
   "source": [
    "localtime = time.asctime(time.localtime(time.time()))\n",
    "print(localtime)\n",
    "  "
   ]
  },
  {
   "cell_type": "code",
   "execution_count": null,
   "id": "455f58cc",
   "metadata": {},
   "outputs": [],
   "source": []
  }
 ],
 "metadata": {
  "kernelspec": {
   "display_name": "Python 3.10.7 64-bit",
   "language": "python",
   "name": "python3"
  },
  "language_info": {
   "codemirror_mode": {
    "name": "ipython",
    "version": 3
   },
   "file_extension": ".py",
   "mimetype": "text/x-python",
   "name": "python",
   "nbconvert_exporter": "python",
   "pygments_lexer": "ipython3",
   "version": "3.10.7"
  },
  "vscode": {
   "interpreter": {
    "hash": "52ca1e607584ad3398d591ffd75feb2082f1da1c71d65ebfa531d3bca73e6dbb"
   }
  }
 },
 "nbformat": 4,
 "nbformat_minor": 5
}
