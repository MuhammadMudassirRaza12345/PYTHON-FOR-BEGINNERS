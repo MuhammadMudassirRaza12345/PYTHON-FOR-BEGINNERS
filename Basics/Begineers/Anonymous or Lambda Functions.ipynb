{
 "cells": [
  {
   "cell_type": "raw",
   "id": "928c26d7",
   "metadata": {},
   "source": [
    "# Anonymous/Lambda Functions In Python\n",
    "- As we have studied function in the previous lecture, we know that if a program has a large piece of code that is required to be executed repeatedly, then it will be better to implement that piece of code as a function. Functions improve code reusability, modularity, and integrity.\n",
    "\n",
    "- In this tutorial, we will see how to declare Anonymous functions and how to return values from them.\n",
    "\n",
    "- As we have studied in the previous lecture, the syntax for function declaration is as follows:\n",
    "\n",
    "- def function_name ():\n",
    "- What is Anonymous function?\n",
    "- In Python programming, an anonymous function or lambda expression is a function definition that is not bound to an identifier (def).\n",
    "\n",
    "- The anonymous function is an inline function. The anonymous functions are created using a lambda operator and cannot contain multiple expressions.\n",
    "\n",
    "- The following example will show how anonymous functions work: \n",
    "\n",
    "- result = lambda n1, n2, n3: n1 + n2 + n3;\n",
    "- print (\"Sum of three values : \", result( 10, 20, 25 ))"
   ]
  },
  {
   "cell_type": "code",
   "execution_count": 2,
   "id": "da9373a9",
   "metadata": {},
   "outputs": [
    {
     "name": "stdout",
     "output_type": "stream",
     "text": [
      "Sum of three values :  55\n"
     ]
    }
   ],
   "source": [
    "result = lambda n1, n2, n3: n1 + n2 + n3;\n",
    "print (\"Sum of three values : \", result( 10, 20, 25 ))"
   ]
  },
  {
   "cell_type": "markdown",
   "id": "0faf4ae4",
   "metadata": {},
   "source": [
    "In the above code, we have created an anonymous function that adds three numbers. The function is stored in a variable named result. The function can then be called using this variable. In the above code, the function has been called with three different parameter values for the function call.\n",
    "\n",
    "Anonymous functions can accept inputs and return the outputs, just like other functions do.\n",
    "\n",
    "Why do we use Python Lambda Functions?\n",
    "The main objective of anonymous functions is that, when we need a function just once, anonymous functions come in handy. Lambda operator is not only used to create anonymous functions, but there are many other uses of the lambda expression. We can create anonymous functions wherever they are needed. Due to this reason, Python Lambda Functions are also called as throw-away functions which are used along with other predefined functions such as reduce(), filter(), and map(). \n",
    "\n",
    "These functions help reduce the number of lines of the code when compared to named Python functions.\n",
    "\n",
    "Significant Differences Between Lambda Expressions And Simple Functions.\n",
    "Can be passed immediately with or without variables.\n",
    "They are inline functions.\n",
    "Automatic return of results.\n",
    "There is neither a document string nor a name.\n",
    "Python List sort():\n",
    "Sorting means arranging data systematically. If the data we want to work with is not sorted, we will face problems finding the desired element.\n",
    "\n",
    "The Python language, like other programming languages, can sort data.\n",
    "\n",
    "Python has an in-built method i.e. sort(), which is used to sort the elements of the given list in a specified ascending or descending order. There is also a built-in function i.e. sorted(), that builds a new sorted list from an iterable like list, dictionary, etc.\n",
    "\n",
    "\n",
    "\n",
    " \n",
    " \n"
   ]
  },
  {
   "cell_type": "raw",
   "id": "211df475",
   "metadata": {},
   "source": [
    "The syntax of the sort() method is:\n",
    "\n",
    "list.sort(key=myFunc ,reverse=True|False)\n",
    "Parameter Values:-\n",
    "\n",
    "Parameters       Values\n",
    "\n",
    "\n",
    "\n",
    "key         In the key parameter, we specify a function that is called on each list element before making comparisons. \n",
    "          \n",
    "reverse    This is optional. False will sort the list in ascending order, and true will sort the list in descending order.\n",
    "           Default is reverse=False.\n",
    "\n",
    " \n",
    "\n",
    "Sort() does not return any value, but it changes from the original list."
   ]
  },
  {
   "cell_type": "code",
   "execution_count": 27,
   "id": "5220a419",
   "metadata": {},
   "outputs": [
    {
     "name": "stdout",
     "output_type": "stream",
     "text": [
      "[[5, 6], [1, 14], [8, 23]]\n"
     ]
    }
   ],
   "source": [
    "# Lambda functions or anonymous functions\n",
    "# def add(a, b):\n",
    "#     return a+b\n",
    "#\n",
    "#minus = lambda x, y: x-y\n",
    "# \n",
    "# def minus(x, y):\n",
    "#     return x-y\n",
    "#\n",
    "# print(minus(9, 4))\n",
    "\n",
    "# key=function\n",
    "\n",
    "def a_first(a):\n",
    "    return a[1]\n",
    "#basically it written first value after sorting [5, 6], [1, 14], [8, 23]\n",
    "\n",
    "a =[[1, 14], [5, 6], [8,23]]\n",
    "# a.sort(key=a_first)\n",
    "a.sort(key=lambda x: x[1])\n",
    "#aik aesa function banado jo koe bhi list ma sa isko second value deda \n",
    "\n",
    "print(a)"
   ]
  },
  {
   "cell_type": "code",
   "execution_count": null,
   "id": "e40cbbd5",
   "metadata": {},
   "outputs": [],
   "source": []
  }
 ],
 "metadata": {
  "kernelspec": {
   "display_name": "Python 3 (ipykernel)",
   "language": "python",
   "name": "python3"
  },
  "language_info": {
   "codemirror_mode": {
    "name": "ipython",
    "version": 3
   },
   "file_extension": ".py",
   "mimetype": "text/x-python",
   "name": "python",
   "nbconvert_exporter": "python",
   "pygments_lexer": "ipython3",
   "version": "3.9.12"
  }
 },
 "nbformat": 4,
 "nbformat_minor": 5
}
