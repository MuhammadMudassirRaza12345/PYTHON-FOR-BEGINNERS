{
 "cells": [
  {
   "cell_type": "markdown",
   "id": "07f7c78f",
   "metadata": {},
   "source": [
    "## While loops"
   ]
  },
  {
   "cell_type": "code",
   "execution_count": 1,
   "id": "7f80caed",
   "metadata": {},
   "outputs": [],
   "source": [
    "#when you want to select more than one city means continue selection you can used whie loop.\n",
    "# while work continously until you quit"
   ]
  },
  {
   "cell_type": "code",
   "execution_count": 2,
   "id": "ca31b628",
   "metadata": {},
   "outputs": [
    {
     "name": "stdout",
     "output_type": "stream",
     "text": [
      "Enter a city, or q toquit:karachi\n",
      "It's one of the cleanest cities\n",
      "Enter a city, or q toquit:q\n"
     ]
    }
   ],
   "source": [
    "cleanest_cities = [\"karachi\", \"lahore\", \"islamabad\",\"peshawar\", \"quetta\"]\n",
    "user_input = \"\"\n",
    "while user_input != \"q\":\n",
    "    user_input = input(\"Enter a city, or q toquit:\")\n",
    "    if user_input != \"q\":\n",
    "        for a_clean_city in cleanest_cities:\n",
    "            if user_input == a_clean_city:\n",
    "                print(\"It's one of the cleanest cities\")\n",
    "                break"
   ]
  },
  {
   "cell_type": "code",
   "execution_count": 2,
   "id": "66e2f1c5",
   "metadata": {},
   "outputs": [
    {
     "name": "stdout",
     "output_type": "stream",
     "text": [
      "It's one of the cleanest cities\n"
     ]
    }
   ],
   "source": [
    "cleanest_cities = [\"karachi\", \"lahore\", \"islamabad\",\"peshawar\", \"quetta\"]\n",
    "user_input = \"\"\n",
    "while user_input != \"q\":\n",
    "    user_input = input(\"Enter a city, or q toquit:\")\n",
    "    if user_input != \"q\":\n",
    "        while  user_input in cleanest_cities :\n",
    "            print(\"It's one of the cleanest cities\")\n",
    "            break"
   ]
  },
  {
   "cell_type": "code",
   "execution_count": 4,
   "id": "79b15b43",
   "metadata": {},
   "outputs": [
    {
     "name": "stdout",
     "output_type": "stream",
     "text": [
      "Enter a city, or q toquit:q\n"
     ]
    }
   ],
   "source": [
    "cleanest_cities = [\"karachi\", \"lahore\", \"islamabad\",\"peshawar\", \"quetta\"]\n",
    "user_input = \"\"\n",
    "while user_input != \"q\":\n",
    "    user_input = input(\"Enter a city, or q toquit:\")\n",
    "    if user_input != \"q\":\n",
    "#         for a_clean_city in cleanest_cities:\n",
    "# adding numerate to index also\n",
    "          for index,a_clean_city in enumerate(cleanest_cities):\n",
    "              if user_input == a_clean_city:\n",
    "                print(a_clean_city,\"is one of the cleanest cities at location\",index)\n",
    "                break"
   ]
  },
  {
   "cell_type": "code",
   "execution_count": 5,
   "id": "77d1bdd6",
   "metadata": {},
   "outputs": [
    {
     "name": "stdout",
     "output_type": "stream",
     "text": [
      "\n",
      "1) karachi\n",
      "2) lahore\n",
      "3) islamabad\n",
      "4) peshawar\n",
      "5) quetta\n",
      "Enter a city, or q to quit/exit:q\n"
     ]
    }
   ],
   "source": [
    "#now using flag make code easy\n",
    "cleanest_cities = [\"karachi\", \"lahore\", \"islamabad\",\"peshawar\", \"quetta\"]\n",
    "data =\"\\n\" + \"1) \"+str(cleanest_cities[0])+\"\\n\" + \"2) \"+str(cleanest_cities[1])+\"\\n\" + \"3) \"+str(cleanest_cities[2])+\"\\n\" + \"4) \"+str(cleanest_cities[3])+\"\\n\" + \"5) \"+str(cleanest_cities[4])+\"\\n\"\n",
    "# print(data)\n",
    "flag=True\n",
    "while  flag == True:\n",
    "    user_input = input(data +\"Enter a city, or q to quit/exit:\")\n",
    "    if user_input != \"q\":\n",
    "        for a_clean_city in cleanest_cities:\n",
    "            if user_input == a_clean_city:\n",
    "                print(\"It's one of the cleanest cities\")\n",
    "                break\n",
    "    else:\n",
    "        flag=False\n"
   ]
  },
  {
   "cell_type": "code",
   "execution_count": 6,
   "id": "d157aedf",
   "metadata": {},
   "outputs": [
    {
     "name": "stdout",
     "output_type": "stream",
     "text": [
      "Enter a city, or q toquit:q\n"
     ]
    }
   ],
   "source": [
    " flag=True\n",
    "while  flag==True:\n",
    "    user_input = input(\"Enter a city, or q toquit:\")\n",
    "    if user_input != \"q\":\n",
    "        for a_clean_city in cleanest_cities:\n",
    "            if user_input == a_clean_city:\n",
    "                print(\"It's one of the cleanest cities\")\n",
    "                break\n",
    "            else:\n",
    "                print(\"It's not one of the cleanest cities\")\n",
    "                break\n",
    "             \n",
    "    else:\n",
    "          \n",
    "        flag=False"
   ]
  },
  {
   "cell_type": "code",
   "execution_count": 7,
   "id": "4b682a86",
   "metadata": {},
   "outputs": [
    {
     "name": "stdout",
     "output_type": "stream",
     "text": [
      "Enter a city, or q toquit:q\n"
     ]
    }
   ],
   "source": [
    "cleanest_cities = [\"karachi\", \"lahore\", \"islamabad\",\"peshawar\", \"quetta\"]\n",
    "user_input = \"\"\n",
    "while user_input != \"q\":\n",
    "    user_input = input(\"Enter a city, or q toquit:\")\n",
    "    if user_input != \"q\":\n",
    "        if user_input in  cleanest_cities:\n",
    "            print(\"It's one of the cleanest cities\")\n",
    "            break"
   ]
  },
  {
   "cell_type": "markdown",
   "id": "a28052ca",
   "metadata": {},
   "source": [
    "\n",
    "8-7. Album: Write a function called make_album() that builds a dictionary\n",
    "describing a music album. The function should take in an artist name and an\n",
    "album title, and it should return a dictionary containing these two pieces of\n",
    "information. Use the function to make three dictionaries representing different\n",
    "albums. Print each return value to show that the dictionaries are storing the\n",
    "album information correctly.\n",
    "Add an optional parameter to make_album() that allows you to store the\n",
    "number of tracks on an album. If the calling line includes a value for the number of tracks, add that value to the album’s dictionary. Make at least one new\n",
    "function call that includes the number of tracks on an album."
   ]
  },
  {
   "cell_type": "code",
   "execution_count": 8,
   "id": "6d27c5a2",
   "metadata": {},
   "outputs": [],
   "source": [
    "studio=[]\n",
    "def make_album(artist_name,albumtitle,number_of_tracks=\"\"):\n",
    "    album_dic={\"artist name : \":artist_name,\"album title : \":albumtitle}\n",
    "    if number_of_tracks:\n",
    "        album_dic[\"number of tracks\"]=number_of_tracks\n",
    "    \n",
    "    studio.append(album_dic)\n",
    "    return album_dic    "
   ]
  },
  {
   "cell_type": "code",
   "execution_count": 9,
   "id": "545c3bbf",
   "metadata": {},
   "outputs": [
    {
     "name": "stdout",
     "output_type": "stream",
     "text": [
      "Enter the artis name or q for quitq\n"
     ]
    }
   ],
   "source": [
    "while True:\n",
    "    artist_name=input(\"Enter the artis name or q for quit\")\n",
    "    if artist_name == \"q\":\n",
    "        break\n",
    "    albumtitle=input(\"Enter the  album title or q for quit\")\n",
    "    if albumtitle == \"q\":\n",
    "        break    \n",
    "    number_of_tracks=input(\"Enter the    number of tracks or q for quit\")\n",
    "    if   number_of_tracks == \"q\":\n",
    "        break    \n",
    "    make_album(artist_name,albumtitle,number_of_tracks)  "
   ]
  },
  {
   "cell_type": "code",
   "execution_count": 10,
   "id": "6cbbb86b",
   "metadata": {},
   "outputs": [
    {
     "name": "stdout",
     "output_type": "stream",
     "text": [
      "[]\n"
     ]
    }
   ],
   "source": [
    " print(studio)\n",
    "# studio"
   ]
  },
  {
   "cell_type": "code",
   "execution_count": 11,
   "id": "4dec9ec6",
   "metadata": {},
   "outputs": [
    {
     "name": "stdout",
     "output_type": "stream",
     "text": [
      "{'artist name : ': 'ABC', 'album title : ': 'Album1'}\n"
     ]
    }
   ],
   "source": [
    "print(make_album(\"ABC\",\"Album1\"))"
   ]
  },
  {
   "cell_type": "code",
   "execution_count": 12,
   "id": "cd29da8f",
   "metadata": {},
   "outputs": [
    {
     "name": "stdout",
     "output_type": "stream",
     "text": [
      "{'artist name : ': 'xyz', 'album title : ': 'Album2', 'number of tracks': 5}\n"
     ]
    }
   ],
   "source": [
    "print(make_album(\"xyz\",\"Album2\", 5))"
   ]
  },
  {
   "cell_type": "code",
   "execution_count": 13,
   "id": "d71b8916",
   "metadata": {},
   "outputs": [
    {
     "name": "stdout",
     "output_type": "stream",
     "text": [
      "Enter the artis name or q for quitq\n"
     ]
    }
   ],
   "source": [
    "studio=[]\n",
    "def make_album(artist_name,albumtitle,number_of_tracks=\"\"):\n",
    "    album_dic={\"artist name : \":artist_name,\"album title : \":albumtitle}\n",
    "    if number_of_tracks:\n",
    "        album_dic[\"number of tracks\"]=number_of_tracks\n",
    "    \n",
    "    studio.append(album_dic)\n",
    " \n",
    "        \n",
    "    return album_dic    \n",
    "\n",
    "\n",
    "while True:\n",
    "    artist_name=input(\"Enter the artis name or q for quit\")\n",
    "    if artist_name == \"q\":\n",
    "        break\n",
    "    albumtitle=input(\"Enter the  album title or q for quit\")\n",
    "    if albumtitle == \"q\":\n",
    "        break    \n",
    "    number_of_tracks=input(\"Enter the    number of tracks or q for quit\")\n",
    "    if   number_of_tracks == \"q\":\n",
    "        break    \n",
    "\n",
    "    make_album(artist_name,albumtitle,number_of_tracks)\n",
    "\n",
    "\n"
   ]
  },
  {
   "cell_type": "code",
   "execution_count": 14,
   "id": "b538d872",
   "metadata": {},
   "outputs": [
    {
     "name": "stdout",
     "output_type": "stream",
     "text": [
      "[]\n"
     ]
    }
   ],
   "source": [
    "print(studio)"
   ]
  },
  {
   "cell_type": "code",
   "execution_count": 15,
   "id": "062371f3",
   "metadata": {},
   "outputs": [
    {
     "name": "stdout",
     "output_type": "stream",
     "text": [
      "{'artist name : ': 'xyz', 'album title : ': 'Album2', 'number of tracks': 5}\n"
     ]
    }
   ],
   "source": [
    "print(make_album(\"xyz\",\"Album2\", 5))"
   ]
  },
  {
   "cell_type": "code",
   "execution_count": 16,
   "id": "a9536637",
   "metadata": {},
   "outputs": [
    {
     "name": "stdout",
     "output_type": "stream",
     "text": [
      "{'artist name : ': 'xyz', 'album title : ': 'Album2', 'number of tracks': 5}\n"
     ]
    }
   ],
   "source": [
    "print(make_album(\"xyz\",\"Album2\", 5))"
   ]
  },
  {
   "cell_type": "code",
   "execution_count": 17,
   "id": "29b7bece",
   "metadata": {},
   "outputs": [
    {
     "name": "stdout",
     "output_type": "stream",
     "text": [
      "\n",
      "Please tell me your name:\n",
      "(enter 'q' at any time to quit)\n",
      "First name: q\n"
     ]
    }
   ],
   "source": [
    "def get_formatted_name(f_name, l_name):\n",
    "    fullname=f_name+\" \"+l_name\n",
    "    return fullname\n",
    "\n",
    "while True:\n",
    "    print(\"\\nPlease tell me your name:\")\n",
    "    print(\"(enter 'q' at any time to quit)\")\n",
    "\n",
    "    f_name = input(\"First name: \")\n",
    "    if f_name == 'q':\n",
    "        break\n",
    "    l_name = input(\"Last name: \")\n",
    "    if l_name == 'q':\n",
    "        break\n",
    "    formatted_name = get_formatted_name(f_name.title(), l_name.title())\n",
    "\n",
    "    print(\"\\nHello, \" + formatted_name + \"!\")"
   ]
  },
  {
   "cell_type": "code",
   "execution_count": 18,
   "id": "0b637d65",
   "metadata": {},
   "outputs": [
    {
     "name": "stdout",
     "output_type": "stream",
     "text": [
      "Elements in our list: \n",
      "\n",
      "options:\n",
      "1.Add Element\n",
      "2.Delete Element\n",
      "3.Delete All Element\n",
      "4.Exit\n",
      "\n",
      "Note: please give input in numbers e.g:1,2,3,4\n",
      "\n",
      "Enter your choice: q\n",
      "Invalid Syntax\n",
      "Elements in our list: \n",
      "\n",
      "options:\n",
      "1.Add Element\n",
      "2.Delete Element\n",
      "3.Delete All Element\n",
      "4.Exit\n",
      "\n",
      "Note: please give input in numbers e.g:1,2,3,4\n",
      "\n",
      "Enter your choice: 4\n"
     ]
    }
   ],
   "source": [
    " #today list in python\n",
    "elements=[]\n",
    "i=1\n",
    "while True :\n",
    "    print(\"Elements in our list: \")\n",
    "    for element in elements:\n",
    "        print(i,\")\" ,element)\n",
    "        i+=1\n",
    "    print(\"\\noptions:\")\n",
    "    print(\"1.Add Element\")\n",
    "    print(\"2.Delete Element\")\n",
    "    print(\"3.Delete All Element\")\n",
    "    print(\"4.Exit\")\n",
    "    print(\"\\nNote: please give input in numbers e.g:1,2,3,4\")\n",
    "    inp=input(\"\\nEnter your choice: \")\n",
    "    if inp == '1':\n",
    "        elements.append(input(\"\\nEnter your element: \"))\n",
    "    elif inp == '2':\n",
    "        elements.remove(input(\"\\nEnter your element: \"))\n",
    "    elif inp == '2':\n",
    "        elements.clear()\n",
    "    elif inp == '4':\n",
    "         break  \n",
    "    else :\n",
    "        print(\"Invalid Syntax\")"
   ]
  },
  {
   "cell_type": "code",
   "execution_count": null,
   "id": "f4dbca8c",
   "metadata": {},
   "outputs": [],
   "source": []
  },
  {
   "cell_type": "code",
   "execution_count": null,
   "id": "a4271137",
   "metadata": {},
   "outputs": [],
   "source": []
  },
  {
   "cell_type": "code",
   "execution_count": null,
   "id": "903891e2",
   "metadata": {},
   "outputs": [],
   "source": []
  },
  {
   "cell_type": "code",
   "execution_count": 19,
   "id": "5a6323c6",
   "metadata": {},
   "outputs": [
    {
     "name": "stdout",
     "output_type": "stream",
     "text": [
      "Guess the number between 1 to 30: 3\n",
      "Your guess is too low\n",
      "Guess the number between 1 to 30: 33\n",
      "Your guess is too high\n",
      "Guess the number between 1 to 30: 33\n",
      "Your guess is too high\n",
      "Sorry! You LOOSE\n",
      "Correct number is 16\n"
     ]
    }
   ],
   "source": [
    "#Guess the number\n",
    "import random\n",
    "random_number = random.randrange(1,30)\n",
    "flag = False\n",
    "for i in range(1,4):\n",
    "    guess = int(input(\"Guess the number between 1 to 30: \"))\n",
    "    if guess == random_number:\n",
    "        flag = True\n",
    "        break\n",
    "    elif guess < random_number:\n",
    "        print(\"Your guess is too low\")\n",
    "    else:\n",
    "        print(\"Your guess is too high\")\n",
    "if flag:\n",
    "    print(\"Congratulations You win!\")\n",
    "else:\n",
    "    print(\"Sorry! You LOOSE\")\n",
    "    \n",
    "    print(\"Correct number is\", random_number)"
   ]
  },
  {
   "cell_type": "code",
   "execution_count": 21,
   "id": "47c1afd7",
   "metadata": {},
   "outputs": [
    {
     "name": "stdout",
     "output_type": "stream",
     "text": [
      "Guess the number between 1 to 30: 4\n",
      "Your guess is too high\n",
      "Guess the number between 1 to 30: 2\n",
      "Congratulations You win!\n",
      "Correct number is 2\n"
     ]
    }
   ],
   "source": [
    "import random\n",
    "random_number = random.randrange(1,30)\n",
    "\n",
    "while True:\n",
    "    guess = int(input(\"Guess the number between 1 to 30: \"))\n",
    "    if guess == random_number:\n",
    "        flag = False\n",
    "        break\n",
    "    elif guess < random_number:\n",
    "        print(\"Your guess is too low\")\n",
    "    else:\n",
    "        print(\"Your guess is too high\")\n",
    "if flag == False:\n",
    "    print(\"Congratulations You win!\")\n",
    "else:\n",
    "    print(\"Sorry! You LOOSE\")\n",
    "    \n",
    "print(\"Correct number is\", random_number)"
   ]
  },
  {
   "cell_type": "code",
   "execution_count": null,
   "id": "dec7d22c",
   "metadata": {},
   "outputs": [],
   "source": []
  },
  {
   "cell_type": "code",
   "execution_count": null,
   "id": "e36026e9",
   "metadata": {},
   "outputs": [],
   "source": []
  },
  {
   "cell_type": "code",
   "execution_count": null,
   "id": "97d07929",
   "metadata": {},
   "outputs": [],
   "source": []
  },
  {
   "cell_type": "markdown",
   "id": "a73c16eb",
   "metadata": {},
   "source": [
    "## Break & Continue Statements In Python"
   ]
  },
  {
   "cell_type": "code",
   "execution_count": 22,
   "id": "a585a721",
   "metadata": {},
   "outputs": [
    {
     "name": "stdout",
     "output_type": "stream",
     "text": [
      "The value of i is : 0\n",
      "The value of i is : 1\n",
      "The value of i is : 2\n",
      "The value of i is : 3\n",
      "The value of i is : 4\n",
      "The value of i is : 5\n",
      "The value of i is : 6\n",
      "The value of i is : 7\n",
      "The value of i is : 8\n",
      "The value of i is : 9\n",
      "The value of i is : 10\n",
      "Breaking the loop. \n"
     ]
    }
   ],
   "source": [
    "i=0;\n",
    "while(True):\n",
    "    print(f\"The value of i is : {i}\")\n",
    "    i=i+1\n",
    "    if(i>10):\n",
    "        print(\"Breaking the loop. \")\n",
    "        break;"
   ]
  },
  {
   "cell_type": "code",
   "execution_count": 23,
   "id": "2c9e6d07",
   "metadata": {},
   "outputs": [
    {
     "name": "stdout",
     "output_type": "stream",
     "text": [
      "The value of i is : 1\n",
      "The value of i is : 2\n",
      "The value of i is : 3\n",
      "The value of i is : 4\n",
      "The value of i is : 6\n",
      "The value of i is : 7\n",
      "The value of i is : 8\n",
      "The value of i is : 9\n",
      "The value of i is : 10\n"
     ]
    }
   ],
   "source": [
    "i=0;\n",
    "while(True):\n",
    "    i=i+1\n",
    "    if(i==5):\n",
    "        continue\n",
    "    if(i>10):\n",
    "        break\n",
    "    print(f\"The value of i is : {i}\")"
   ]
  },
  {
   "cell_type": "code",
   "execution_count": 24,
   "id": "09c497db",
   "metadata": {},
   "outputs": [
    {
     "name": "stdout",
     "output_type": "stream",
     "text": [
      "Enter a Number\n",
      "300\n",
      "Congrats you have entered a number greater than 100\n",
      "\n"
     ]
    }
   ],
   "source": [
    "while(True):\n",
    "    inp = int(input(\"Enter a Number\\n\"))\n",
    "    if inp>100:\n",
    "        print(\"Congrats you have entered a number greater than 100\\n\")\n",
    "        break\n",
    "    else:\n",
    "        print(\"Try again!\\n\")\n",
    "        continue"
   ]
  },
  {
   "cell_type": "code",
   "execution_count": 25,
   "id": "66f87220",
   "metadata": {},
   "outputs": [
    {
     "name": "stdout",
     "output_type": "stream",
     "text": [
      "Attempt 1\n",
      "Attempt 2\n",
      "Attempt 3\n",
      "Attempt 4\n",
      "Attempt 5\n",
      "Done\n"
     ]
    }
   ],
   "source": [
    "def attempts(n):\n",
    "    x = 1\n",
    "    while x <= n:\n",
    "        print(\"Attempt \" + str(x))\n",
    "        x += 1\n",
    "    print(\"Done\")\n",
    "    \n",
    "attempts(5)"
   ]
  },
  {
   "cell_type": "code",
   "execution_count": 26,
   "id": "d09f70ce",
   "metadata": {},
   "outputs": [
    {
     "name": "stdout",
     "output_type": "stream",
     "text": [
      "2\n",
      "2\n",
      "5\n",
      "5\n"
     ]
    },
    {
     "data": {
      "text/plain": [
       "'Done'"
      ]
     },
     "execution_count": 26,
     "metadata": {},
     "output_type": "execute_result"
    }
   ],
   "source": [
    "\"\"\"\n",
    "2.Question 2\n",
    "Fill in the blanks to make the print_prime_factors function print all the prime factors of a number. \n",
    "A prime factor is a number that is prime and divides another without a remainder.\n",
    "\n",
    "\"\"\"\n",
    "def print_prime_factors(number):\n",
    "  # Start with two, which is the first prime\n",
    "  factor = 2\n",
    "  # Keep going until the factor is larger than the number\n",
    "  while factor <= number:\n",
    "    # Check if factor is a divisor of number\n",
    "    if number % factor == 0:\n",
    "      # If it is, print it and divide the original number\n",
    "      print(factor)\n",
    "      number = number / factor\n",
    "    else:\n",
    "      # If it's not, increment the factor by one\n",
    "      factor +=1\n",
    "  return \"Done\"\n",
    "\n",
    "print_prime_factors(100)\n",
    "# Should print 2,2,5,5\n",
    "# DO NOT DELETE THIS COMMENT"
   ]
  },
  {
   "cell_type": "code",
   "execution_count": null,
   "id": "54d06232",
   "metadata": {},
   "outputs": [],
   "source": [
    "# def is_power_of_two(n):\n",
    "#     # Check if the number can be divided by two without a remainder\n",
    "#     while n % 2 == 0:\n",
    "#         n = n / 2\n",
    "# # If after dividing by two the number is 1, it's a power of two\n",
    "      \n",
    "#     if n == 1:\n",
    "#         return True\n",
    "#     return False\n",
    "  \n",
    "\n",
    "# print(is_power_of_two(0)) # Should be False\n",
    "# print(is_power_of_two(1)) # Should be True\n",
    "# print(is_power_of_two(8)) # Should be True\n",
    "# print(is_power_of_two(9)) # Should be False"
   ]
  },
  {
   "cell_type": "code",
   "execution_count": null,
   "id": "6f2b5baa",
   "metadata": {},
   "outputs": [],
   "source": [
    "def pig_latin(text):\n",
    "  say = \"\"\n",
    "  words = text.split()\n",
    "  for word in words:\n",
    "    endString = str(word[1]).upper()+str(word[2:])\n",
    "    them = endString, str(word[0:1]).lower(), 'ay'\n",
    "    word = ''.join(them)\n",
    "    return word\n",
    "\n",
    "print(pig_latin(\"hello how are you\")) # Should be \"ellohay owhay reaay ouyay\"\n",
    "print(pig_latin(\"programming in python is fun\")) # Should be \"rogrammingpay niay ythonpay siay unfay\" "
   ]
  },
  {
   "cell_type": "code",
   "execution_count": null,
   "id": "60c64969",
   "metadata": {},
   "outputs": [],
   "source": []
  }
 ],
 "metadata": {
  "kernelspec": {
   "display_name": "Python 3.10.7 64-bit",
   "language": "python",
   "name": "python3"
  },
  "language_info": {
   "codemirror_mode": {
    "name": "ipython",
    "version": 3
   },
   "file_extension": ".py",
   "mimetype": "text/x-python",
   "name": "python",
   "nbconvert_exporter": "python",
   "pygments_lexer": "ipython3",
   "version": "3.10.7"
  },
  "vscode": {
   "interpreter": {
    "hash": "52ca1e607584ad3398d591ffd75feb2082f1da1c71d65ebfa531d3bca73e6dbb"
   }
  }
 },
 "nbformat": 4,
 "nbformat_minor": 5
}
