{
 "cells": [
  {
   "cell_type": "markdown",
   "id": "a64b8a4a",
   "metadata": {},
   "source": [
    "# Functions"
   ]
  },
  {
   "cell_type": "markdown",
   "id": "8553860d",
   "metadata": {},
   "source": [
    "### Functions is like block of code through this we can do same thing many  time without typing code again and again"
   ]
  },
  {
   "cell_type": "code",
   "execution_count": 1,
   "id": "3ed2c6fc",
   "metadata": {},
   "outputs": [
    {
     "name": "stdout",
     "output_type": "stream",
     "text": [
      "4\n"
     ]
    }
   ],
   "source": [
    "a=1\n",
    "b=3\n",
    "c=a+b\n",
    "print(c)"
   ]
  },
  {
   "cell_type": "code",
   "execution_count": 2,
   "id": "21f7428a",
   "metadata": {},
   "outputs": [
    {
     "name": "stdout",
     "output_type": "stream",
     "text": [
      "4\n",
      "4\n"
     ]
    }
   ],
   "source": [
    "#now we do with function\n",
    "def sum():\n",
    "    a=1\n",
    "    b=3\n",
    "    c=a+b\n",
    "    print(c)\n",
    "sum()  \n",
    "sum()  "
   ]
  },
  {
   "cell_type": "code",
   "execution_count": 3,
   "id": "46843383",
   "metadata": {},
   "outputs": [
    {
     "name": "stdout",
     "output_type": "stream",
     "text": [
      "55\n",
      "5\n"
     ]
    }
   ],
   "source": [
    "def sum(a,b):  #parameters\n",
    "     \n",
    "    c=a+b\n",
    "    print(c)\n",
    "sum(22,33)  #positon arguments\n",
    "sum(2,3)  "
   ]
  },
  {
   "cell_type": "code",
   "execution_count": 4,
   "id": "76166bb3",
   "metadata": {
    "scrolled": true
   },
   "outputs": [
    {
     "name": "stdout",
     "output_type": "stream",
     "text": [
      "Enter the first number: 3\n",
      "\n",
      "Enter the second number :33\n",
      "\n",
      " Sum of a + b  is :  36.0 \n",
      "\n",
      "Substract of a - b  is :  -30.0 \n",
      "\n",
      "Multiplication  of a * b  is :  99.0 \n",
      "\n",
      "Division of a / b  is :  0.09090909090909091 \n",
      "\n",
      "Modulus of a % b  is :  3.0 \n",
      "\n"
     ]
    }
   ],
   "source": [
    "a=float(input(\"Enter the first number: \" ))\n",
    "b=float(input(\"\\n\"+\"Enter the second number :\"))\n",
    "\n",
    "def cal(a,b):\n",
    "    c=a+b\n",
    "    print(\"\\n\",\"Sum of a + b  is : \",c,\"\\n\")\n",
    "    d=a-b\n",
    "    print(\"Substract of a - b  is : \",d,\"\\n\")\n",
    "    e=a*b\n",
    "    print(\"Multiplication  of a * b  is : \",e,\"\\n\")\n",
    "    f=a/b\n",
    "    print(\"Division of a / b  is : \",f,\"\\n\")\n",
    "    g=a%b\n",
    "    print(\"Modulus of a % b  is : \",g,\"\\n\")\n",
    "cal(a,b)    \n",
    "    "
   ]
  },
  {
   "cell_type": "code",
   "execution_count": 5,
   "id": "c57db507",
   "metadata": {},
   "outputs": [
    {
     "name": "stdout",
     "output_type": "stream",
     "text": [
      "39\n"
     ]
    }
   ],
   "source": [
    "def addition(a,b):\n",
    "    sum=a+b\n",
    "    print(sum)\n",
    "addition(a=5,b=34)  "
   ]
  },
  {
   "cell_type": "code",
   "execution_count": 6,
   "id": "46d7f042",
   "metadata": {},
   "outputs": [
    {
     "name": "stdout",
     "output_type": "stream",
     "text": [
      "5\n"
     ]
    }
   ],
   "source": [
    "firstnum = 2  \n",
    "secondnum =3 \n",
    "#agr data phela sa diya ho to ap parameters change bhi krsakta hai\n",
    "def addnum(num1,num2):  #parameters\n",
    "    result =num1+num2\n",
    "    print(result)\n",
    "addnum(firstnum,secondnum) "
   ]
  },
  {
   "cell_type": "code",
   "execution_count": 7,
   "id": "0dc8b3b1",
   "metadata": {},
   "outputs": [
    {
     "name": "stdout",
     "output_type": "stream",
     "text": [
      "5\n"
     ]
    }
   ],
   "source": [
    "firstnum = 2  \n",
    "secondnum =3 \n",
    "#agr data phela sa diya ho to ap parameters change bhi krsakta hai\n",
    "def addnum(eight,ten):    #parameters\n",
    "    result = eight +ten\n",
    "    print(result)\n",
    "addnum(firstnum,secondnum)"
   ]
  },
  {
   "cell_type": "code",
   "execution_count": 8,
   "id": "b6b7a765",
   "metadata": {},
   "outputs": [
    {
     "name": "stdout",
     "output_type": "stream",
     "text": [
      "-4\n"
     ]
    }
   ],
   "source": [
    "firstnum =8 \n",
    "secondnum =4\n",
    "def addnum(secondnum,firstnum):\n",
    "    result =firstnum-secondnum  #firstnum=4 ,secondnum=8\n",
    "    print(result)\n",
    "addnum(firstnum,secondnum)"
   ]
  },
  {
   "cell_type": "code",
   "execution_count": 9,
   "id": "b3998fc3",
   "metadata": {},
   "outputs": [
    {
     "name": "stdout",
     "output_type": "stream",
     "text": [
      "4\n"
     ]
    }
   ],
   "source": [
    "firstnum =8 \n",
    "secondnum =4\n",
    "def addnum(eight,four):\n",
    "    result =eight-four\n",
    "    print(result)\n",
    "addnum(firstnum,secondnum)"
   ]
  },
  {
   "cell_type": "code",
   "execution_count": 10,
   "id": "9ace46ce",
   "metadata": {},
   "outputs": [
    {
     "name": "stdout",
     "output_type": "stream",
     "text": [
      "4\n"
     ]
    }
   ],
   "source": [
    "firstnum =8 \n",
    "def addnum(eight,four=4):\n",
    "    result =eight-four\n",
    "    print(result)\n",
    "addnum(firstnum)"
   ]
  },
  {
   "cell_type": "code",
   "execution_count": 11,
   "id": "aaaef043",
   "metadata": {},
   "outputs": [
    {
     "name": "stdout",
     "output_type": "stream",
     "text": [
      "5\n"
     ]
    }
   ],
   "source": [
    " \n",
    "def add(num1,num2):\n",
    "    total=num1+num2\n",
    "    print(total)\n",
    "    \n",
    "add(num1=2,num2=3) "
   ]
  },
  {
   "cell_type": "code",
   "execution_count": 12,
   "id": "c54f3ef3",
   "metadata": {},
   "outputs": [
    {
     "name": "stdout",
     "output_type": "stream",
     "text": [
      "36.0\n"
     ]
    }
   ],
   "source": [
    "#  jb data or parameters same na ho to parameters and arguments same rakha ga\n",
    "def add(num1,num2):\n",
    "    total=a+b\n",
    "    print(total)\n",
    "    \n",
    "add(num1=2,num2=3) "
   ]
  },
  {
   "cell_type": "code",
   "execution_count": 13,
   "id": "8e5fda37",
   "metadata": {},
   "outputs": [
    {
     "name": "stdout",
     "output_type": "stream",
     "text": [
      "4\n"
     ]
    }
   ],
   "source": [
    "firstnum =8 \n",
    "def addnum(eight,four=4):\n",
    "    result =eight-four\n",
    "    print(result)\n",
    "addnum(firstnum)"
   ]
  },
  {
   "cell_type": "code",
   "execution_count": 14,
   "id": "1d1c74a8",
   "metadata": {},
   "outputs": [
    {
     "name": "stdout",
     "output_type": "stream",
     "text": [
      "4\n"
     ]
    }
   ],
   "source": [
    " \n",
    "def addnum(firstnum,four=4):\n",
    "    result = firstnum -four\n",
    "    print(result)\n",
    "addnum(firstnum=8)"
   ]
  },
  {
   "cell_type": "code",
   "execution_count": 15,
   "id": "33b74d24",
   "metadata": {},
   "outputs": [
    {
     "name": "stdout",
     "output_type": "stream",
     "text": [
      "12\n"
     ]
    }
   ],
   "source": [
    "firstnum=8\n",
    "def addnum(ten , four=4):\n",
    "    result = ten + four\n",
    "    print(result)\n",
    "addnum(firstnum)"
   ]
  },
  {
   "cell_type": "code",
   "execution_count": null,
   "id": "fc7c4817",
   "metadata": {},
   "outputs": [],
   "source": []
  },
  {
   "cell_type": "code",
   "execution_count": 16,
   "id": "8e17ef03",
   "metadata": {},
   "outputs": [
    {
     "name": "stdout",
     "output_type": "stream",
     "text": [
      "61\n"
     ]
    }
   ],
   "source": [
    "#we also pass more than one parameters\n",
    "def sum(a,b,c,d):   \n",
    "    e=a+b+c+d\n",
    "    print(e)\n",
    "sum(22,33,4,2)   \n",
    " "
   ]
  },
  {
   "cell_type": "code",
   "execution_count": 17,
   "id": "a3c941af",
   "metadata": {},
   "outputs": [
    {
     "name": "stdout",
     "output_type": "stream",
     "text": [
      "Enter your name : \n",
      "Hello \n"
     ]
    }
   ],
   "source": [
    "name=input(\"Enter your name : \")\n",
    "def greeting(name):\n",
    "    print(\"Hello\",name)\n",
    "greeting(name.upper())    "
   ]
  },
  {
   "cell_type": "code",
   "execution_count": 18,
   "id": "872185c5",
   "metadata": {},
   "outputs": [
    {
     "name": "stdout",
     "output_type": "stream",
     "text": [
      "Enter your name : raza\n",
      "Good Morning Raza\n"
     ]
    }
   ],
   "source": [
    "name=input(\"Enter your name : \")\n",
    "def greeting(name):\n",
    "    greet=\"Good Morning\"\n",
    "    print( greet,name)\n",
    "greeting(name.capitalize()) "
   ]
  },
  {
   "cell_type": "code",
   "execution_count": 19,
   "id": "5843af57",
   "metadata": {},
   "outputs": [
    {
     "name": "stdout",
     "output_type": "stream",
     "text": [
      "Enter your name : raza\n",
      "Good Morning Raza\n"
     ]
    }
   ],
   "source": [
    "name=input(\"Enter your name : \")\n",
    "greet=\"Good Morning\"\n",
    "def greeting(greet,name):\n",
    "    \n",
    "    print( greet,name)\n",
    "greeting(greet,name.title()) "
   ]
  },
  {
   "cell_type": "code",
   "execution_count": 20,
   "id": "b1a223a1",
   "metadata": {},
   "outputs": [
    {
     "name": "stdout",
     "output_type": "stream",
     "text": [
      "Enter your name : eza\n",
      "good morning eza\n"
     ]
    }
   ],
   "source": [
    "name=input(\"Enter your name : \")\n",
    "greet=\"Good Morning\"\n",
    "def greeting(greet,name):\n",
    "    gree=greet +\" \"+name      \n",
    "    print(gree.lower())\n",
    "greeting(greet,name) "
   ]
  },
  {
   "cell_type": "code",
   "execution_count": 21,
   "id": "b89f2a30",
   "metadata": {},
   "outputs": [
    {
     "name": "stdout",
     "output_type": "stream",
     "text": [
      "Hello Pakistan \n",
      " welcome \n",
      " summer\n",
      " hot\n",
      "\n"
     ]
    }
   ],
   "source": [
    "greeting = \"Hello Pakistan \\n\"\n",
    "entering = \"welcome \\n\"\n",
    "season = \"summer\\n\"\n",
    "temperature = \"hot\\n\" \n",
    "def user(a,b,c,d):#parameter\n",
    "    print(a,b,c,d)\n",
    "\n",
    "user(greeting,entering,season,temperature)#Arguments   "
   ]
  },
  {
   "cell_type": "code",
   "execution_count": 22,
   "id": "2680815d",
   "metadata": {},
   "outputs": [
    {
     "name": "stdout",
     "output_type": "stream",
     "text": [
      "20\n"
     ]
    },
    {
     "data": {
      "text/plain": [
       "20"
      ]
     },
     "execution_count": 22,
     "metadata": {},
     "output_type": "execute_result"
    }
   ],
   "source": [
    "a=6\n",
    "b=4\n",
    "c=4\n",
    "d=6\n",
    "def addition(a,b,c,d):\n",
    "    sum=a+b+c+d\n",
    "    print(sum)\n",
    "addition(a,b,c,d)\n",
    "20"
   ]
  },
  {
   "cell_type": "code",
   "execution_count": 23,
   "id": "e9f1c9da",
   "metadata": {},
   "outputs": [
    {
     "name": "stdout",
     "output_type": "stream",
     "text": [
      "20\n"
     ]
    }
   ],
   "source": [
    "a=6\n",
    "b=4\n",
    "c=4\n",
    "d=6\n",
    "def addition(r,g,f,t):\n",
    "    sum=r+g+f+t\n",
    "    print(sum)\n",
    "addition(a,b,c,d)"
   ]
  },
  {
   "cell_type": "code",
   "execution_count": 24,
   "id": "1ef0d62e",
   "metadata": {},
   "outputs": [
    {
     "name": "stdout",
     "output_type": "stream",
     "text": [
      "Hello Pakistan \n",
      " welcome \n",
      " summer\n",
      " hot\n",
      "\n"
     ]
    }
   ],
   "source": [
    "greeting = \"Hello Pakistan \\n\"\n",
    "entering = \"welcome \\n\"\n",
    "season = \"summer\\n\"\n",
    "temperature = \"hot\\n\"\n",
    "def user(greeting,entering,season,temperature):\n",
    "    print(greeting,entering,season,temperature)\n",
    "user(greeting,entering,season,temperature)   \n",
    "    "
   ]
  },
  {
   "cell_type": "code",
   "execution_count": 25,
   "id": "9ee10e59",
   "metadata": {},
   "outputs": [
    {
     "name": "stdout",
     "output_type": "stream",
     "text": [
      "Hello Pakistan \n",
      " welcome \n",
      " summer\n",
      " hot\n",
      "\n"
     ]
    }
   ],
   "source": [
    "def user(a,b,c,d):\n",
    "    print(a,b,c,d)\n",
    "    \n",
    "greeting = \"Hello Pakistan \\n\"\n",
    "entering = \"welcome \\n\"\n",
    "season = \"summer\\n\"\n",
    "temperature = \"hot\\n\"    \n",
    "user(greeting,entering,season,temperature)   \n",
    "    "
   ]
  },
  {
   "cell_type": "code",
   "execution_count": 26,
   "id": "bb9ac261",
   "metadata": {},
   "outputs": [
    {
     "name": "stdout",
     "output_type": "stream",
     "text": [
      "Enter husband nameraza\n",
      "Enter wife namezehra\n",
      "RAZA  and  ZEHRA are husband and wife\n"
     ]
    }
   ],
   "source": [
    "husband_name=input(\"Enter husband name\")\n",
    "wife_name=input(\"Enter wife name\")\n",
    "def couple(husband_name,wife_name):\n",
    "    print(husband_name,\" and \",wife_name, \"are husband and wife\") \n",
    "couple(husband_name.upper(),wife_name.upper()) \n",
    "\n",
    "# dono parameters ka lia value dena zarori ha"
   ]
  },
  {
   "cell_type": "code",
   "execution_count": 27,
   "id": "d42ef9bd",
   "metadata": {},
   "outputs": [],
   "source": [
    "# husband_name=input(\"Enter husband name\")\n",
    "# wife_name=input(\"Enter wife name\")\n",
    "# def couple(husband_name,wife_name):\n",
    "#     print(husband_name,\" and \",wife_name, \"are husband and wife\") \n",
    "# couple(wife_name.upper(),husband_name.upper()) \n",
    "\n",
    "# # dono parameters ka lia value dena zarori ha"
   ]
  },
  {
   "cell_type": "code",
   "execution_count": 28,
   "id": "d787c3a2",
   "metadata": {},
   "outputs": [
    {
     "name": "stdout",
     "output_type": "stream",
     "text": [
      "Enter the first name : muhammad \n",
      "Enter the middle name  : mudassir\n",
      "Enter the last name  : raza\n",
      "Your full name is : MUHAMMAD  MUDASSIR RAZA \n"
     ]
    }
   ],
   "source": [
    "firstname=input(\"Enter the first name : \").upper()\n",
    "middlename=input(\"Enter the middle name  : \").upper()\n",
    "lastname=input(\"Enter the last name  : \").upper()\n",
    "\n",
    "def fullname(firstname,middlename,lastname):\n",
    "    print(\"Your full name is : \"+firstname+\" \"+middlename+\" \"+lastname+\" \")\n",
    "    \n",
    "fullname(firstname,middlename,lastname)"
   ]
  },
  {
   "cell_type": "code",
   "execution_count": 32,
   "id": "6fd9a7b4",
   "metadata": {},
   "outputs": [
    {
     "name": "stdout",
     "output_type": "stream",
     "text": [
      "mudassirraza\n"
     ]
    }
   ],
   "source": [
    "def username(lastname,firstname,):\n",
    "    fullname=firstname+lastname\n",
    "    print(fullname)\n",
    "username(firstname='mudassir',lastname='raza')  "
   ]
  },
  {
   "cell_type": "code",
   "execution_count": 33,
   "id": "893700bb",
   "metadata": {},
   "outputs": [
    {
     "name": "stdout",
     "output_type": "stream",
     "text": [
      "razamudassir\n"
     ]
    }
   ],
   "source": [
    "def username(lastname,firstname,):\n",
    "    fullname=lastname+firstname\n",
    "    print(fullname)\n",
    "username(firstname='mudassir',lastname='raza') "
   ]
  },
  {
   "cell_type": "code",
   "execution_count": 34,
   "id": "6116fab8",
   "metadata": {},
   "outputs": [
    {
     "ename": "SyntaxError",
     "evalue": "non-default argument follows default argument (3226605616.py, line 2)",
     "output_type": "error",
     "traceback": [
      "\u001b[1;36m  Input \u001b[1;32mIn [34]\u001b[1;36m\u001b[0m\n\u001b[1;33m    def course(institute,language=\"python programming\",duration): #manditary parameters must comes in last\u001b[0m\n\u001b[1;37m                                                               ^\u001b[0m\n\u001b[1;31mSyntaxError\u001b[0m\u001b[1;31m:\u001b[0m non-default argument follows default argument\n"
     ]
    }
   ],
   "source": [
    "institute=\"SMITH\"\n",
    "def course(institute,language=\"python programming\",duration): #manditary parameters must comes in last\n",
    "    print(institute+\"  \"+language+\"  \"+duration)\n",
    "course(institute,language,duration=\"3 months\")\n"
   ]
  },
  {
   "cell_type": "code",
   "execution_count": 35,
   "id": "c66efcf8",
   "metadata": {},
   "outputs": [
    {
     "name": "stdout",
     "output_type": "stream",
     "text": [
      "SMITH  python programming  3 months\n"
     ]
    }
   ],
   "source": [
    "#default parameter value always comes in last\n",
    "institute=\"SMITH\"\n",
    "def course(institute,duration,language=\"python programming\"): #manditary parameters must comes in last\n",
    "    print(institute+\"  \"+language+\"  \"+duration)\n",
    "course(institute,duration=\"3 months\")"
   ]
  },
  {
   "cell_type": "code",
   "execution_count": 36,
   "id": "711eadf4",
   "metadata": {},
   "outputs": [
    {
     "name": "stdout",
     "output_type": "stream",
     "text": [
      "4.0548\n"
     ]
    }
   ],
   "source": [
    "   def calc_tax(sales_total, tax_rate):\n",
    "        print(sales_total * tax_rate)\n",
    "calc_tax(sales_total=101.37, tax_rate=.04) "
   ]
  },
  {
   "cell_type": "code",
   "execution_count": 37,
   "id": "0162afdb",
   "metadata": {},
   "outputs": [
    {
     "name": "stdout",
     "output_type": "stream",
     "text": [
      "4.0548\n",
      "4.0548\n",
      "91.233\n",
      "10.137\n"
     ]
    }
   ],
   "source": [
    "   def calc_tax(sales_total, tax_rate=.04):\n",
    "        print(sales_total * tax_rate)\n",
    "calc_tax(sales_total=101.37)\n",
    "calc_tax(101.37)\n",
    "calc_tax(sales_total=101.37,tax_rate=0.9)\n",
    "calc_tax(101.37,0.10)\n"
   ]
  },
  {
   "cell_type": "code",
   "execution_count": null,
   "id": "475883c1",
   "metadata": {},
   "outputs": [],
   "source": [
    "  "
   ]
  },
  {
   "cell_type": "code",
   "execution_count": 38,
   "id": "bf21b78b",
   "metadata": {},
   "outputs": [
    {
     "name": "stdout",
     "output_type": "stream",
     "text": [
      "MY name is mudassir\n"
     ]
    }
   ],
   "source": [
    "pronoun=\"MY name\"\n",
    "def personalinformation(pronoun,verb,name=\"mudassir\"):\n",
    "    print(pronoun+\" \"+verb+\" \"+name)\n",
    "personalinformation(pronoun,verb=\"is\")    "
   ]
  },
  {
   "cell_type": "code",
   "execution_count": 39,
   "id": "3967148f",
   "metadata": {},
   "outputs": [
    {
     "name": "stdout",
     "output_type": "stream",
     "text": [
      "My name is MUHAMMAD MUDASSIR RAZA and my fahter name is ZAKIR RAZA\n"
     ]
    }
   ],
   "source": [
    "def personalinfo(name,fathername):\n",
    "    print(\"My name is \"+name+\" and my fahter name is \"+fathername)\n",
    "personalinfo(name=\"MUHAMMAD MUDASSIR RAZA\",fathername=\"ZAKIR RAZA\")    "
   ]
  },
  {
   "cell_type": "code",
   "execution_count": 40,
   "id": "7b275e1d",
   "metadata": {},
   "outputs": [
    {
     "name": "stdout",
     "output_type": "stream",
     "text": [
      "What is your subject name\n",
      "['Pakistan', 'UAE', 'USA', 'Africa', 'Computer Science']\n"
     ]
    }
   ],
   "source": [
    "\n",
    "questions={\n",
    "  1:  { \"sno\" : 1,\n",
    "      \"question\" : \"What is your country name\",\n",
    "     \"option\" : [\"Pakistan\",\"UAE\",\"USA\",\"Africa\"],\n",
    "     \"answer\" : \"Pakistan\"\n",
    "    } ,\n",
    "        \n",
    " 2:   { \"sno\" : 2,\n",
    "      \"question\" : \"What is your city name\",\n",
    "      \"option\" : [\"Pakistan\",\"UAE\",\"USA\",\"Africa\",\"Karachi\"],\n",
    "      \"answer\" :  \"Karachi\"\n",
    "     \n",
    "    } ,\n",
    "  3:  { \"sno\" : 3,\n",
    "      \"question\" : \"What is your subject name\",\n",
    "     \"option\" : [\"Pakistan\",\"UAE\",\"USA\",\"Africa\",\"Computer Science\"],\n",
    "     \"answer\" : \"Computer Science\"\n",
    "    } \n",
    " }\n",
    "def find_something(dict,inner_dict,target):\n",
    "    print(dict[inner_dict][target])\n",
    "    \n",
    "find_something(questions,3,\"question\")    \n",
    "find_something(questions,3,\"option\")    "
   ]
  },
  {
   "cell_type": "code",
   "execution_count": 41,
   "id": "508f33cd",
   "metadata": {},
   "outputs": [
    {
     "name": "stdout",
     "output_type": "stream",
     "text": [
      "fahad\n",
      "['Pakistan', 'UAE', 'USA', 'Africa', 'Computer Science']\n"
     ]
    }
   ],
   "source": [
    "\n",
    "questions={\n",
    "  1:  { \"sno\" : 1,\n",
    "      \"name\" : \"raza\",\n",
    "      \"question\" : \"What is your country name\",\n",
    "     \"option\" : [\"Pakistan\",\"UAE\",\"USA\",\"Africa\"],\n",
    "     \"answer\" : \"Pakistan\"\n",
    "    } ,\n",
    "        \n",
    " 2:   { \"sno\" : 2,\n",
    "       \"name\" : \"ali\",\n",
    "      \"question\" : \"What is your city name\",\n",
    "      \"option\" : [\"Pakistan\",\"UAE\",\"USA\",\"Africa\",\"Karachi\"],\n",
    "      \"answer\" :  \"Karachi\"\n",
    "     \n",
    "    } ,\n",
    "  3:  { \"sno\" : 3,\n",
    "       \"name\" : \"fahad\",\n",
    "      \"question\" : \"What is your subject name\",\n",
    "     \"option\" : [\"Pakistan\",\"UAE\",\"USA\",\"Africa\",\"Computer Science\"],\n",
    "     \"answer\" : \"Computer Science\"\n",
    "    } \n",
    " }\n",
    "def find_something(dict,inner_dict,target):\n",
    "    print(dict[inner_dict][target])\n",
    "    \n",
    "find_something(questions,3,\"name\")    \n",
    "find_something(questions,3,\"option\")    "
   ]
  },
  {
   "cell_type": "code",
   "execution_count": 42,
   "id": "0ae2d487",
   "metadata": {},
   "outputs": [
    {
     "name": "stdout",
     "output_type": "stream",
     "text": [
      "My class is BSCS and section is A\n",
      "Name : Mudassir\n",
      "Fathername :Zakir\n",
      "Email :raza@yahoo.com\n",
      "City:Karachi\n",
      "Country :Pakistan\n"
     ]
    }
   ],
   "source": [
    "#for insert/push more and many information(values) in a parameter we used * and loop\n",
    "# one * show that the data comes in tuple\n",
    "\n",
    "def detail(Class,section,*otherinfo):\n",
    "    print(\"My class is \"+Class+\" and section is \"+section) \n",
    "    for information in otherinfo:\n",
    "        print(information)\n",
    "    \n",
    "detail(\"BSCS\",\"A\",\"Name : Mudassir\",\"Fathername :Zakir\",\"Email :raza@yahoo.com\",\"City:Karachi\",\"Country :Pakistan\")  "
   ]
  },
  {
   "cell_type": "code",
   "execution_count": 43,
   "id": "59f13b1f",
   "metadata": {},
   "outputs": [
    {
     "name": "stdout",
     "output_type": "stream",
     "text": [
      "My class is BSCS and section is A\n",
      "('Name :ALI', 'Fathername :RAZA', 'Email :ali@yahoo.com', 'City:Karachi', 'Country :Pakistan')\n"
     ]
    }
   ],
   "source": [
    " #without loop information come in this way\n",
    "# one * show that the data comes in tuple   \n",
    "\n",
    "def detail(Class,section,*otherinfo):\n",
    "    print(\"My class is \"+Class+\" and section is \"+section)\n",
    "    print(otherinfo)\n",
    "detail(\"BSCS\",\"A\",\"Name :ALI\",\"Fathername :RAZA\",\"Email :ali@yahoo.com\",\"City:Karachi\",\"Country :Pakistan\")        "
   ]
  },
  {
   "cell_type": "code",
   "execution_count": 44,
   "id": "a108d124",
   "metadata": {},
   "outputs": [
    {
     "name": "stdout",
     "output_type": "stream",
     "text": [
      "My class is BSCS and section is A\n",
      "{'Name': 'ALI', 'Fathername': 'RAZA', 'Email': 'ali@yahoo.com', 'City': 'Karachi', 'Country': 'Pakistan'}\n"
     ]
    }
   ],
   "source": [
    "#for excess keys and  in parameter we use ** and in loop using .items for excess both keys snd values\n",
    "# two ** show that the data comes in dictionary and you pass extra data in the form of key and value\n",
    "\n",
    "def detail(Class,section,**otherinfo):\n",
    "    print(\"My class is \"+Class+\" and section is \"+section)\n",
    "    print(otherinfo)\n",
    "detail(\"BSCS\",\"A\",Name=\"ALI\",Fathername =\"RAZA\",Email=\"ali@yahoo.com\",City=\"Karachi\",Country=\"Pakistan\")        "
   ]
  },
  {
   "cell_type": "code",
   "execution_count": 45,
   "id": "11e1d79f",
   "metadata": {},
   "outputs": [
    {
     "name": "stdout",
     "output_type": "stream",
     "text": [
      "My class is BSCS and section is A\n",
      "Name\n",
      "Fathername\n",
      "Email\n",
      "City\n",
      "Country\n"
     ]
    }
   ],
   "source": [
    "#for excess keys and  in parameter we use ** and in loop using .items for excess both keys snd values\n",
    "# two ** show that the data comes in dictionary and you pass extra data in the form of key and value\n",
    "def detail(Class,section,**otherinfo):\n",
    "    print(\"My class is \"+Class+\" and section is \"+section)\n",
    "    for information in otherinfo:\n",
    "        print(information)\n",
    "detail(\"BSCS\",\"A\",Name=\"ALI\",Fathername =\"RAZA\",Email=\"ali@yahoo.com\",City=\"Karachi\",Country=\"Pakistan\")        "
   ]
  },
  {
   "cell_type": "code",
   "execution_count": 46,
   "id": "0fad2223",
   "metadata": {},
   "outputs": [
    {
     "name": "stdout",
     "output_type": "stream",
     "text": [
      "100\n",
      "200\n",
      "(300, 400, 500)\n"
     ]
    }
   ],
   "source": [
    "def display_nums(first_num, second_num,*opt_nums):\n",
    "    print(first_num)\n",
    "    print(second_num)\n",
    "    print(opt_nums)\n",
    "    \n",
    "display_nums(100, 200, 300, 400, 500)    \n",
    "# data comes in list or tuple"
   ]
  },
  {
   "cell_type": "code",
   "execution_count": 47,
   "id": "1cd3af0d",
   "metadata": {},
   "outputs": [
    {
     "name": "stdout",
     "output_type": "stream",
     "text": [
      "100\n",
      "200\n",
      "{'bonus': 300, 'overtime': 400, 'extra': 500}\n",
      "100\n",
      "200\n",
      "{'bonus': 300, 'overtime': 400, 'extra': 500}\n"
     ]
    }
   ],
   "source": [
    "def display_nums(basic_salary, house_rent,**other_benifits):\n",
    "    print(basic_salary)\n",
    "    print(house_rent)\n",
    "    print(other_benifits)\n",
    "    \n",
    "display_nums(100, 200,bonus=300,overtime= 400,extra= 500)\n",
    "display_nums(100, 200,bonus=300,overtime= 400,extra= 500)"
   ]
  },
  {
   "cell_type": "code",
   "execution_count": 48,
   "id": "ef9f03e6",
   "metadata": {},
   "outputs": [
    {
     "data": {
      "text/plain": [
       "100"
      ]
     },
     "execution_count": 48,
     "metadata": {},
     "output_type": "execute_result"
    }
   ],
   "source": [
    "def display_nums(basic_salary, house_rent,**other_benifits):\n",
    "     return basic_salary\n",
    "#     print(house_rent)\n",
    "#     print(other_benifits)\n",
    "    \n",
    "display_nums(100, 200,bonus=300,overtime= 400,extra= 500)\n",
    "# display_nums(100, 200,bonus=300,overtime= 400,extra= 500)"
   ]
  },
  {
   "cell_type": "code",
   "execution_count": 49,
   "id": "105e652c",
   "metadata": {},
   "outputs": [
    {
     "data": {
      "text/plain": [
       "(100, 200, {'bonus': 300, 'overtime': 400, 'extra': 500})"
      ]
     },
     "execution_count": 49,
     "metadata": {},
     "output_type": "execute_result"
    }
   ],
   "source": [
    "def display_nums(basic_salary, house_rent,**other_benifits):\n",
    "     return (basic_salary,house_rent,other_benifits)\n",
    " \n",
    "    \n",
    "display_nums(100, 200,bonus=300,overtime= 400,extra= 500)\n",
    "# display_nums(100, 200,bonus=300,overtime= 400,extra= 500)"
   ]
  },
  {
   "cell_type": "code",
   "execution_count": 50,
   "id": "3f33e395",
   "metadata": {},
   "outputs": [
    {
     "name": "stdout",
     "output_type": "stream",
     "text": [
      "My class is BSCS and section is A\n",
      "Name:ALI\n",
      "Fathername:RAZA\n",
      "Email:ali@yahoo.com\n",
      "City:Karachi\n",
      "Country:Pakistan\n"
     ]
    }
   ],
   "source": [
    "#for excess keys and  in parameter we use ** and in loop using .items for excess both keys snd values\n",
    "def detail(Class,section,**otherinfo):\n",
    "    print(\"My class is \"+Class+\" and section is \"+section)\n",
    "    for keys,values in otherinfo.items():\n",
    "        print(keys+\":\"+values)\n",
    "detail(\"BSCS\",\"A\",Name=\"ALI\",Fathername =\"RAZA\",Email=\"ali@yahoo.com\",City=\"Karachi\",Country=\"Pakistan\")"
   ]
  },
  {
   "cell_type": "code",
   "execution_count": 51,
   "id": "0264cac8",
   "metadata": {},
   "outputs": [
    {
     "name": "stdout",
     "output_type": "stream",
     "text": [
      "My class is BSCS and section is A\n",
      "Name:ALI\n",
      "Fathername:RAZA\n",
      "Email:ali@yahoo.com\n",
      "City:Karachi\n",
      "Country:Pakistan\n"
     ]
    }
   ],
   "source": [
    "def detail(Class,section,**otherinfo):\n",
    "    print(\"My class is \"+Class+\" and section is \"+section)\n",
    "    for a_key,b_values in otherinfo.items():\n",
    "        print(a_key+\":\"+b_values)\n",
    "detail(\"BSCS\",\"A\",Name=\"ALI\",Fathername =\"RAZA\",Email=\"ali@yahoo.com\",City=\"Karachi\",Country=\"Pakistan\")"
   ]
  },
  {
   "cell_type": "code",
   "execution_count": 52,
   "id": "cbdd70f0",
   "metadata": {},
   "outputs": [
    {
     "name": "stdout",
     "output_type": "stream",
     "text": [
      "My class is BSCS and section is A\n",
      "Name:ALI\n",
      "Fathername:RAZA\n",
      "Email:ali@yahoo.com\n",
      "City:Karachi\n",
      "Country:Pakistan\n"
     ]
    }
   ],
   "source": [
    "def detail(Class,section,**otherinfo):\n",
    "    print(\"My class is \"+Class+\" and section is \"+section)\n",
    "    for Forminformation,Detailinformation in otherinfo.items():\n",
    "        print(Forminformation+\":\"+Detailinformation)\n",
    "detail(\"BSCS\",\"A\",Name=\"ALI\",Fathername =\"RAZA\",Email=\"ali@yahoo.com\",City=\"Karachi\",Country=\"Pakistan\")"
   ]
  },
  {
   "cell_type": "code",
   "execution_count": 53,
   "id": "b14fd3b9",
   "metadata": {},
   "outputs": [
    {
     "name": "stdout",
     "output_type": "stream",
     "text": [
      "22\n"
     ]
    }
   ],
   "source": [
    "#if i want to print result out side of function so we used the keyword return jis ka through hum result ko bhr excess krsakta ha\n",
    "def sumfunction():\n",
    "    num1=3\n",
    "    num2=12\n",
    "    num3=7\n",
    "    result = num1+num2+num3\n",
    "    return result\n",
    "return_result=sumfunction()\n",
    "print(return_result)\n",
    "\n",
    "\n",
    "\n",
    "\n",
    "\n",
    "\n",
    "\n"
   ]
  },
  {
   "cell_type": "code",
   "execution_count": 54,
   "id": "1b66d079",
   "metadata": {},
   "outputs": [
    {
     "name": "stdout",
     "output_type": "stream",
     "text": [
      "317\n"
     ]
    }
   ],
   "source": [
    "def sumfunction():\n",
    "    number1=89\n",
    "    number2=87\n",
    "    number3=65\n",
    "    number4=76\n",
    "    result=number1+number2+number3+number4\n",
    "    return result#we use return here to excess the result outside of function\n",
    "return_result=sumfunction()#This is necessary to save function result when call return outsde of function that why we call function in return variable.\n",
    "print(return_result)"
   ]
  },
  {
   "cell_type": "code",
   "execution_count": 55,
   "id": "eed9c7d4",
   "metadata": {},
   "outputs": [
    {
     "name": "stdout",
     "output_type": "stream",
     "text": [
      "return_result1 : 22 \n",
      "\n",
      "return_result2 : 252 \n",
      "\n",
      "return_result3 : -16 \n",
      "\n",
      "return_result3 : -16 \n",
      "\n",
      "242\n"
     ]
    }
   ],
   "source": [
    "def sumfunction1():\n",
    "    num1=3\n",
    "    num2=12\n",
    "    num3=7\n",
    "    result = num1+num2+num3\n",
    "    return result\n",
    "return_result1=sumfunction1()\n",
    "print(\"return_result1 :\" ,return_result1 ,\"\\n\")\n",
    "\n",
    "def mulfunction2():\n",
    "    num1=3\n",
    "    num2=12\n",
    "    num3=7\n",
    "    result = num1*num2*num3\n",
    "    return result\n",
    "return_result2=mulfunction2()\n",
    "print(\"return_result2 :\" ,return_result2 ,\"\\n\")\n",
    " \n",
    "def subfunction3():\n",
    "    num1=3\n",
    "    num2=12\n",
    "    num3=7\n",
    "    result = num1-num2-num3\n",
    "    return result\n",
    "return_result3=subfunction3()\n",
    "print(\"return_result3 :\" ,return_result3 ,\"\\n\")\n",
    "\n",
    "def divfunction4():\n",
    "    num1=3\n",
    "    num2=12\n",
    "    num3=7\n",
    "    result = num1-num2-num3\n",
    "    return result\n",
    "return_result4=divfunction4()\n",
    "print(\"return_result3 :\" ,return_result4 ,\"\\n\")\n",
    "\n",
    "finalresult=return_result1+return_result2+return_result3+return_result4\n",
    "print(finalresult)\n"
   ]
  },
  {
   "cell_type": "code",
   "execution_count": 56,
   "id": "96ea8350",
   "metadata": {},
   "outputs": [
    {
     "name": "stdout",
     "output_type": "stream",
     "text": [
      "What is your name :Mudassir\n",
      "MUDASSIR is enrolled in SMITH  PYTHON PROGRAMMING 3 months\n"
     ]
    }
   ],
   "source": [
    "def courseinfo():\n",
    "    inst=\"SMITH\"\n",
    "    language=\"  PYTHON PROGRAMMING\"\n",
    "    duration=\" 3 months\"\n",
    "    return(inst+\"\"+language+\"\"+duration)\n",
    "#for multiple values return we used ()\n",
    "def userinfo():\n",
    "    name=input(\"What is your name :\")\n",
    "    result=name.upper()+\" \"+\"is enrolled in\"+\" \"+courseinfo() #for returnwe call function in variable\n",
    "    return result\n",
    "wholeinfo=userinfo()\n",
    "print(wholeinfo)"
   ]
  },
  {
   "cell_type": "code",
   "execution_count": 57,
   "id": "43834f2f",
   "metadata": {},
   "outputs": [
    {
     "name": "stdout",
     "output_type": "stream",
     "text": [
      "what is your name  mudassir\n",
      "\n",
      "MUDASSIR is enrolled in FUUAST COMPUTER SCIENCE 4 years \n"
     ]
    }
   ],
   "source": [
    "# call one function in to another\n",
    "def course():\n",
    "    inst=\"FUUAST\"\n",
    "    subject=\"COMPUTER SCIENCE\"\n",
    "    duration =\"4 years\"\n",
    "    return(inst+\" \"+subject+\" \"+duration+\" \")\n",
    "def userinfo():\n",
    "    name=input(\"what is your name  \")\n",
    "    result = \"\\n\"+name.upper()+\" is enrolled in \"+course()\n",
    "    return result\n",
    "wholeinfo=userinfo()\n",
    "print(wholeinfo)\n"
   ]
  },
  {
   "cell_type": "code",
   "execution_count": 58,
   "id": "c1332d90",
   "metadata": {},
   "outputs": [
    {
     "name": "stdout",
     "output_type": "stream",
     "text": [
      "What is your university name :  FUUAST\n",
      "\n",
      " You are enrolled in FUUAST\n",
      "name: MUHAMMAD MUDASSIR RAZA\n",
      "Class:   BSCS  \n",
      "Section:  A\n",
      " CNIC :42201-5510139-1\n",
      "Father Name  ZAKIR RAZA\n",
      "City Name: KARACHI\n",
      "\n"
     ]
    }
   ],
   "source": [
    "def personalinfo():\n",
    "    name=\"MUHAMMAD MUDASSIR RAZA\"\n",
    "    Class=\"  BSCS  \"\n",
    "    Section=\" A\"\n",
    "    return(\"\\n\"+\"name: \"+name+\"\\n\"+\"Class: \"+Class+\"\\n\"+\"Section: \"+Section)\n",
    "#for multiple values return we used ()\n",
    "def detailinfo():\n",
    "    CNIC=\"42201-5510139-1\"\n",
    "    Father_Name=\"  ZAKIR RAZA\"\n",
    "    Live_in=\" KARACHI\"\n",
    "    return(\"CNIC :\"+CNIC+\"\\n\"+\"Father Name\"+Father_Name+\"\\n\"+\"City Name:\"+Live_in+\"\\n\")\n",
    "#for multiple values return we used ()\n",
    "def userinfo():\n",
    "    University=input(\"What is your university name :  \")\n",
    "    result=\"\\n You are enrolled in \"+University+personalinfo()+\"\\n \"+detailinfo() #for returnwe call function in variable\n",
    "    return result\n",
    "wholeinfo=userinfo()\n",
    "print(wholeinfo)"
   ]
  },
  {
   "cell_type": "code",
   "execution_count": 59,
   "id": "0d044419",
   "metadata": {},
   "outputs": [
    {
     "name": "stdout",
     "output_type": "stream",
     "text": [
      "Umair Aslam\n"
     ]
    }
   ],
   "source": [
    "def addnum():\n",
    "    name =\"Umair\"\n",
    "    return name\n",
    "firstname=addnum()\n",
    "fullname=(firstname+\" \"+\"Aslam\")\n",
    "print(fullname)"
   ]
  },
  {
   "cell_type": "code",
   "execution_count": 60,
   "id": "743bd84a",
   "metadata": {},
   "outputs": [
    {
     "name": "stdout",
     "output_type": "stream",
     "text": [
      "MUHAMMAD MUDASSIR RAZA\n"
     ]
    }
   ],
   "source": [
    "def fullname(firstname ,middlename ,lastname):\n",
    "    firstname;\n",
    "    middlename;\n",
    "    lastname;\n",
    "    return(firstname +\" \"+middlename+\" \"+lastname)\n",
    "full_name=fullname(firstname=\"MUHAMMAD\",middlename=\"MUDASSIR\",lastname=\"RAZA\")\n",
    "print(full_name)\n",
    " "
   ]
  },
  {
   "cell_type": "code",
   "execution_count": 61,
   "id": "2f6591fc",
   "metadata": {},
   "outputs": [
    {
     "name": "stdout",
     "output_type": "stream",
     "text": [
      "5.0685\n"
     ]
    }
   ],
   "source": [
    "def calc_tax(sales_total, tax_rate):\n",
    "    print(sales_total * tax_rate)\n",
    "calc_tax(sales_total=101.37, tax_rate=.05) "
   ]
  },
  {
   "cell_type": "code",
   "execution_count": 62,
   "id": "4fe041d2",
   "metadata": {},
   "outputs": [
    {
     "name": "stdout",
     "output_type": "stream",
     "text": [
      "4.0548\n"
     ]
    }
   ],
   "source": [
    " def calc_tax(sales_total, tax_rate=.04):\n",
    "        print(sales_total * tax_rate)\n",
    "calc_tax(sales_total=101.37)"
   ]
  },
  {
   "cell_type": "code",
   "execution_count": 63,
   "id": "c16db297",
   "metadata": {},
   "outputs": [
    {
     "name": "stdout",
     "output_type": "stream",
     "text": [
      "4.0548\n"
     ]
    }
   ],
   "source": [
    " def calc_tax(sales_total, tax_rate=.04):\n",
    "        tax=sales_total * tax_rate\n",
    "        return tax\n",
    "        \n",
    "sale_tax=calc_tax(sales_total=101.37)\n",
    "print(sale_tax)"
   ]
  },
  {
   "cell_type": "code",
   "execution_count": 64,
   "id": "a57e31a3",
   "metadata": {},
   "outputs": [
    {
     "name": "stdout",
     "output_type": "stream",
     "text": [
      "4.0548\n"
     ]
    }
   ],
   "source": [
    "def calc_tax(sales_total, tax_rate=.04):\n",
    "        return(sales_total * tax_rate)\n",
    "        \n",
    "sale_tax=calc_tax(sales_total=101.37)\n",
    "print(sale_tax)"
   ]
  },
  {
   "cell_type": "code",
   "execution_count": 65,
   "id": "85497c39",
   "metadata": {},
   "outputs": [
    {
     "name": "stdout",
     "output_type": "stream",
     "text": [
      "Hello there, Ali\n"
     ]
    }
   ],
   "source": [
    "def give_greeting(greeting, first_name):\n",
    "    print(greeting + \", \" + first_name)\n",
    "give_greeting(\"Hello there\", first_name=\"Ali\")   "
   ]
  },
  {
   "cell_type": "code",
   "execution_count": 66,
   "id": "1f59700e",
   "metadata": {},
   "outputs": [
    {
     "name": "stdout",
     "output_type": "stream",
     "text": [
      "Hello there, Ali the wonder boy\n"
     ]
    }
   ],
   "source": [
    "def give_greeting(greeting, first_name,flattering_nickname=\" the wonder boy\"):\n",
    "    print(greeting + \", \" + first_name +flattering_nickname)\n",
    "give_greeting(\"Hello there\", first_name=\"Ali\")  "
   ]
  },
  {
   "cell_type": "code",
   "execution_count": 67,
   "id": "4998b4a8",
   "metadata": {},
   "outputs": [
    {
     "name": "stdout",
     "output_type": "stream",
     "text": [
      "4\n"
     ]
    }
   ],
   "source": [
    "def add_numbers(first_number, second_number):\n",
    "    return first_number + second_number\n",
    "\n",
    "def subtract_numbers(first_number, second_number):\n",
    "    return first_number - second_number\n",
    "\n",
    "result_of_adding = add_numbers(1, 2)\n",
    "\n",
    "result_of_subtracting = subtract_numbers(3, 2)\n",
    "\n",
    "sum_of_results = result_of_adding +result_of_subtracting\n",
    "\n",
    "print(sum_of_results)"
   ]
  },
  {
   "cell_type": "code",
   "execution_count": 68,
   "id": "d0cc5560",
   "metadata": {},
   "outputs": [
    {
     "name": "stdout",
     "output_type": "stream",
     "text": [
      "23\n",
      "1\n"
     ]
    }
   ],
   "source": [
    "#local variable define within in function\n",
    "def whatever():\n",
    "    y = 23 \n",
    "    print(y)\n",
    "    y = 1\n",
    "    print(y)\n",
    "whatever()"
   ]
  },
  {
   "cell_type": "code",
   "execution_count": 69,
   "id": "31d888ed",
   "metadata": {},
   "outputs": [
    {
     "name": "stdout",
     "output_type": "stream",
     "text": [
      "1\n"
     ]
    }
   ],
   "source": [
    "#global variable define outside in function\n",
    "y = 1\n",
    " \n",
    "def whatever():\n",
    "    \n",
    "    print(y)\n",
    "     \n",
    "whatever()\n",
    "\n",
    "\n"
   ]
  },
  {
   "cell_type": "code",
   "execution_count": 70,
   "id": "7c31c405",
   "metadata": {},
   "outputs": [
    {
     "name": "stdout",
     "output_type": "stream",
     "text": [
      "6\n"
     ]
    }
   ],
   "source": [
    "def whatever():\n",
    "    a = 1\n",
    "whatever()\n",
    "\n",
    "print(a)\n",
    "# you cant access local variable outside the function"
   ]
  },
  {
   "cell_type": "code",
   "execution_count": 71,
   "id": "b058c906",
   "metadata": {},
   "outputs": [
    {
     "name": "stdout",
     "output_type": "stream",
     "text": [
      "Hi\n"
     ]
    }
   ],
   "source": [
    "#functions within functions\n",
    "def say_something():\n",
    "    what_to_say = \"Hi\"\n",
    "    return(what_to_say)\n",
    "# now_say_it(say_something())\n",
    "# print(now_say_it)\n",
    "    \n",
    "def now_say_it(content):\n",
    "    print(content)\n",
    "now_say_it(say_something())    "
   ]
  },
  {
   "cell_type": "code",
   "execution_count": 72,
   "id": "afab0ebc",
   "metadata": {},
   "outputs": [
    {
     "name": "stdout",
     "output_type": "stream",
     "text": [
      "Hi\n"
     ]
    }
   ],
   "source": [
    "def say_something():\n",
    "    what_to_say = \"Hi\"\n",
    "    return what_to_say\n",
    "    \n",
    "now_say_it(say_something())\n",
    "    \n",
    "    \n",
    "def now_say_it(content):\n",
    "    print(content)    \n",
    "    "
   ]
  },
  {
   "cell_type": "code",
   "execution_count": 74,
   "id": "53ce4bab",
   "metadata": {},
   "outputs": [
    {
     "name": "stdout",
     "output_type": "stream",
     "text": [
      "Enter a positive Number: 1\n",
      "1  is 1 or less than one and it's not prime\n"
     ]
    }
   ],
   "source": [
    "def checkPrime(X):\n",
    "    if X > 1:\n",
    "        for i in range(2,int(X/2)+1):\n",
    "            if(X % i)==0:\n",
    "                print(X, \" is not a prime number\\n\")\n",
    "                print(\"The factors of\", X, \"are: \")\n",
    "                for j in range(1, X+1):\n",
    "                    if(X % j)==0:\n",
    "                        print(j,\" \")\n",
    "                break\n",
    "            else:\n",
    "                print(X, \" is a prime number\")\n",
    "    else:\n",
    "        print(X, \" is 1 or less than one and it's not prime\")\n",
    "\n",
    "X=int(input(\"Enter a positive Number: \"))\n",
    "checkPrime(X) \n"
   ]
  },
  {
   "cell_type": "code",
   "execution_count": 75,
   "id": "6b764fef",
   "metadata": {},
   "outputs": [
    {
     "ename": "TabError",
     "evalue": "inconsistent use of tabs and spaces in indentation (2220915833.py, line 3)",
     "output_type": "error",
     "traceback": [
      "\u001b[1;36m  Input \u001b[1;32mIn [75]\u001b[1;36m\u001b[0m\n\u001b[1;33m    if n<2:\u001b[0m\n\u001b[1;37m    ^\u001b[0m\n\u001b[1;31mTabError\u001b[0m\u001b[1;31m:\u001b[0m inconsistent use of tabs and spaces in indentation\n"
     ]
    }
   ],
   "source": [
    "def prime(n): \n",
    "    isprime = True \n",
    "\tif n<2: \n",
    "\t\tisprime = False \n",
    "\telse: \n",
    "\t\tfor i in range(2,n): \n",
    "\t\t\tif n%i==0: \n",
    "\t\t\t\tisprime = False \n",
    "\t\t\t\tbreak \n",
    "\treturn isprime \n",
    " \n",
    "def factors(n): \n",
    "\tfact,factlist = 2,[1] \n",
    "\tfor i in range(2,n): \n",
    "\t\tif not n%i: \n",
    "\t\t\tfact += 1 \n",
    "\t\t\tfactlist.append(i) \n",
    "\tfactlist.append(n) \n",
    "\treturn (fact,factlist) \n",
    " \n",
    "n = int(input('Enter any number: ')) \n",
    "print('Prime number:',prime(n)) \n",
    "print('Number of factors:',factors(n)[0]) \n",
    "print('List of factors:',factors(n)[1]) "
   ]
  },
  {
   "cell_type": "code",
   "execution_count": 76,
   "id": "5ee7466a",
   "metadata": {
    "scrolled": true
   },
   "outputs": [
    {
     "name": "stdout",
     "output_type": "stream",
     "text": [
      "{'adults': ['Ditmar', 'Salvador', 'Punya'], 'children': ['Caliban', 'Eustis', 'Ali']}\n",
      "['Ditmar', 'Salvador', 'Punya']\n",
      "Salvador\n"
     ]
    }
   ],
   "source": [
    "# First code the function call on line 12.\n",
    "# Then come back and code the function starting on line 4.\n",
    "# The function will take two or three lines, depending on how you approach it.\n",
    "members = {\n",
    "        \"adults\": [\"Ditmar\", \"Salvador\", \"Punya\"],\n",
    "        \"children\": [\"Caliban\", \"Eustis\", \"Ali\"],\n",
    "        }\n",
    "def call(dict,inner_dict,target):\n",
    "    \n",
    "    print(dict)\n",
    "    print(dict[inner_dict])\n",
    "    print(dict[inner_dict][target])\n",
    "# First code the function call on line 12.\n",
    "call(members,\"adults\",1)"
   ]
  },
  {
   "cell_type": "code",
   "execution_count": 77,
   "id": "7691bd72",
   "metadata": {},
   "outputs": [
    {
     "ename": "SyntaxError",
     "evalue": "invalid syntax (2296381262.py, line 2)",
     "output_type": "error",
     "traceback": [
      "\u001b[1;36m  Input \u001b[1;32mIn [77]\u001b[1;36m\u001b[0m\n\u001b[1;33m    def add_numbers(2,second_number = 4):\u001b[0m\n\u001b[1;37m                    ^\u001b[0m\n\u001b[1;31mSyntaxError\u001b[0m\u001b[1;31m:\u001b[0m invalid syntax\n"
     ]
    }
   ],
   "source": [
    "#first argument is position argument, second argument is keyword argument\n",
    "def add_numbers(2,second_number = 4):\n",
    "    total = num1 + second_number\n",
    "    print(total)    \n",
    "\n",
    "\n",
    "add_numbers()    "
   ]
  },
  {
   "cell_type": "code",
   "execution_count": 78,
   "id": "b57fb40c",
   "metadata": {},
   "outputs": [
    {
     "name": "stdout",
     "output_type": "stream",
     "text": [
      "6\n"
     ]
    }
   ],
   "source": [
    "\n",
    "def add_numbers(first_number=2,second_number=4):\n",
    "    total = first_number  + second_number\n",
    "    print(total)   \n",
    "\n",
    "add_numbers()  "
   ]
  },
  {
   "cell_type": "code",
   "execution_count": 79,
   "id": "233c3781",
   "metadata": {},
   "outputs": [
    {
     "name": "stdout",
     "output_type": "stream",
     "text": [
      "8 10\n"
     ]
    }
   ],
   "source": [
    "def calc(first_number, second_number):\n",
    "    print(first_number,second_number)\n",
    "calc(8,second_number = 10)"
   ]
  },
  {
   "cell_type": "code",
   "execution_count": 81,
   "id": "d33a4d83",
   "metadata": {},
   "outputs": [
    {
     "name": "stdout",
     "output_type": "stream",
     "text": [
      "Enter length of sqaure in meters2\n",
      "Enter breadth of square in meters2\n",
      "Length: 2.0 \n",
      "Breadth 2.0: \n",
      "Area: 4.0 meters square\n"
     ]
    }
   ],
   "source": [
    "def area_of_square():\n",
    "    length = float(input(\"Enter length of sqaure in meters\"))\n",
    "    breadth = float(input(\"Enter breadth of square in meters\"))\n",
    "    area = length * breadth\n",
    "    print(f\"Length: {length} \\nBreadth {breadth}: \\nArea: {area} meters square\")\n",
    "area_of_square()    "
   ]
  },
  {
   "cell_type": "code",
   "execution_count": 82,
   "id": "89bfc48c",
   "metadata": {},
   "outputs": [
    {
     "name": "stdout",
     "output_type": "stream",
     "text": [
      "Enter a number to square:2\n",
      "The sqaure of 2.0 is 4.0\n"
     ]
    }
   ],
   "source": [
    "def square_of_a_number():\n",
    "    num = float(input(\"Enter a number to square:\"))\n",
    "    square = num**2\n",
    "    print(f\"The sqaure of {num} is {square}\")\n",
    "square_of_a_number()    \n"
   ]
  },
  {
   "cell_type": "markdown",
   "id": "1840fd4b",
   "metadata": {},
   "source": []
  },
  {
   "cell_type": "code",
   "execution_count": null,
   "id": "99f02117",
   "metadata": {},
   "outputs": [],
   "source": []
  },
  {
   "cell_type": "code",
   "execution_count": null,
   "id": "b88f8d94",
   "metadata": {},
   "outputs": [],
   "source": []
  },
  {
   "cell_type": "code",
   "execution_count": 83,
   "id": "87b2252d",
   "metadata": {},
   "outputs": [],
   "source": [
    "# cleanest_cities = [\"karachi\", \"lahore\", \"islamabad\",\"peshawar\", \"quetta\"]\n",
    "# user_input = \"\"\n",
    "# while user_input != \"q\":\n",
    "#     user_input = input(\"Enter a city, or q toquit:\")\n",
    "#     if user_input != \"q\":\n",
    "#         for a_clean_city in cleanest_cities:\n",
    "#             if user_input == a_clean_city:\n",
    "#                 print(\"It's one of the cleanest cities\")\n",
    "#                 break"
   ]
  },
  {
   "cell_type": "code",
   "execution_count": null,
   "id": "6eb15237",
   "metadata": {},
   "outputs": [],
   "source": []
  },
  {
   "cell_type": "code",
   "execution_count": null,
   "id": "35f4e17c",
   "metadata": {},
   "outputs": [],
   "source": [
    " #today list in python\n",
    "elements=[]\n",
    "i=1\n",
    "while True :\n",
    "    print(\"Elements in our list: \")\n",
    "    for element in elements:\n",
    "        print(i,\")\" ,element)\n",
    "        i+=1\n",
    "    print(\"\\noptions:\")\n",
    "    print(\"1.Add Element\")\n",
    "    print(\"2.Delete Element\")\n",
    "    print(\"3.Delete All Element\")\n",
    "    print(\"4.Exit\")\n",
    "    print(\"\\nNote: please give input in numbers e.g:1,2,3,4\")\n",
    "    inp=input(\"\\nEnter your choice: \")\n",
    "    if inp == '1':\n",
    "        elements.append(input(\"\\nEnter your element: \"))\n",
    "    elif inp == '2':\n",
    "        elements.remove(input(\"\\nEnter your element: \"))\n",
    "    elif inp == '2':\n",
    "        elements.clear()\n",
    "    elif inp == '4':\n",
    "         break  \n",
    "    else :\n",
    "        print(\"Invalid Syntax\")"
   ]
  },
  {
   "cell_type": "code",
   "execution_count": null,
   "id": "2d890533",
   "metadata": {},
   "outputs": [],
   "source": [
    "marks=89\n",
    "print(\"Marks\",marks)"
   ]
  },
  {
   "cell_type": "code",
   "execution_count": null,
   "id": "603886a9",
   "metadata": {},
   "outputs": [],
   "source": [
    "marks=\"89\"\n",
    "print(\"Marks :{}\".format(marks))"
   ]
  },
  {
   "cell_type": "code",
   "execution_count": null,
   "id": "d7a35c87",
   "metadata": {},
   "outputs": [],
   "source": [
    "marks=89\n",
    "print(\"Marks :{}\".format(marks))"
   ]
  },
  {
   "cell_type": "code",
   "execution_count": null,
   "id": "f6938ab7",
   "metadata": {},
   "outputs": [],
   "source": [
    "def salary_increment(name='',eos=0,currentSalary=0): # parameters\n",
    "    '''This function is defined in our class of SMIT\n",
    "     on 26th Jan 2022\n",
    "     this function needs 3 arguments the name of emp \n",
    "     year of service\n",
    "     current salary of the employe\n",
    "     this will return Salary Details '''\n",
    "    \n",
    "    if eos >=1:\n",
    "        \n",
    "        if currentSalary <50000:\n",
    "            increment = currentSalary*.20\n",
    "            newSalary = currentSalary + increment\n",
    "            \n",
    "        elif ((currentSalary>=50000) and (currentSalary<100000)):\n",
    "            increment = currentSalary*.15\n",
    "            newSalary = currentSalary + increment\n",
    "            \n",
    "        elif ((currentSalary>=100000) and (currentSalary<=150000)):\n",
    "            increment = currentSalary*.10\n",
    "            newSalary = currentSalary + increment\n",
    "        else:\n",
    "            increment = currentSalary*.05\n",
    "            newSalary = currentSalary + increment\n",
    "        print(f\"\"\"\n",
    "                    Name of Employee: {name}\n",
    "                    Year of Service : {eos}\n",
    "                    Current Salary  : {currentSalary}\n",
    "                    Increment Amount: {increment}\n",
    "                    New Salary      : {newSalary }\"\"\")\n",
    "            \n",
    "    else:\n",
    "        print(\"There is no increment for you this year\")\n",
    "    \n",
    "salary_increment(\"Nasir\", 2, 120000)# arguments    "
   ]
  },
  {
   "cell_type": "code",
   "execution_count": null,
   "id": "6efadb76",
   "metadata": {},
   "outputs": [],
   "source": [
    "salary_increment(\"Nasir\", 2, 120000)# arguments"
   ]
  },
  {
   "cell_type": "markdown",
   "id": "765f78b8",
   "metadata": {},
   "source": [
    "The variables written in function definition are called parameters\n",
    "\n",
    "The Values supplied during a function call are called arguments"
   ]
  },
  {
   "cell_type": "code",
   "execution_count": null,
   "id": "5b7db46a",
   "metadata": {},
   "outputs": [],
   "source": [
    "salary_increment(eos=2, name=\"Fahad\",currentSalary=36000)# keyword arguments"
   ]
  },
  {
   "cell_type": "code",
   "execution_count": null,
   "id": "8e84040b",
   "metadata": {},
   "outputs": [],
   "source": [
    "salary_increment('Danish')"
   ]
  },
  {
   "cell_type": "code",
   "execution_count": null,
   "id": "f36179e6",
   "metadata": {},
   "outputs": [],
   "source": [
    "salary_increment(\"Rehan\", 5)"
   ]
  },
  {
   "cell_type": "code",
   "execution_count": null,
   "id": "92552200",
   "metadata": {},
   "outputs": [],
   "source": [
    "salary_increment(5,60000)"
   ]
  },
  {
   "cell_type": "code",
   "execution_count": null,
   "id": "cc67ab0b",
   "metadata": {},
   "outputs": [],
   "source": [
    "name= input(\"Enter employee name\")\n",
    "eos = float(input(\"Enter number of years in service\"))\n",
    "current_salary = float(input(\"Enter current salary of the empployee\"))\n",
    "\n",
    "\n",
    "salary_increment(name, eos, current_salary)\n",
    "\n"
   ]
  },
  {
   "cell_type": "code",
   "execution_count": null,
   "id": "d9e4c4c5",
   "metadata": {},
   "outputs": [],
   "source": [
    "help(salary_increment)"
   ]
  },
  {
   "cell_type": "code",
   "execution_count": null,
   "id": "c2d3106f",
   "metadata": {},
   "outputs": [],
   "source": [
    "help(len)"
   ]
  },
  {
   "cell_type": "code",
   "execution_count": null,
   "id": "b06427b4",
   "metadata": {},
   "outputs": [],
   "source": [
    " def describe_pet(animal_type, pet_name):\n",
    "    \"\"\"Display information about a pet.\"\"\"\n",
    "    print(\"\\nI have a \" + animal_type + \".\")\n",
    "    print(\"My \" + animal_type + \"'s name is \" + pet_name.title() + \".\")"
   ]
  },
  {
   "cell_type": "code",
   "execution_count": null,
   "id": "76359070",
   "metadata": {},
   "outputs": [],
   "source": [
    "describe_pet('hamster', 'harry')"
   ]
  },
  {
   "cell_type": "markdown",
   "id": "880f6f6b",
   "metadata": {},
   "source": [
    "# Return Values"
   ]
  },
  {
   "cell_type": "markdown",
   "id": "ce15d38b",
   "metadata": {},
   "source": [
    "Gobal Variable: Can be accessed in and out of function\n",
    "\n",
    "Local Variable: local variables are defined and accessed only inside the function"
   ]
  },
  {
   "cell_type": "code",
   "execution_count": null,
   "id": "02e1549f",
   "metadata": {},
   "outputs": [],
   "source": [
    "a  = 100   # gloabl variable\n",
    "\n",
    "def square_of_a_number(num):\n",
    "    \n",
    "    square = num**2   # local variable\n",
    "    print(f\"The sqaure of {num} is {square} which is a local variable\")\n",
    "    print(f\"The value of global variable a is {a}\")\n",
    "    "
   ]
  },
  {
   "cell_type": "code",
   "execution_count": null,
   "id": "c7bd8bc0",
   "metadata": {},
   "outputs": [],
   "source": [
    "square_of_a_number(7)"
   ]
  },
  {
   "cell_type": "code",
   "execution_count": null,
   "id": "b138d068",
   "metadata": {},
   "outputs": [],
   "source": [
    "print(square)"
   ]
  },
  {
   "cell_type": "code",
   "execution_count": null,
   "id": "a39e3321",
   "metadata": {},
   "outputs": [],
   "source": [
    "def circumference(radius):\n",
    "    circumference  = 2 * 3.142 * radius \n",
    "    # ksi local variable ki value ko function se bahar access karne k liye\n",
    "    # return k through bahar nikalenge\n",
    "    return circumference"
   ]
  },
  {
   "cell_type": "code",
   "execution_count": null,
   "id": "aca588b6",
   "metadata": {},
   "outputs": [],
   "source": [
    "value_of_cir = circumference(4.5)"
   ]
  },
  {
   "cell_type": "code",
   "execution_count": null,
   "id": "c8b0dd58",
   "metadata": {},
   "outputs": [],
   "source": [
    "value_of_cir"
   ]
  },
  {
   "cell_type": "code",
   "execution_count": null,
   "id": "f4b15657",
   "metadata": {},
   "outputs": [],
   "source": [
    "def square_of_a_number(num):\n",
    "    \n",
    "    square = num**2# local variable\n",
    "    print(\"I am code written after return\")\n",
    "    return square, f\"I am sqaured of {num}\" \n",
    "    \n",
    "    "
   ]
  },
  {
   "cell_type": "code",
   "execution_count": null,
   "id": "57d59bd9",
   "metadata": {},
   "outputs": [],
   "source": [
    "returned_values = square_of_a_number(6)\n",
    "#tuple"
   ]
  },
  {
   "cell_type": "code",
   "execution_count": null,
   "id": "411e2cda",
   "metadata": {},
   "outputs": [],
   "source": [
    "a,b = returned_values\n",
    "print(a)\n",
    "print(b)"
   ]
  },
  {
   "cell_type": "code",
   "execution_count": null,
   "id": "979e2024",
   "metadata": {},
   "outputs": [],
   "source": [
    "def build_person(first_name, last_name):\n",
    "    \"\"\"Return a dictionary of information about a person.\"\"\"\n",
    "    person = {'first': first_name, 'last': last_name}\n",
    "    return person\n"
   ]
  },
  {
   "cell_type": "code",
   "execution_count": null,
   "id": "97e0cdfb",
   "metadata": {},
   "outputs": [],
   "source": [
    "musician = build_person('ali', 'raza')\n",
    "print(musician)"
   ]
  },
  {
   "cell_type": "code",
   "execution_count": null,
   "id": "4bada6dc",
   "metadata": {},
   "outputs": [],
   "source": [
    "def build_person(first_name, last_name, age=''):\n",
    "    person = {'first': first_name, 'last': last_name}\n",
    "    if age:\n",
    "        person['age'] = age\n",
    "    return person\n"
   ]
  },
  {
   "cell_type": "code",
   "execution_count": null,
   "id": "2ea2f7bf",
   "metadata": {},
   "outputs": [],
   "source": [
    "musician = build_person('ali', 'raza',age=27)\n",
    "print(musician)"
   ]
  },
  {
   "cell_type": "code",
   "execution_count": null,
   "id": "bdc00d91",
   "metadata": {},
   "outputs": [],
   "source": [
    "musician = build_person('ali', 'raza')\n",
    "print(musician)"
   ]
  },
  {
   "cell_type": "code",
   "execution_count": null,
   "id": "aa8b5fa9",
   "metadata": {},
   "outputs": [],
   "source": [
    "def get_formatted_name(first_name, last_name):    \n",
    "    full_name = first_name + ' ' + last_name\n",
    "    return full_name.title()"
   ]
  },
  {
   "cell_type": "markdown",
   "id": "2aa31c0a",
   "metadata": {},
   "source": [
    "# Passing a List"
   ]
  },
  {
   "cell_type": "code",
   "execution_count": null,
   "id": "f7d8dfa6",
   "metadata": {},
   "outputs": [],
   "source": [
    "def my_sum(alist):\n",
    "    total=sum(alist)\n",
    "    return total"
   ]
  },
  {
   "cell_type": "code",
   "execution_count": null,
   "id": "8322ddaa",
   "metadata": {},
   "outputs": [],
   "source": [
    "my_sum([1,2,3,4,5,6,7,8,9,10])"
   ]
  },
  {
   "cell_type": "code",
   "execution_count": null,
   "id": "f6016186",
   "metadata": {},
   "outputs": [],
   "source": [
    "def greet_users(names):\n",
    "    for name in names:\n",
    "        msg = \"Hello, \" + name.title() + \"!\"\n",
    "        print(msg)"
   ]
  },
  {
   "cell_type": "code",
   "execution_count": null,
   "id": "995dc8e4",
   "metadata": {},
   "outputs": [],
   "source": [
    "usernames = ['hannah', 'ty', 'margot']\n",
    "greet_users(usernames)\n"
   ]
  },
  {
   "cell_type": "markdown",
   "id": "8c09a8c6",
   "metadata": {},
   "source": [
    "# Modifying a List in a Function"
   ]
  },
  {
   "cell_type": "code",
   "execution_count": null,
   "id": "3d0fda6f",
   "metadata": {},
   "outputs": [],
   "source": [
    "unprinted_designs = ['iphone case', 'robot pendant', 'dodecahedron']\n",
    "completed_models = []"
   ]
  },
  {
   "cell_type": "code",
   "execution_count": null,
   "id": "0cfb4f23",
   "metadata": {},
   "outputs": [],
   "source": [
    "while unprinted_designs:\n",
    "    current_design = unprinted_designs.pop()\n",
    "    \n",
    "    print(\"Printing model: \" + current_design)\n",
    "    completed_models.append(current_design)\n"
   ]
  },
  {
   "cell_type": "code",
   "execution_count": null,
   "id": "e9621ad3",
   "metadata": {},
   "outputs": [],
   "source": [
    "# Display all completed models.\n",
    "print(\"\\nThe following models have been printed:\")\n",
    "for completed_model in completed_models:\n",
    "    print(completed_model)"
   ]
  },
  {
   "cell_type": "markdown",
   "id": "23ba7033",
   "metadata": {},
   "source": [
    "# Passing an Arbitrary Number of Arguments"
   ]
  },
  {
   "cell_type": "code",
   "execution_count": null,
   "id": "80d3b41c",
   "metadata": {},
   "outputs": [],
   "source": [
    "def addfunction(a=\"\",b=\"\",c=\"\",d=\"\",e=\"\",f=\"\"):\n",
    "    print(a,b,c,d,e,f)"
   ]
  },
  {
   "cell_type": "code",
   "execution_count": null,
   "id": "1d511358",
   "metadata": {},
   "outputs": [],
   "source": [
    "addfunction(\"A\",\"B\",\"C\",\"D\",\"E\",\"Q\")"
   ]
  },
  {
   "cell_type": "code",
   "execution_count": null,
   "id": "5a0bdb7c",
   "metadata": {},
   "outputs": [],
   "source": [
    "addfunction()"
   ]
  },
  {
   "cell_type": "code",
   "execution_count": null,
   "id": "c19df6a4",
   "metadata": {},
   "outputs": [],
   "source": [
    "addfunction(111,222,333,444,555,666,777)"
   ]
  },
  {
   "cell_type": "code",
   "execution_count": null,
   "id": "514dc9ee",
   "metadata": {},
   "outputs": [],
   "source": [
    "addfunction(111,222,333,444,555,666)"
   ]
  },
  {
   "cell_type": "code",
   "execution_count": null,
   "id": "85650537",
   "metadata": {},
   "outputs": [],
   "source": [
    "def make_pizza(*toppings):\n",
    "    print(\"\\nMaking a pizza with the following toppings:\")\n",
    "    for topping in toppings:\n",
    "        print(\"- \" + topping)\n",
    "    "
   ]
  },
  {
   "cell_type": "code",
   "execution_count": null,
   "id": "64cf062a",
   "metadata": {},
   "outputs": [],
   "source": [
    "make_pizza('mushrooms', 'green peppers', 'extra cheese')"
   ]
  },
  {
   "cell_type": "code",
   "execution_count": null,
   "id": "43817dc2",
   "metadata": {},
   "outputs": [],
   "source": [
    "a = (12,)"
   ]
  },
  {
   "cell_type": "code",
   "execution_count": null,
   "id": "f31f59eb",
   "metadata": {},
   "outputs": [],
   "source": [
    "a\n"
   ]
  },
  {
   "cell_type": "code",
   "execution_count": null,
   "id": "4a8a564f",
   "metadata": {},
   "outputs": [],
   "source": [
    "def make_pizza(size, *toppings):\n",
    "    print(\"\\nMaking a \" + str(size) +\"-inch pizza with the following toppings:\")\n",
    "    for topping in toppings:\n",
    "         print(\"- \" + topping)\n",
    "\n",
    "make_pizza(16, 'pepperoni')\n",
    "make_pizza(12, 'mushrooms', 'green peppers', 'extra cheese')"
   ]
  },
  {
   "cell_type": "code",
   "execution_count": null,
   "id": "e819b20a",
   "metadata": {},
   "outputs": [],
   "source": [
    "len(\"\")"
   ]
  },
  {
   "cell_type": "code",
   "execution_count": null,
   "id": "6a7ee65f",
   "metadata": {},
   "outputs": [],
   "source": [
    "a = 120\n",
    "def local_global():\n",
    "    \n",
    "    global a\n",
    "    a = 10\n",
    "    print(a)"
   ]
  },
  {
   "cell_type": "code",
   "execution_count": null,
   "id": "bccfebe0",
   "metadata": {},
   "outputs": [],
   "source": [
    "local_global()"
   ]
  },
  {
   "cell_type": "code",
   "execution_count": null,
   "id": "3d010bf9",
   "metadata": {},
   "outputs": [],
   "source": [
    "a\n"
   ]
  },
  {
   "cell_type": "code",
   "execution_count": null,
   "id": "3c5abae5",
   "metadata": {},
   "outputs": [],
   "source": [
    ".\n",
    "# assignment :create a program that will all a funnction to generate KE billings details on the basis of given input units\n",
    "#  The funtion will only call other functions for any processing and only print  return values from calling functions   \n",
    "#KE Teriff  unit forr july 2022"
   ]
  },
  {
   "cell_type": "code",
   "execution_count": null,
   "id": "59cd91f8",
   "metadata": {},
   "outputs": [],
   "source": [
    "    \n",
    "def electricity(monthly_units):\n",
    "    \n",
    "    charges=0\n",
    "    if monthly_units > 0 and monthly_units <=100:\n",
    "        charges=monthly_units * 9.43\n",
    "    elif monthly_units >100 and monthly_units <=200:\n",
    "        charges=monthly_units * 10.29\n",
    "    elif monthly_units >200 and monthly_units <=300:\n",
    "        charges=monthly_units * 12.55\n",
    "    elif monthly_units >300 and monthly_units <=400:\n",
    "        charges=monthly_units * 17.38    \n",
    "    elif monthly_units >400 and monthly_units <=500:\n",
    "        charges=monthly_units * 18.84\n",
    "        \n",
    "    elif monthly_units >500 and monthly_units <=600:\n",
    "        charges=monthly_units * 19.76  \n",
    "    elif monthly_units >600 and monthly_units <=700:\n",
    "        charges=monthly_units * 20.40     \n",
    "        \n",
    "        \n",
    "    else: #invalid values given\n",
    "        charges=-1\n",
    "        \n",
    "        \n",
    "        \n",
    "    \n",
    "    return charges\n",
    "\n",
    "\n",
    "\n",
    "def  uniform(monthly_units):\n",
    "    \n",
    "    charges=0\n",
    "    if monthly_units > 0 and monthly_units <=100:\n",
    "        charges=monthly_units * 5.79\n",
    "    elif monthly_units >100 and monthly_units <=200:\n",
    "        charges=monthly_units * 8.11\n",
    "    elif monthly_units >200 and monthly_units <=300:\n",
    "        charges=monthly_units * 10.20\n",
    "    elif monthly_units >300 and monthly_units <=700:\n",
    "        charges=monthly_units * 19.25   \n",
    "          \n",
    "        \n",
    "    else: #invalid values given\n",
    "        charges=-1\n",
    "        \n",
    "        \n",
    "        \n",
    "    \n",
    "    return charges\n",
    "\n",
    "\n",
    "\n",
    "# monthly_units=525\n",
    "\n",
    "def bill_main(monthly_units):\n",
    "    electric_charges=electricity(monthly_units)\n",
    "    print(\"Electirc charges for \",monthly_units,\"=\",electric_charges)\n",
    "    \n",
    "    uniform_charges=uniform(monthly_units)\n",
    "    print(\"eletric charge for \",monthly_units,\"=\",uniform_charges)\n",
    "    \n",
    "#     fuel_charges=fuel(monthly_units)\n",
    "#     print(\"eletric charge for \",monthly_units,\"=\",fuel_charges)\n",
    "    \n",
    "#     sales_tax=sales_tax(monthly_units)\n",
    "#     print(\"eletric charge for \",monthly_units,\"=\",sales_tax)\n",
    "    \n",
    "#     advance_tax=advance_tax(monthly_units)\n",
    "#     print(\"eletric charge for \",monthly_units,\"=\",advance_tax)\n",
    "    \n",
    "#     tv_fee=tv_fee(monthly_units)\n",
    "#     print(\"eletric charge for \",monthly_units,\"=\",tv_fee)\n",
    "    \n",
    "    \n",
    "#     total=total(electric_charges,uniform_charges,fuel_charges,sales_tax,advance_tax,tv_fee)\n",
    "#      print(\"eletric charge for \",monthly_units,\"=\",total)\n",
    "    \n",
    "\n",
    "bill_main(monthly_units =525 )\n",
    "bill_main(112)\n",
    "bill_main(349)\n",
    "bill_main(700)\n",
    "bill_main(-22)\n",
    "bill_main( 450)\n",
    "bill_main( 116)\n",
    "\n",
    "\n",
    "\n",
    " \n",
    "    \n",
    "# Ans :  10374.0   \n",
    "    "
   ]
  },
  {
   "cell_type": "code",
   "execution_count": null,
   "id": "981fd53c",
   "metadata": {},
   "outputs": [],
   "source": [
    "# Exercise 2 - Faulty Calculator\n",
    "# 45 * 3 = 555, 56+9 = 77, 56/6 = 4\n",
    "# Design a calculator which will correctly solve all the problems except\n",
    "# the following ones:\n",
    "# 45 * 3 = 555, 56+9 = 77, 56/6 = 4\n",
    "# Your program should take operator  and the two numbers as input from the user\n",
    "# and then return the result\n",
    "#\n",
    "\n",
    "print(\"Enter 1st Number\")\n",
    "num1 = int(input())\n",
    "print('Enter 2nd Number')\n",
    "num2 = int(input())\n",
    "print('so What you Want?'+'+,-,/,%,*')\n",
    "num3 =input()\n",
    "\n",
    "if num1 ==45 and num2==3 and num3=='*':\n",
    "    print(\"555\")\n",
    "elif num1 == 56 and num2 == 9 and num3 == '+':\n",
    "        print(\"77\")\n",
    "elif num1 == 56 and num2 == 6 and num3 == '/':\n",
    "        print(\"4\")\n",
    "elif num3=='*' :\n",
    "    num4=num1*num2\n",
    "    print(num4)\n",
    "elif num3 == '+':\n",
    "    plus=num2+num1\n",
    "    print(plus)\n",
    "elif num3 == '/':\n",
    "    Dev=num2/num1\n",
    "    print(Dev)\n",
    "elif num3 == '-':\n",
    "    Dev=num2-num1\n",
    "    print(Dev)\n",
    "elif num3 == '%':\n",
    "    percent=num2%num1\n",
    "    print(percent)\n",
    "else:\n",
    "    print(\"Error! Please check your input\")\n"
   ]
  },
  {
   "cell_type": "code",
   "execution_count": null,
   "id": "6b9bda20",
   "metadata": {},
   "outputs": [],
   "source": [
    "\n",
    "def function2(a, b):\n",
    "    \"\"\"This is a function which will calculate average of two numbers\n",
    "    this function doesnt work for three numbers\"\"\"\n",
    "    average = (a+b)/2\n",
    "    # print(average)\n",
    "    return average\n",
    "\n",
    "# v = function2(5, 7)\n",
    "# print(v)\n",
    "print(function2.__doc__)"
   ]
  },
  {
   "cell_type": "code",
   "execution_count": 2,
   "id": "85ed2060",
   "metadata": {
    "scrolled": true
   },
   "outputs": [
    {
     "name": "stdout",
     "output_type": "stream",
     "text": [
      "[4, 9]\n",
      "[1, 4, 9, 16, 25]\n",
      "[0, 1, 4, 9, 16, 25, 36, 49, 64, 81, 100]\n"
     ]
    }
   ],
   "source": [
    "def squares(start, end):\n",
    "\treturn [(x*x) for x in range(start,end+1)]\n",
    "\n",
    "print(squares(2, 3)) # Should be [4, 9]\n",
    "print(squares(1, 5)) # Should be [1, 4, 9, 16, 25]\n",
    "print(squares(0, 10)) # Should be [0, 1, 4, 9, 16, 25, 36, 49, 64, 81, 100]"
   ]
  },
  {
   "cell_type": "markdown",
   "id": "887f01d6",
   "metadata": {},
   "source": [
    "### "
   ]
  },
  {
   "cell_type": "code",
   "execution_count": 3,
   "id": "7da0c459",
   "metadata": {},
   "outputs": [
    {
     "name": "stdout",
     "output_type": "stream",
     "text": [
      "{'Adam': 2, 'Brenda': 3, 'David': 1, 'Jose': 3, 'Charlotte': 2, 'Terry': 1, 'Robert': 4, 'Nancy': 1, 'Samantha': 3, 'Chris': 5}\n"
     ]
    }
   ],
   "source": [
    "from copy import deepcopy\n",
    "\n",
    "def combine_guests(guests1, guests2):\n",
    "    backup = deepcopy(guests1)\n",
    "    guests1.update(guests2)\n",
    "    for guest in guests1:\n",
    "        if guest in backup:\n",
    "            guests1[guest] = backup[guest]\n",
    "    return guests1\n",
    "\n",
    "Rorys_guests = { \"Adam\":2, \"Brenda\":3, \"David\":1, \"Jose\":3, \"Charlotte\":2, \"Terry\":1, \"Robert\":4}\n",
    "Taylors_guests = { \"David\":4, \"Nancy\":1, \"Robert\":2, \"Adam\":1, \"Samantha\":3, \"Chris\":5}\n",
    "\n",
    "print(combine_guests(Rorys_guests, Taylors_guests))"
   ]
  },
  {
   "cell_type": "code",
   "execution_count": 4,
   "id": "edd19e09",
   "metadata": {},
   "outputs": [
    {
     "name": "stdout",
     "output_type": "stream",
     "text": [
      "{'a': 2, 'b': 2, 'c': 2}\n",
      "{'m': 1, 'a': 1, 't': 1, 'h': 1, 'i': 1, 's': 1, 'f': 1, 'u': 1, 'n': 1}\n",
      "{'t': 2, 'h': 1, 'i': 2, 's': 3, 'a': 1, 'e': 3, 'n': 2, 'c': 1}\n"
     ]
    }
   ],
   "source": [
    "\n",
    "def count_letters(text):\n",
    "    elements = text.replace(\" \",\"\").lower()\n",
    "    result = {}\n",
    "    for letter in elements:\n",
    "        if letter.isalpha():            \n",
    "            if letter not in result:\n",
    "                result[letter] = 1\n",
    "            else:\n",
    "                result[letter] +=1\n",
    "    return result        \n",
    "print(count_letters(\"AaBbCc\"))\n",
    "# Should be {'a': 2, 'b': 2, 'c': 2}\n",
    "\n",
    "print(count_letters(\"Math is fun! 2+2=4\"))\n",
    "# Should be {'m': 1, 'a': 1, 't': 1, 'h': 1, 'i': 1, 's': 1, 'f': 1, 'u': 1, 'n': 1}\n",
    "\n",
    "print(count_letters(\"This is a sentence.\"))\n",
    "# Should be {'t': 2, 'h': 1, 'i': 2, 's': 3, 'a': 1, 'e': 3, 'n': 2, 'c': 1}\n",
    " "
   ]
  },
  {
   "cell_type": "code",
   "execution_count": 5,
   "id": "ce30523c",
   "metadata": {},
   "outputs": [
    {
     "name": "stdout",
     "output_type": "stream",
     "text": [
      "pop\n",
      "t\n",
      "us\n"
     ]
    }
   ],
   "source": [
    "animal = \"Hippopotamus\"\n",
    "print(animal[3:6])\n",
    "print(animal[-5])\n",
    "print(animal[10:])\n"
   ]
  },
  {
   "cell_type": "code",
   "execution_count": 6,
   "id": "1edd8520",
   "metadata": {},
   "outputs": [
    {
     "data": {
      "text/plain": [
       "dict_keys(['router', 'localhost', 'google'])"
      ]
     },
     "execution_count": 6,
     "metadata": {},
     "output_type": "execute_result"
    }
   ],
   "source": [
    "host_addresses = {\"router\": \"192.168.1.1\", \"localhost\": \"127.0.0.1\", \"google\": \"8.8.8.8\"}\n",
    "host_addresses.keys()"
   ]
  },
  {
   "cell_type": "code",
   "execution_count": 1,
   "id": "10a4770e",
   "metadata": {},
   "outputs": [
    {
     "name": "stdout",
     "output_type": "stream",
     "text": [
      "Marketing: Mike,Karen,Jake,Tasha\n",
      "Engineering: Kim,Jay,Tom\n",
      "Users: \n"
     ]
    }
   ],
   "source": [
    "def group_list(group, users):\n",
    "  \n",
    "    return \"{}: \".format(group) + ','.join(users)\n",
    "\n",
    "print(group_list(\"Marketing\", [\"Mike\", \"Karen\", \"Jake\", \"Tasha\"])) # Should be \"Marketing: Mike, Karen, Jake, Tasha\"\n",
    "print(group_list(\"Engineering\", [\"Kim\", \"Jay\", \"Tom\"])) # Should be \"Engineering: Kim, Jay, Tom\"\n",
    "print(group_list(\"Users\", \"\")) # Should be \"Users:\" "
   ]
  },
  {
   "cell_type": "code",
   "execution_count": 2,
   "id": "947d2e83",
   "metadata": {},
   "outputs": [],
   "source": [
    "def combine_lists(list1, list2):\n",
    "  # Generate a new list containing the elements of list2\n",
    "  # Followed by the elements of list1 in reverse order\n",
    "    new_list = list2\n",
    "    for i in reversed(range(len(list1))):\n",
    "        new_list.append(list1[i])\n",
    "    return new_list\n",
    "\n",
    "Jamies_list = [\"Alice\", \"Cindy\", \"Bobby\", \"Jan\", \"Peter\"]\n",
    "Drews_list = [\"Mike\", \"Carol\", \"Greg\", \"Marcia\"]"
   ]
  },
  {
   "cell_type": "code",
   "execution_count": 3,
   "id": "ec4a9203",
   "metadata": {},
   "outputs": [],
   "source": [
    "result=combine_lists(Jamies_list,Drews_list)"
   ]
  },
  {
   "cell_type": "code",
   "execution_count": 4,
   "id": "efe9a217",
   "metadata": {},
   "outputs": [
    {
     "name": "stdout",
     "output_type": "stream",
     "text": [
      "['Mike', 'Carol', 'Greg', 'Marcia', 'Peter', 'Jan', 'Bobby', 'Cindy', 'Alice']\n"
     ]
    }
   ],
   "source": [
    "print(result)"
   ]
  },
  {
   "cell_type": "code",
   "execution_count": null,
   "id": "818792d7",
   "metadata": {},
   "outputs": [],
   "source": [
    "# def retry(operation, attempts):\n",
    "#     for n in range(attempts):\n",
    "#         if operation():\n",
    "#             print(\"Attempt \" + str(n) + \" succeeded\")\n",
    "#             break\n",
    "#         else:\n",
    "#             print(\"Attempt \" + str(n) + \" failed\")\n",
    "\n",
    "# retry(\"create_user\", 3)\n",
    "# retry(\"stop_service\", 5)"
   ]
  },
  {
   "cell_type": "code",
   "execution_count": 7,
   "id": "22575d7c",
   "metadata": {},
   "outputs": [
    {
     "data": {
      "text/plain": [
       "'\\nOutput should match:\\nKen is 30 years old and works as Chef\\nPat is 35 years old and works as Lawyer\\nAmanda is 25 years old and works as Engineer\\n'"
      ]
     },
     "execution_count": 7,
     "metadata": {},
     "output_type": "execute_result"
    }
   ],
   "source": [
    "def guest_list(guests):\n",
    "    for guest in guests:\n",
    "        print(\"{name} is  {age} years old and works as {designation}\".format(name=guest[0],age=guest[1], designation=guest[2]))\n",
    " \n",
    "\n",
    "  \n",
    "\n",
    "\n",
    "\n",
    "#Click Run to submit code\n",
    "\"\"\"\n",
    "Output should match:\n",
    "Ken is 30 years old and works as Chef\n",
    "Pat is 35 years old and works as Lawyer\n",
    "Amanda is 25 years old and works as Engineer\n",
    "\"\"\" \n"
   ]
  },
  {
   "cell_type": "code",
   "execution_count": 6,
   "id": "2cb0360d",
   "metadata": {},
   "outputs": [
    {
     "name": "stdout",
     "output_type": "stream",
     "text": [
      "Ken is  30 years old and works as Chef\n",
      "Pat is  35 years old and works as Lawyer\n",
      "Amanda is  25 years old and works as Engineer\n"
     ]
    }
   ],
   "source": [
    "guest_list([('Ken', 30, \"Chef\"), (\"Pat\", 35, 'Lawyer'), ('Amanda', 25, \"Engineer\")])"
   ]
  },
  {
   "cell_type": "code",
   "execution_count": 8,
   "id": "c7638510",
   "metadata": {},
   "outputs": [
    {
     "name": "stdout",
     "output_type": "stream",
     "text": [
      " \"Marketing: Mike Karen Jake Tasha \"\n",
      " \"Engineering: Kim Jay Tom \"\n",
      " \"Users:  \"\n"
     ]
    }
   ],
   "source": [
    "#convert list to string\n",
    "def group_list(group, users):\n",
    "    members = ' \"'+group+\": \" +  ' '.join(users)+' \"'\n",
    "    return members\n",
    "\n",
    "print(group_list(\"Marketing\", [\"Mike\", \"Karen\", \"Jake\", \"Tasha\"])) # Should be \"Marketing: Mike, Karen, Jake, Tasha\"\n",
    "print(group_list(\"Engineering\", [\"Kim\", \"Jay\", \"Tom\"])) # Should be \"Engineering: Kim, Jay, Tom\"\n",
    "print(group_list(\"Users\", \"\")) # Should be \"Users:\""
   ]
  },
  {
   "cell_type": "code",
   "execution_count": null,
   "id": "6decb247",
   "metadata": {},
   "outputs": [],
   "source": []
  }
 ],
 "metadata": {
  "kernelspec": {
   "display_name": "Python 3 (ipykernel)",
   "language": "python",
   "name": "python3"
  },
  "language_info": {
   "codemirror_mode": {
    "name": "ipython",
    "version": 3
   },
   "file_extension": ".py",
   "mimetype": "text/x-python",
   "name": "python",
   "nbconvert_exporter": "python",
   "pygments_lexer": "ipython3",
   "version": "3.9.12"
  }
 },
 "nbformat": 4,
 "nbformat_minor": 5
}
