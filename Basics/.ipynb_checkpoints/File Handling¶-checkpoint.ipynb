{
 "cells": [
  {
   "cell_type": "markdown",
   "id": "cddbdb80",
   "metadata": {},
   "source": [
    "# File Handling\n",
    "- What is File Handling?\n",
    "\n",
    "- Why we use File Handling?\n",
    "\n",
    "- Advantages of File Handling?\n",
    "\n",
    "- Operations using File..."
   ]
  },
  {
   "cell_type": "raw",
   "id": "6dd5ca0b",
   "metadata": {},
   "source": [
    "# Modes of opening file in Python:\n",
    "- There are many modes of opening a file in Python, unlike other languages Python has provided its users a variety of options. We will discuss seven of them in this tutorial.\n",
    "\n",
    "- r : r mode opens a file for read-only. We do not have permission to update or change any data in this mode.\n",
    "- w : w mode does not concern itself with what is present in the file. It just opens a file for writing and if there is already some data present in the file, it overwrites it.\n",
    "- x : x is used to create a new file. It does not work for an already existing file, as in such cases the operation fails.\n",
    "- a : a stands for append, which means to add something to the end of the file. It does exactly the same. It just adds the data    we like in write(w) mode but instead of overwriting it just adds it to the end of the file. It also does not have the          permission of reading the file.\n",
    "- t : t mode is used to open our file in text mode and only proper text files can be opened by it. It deals with the file data as a string.\n",
    "\n",
    "- b : b stands for binary and this mode can only open the binary files, that are read in bytes. The binary files include images, documents, or all other files that require specific software to be read.\n",
    "\n",
    "- + : In plus mode, we can read and write a file simultaneously. The mode is mostly used in cases where we want to update our file.\n",
    "\n",
    "\n",
    "# Mode \n",
    "\n",
    " - read\n",
    " - write\n",
    " - append\n",
    " - write + \n",
    " - read + "
   ]
  },
  {
   "cell_type": "code",
   "execution_count": 1,
   "id": "eab79c7a",
   "metadata": {},
   "outputs": [
    {
     "name": "stdout",
     "output_type": "stream",
     "text": [
      "Enter Your Three Best Friend Name:raza\n",
      "Enter Your Three Best Friend Name:ali \n",
      "Enter Your Three Best Friend Name:asad\n",
      "raza\n",
      "ali \n",
      "asad\n"
     ]
    }
   ],
   "source": [
    "example_list = []\n",
    "for i in range(3):\n",
    "    example_name = input(\"Enter Your Three Best Friend Name:\")\n",
    "    example_list.append(example_name)\n",
    "for i in example_list:\n",
    "    print(i)\n"
   ]
  },
  {
   "cell_type": "raw",
   "id": "ff05b63e",
   "metadata": {},
   "source": [
    "#with open(\"whatever.txt\", \"w\") as file_to_work_with\n",
    "\n",
    "#This line opens the text file whatever.txt if such a file exists. If it doesn't exist,Python creates it.    \n",
    "\"\"\"\n",
    "with:tell Python to close the file after you write to it .\n",
    "open : open is easy to remember.\n",
    "():The first item inside the parentheses is the name of the text file, in quotes Then a comma, followed by \"w\". It tells Python\n",
    "that you're opening the file so you can write to it.\n",
    "as: is a keyword meaning that you're assigning a file handle to the file. In\n",
    "addition to the file name, \"whatever.text,\" Python needs a handle in order to get\n",
    "into the file. In this case, I've given it a handle of file_to_work_with.\n",
    "\"\"\"    "
   ]
  },
  {
   "cell_type": "code",
   "execution_count": 10,
   "id": "229e79d8",
   "metadata": {},
   "outputs": [],
   "source": [
    "with open(\"whatever.txt\", \"w\") as file_to_work_with :\n",
    "    file_to_work_with.write(\"Hello, world!\")"
   ]
  },
  {
   "cell_type": "code",
   "execution_count": 11,
   "id": "12b3edcb",
   "metadata": {},
   "outputs": [],
   "source": [
    "with open(\"Greeting.txt\", \"w\") as file :\n",
    "    file.write(\"Greeting Mudassir\")\n",
    "\n",
    "#The file created with name Greeting.txt in which Greeting Mudassir written.      "
   ]
  },
  {
   "cell_type": "code",
   "execution_count": 12,
   "id": "0030e313",
   "metadata": {},
   "outputs": [
    {
     "name": "stdout",
     "output_type": "stream",
     "text": [
      "Greeting Mudassir\n"
     ]
    }
   ],
   "source": [
    "with open(\"Greeting.txt\", \"r\") as file :\n",
    "    data=file.read()\n",
    "    print(data)\n",
    "# r is used to read the existing file"
   ]
  },
  {
   "cell_type": "code",
   "execution_count": 13,
   "id": "b0f83505",
   "metadata": {},
   "outputs": [
    {
     "name": "stdout",
     "output_type": "stream",
     "text": [
      "Hello, world!\n"
     ]
    }
   ],
   "source": [
    "with open(\"whatever.txt\", \"r\") as file :\n",
    "    data=file.read()\n",
    "    print(data)"
   ]
  },
  {
   "cell_type": "code",
   "execution_count": 14,
   "id": "197a7c69",
   "metadata": {},
   "outputs": [
    {
     "name": "stdout",
     "output_type": "stream",
     "text": [
      "Hello, world!\n"
     ]
    }
   ],
   "source": [
    "with open(\"whatever.txt\") as file :\n",
    "    data=file.read()\n",
    "    print(data)\n",
    "    \n",
    "# r --> read mode is default for open    "
   ]
  },
  {
   "cell_type": "code",
   "execution_count": 15,
   "id": "3df208ee",
   "metadata": {},
   "outputs": [],
   "source": [
    "with open(\"whatever.txt\",\"a\") as file :\n",
    "    file.write(\"\\nHave a nice day!\")\n",
    "     \n",
    "# a --> is for appending data    "
   ]
  },
  {
   "cell_type": "code",
   "execution_count": 16,
   "id": "7435eaa7",
   "metadata": {},
   "outputs": [
    {
     "name": "stdout",
     "output_type": "stream",
     "text": [
      "Hello, world!\n",
      "Have a nice day!\n"
     ]
    }
   ],
   "source": [
    "with open(\"whatever.txt\",\"r\") as file :\n",
    "    data=file.read()\n",
    "    print(data)"
   ]
  },
  {
   "cell_type": "code",
   "execution_count": 17,
   "id": "d23b4c34",
   "metadata": {},
   "outputs": [
    {
     "ename": "AttributeError",
     "evalue": "'_io.TextIOWrapper' object has no attribute 'delete'",
     "output_type": "error",
     "traceback": [
      "\u001b[1;31m---------------------------------------------------------------------------\u001b[0m",
      "\u001b[1;31mAttributeError\u001b[0m                            Traceback (most recent call last)",
      "Input \u001b[1;32mIn [17]\u001b[0m, in \u001b[0;36m<cell line: 1>\u001b[1;34m()\u001b[0m\n\u001b[0;32m      1\u001b[0m \u001b[38;5;28;01mwith\u001b[39;00m \u001b[38;5;28mopen\u001b[39m(\u001b[38;5;124m\"\u001b[39m\u001b[38;5;124mwhatever.txt\u001b[39m\u001b[38;5;124m\"\u001b[39m) \u001b[38;5;28;01mas\u001b[39;00m file_one:\n\u001b[1;32m----> 2\u001b[0m     \u001b[43mfile\u001b[49m\u001b[38;5;241;43m.\u001b[39;49m\u001b[43mdelete\u001b[49m(\u001b[38;5;124m\"\u001b[39m\u001b[38;5;124mwhatever.txt\u001b[39m\u001b[38;5;124m\"\u001b[39m)\n",
      "\u001b[1;31mAttributeError\u001b[0m: '_io.TextIOWrapper' object has no attribute 'delete'"
     ]
    }
   ],
   "source": [
    "with open(\"whatever.txt\") as file_one:\n",
    "    file.delete(\"whatever.txt\")"
   ]
  },
  {
   "cell_type": "code",
   "execution_count": 18,
   "id": "d7005164",
   "metadata": {},
   "outputs": [],
   "source": [
    "import os\n",
    "path= \"whatever.txt\"\n",
    "if os.path.isfile(path):\n",
    "    os.remove(path)\n",
    "else:\n",
    "    print(\"there is no file:\")\n",
    "# it remove whatever.text    "
   ]
  },
  {
   "cell_type": "code",
   "execution_count": 19,
   "id": "5e9d0eb3",
   "metadata": {},
   "outputs": [
    {
     "ename": "FileNotFoundError",
     "evalue": "[Errno 2] No such file or directory: 'whatever.txt'",
     "output_type": "error",
     "traceback": [
      "\u001b[1;31m---------------------------------------------------------------------------\u001b[0m",
      "\u001b[1;31mFileNotFoundError\u001b[0m                         Traceback (most recent call last)",
      "Input \u001b[1;32mIn [19]\u001b[0m, in \u001b[0;36m<cell line: 1>\u001b[1;34m()\u001b[0m\n\u001b[1;32m----> 1\u001b[0m \u001b[38;5;28;01mwith\u001b[39;00m \u001b[38;5;28;43mopen\u001b[39;49m\u001b[43m(\u001b[49m\u001b[38;5;124;43m\"\u001b[39;49m\u001b[38;5;124;43mwhatever.txt\u001b[39;49m\u001b[38;5;124;43m\"\u001b[39;49m\u001b[43m,\u001b[49m\u001b[38;5;124;43m\"\u001b[39;49m\u001b[38;5;124;43mr\u001b[39;49m\u001b[38;5;124;43m\"\u001b[39;49m\u001b[43m)\u001b[49m \u001b[38;5;28;01mas\u001b[39;00m file :\n\u001b[0;32m      2\u001b[0m     data\u001b[38;5;241m=\u001b[39mfile(\u001b[38;5;124m\"\u001b[39m\u001b[38;5;124mwhatever.txt\u001b[39m\u001b[38;5;124m\"\u001b[39m\u001b[38;5;241m.\u001b[39mread())\n",
      "\u001b[1;31mFileNotFoundError\u001b[0m: [Errno 2] No such file or directory: 'whatever.txt'"
     ]
    }
   ],
   "source": [
    "with open(\"whatever.txt\",\"r\") as file :\n",
    "    data=file(\"whatever.txt\".read())"
   ]
  },
  {
   "cell_type": "code",
   "execution_count": 20,
   "id": "1c044ba8",
   "metadata": {},
   "outputs": [
    {
     "name": "stdout",
     "output_type": "stream",
     "text": [
      "Greeting Mudassir\n"
     ]
    }
   ],
   "source": [
    "with open(\"Greeting.txt\", \"r\") as f:\n",
    "    data = f.read()\n",
    "    print(data)\n",
    "    "
   ]
  },
  {
   "cell_type": "code",
   "execution_count": 21,
   "id": "d01d2bc8",
   "metadata": {},
   "outputs": [],
   "source": [
    "with open(\"yourfile.txt\", \"w\") as f:\n",
    "    f.write(\"This is another line in the file\")"
   ]
  },
  {
   "cell_type": "code",
   "execution_count": 22,
   "id": "dc0aed94",
   "metadata": {},
   "outputs": [],
   "source": [
    "with open(\"yourfile.txt\", \"a\") as f:\n",
    "    f.write('''\n",
    "    Name: Nasir \n",
    "    Class: Python\n",
    "    Saylani Mass It Training Program\n",
    "    ''')"
   ]
  },
  {
   "cell_type": "code",
   "execution_count": 30,
   "id": "3dfd4888",
   "metadata": {},
   "outputs": [
    {
     "name": "stdout",
     "output_type": "stream",
     "text": [
      ".....from 0 index reading.....\n",
      "Text messaging, or texting, \n",
      "is the act of composing and sending electronic messages, \n",
      "typically consisting of alphabetic and numeric characters,\n",
      " between two or more users of mobile devices, desktops/laptops, or another type of compatible computer\n",
      ".....from 50 index reading.....\n",
      "ing and sending electronic messages, \n",
      "typically consisting of alphabetic and numeric characters,\n",
      " between two or more users of mobile devices, desktops/laptops, or another type of compatible computer\n"
     ]
    }
   ],
   "source": [
    "with open(\"helloworld.txt\", \"w+\") as file:\n",
    "    file.write(\"Text messaging, or texting, \\nis the act of composing and sending electronic messages, \\ntypically consisting of alphabetic and numeric characters,\\n between two or more users of mobile devices, desktops/laptops, or another type of compatible computer\")\n",
    "#jb write ka baat read pr ae ga to cursor last of line ma hoga  .ab mujha is ko wapis 0 index pr lana ha \n",
    "#to ma likho ga file.seek(0)\n",
    "    print(\".....from 0 index reading.....\")\n",
    "#     f.tell()     #this tell function is used to know curson location . means on which line cursor present.\n",
    "    file.seek(0) #read from 0 index\n",
    "    data = file.read() \n",
    "    print(data)\n",
    "    \n",
    "    print(\".....from 50 index reading.....\")\n",
    "    file.seek(50)    #read from 50 index\n",
    "    data = file.read()\n",
    "    print(data)"
   ]
  },
  {
   "cell_type": "code",
   "execution_count": 31,
   "id": "f2df4ed5",
   "metadata": {},
   "outputs": [
    {
     "name": "stdout",
     "output_type": "stream",
     "text": [
      "This is another line in the file\n",
      "\n",
      "    Name: Nasir \n",
      "\n",
      "    Class: Python\n",
      "\n",
      "    Saylani Mass It Training Program\n",
      "\n",
      "    \n"
     ]
    }
   ],
   "source": [
    "with open(\"yourfile.txt\") as sk:\n",
    "    for i in sk:\n",
    "        print(i)"
   ]
  },
  {
   "cell_type": "code",
   "execution_count": 24,
   "id": "ba36c948",
   "metadata": {
    "scrolled": true
   },
   "outputs": [
    {
     "name": "stdout",
     "output_type": "stream",
     "text": [
      "This is another line in the file\n",
      "    Name: Nasir\n",
      "    Class: Python\n",
      "    Saylani Mass It Training Program\n",
      "\n"
     ]
    }
   ],
   "source": [
    "with open(\"yourfile.txt\") as sk:\n",
    "    for i in sk:\n",
    "        print(i.rstrip())\n",
    "       \n",
    "\n",
    " #for remove  space we used   strip()       "
   ]
  },
  {
   "cell_type": "code",
   "execution_count": 34,
   "id": "b6031458",
   "metadata": {},
   "outputs": [
    {
     "name": "stdout",
     "output_type": "stream",
     "text": [
      "This is another line in the file\n",
      "    Name: Nasir\n",
      "    Class: Python\n",
      "    Saylani Mass It Training Program\n",
      "\n"
     ]
    }
   ],
   "source": [
    "with open(\"yourfile.txt\") as ik:\n",
    "    content = ik.readlines()\n",
    "#     \n",
    "    \n",
    "for line in content:\n",
    "        print(line.rstrip())"
   ]
  },
  {
   "cell_type": "markdown",
   "id": "8e37d660",
   "metadata": {},
   "source": [
    "# Open(), Read() & Readline() For Reading File"
   ]
  },
  {
   "cell_type": "code",
   "execution_count": 35,
   "id": "0d9aa028",
   "metadata": {},
   "outputs": [
    {
     "data": {
      "text/plain": [
       "<_io.TextIOWrapper name='python.txt' mode='r' encoding='cp1252'>"
      ]
     },
     "execution_count": 35,
     "metadata": {},
     "output_type": "execute_result"
    }
   ],
   "source": [
    "open(\"python.txt\")"
   ]
  },
  {
   "cell_type": "code",
   "execution_count": 36,
   "id": "518dfd36",
   "metadata": {},
   "outputs": [
    {
     "name": "stdout",
     "output_type": "stream",
     "text": [
      "i love you\n",
      "i love you 1\n",
      "i love you 2\n",
      "\n",
      "\n",
      "\n",
      "instruction for mymodule:\n",
      "open in cmd in existing folder of python\n",
      "python \n",
      "exit()\n",
      "dir\n",
      "python mymodule.py\n",
      "\n",
      "now go to modules:\n",
      "\n"
     ]
    }
   ],
   "source": [
    "f= open(\"python.txt\")\n",
    "b=f.read()\n",
    "print(b)"
   ]
  },
  {
   "cell_type": "code",
   "execution_count": 37,
   "id": "c0e9a5e7",
   "metadata": {},
   "outputs": [],
   "source": [
    "f.close()"
   ]
  },
  {
   "cell_type": "code",
   "execution_count": 38,
   "id": "3aa682e0",
   "metadata": {},
   "outputs": [
    {
     "name": "stdout",
     "output_type": "stream",
     "text": [
      "i love you\n",
      "i love you 1\n",
      "i love you 2\n",
      "\n",
      "\n",
      "\n",
      "instruction for mymodule:\n",
      "open in cmd in existing folder of python\n",
      "python \n",
      "exit()\n",
      "dir\n",
      "python mymodule.py\n",
      "\n",
      "now go to modules:\n",
      "\n"
     ]
    }
   ],
   "source": [
    "#another way\n",
    "f= open(\"python.txt\" ,\"r\")\n",
    "print(f.read())\n"
   ]
  },
  {
   "cell_type": "code",
   "execution_count": 39,
   "id": "adb62e2d",
   "metadata": {},
   "outputs": [
    {
     "name": "stdout",
     "output_type": "stream",
     "text": [
      "b'i love you\\ni love you 1\\ni love you 2\\n\\n\\n\\ninstruction for mymodule:\\nopen in cmd in existing folder of python\\npython \\nexit()\\ndir\\npython mymodule.py\\n\\nnow go to modules:\\n'\n"
     ]
    }
   ],
   "source": [
    "#another way\n",
    "f= open(\"python.txt\" ,\"rb\")\n",
    "# r for read ,b for special symbol (it will text + new line)\n",
    "t=f.read()\n",
    "print(t)\n"
   ]
  },
  {
   "cell_type": "code",
   "execution_count": 40,
   "id": "4a6de782",
   "metadata": {},
   "outputs": [
    {
     "name": "stdout",
     "output_type": "stream",
     "text": [
      "i l\n"
     ]
    }
   ],
   "source": [
    "f= open(\"python.txt\" ,\"rt\")\n",
    "print(f.read(3))  #reads 3 character\n"
   ]
  },
  {
   "cell_type": "code",
   "execution_count": 41,
   "id": "83458a87",
   "metadata": {},
   "outputs": [
    {
     "name": "stdout",
     "output_type": "stream",
     "text": [
      "i love you\n",
      "i love you 1\n",
      "i love you \n"
     ]
    }
   ],
   "source": [
    "f= open(\"python.txt\" ,\"rt\")\n",
    "print(f.read(35))\n",
    "f.close()"
   ]
  },
  {
   "cell_type": "code",
   "execution_count": 42,
   "id": "04113604",
   "metadata": {},
   "outputs": [
    {
     "name": "stdout",
     "output_type": "stream",
     "text": [
      "i love you\n",
      "\n",
      "i love you 1\n",
      "\n",
      "i love you 2\n",
      "\n",
      "\n",
      "\n",
      "\n",
      "\n",
      "\n",
      "\n",
      "instruction for mymodule:\n",
      "\n",
      "open in cmd in existing folder of python\n",
      "\n",
      "python \n",
      "\n",
      "exit()\n",
      "\n",
      "dir\n",
      "\n",
      "python mymodule.py\n",
      "\n",
      "\n",
      "\n",
      "now go to modules:\n",
      "\n"
     ]
    }
   ],
   "source": [
    "f= open(\"python.txt\" ,\"rt\")\n",
    "# t=f.read()\n",
    "# print(t)\n",
    "for line in f:\n",
    "    print(line )\n",
    "# print(content)"
   ]
  },
  {
   "cell_type": "code",
   "execution_count": 43,
   "id": "3b06ff04",
   "metadata": {},
   "outputs": [
    {
     "name": "stdout",
     "output_type": "stream",
     "text": [
      "i love you\n",
      "i love you 1\n",
      "i love you 2\n",
      "\n",
      "\n",
      "\n",
      "instruction for mymodule:\n",
      "open in cmd in existing folder of python\n",
      "python \n",
      "exit()\n",
      "dir\n",
      "python mymodule.py\n",
      "\n",
      "now go to modules:\n"
     ]
    }
   ],
   "source": [
    "f= open(\"python.txt\" ,\"rt\")\n",
    "# t=f.read()\n",
    "# print(t)\n",
    "for line in f:\n",
    "    print(line, end=\"\")\n",
    "# print(content)"
   ]
  },
  {
   "cell_type": "code",
   "execution_count": 44,
   "id": "84e4f64f",
   "metadata": {},
   "outputs": [
    {
     "name": "stdout",
     "output_type": "stream",
     "text": [
      "i love you\n",
      "i love you 1\n",
      "i love you 2\n",
      "\n",
      "\n",
      "\n",
      "instruction for mymodule:\n",
      "open in cmd in existing folder of python\n",
      "python\n",
      "exit()\n",
      "dir\n",
      "python mymodule.py\n",
      "\n",
      "now go to modules:\n"
     ]
    }
   ],
   "source": [
    "f= open(\"python.txt\" ,\"rt\")\n",
    "# t=f.read()\n",
    "# print(t)\n",
    "for line in f:\n",
    "    print(line.rstrip())\n",
    "# print(content)"
   ]
  },
  {
   "cell_type": "code",
   "execution_count": 45,
   "id": "0958eae0",
   "metadata": {},
   "outputs": [
    {
     "name": "stdout",
     "output_type": "stream",
     "text": [
      "i love you\n",
      "\n"
     ]
    }
   ],
   "source": [
    "f= open(\"python.txt\" ,\"rt\")\n",
    "print(f.readline())  #single line\n",
    "#t--> read text"
   ]
  },
  {
   "cell_type": "code",
   "execution_count": 46,
   "id": "69046520",
   "metadata": {},
   "outputs": [
    {
     "name": "stdout",
     "output_type": "stream",
     "text": [
      "['i love you\\n', 'i love you 1\\n', 'i love you 2\\n', '\\n', '\\n', '\\n', 'instruction for mymodule:\\n', 'open in cmd in existing folder of python\\n', 'python \\n', 'exit()\\n', 'dir\\n', 'python mymodule.py\\n', '\\n', 'now go to modules:\\n']\n"
     ]
    }
   ],
   "source": [
    "f= open(\"python.txt\" ,\"rt\")\n",
    "print(f.readlines())\n"
   ]
  },
  {
   "cell_type": "code",
   "execution_count": null,
   "id": "bf2d7e48",
   "metadata": {},
   "outputs": [],
   "source": [
    "# f = open(\"harry.txt\", \"rt\")\n",
    "# print(f.readlines())\n",
    "# print(f.readline())\n",
    "# print(f.readline())\n",
    "# print(f.readline())\n",
    "# content = f.read()\n",
    "#\n",
    "# for line in f:\n",
    "#     print(line, end=\"\")\n",
    "# print(content)\n",
    "# content = f.read(34455)\n",
    "# print(\"1\", content)\n",
    "#\n",
    "# content = f.read(34455)\n",
    "# print(\"2\", content)\n",
    "# f.close()"
   ]
  }
 ],
 "metadata": {
  "kernelspec": {
   "display_name": "Python 3 (ipykernel)",
   "language": "python",
   "name": "python3"
  },
  "language_info": {
   "codemirror_mode": {
    "name": "ipython",
    "version": 3
   },
   "file_extension": ".py",
   "mimetype": "text/x-python",
   "name": "python",
   "nbconvert_exporter": "python",
   "pygments_lexer": "ipython3",
   "version": "3.9.12"
  }
 },
 "nbformat": 4,
 "nbformat_minor": 5
}
