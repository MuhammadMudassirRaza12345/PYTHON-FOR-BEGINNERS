{
 "cells": [
  {
   "cell_type": "markdown",
   "id": "f46f14a8",
   "metadata": {},
   "source": [
    "## Predefine Modules  / Libraries /Packages"
   ]
  },
  {
   "cell_type": "markdown",
   "id": "e5478e0b",
   "metadata": {},
   "source": [
    "- Built in \n",
    "- User defined"
   ]
  },
  {
   "cell_type": "code",
   "execution_count": 1,
   "id": "bc83369b",
   "metadata": {},
   "outputs": [],
   "source": [
    "import math\n",
    "# a module can have classes, fucntions etc "
   ]
  },
  {
   "cell_type": "code",
   "execution_count": 2,
   "id": "ffe359ef",
   "metadata": {},
   "outputs": [
    {
     "data": {
      "text/plain": [
       "3"
      ]
     },
     "execution_count": 2,
     "metadata": {},
     "output_type": "execute_result"
    }
   ],
   "source": [
    "math.ceil(2.7)\n",
    " # it will return the very next integer after 2.7"
   ]
  },
  {
   "cell_type": "code",
   "execution_count": 3,
   "id": "dccf17af",
   "metadata": {},
   "outputs": [
    {
     "data": {
      "text/plain": [
       "2"
      ]
     },
     "execution_count": 3,
     "metadata": {},
     "output_type": "execute_result"
    }
   ],
   "source": [
    "math.floor(2.7)\n",
    "# it will return the very last integer before 2.7"
   ]
  },
  {
   "cell_type": "code",
   "execution_count": 4,
   "id": "88809bd3",
   "metadata": {},
   "outputs": [
    {
     "data": {
      "text/plain": [
       "7.38905609893065"
      ]
     },
     "execution_count": 4,
     "metadata": {},
     "output_type": "execute_result"
    }
   ],
   "source": [
    "math.exp(2)    \n",
    "# shift +tab for function information"
   ]
  },
  {
   "cell_type": "code",
   "execution_count": 5,
   "id": "4059c053",
   "metadata": {},
   "outputs": [
    {
     "data": {
      "text/plain": [
       "2.0"
      ]
     },
     "execution_count": 5,
     "metadata": {},
     "output_type": "execute_result"
    }
   ],
   "source": [
    "math.fmod(2,3)\n",
    "# modulus (%)"
   ]
  },
  {
   "cell_type": "code",
   "execution_count": 6,
   "id": "b67819af",
   "metadata": {},
   "outputs": [],
   "source": [
    "from math import exp"
   ]
  },
  {
   "cell_type": "code",
   "execution_count": 7,
   "id": "48e103d5",
   "metadata": {},
   "outputs": [
    {
     "data": {
      "text/plain": [
       "7.38905609893065"
      ]
     },
     "execution_count": 7,
     "metadata": {},
     "output_type": "execute_result"
    }
   ],
   "source": [
    "exp(2)"
   ]
  },
  {
   "cell_type": "code",
   "execution_count": 8,
   "id": "cdda78c2",
   "metadata": {},
   "outputs": [],
   "source": [
    "import mymodule"
   ]
  },
  {
   "cell_type": "code",
   "execution_count": 9,
   "id": "cb2d782f",
   "metadata": {},
   "outputs": [
    {
     "name": "stdout",
     "output_type": "stream",
     "text": [
      "The sqaure of 12 is 144 which is a local variable\n"
     ]
    }
   ],
   "source": [
    "mymodule.square_of_a_number(12)"
   ]
  },
  {
   "cell_type": "code",
   "execution_count": 10,
   "id": "aa2b3bb2",
   "metadata": {},
   "outputs": [],
   "source": [
    "myalbum=mymodule.make_album(\"nasir\",\"naat\",3)\n"
   ]
  },
  {
   "cell_type": "code",
   "execution_count": 11,
   "id": "6de2e383",
   "metadata": {},
   "outputs": [
    {
     "data": {
      "text/plain": [
       "{'artist name : ': 'nasir', 'album title : ': 'naat', 'number of tracks': 3}"
      ]
     },
     "execution_count": 11,
     "metadata": {},
     "output_type": "execute_result"
    }
   ],
   "source": [
    "myalbum"
   ]
  },
  {
   "cell_type": "code",
   "execution_count": 12,
   "id": "74fc8fb1",
   "metadata": {},
   "outputs": [],
   "source": [
    "from mymodule import make_album"
   ]
  },
  {
   "cell_type": "code",
   "execution_count": 13,
   "id": "fe0d01ef",
   "metadata": {},
   "outputs": [
    {
     "data": {
      "text/plain": [
       "{'artist name : ': 'raza', 'album title : ': 'lala', 'number of tracks': 14}"
      ]
     },
     "execution_count": 13,
     "metadata": {},
     "output_type": "execute_result"
    }
   ],
   "source": [
    "make_album(\"raza\",\"lala\",14)"
   ]
  },
  {
   "cell_type": "code",
   "execution_count": 14,
   "id": "066a7a76",
   "metadata": {},
   "outputs": [],
   "source": [
    "import mymodule as mm"
   ]
  },
  {
   "cell_type": "code",
   "execution_count": 15,
   "id": "6db36fc2",
   "metadata": {},
   "outputs": [
    {
     "data": {
      "text/plain": [
       "0.022"
      ]
     },
     "execution_count": 15,
     "metadata": {},
     "output_type": "execute_result"
    }
   ],
   "source": [
    "mm.meter_to_km(22)"
   ]
  },
  {
   "cell_type": "code",
   "execution_count": 16,
   "id": "0fcc9989",
   "metadata": {},
   "outputs": [
    {
     "name": "stdout",
     "output_type": "stream",
     "text": [
      "The sqaure of 22 is 484 which is a local variable\n"
     ]
    }
   ],
   "source": [
    "mm.square_of_a_number(22)"
   ]
  },
  {
   "cell_type": "code",
   "execution_count": 17,
   "id": "a7d7a163",
   "metadata": {},
   "outputs": [],
   "source": [
    "# %load mymodule.py\n",
    "def make_album(artist_name,albumtitle,number_of_tracks=\"\"):\n",
    "    \"\"\" This function takes two mandatory argument\n",
    "    artist_name,\n",
    "    albumtitle,\n",
    "    number_of_tracks\n",
    "    \n",
    "    it will return the dictionary  whose keys will be\n",
    "    artist name\n",
    "    album title\n",
    "    \n",
    "    whose value will be arguments provided by the user during function call.\n",
    "    \n",
    "    \n",
    "    \n",
    "    \"\"\"\n",
    "    album_dic={\"artist name : \":artist_name,\"album title : \":albumtitle}\n",
    "    if number_of_tracks:\n",
    "        album_dic[\"number of tracks\"]=number_of_tracks\n",
    "   \n",
    "    return album_dic    \n",
    "\n",
    "\n",
    "\n",
    "\n",
    "\n",
    "def square_of_a_number(num):\n",
    "    \n",
    "    square = num**2   # local variable\n",
    "    print(f\"The sqaure of {num} is {square} which is a local variable\")\n",
    "    \n",
    "    \n",
    "def meter_to_km(distance_in_meters):\n",
    "    distance_in_km= distance_in_meters/1000\n",
    "    return distance_in_km\n",
    "    "
   ]
  },
  {
   "cell_type": "markdown",
   "id": "60a6a861",
   "metadata": {},
   "source": [
    "# Exceptions"
   ]
  },
  {
   "cell_type": "markdown",
   "id": "7e2a027f",
   "metadata": {},
   "source": [
    "\"Exceptions are discussed in private\""
   ]
  },
  {
   "cell_type": "raw",
   "id": "14fd7ebc",
   "metadata": {},
   "source": [
    "valid syntax: an integer can divide another intger\n",
    "12/12, 3/ 5/6\n",
    "\n",
    "but 0 which is also an integer can not divide any integer"
   ]
  },
  {
   "cell_type": "code",
   "execution_count": 18,
   "id": "c2ff121f",
   "metadata": {},
   "outputs": [
    {
     "ename": "ZeroDivisionError",
     "evalue": "division by zero",
     "output_type": "error",
     "traceback": [
      "\u001b[1;31m---------------------------------------------------------------------------\u001b[0m",
      "\u001b[1;31mZeroDivisionError\u001b[0m                         Traceback (most recent call last)",
      "Input \u001b[1;32mIn [18]\u001b[0m, in \u001b[0;36m<cell line: 1>\u001b[1;34m()\u001b[0m\n\u001b[1;32m----> 1\u001b[0m \u001b[38;5;241;43m12\u001b[39;49m\u001b[38;5;241;43m/\u001b[39;49m\u001b[38;5;241;43m0\u001b[39;49m\n",
      "\u001b[1;31mZeroDivisionError\u001b[0m: division by zero"
     ]
    }
   ],
   "source": [
    "12/0"
   ]
  },
  {
   "cell_type": "code",
   "execution_count": 19,
   "id": "66d04549",
   "metadata": {},
   "outputs": [
    {
     "name": "stdout",
     "output_type": "stream",
     "text": [
      "Tell me a numberraza\n"
     ]
    },
    {
     "ename": "ValueError",
     "evalue": "invalid literal for int() with base 10: 'raza'",
     "output_type": "error",
     "traceback": [
      "\u001b[1;31m---------------------------------------------------------------------------\u001b[0m",
      "\u001b[1;31mValueError\u001b[0m                                Traceback (most recent call last)",
      "Input \u001b[1;32mIn [19]\u001b[0m, in \u001b[0;36m<cell line: 1>\u001b[1;34m()\u001b[0m\n\u001b[1;32m----> 1\u001b[0m a \u001b[38;5;241m=\u001b[39m \u001b[38;5;28;43mint\u001b[39;49m\u001b[43m(\u001b[49m\u001b[38;5;28;43minput\u001b[39;49m\u001b[43m(\u001b[49m\u001b[38;5;124;43m\"\u001b[39;49m\u001b[38;5;124;43mTell me a number\u001b[39;49m\u001b[38;5;124;43m\"\u001b[39;49m\u001b[43m)\u001b[49m\u001b[43m)\u001b[49m\n\u001b[0;32m      2\u001b[0m \u001b[38;5;28mprint\u001b[39m(a)\n",
      "\u001b[1;31mValueError\u001b[0m: invalid literal for int() with base 10: 'raza'"
     ]
    }
   ],
   "source": [
    "a = int(input(\"Tell me a number\"))\n",
    "print(a)"
   ]
  },
  {
   "cell_type": "code",
   "execution_count": 21,
   "id": "f5f91754",
   "metadata": {},
   "outputs": [
    {
     "name": "stdout",
     "output_type": "stream",
     "text": [
      "Enter a number to be divided1\n",
      "Enter a number to divide num10\n",
      "You can not divide an integer by 0\n"
     ]
    }
   ],
   "source": [
    "num1 = int(input(\"Enter a number to be divided\"))\n",
    "num2 = int(input(\"Enter a number to divide num1\"))\n",
    "res = None\n",
    "try:\n",
    "    res = num1/num2\n",
    "    print(res)\n",
    "\n",
    "except ZeroDivisionError:\n",
    "    print(\"You can not divide an integer by 0\")\n",
    "\n"
   ]
  },
  {
   "cell_type": "code",
   "execution_count": 22,
   "id": "907ac6f5",
   "metadata": {},
   "outputs": [
    {
     "name": "stdout",
     "output_type": "stream",
     "text": [
      "Enter a number to be divided : raza\n",
      "Insan ka bacha ban ja warna ghar akar marunga\n"
     ]
    }
   ],
   "source": [
    "try:\n",
    "    num1 = int(input(\"Enter a number to be divided : \"))\n",
    "    num2 = int(input(\"Enter a number to divide num1 :\"))\n",
    "    res = num1/num2\n",
    "    print(res)\n",
    "    \n",
    "except ZeroDivisionError:\n",
    "    print(\"You can not divide an integer by 0\")\n",
    "except ValueError:\n",
    "    print(\"Insan ka bacha ban ja warna ghar akar marunga\")\n"
   ]
  },
  {
   "cell_type": "code",
   "execution_count": 23,
   "id": "479c0cd6",
   "metadata": {},
   "outputs": [
    {
     "name": "stdout",
     "output_type": "stream",
     "text": [
      "Enter a number to be dividede\n",
      "Acception was generated and caught successfully\n",
      "invalid literal for int() with base 10: 'e'\n"
     ]
    }
   ],
   "source": [
    "try:\n",
    "    num1 = int(input(\"Enter a number to be divided\"))\n",
    "    num2 = int(input(\"Enter a number to divide num1\"))\n",
    "    res = num1/num2\n",
    "    print(res)\n",
    "    \n",
    "except Exception as e:\n",
    "    print(\"Acception was generated and caught successfully\\n\" + str(e))"
   ]
  },
  {
   "cell_type": "code",
   "execution_count": 24,
   "id": "ddabcb1f",
   "metadata": {},
   "outputs": [
    {
     "name": "stdout",
     "output_type": "stream",
     "text": [
      "Enter a number to be dividede\n",
      "Acception was generated and caught successfully\n",
      "invalid literal for int() with base 10: 'e'\n"
     ]
    }
   ],
   "source": [
    "try:\n",
    "    num1 = int(input(\"Enter a number to be divided\"))\n",
    "    num2 = int(input(\"Enter a number to divide num1\"))\n",
    "    res = num1/num2\n",
    "    print(res)\n",
    "    \n",
    "except Exception as e:\n",
    "    print(\"Acception was generated and caught successfully\\n\" + str(e))"
   ]
  },
  {
   "cell_type": "code",
   "execution_count": 26,
   "id": "dbac0f06",
   "metadata": {},
   "outputs": [],
   "source": [
    "# try except raise else finally "
   ]
  },
  {
   "cell_type": "code",
   "execution_count": 30,
   "id": "92468018",
   "metadata": {
    "scrolled": true
   },
   "outputs": [
    {
     "name": "stdout",
     "output_type": "stream",
     "text": [
      "Area of triangle is 75.0 meters\n",
      "It is a small triangle\n",
      "The triangle is not a right triangle\n"
     ]
    }
   ],
   "source": [
    "%run Python17(4Feb).py"
   ]
  },
  {
   "cell_type": "code",
   "execution_count": 31,
   "id": "b82d6847",
   "metadata": {},
   "outputs": [
    {
     "name": "stdout",
     "output_type": "stream",
     "text": [
      "Area of triangle is 75.0\n",
      "It is a small triangle\n"
     ]
    }
   ],
   "source": [
    "# %load Python17(4Feb).py\n",
    "# import trigonometry as tri\n",
    "# tri_area,unit  = tri.area_of_triangle(10,15)\n",
    "\n",
    "# print(f\"Area of triangle is {tri_area}\")\n",
    "\n",
    "# if tri_area > 100:\n",
    "#     print(\"Its is a big triangle\")\n",
    "# else:\n",
    "#     print(\"It is a small triangle\")\n",
    "\n",
    "# print(tri.check_right_triangle(10,12, 15))\n",
    "import trigonometry as tri\n",
    "tri_area, unit = tri.area_of_triangle(10, 15)\n",
    "print(f\"Area of triangle is {tri_area}\")\n",
    "if tri_area > 100:\n",
    "    print(\"Its is a big triangle\")\n",
    "else:\n",
    "    print(\"It is a small triangle\")"
   ]
  },
  {
   "cell_type": "code",
   "execution_count": null,
   "id": "b29da3b6",
   "metadata": {},
   "outputs": [],
   "source": []
  }
 ],
 "metadata": {
  "kernelspec": {
   "display_name": "Python 3.10.7 64-bit",
   "language": "python",
   "name": "python3"
  },
  "language_info": {
   "codemirror_mode": {
    "name": "ipython",
    "version": 3
   },
   "file_extension": ".py",
   "mimetype": "text/x-python",
   "name": "python",
   "nbconvert_exporter": "python",
   "pygments_lexer": "ipython3",
   "version": "3.10.7"
  },
  "vscode": {
   "interpreter": {
    "hash": "52ca1e607584ad3398d591ffd75feb2082f1da1c71d65ebfa531d3bca73e6dbb"
   }
  }
 },
 "nbformat": 4,
 "nbformat_minor": 5
}
