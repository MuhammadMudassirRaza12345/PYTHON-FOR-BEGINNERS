{
 "cells": [
  {
   "cell_type": "markdown",
   "id": "7f1ccff3",
   "metadata": {},
   "source": [
    "# Using Python External & Built In Modules"
   ]
  },
  {
   "cell_type": "raw",
   "id": "0336ded0",
   "metadata": {},
   "source": [
    "In Python, a module can be defined as a file containing a runnable python code. The extension used by modules in Python is .py. Hence any simple file containing Python code can be considered as a module if its extension is .py. The file and module names are the same; hence we can call a module only by name without using the extension. Along with this, a module can define functions, classes, and variables.\n",
    "\n",
    "There are two types of modules.\n",
    "\n",
    "Built-in\n",
    "External\n",
    "Built-in Modules:\n",
    "Built-in modules are already installed in Python by default. We can import a module in Python by using the import statement along with the specific module name. We can also access the built-in module files and can read the Python code present in them. Newly integrated modules are added in Python with each update. \n",
    "\n",
    "Some important modules names are as follows\n",
    "\n",
    "Modules Names\n",
    "\n",
    "Purpose\n",
    "\n",
    "calendar\n",
    "\n",
    "used in case we are working with calendars\n",
    "\n",
    "random\n",
    "\n",
    "used for generating random numbers within certain defined limits\n",
    "\n",
    "enum\n",
    "\n",
    "used while working with enumeration class\n",
    "\n",
    "html\n",
    "\n",
    "for handling and manipulating code in HTML\n",
    "\n",
    "math\n",
    "\n",
    "for working with math functions such as sin, cos, etc.\n",
    "\n",
    "runpy\n",
    "\n",
    "runpy is an important module as it locates and runs python modules without importing them first\n",
    "\n",
    "External modules:\n",
    "External modules have to be downloaded externally; they are not already present like the built-in ones. Installing them is a rather easy task and can be done by using the command “pip install module_name” in the compiler terminal. Being familiar with all the modules seems like a long shot for even the best of programmers because there are so many modules available out there. So, we can search and find modules according to our needs and use them as there is no need to remember all of them when we can simply look for them on the internet when the need occurs.\n",
    "\n",
    "Being programmers, module makes our life a lot easy. Unlike programming languages in the past, also known as low-level programming languages, Python provides us with a lot of modules that make our coding much easy because we do not have to write all the code ourselves. We can directly access a module for a specific task. For example, to generate a random number within two numbers, known as its limit, we do not have to write a function ourselves with loops and a large number of lines of codes. Instead, we can directly import a module, and this makes our work simple.\n",
    "\n",
    "We should not concern ourselves with the code written inside the module; instead, we can search the internet for the functions and properties. If we are not satisfied with the available module's work or could not find a module that could help us in the required manner, we can create our own module by making a file with .py extension. The module file will be like any other file you see in Python, the difference will just arise in the extension.  \n",
    "\n",
    "Code file as described in the video\n"
   ]
  },
  {
   "cell_type": "code",
   "execution_count": null,
   "id": "01d749c2",
   "metadata": {},
   "outputs": [],
   "source": [
    "import random\n",
    "random_number = random.randint(0, 1)\n",
    "# print(random_number)\n",
    "rand = random.random() *100\n",
    "# print(rand)\n",
    "lst = [\"Star Plus\", \"DD1\", \"Aaj Tak\", \"CodeWithHarry\"]\n",
    "choice = random.choice(lst)\n",
    "print(choice)"
   ]
  }
 ],
 "metadata": {
  "kernelspec": {
   "display_name": "Python 3 (ipykernel)",
   "language": "python",
   "name": "python3"
  },
  "language_info": {
   "codemirror_mode": {
    "name": "ipython",
    "version": 3
   },
   "file_extension": ".py",
   "mimetype": "text/x-python",
   "name": "python",
   "nbconvert_exporter": "python",
   "pygments_lexer": "ipython3",
   "version": "3.9.12"
  }
 },
 "nbformat": 4,
 "nbformat_minor": 5
}
