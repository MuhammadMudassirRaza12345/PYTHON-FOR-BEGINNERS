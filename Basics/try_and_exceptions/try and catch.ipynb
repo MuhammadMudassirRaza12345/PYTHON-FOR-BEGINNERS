{
 "cells": [
  {
   "cell_type": "code",
   "execution_count": 1,
   "id": "d7a55407",
   "metadata": {},
   "outputs": [
    {
     "name": "stdout",
     "output_type": "stream",
     "text": [
      "Enter num 1\n",
      "1\n",
      "Enter num 2\n",
      "2\n",
      "The sum of these two numbers is 3\n",
      "This line is very important\n"
     ]
    }
   ],
   "source": [
    "print(\"Enter num 1\")\n",
    "num1 = input()\n",
    "print(\"Enter num 2\")\n",
    "num2 = input()\n",
    "try:\n",
    "    print(\"The sum of these two numbers is\",\n",
    "          int(num1)+int(num2))\n",
    "except Exception as e:\n",
    "    print(e)\n",
    "\n",
    "\n",
    "\n",
    "print(\"This line is very important\")\n",
    "\n"
   ]
  },
  {
   "cell_type": "code",
   "execution_count": null,
   "id": "f0da5ab3",
   "metadata": {},
   "outputs": [],
   "source": []
  }
 ],
 "metadata": {
  "kernelspec": {
   "display_name": "Python 3 (ipykernel)",
   "language": "python",
   "name": "python3"
  },
  "language_info": {
   "codemirror_mode": {
    "name": "ipython",
    "version": 3
   },
   "file_extension": ".py",
   "mimetype": "text/x-python",
   "name": "python",
   "nbconvert_exporter": "python",
   "pygments_lexer": "ipython3",
   "version": "3.9.12"
  }
 },
 "nbformat": 4,
 "nbformat_minor": 5
}
