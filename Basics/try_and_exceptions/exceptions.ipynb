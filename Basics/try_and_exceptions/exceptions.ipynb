{
 "cells": [
  {
   "cell_type": "code",
   "execution_count": 1,
   "metadata": {
    "colab": {
     "base_uri": "https://localhost:8080/",
     "height": 183
    },
    "colab_type": "code",
    "executionInfo": {
     "elapsed": 852,
     "status": "error",
     "timestamp": 1564818634003,
     "user": {
      "displayName": "Agha Nasir Hussain",
      "photoUrl": "https://lh3.googleusercontent.com/-HcYCvldsF14/AAAAAAAAAAI/AAAAAAAAABQ/-8u92TzdWI4/s64/photo.jpg",
      "userId": "12080318097281941003"
     },
     "user_tz": -300
    },
    "id": "r7v8bkGEbbSY",
    "outputId": "4aa2b7d9-6181-4c09-9517-cfc31aec5517"
   },
   "outputs": [
    {
     "ename": "ZeroDivisionError",
     "evalue": "division by zero",
     "output_type": "error",
     "traceback": [
      "\u001b[1;31m---------------------------------------------------------------------------\u001b[0m",
      "\u001b[1;31mZeroDivisionError\u001b[0m                         Traceback (most recent call last)",
      "Input \u001b[1;32mIn [1]\u001b[0m, in \u001b[0;36m<cell line: 1>\u001b[1;34m()\u001b[0m\n\u001b[1;32m----> 1\u001b[0m \u001b[38;5;241;43m5\u001b[39;49m\u001b[38;5;241;43m/\u001b[39;49m\u001b[38;5;241;43m0\u001b[39;49m\n\u001b[0;32m      2\u001b[0m \u001b[38;5;28mprint\u001b[39m(\u001b[38;5;124m\"\u001b[39m\u001b[38;5;124mhellow\u001b[39m\u001b[38;5;124m\"\u001b[39m)\n",
      "\u001b[1;31mZeroDivisionError\u001b[0m: division by zero"
     ]
    }
   ],
   "source": [
    "5/0\n",
    "print(\"hellow\")"
   ]
  },
  {
   "cell_type": "code",
   "execution_count": 0,
   "metadata": {
    "colab": {},
    "colab_type": "code",
    "id": "bry5WMw3b4nl"
   },
   "outputs": [],
   "source": [
    "# Syntax error & logical/Runtime error"
   ]
  },
  {
   "cell_type": "code",
   "execution_count": 2,
   "metadata": {
    "colab": {
     "base_uri": "https://localhost:8080/",
     "height": 69
    },
    "colab_type": "code",
    "executionInfo": {
     "elapsed": 10804,
     "status": "ok",
     "timestamp": 1564820111539,
     "user": {
      "displayName": "Agha Nasir Hussain",
      "photoUrl": "https://lh3.googleusercontent.com/-HcYCvldsF14/AAAAAAAAAAI/AAAAAAAAABQ/-8u92TzdWI4/s64/photo.jpg",
      "userId": "12080318097281941003"
     },
     "user_tz": -300
    },
    "id": "y1YM7iDfbbSb",
    "outputId": "e36ede09-0adc-47be-ed13-1bfc014bcb2f"
   },
   "outputs": [
    {
     "name": "stdout",
     "output_type": "stream",
     "text": [
      "Enter a number4\n",
      "Enter a number0\n",
      "ABe O insan ban\n"
     ]
    }
   ],
   "source": [
    "\n",
    "\n",
    "a =int(input(\"Enter a number\")) \n",
    "b =int(input(\"Enter a number\")) \n",
    "try:\n",
    "  c = a/b\n",
    "  # zeero division\n",
    "  # null value\n",
    "  # value\n",
    "  \n",
    "\n",
    "except ZeroDivisionError:\n",
    "    print(\"ABe O insan ban\")\n",
    "except ValueError:\n",
    "  print(\"Value error handled\")\n",
    "\n",
    "else:\n",
    "  \n",
    "  print(c)\n"
   ]
  },
  {
   "cell_type": "code",
   "execution_count": 3,
   "metadata": {
    "colab": {
     "base_uri": "https://localhost:8080/",
     "height": 69
    },
    "colab_type": "code",
    "executionInfo": {
     "elapsed": 7076,
     "status": "ok",
     "timestamp": 1564819791155,
     "user": {
      "displayName": "Agha Nasir Hussain",
      "photoUrl": "https://lh3.googleusercontent.com/-HcYCvldsF14/AAAAAAAAAAI/AAAAAAAAABQ/-8u92TzdWI4/s64/photo.jpg",
      "userId": "12080318097281941003"
     },
     "user_tz": -300
    },
    "id": "dOnSi0qzbbSd",
    "outputId": "4a23121f-19d1-4ca2-b85f-f1137b4eb017"
   },
   "outputs": [
    {
     "name": "stdout",
     "output_type": "stream",
     "text": [
      "Enter a number34\n",
      "Enter a number34\n",
      "Else 1.0\n"
     ]
    }
   ],
   "source": [
    "\n",
    "a =int(input(\"Enter a number\")) \n",
    "b =int(input(\"Enter a number\")) \n",
    "try:\n",
    "    c = a/b\n",
    "except ZeroDivisionError:\n",
    "    print(\"Handled ZeroDivisionError\")\n",
    "else:\n",
    "    print(\"Else \" +str(c))\n",
    "\n",
    "\n",
    "\n"
   ]
  },
  {
   "cell_type": "code",
   "execution_count": 12,
   "metadata": {
    "colab": {
     "base_uri": "https://localhost:8080/",
     "height": 104
    },
    "colab_type": "code",
    "executionInfo": {
     "elapsed": 21874,
     "status": "ok",
     "timestamp": 1564819842766,
     "user": {
      "displayName": "Agha Nasir Hussain",
      "photoUrl": "https://lh3.googleusercontent.com/-HcYCvldsF14/AAAAAAAAAAI/AAAAAAAAABQ/-8u92TzdWI4/s64/photo.jpg",
      "userId": "12080318097281941003"
     },
     "user_tz": -300
    },
    "id": "LHUr00sbbbSf",
    "outputId": "6619dfeb-0ede-492a-e319-c52ab92b572d"
   },
   "outputs": [
    {
     "name": "stdout",
     "output_type": "stream",
     "text": [
      "First\n",
      "Enter a number45\n",
      "Enter a number0\n",
      "Handled ZeroDivisionError\n",
      "last\n"
     ]
    }
   ],
   "source": [
    "\n",
    "print(\"First\")\n",
    "a =int(input(\"Enter a number\")) \n",
    "b =int(input(\"Enter a number\")) \n",
    "try:\n",
    "    c = a/b\n",
    "    print(c)\n",
    "except ZeroDivisionError:\n",
    "    print(\"Handled ZeroDivisionError\")\n",
    "\n",
    "\n",
    "print(\"last\")\n",
    "\n"
   ]
  },
  {
   "cell_type": "code",
   "execution_count": 4,
   "metadata": {
    "colab": {
     "base_uri": "https://localhost:8080/",
     "height": 69
    },
    "colab_type": "code",
    "executionInfo": {
     "elapsed": 43243,
     "status": "ok",
     "timestamp": 1564820235446,
     "user": {
      "displayName": "Agha Nasir Hussain",
      "photoUrl": "https://lh3.googleusercontent.com/-HcYCvldsF14/AAAAAAAAAAI/AAAAAAAAABQ/-8u92TzdWI4/s64/photo.jpg",
      "userId": "12080318097281941003"
     },
     "user_tz": -300
    },
    "id": "yHjx2bKobbSh",
    "outputId": "3b2e2495-ac9a-42e1-ca7d-49ca495056a3"
   },
   "outputs": [
    {
     "name": "stdout",
     "output_type": "stream",
     "text": [
      "Enter a number5\n",
      "Enter a number0\n",
      "Handled ZeroDivisionError\n"
     ]
    }
   ],
   "source": [
    "\n",
    "\n",
    "a =int(input(\"Enter a number\")) \n",
    "b =int(input(\"Enter a number\")) \n",
    "d = []\n",
    "try:\n",
    "    c = a/b\n",
    "    \n",
    "    e = d[5]\n",
    "    print(e)\n",
    "except ZeroDivisionError:\n",
    "    print(\"Handled ZeroDivisionError\")\n",
    "else:\n",
    "    print(c)\n",
    "\n",
    "\n",
    "\n"
   ]
  },
  {
   "cell_type": "code",
   "execution_count": 5,
   "metadata": {
    "colab": {
     "base_uri": "https://localhost:8080/",
     "height": 287
    },
    "colab_type": "code",
    "executionInfo": {
     "elapsed": 13762,
     "status": "error",
     "timestamp": 1564820612190,
     "user": {
      "displayName": "Agha Nasir Hussain",
      "photoUrl": "https://lh3.googleusercontent.com/-HcYCvldsF14/AAAAAAAAAAI/AAAAAAAAABQ/-8u92TzdWI4/s64/photo.jpg",
      "userId": "12080318097281941003"
     },
     "user_tz": -300
    },
    "id": "Ivcx8ws2bbSi",
    "outputId": "9ab71a78-a038-4d7b-9fce-536d56891c19"
   },
   "outputs": [
    {
     "name": "stdout",
     "output_type": "stream",
     "text": [
      "First\n",
      "Enter a number5\n",
      "Enter a number5\n"
     ]
    },
    {
     "ename": "IndexError",
     "evalue": "list index out of range",
     "output_type": "error",
     "traceback": [
      "\u001b[1;31m---------------------------------------------------------------------------\u001b[0m",
      "\u001b[1;31mIndexError\u001b[0m                                Traceback (most recent call last)",
      "Input \u001b[1;32mIn [5]\u001b[0m, in \u001b[0;36m<cell line: 5>\u001b[1;34m()\u001b[0m\n\u001b[0;32m      5\u001b[0m \u001b[38;5;28;01mtry\u001b[39;00m:\n\u001b[0;32m      6\u001b[0m     c \u001b[38;5;241m=\u001b[39m a\u001b[38;5;241m/\u001b[39mb\n\u001b[1;32m----> 7\u001b[0m     e \u001b[38;5;241m=\u001b[39m \u001b[43md\u001b[49m\u001b[43m[\u001b[49m\u001b[38;5;241;43m5\u001b[39;49m\u001b[43m]\u001b[49m\n\u001b[0;32m      8\u001b[0m \u001b[38;5;28;01mexcept\u001b[39;00m \u001b[38;5;167;01mZeroDivisionError\u001b[39;00m:\n\u001b[0;32m      9\u001b[0m     \u001b[38;5;28mprint\u001b[39m(\u001b[38;5;124m\"\u001b[39m\u001b[38;5;124mHandled ZeroDivisionError\u001b[39m\u001b[38;5;124m\"\u001b[39m)\n",
      "\u001b[1;31mIndexError\u001b[0m: list index out of range"
     ]
    }
   ],
   "source": [
    "\n",
    "print(\"First\")\n",
    "a =int(input(\"Enter a number\")) \n",
    "b =int(input(\"Enter a number\")) \n",
    "d = []\n",
    "try:\n",
    "    c = a/b\n",
    "    e = d[5]\n",
    "except ZeroDivisionError:\n",
    "    print(\"Handled ZeroDivisionError\")\n",
    "else:\n",
    "    print(c)\n",
    "\n",
    "print(\"last\")\n",
    "\n"
   ]
  },
  {
   "cell_type": "code",
   "execution_count": 6,
   "metadata": {
    "colab": {
     "base_uri": "https://localhost:8080/",
     "height": 69
    },
    "colab_type": "code",
    "executionInfo": {
     "elapsed": 7379,
     "status": "ok",
     "timestamp": 1564820997440,
     "user": {
      "displayName": "Agha Nasir Hussain",
      "photoUrl": "https://lh3.googleusercontent.com/-HcYCvldsF14/AAAAAAAAAAI/AAAAAAAAABQ/-8u92TzdWI4/s64/photo.jpg",
      "userId": "12080318097281941003"
     },
     "user_tz": -300
    },
    "id": "s9CmBYwkbbSk",
    "outputId": "0971f317-de2b-4e62-821b-1880b7bba061"
   },
   "outputs": [
    {
     "name": "stdout",
     "output_type": "stream",
     "text": [
      "Enter a number3\n",
      "Enter a number5\n",
      "Exception is caught is list index out of range\n"
     ]
    }
   ],
   "source": [
    "\n",
    "\n",
    "a =int(input(\"Enter a number\")) \n",
    "b =int(input(\"Enter a number\")) \n",
    "d = []\n",
    "try:\n",
    "    c = a/b\n",
    "    e = d[5]\n",
    "except ZeroDivisionError: #Type Z and press tab to get list of Exception\n",
    "    print(\"Exception is caught ZeroDivisionError\")\n",
    "except  IndexError:                #Type I and press tab to get list of Exception\n",
    "    print(\"Exception is caught is list index out of range\")\n",
    "else:\n",
    "    print(c)\n",
    "    print(e)\n",
    "\n",
    "\n"
   ]
  },
  {
   "cell_type": "code",
   "execution_count": 28,
   "metadata": {
    "colab": {
     "base_uri": "https://localhost:8080/",
     "height": 69
    },
    "colab_type": "code",
    "executionInfo": {
     "elapsed": 8278,
     "status": "ok",
     "timestamp": 1564821655275,
     "user": {
      "displayName": "Agha Nasir Hussain",
      "photoUrl": "https://lh3.googleusercontent.com/-HcYCvldsF14/AAAAAAAAAAI/AAAAAAAAABQ/-8u92TzdWI4/s64/photo.jpg",
      "userId": "12080318097281941003"
     },
     "user_tz": -300
    },
    "id": "4zxypLG5bbSm",
    "outputId": "1ec9a0a4-1d13-459b-907d-9244b620f6bf"
   },
   "outputs": [
    {
     "name": "stdout",
     "output_type": "stream",
     "text": [
      "Enter a number45\n",
      "Enter a number45\n",
      "1.0\n"
     ]
    }
   ],
   "source": [
    "\n",
    "\n",
    "# a =int(input(\"Enter a number\")) \n",
    "# b =int(input(\"Enter a number\")) \n",
    "d = []\n",
    "try:\n",
    "    a =int(input(\"Enter a number\")) # to except null value and value tpye errors\n",
    "    b =int(input(\"Enter a number\")) # we kept these inputs also in try block\n",
    "    c = a/b\n",
    "    e = d[5]\n",
    "except:           # here we did not explain the type of exception. Genral exception will\n",
    "                  # be used. means it will catch every kind of exception\n",
    "    print(\"Exception is caught\")\n",
    "else:\n",
    "    print(c)\n",
    "\n",
    "\n"
   ]
  },
  {
   "cell_type": "code",
   "execution_count": 30,
   "metadata": {
    "colab": {
     "base_uri": "https://localhost:8080/",
     "height": 87
    },
    "colab_type": "code",
    "executionInfo": {
     "elapsed": 8439,
     "status": "ok",
     "timestamp": 1564821904333,
     "user": {
      "displayName": "Agha Nasir Hussain",
      "photoUrl": "https://lh3.googleusercontent.com/-HcYCvldsF14/AAAAAAAAAAI/AAAAAAAAABQ/-8u92TzdWI4/s64/photo.jpg",
      "userId": "12080318097281941003"
     },
     "user_tz": -300
    },
    "id": "TGpDymetbbSo",
    "outputId": "8fefe049-56c3-47cb-f59f-20ced40284c6"
   },
   "outputs": [
    {
     "name": "stdout",
     "output_type": "stream",
     "text": [
      "Enter a number4\n",
      "Enter a number4\n",
      "Handle Error == list index out of range\n",
      "HelloWorld\n"
     ]
    }
   ],
   "source": [
    "\n",
    "\n",
    "d = []\n",
    "try:\n",
    "  a =int(input(\"Enter a number\")) \n",
    "  b =int(input(\"Enter a number\")) \n",
    "    '''built in message print karna hy exception ka to {except Exception as e:}\n",
    "    is me jistrah ki acception aegi wo uska message khud he utha k laega or print karega\n",
    "    is code ko khud se run kare or exception raise kar k dekhen'''\n",
    "    c = a/b\n",
    "    ee = d[5]\n",
    "except Exception as e:\n",
    "    print(\"Handle Error == \" +str(e))\n",
    "else:\n",
    "    print(c)\n",
    "\n",
    "print('HelloWorld')"
   ]
  },
  {
   "cell_type": "code",
   "execution_count": 7,
   "metadata": {
    "colab": {},
    "colab_type": "code",
    "id": "AhOouAjMbbSr"
   },
   "outputs": [
    {
     "name": "stdout",
     "output_type": "stream",
     "text": [
      "Enter a number1\n",
      "Enter a number5\n",
      "Handle Error == list index out of range\n"
     ]
    }
   ],
   "source": [
    "\n",
    "a =int(input(\"Enter a number\")) \n",
    "b =int(input(\"Enter a number\")) \n",
    "d = []\n",
    "try:\n",
    "    c = a/b\n",
    "    e = d[5]\n",
    "    \n",
    "    \"\"\"yahan ek humne apni message likha hy or ek built in use kia hy\"\"\"\n",
    "    \n",
    "except ZeroDivisionError:\n",
    "    print(\"Handel ZeroDivisionError\")\n",
    "    \n",
    "except Exception as e:\n",
    "    \n",
    "    print(\"Handle Error == \" +str(e))\n",
    "    \n",
    "else:\n",
    "    print(c)\n",
    "\n",
    "\n",
    "\n"
   ]
  },
  {
   "cell_type": "code",
   "execution_count": 32,
   "metadata": {
    "colab": {
     "base_uri": "https://localhost:8080/",
     "height": 87
    },
    "colab_type": "code",
    "executionInfo": {
     "elapsed": 9300,
     "status": "ok",
     "timestamp": 1564822738480,
     "user": {
      "displayName": "Agha Nasir Hussain",
      "photoUrl": "https://lh3.googleusercontent.com/-HcYCvldsF14/AAAAAAAAAAI/AAAAAAAAABQ/-8u92TzdWI4/s64/photo.jpg",
      "userId": "12080318097281941003"
     },
     "user_tz": -300
    },
    "id": "7CMFytXDbbSt",
    "outputId": "cc01ad05-29db-4c8f-ac93-075800135384"
   },
   "outputs": [
    {
     "name": "stdout",
     "output_type": "stream",
     "text": [
      "Enter a number2\n",
      "Enter a number2\n",
      "1.0\n",
      "Finally will always run\n"
     ]
    }
   ],
   "source": [
    "\n",
    "\n",
    "a =int(input(\"Enter a number\")) \n",
    "b =int(input(\"Enter a number\")) \n",
    "d = []\n",
    "try:\n",
    "    c = a/b\n",
    "    e = d[5]\n",
    "except ZeroDivisionError:\n",
    "    print(\"Handel ZeroDivisionError\")\n",
    "\n",
    "else:\n",
    "    print(c)\n",
    "\n",
    "finally:\n",
    "    print(\"Finally will always run\")\n",
    "\n",
    "\n",
    "\n"
   ]
  },
  {
   "cell_type": "code",
   "execution_count": 0,
   "metadata": {
    "colab": {},
    "colab_type": "code",
    "id": "G2vdn4s7bbSv"
   },
   "outputs": [],
   "source": []
  },
  {
   "cell_type": "markdown",
   "metadata": {
    "colab_type": "raw",
    "id": "psyAubd-bbSy"
   },
   "source": [
    "###Rasing our own exceptions\n",
    "\n",
    "We can rasie exception by ourselves. ony any condition we defined like if a>10 raise exception\n",
    "like if user inputs value 10 raise exception bla bla bla bla......"
   ]
  },
  {
   "cell_type": "code",
   "execution_count": 8,
   "metadata": {
    "colab": {
     "base_uri": "https://localhost:8080/",
     "height": 55
    },
    "colab_type": "code",
    "executionInfo": {
     "elapsed": 852,
     "status": "ok",
     "timestamp": 1564823188208,
     "user": {
      "displayName": "Agha Nasir Hussain",
      "photoUrl": "https://lh3.googleusercontent.com/-HcYCvldsF14/AAAAAAAAAAI/AAAAAAAAABQ/-8u92TzdWI4/s64/photo.jpg",
      "userId": "12080318097281941003"
     },
     "user_tz": -300
    },
    "id": "OAouiwsQbbSz",
    "outputId": "53b81a16-6223-4524-c4bc-31f612cc8cb3"
   },
   "outputs": [],
   "source": [
    "\n",
    "class Student():\n",
    "    def __init__(self,name,age):\n",
    "        if age > 80 or age <16:\n",
    "            raise Exception(\"Age can not be greater then 80 and less then 16\")\n",
    "        self.name = name\n",
    "        self.age = age"
   ]
  },
  {
   "cell_type": "code",
   "execution_count": 9,
   "metadata": {
    "colab": {
     "base_uri": "https://localhost:8080/",
     "height": 339
    },
    "colab_type": "code",
    "executionInfo": {
     "elapsed": 12394,
     "status": "error",
     "timestamp": 1564823224682,
     "user": {
      "displayName": "Agha Nasir Hussain",
      "photoUrl": "https://lh3.googleusercontent.com/-HcYCvldsF14/AAAAAAAAAAI/AAAAAAAAABQ/-8u92TzdWI4/s64/photo.jpg",
      "userId": "12080318097281941003"
     },
     "user_tz": -300
    },
    "id": "FKP-nszQbbS1",
    "outputId": "fa0edb1c-baf9-4b90-918a-e6c69e6d9a58"
   },
   "outputs": [
    {
     "name": "stdout",
     "output_type": "stream",
     "text": [
      "Enter students age: 18\n",
      "18\n"
     ]
    }
   ],
   "source": [
    "age = int(input(\"Enter students age: \"))\n",
    "st = Student(\"Nasir\",age)\n",
    "print(st.age)\n"
   ]
  },
  {
   "cell_type": "markdown",
   "metadata": {
    "colab_type": "raw",
    "id": "J-1xUXDTbbS4"
   },
   "source": [
    "#Catching the exception raised by ourself###\n",
    "Exception catch karne ki liye wahi kam karenge k jahan se raise hone k dar ho usko try me\n",
    "dal den. or except me catch kara den. Go through the code......"
   ]
  },
  {
   "cell_type": "code",
   "execution_count": 0,
   "metadata": {
    "colab": {},
    "colab_type": "code",
    "id": "nkGII9_VbbS5"
   },
   "outputs": [],
   "source": [
    "class Student():\n",
    "    def __init__(self,name,age):\n",
    "        if age > 80:\n",
    "            raise Exception(\"Age can not be greater then 80\")\n",
    "        self.name = name\n",
    "        self.age = age\n",
    "\n",
    "\n"
   ]
  },
  {
   "cell_type": "code",
   "execution_count": 38,
   "metadata": {
    "colab": {
     "base_uri": "https://localhost:8080/",
     "height": 52
    },
    "colab_type": "code",
    "executionInfo": {
     "elapsed": 7853,
     "status": "ok",
     "timestamp": 1564824155356,
     "user": {
      "displayName": "Agha Nasir Hussain",
      "photoUrl": "https://lh3.googleusercontent.com/-HcYCvldsF14/AAAAAAAAAAI/AAAAAAAAABQ/-8u92TzdWI4/s64/photo.jpg",
      "userId": "12080318097281941003"
     },
     "user_tz": -300
    },
    "id": "mknmaWhYbbS7",
    "outputId": "e6c59792-d86f-4c75-e63e-76131fbb5921"
   },
   "outputs": [
    {
     "name": "stdout",
     "output_type": "stream",
     "text": [
      "Enter students age: 89\n",
      "Exception Age can not be greater then 80\n"
     ]
    }
   ],
   "source": [
    "\n",
    "'''ab humen try except laga diya hy code crash nahi hoga '''\n",
    "try:\n",
    "    age = int(input(\"Enter students age: \"))\n",
    "    st = Student(\"Hello\",age)   # send different ages and see the result\n",
    "except Exception as e:\n",
    "    print(\"Exception \"+str(e))\n",
    "else :\n",
    "    print(st.age)\n"
   ]
  },
  {
   "cell_type": "markdown",
   "metadata": {
    "colab_type": "raw",
    "id": "pT_iQjwQbbS-"
   },
   "source": [
    "\n",
    "#####################################################\n",
    "#######Importantttttttttttttttttttttttttttttttt######\n",
    "#####################################################"
   ]
  },
  {
   "cell_type": "markdown",
   "metadata": {
    "colab_type": "raw",
    "id": "0RZ6wR4RbbS_"
   },
   "source": [
    "Making our class of exception::::::::\n",
    "Raising exception ourselves::::::\n",
    "\n",
    "Last code me we used python exception class\n",
    "Now we will make our own exception class and will used in the code.\n",
    "Dont panic guls and guys...\n",
    "\n"
   ]
  },
  {
   "cell_type": "code",
   "execution_count": 0,
   "metadata": {
    "colab": {},
    "colab_type": "code",
    "id": "w6N8bWvKbbTA"
   },
   "outputs": [],
   "source": [
    "\n",
    "class Student():\n",
    "    def __init__(self,name,age):\n",
    "        if age > 80 or age <16:\n",
    "            raise StudentAgeException(\"Age can not be greater then 80 and less then 16\")\n",
    "            # we used here own class of exceptio\n",
    "        self.name = name\n",
    "        self.age = age\n",
    "\n",
    "'''All the exception raised are derived from a class Exception by default \n",
    "   We can make our own class of exception and can derived(inherit) it from parent\n",
    "   Exception class like this:'''        \n",
    "        \n",
    "class StudentAgeException(Exception):\n",
    "    pass\n"
   ]
  },
  {
   "cell_type": "code",
   "execution_count": 40,
   "metadata": {
    "colab": {
     "base_uri": "https://localhost:8080/",
     "height": 374
    },
    "colab_type": "code",
    "executionInfo": {
     "elapsed": 11012,
     "status": "error",
     "timestamp": 1564824271898,
     "user": {
      "displayName": "Agha Nasir Hussain",
      "photoUrl": "https://lh3.googleusercontent.com/-HcYCvldsF14/AAAAAAAAAAI/AAAAAAAAABQ/-8u92TzdWI4/s64/photo.jpg",
      "userId": "12080318097281941003"
     },
     "user_tz": -300
    },
    "id": "38IUYPdnbbTC",
    "outputId": "d34a9256-25d6-40ad-98bc-aa660eefb38c",
    "scrolled": true
   },
   "outputs": [
    {
     "name": "stdout",
     "output_type": "stream",
     "text": [
      "Enter students age: 90\n"
     ]
    },
    {
     "ename": "StudentAgeException",
     "evalue": "ignored",
     "output_type": "error",
     "traceback": [
      "\u001b[0;31m---------------------------------------------------------------------------\u001b[0m",
      "\u001b[0;31mStudentAgeException\u001b[0m                       Traceback (most recent call last)",
      "\u001b[0;32m<ipython-input-40-6995fbd48f4c>\u001b[0m in \u001b[0;36m<module>\u001b[0;34m()\u001b[0m\n\u001b[1;32m      1\u001b[0m \u001b[0mage\u001b[0m \u001b[0;34m=\u001b[0m \u001b[0mint\u001b[0m\u001b[0;34m(\u001b[0m\u001b[0minput\u001b[0m\u001b[0;34m(\u001b[0m\u001b[0;34m\"Enter students age: \"\u001b[0m\u001b[0;34m)\u001b[0m\u001b[0;34m)\u001b[0m\u001b[0;34m\u001b[0m\u001b[0;34m\u001b[0m\u001b[0m\n\u001b[0;32m----> 2\u001b[0;31m \u001b[0mst\u001b[0m \u001b[0;34m=\u001b[0m \u001b[0mStudent\u001b[0m\u001b[0;34m(\u001b[0m\u001b[0;34m\"Hello\"\u001b[0m\u001b[0;34m,\u001b[0m\u001b[0mage\u001b[0m\u001b[0;34m)\u001b[0m\u001b[0;34m\u001b[0m\u001b[0;34m\u001b[0m\u001b[0m\n\u001b[0m\u001b[1;32m      3\u001b[0m \u001b[0;31m# abhi it is creating exception that is not handled\u001b[0m\u001b[0;34m\u001b[0m\u001b[0;34m\u001b[0m\u001b[0;34m\u001b[0m\u001b[0m\n\u001b[1;32m      4\u001b[0m \u001b[0mprint\u001b[0m\u001b[0;34m(\u001b[0m\u001b[0mst\u001b[0m\u001b[0;34m.\u001b[0m\u001b[0mage\u001b[0m\u001b[0;34m)\u001b[0m\u001b[0;34m\u001b[0m\u001b[0;34m\u001b[0m\u001b[0m\n\u001b[1;32m      5\u001b[0m \u001b[0;34m\u001b[0m\u001b[0m\n",
      "\u001b[0;32m<ipython-input-39-51ba8ac48b91>\u001b[0m in \u001b[0;36m__init__\u001b[0;34m(self, name, age)\u001b[0m\n\u001b[1;32m      3\u001b[0m     \u001b[0;32mdef\u001b[0m \u001b[0m__init__\u001b[0m\u001b[0;34m(\u001b[0m\u001b[0mself\u001b[0m\u001b[0;34m,\u001b[0m\u001b[0mname\u001b[0m\u001b[0;34m,\u001b[0m\u001b[0mage\u001b[0m\u001b[0;34m)\u001b[0m\u001b[0;34m:\u001b[0m\u001b[0;34m\u001b[0m\u001b[0;34m\u001b[0m\u001b[0m\n\u001b[1;32m      4\u001b[0m         \u001b[0;32mif\u001b[0m \u001b[0mage\u001b[0m \u001b[0;34m>\u001b[0m \u001b[0;36m80\u001b[0m \u001b[0;32mor\u001b[0m \u001b[0mage\u001b[0m \u001b[0;34m<\u001b[0m\u001b[0;36m16\u001b[0m\u001b[0;34m:\u001b[0m\u001b[0;34m\u001b[0m\u001b[0;34m\u001b[0m\u001b[0m\n\u001b[0;32m----> 5\u001b[0;31m             \u001b[0;32mraise\u001b[0m \u001b[0mStudentAgeException\u001b[0m\u001b[0;34m(\u001b[0m\u001b[0;34m\"Age can not be greater then 80 and less then 16\"\u001b[0m\u001b[0;34m)\u001b[0m\u001b[0;34m\u001b[0m\u001b[0;34m\u001b[0m\u001b[0m\n\u001b[0m\u001b[1;32m      6\u001b[0m             \u001b[0;31m# we used here own class of exceptio\u001b[0m\u001b[0;34m\u001b[0m\u001b[0;34m\u001b[0m\u001b[0;34m\u001b[0m\u001b[0m\n\u001b[1;32m      7\u001b[0m         \u001b[0mself\u001b[0m\u001b[0;34m.\u001b[0m\u001b[0mname\u001b[0m \u001b[0;34m=\u001b[0m \u001b[0mname\u001b[0m\u001b[0;34m\u001b[0m\u001b[0;34m\u001b[0m\u001b[0m\n",
      "\u001b[0;31mStudentAgeException\u001b[0m: Age can not be greater then 80 and less then 16"
     ]
    }
   ],
   "source": [
    "age = int(input(\"Enter students age: \"))\n",
    "st = Student(\"Hello\",age)\n",
    "# abhi it is creating exception that is not handled\n",
    "print(st.age)\n",
    "\n",
    "####Note###\n",
    "'''exception raise karane k liye humne Exception python ki general wali use nahiiiiiii ki hy\n",
    "   abhi code crash hogaya hy kyu k humne abhi exception catch nahiiiiiiiiiiiiiiiiii ki hy'''"
   ]
  },
  {
   "cell_type": "markdown",
   "metadata": {
    "colab_type": "raw",
    "id": "lDqmztnhbbTE"
   },
   "source": [
    "\n",
    "#################################################################################\n",
    "Raising and catching our own exception [[[[defined in our own exception class]]]]\n",
    "Raising and catching our own exception [[[[defined in our own exception class]]]]\n",
    "Raising and catching our own exception [[[[defined in our own exception class]]]]\n",
    "Raising and catching our own exception [[[[defined in our own exception class]]]]\n",
    "Raising and catching our own exception [[[[defined in our own exception class]]]]\n",
    "#################################################################################"
   ]
  },
  {
   "cell_type": "code",
   "execution_count": 41,
   "metadata": {
    "colab": {
     "base_uri": "https://localhost:8080/",
     "height": 52
    },
    "colab_type": "code",
    "executionInfo": {
     "elapsed": 6769,
     "status": "ok",
     "timestamp": 1564824314853,
     "user": {
      "displayName": "Agha Nasir Hussain",
      "photoUrl": "https://lh3.googleusercontent.com/-HcYCvldsF14/AAAAAAAAAAI/AAAAAAAAABQ/-8u92TzdWI4/s64/photo.jpg",
      "userId": "12080318097281941003"
     },
     "user_tz": -300
    },
    "id": "JxuH8ss8bbTF",
    "outputId": "c9f5df97-1656-444a-f72b-c816e11f81fc"
   },
   "outputs": [
    {
     "name": "stdout",
     "output_type": "stream",
     "text": [
      "Enter students age: 90\n",
      "StudentAgeException == Age can not be greater then 80 and less then 16\n"
     ]
    }
   ],
   "source": [
    "\n",
    "class Student():\n",
    "    def __init__(self,name,age):\n",
    "        if age > 80 or age <16:\n",
    "            raise StudentAgeException(\"Age can not be greater then 80 and less then 16\")\n",
    "        self.name = name\n",
    "        self.age = age\n",
    "\n",
    "class StudentAgeException(Exception):\n",
    "    pass\n",
    "\n",
    "\n",
    "try:\n",
    "    age = int(input(\"Enter students age: \"))\n",
    "    st = Student(\"Hello\",age)\n",
    "\n",
    "except StudentAgeException as e:\n",
    "    print(\"StudentAgeException == \"+str(e))\n",
    "else :\n",
    "    print(st.age) \n",
    "\n"
   ]
  },
  {
   "cell_type": "code",
   "execution_count": 0,
   "metadata": {
    "colab": {},
    "colab_type": "code",
    "id": "GWLfr50sbbTI"
   },
   "outputs": [],
   "source": [
    "def abc():\n",
    "  pass\n",
    "  \n"
   ]
  },
  {
   "cell_type": "code",
   "execution_count": 0,
   "metadata": {
    "colab": {},
    "colab_type": "code",
    "id": "3Cyfa_DNbbTN"
   },
   "outputs": [],
   "source": []
  }
 ],
 "metadata": {
  "colab": {
   "name": "exceptions.ipynb",
   "provenance": [],
   "version": "0.3.2"
  },
  "kernelspec": {
   "display_name": "Python 3 (ipykernel)",
   "language": "python",
   "name": "python3"
  },
  "language_info": {
   "codemirror_mode": {
    "name": "ipython",
    "version": 3
   },
   "file_extension": ".py",
   "mimetype": "text/x-python",
   "name": "python",
   "nbconvert_exporter": "python",
   "pygments_lexer": "ipython3",
   "version": "3.9.12"
  }
 },
 "nbformat": 4,
 "nbformat_minor": 1
}
