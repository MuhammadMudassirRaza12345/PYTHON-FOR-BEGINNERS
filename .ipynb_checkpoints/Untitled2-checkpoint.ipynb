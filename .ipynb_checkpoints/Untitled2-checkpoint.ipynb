{
 "cells": [
  {
   "cell_type": "code",
   "execution_count": 1,
   "id": "9df551f2",
   "metadata": {},
   "outputs": [],
   "source": [
    "# def is_power_of_two(n):\n",
    "#     while n % 2 == 0:\n",
    "#         n = n / 2\n",
    "#         if n == 1:\n",
    "#             return True\n",
    "#     return False\n",
    "  \n",
    "\n",
    "# print(is_power_of_two(0)) # Should be False\n",
    "# # print(is_power_of_two(1)) # Should be True\n",
    "# # print(is_power_of_two(8)) # Should be True\n",
    "# # print(is_power_of_two(9)) # Should be False"
   ]
  },
  {
   "cell_type": "code",
   "execution_count": 2,
   "id": "3bc7a63a",
   "metadata": {},
   "outputs": [],
   "source": [
    "# print(is_power_of_two(0))"
   ]
  },
  {
   "cell_type": "code",
   "execution_count": 3,
   "id": "dd278315",
   "metadata": {},
   "outputs": [
    {
     "name": "stdout",
     "output_type": "stream",
     "text": [
      "False\n",
      "None\n",
      "False\n",
      "None\n"
     ]
    }
   ],
   "source": [
    "def is_power_of_two(n):\n",
    "    while n % 2 == 0:\n",
    "        n = n / 2\n",
    "        if n == 1:\n",
    "            return True\n",
    "        else:\n",
    "            return False\n",
    "        \n",
    "print(is_power_of_two(0)) # Should be False\n",
    "print(is_power_of_two(1)) # Should be True\n",
    "print(is_power_of_two(8)) # Should be True\n",
    "print(is_power_of_two(9)) # Should be False        \n",
    "        \n",
    "        "
   ]
  },
  {
   "cell_type": "code",
   "execution_count": null,
   "id": "49f42e25",
   "metadata": {},
   "outputs": [],
   "source": []
  }
 ],
 "metadata": {
  "kernelspec": {
   "display_name": "Python 3 (ipykernel)",
   "language": "python",
   "name": "python3"
  },
  "language_info": {
   "codemirror_mode": {
    "name": "ipython",
    "version": 3
   },
   "file_extension": ".py",
   "mimetype": "text/x-python",
   "name": "python",
   "nbconvert_exporter": "python",
   "pygments_lexer": "ipython3",
   "version": "3.9.12"
  }
 },
 "nbformat": 4,
 "nbformat_minor": 5
}
