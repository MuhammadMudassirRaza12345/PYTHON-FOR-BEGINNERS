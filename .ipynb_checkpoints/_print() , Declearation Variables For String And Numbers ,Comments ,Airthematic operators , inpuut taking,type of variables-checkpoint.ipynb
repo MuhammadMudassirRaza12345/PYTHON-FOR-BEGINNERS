{
 "cells": [
  {
   "cell_type": "code",
   "execution_count": null,
   "id": "e4a2f0d4",
   "metadata": {},
   "outputs": [],
   "source": [
    "print() , Declearation Variables For String And Numbers ,Comments ,Airthematic operators , inpuut taking,type of variables"
   ]
  },
  {
   "cell_type": "markdown",
   "id": "ae9f419e",
   "metadata": {},
   "source": [
    "# print()"
   ]
  },
  {
   "cell_type": "code",
   "execution_count": 1,
   "id": "e93d07f5",
   "metadata": {},
   "outputs": [
    {
     "name": "stdout",
     "output_type": "stream",
     "text": [
      "MUHAMMAD MUDASSIR RAZA\n",
      "5\n"
     ]
    }
   ],
   "source": [
    "print(\"MUHAMMAD MUDASSIR RAZA\")\n",
    "print(2+3)\n"
   ]
  },
  {
   "cell_type": "code",
   "execution_count": 2,
   "id": "c4659732",
   "metadata": {},
   "outputs": [
    {
     "ename": "NameError",
     "evalue": "name 'Print' is not defined",
     "output_type": "error",
     "traceback": [
      "\u001b[1;31m---------------------------------------------------------------------------\u001b[0m",
      "\u001b[1;31mNameError\u001b[0m                                 Traceback (most recent call last)",
      "Input \u001b[1;32mIn [2]\u001b[0m, in \u001b[0;36m<cell line: 1>\u001b[1;34m()\u001b[0m\n\u001b[1;32m----> 1\u001b[0m \u001b[43mPrint\u001b[49m(\u001b[38;5;124m'\u001b[39m\u001b[38;5;124mhi\u001b[39m\u001b[38;5;124m'\u001b[39m)\n",
      "\u001b[1;31mNameError\u001b[0m: name 'Print' is not defined"
     ]
    }
   ],
   "source": [
    "Print('hi')"
   ]
  },
  {
   "cell_type": "markdown",
   "id": "f86ab732",
   "metadata": {},
   "source": [
    "# Variables For String And Numbers"
   ]
  },
  {
   "cell_type": "code",
   "execution_count": 3,
   "id": "8118c5ed",
   "metadata": {},
   "outputs": [
    {
     "name": "stdout",
     "output_type": "stream",
     "text": [
      "enter your nameRaza\n",
      "Raza\n"
     ]
    }
   ],
   "source": [
    "name = input(\"enter your name\")\n",
    "print(name)"
   ]
  },
  {
   "cell_type": "code",
   "execution_count": 4,
   "id": "6843f6cb",
   "metadata": {},
   "outputs": [
    {
     "name": "stdout",
     "output_type": "stream",
     "text": [
      "10\n"
     ]
    }
   ],
   "source": [
    "age= 10\n",
    "print(age)\n"
   ]
  },
  {
   "cell_type": "code",
   "execution_count": 5,
   "id": "9a4b7b5b",
   "metadata": {},
   "outputs": [
    {
     "name": "stdout",
     "output_type": "stream",
     "text": [
      "20\n"
     ]
    }
   ],
   "source": [
    "age += 10 #age = age + 10\n",
    "print (age)"
   ]
  },
  {
   "cell_type": "code",
   "execution_count": 6,
   "id": "8123e8d7",
   "metadata": {},
   "outputs": [
    {
     "name": "stdout",
     "output_type": "stream",
     "text": [
      "Hello Pakitan\n"
     ]
    }
   ],
   "source": [
    "greeting = \"Hello\"\n",
    "country=\"Pakitan\"\n",
    "greet_country=greeting + \" \" + country\n",
    "print(greet_country)"
   ]
  },
  {
   "cell_type": "code",
   "execution_count": 7,
   "id": "0f325bb3",
   "metadata": {},
   "outputs": [
    {
     "name": "stdout",
     "output_type": "stream",
     "text": [
      "Are you Pakistaniy\n",
      " enter your age21\n",
      "you can cast the vote\n"
     ]
    }
   ],
   "source": [
    "nationality = input (\"Are you Pakistani\")\n",
    "age =int(input(\" enter your age\"))\n",
    "if nationality == \"y\" and age >=18 :\n",
    "    print(\"you can cast the vote\")\n",
    "\n",
    "else:\n",
    "    print(\"You are not elegible for vote\")"
   ]
  },
  {
   "cell_type": "code",
   "execution_count": 8,
   "id": "bba2534d",
   "metadata": {},
   "outputs": [
    {
     "name": "stdout",
     "output_type": "stream",
     "text": [
      "30\n"
     ]
    }
   ],
   "source": [
    "a=23\n",
    "b=7\n",
    "print(a+b)"
   ]
  },
  {
   "cell_type": "code",
   "execution_count": 9,
   "id": "3012e928",
   "metadata": {},
   "outputs": [
    {
     "name": "stdout",
     "output_type": "stream",
     "text": [
      "50\n",
      "50\n"
     ]
    }
   ],
   "source": [
    "a=23\n",
    "print(a+27)\n",
    "\n",
    "#OR\n",
    "a=23\n",
    "c=a+27\n",
    "print(c)"
   ]
  },
  {
   "cell_type": "code",
   "execution_count": 10,
   "id": "9f7db5f7",
   "metadata": {},
   "outputs": [
    {
     "ename": "TypeError",
     "evalue": "can only concatenate str (not \"int\") to str",
     "output_type": "error",
     "traceback": [
      "\u001b[1;31m---------------------------------------------------------------------------\u001b[0m",
      "\u001b[1;31mTypeError\u001b[0m                                 Traceback (most recent call last)",
      "Input \u001b[1;32mIn [10]\u001b[0m, in \u001b[0;36m<cell line: 3>\u001b[1;34m()\u001b[0m\n\u001b[0;32m      1\u001b[0m a\u001b[38;5;241m=\u001b[39m\u001b[38;5;124m\"\u001b[39m\u001b[38;5;124m2\u001b[39m\u001b[38;5;124m\"\u001b[39m\n\u001b[0;32m      2\u001b[0m b\u001b[38;5;241m=\u001b[39m\u001b[38;5;241m3\u001b[39m\n\u001b[1;32m----> 3\u001b[0m \u001b[38;5;28mprint\u001b[39m(\u001b[43ma\u001b[49m\u001b[38;5;241;43m+\u001b[39;49m\u001b[43mb\u001b[49m)\n",
      "\u001b[1;31mTypeError\u001b[0m: can only concatenate str (not \"int\") to str"
     ]
    }
   ],
   "source": [
    "a=\"2\"\n",
    "b=3\n",
    "print(a+b)\n",
    "##TypeError:can only concatenate str (not \"int\") to str"
   ]
  },
  {
   "cell_type": "code",
   "execution_count": 11,
   "id": "498436aa",
   "metadata": {},
   "outputs": [
    {
     "name": "stdout",
     "output_type": "stream",
     "text": [
      "23\n"
     ]
    }
   ],
   "source": [
    "a=\"2\"\n",
    "b=\"3\"\n",
    "print(a+b)\n",
    "##can only concatenate str\n",
    "# cant be (* or / or -)"
   ]
  },
  {
   "cell_type": "code",
   "execution_count": 12,
   "id": "db16c015",
   "metadata": {},
   "outputs": [
    {
     "name": "stdout",
     "output_type": "stream",
     "text": [
      "222\n"
     ]
    }
   ],
   "source": [
    "a=\"2\"\n",
    "b=3\n",
    "print(a *b)\n",
    "##IT print string 3 times\n",
    "# cant be (+ or / or -)"
   ]
  },
  {
   "cell_type": "markdown",
   "id": "3b38f09d",
   "metadata": {},
   "source": [
    "\n",
    "# AIRTHEMATICS OPERATORS"
   ]
  },
  {
   "cell_type": "code",
   "execution_count": 13,
   "id": "62e6dbc0",
   "metadata": {},
   "outputs": [
    {
     "name": "stdout",
     "output_type": "stream",
     "text": [
      "2\n",
      "7\n",
      "4.5\n",
      "1\n",
      "4\n",
      "5\n",
      "8\n"
     ]
    }
   ],
   "source": [
    "##OPERATORS (+ ,- ,% ,* ,/,// ,**)\n",
    "  \n",
    "print(2)\n",
    "print(9-2)\n",
    "print(9/2)   #for value in points\n",
    "print(9%2)\n",
    "print(9//2) #for value in whole number\n",
    "print(2+3)\n",
    "print(2**3)  #for power\n"
   ]
  },
  {
   "cell_type": "code",
   "execution_count": 14,
   "id": "e6af0e70",
   "metadata": {},
   "outputs": [
    {
     "name": "stdout",
     "output_type": "stream",
     "text": [
      "6.5\n"
     ]
    }
   ],
   "source": [
    "print(3**2/2*3/3+6-4)\n",
    "#PEMDAS\n",
    "#PARENTHESIS EXPONENTS MULTIPLY DIVIDE ADDITION SUBTRACTION\n",
    "#LEFT TO RIGHT SEQUENCE"
   ]
  },
  {
   "cell_type": "code",
   "execution_count": 15,
   "id": "e149fac8",
   "metadata": {},
   "outputs": [
    {
     "name": "stdout",
     "output_type": "stream",
     "text": [
      "hello world\n",
      "I love you Pakistan\n",
      "KARACHI THE CITY OF LIGHT \n"
     ]
    }
   ],
   "source": [
    "##STRINGS\n",
    "print('hello world')\n",
    "print(\"I love you Pakistan\")\n",
    "print('''KARACHI THE CITY OF LIGHT ''')"
   ]
  },
  {
   "cell_type": "code",
   "execution_count": 16,
   "id": "4f2e7afe",
   "metadata": {},
   "outputs": [
    {
     "name": "stdout",
     "output_type": "stream",
     "text": [
      " What's up\n"
     ]
    }
   ],
   "source": [
    "print(\" What's up\")"
   ]
  },
  {
   "cell_type": "code",
   "execution_count": 17,
   "id": "829c2501",
   "metadata": {},
   "outputs": [
    {
     "name": "stdout",
     "output_type": "stream",
     "text": [
      "pterol price: 234\n"
     ]
    }
   ],
   "source": [
    "print(\"pterol price: \" + str(234))"
   ]
  },
  {
   "cell_type": "code",
   "execution_count": 18,
   "id": "34512028",
   "metadata": {},
   "outputs": [
    {
     "data": {
      "text/plain": [
       "\" print('hello world')\\n print('hello world')       #multi line comments\\n  print('hello world')\\n\\n\""
      ]
     },
     "execution_count": 18,
     "metadata": {},
     "output_type": "execute_result"
    }
   ],
   "source": [
    "##COMMENTS\n",
    "# print('hello world') \n",
    "#single line comments\n",
    "\n",
    "''' print('hello world')\n",
    " print('hello world')       #multi line comments\n",
    "  print('hello world')\n",
    "\n",
    "'''"
   ]
  },
  {
   "cell_type": "code",
   "execution_count": 19,
   "id": "823497b6",
   "metadata": {},
   "outputs": [
    {
     "name": "stdout",
     "output_type": "stream",
     "text": [
      "6\n",
      "7\n",
      "4.5\n",
      "1\n",
      "4\n",
      "5\n",
      "8\n"
     ]
    }
   ],
   "source": [
    "##variables : objects having specific value\n",
    "\n",
    "a=2*3\n",
    "b=9-2\n",
    "c=9/2  #for value in points\n",
    "d=9%2\n",
    "e=9//2   #for value in whole number\n",
    "f=2+3\n",
    "g=2**3   #for power\n",
    "print(a)\n",
    "print(b)\n",
    "print(c)\n",
    "print(d)\n",
    "print(e)\n",
    "print(f)\n",
    "print(g)"
   ]
  },
  {
   "cell_type": "code",
   "execution_count": 20,
   "id": "ad30c745",
   "metadata": {},
   "outputs": [
    {
     "name": "stdout",
     "output_type": "stream",
     "text": [
      "MUHAMMAD MUDASSIR RAZA\n"
     ]
    }
   ],
   "source": [
    "name =\"MUHAMMAD MUDASSIR RAZA\"\n",
    "print(name)"
   ]
  },
  {
   "cell_type": "markdown",
   "id": "6ec084ac",
   "metadata": {},
   "source": [
    "# Class/types of variable\n"
   ]
  },
  {
   "cell_type": "code",
   "execution_count": 21,
   "id": "284974ec",
   "metadata": {},
   "outputs": [
    {
     "name": "stdout",
     "output_type": "stream",
     "text": [
      "<class 'float'>\n",
      "<class 'float'>\n",
      "22.0\n"
     ]
    }
   ],
   "source": [
    "num1 = 22.0\n",
    "print(type(num1))\n",
    "print(type(num1))\n",
    "print(num1)"
   ]
  },
  {
   "cell_type": "code",
   "execution_count": 22,
   "id": "9376a753",
   "metadata": {},
   "outputs": [
    {
     "name": "stdout",
     "output_type": "stream",
     "text": [
      "78.0\n",
      "1232.0\n",
      "-34.0\n",
      "0.39285714285714285\n"
     ]
    }
   ],
   "source": [
    "print(num1 + 56)\n",
    "print(num1 * 56)\n",
    "print(num1 - 56)\n",
    "print(num1 / 56)\n"
   ]
  },
  {
   "cell_type": "code",
   "execution_count": 23,
   "id": "d7d20ff4",
   "metadata": {},
   "outputs": [
    {
     "name": "stdout",
     "output_type": "stream",
     "text": [
      "10\n"
     ]
    }
   ],
   "source": [
    "age = 10\n",
    "print(age)"
   ]
  },
  {
   "cell_type": "code",
   "execution_count": 24,
   "id": "da61a3bd",
   "metadata": {},
   "outputs": [
    {
     "name": "stdout",
     "output_type": "stream",
     "text": [
      "20\n"
     ]
    }
   ],
   "source": [
    "age += 10 # age = age + 10\n",
    "print(age)\n",
    "\n",
    " "
   ]
  },
  {
   "cell_type": "code",
   "execution_count": 25,
   "id": "56b09c9d",
   "metadata": {},
   "outputs": [],
   "source": [
    "#we cant do this\n",
    "# age -= 10\n",
    "# age *= 2\n",
    "# age /= 3"
   ]
  },
  {
   "cell_type": "code",
   "execution_count": 26,
   "id": "40eda7a7",
   "metadata": {},
   "outputs": [
    {
     "name": "stdout",
     "output_type": "stream",
     "text": [
      "<class 'int'>\n",
      "<class 'str'>\n"
     ]
    }
   ],
   "source": [
    "x=5\n",
    "y=\" raza\"\n",
    "type(x)\n",
    "print(type(x))\n",
    "print(type(y))"
   ]
  },
  {
   "cell_type": "code",
   "execution_count": 27,
   "id": "94fe11ba",
   "metadata": {},
   "outputs": [],
   "source": [
    "#print_types_class\n",
    "\n",
    "#Rules assign variables\n",
    "#1- The variable should contain letters , numbers and underscores\n",
    "#2- Do not start with numbers\n",
    "#3-Spaces are not allowed\n",
    "#4-Donot used keywords used in functions (break,mean ,media ,test etc .)\n",
    "#5-Short and descriptive variable name\n",
    "#6-Case Sentivity (lowercase ,uppercase letters   lower case should be used .)"
   ]
  },
  {
   "cell_type": "markdown",
   "id": "9f2849aa",
   "metadata": {},
   "source": [
    "# CONCATENATION OF STRING"
   ]
  },
  {
   "cell_type": "code",
   "execution_count": 28,
   "id": "a3eb520e",
   "metadata": {},
   "outputs": [
    {
     "name": "stdout",
     "output_type": "stream",
     "text": [
      "Hello Pakistan\n",
      "<class 'str'>\n"
     ]
    }
   ],
   "source": [
    "\n",
    "greeting = \"Hello\"\n",
    "country = \"Pakistan\"\n",
    "\n",
    "greet_country = greeting + \" \" + country\n",
    "print(greet_country)\n",
    "print(type(greet_country))"
   ]
  },
  {
   "cell_type": "code",
   "execution_count": 29,
   "id": "f2645292",
   "metadata": {},
   "outputs": [
    {
     "name": "stdout",
     "output_type": "stream",
     "text": [
      "Have a nice day  MUDASSIR\n"
     ]
    }
   ],
   "source": [
    "name =\"MUDASSIR\"\n",
    "print(\"Have a nice day \",name)"
   ]
  },
  {
   "cell_type": "markdown",
   "id": "b05cd671",
   "metadata": {},
   "source": [
    "# Input Variables"
   ]
  },
  {
   "cell_type": "code",
   "execution_count": 30,
   "id": "6011b957",
   "metadata": {},
   "outputs": [
    {
     "name": "stdout",
     "output_type": "stream",
     "text": [
      " What is your name ?\n",
      "MUHAMMAD MUDASSIR RAZA\n",
      " What is your age ?\n",
      "21\n",
      " What is city name ?\n",
      "KARACHI\n",
      "What is country name ?\n",
      "PAKISTAN\n",
      "YOUR GOOD NAME IS MUHAMMAD MUDASSIR RAZA\n",
      "Your age is 21\n",
      "YOUR CITY NAME IS KARACHI\n",
      "YOUR COUNTRY NAME IS PAKISTAN\n"
     ]
    }
   ],
   "source": [
    "\n",
    "name=input(\" What is your name ?\" + \"\\n\")\n",
    "age=int(input(\" What is your age ?\" + \"\\n\"))\n",
    "city=input(\" What is city name ?\" + \"\\n\")\n",
    "Country=input(\"What is country name ?\" + \"\\n\")\n",
    "print( \"YOUR GOOD NAME IS \" + name + \"\\n\" + \"Your age is \" + str(age) + \"\\n\"  + \"YOUR CITY NAME IS \"+ city +\"\\n\" +  \"YOUR COUNTRY NAME IS \"+ Country)\n",
    "\n"
   ]
  },
  {
   "cell_type": "code",
   "execution_count": 31,
   "id": "38005ff2",
   "metadata": {},
   "outputs": [
    {
     "name": "stdout",
     "output_type": "stream",
     "text": [
      "Enter The First Number\n",
      "33\n",
      "Enter The Second Number\n",
      "14\n",
      "The Addition of NUM1 And NUM2 is : 47\n",
      "\n",
      "The Multiplication of NUM1 And NUM2 is : 462\n",
      "\n",
      "The Addition of NUM1 And NUM2 is : 47\n",
      "\n",
      "The Substraction of NUM1 And NUM2 is : 19\n",
      "\n",
      "The Division of NUM1 And NUM2 is : 2.357142857142857\n",
      "\n",
      "The Reminder of NUM1 And NUM2 is : 5\n",
      "\n"
     ]
    }
   ],
   "source": [
    "#INPUT TWO NUMBERS AND PERFORM OPERATIONS\n",
    "NUM1=int(input(\"Enter The First Number\" +\"\\n\"))\n",
    "NUM2=int(input(\"Enter The Second Number\" +\"\\n\"))\n",
    "print(\"The Addition of NUM1 And NUM2 is : \"+ str( NUM1 + NUM2 ) + \"\\n\")\n",
    "print(\"The Multiplication of NUM1 And NUM2 is : \"+ str(NUM1 * NUM2 ) +\"\\n\")\n",
    "print(\"The Addition of NUM1 And NUM2 is : \"+ str( NUM1 + NUM2 ) +\"\\n\")\n",
    "print(\"The Substraction of NUM1 And NUM2 is : \"+ str( NUM1 - NUM2 ) +\"\\n\")\n",
    "print(\"The Division of NUM1 And NUM2 is : \"+ str( NUM1 / NUM2 ) +\"\\n\")\n",
    "print(\"The Reminder of NUM1 And NUM2 is : \"+ str( NUM1 % NUM2 ) +\"\\n\")"
   ]
  },
  {
   "cell_type": "code",
   "execution_count": 32,
   "id": "fa9f92ea",
   "metadata": {},
   "outputs": [
    {
     "name": "stdout",
     "output_type": "stream",
     "text": [
      "202.0 Type of Y is :  <class 'float'>\n",
      "202.0 Type of Y is :  <class 'float'>\n"
     ]
    }
   ],
   "source": [
    "##TYPE CONVERSION\n",
    "x=10 #int\n",
    "y=20.2 #Float\n",
    "z=\"Raza\" #str\n",
    "\n",
    "#implict type conversion\n",
    "Y=x*y\n",
    "print(Y,\"Type of Y is : \", type(Y))\n",
    "\n",
    "Y=y*x\n",
    "print(Y,\"Type of Y is : \", type(Y))\n"
   ]
  },
  {
   "cell_type": "code",
   "execution_count": 33,
   "id": "89ebae10",
   "metadata": {},
   "outputs": [
    {
     "name": "stdout",
     "output_type": "stream",
     "text": [
      "Enter your age21\n",
      "Your age is : 21  \n",
      " Data type for age is integer  <class 'int'>\n"
     ]
    }
   ],
   "source": [
    "##Explict type conversion\n",
    "age_your=input(\"Enter your age\")\n",
    "print(\"Your age is :\",age_your,\" \\n\",\"Data type for age is integer \",type(int(age_your)))"
   ]
  },
  {
   "cell_type": "code",
   "execution_count": 34,
   "id": "a0718a88",
   "metadata": {},
   "outputs": [
    {
     "name": "stdout",
     "output_type": "stream",
     "text": [
      "Enter your age21\n",
      "Your age is : 21  \n",
      " Data type for age is float  <class 'float'>\n"
     ]
    }
   ],
   "source": [
    "age_your=input(\"Enter your age\")\n",
    "print(\"Your age is :\",age_your,\" \\n\",\"Data type for age is float \",type(float(age_your)))"
   ]
  },
  {
   "cell_type": "code",
   "execution_count": 35,
   "id": "dcf2490a",
   "metadata": {},
   "outputs": [
    {
     "name": "stdout",
     "output_type": "stream",
     "text": [
      "Enter your nameRAZA\n",
      "RAZA <class 'str'>\n"
     ]
    }
   ],
   "source": [
    "name=input(\"Enter your name\")\n",
    "print(name ,type(str(name)))"
   ]
  },
  {
   "cell_type": "code",
   "execution_count": 36,
   "id": "551f66b5",
   "metadata": {},
   "outputs": [
    {
     "name": "stdout",
     "output_type": "stream",
     "text": [
      "Enter your nameRAZA\n"
     ]
    },
    {
     "ename": "ValueError",
     "evalue": "invalid literal for int() with base 10: 'RAZA'",
     "output_type": "error",
     "traceback": [
      "\u001b[1;31m---------------------------------------------------------------------------\u001b[0m",
      "\u001b[1;31mValueError\u001b[0m                                Traceback (most recent call last)",
      "Input \u001b[1;32mIn [36]\u001b[0m, in \u001b[0;36m<cell line: 2>\u001b[1;34m()\u001b[0m\n\u001b[0;32m      1\u001b[0m name\u001b[38;5;241m=\u001b[39m\u001b[38;5;28minput\u001b[39m(\u001b[38;5;124m\"\u001b[39m\u001b[38;5;124mEnter your name\u001b[39m\u001b[38;5;124m\"\u001b[39m)\n\u001b[1;32m----> 2\u001b[0m \u001b[38;5;28mprint\u001b[39m(name ,\u001b[38;5;28mtype\u001b[39m(\u001b[38;5;28;43mint\u001b[39;49m\u001b[43m(\u001b[49m\u001b[43mname\u001b[49m\u001b[43m)\u001b[49m))\n",
      "\u001b[1;31mValueError\u001b[0m: invalid literal for int() with base 10: 'RAZA'"
     ]
    }
   ],
   "source": [
    "name=input(\"Enter your name\")\n",
    "print(name ,type(int(name)))"
   ]
  },
  {
   "cell_type": "code",
   "execution_count": 37,
   "id": "9c667d51",
   "metadata": {},
   "outputs": [
    {
     "name": "stdout",
     "output_type": "stream",
     "text": [
      "Enter your name21\n",
      "21 <class 'int'>\n"
     ]
    }
   ],
   "source": [
    "name=input(\"Enter your name\")\n",
    "print(name ,type(int(name)))"
   ]
  },
  {
   "cell_type": "code",
   "execution_count": null,
   "id": "18f88575",
   "metadata": {},
   "outputs": [],
   "source": []
  }
 ],
 "metadata": {
  "kernelspec": {
   "display_name": "Python 3 (ipykernel)",
   "language": "python",
   "name": "python3"
  },
  "language_info": {
   "codemirror_mode": {
    "name": "ipython",
    "version": 3
   },
   "file_extension": ".py",
   "mimetype": "text/x-python",
   "name": "python",
   "nbconvert_exporter": "python",
   "pygments_lexer": "ipython3",
   "version": "3.9.12"
  }
 },
 "nbformat": 4,
 "nbformat_minor": 5
}
