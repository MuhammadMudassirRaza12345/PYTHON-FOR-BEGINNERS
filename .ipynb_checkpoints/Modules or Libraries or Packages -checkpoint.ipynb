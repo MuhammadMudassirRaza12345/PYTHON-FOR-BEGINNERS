{
 "cells": [
  {
   "cell_type": "markdown",
   "id": "f46f14a8",
   "metadata": {},
   "source": [
    "## Modules  / Libraries /Packages"
   ]
  },
  {
   "cell_type": "markdown",
   "id": "e5478e0b",
   "metadata": {},
   "source": [
    "- Built in \n",
    "- User defined"
   ]
  },
  {
   "cell_type": "code",
   "execution_count": 1,
   "id": "bc83369b",
   "metadata": {},
   "outputs": [],
   "source": [
    "import math\n",
    "# a module can have classes, fucntions etc "
   ]
  },
  {
   "cell_type": "code",
   "execution_count": 2,
   "id": "ffe359ef",
   "metadata": {},
   "outputs": [
    {
     "data": {
      "text/plain": [
       "3"
      ]
     },
     "execution_count": 2,
     "metadata": {},
     "output_type": "execute_result"
    }
   ],
   "source": [
    "math.ceil(2.7)\n",
    " # it will return the very next integer after 2.7"
   ]
  },
  {
   "cell_type": "code",
   "execution_count": 3,
   "id": "dccf17af",
   "metadata": {},
   "outputs": [
    {
     "data": {
      "text/plain": [
       "2"
      ]
     },
     "execution_count": 3,
     "metadata": {},
     "output_type": "execute_result"
    }
   ],
   "source": [
    "math.floor(2.7)\n",
    "# it will return the very last integer before 2.7"
   ]
  },
  {
   "cell_type": "code",
   "execution_count": null,
   "id": "88809bd3",
   "metadata": {},
   "outputs": [],
   "source": []
  }
 ],
 "metadata": {
  "kernelspec": {
   "display_name": "Python 3 (ipykernel)",
   "language": "python",
   "name": "python3"
  },
  "language_info": {
   "codemirror_mode": {
    "name": "ipython",
    "version": 3
   },
   "file_extension": ".py",
   "mimetype": "text/x-python",
   "name": "python",
   "nbconvert_exporter": "python",
   "pygments_lexer": "ipython3",
   "version": "3.9.12"
  }
 },
 "nbformat": 4,
 "nbformat_minor": 5
}
