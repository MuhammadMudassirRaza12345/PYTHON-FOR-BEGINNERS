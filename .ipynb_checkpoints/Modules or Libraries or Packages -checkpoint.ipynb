{
 "cells": [
  {
   "cell_type": "markdown",
   "id": "f46f14a8",
   "metadata": {},
   "source": [
    "## Modules  / Libraries /Packages"
   ]
  },
  {
   "cell_type": "markdown",
   "id": "e5478e0b",
   "metadata": {},
   "source": [
    "- Built in \n",
    "- User defined"
   ]
  },
  {
   "cell_type": "code",
   "execution_count": 1,
   "id": "bc83369b",
   "metadata": {},
   "outputs": [],
   "source": [
    "import math\n",
    "# a module can have classes, fucntions etc "
   ]
  },
  {
   "cell_type": "code",
   "execution_count": 2,
   "id": "ffe359ef",
   "metadata": {},
   "outputs": [
    {
     "data": {
      "text/plain": [
       "3"
      ]
     },
     "execution_count": 2,
     "metadata": {},
     "output_type": "execute_result"
    }
   ],
   "source": [
    "math.ceil(2.7)\n",
    " # it will return the very next integer after 2.7"
   ]
  },
  {
   "cell_type": "code",
   "execution_count": 3,
   "id": "dccf17af",
   "metadata": {},
   "outputs": [
    {
     "data": {
      "text/plain": [
       "2"
      ]
     },
     "execution_count": 3,
     "metadata": {},
     "output_type": "execute_result"
    }
   ],
   "source": [
    "math.floor(2.7)\n",
    "# it will return the very last integer before 2.7"
   ]
  },
  {
   "cell_type": "code",
   "execution_count": 4,
   "id": "88809bd3",
   "metadata": {},
   "outputs": [
    {
     "data": {
      "text/plain": [
       "7.38905609893065"
      ]
     },
     "execution_count": 4,
     "metadata": {},
     "output_type": "execute_result"
    }
   ],
   "source": [
    "math.exp(2)    \n",
    "# shift +tab for function information"
   ]
  },
  {
   "cell_type": "code",
   "execution_count": 5,
   "id": "4059c053",
   "metadata": {},
   "outputs": [
    {
     "data": {
      "text/plain": [
       "2.0"
      ]
     },
     "execution_count": 5,
     "metadata": {},
     "output_type": "execute_result"
    }
   ],
   "source": [
    "math.fmod(2,3)\n",
    "# modulus (%)"
   ]
  },
  {
   "cell_type": "code",
   "execution_count": 6,
   "id": "b67819af",
   "metadata": {},
   "outputs": [],
   "source": [
    "from math import exp"
   ]
  },
  {
   "cell_type": "code",
   "execution_count": 7,
   "id": "48e103d5",
   "metadata": {},
   "outputs": [
    {
     "data": {
      "text/plain": [
       "7.38905609893065"
      ]
     },
     "execution_count": 7,
     "metadata": {},
     "output_type": "execute_result"
    }
   ],
   "source": [
    "exp(2)"
   ]
  },
  {
   "cell_type": "code",
   "execution_count": 8,
   "id": "cdda78c2",
   "metadata": {},
   "outputs": [],
   "source": [
    "import mymodule"
   ]
  },
  {
   "cell_type": "code",
   "execution_count": 9,
   "id": "cb2d782f",
   "metadata": {},
   "outputs": [
    {
     "name": "stdout",
     "output_type": "stream",
     "text": [
      "The sqaure of 12 is 144 which is a local variable\n"
     ]
    }
   ],
   "source": [
    "mymodule.square_of_a_number(12)"
   ]
  },
  {
   "cell_type": "code",
   "execution_count": 10,
   "id": "1dce4f02",
   "metadata": {},
   "outputs": [],
   "source": [
    "myalbum=mymodule.make_album(\"nasir\",\"naat\",3)\n"
   ]
  },
  {
   "cell_type": "code",
   "execution_count": 11,
   "id": "c1b8703b",
   "metadata": {},
   "outputs": [
    {
     "data": {
      "text/plain": [
       "{'artist name : ': 'nasir', 'album title : ': 'naat', 'number of tracks': 3}"
      ]
     },
     "execution_count": 11,
     "metadata": {},
     "output_type": "execute_result"
    }
   ],
   "source": [
    "myalbum"
   ]
  },
  {
   "cell_type": "code",
   "execution_count": 12,
   "id": "28466e14",
   "metadata": {},
   "outputs": [],
   "source": [
    "from mymodule import make_album"
   ]
  },
  {
   "cell_type": "code",
   "execution_count": 13,
   "id": "18703acb",
   "metadata": {},
   "outputs": [
    {
     "data": {
      "text/plain": [
       "{'artist name : ': 'raza', 'album title : ': 'lala', 'number of tracks': 14}"
      ]
     },
     "execution_count": 13,
     "metadata": {},
     "output_type": "execute_result"
    }
   ],
   "source": [
    "make_album(\"raza\",\"lala\",14)"
   ]
  },
  {
   "cell_type": "code",
   "execution_count": 14,
   "id": "97ef034d",
   "metadata": {},
   "outputs": [],
   "source": [
    "import mymodule as mm"
   ]
  },
  {
   "cell_type": "code",
   "execution_count": 15,
   "id": "69414141",
   "metadata": {},
   "outputs": [
    {
     "data": {
      "text/plain": [
       "0.022"
      ]
     },
     "execution_count": 15,
     "metadata": {},
     "output_type": "execute_result"
    }
   ],
   "source": [
    "mm.meter_to_km(22)"
   ]
  },
  {
   "cell_type": "code",
   "execution_count": 16,
   "id": "76b27ed0",
   "metadata": {},
   "outputs": [
    {
     "name": "stdout",
     "output_type": "stream",
     "text": [
      "The sqaure of 22 is 484 which is a local variable\n"
     ]
    }
   ],
   "source": [
    "mm.square_of_a_number(22)"
   ]
  },
  {
   "cell_type": "code",
   "execution_count": null,
   "id": "97e41019",
   "metadata": {},
   "outputs": [],
   "source": [
    "# %load mymodule.py\n",
    "def make_album(artist_name,albumtitle,number_of_tracks=\"\"):\n",
    "    \"\"\" This function takes two mandatory argument\n",
    "    artist_name,\n",
    "    albumtitle,\n",
    "    number_of_tracks\n",
    "    \n",
    "    it will return the dictionary  whose keys will be\n",
    "    artist name\n",
    "    album title\n",
    "    \n",
    "    whose value will be arguments provided by the user during function call.\n",
    "    \n",
    "    \n",
    "    \n",
    "    \"\"\"\n",
    "    album_dic={\"artist name : \":artist_name,\"album title : \":albumtitle}\n",
    "    if number_of_tracks:\n",
    "        album_dic[\"number of tracks\"]=number_of_tracks\n",
    "   \n",
    "    return album_dic    \n",
    "\n",
    "\n",
    "\n",
    "\n",
    "\n",
    "def square_of_a_number(num):\n",
    "    \n",
    "    square = num**2   # local variable\n",
    "    print(f\"The sqaure of {num} is {square} which is a local variable\")\n",
    "    \n",
    "    \n",
    "def meter_to_km(distance_in_meters):\n",
    "    distance_in_km= distance_in_meters/1000\n",
    "    return distance_in_km\n",
    "    "
   ]
  },
  {
   "cell_type": "markdown",
   "id": "7c2cc379",
   "metadata": {},
   "source": [
    "# Exceptions"
   ]
  },
  {
   "cell_type": "markdown",
   "id": "f8cf798c",
   "metadata": {},
   "source": [
    "\"Exceptions are discussed in private\""
   ]
  },
  {
   "cell_type": "raw",
   "id": "581f2239",
   "metadata": {},
   "source": [
    "valid syntax: an integer can divide another intger\n",
    "12/12, 3/ 5/6\n",
    "\n",
    "but 0 which is also an integer can not divide any integer"
   ]
  },
  {
   "cell_type": "code",
   "execution_count": 20,
   "id": "610f319d",
   "metadata": {},
   "outputs": [],
   "source": [
    "12/0"
   ]
  },
  {
   "cell_type": "code",
   "execution_count": 21,
   "id": "4a0f70b0",
   "metadata": {},
   "outputs": [
    {
     "name": "stdout",
     "output_type": "stream",
     "text": [
      "Tell me a number3\n",
      "3\n"
     ]
    }
   ],
   "source": [
    "a = int(input(\"Tell me a number\"))\n",
    "print(a)"
   ]
  },
  {
   "cell_type": "code",
   "execution_count": 23,
   "id": "737177c7",
   "metadata": {},
   "outputs": [
    {
     "name": "stdout",
     "output_type": "stream",
     "text": [
      "Enter a number to be divided2\n",
      "Enter a number to divide num12\n",
      "1.0\n"
     ]
    }
   ],
   "source": [
    "num1 = int(input(\"Enter a number to be divided\"))\n",
    "num2 = int(input(\"Enter a number to divide num1\"))\n",
    "res = None\n",
    "try:\n",
    "    res = num1/num2\n",
    "    print(res)\n",
    "\n",
    "except ZeroDivisionError:\n",
    "    print(\"You can not divide an integer by 0\")\n",
    "\n"
   ]
  },
  {
   "cell_type": "code",
   "execution_count": 25,
   "id": "5398bc0b",
   "metadata": {},
   "outputs": [
    {
     "name": "stdout",
     "output_type": "stream",
     "text": [
      "Enter a number to be divided : 2\n",
      "Enter a number to divide num1 :\n",
      "Insan ka bacha ban ja warna ghar akar marunga\n"
     ]
    }
   ],
   "source": [
    "try:\n",
    "    num1 = int(input(\"Enter a number to be divided : \"))\n",
    "    num2 = int(input(\"Enter a number to divide num1 :\"))\n",
    "    res = num1/num2\n",
    "    print(res)\n",
    "    \n",
    "except ZeroDivisionError:\n",
    "    print(\"You can not divide an integer by 0\")\n",
    "except ValueError:\n",
    "    print(\"Insan ka bacha ban ja warna ghar akar marunga\")\n"
   ]
  },
  {
   "cell_type": "code",
   "execution_count": 26,
   "id": "3cb32125",
   "metadata": {},
   "outputs": [
    {
     "name": "stdout",
     "output_type": "stream",
     "text": [
      "Enter a number to be divided2\n",
      "Enter a number to divide num1\n",
      "Acception was generated and caught successfully\n",
      "invalid literal for int() with base 10: ''\n"
     ]
    }
   ],
   "source": [
    "try:\n",
    "    num1 = int(input(\"Enter a number to be divided\"))\n",
    "    num2 = int(input(\"Enter a number to divide num1\"))\n",
    "    res = num1/num2\n",
    "    print(res)\n",
    "    \n",
    "except Exception as e:\n",
    "    print(\"Acception was generated and caught successfully\\n\" + str(e))"
   ]
  },
  {
   "cell_type": "code",
   "execution_count": 27,
   "id": "dc89089c",
   "metadata": {},
   "outputs": [
    {
     "name": "stdout",
     "output_type": "stream",
     "text": [
      "Enter a number to be divided2\n",
      "Enter a number to divide num12\n",
      "1.0\n"
     ]
    }
   ],
   "source": [
    "try:\n",
    "    num1 = int(input(\"Enter a number to be divided\"))\n",
    "    num2 = int(input(\"Enter a number to divide num1\"))\n",
    "    res = num1/num2\n",
    "    print(res)\n",
    "    \n",
    "except Exception as e:\n",
    "    print(\"Acception was generated and caught successfully\\n\" + str(e))"
   ]
  },
  {
   "cell_type": "code",
   "execution_count": null,
   "id": "7ae9f646",
   "metadata": {},
   "outputs": [],
   "source": []
  }
 ],
 "metadata": {
  "kernelspec": {
   "display_name": "Python 3 (ipykernel)",
   "language": "python",
   "name": "python3"
  },
  "language_info": {
   "codemirror_mode": {
    "name": "ipython",
    "version": 3
   },
   "file_extension": ".py",
   "mimetype": "text/x-python",
   "name": "python",
   "nbconvert_exporter": "python",
   "pygments_lexer": "ipython3",
   "version": "3.9.12"
  }
 },
 "nbformat": 4,
 "nbformat_minor": 5
}
