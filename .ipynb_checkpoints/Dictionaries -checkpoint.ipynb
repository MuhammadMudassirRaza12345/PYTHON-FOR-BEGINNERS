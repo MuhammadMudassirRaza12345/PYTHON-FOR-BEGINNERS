{
 "cells": [
  {
   "cell_type": "markdown",
   "id": "02163f79",
   "metadata": {},
   "source": [
    "# Dictionaries"
   ]
  },
  {
   "cell_type": "markdown",
   "id": "aa19936c",
   "metadata": {},
   "source": [
    "## Dictionaries : dictionary works something like a list, but instead of a simple series of\n",
    "## things, a dictionary is a series of pairs of things. Each pair contains a key—\"first name\", \"last name\" etc.—and a value—\"David\", \"Elliott\", etc. To pick something out of a dictionary, you specify a particular key and ask  what value is paired with it.\n",
    "\n"
   ]
  },
  {
   "cell_type": "markdown",
   "id": "4a615591",
   "metadata": {},
   "source": [
    "### method means part of variable\n",
    "## function means indepent of variable"
   ]
  },
  {
   "cell_type": "code",
   "execution_count": 1,
   "id": "f55836ac",
   "metadata": {},
   "outputs": [
    {
     "name": "stdout",
     "output_type": "stream",
     "text": [
      "{'first_name': 'Muhammad', 'middle_name': 'Mudassir', 'last_name': 'Raza', 'address': 'A-128 New Rizvia Society', 'number': '03122512472', 1: 'love'}\n",
      "Muhammad\n",
      "Mudassir\n",
      "Raza\n",
      "A-128 New Rizvia Society\n",
      "03122512472\n",
      "love\n"
     ]
    }
   ],
   "source": [
    "customer={\n",
    "    \"first_name\" :\"Muhammad\",\n",
    "    \"middle_name\" :\"Mudassir\",\n",
    "    \"last_name\" :\"Raza\",\n",
    "    \"address\" : \"A-128 New Rizvia Society\",\n",
    "    \"number\" : \"03122512472\",\n",
    "    1  : \"love\"\n",
    "}\n",
    "print(customer)\n",
    "print(customer[\"first_name\"])\n",
    "print(customer[\"middle_name\"])\n",
    "print(customer[\"last_name\"])\n",
    "print(customer[\"address\"])\n",
    "print(customer[\"number\"])\n",
    "print(customer[1])\n",
    "    \n",
    " "
   ]
  },
  {
   "cell_type": "code",
   "execution_count": 2,
   "id": "7f1c6043",
   "metadata": {},
   "outputs": [
    {
     "name": "stdout",
     "output_type": "stream",
     "text": [
      "Karachi\n"
     ]
    }
   ],
   "source": [
    "Cities_ranking={\n",
    "    1: \"Karachi\",\n",
    "    2:\"Lahore\",\n",
    "    3: \"Islamabad\"\n",
    "    \n",
    "}\n",
    "print(Cities_ranking[1])"
   ]
  },
  {
   "cell_type": "markdown",
   "id": "80311304",
   "metadata": {},
   "source": [
    "## Adding New items in dictionary"
   ]
  },
  {
   "cell_type": "code",
   "execution_count": 3,
   "id": "4ed09c2e",
   "metadata": {},
   "outputs": [
    {
     "name": "stdout",
     "output_type": "stream",
     "text": [
      "{'first_name': 'Muhammad', 'middle_name': 'Mudassir', 'last_name': 'Raza', 'address': 'A-128 New Rizvia Society', 'number': '03122512472', 1: 'love', 'city': 'karachi'}\n",
      "{'first_name': 'Muhammad', 'middle_name': 'Mudassir', 'last_name': 'Raza', 'address': 'A-128 New Rizvia Society', 'number': '03122512472', 1: 'love', 'city': 'karachi', 'age': 21}\n"
     ]
    }
   ],
   "source": [
    "\n",
    "\n",
    "customer={\n",
    "    \"first_name\" :\"Muhammad\",\n",
    "    \"middle_name\" :\"Mudassir\",\n",
    "    \"last_name\" :\"Raza\",\n",
    "    \"address\" : \"A-128 New Rizvia Society\",\n",
    "    \"number\" : \"03122512472\",\n",
    "    1  : \"love\"\n",
    "}\n",
    "customer[\"city\"] =\"karachi\"\n",
    "print(customer)\n",
    "customer[\"age\"] = 21\n",
    "print(customer)\n",
    "\n",
    "# print(customer[\"first_name\"])\n",
    "# print(customer[\"middle_name\"])\n",
    "# print(customer[\"last_name\"])\n",
    "# print(customer[\"address\"])\n",
    "# print(customer[\"number\"])\n",
    "# print(customer[1])\n",
    "    \n",
    " "
   ]
  },
  {
   "cell_type": "markdown",
   "id": "80e0614d",
   "metadata": {},
   "source": [
    "## Removing and changing items in dictionary"
   ]
  },
  {
   "cell_type": "code",
   "execution_count": 4,
   "id": "040ff12b",
   "metadata": {},
   "outputs": [
    {
     "name": "stdout",
     "output_type": "stream",
     "text": [
      "{'first_name': 'Muhammad', 'middle_name': 'Mudassir', 'last_name': 'Raza', 'address': 'A-128 New Rizvia Society', 'number': '03122512472', 1: 'love', 'city': 'karachi'}\n"
     ]
    }
   ],
   "source": [
    "#in dictionary you are removing through key by del\n",
    "\n",
    "customer={\n",
    "    \"first_name\" :\"Muhammad\",\n",
    "    \"middle_name\" :\"Mudassir\",\n",
    "    \"last_name\" :\"Raza\",\n",
    "    \"address\" : \"A-128 New Rizvia Society\",\n",
    "    \"number\" : \"03122512472\",\n",
    "    1  : \"love\" ,\n",
    "    'city': 'karachi',\n",
    "    'age': 21\n",
    "}\n",
    "del customer[\"age\"] \n",
    "print(customer)\n",
    "\n",
    "\n",
    "# print(customer[\"first_name\"])\n",
    "# print(customer[\"middle_name\"])\n",
    "# print(customer[\"last_name\"])\n",
    "# print(customer[\"address\"])\n",
    "# print(customer[\"number\"])\n",
    "# print(customer[1])\n",
    "    \n",
    " "
   ]
  },
  {
   "cell_type": "markdown",
   "id": "7c9eacdd",
   "metadata": {},
   "source": [
    "## Changing the value in list"
   ]
  },
  {
   "cell_type": "code",
   "execution_count": 5,
   "id": "a1e9af34",
   "metadata": {},
   "outputs": [
    {
     "name": "stdout",
     "output_type": "stream",
     "text": [
      "{'first_name': 'Muhammad', 'middle_name': 'Mudassir', 'last_name': 'Raza', 'address': 'A-128 New Rizvia Society', 'number': '03122512472', 1: 'love', 'city': 'karachi', 'age': 21}\n",
      "22\n"
     ]
    }
   ],
   "source": [
    "customer={\n",
    "    \"first_name\" :\"Muhammad\",\n",
    "    \"middle_name\" :\"Mudassir\",\n",
    "    \"last_name\" :\"Raza\",\n",
    "    \"address\" : \"A-128 New Rizvia Society\",\n",
    "    \"number\" : \"03122512472\",\n",
    "    1  : \"love\" ,\n",
    "    'city': 'karachi',\n",
    "    'age': 21\n",
    "}\n",
    "print(customer)\n",
    "# print(customer[\"age\"])\n",
    "customer[\"age\"] =22\n",
    "# print(customer)\n",
    "print(customer[\"age\"])"
   ]
  },
  {
   "cell_type": "markdown",
   "id": "21cbc9bc",
   "metadata": {},
   "source": [
    "## LOOPING THE DICTIONARY"
   ]
  },
  {
   "cell_type": "code",
   "execution_count": 6,
   "id": "c57cc20c",
   "metadata": {},
   "outputs": [
    {
     "name": "stdout",
     "output_type": "stream",
     "text": [
      "Muhammad\n",
      "Mudassir\n",
      "Raza\n",
      "A-128 New Rizvia Society\n",
      "03122512472\n",
      "love\n",
      "karachi\n",
      "21\n"
     ]
    }
   ],
   "source": [
    "##Instead of one by one We print all the values of dictionary  through loops \n",
    "\n",
    "customer={\n",
    "    \"first_name\" :\"Muhammad\",\n",
    "    \"middle_name\" :\"Mudassir\",\n",
    "    \"last_name\" :\"Raza\",\n",
    "    \"address\" : \"A-128 New Rizvia Society\",\n",
    "    \"number\" : \"03122512472\",\n",
    "    1  : \"love\" ,\n",
    "    'city': 'karachi',\n",
    "    'age': 21\n",
    "}\n",
    "##looping through values\n",
    "for data in customer.values():\n",
    "    print(data)\n",
    "    \n",
    "    \n"
   ]
  },
  {
   "cell_type": "code",
   "execution_count": 7,
   "id": "942ed74f",
   "metadata": {},
   "outputs": [
    {
     "name": "stdout",
     "output_type": "stream",
     "text": [
      "first_name\n",
      "middle_name\n",
      "last_name\n",
      "address\n",
      "number\n",
      "1\n",
      "city\n",
      "age\n"
     ]
    }
   ],
   "source": [
    "##looping through keys\n",
    "customer={\n",
    "    \"first_name\" :\"Muhammad\",\n",
    "    \"middle_name\" :\"Mudassir\",\n",
    "    \"last_name\" :\"Raza\",\n",
    "    \"address\" : \"A-128 New Rizvia Society\",\n",
    "    \"number\" : \"03122512472\",\n",
    "    1  : \"love\" ,\n",
    "    'city': 'karachi',\n",
    "    'age': 21\n",
    "}\n",
    "for data in customer.keys():\n",
    "    print(data)\n",
    "    "
   ]
  },
  {
   "cell_type": "code",
   "execution_count": 8,
   "id": "9c780f57",
   "metadata": {},
   "outputs": [
    {
     "name": "stdout",
     "output_type": "stream",
     "text": [
      "first_name  :  Muhammad\n",
      "middle_name  :  Mudassir\n",
      "last_name  :  Raza\n",
      "address  :  A-128 New Rizvia Society\n",
      "number  :  03122512472\n",
      "1  :  love\n",
      "city  :  karachi\n",
      "age  :  21\n"
     ]
    }
   ],
   "source": [
    "##looping through keys and values both\n",
    "customer={\n",
    "    \"first_name\" :\"Muhammad\",\n",
    "    \"middle_name\" :\"Mudassir\",\n",
    "    \"last_name\" :\"Raza\",\n",
    "    \"address\" : \"A-128 New Rizvia Society\",\n",
    "    \"number\" : \"03122512472\",\n",
    "    1  : \"love\" ,\n",
    "    'city': 'karachi',\n",
    "    'age': 21\n",
    "}\n",
    "for data_key,data_values  in customer.items():\n",
    "    print(data_key,\" : \",data_values )\n",
    "    "
   ]
  },
  {
   "cell_type": "code",
   "execution_count": 9,
   "id": "aa89e35a",
   "metadata": {},
   "outputs": [
    {
     "name": "stdout",
     "output_type": "stream",
     "text": [
      "Customer key 1 is first_name  and  Customer values 1 is Muhammad\n",
      "Customer key 2 is middle_name  and  Customer values 2 is Mudassir\n",
      "Customer key 3 is last_name  and  Customer values 3 is Raza\n",
      "Customer key 4 is address  and  Customer values 4 is A-128 New Rizvia Society\n",
      "Customer key 5 is number  and  Customer values 5 is 03122512472\n",
      "Customer key 6 is 1  and  Customer values 6 is love\n",
      "Customer key 7 is city  and  Customer values 7 is karachi\n",
      "Customer key 8 is age  and  Customer values 8 is 21\n"
     ]
    }
   ],
   "source": [
    "##looping through keys and values both\n",
    "customer={\n",
    "    \"first_name\" :\"Muhammad\",\n",
    "    \"middle_name\" :\"Mudassir\",\n",
    "    \"last_name\" :\"Raza\",\n",
    "    \"address\" : \"A-128 New Rizvia Society\",\n",
    "    \"number\" : \"03122512472\",\n",
    "    1  : \"love\" ,\n",
    "    'city': 'karachi',\n",
    "    'age': 21\n",
    "}\n",
    "num=1\n",
    "for data_key,data_values  in customer.items():\n",
    "    print(\"Customer key\",num,\"is\",data_key,\" and \",\"Customer values\",num,\"is\",data_values )\n",
    "    num=num+1\n",
    "    "
   ]
  },
  {
   "cell_type": "code",
   "execution_count": 10,
   "id": "fa4edd88",
   "metadata": {},
   "outputs": [
    {
     "name": "stdout",
     "output_type": "stream",
     "text": [
      "Enter the number you want table of that 2\n",
      "Enter the starting  number for table1\n",
      "Enter the ending number for table100\n",
      "2 x 1 = 2\n",
      "2 x 2 = 4\n",
      "2 x 3 = 6\n",
      "2 x 4 = 8\n",
      "2 x 5 = 10\n",
      "2 x 6 = 12\n",
      "2 x 7 = 14\n",
      "2 x 8 = 16\n",
      "2 x 9 = 18\n",
      "2 x 10 = 20\n",
      "2 x 11 = 22\n",
      "2 x 12 = 24\n",
      "2 x 13 = 26\n",
      "2 x 14 = 28\n",
      "2 x 15 = 30\n",
      "2 x 16 = 32\n",
      "2 x 17 = 34\n",
      "2 x 18 = 36\n",
      "2 x 19 = 38\n",
      "2 x 20 = 40\n",
      "2 x 21 = 42\n",
      "2 x 22 = 44\n",
      "2 x 23 = 46\n",
      "2 x 24 = 48\n",
      "2 x 25 = 50\n",
      "2 x 26 = 52\n",
      "2 x 27 = 54\n",
      "2 x 28 = 56\n",
      "2 x 29 = 58\n",
      "2 x 30 = 60\n",
      "2 x 31 = 62\n",
      "2 x 32 = 64\n",
      "2 x 33 = 66\n",
      "2 x 34 = 68\n",
      "2 x 35 = 70\n",
      "2 x 36 = 72\n",
      "2 x 37 = 74\n",
      "2 x 38 = 76\n",
      "2 x 39 = 78\n",
      "2 x 40 = 80\n",
      "2 x 41 = 82\n",
      "2 x 42 = 84\n",
      "2 x 43 = 86\n",
      "2 x 44 = 88\n",
      "2 x 45 = 90\n",
      "2 x 46 = 92\n",
      "2 x 47 = 94\n",
      "2 x 48 = 96\n",
      "2 x 49 = 98\n",
      "2 x 50 = 100\n",
      "2 x 51 = 102\n",
      "2 x 52 = 104\n",
      "2 x 53 = 106\n",
      "2 x 54 = 108\n",
      "2 x 55 = 110\n",
      "2 x 56 = 112\n",
      "2 x 57 = 114\n",
      "2 x 58 = 116\n",
      "2 x 59 = 118\n",
      "2 x 60 = 120\n",
      "2 x 61 = 122\n",
      "2 x 62 = 124\n",
      "2 x 63 = 126\n",
      "2 x 64 = 128\n",
      "2 x 65 = 130\n",
      "2 x 66 = 132\n",
      "2 x 67 = 134\n",
      "2 x 68 = 136\n",
      "2 x 69 = 138\n",
      "2 x 70 = 140\n",
      "2 x 71 = 142\n",
      "2 x 72 = 144\n",
      "2 x 73 = 146\n",
      "2 x 74 = 148\n",
      "2 x 75 = 150\n",
      "2 x 76 = 152\n",
      "2 x 77 = 154\n",
      "2 x 78 = 156\n",
      "2 x 79 = 158\n",
      "2 x 80 = 160\n",
      "2 x 81 = 162\n",
      "2 x 82 = 164\n",
      "2 x 83 = 166\n",
      "2 x 84 = 168\n",
      "2 x 85 = 170\n",
      "2 x 86 = 172\n",
      "2 x 87 = 174\n",
      "2 x 88 = 176\n",
      "2 x 89 = 178\n",
      "2 x 90 = 180\n",
      "2 x 91 = 182\n",
      "2 x 92 = 184\n",
      "2 x 93 = 186\n",
      "2 x 94 = 188\n",
      "2 x 95 = 190\n",
      "2 x 96 = 192\n",
      "2 x 97 = 194\n",
      "2 x 98 = 196\n",
      "2 x 99 = 198\n",
      "2 x 100 = 200\n"
     ]
    }
   ],
   "source": [
    "# table\n",
    "num=int(input(\"Enter the number you want table of that \"))\n",
    "start_num=int(input(\"Enter the starting  number for table\"))\n",
    "end_num=int(input(\"Enter the ending number for table\"))\n",
    "\n",
    "for table in range (end_num):\n",
    "    print(num ,\"x\",start_num ,\"=\" ,num * start_num )\n",
    "    start_num=start_num+1\n",
    "    \n",
    "\n"
   ]
  },
  {
   "cell_type": "markdown",
   "id": "956f5a1c",
   "metadata": {},
   "source": [
    "# Creating a list of dictionaries"
   ]
  },
  {
   "cell_type": "code",
   "execution_count": 11,
   "id": "af0ddf67",
   "metadata": {},
   "outputs": [
    {
     "name": "stdout",
     "output_type": "stream",
     "text": [
      "[{'sno': 1, 'question': 'What is your country name'}, {'sno': 2, 'question': 'What is your city name'}, {'sno': 3, 'question': 'What is your subject name'}] \n",
      "\n",
      "{'sno': 1, 'question': 'What is your country name'} \n",
      "\n",
      "What is your subject name \n",
      "\n"
     ]
    }
   ],
   "source": [
    "questions=[\n",
    "    { \"sno\" : 1,\n",
    "      \"question\" : \"What is your country name\",\n",
    "    } ,\n",
    "    { \"sno\" : 2,\n",
    "      \"question\" : \"What is your city name\",\n",
    "    } ,\n",
    "    { \"sno\" : 3,\n",
    "      \"question\" : \"What is your subject name\",\n",
    "    } \n",
    "    \n",
    "]\n",
    "print(questions ,\"\\n\")\n",
    "print(questions[0],\"\\n\")\n",
    "print(questions[2][\"question\"],\"\\n\")\n"
   ]
  },
  {
   "cell_type": "markdown",
   "id": "4687136c",
   "metadata": {},
   "source": [
    "# Creating a  dictionaries than contain a list "
   ]
  },
  {
   "cell_type": "code",
   "execution_count": 12,
   "id": "9322ac6d",
   "metadata": {},
   "outputs": [
    {
     "name": "stdout",
     "output_type": "stream",
     "text": [
      "[{'sno': 1, 'question': 'What is your country name', 'option': ['Pakistan', 'UAE', 'USA', 'Africa'], 'answer': 'Pakistan'}, {'sno': 2, 'question': 'What is your city name', 'option': ['Pakistan', 'UAE', 'USA', 'Africa', 'Karachi'], 'answer': 'Karachi'}, {'sno': 3, 'question': 'What is your subject name', 'option': ['Pakistan', 'UAE', 'USA', 'Africa', 'Computer Science'], 'answer': 'Computer Science'}] \n",
      "\n",
      "{'sno': 1, 'question': 'What is your country name', 'option': ['Pakistan', 'UAE', 'USA', 'Africa'], 'answer': 'Pakistan'} \n",
      "\n",
      "{'sno': 2, 'question': 'What is your city name', 'option': ['Pakistan', 'UAE', 'USA', 'Africa', 'Karachi'], 'answer': 'Karachi'} \n",
      "\n",
      "{'sno': 3, 'question': 'What is your subject name', 'option': ['Pakistan', 'UAE', 'USA', 'Africa', 'Computer Science'], 'answer': 'Computer Science'} \n",
      "\n",
      "['Pakistan', 'UAE', 'USA', 'Africa', 'Computer Science'] \n",
      "\n",
      "Pakistan \n",
      "\n"
     ]
    }
   ],
   "source": [
    "questions=[\n",
    "    { \"sno\" : 1,\n",
    "      \"question\" : \"What is your country name\",\n",
    "     \"option\" : [\"Pakistan\",\"UAE\",\"USA\",\"Africa\"],\n",
    "     \"answer\" : \"Pakistan\"\n",
    "    } ,\n",
    "    { \"sno\" : 2,\n",
    "      \"question\" : \"What is your city name\",\n",
    "      \"option\" : [\"Pakistan\",\"UAE\",\"USA\",\"Africa\",\"Karachi\"],\n",
    "      \"answer\" :  \"Karachi\"\n",
    "     \n",
    "    } ,\n",
    "    { \"sno\" : 3,\n",
    "      \"question\" : \"What is your subject name\",\n",
    "     \"option\" : [\"Pakistan\",\"UAE\",\"USA\",\"Africa\",\"Computer Science\"],\n",
    "     \"answer\" : \"Computer Science\"\n",
    "    } \n",
    "    \n",
    "]\n",
    "\n",
    "print(questions ,\"\\n\")\n",
    "print(questions[0],\"\\n\")\n",
    "print(questions[1],\"\\n\")\n",
    "print(questions[2],\"\\n\")\n",
    "print(questions[2][\"option\"],\"\\n\")\n",
    "print(questions[2][\"option\"][0],\"\\n\")\n",
    " "
   ]
  },
  {
   "cell_type": "markdown",
   "id": "11a4e8a6",
   "metadata": {},
   "source": [
    "# How to append a new dictionary to a list of dictionaries"
   ]
  },
  {
   "cell_type": "code",
   "execution_count": 2,
   "id": "a4047b0f",
   "metadata": {},
   "outputs": [
    {
     "name": "stdout",
     "output_type": "stream",
     "text": [
      "[{'sno': 1, 'question': 'What is your country name'}, {'sno': 2, 'question': 'What is your city name'}, {'sno': 3, 'question': 'What is your subject name'}, {'sno': 4, 'question': 'What is your city name', 'age': 'What is your age'}] \n",
      "\n",
      "[{'sno': 1, 'question': 'What is your country name'}, {'sno': 2, 'question': 'What is your city name'}, {'sno': 3, 'question': 'What is your subject name'}, {'sno': 4, 'question': 'What is your city name', 'age': 'What is your age'}] \n",
      "\n",
      "{'sno': 1, 'question': 'What is your country name'} \n",
      "\n",
      "{'sno': 2, 'question': 'What is your city name'} \n",
      "\n",
      "{'sno': 3, 'question': 'What is your subject name'} \n",
      "\n",
      "{'sno': 4, 'question': 'What is your city name', 'age': 'What is your age'} \n",
      "\n",
      "What is your age \n",
      "\n"
     ]
    }
   ],
   "source": [
    "questions=[\n",
    "    { \"sno\" : 1,\n",
    "      \"question\" : \"What is your country name\",\n",
    "    } ,\n",
    "    { \"sno\" : 2,\n",
    "      \"question\" : \"What is your city name\",\n",
    "    } ,\n",
    "    { \"sno\" : 3,\n",
    "      \"question\" : \"What is your subject name\",\n",
    "    } \n",
    "    \n",
    "]\n",
    "\n",
    "new_question={ \"sno\" : 4,\n",
    "              \"question\" : \"What is your city name\",\n",
    "              \"age\" : \"What is your age\",\n",
    "               } \n",
    "\n",
    "questions.append(new_question)\n",
    "print(questions ,\"\\n\")\n",
    "\n",
    "\n",
    "print(questions ,\"\\n\")\n",
    "print(questions[0],\"\\n\")\n",
    "print(questions[1],\"\\n\")\n",
    "print(questions[2],\"\\n\")\n",
    "print(questions[3],\"\\n\")\n",
    "\n",
    "print(questions[3][\"age\"],\"\\n\")\n"
   ]
  },
  {
   "cell_type": "code",
   "execution_count": 14,
   "id": "9dea226a",
   "metadata": {},
   "outputs": [
    {
     "name": "stdout",
     "output_type": "stream",
     "text": [
      "[{'sno': 1, 'question': 'What is your country name', 'option': ['Pakistan', 'UAE', 'USA', 'Africa'], 'answer': 'Pakistan'}, {'sno': 2, 'question': 'What is your city name', 'option': ['Pakistan', 'UAE', 'USA', 'Africa', 'Karachi'], 'answer': 'Karachi'}, {'sno': 3, 'question': 'What is your subject name', 'option': ['Pakistan', 'UAE', 'USA', 'Africa', 'Computer Science'], 'answer': 'Computer Science'}, {'sno': 4, 'question': 'What is your age', 'option': [22, 'Pakistan', 'UAE', 'USA', 'Africa', 'Computer Science'], 'answer': 22}] \n",
      "\n",
      "{'sno': 1, 'question': 'What is your country name', 'option': ['Pakistan', 'UAE', 'USA', 'Africa'], 'answer': 'Pakistan'} \n",
      "\n",
      "{'sno': 2, 'question': 'What is your city name', 'option': ['Pakistan', 'UAE', 'USA', 'Africa', 'Karachi'], 'answer': 'Karachi'} \n",
      "\n",
      "{'sno': 3, 'question': 'What is your subject name', 'option': ['Pakistan', 'UAE', 'USA', 'Africa', 'Computer Science'], 'answer': 'Computer Science'} \n",
      "\n",
      "{'sno': 4, 'question': 'What is your age', 'option': [22, 'Pakistan', 'UAE', 'USA', 'Africa', 'Computer Science'], 'answer': 22} \n",
      "\n"
     ]
    }
   ],
   "source": [
    "questions=[\n",
    "    { \"sno\" : 1,\n",
    "      \"question\" : \"What is your country name\",\n",
    "     \"option\" : [\"Pakistan\",\"UAE\",\"USA\",\"Africa\"],\n",
    "     \"answer\" : \"Pakistan\"\n",
    "    } ,\n",
    "    { \"sno\" : 2,\n",
    "      \"question\" : \"What is your city name\",\n",
    "      \"option\" : [\"Pakistan\",\"UAE\",\"USA\",\"Africa\",\"Karachi\"],\n",
    "      \"answer\" :  \"Karachi\"\n",
    "     \n",
    "    } ,\n",
    "    { \"sno\" : 3,\n",
    "      \"question\" : \"What is your subject name\",\n",
    "     \"option\" : [\"Pakistan\",\"UAE\",\"USA\",\"Africa\",\"Computer Science\"],\n",
    "     \"answer\" : \"Computer Science\"\n",
    "    } \n",
    "    \n",
    "]\n",
    "new_question={ \"sno\" : 4,\n",
    "      \"question\" : \"What is your age\",\n",
    "     \"option\" : [22,\"Pakistan\",\"UAE\",\"USA\",\"Africa\",\"Computer Science\"],\n",
    "     \"answer\" :  22\n",
    "    } \n",
    "    \n",
    "questions.append(new_question)\n",
    "print(questions ,\"\\n\")\n",
    "print(questions[0],\"\\n\")\n",
    "print(questions[1],\"\\n\")\n",
    "print(questions[2],\"\\n\")\n",
    "print(questions[3],\"\\n\")\n",
    "\n",
    "# print(questions[2][\"option\"],\"\\n\")\n",
    "# print(questions[2][\"option\"][0],\"\\n\")\n",
    " "
   ]
  },
  {
   "cell_type": "markdown",
   "id": "51f31e05",
   "metadata": {},
   "source": [
    "# Creating a dictionary that contains a dictionary\n"
   ]
  },
  {
   "cell_type": "code",
   "execution_count": 3,
   "id": "729f510f",
   "metadata": {},
   "outputs": [
    {
     "name": "stdout",
     "output_type": "stream",
     "text": [
      "{1: {'sno': 1, 'question': 'What is your country name', 'option': ['Pakistan', 'UAE', 'USA', 'Africa'], 'answer': 'Pakistan'}, 2: {'sno': 2, 'question': 'What is your city name', 'option': ['Pakistan', 'UAE', 'USA', 'Africa', 'Karachi'], 'answer': 'Karachi'}, 3: {'sno': 3, 'question': 'What is your subject name', 'option': ['Pakistan', 'UAE', 'USA', 'Africa', 'Computer Science'], 'answer': 'Computer Science'}} \n",
      "\n",
      "{'sno': 1, 'question': 'What is your country name', 'option': ['Pakistan', 'UAE', 'USA', 'Africa'], 'answer': 'Pakistan'} \n",
      "\n",
      "['Pakistan', 'UAE', 'USA', 'Africa', 'Computer Science'] \n",
      "\n"
     ]
    }
   ],
   "source": [
    "questions={\n",
    "  1:  { \"sno\" : 1,\n",
    "      \"question\" : \"What is your country name\",\n",
    "     \"option\" : [\"Pakistan\",\"UAE\",\"USA\",\"Africa\"],\n",
    "     \"answer\" : \"Pakistan\"\n",
    "    } ,\n",
    "        \n",
    " 2:   { \"sno\" : 2,\n",
    "      \"question\" : \"What is your city name\",\n",
    "      \"option\" : [\"Pakistan\",\"UAE\",\"USA\",\"Africa\",\"Karachi\"],\n",
    "      \"answer\" :  \"Karachi\"\n",
    "     \n",
    "    } ,\n",
    "  3:  { \"sno\" : 3,\n",
    "      \"question\" : \"What is your subject name\",\n",
    "     \"option\" : [\"Pakistan\",\"UAE\",\"USA\",\"Africa\",\"Computer Science\"],\n",
    "     \"answer\" : \"Computer Science\"\n",
    "    } \n",
    " }   \n",
    "print(questions ,\"\\n\")\n",
    "print(questions[1] ,\"\\n\")\n",
    "print(questions[3][\"option\"] ,\"\\n\")\n",
    " \n",
    " \n"
   ]
  },
  {
   "cell_type": "code",
   "execution_count": 16,
   "id": "08077639",
   "metadata": {},
   "outputs": [
    {
     "name": "stdout",
     "output_type": "stream",
     "text": [
      "{1: {'sno': 1, 'question': 'What is your country name', 'option': ['Pakistan', 'UAE', 'USA', 'Africa'], 'answer': 'Pakistan'}, 2: {'sno': 2, 'question': 'What is your city name', 'option': ['Pakistan', 'UAE', 'USA', 'Africa', 'Karachi'], 'answer': 'Karachi'}, 3: {'sno': 3, 'question': 'What is your subject name', 'option': ['Pakistan', 'UAE', 'USA', 'Africa', 'Computer Science'], 'answer': 'Computer Science'}, 4: {'sno': 4, 'question': 'What is your age', 'option': [22, 'Pakistan', 'UAE', 'USA', 'Africa', 'Computer Science'], 'answer': 22}, 'new_question': {'sno': 5, 'question': 'What is your age', 'option': [22, 'Pakistan', 'UAE', 'USA', 'Africa', 'Computer Science'], 'answer': 22}} \n",
      "\n",
      "{'sno': 1, 'question': 'What is your country name', 'option': ['Pakistan', 'UAE', 'USA', 'Africa'], 'answer': 'Pakistan'} \n",
      "\n",
      "{'sno': 2, 'question': 'What is your city name', 'option': ['Pakistan', 'UAE', 'USA', 'Africa', 'Karachi'], 'answer': 'Karachi'} \n",
      "\n",
      "{'sno': 3, 'question': 'What is your subject name', 'option': ['Pakistan', 'UAE', 'USA', 'Africa', 'Computer Science'], 'answer': 'Computer Science'} \n",
      "\n",
      "{'sno': 4, 'question': 'What is your age', 'option': [22, 'Pakistan', 'UAE', 'USA', 'Africa', 'Computer Science'], 'answer': 22} \n",
      "\n",
      "{'sno': 5, 'question': 'What is your age', 'option': [22, 'Pakistan', 'UAE', 'USA', 'Africa', 'Computer Science'], 'answer': 22} \n",
      "\n"
     ]
    }
   ],
   "source": [
    "\n",
    "questions={\n",
    "  1:  { \"sno\" : 1,\n",
    "      \"question\" : \"What is your country name\",\n",
    "     \"option\" : [\"Pakistan\",\"UAE\",\"USA\",\"Africa\"],\n",
    "     \"answer\" : \"Pakistan\"\n",
    "    } ,\n",
    "        \n",
    " 2:   { \"sno\" : 2,\n",
    "      \"question\" : \"What is your city name\",\n",
    "      \"option\" : [\"Pakistan\",\"UAE\",\"USA\",\"Africa\",\"Karachi\"],\n",
    "      \"answer\" :  \"Karachi\"\n",
    "     \n",
    "    } ,\n",
    "  3:  { \"sno\" : 3,\n",
    "      \"question\" : \"What is your subject name\",\n",
    "     \"option\" : [\"Pakistan\",\"UAE\",\"USA\",\"Africa\",\"Computer Science\"],\n",
    "     \"answer\" : \"Computer Science\"\n",
    "    } \n",
    " }   \n",
    "\n",
    "##Adding dictionary in dictionary\n",
    "questions[4]= { \"sno\" : 4,\n",
    "      \"question\" : \"What is your age\",\n",
    "     \"option\" : [22,\"Pakistan\",\"UAE\",\"USA\",\"Africa\",\"Computer Science\"],\n",
    "     \"answer\" :  22\n",
    "    } \n",
    "questions[\"new_question\"]= { \"sno\" : 5,\n",
    "      \"question\" : \"What is your age\",\n",
    "     \"option\" : [22,\"Pakistan\",\"UAE\",\"USA\",\"Africa\",\"Computer Science\"],\n",
    "     \"answer\" :  22\n",
    "    } \n",
    " \n",
    "print(questions ,\"\\n\")\n",
    "\n",
    "print(questions[1] ,\"\\n\")\n",
    "print(questions[2] ,\"\\n\")\n",
    "print(questions[3] ,\"\\n\")\n",
    "print(questions[4] ,\"\\n\")\n",
    "print(questions[\"new_question\"] ,\"\\n\")\n",
    "# print(questions[3][\"option\"][0] ,\"\\n\")    "
   ]
  },
  {
   "cell_type": "code",
   "execution_count": 19,
   "id": "6bd02d2a",
   "metadata": {},
   "outputs": [
    {
     "name": "stdout",
     "output_type": "stream",
     "text": [
      "\n",
      "1:What is your country name ?\n",
      "a) Pakistan\n",
      "b) UAE\n",
      "c) USA\n",
      "d) Africa\n",
      "e) Computer Science\n",
      "\n",
      "Your Answer is : Pakistan\n",
      "\n",
      "2:What is the capital city of Pakistan ?\n",
      "a) Islamabad\n",
      "b) Karachi\n",
      "c) Lahore\n",
      "d) Quetta\n",
      "e) Peshawar\n",
      "\n",
      "Your Answer is : Islamabad\n",
      "\n",
      "3:What is your city name  ?\n",
      "a) Islamabad\n",
      "b) Karachi\n",
      "c) Lahore\n",
      "d) Quetta\n",
      "e) Peshawar\n",
      "\n",
      "Your Answer is : Karachi\n",
      "\n",
      " your score is :  3 \n",
      "\n",
      "your percentage is :100.0\n"
     ]
    }
   ],
   "source": [
    "# quiz app using dictionary\n",
    "questions =[\n",
    "    { \"s.no\" : 1,\n",
    "      \"question\" : \"What is your country name ?\",\n",
    "     \"option\" : [\"Pakistan\",\"UAE\",\"USA\",\"Africa\",\"Computer Science\"],\n",
    "     \"answer\" :  \"Pakistan\"\n",
    "    } ,\n",
    "    { \"s.no\" : 2,\n",
    "      \"question\" : \"What is the capital city of Pakistan ?\",\n",
    "     \"option\" : [\"Islamabad\",\"Karachi\",\"Lahore\",\"Quetta\",\"Peshawar\"],\n",
    "     \"answer\" :  \"Islamabad\"\n",
    "    } ,\n",
    "    { \"s.no\" : 3,\n",
    "      \"question\" : \"What is your city name  ?\",\n",
    "     \"option\" : [\"Islamabad\",\"Karachi\",\"Lahore\",\"Quetta\",\"Peshawar\"],\n",
    "     \"answer\" :  \"Karachi\"\n",
    "    } ,\n",
    "    \n",
    "]\n",
    "score = 0\n",
    "for question in questions :\n",
    "    data =  \"\\n\" + str(question[\"s.no\"]) + \":\"  + question[\"question\"] + \"\\n\" + \"a) \" +question[\"option\"][0] + \"\\n\" + \"b) \" + question[\"option\"][1] + \"\\n\" + \"c) \" + question[\"option\"][2] + \"\\n\" + \"d) \"+ question[\"option\"][3] + \"\\n\" + \"e) \"+ question[\"option\"][4] + \"\\n\"  \n",
    "    answer = input(data +\"\\n\" +\"Your Answer is : \" )\n",
    "    \n",
    "    if answer == question[\"answer\"] :\n",
    "        score += 1\n",
    "print(\"\\n\",\"your score is : \" ,score ,\"\\n\"  )\n",
    "\n",
    "percentage = (score*100)/3\n",
    "print(\"your percentage is :\" +str(percentage))     "
   ]
  },
  {
   "cell_type": "code",
   "execution_count": null,
   "id": "50aef5cd",
   "metadata": {},
   "outputs": [],
   "source": [
    "# codesignal ,codicity ,python sample assement\n",
    "        "
   ]
  },
  {
   "cell_type": "code",
   "execution_count": 28,
   "id": "dab79f65",
   "metadata": {},
   "outputs": [
    {
     "name": "stdout",
     "output_type": "stream",
     "text": [
      "Enter the number3\n",
      "Enter the number3\n",
      "Enter the number3\n",
      "Enter the number3\n",
      "Enter the number3\n",
      "[3, 3, 3, 3, 3]\n",
      "\n",
      "Sum of numbers is : 15\n"
     ]
    }
   ],
   "source": [
    "\n",
    "list1=[]\n",
    " \n",
    "i=0\n",
    "endnum=int(input(\"Enter the range\")) \n",
    "\n",
    "for i in range (endnum):\n",
    "    numbers=int(input(\"Enter the number\"))\n",
    "    list1.append(numbers)\n",
    "    i=i+1\n",
    "print(list1) \n",
    "\n",
    "print(\"\\nSum of numbers is :\",str(sum(list1)))\n",
    "\n",
    "    \n",
    "    \n",
    " \n",
    "\n",
    "    \n",
    "    \n",
    "    \n",
    "    \n",
    "    \n",
    "    \n",
    "    \n",
    "    \n",
    "    \n",
    "    \n",
    "    \n",
    "    \n",
    "    "
   ]
  },
  {
   "cell_type": "code",
   "execution_count": null,
   "id": "8c8593d3",
   "metadata": {},
   "outputs": [],
   "source": [
    " student1={\n",
    "\n",
    "\"Name\" :\"Muhammad Mudassir Raza \",\n",
    "\"Rollno\": 17122094,\n",
    "\"Bachelor\":\"Computer Science\",\n",
    "\"Attendence\":\"present\",\n",
    "\"Marks\":\"50%\"\n",
    "\n",
    "\n",
    "}\n",
    "print(student1[\"Marks\"])\n",
    "student1[\"MARKS_ADD\"]=[40,20,20,20]\n",
    "print(student1[\"MARKS_ADD\"])"
   ]
  },
  {
   "cell_type": "code",
   "execution_count": 15,
   "id": "ba02254e",
   "metadata": {},
   "outputs": [
    {
     "name": "stdout",
     "output_type": "stream",
     "text": [
      "Enter the quizess :mid\n",
      "50\n"
     ]
    }
   ],
   "source": [
    "# 40 45 50 55\n",
    "\n",
    "student1={\n",
    "    \"quiz1\":40,\n",
    "    \"quiz2\":45,\n",
    "    \"mid\":50,\n",
    "    \"final\":55\n",
    "}\n",
    "val1=input(\"Enter the quizess :\")\n",
    "\n",
    "\n",
    "print(student1[val1])"
   ]
  },
  {
   "cell_type": "code",
   "execution_count": 33,
   "id": "d5311b2a",
   "metadata": {},
   "outputs": [
    {
     "name": "stdout",
     "output_type": "stream",
     "text": [
      "{'Name': 'Muhammad Mudassir Raza ', 'Rollno': 17122094, 'Bachelor': 'Computer Science', 'Attendence': 'present', 'Marks': {'quiz1': 40, 'quiz2': 45, 'mid': 50, 'final': 55}}\n"
     ]
    }
   ],
   "source": [
    "student_11={\n",
    "\n",
    "\"Name\" :\"Muhammad Mudassir Raza \",\n",
    "\"Rollno\": 17122094,\n",
    "\"Bachelor\":\"Computer Science\",\n",
    "\"Attendence\":\"present\",\n",
    " \n",
    "\n",
    "\n",
    "}\n",
    " \n",
    "student_11[\"Marks\"]= {\n",
    "    \"quiz1\":40,\n",
    "    \"quiz2\":45,\n",
    "    \"mid\":50,\n",
    "    \"final\":55\n",
    "}\n",
    "print(student_11)"
   ]
  },
  {
   "cell_type": "code",
   "execution_count": null,
   "id": "3db0f918",
   "metadata": {},
   "outputs": [],
   "source": [
    "exam=input(\"Enter the exam\")\n",
    "print(student_11[\"Marks\"][exam])"
   ]
  },
  {
   "cell_type": "code",
   "execution_count": null,
   "id": "86e683de",
   "metadata": {},
   "outputs": [],
   "source": [
    "# another way "
   ]
  },
  {
   "cell_type": "code",
   "execution_count": 31,
   "id": "76df85b8",
   "metadata": {},
   "outputs": [
    {
     "name": "stdout",
     "output_type": "stream",
     "text": [
      "Enter the exammid\n",
      "50\n"
     ]
    }
   ],
   "source": [
    "student_11={\n",
    "\n",
    "\"Name\" :\"Muhammad Mudassir Raza \",\n",
    "\"Rollno\": 17122094,\n",
    "\"Bachelor\":\"Computer Science\",\n",
    "\"Attendence\":\"present\",\n",
    "\"Marks\":{\"quiz1\":40,\"quiz2\":45,\"mid\":50,\"final\":55}\n",
    "    \n",
    "    \n",
    " \n",
    "\n",
    "\n",
    "}\n",
    "exam=input(\"Enter the exam\")\n",
    "print(student_11[\"Marks\"][exam])\n"
   ]
  },
  {
   "cell_type": "code",
   "execution_count": 35,
   "id": "cbc938c4",
   "metadata": {},
   "outputs": [
    {
     "name": "stdout",
     "output_type": "stream",
     "text": [
      "[{'name': 'arif', 'class_AI': {'name': 'AI', 'marks': {'quiz1': 40, 'quiz2': 45, 'mid': 50, 'final': 55}}, 'class_CNC': {'name': 'CNC', 'marks': {'quiz1': 40, 'quiz2': 45, 'mid': 50, 'final': 55}}}]\n"
     ]
    }
   ],
   "source": [
    "#10 students\n",
    "# 2 classes\n",
    "# 4 exam\n",
    "# 3 attempts allow\n",
    "# take student name and exam_name as input and show in which class the student get maximum\n",
    "\n",
    "students=[]\n",
    "class_1={\n",
    "    \"name\":\"AI\",\n",
    "    \"marks\":{\n",
    "        \"quiz1\":40,\n",
    "        \"quiz2\":45,\n",
    "        \"mid\":50,\n",
    "        \"final\":55\n",
    "         \n",
    "    }\n",
    "    \n",
    "    \n",
    "}\n",
    "\n",
    "class_2={\n",
    "    \"name\":\"CNC\",\n",
    "    \"marks\":{\n",
    "        \"quiz1\":40,\n",
    "        \"quiz2\":45,\n",
    "        \"mid\":50,\n",
    "        \"final\":55\n",
    "         \n",
    "    }\n",
    "    \n",
    "    \n",
    "}\n",
    "student_1001 ={\n",
    "    \"name\":\"arif\",\n",
    "    \"class_AI\":class_1,\n",
    "    \"class_CNC\":class_2,\n",
    "    \n",
    "}\n",
    "students.append(student_1001)\n",
    "print(students)"
   ]
  },
  {
   "cell_type": "code",
   "execution_count": 38,
   "id": "0acad27e",
   "metadata": {},
   "outputs": [
    {
     "name": "stdout",
     "output_type": "stream",
     "text": [
      "0.6\n"
     ]
    }
   ],
   "source": [
    "# brother-in-law – 30%\n",
    "# loyalty – 15%\n",
    "# volume – 10%\n",
    "# standard – 5%\n",
    "\n",
    "customer_29876 = {\n",
    " \"first name\": \"David\",\n",
    " \"last name\": \"Elliott\",\n",
    " \"address\": \"4803 Wellesley St.\",\n",
    " \"discounts\": [\"brother-in-law\",\"standard\", \"volume\", \"loyalty\"],\n",
    " }\n",
    "discount_amount=0\n",
    "if \"brother-in-law\" in customer_29876[\"discounts\"]:\n",
    "    discount_amount += .30\n",
    "if \"loyalty\" in customer_29876[\"discounts\"]:\n",
    "    discount_amount += .15\n",
    "    \n",
    "if \"volume\" in customer_29876[\"discounts\"]:\n",
    "    discount_amount += .10\n",
    "if \"standard\" in customer_29876[\"discounts\"]:\n",
    "    discount_amount += .05\n",
    "    \n",
    "    \n",
    "print(discount_amount) "
   ]
  },
  {
   "cell_type": "code",
   "execution_count": null,
   "id": "275130bb",
   "metadata": {},
   "outputs": [],
   "source": [
    " "
   ]
  },
  {
   "cell_type": "code",
   "execution_count": null,
   "id": "e16ba0f4",
   "metadata": {},
   "outputs": [],
   "source": [
    "# chap 40 resut"
   ]
  },
  {
   "cell_type": "code",
   "execution_count": 7,
   "id": "3acf70ef",
   "metadata": {},
   "outputs": [
    {
     "data": {
      "text/plain": [
       "0"
      ]
     },
     "execution_count": 7,
     "metadata": {},
     "output_type": "execute_result"
    }
   ],
   "source": [
    "a=\"animals\"\n",
    "b=a.index(\"a\")\n",
    "b"
   ]
  },
  {
   "cell_type": "code",
   "execution_count": 8,
   "id": "b94fe0b2",
   "metadata": {},
   "outputs": [
    {
     "name": "stdout",
     "output_type": "stream",
     "text": [
      "4 ['the', 'love', 'of', 'nature']\n",
      "False\n"
     ]
    }
   ],
   "source": [
    "# code signal\n",
    "a=\"the love of nature\"\n",
    "word_list=a.split()\n",
    "print(len(word_list),word_list)\n",
    "print('call' in word_list)"
   ]
  },
  {
   "cell_type": "code",
   "execution_count": 13,
   "id": "f9874111",
   "metadata": {},
   "outputs": [],
   "source": [
    "empty_dic = {}\n",
    "alist = [1,2,3,4,5]\n",
    "aset= {22,33,44,55}\n",
    "atuple =(90,100)\n",
    "astring=\"Saylani Mass IT Training\""
   ]
  },
  {
   "cell_type": "code",
   "execution_count": 14,
   "id": "32dac4c2",
   "metadata": {},
   "outputs": [
    {
     "name": "stdout",
     "output_type": "stream",
     "text": [
      "0 5 4 2 24\n"
     ]
    }
   ],
   "source": [
    "print(len(empty_dic),len(alist),len(aset),len(atuple),len(astring))"
   ]
  },
  {
   "cell_type": "markdown",
   "id": "b51cdd99",
   "metadata": {},
   "source": [
    "## Operation: create, add, update, delete,retrieve (CRUD)  (Again practice)"
   ]
  },
  {
   "cell_type": "code",
   "execution_count": 10,
   "id": "2434cda6",
   "metadata": {},
   "outputs": [],
   "source": [
    "#Create\n",
    "adic = {\"name\": \"Kamran\", \"age\":29}\n",
    "       #  key :  Value     key:value "
   ]
  },
  {
   "cell_type": "code",
   "execution_count": 15,
   "id": "df099973",
   "metadata": {},
   "outputs": [],
   "source": [
    "# add\n",
    "adic['city']= \"Karachi\""
   ]
  },
  {
   "cell_type": "code",
   "execution_count": 17,
   "id": "1d378eb0",
   "metadata": {},
   "outputs": [
    {
     "data": {
      "text/plain": [
       "{'name': 'Kamran', 'age': 29, 'city': 'Karachi'}"
      ]
     },
     "execution_count": 17,
     "metadata": {},
     "output_type": "execute_result"
    }
   ],
   "source": [
    "adic\n"
   ]
  },
  {
   "cell_type": "code",
   "execution_count": 18,
   "id": "e945c7a2",
   "metadata": {},
   "outputs": [
    {
     "data": {
      "text/plain": [
       "{'name': 'Kamran', 'age': 25, 'city': 'Karachi'}"
      ]
     },
     "execution_count": 18,
     "metadata": {},
     "output_type": "execute_result"
    }
   ],
   "source": [
    "# update\n",
    "adic['age']=25\n",
    "adic"
   ]
  },
  {
   "cell_type": "code",
   "execution_count": 19,
   "id": "0a89939c",
   "metadata": {},
   "outputs": [
    {
     "data": {
      "text/plain": [
       "'Kamran'"
      ]
     },
     "execution_count": 19,
     "metadata": {},
     "output_type": "execute_result"
    }
   ],
   "source": [
    "# retrieve\n",
    "adic['name']"
   ]
  },
  {
   "cell_type": "code",
   "execution_count": 20,
   "id": "90592699",
   "metadata": {},
   "outputs": [
    {
     "data": {
      "text/plain": [
       "'Kamran'"
      ]
     },
     "execution_count": 20,
     "metadata": {},
     "output_type": "execute_result"
    }
   ],
   "source": [
    "# another way to get value of key\n",
    "adic.get('name')"
   ]
  },
  {
   "cell_type": "code",
   "execution_count": 21,
   "id": "dfea5aae",
   "metadata": {},
   "outputs": [],
   "source": [
    "#delete\n",
    "del adic['city']"
   ]
  },
  {
   "cell_type": "code",
   "execution_count": 22,
   "id": "fc987cf7",
   "metadata": {},
   "outputs": [
    {
     "data": {
      "text/plain": [
       "{'name': 'Kamran', 'age': 25}"
      ]
     },
     "execution_count": 22,
     "metadata": {},
     "output_type": "execute_result"
    }
   ],
   "source": [
    "adic"
   ]
  },
  {
   "cell_type": "code",
   "execution_count": 23,
   "id": "012928a4",
   "metadata": {},
   "outputs": [],
   "source": [
    "roll_1 = {\"name\":\"Asad\",\"father_name\":\"Nasir\", \"Course\":\"Python\", \"Class_time\":\"9 to 11\" }"
   ]
  },
  {
   "cell_type": "code",
   "execution_count": 24,
   "id": "c7660781",
   "metadata": {},
   "outputs": [
    {
     "name": "stdout",
     "output_type": "stream",
     "text": [
      "name\n",
      "father_name\n",
      "Course\n",
      "Class_time\n"
     ]
    }
   ],
   "source": [
    "# iterating a dictionary\n",
    "for dic_value in roll_1:\n",
    "    print(dic_value)\n",
    "    \n",
    "# if we directly iterate over a dictionary it will return only the KEYS"
   ]
  },
  {
   "cell_type": "code",
   "execution_count": 25,
   "id": "7bb8faab",
   "metadata": {},
   "outputs": [
    {
     "name": "stdout",
     "output_type": "stream",
     "text": [
      "name\n",
      "father_name\n",
      "Course\n",
      "Class_time\n"
     ]
    }
   ],
   "source": [
    "for keys in roll_1.keys():\n",
    "    print(keys)"
   ]
  },
  {
   "cell_type": "code",
   "execution_count": 26,
   "id": "22bd60a5",
   "metadata": {},
   "outputs": [
    {
     "name": "stdout",
     "output_type": "stream",
     "text": [
      "Asad\n",
      "Nasir\n",
      "Python\n",
      "9 to 11\n"
     ]
    }
   ],
   "source": [
    "for value in roll_1.values():\n",
    "    print(value)"
   ]
  },
  {
   "cell_type": "code",
   "execution_count": 27,
   "id": "07f496c3",
   "metadata": {},
   "outputs": [
    {
     "name": "stdout",
     "output_type": "stream",
     "text": [
      "The keys is name and the value is Asad\n",
      "The keys is father_name and the value is Nasir\n",
      "The keys is Course and the value is Python\n",
      "The keys is Class_time and the value is 9 to 11\n"
     ]
    }
   ],
   "source": [
    "# RETRIVING ALL VALUES VIA KEY\n",
    "for keys in roll_1.keys():\n",
    "    print(f\"The keys is {keys} and the value is {roll_1[keys]}\")\n",
    "    "
   ]
  },
  {
   "cell_type": "code",
   "execution_count": 28,
   "id": "5606eeb1",
   "metadata": {},
   "outputs": [
    {
     "name": "stdout",
     "output_type": "stream",
     "text": [
      "('name', 'Asad')\n",
      "('father_name', 'Nasir')\n",
      "('Course', 'Python')\n",
      "('Class_time', '9 to 11')\n"
     ]
    }
   ],
   "source": [
    "# getting key value together from dic \n",
    "for xyz in roll_1.items():\n",
    "    print(xyz)"
   ]
  },
  {
   "cell_type": "code",
   "execution_count": 30,
   "id": "6e24d6b3",
   "metadata": {},
   "outputs": [
    {
     "name": "stdout",
     "output_type": "stream",
     "text": [
      "Key:name  and    Value:Asad\n",
      "Key:father_name  and    Value:Nasir\n",
      "Key:Course  and    Value:Python\n",
      "Key:Class_time  and    Value:9 to 11\n"
     ]
    }
   ],
   "source": [
    "for key,value in roll_1.items():\n",
    "    print(f\"Key:{key}  and    Value:{value}\")"
   ]
  },
  {
   "cell_type": "code",
   "execution_count": 31,
   "id": "8ffae18e",
   "metadata": {},
   "outputs": [
    {
     "data": {
      "text/plain": [
       "{'name': 'Asad',\n",
       " 'father_name': 'Nasir',\n",
       " 'Course': 'Python',\n",
       " 'Class_time': '9 to 11'}"
      ]
     },
     "execution_count": 31,
     "metadata": {},
     "output_type": "execute_result"
    }
   ],
   "source": [
    "roll_1"
   ]
  },
  {
   "cell_type": "code",
   "execution_count": 32,
   "id": "a981b8b8",
   "metadata": {},
   "outputs": [],
   "source": [
    "# a Key can be a str or int\n",
    "# a value can be a str , int, list , tuple, set , dic, boolean  \n",
    "\n",
    "miscDic = {1:100, 2:200}"
   ]
  },
  {
   "cell_type": "code",
   "execution_count": 33,
   "id": "349ffaa3",
   "metadata": {},
   "outputs": [
    {
     "data": {
      "text/plain": [
       "{1: 100, 2: 200}"
      ]
     },
     "execution_count": 33,
     "metadata": {},
     "output_type": "execute_result"
    }
   ],
   "source": [
    "miscDic"
   ]
  },
  {
   "cell_type": "code",
   "execution_count": 34,
   "id": "567caff0",
   "metadata": {},
   "outputs": [],
   "source": [
    "miscDic['three']=300"
   ]
  },
  {
   "cell_type": "code",
   "execution_count": 35,
   "id": "a3898b51",
   "metadata": {},
   "outputs": [
    {
     "data": {
      "text/plain": [
       "{1: 100, 2: 200, 'three': 300}"
      ]
     },
     "execution_count": 35,
     "metadata": {},
     "output_type": "execute_result"
    }
   ],
   "source": [
    "miscDic"
   ]
  },
  {
   "cell_type": "code",
   "execution_count": 36,
   "id": "939a8093",
   "metadata": {},
   "outputs": [
    {
     "data": {
      "text/plain": [
       "{1: 100, 2: 200, 'three': 300, 4: 'Four Hundred'}"
      ]
     },
     "execution_count": 36,
     "metadata": {},
     "output_type": "execute_result"
    }
   ],
   "source": [
    "miscDic[4]=\"Four Hundred\"\n",
    "miscDic"
   ]
  },
  {
   "cell_type": "code",
   "execution_count": 37,
   "id": "9b6370c2",
   "metadata": {},
   "outputs": [
    {
     "data": {
      "text/plain": [
       "{1: 100, 2: 200, 'three': 300, 4: 'Four Hundred', 'test': False}"
      ]
     },
     "execution_count": 37,
     "metadata": {},
     "output_type": "execute_result"
    }
   ],
   "source": [
    "miscDic['test']=False\n",
    "miscDic"
   ]
  },
  {
   "cell_type": "markdown",
   "id": "d64955da",
   "metadata": {},
   "source": [
    "# A list in a Dictionary"
   ]
  },
  {
   "cell_type": "code",
   "execution_count": 39,
   "id": "3696c764",
   "metadata": {},
   "outputs": [],
   "source": [
    "class_python = {'Students':['Asad',\"Fahad\",'Hassan', 'Nasir', 'Karim', 'Rehan']\n",
    "               , 'Courses':['Python', \"GD\", \"WEb\", \"Networking\", 'ChatBot','Python']\n",
    "               , 'Day'    :['MOnday', 'Tuesday', 'Wednesday', 'Thursday', 'Friday', 'Sarturday']\n",
    "                , 'Ages'  :[34,56,34,23,19,20]\n",
    "               }"
   ]
  },
  {
   "cell_type": "code",
   "execution_count": 40,
   "id": "c0a8628a",
   "metadata": {},
   "outputs": [
    {
     "data": {
      "text/plain": [
       "{'Students': ['Asad', 'Fahad', 'Hassan', 'Nasir', 'Karim', 'Rehan'],\n",
       " 'Courses': ['Python', 'GD', 'WEb', 'Networking', 'ChatBot', 'Python'],\n",
       " 'Day': ['MOnday', 'Tuesday', 'Wednesday', 'Thursday', 'Friday', 'Sarturday'],\n",
       " 'Ages': [34, 56, 34, 23, 19, 20]}"
      ]
     },
     "execution_count": 40,
     "metadata": {},
     "output_type": "execute_result"
    }
   ],
   "source": [
    "class_python"
   ]
  },
  {
   "cell_type": "code",
   "execution_count": 41,
   "id": "753c13f2",
   "metadata": {},
   "outputs": [
    {
     "name": "stdout",
     "output_type": "stream",
     "text": [
      "['Asad', 'Fahad', 'Hassan', 'Nasir', 'Karim', 'Rehan']\n",
      "['Python', 'GD', 'WEb', 'Networking', 'ChatBot', 'Python']\n",
      "['MOnday', 'Tuesday', 'Wednesday', 'Thursday', 'Friday', 'Sarturday']\n",
      "[34, 56, 34, 23, 19, 20]\n"
     ]
    }
   ],
   "source": [
    "for key,value in class_python.items():\n",
    "    print(value)"
   ]
  },
  {
   "cell_type": "code",
   "execution_count": 42,
   "id": "f340ae48",
   "metadata": {},
   "outputs": [
    {
     "name": "stdout",
     "output_type": "stream",
     "text": [
      "Asad\n",
      "Python\n",
      "MOnday\n",
      "34\n"
     ]
    }
   ],
   "source": [
    "# get single a student record\n",
    "for key,value in class_python.items():\n",
    "    print(value[0])"
   ]
  },
  {
   "cell_type": "code",
   "execution_count": 43,
   "id": "c0861714",
   "metadata": {},
   "outputs": [],
   "source": [
    "import pandas"
   ]
  },
  {
   "cell_type": "code",
   "execution_count": 44,
   "id": "61d2f50a",
   "metadata": {},
   "outputs": [
    {
     "data": {
      "text/html": [
       "<div>\n",
       "<style scoped>\n",
       "    .dataframe tbody tr th:only-of-type {\n",
       "        vertical-align: middle;\n",
       "    }\n",
       "\n",
       "    .dataframe tbody tr th {\n",
       "        vertical-align: top;\n",
       "    }\n",
       "\n",
       "    .dataframe thead th {\n",
       "        text-align: right;\n",
       "    }\n",
       "</style>\n",
       "<table border=\"1\" class=\"dataframe\">\n",
       "  <thead>\n",
       "    <tr style=\"text-align: right;\">\n",
       "      <th></th>\n",
       "      <th>Students</th>\n",
       "      <th>Courses</th>\n",
       "      <th>Day</th>\n",
       "      <th>Ages</th>\n",
       "    </tr>\n",
       "  </thead>\n",
       "  <tbody>\n",
       "    <tr>\n",
       "      <th>0</th>\n",
       "      <td>Asad</td>\n",
       "      <td>Python</td>\n",
       "      <td>MOnday</td>\n",
       "      <td>34</td>\n",
       "    </tr>\n",
       "    <tr>\n",
       "      <th>1</th>\n",
       "      <td>Fahad</td>\n",
       "      <td>GD</td>\n",
       "      <td>Tuesday</td>\n",
       "      <td>56</td>\n",
       "    </tr>\n",
       "    <tr>\n",
       "      <th>2</th>\n",
       "      <td>Hassan</td>\n",
       "      <td>WEb</td>\n",
       "      <td>Wednesday</td>\n",
       "      <td>34</td>\n",
       "    </tr>\n",
       "    <tr>\n",
       "      <th>3</th>\n",
       "      <td>Nasir</td>\n",
       "      <td>Networking</td>\n",
       "      <td>Thursday</td>\n",
       "      <td>23</td>\n",
       "    </tr>\n",
       "    <tr>\n",
       "      <th>4</th>\n",
       "      <td>Karim</td>\n",
       "      <td>ChatBot</td>\n",
       "      <td>Friday</td>\n",
       "      <td>19</td>\n",
       "    </tr>\n",
       "    <tr>\n",
       "      <th>5</th>\n",
       "      <td>Rehan</td>\n",
       "      <td>Python</td>\n",
       "      <td>Sarturday</td>\n",
       "      <td>20</td>\n",
       "    </tr>\n",
       "  </tbody>\n",
       "</table>\n",
       "</div>"
      ],
      "text/plain": [
       "  Students     Courses        Day  Ages\n",
       "0     Asad      Python     MOnday    34\n",
       "1    Fahad          GD    Tuesday    56\n",
       "2   Hassan         WEb  Wednesday    34\n",
       "3    Nasir  Networking   Thursday    23\n",
       "4    Karim     ChatBot     Friday    19\n",
       "5    Rehan      Python  Sarturday    20"
      ]
     },
     "execution_count": 44,
     "metadata": {},
     "output_type": "execute_result"
    }
   ],
   "source": [
    "pandas.DataFrame(class_python)"
   ]
  },
  {
   "cell_type": "code",
   "execution_count": 45,
   "id": "ffdff9b4",
   "metadata": {},
   "outputs": [
    {
     "data": {
      "text/plain": [
       "{'Students': ['Asad', 'Fahad', 'Hassan', 'Nasir', 'Karim', 'Rehan'],\n",
       " 'Courses': ['Python', 'GD', 'WEb', 'Networking', 'ChatBot', 'Python'],\n",
       " 'Day': ['MOnday', 'Tuesday', 'Wednesday', 'Thursday', 'Friday', 'Sarturday'],\n",
       " 'Ages': [34, 56, 34, 23, 19, 20]}"
      ]
     },
     "execution_count": 45,
     "metadata": {},
     "output_type": "execute_result"
    }
   ],
   "source": [
    "class_python"
   ]
  },
  {
   "cell_type": "code",
   "execution_count": 46,
   "id": "64fabed1",
   "metadata": {},
   "outputs": [
    {
     "data": {
      "text/plain": [
       "['Python', 'GD', 'WEb', 'Networking', 'ChatBot', 'Python']"
      ]
     },
     "execution_count": 46,
     "metadata": {},
     "output_type": "execute_result"
    }
   ],
   "source": [
    "class_python['Courses']"
   ]
  },
  {
   "cell_type": "code",
   "execution_count": 47,
   "id": "0a9bdd00",
   "metadata": {},
   "outputs": [],
   "source": [
    "a = ['Python', 'GD', 'WEb', 'Networking', 'ChatBot', 'Python']"
   ]
  },
  {
   "cell_type": "code",
   "execution_count": 48,
   "id": "cf9b0755",
   "metadata": {},
   "outputs": [
    {
     "name": "stdout",
     "output_type": "stream",
     "text": [
      "True\n"
     ]
    }
   ],
   "source": [
    "for name in a:\n",
    "    if name==\"ChatBot\":\n",
    "        print(\"True\")\n",
    "        break\n",
    "    "
   ]
  },
  {
   "cell_type": "markdown",
   "id": "599cc3ae",
   "metadata": {},
   "source": [
    "## Keyword \" in \""
   ]
  },
  {
   "cell_type": "code",
   "execution_count": 56,
   "id": "c73166eb",
   "metadata": {},
   "outputs": [
    {
     "name": "stdout",
     "output_type": "stream",
     "text": [
      "['Python', 'GD', 'WEb', 'Networking', 'ChatBot', 'Python']\n",
      "['Python', 'GD', 'WEb', 'Networking', 'ChatBot', 'Python']\n"
     ]
    },
    {
     "data": {
      "text/plain": [
       "['Python', 'GD', 'WEb', 'Networking', 'ChatBot', 'Python']"
      ]
     },
     "execution_count": 56,
     "metadata": {},
     "output_type": "execute_result"
    }
   ],
   "source": [
    "# pass by value\n",
    "b = a.copy()\n",
    "print(b)\n",
    "c = a[:]\n",
    "print(c)\n",
    "# pass by reference\n",
    "d = c\n",
    "d"
   ]
  },
  {
   "cell_type": "code",
   "execution_count": 51,
   "id": "70d06b7d",
   "metadata": {},
   "outputs": [],
   "source": [
    "if type(a)=='list':\n",
    "    b=a.copy()\n"
   ]
  },
  {
   "cell_type": "code",
   "execution_count": 57,
   "id": "bbb9b267",
   "metadata": {},
   "outputs": [
    {
     "data": {
      "text/plain": [
       "True"
      ]
     },
     "execution_count": 57,
     "metadata": {},
     "output_type": "execute_result"
    }
   ],
   "source": [
    "d is c"
   ]
  },
  {
   "cell_type": "code",
   "execution_count": 58,
   "id": "0cbe6c44",
   "metadata": {},
   "outputs": [],
   "source": [
    "z= 100\n",
    "x = z\n",
    "y =100"
   ]
  },
  {
   "cell_type": "code",
   "execution_count": 59,
   "id": "a44227a9",
   "metadata": {},
   "outputs": [
    {
     "data": {
      "text/plain": [
       "True"
      ]
     },
     "execution_count": 59,
     "metadata": {},
     "output_type": "execute_result"
    }
   ],
   "source": [
    "z is x\n",
    "\n"
   ]
  },
  {
   "cell_type": "code",
   "execution_count": 60,
   "id": "fff0d739",
   "metadata": {},
   "outputs": [
    {
     "data": {
      "text/plain": [
       "True"
      ]
     },
     "execution_count": 60,
     "metadata": {},
     "output_type": "execute_result"
    }
   ],
   "source": [
    "y is z"
   ]
  },
  {
   "cell_type": "code",
   "execution_count": 61,
   "id": "61bab243",
   "metadata": {},
   "outputs": [
    {
     "data": {
      "text/plain": [
       "'WEb'"
      ]
     },
     "execution_count": 61,
     "metadata": {},
     "output_type": "execute_result"
    }
   ],
   "source": [
    "class_python['Courses'][2]"
   ]
  },
  {
   "cell_type": "code",
   "execution_count": 62,
   "id": "94bcdd2a",
   "metadata": {},
   "outputs": [
    {
     "data": {
      "text/plain": [
       "{'Students': ['Asad', 'Fahad', 'Hassan', 'Nasir', 'Karim', 'Rehan'],\n",
       " 'Courses': ['Python', 'GD', 'WEb', 'Networking', 'ChatBot', 'Python'],\n",
       " 'Day': ['MOnday', 'Tuesday', 'Wednesday', 'Thursday', 'Friday', 'Sarturday'],\n",
       " 'Ages': [34, 56, 34, 23, 19, 20]}"
      ]
     },
     "execution_count": 62,
     "metadata": {},
     "output_type": "execute_result"
    }
   ],
   "source": [
    "class_python"
   ]
  },
  {
   "cell_type": "code",
   "execution_count": 63,
   "id": "4d2a7cef",
   "metadata": {},
   "outputs": [
    {
     "name": "stdout",
     "output_type": "stream",
     "text": [
      "There is no 'Courss' key\n"
     ]
    }
   ],
   "source": [
    "for key in class_python:\n",
    "    if key=='Courses':\n",
    "        for course in class_python[key]:\n",
    "            print(course)\n",
    "    else:\n",
    "        print(\"There is no 'Courss' key\")\n",
    "        break"
   ]
  },
  {
   "cell_type": "code",
   "execution_count": 64,
   "id": "cde80c87",
   "metadata": {},
   "outputs": [
    {
     "name": "stdout",
     "output_type": "stream",
     "text": [
      "Python\n",
      "GD\n",
      "WEb\n",
      "Networking\n",
      "ChatBot\n",
      "Python\n"
     ]
    }
   ],
   "source": [
    "for key in class_python['Courses']:\n",
    "    print(key)"
   ]
  },
  {
   "cell_type": "code",
   "execution_count": 65,
   "id": "aaab714b",
   "metadata": {},
   "outputs": [
    {
     "data": {
      "text/plain": [
       "{'Students': ['Asad', 'Fahad', 'Hassan', 'Nasir', 'Karim', 'Rehan'],\n",
       " 'Courses': ['Python', 'GD', 'WEb', 'Networking', 'ChatBot', 'Python'],\n",
       " 'Day': ['MOnday', 'Tuesday', 'Wednesday', 'Thursday', 'Friday', 'Sarturday'],\n",
       " 'Ages': [34, 56, 34, 23, 19, 20]}"
      ]
     },
     "execution_count": 65,
     "metadata": {},
     "output_type": "execute_result"
    }
   ],
   "source": [
    "class_python"
   ]
  },
  {
   "cell_type": "code",
   "execution_count": 66,
   "id": "2f028d96",
   "metadata": {},
   "outputs": [
    {
     "data": {
      "text/plain": [
       "23"
      ]
     },
     "execution_count": 66,
     "metadata": {},
     "output_type": "execute_result"
    }
   ],
   "source": [
    "class_python['Ages'][3]"
   ]
  },
  {
   "cell_type": "code",
   "execution_count": null,
   "id": "d9507ed3",
   "metadata": {},
   "outputs": [],
   "source": []
  }
 ],
 "metadata": {
  "kernelspec": {
   "display_name": "Python 3 (ipykernel)",
   "language": "python",
   "name": "python3"
  },
  "language_info": {
   "codemirror_mode": {
    "name": "ipython",
    "version": 3
   },
   "file_extension": ".py",
   "mimetype": "text/x-python",
   "name": "python",
   "nbconvert_exporter": "python",
   "pygments_lexer": "ipython3",
   "version": "3.9.12"
  }
 },
 "nbformat": 4,
 "nbformat_minor": 5
}
