{
 "cells": [
  {
   "cell_type": "code",
   "execution_count": 3,
   "id": "c0d201c6",
   "metadata": {},
   "outputs": [
    {
     "ename": "SyntaxError",
     "evalue": "invalid syntax (2566781470.py, line 2)",
     "output_type": "error",
     "traceback": [
      "\u001b[1;36m  Input \u001b[1;32mIn [3]\u001b[1;36m\u001b[0m\n\u001b[1;33m    def add_numbers(2,second_number = 4):\u001b[0m\n\u001b[1;37m                    ^\u001b[0m\n\u001b[1;31mSyntaxError\u001b[0m\u001b[1;31m:\u001b[0m invalid syntax\n"
     ]
    }
   ],
   "source": [
    "#first argument is position argument, second argument is keyword argument\n",
    "def add_numbers(2,second_number = 4):\n",
    "    total = num1 + second_number\n",
    "    print(total)    \n",
    "add_numbers()    "
   ]
  },
  {
   "cell_type": "code",
   "execution_count": 4,
   "id": "5eb2e58d",
   "metadata": {},
   "outputs": [
    {
     "name": "stdout",
     "output_type": "stream",
     "text": [
      "6\n"
     ]
    }
   ],
   "source": [
    "\n",
    "def add_numbers(first_number=2,second_number=4):\n",
    "    total = first_number  + second_number\n",
    "    print(total)   \n",
    "\n",
    "add_numbers() "
   ]
  },
  {
   "cell_type": "code",
   "execution_count": null,
   "id": "d1cae0b5",
   "metadata": {},
   "outputs": [],
   "source": []
  }
 ],
 "metadata": {
  "kernelspec": {
   "display_name": "Python 3 (ipykernel)",
   "language": "python",
   "name": "python3"
  },
  "language_info": {
   "codemirror_mode": {
    "name": "ipython",
    "version": 3
   },
   "file_extension": ".py",
   "mimetype": "text/x-python",
   "name": "python",
   "nbconvert_exporter": "python",
   "pygments_lexer": "ipython3",
   "version": "3.9.12"
  }
 },
 "nbformat": 4,
 "nbformat_minor": 5
}
