{
 "cells": [
  {
   "cell_type": "code",
   "execution_count": 9,
   "id": "97886d4e",
   "metadata": {},
   "outputs": [
    {
     "name": "stdout",
     "output_type": "stream",
     "text": [
      "Friend : 0 raza city :  karachi distances:  1\n",
      "Friend : 1 ali city :  hyderabad distances:  3\n",
      "Friend : 2 fahad city :  shikarpor distances:  5\n",
      "Friend : 3 hassan city :  lahore distances:  8\n",
      "Friend : 4 ahsan city :  islamabad distances:  10\n",
      "Friend : 5 tauqeer city :  peshawar distances:  12\n"
     ]
    }
   ],
   "source": [
    "#6 friends\n",
    "# 6 cities\n",
    "#disttnace\n",
    "friends=[\"raza\",\"ali\",\"fahad\",\"hassan\",\"ahsan\",\"tauqeer\"]\n",
    "cities=[\"karachi\",\"hyderabad\",\"shikarpor\",\"lahore\",\"islamabad\",\"peshawar\"]\n",
    "distances=[1,3,5,8,10,12]\n",
    "\n",
    "\n",
    "\n",
    "# friends=input(\"Enter the name \")\n",
    "# loc=friends.index(friends)\n",
    "# city=cities[loc]\n",
    "# distance=distances[loc]\n",
    "# print(\"Friends :\",friends,\"city :\",city,\"relationsihps:\",distance)\n",
    "\n",
    "\n",
    "for num,detail in enumerate(friends):\n",
    "    print(\"Friend :\",num,friends[num],\"city : \",cities[num],\"distances: \",distances[num])\n",
    "    \n",
    "\n",
    "# names=['arif','kamran','samran','asad','imran','sameer','nasir','rafeeq','rasheed','fareed']\n",
    "# print(\"\\nName List For Finding Age And Marks :\\n\")\n",
    "# for i, name in enumerate(names):\n",
    "#     print(i+1,\")\",name)\n",
    "    \n",
    "    \n",
    "# Student_name=input(\"\\nEnter name from above list to find age and marks :  \")\n",
    "# ##For location\n",
    "# loc=names.index(Student_name)\n",
    "# # print(loc)\n",
    "# age=[15.6,16.7,15.8,14.9,16.0,15.1,15.2,14.3,15.4,15.5]\n",
    "# loc1=age[loc]\n",
    "# marks=[70,80,90,60,65,67,68,80,96,97]\n",
    "\n",
    "# loc2=marks[loc]\n",
    "\n",
    "# print(\"\\n\",\"The Student Name is \",Student_name,\"\\n\",\"The Student Age is \", loc1 , \"\\n\",\"The Students Marks\",loc2)\n",
    "\n"
   ]
  },
  {
   "cell_type": "code",
   "execution_count": 21,
   "id": "87dd1d69",
   "metadata": {},
   "outputs": [
    {
     "name": "stdout",
     "output_type": "stream",
     "text": [
      "0 Friend name : raza \n",
      " City name : karachi \n",
      " Distances : 1 \n",
      "\n",
      "1 Friend name : ali \n",
      " City name : hyderabad \n",
      " Distances : 3 \n",
      "\n",
      "2 Friend name : fahad \n",
      " City name : shikarpor \n",
      " Distances : 5 \n",
      "\n",
      "3 Friend name : hassan \n",
      " City name : lahore \n",
      " Distances : 8 \n",
      "\n",
      "4 Friend name : ahsan \n",
      " City name : islamabad \n",
      " Distances : 10 \n",
      "\n",
      "5 Friend name : tauqeer \n",
      " City name : peshawar \n",
      " Distances : 12 \n",
      "\n"
     ]
    }
   ],
   "source": [
    "data=[[\"raza\",\"karachi\",1],[\"ali\",\"hyderabad\",3],[\"fahad\",\"shikarpor\",5],[\"hassan\",\"lahore\",8],[\"ahsan\",\"islamabad\",10],\n",
    "      [\"tauqeer\",\"peshawar\",12]]\n",
    "# friends=[\"raza\",\"ali\",\"fahad\",\"hassan\",\"ahsan\",\"tauqeer\"]\n",
    "# cities=[\"karachi\",\"hyderabad\",\"shikarpor\",\"lahore\",\"islamabad\",\"peshawar\"]\n",
    "# distances=[1,3,5,8,10,12]\n",
    "\n",
    "for num ,details in enumerate(data):\n",
    "    print(num ,\"Friend name :\",data[num][0],\"\\n\",\"City name :\",data[num][1],\"\\n\",\"Distances :\",data[num][2],\"\\n\")\n",
    "\n",
    "for x in data:\n",
    "    print(x)B"
   ]
  },
  {
   "cell_type": "code",
   "execution_count": 4,
   "id": "56c31275",
   "metadata": {},
   "outputs": [
    {
     "name": "stdout",
     "output_type": "stream",
     "text": [
      "Friend name : raza \n",
      " City name : karachi \n",
      " Distances : 1 \n",
      "\n",
      "Friend name : ali \n",
      " City name : hyderabad \n",
      " Distances : 3 \n",
      "\n",
      "Friend name : fahad \n",
      " City name : shikarpor \n",
      " Distances : 5 \n",
      "\n",
      "Friend name : hassan \n",
      " City name : lahore \n",
      " Distances : 8 \n",
      "\n",
      "Friend name : ahsan \n",
      " City name : islamabad \n",
      " Distances : 10 \n",
      "\n",
      "Friend name : tauqeer \n",
      " City name : peshawar \n",
      " Distances : 12 \n",
      "\n"
     ]
    }
   ],
   "source": [
    "data=[[\"raza\",\"karachi\",1],[\"ali\",\"hyderabad\",3],[\"fahad\",\"shikarpor\",5],[\"hassan\",\"lahore\",8],[\"ahsan\",\"islamabad\",10],\n",
    "      [\"tauqeer\",\"peshawar\",12]]\n",
    "# friends=[\"raza\",\"ali\",\"fahad\",\"hassan\",\"ahsan\",\"tauqeer\"]\n",
    "# cities=[\"karachi\",\"hyderabad\",\"shikarpor\",\"lahore\",\"islamabad\",\"peshawar\"]\n",
    "# distances=[1,3,5,8,10,12]\n",
    "\n",
    "# for num ,details in enumerate(data):\n",
    "#     print(num ,\"Friend name :\",data[num][0],\"\\n\",\"City name :\",data[num][1],\"\\n\",\"Distances :\",data[num][2],\"\\n\")\n",
    "\n",
    "for x in data:\n",
    "    print(\"Friend name :\", x[0],\"\\n\",\"City name :\",x[1],\"\\n\",\"Distances :\", x[2],\"\\n\")"
   ]
  },
  {
   "cell_type": "code",
   "execution_count": 1,
   "id": "ea8d2bc8",
   "metadata": {},
   "outputs": [
    {
     "name": "stdout",
     "output_type": "stream",
     "text": [
      "valid sorting\n"
     ]
    }
   ],
   "source": [
    "data=[\"Arif\",\"Hyderabad\",2,1,\"Raza\",\"shikarpor\",5,0,\"kamran\",\"sukkar\",5,0,\"hamaza\",\"Multan\",8,10,\"zameer\",\"lahore\",13,1,\n",
    "      \"imran\",\"rawalpindi\",21,2]\n",
    "\n",
    "# sort the distance wise\n",
    "dist=1\n",
    "index=2\n",
    "\n",
    "# for dataa in data :\n",
    "if data[index] > dist:\n",
    "    print(\"valid sorting\")\n",
    "    dist=data[2]\n",
    "    index+=4    \n",
    "else:\n",
    "    print(\"Invalid sorting\")    \n",
    "    \n",
    " \n"
   ]
  },
  {
   "cell_type": "code",
   "execution_count": 5,
   "id": "e0c5250e",
   "metadata": {},
   "outputs": [
    {
     "data": {
      "text/plain": [
       "'\\nfiver learn \\npython developer\\npython coding\\npython task\\n\\npython assignment\\npython coding\\npython task\\n\\nTitle :\\n\\nI will give you solution related to python program\\n\\nbeing guru .com 7rangi formula\\n\\naws ,cloud\\n\\nfreelancer bot \\nfreelancer.com\\n\\n\\nbark \\nleads dega (number)\\n\\nfor us client calling\\ntextnow.com\\n\\ncalling script for website\\n\\n\\ncontent copy from upwork for fiverr\\n\\n\\n\\n'"
      ]
     },
     "execution_count": 5,
     "metadata": {},
     "output_type": "execute_result"
    }
   ],
   "source": [
    "# temperay level email\n",
    "#keywords \n",
    "\n",
    "\"\"\"\n",
    "fiver learn \n",
    "python developer\n",
    "python coding\n",
    "python task\n",
    "\n",
    "python assignment\n",
    "python coding\n",
    "python task\n",
    "\n",
    "Title :\n",
    "\n",
    "I will give you solution related to python program\n",
    "\n",
    "being guru .com 7rangi formula\n",
    "\n",
    "aws ,cloud\n",
    "\n",
    "freelancer bot \n",
    "freelancer.com\n",
    "\n",
    "\n",
    "bark \n",
    "leads dega (number)\n",
    "\n",
    "for us client calling\n",
    "textnow.com\n",
    "\n",
    "calling script for website\n",
    "\n",
    "\n",
    "content copy from upwork for fiverr\n",
    "\n",
    "\n",
    "\n",
    "\"\"\""
   ]
  },
  {
   "cell_type": "code",
   "execution_count": 6,
   "id": "a010457d",
   "metadata": {},
   "outputs": [],
   "source": [
    "#MySQL database (driver and connector)"
   ]
  },
  {
   "cell_type": "code",
   "execution_count": null,
   "id": "11e24d68",
   "metadata": {},
   "outputs": [],
   "source": [
    "recepies={\n",
    "\n",
    "    \"recipy\":{\"name\":\"sindhi biryani\", \n",
    "\n",
    "      \n",
    "    \"no of servings\":4,\n",
    "    \"ingredents\":{\n",
    "        \"oil\":\"500ml\",\n",
    "        \"Rice\":\"2kg\",\n",
    "        \"onion\":\"200g\",\n",
    "        \"Beaf\":\"1.5kg\",\n",
    "        \"Dhania\":\"50g\",\n",
    "        \"podina\":\"250g\",\n",
    "    \n",
    "    },\n",
    "    \"cooking_method\":{\"steps\":[\"steps1\",\"steps2\",\"steps3\",\"steps4\",\"steps5\",\"steps6\",\"steps7\",\"steps8\",\"steps9\",\"steps10\"],\n",
    "    \n",
    "\n",
    "    },\n",
    "    } ,\n",
    "}\n"
   ]
  },
  {
   "cell_type": "code",
   "execution_count": 7,
   "id": "044289ec",
   "metadata": {},
   "outputs": [
    {
     "data": {
      "text/plain": [
       "' \\npap standard\\n'"
      ]
     },
     "execution_count": 7,
     "metadata": {},
     "output_type": "execute_result"
    }
   ],
   "source": [
    "\"\"\" \n",
    "pap standard\n",
    "\"\"\"\n"
   ]
  },
  {
   "cell_type": "code",
   "execution_count": null,
   "id": "6a1f65e5",
   "metadata": {},
   "outputs": [],
   "source": [
    "\n",
    "\"\"\"\n",
    "Assets \n",
    "Flippa.com\n",
    "\n",
    "googleaddson\n",
    "guestpost\n",
    "hostinger afflilate marketing\n",
    "big commerce\n",
    "cloudbase/commerce\n",
    "\n",
    "wordpress\n",
    "qwlbold\n",
    "\n",
    "ahrefs.com :\n",
    "domain rating\n",
    "\n",
    "DA PA \n",
    "DR above 70\n",
    "\n",
    "\n",
    "jarwis for article writing\n",
    "AI writing tool for article writing\n",
    "\"\"\"\n",
    "\n",
    "\"\"\"\n",
    "upwork\n",
    "\n",
    "\n",
    "\n",
    "freelancer\n",
    "\n",
    "bootstrapstudio\n",
    "github pack\n",
    "\"\"\""
   ]
  }
 ],
 "metadata": {
  "kernelspec": {
   "display_name": "Python 3.10.7 64-bit",
   "language": "python",
   "name": "python3"
  },
  "language_info": {
   "codemirror_mode": {
    "name": "ipython",
    "version": 3
   },
   "file_extension": ".py",
   "mimetype": "text/x-python",
   "name": "python",
   "nbconvert_exporter": "python",
   "pygments_lexer": "ipython3",
   "version": "3.10.7"
  },
  "vscode": {
   "interpreter": {
    "hash": "52ca1e607584ad3398d591ffd75feb2082f1da1c71d65ebfa531d3bca73e6dbb"
   }
  }
 },
 "nbformat": 4,
 "nbformat_minor": 5
}
