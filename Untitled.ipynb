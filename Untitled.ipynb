{
 "cells": [
  {
   "cell_type": "code",
   "execution_count": 1,
   "id": "db54f73c",
   "metadata": {},
   "outputs": [],
   "source": [
    "student_11={\n",
    "\n",
    "\"Name\" :\"Muhammad Mudassir Raza \",\n",
    "\"Rollno\": 17122094,\n",
    "\"Bachelor\":\"Computer Science\",\n",
    "\"Attendence\":\"present\",\n",
    " \n",
    "\n",
    "\n",
    "}\n",
    "student12={\n",
    "    \"quiz1\":40,\n",
    "    \"quiz2\":45,\n",
    "    \"mid\":50,\n",
    "    \"final\":55\n",
    "}\n",
    "student_11[\"Marks\"]=student12"
   ]
  },
  {
   "cell_type": "code",
   "execution_count": 1,
   "id": "398d46d3",
   "metadata": {},
   "outputs": [
    {
     "ename": "SyntaxError",
     "evalue": "invalid syntax (1828366183.py, line 1)",
     "output_type": "error",
     "traceback": [
      "\u001b[1;36m  Input \u001b[1;32mIn [1]\u001b[1;36m\u001b[0m\n\u001b[1;33m    print(?''\\nHello'')\u001b[0m\n\u001b[1;37m          ^\u001b[0m\n\u001b[1;31mSyntaxError\u001b[0m\u001b[1;31m:\u001b[0m invalid syntax\n"
     ]
    }
   ],
   "source": [
    "print(?''\\nHello'')"
   ]
  },
  {
   "cell_type": "code",
   "execution_count": 2,
   "id": "07886e07",
   "metadata": {},
   "outputs": [
    {
     "name": "stdout",
     "output_type": "stream",
     "text": [
      "['Hi!', 'Hi!', 'Hi!', 'Hi!']\n"
     ]
    }
   ],
   "source": [
    "print(['Hi!'] * 4)"
   ]
  },
  {
   "cell_type": "code",
   "execution_count": 3,
   "id": "47cf8098",
   "metadata": {},
   "outputs": [
    {
     "name": "stdout",
     "output_type": "stream",
     "text": [
      "[1, 2, 3, 4, 5, 6]\n"
     ]
    }
   ],
   "source": [
    "print([1, 2, 3] + [4, 5, 6])"
   ]
  },
  {
   "cell_type": "code",
   "execution_count": 5,
   "id": "419f39cb",
   "metadata": {},
   "outputs": [
    {
     "data": {
      "text/plain": [
       "'TutorialsPoint'"
      ]
     },
     "execution_count": 5,
     "metadata": {},
     "output_type": "execute_result"
    }
   ],
   "source": [
    "s = '\\t\\t\\t\\n\\nTutorialsPoint\\n\\n\\n\\t\\t\\t'\n",
    "s.strip()"
   ]
  },
  {
   "cell_type": "code",
   "execution_count": 6,
   "id": "f70e33d2",
   "metadata": {},
   "outputs": [
    {
     "name": "stdout",
     "output_type": "stream",
     "text": [
      "p\n",
      "o\n",
      "i \n",
      "n\n",
      "t\n"
     ]
    }
   ],
   "source": [
    "for i in ['t', 'n', 'i ', 'o', 'p'][::-1]:\n",
    "   print(i)"
   ]
  },
  {
   "cell_type": "code",
   "execution_count": 14,
   "id": "2e84f11f",
   "metadata": {},
   "outputs": [
    {
     "name": "stdout",
     "output_type": "stream",
     "text": [
      " \n"
     ]
    }
   ],
   "source": [
    "print(min(\"hello world\"))"
   ]
  },
  {
   "cell_type": "code",
   "execution_count": 17,
   "id": "81ca7523",
   "metadata": {},
   "outputs": [
    {
     "name": "stdout",
     "output_type": "stream",
     "text": [
      "T. u. t. o. r. i. a. l. s. P. o. i. n. t. i. s. b. e. s. t. "
     ]
    }
   ],
   "source": [
    "string = 'Tutorials Point is best'\n",
    "for i in ''.join(string.split()):\n",
    "   print(i, end= '. ')\n"
   ]
  },
  {
   "cell_type": "code",
   "execution_count": 18,
   "id": "606a41da",
   "metadata": {},
   "outputs": [
    {
     "name": "stdout",
     "output_type": "stream",
     "text": [
      "15141312111514131211"
     ]
    },
    {
     "ename": "IndexError",
     "evalue": "list index out of range",
     "output_type": "error",
     "traceback": [
      "\u001b[1;31m---------------------------------------------------------------------------\u001b[0m",
      "\u001b[1;31mIndexError\u001b[0m                                Traceback (most recent call last)",
      "Input \u001b[1;32mIn [18]\u001b[0m, in \u001b[0;36m<cell line: 5>\u001b[1;34m()\u001b[0m\n\u001b[0;32m      3\u001b[0m     rev_func(x,length\u001b[38;5;241m-\u001b[39m\u001b[38;5;241m1\u001b[39m) \n\u001b[0;32m      4\u001b[0m x\u001b[38;5;241m=\u001b[39m[\u001b[38;5;241m11\u001b[39m, \u001b[38;5;241m12\u001b[39m, \u001b[38;5;241m13\u001b[39m, \u001b[38;5;241m14\u001b[39m, \u001b[38;5;241m15\u001b[39m] \n\u001b[1;32m----> 5\u001b[0m \u001b[43mrev_func\u001b[49m\u001b[43m(\u001b[49m\u001b[43mx\u001b[49m\u001b[43m,\u001b[49m\u001b[38;5;241;43m5\u001b[39;49m\u001b[43m)\u001b[49m\n",
      "Input \u001b[1;32mIn [18]\u001b[0m, in \u001b[0;36mrev_func\u001b[1;34m(x, length)\u001b[0m\n\u001b[0;32m      1\u001b[0m \u001b[38;5;28;01mdef\u001b[39;00m \u001b[38;5;21mrev_func\u001b[39m(x,length):\n\u001b[0;32m      2\u001b[0m     \u001b[38;5;28mprint\u001b[39m(x[length\u001b[38;5;241m-\u001b[39m\u001b[38;5;241m1\u001b[39m],end\u001b[38;5;241m=\u001b[39m\u001b[38;5;124m'\u001b[39m\u001b[38;5;124m'\u001b[39m \u001b[38;5;124m'\u001b[39m\u001b[38;5;124m'\u001b[39m) \n\u001b[1;32m----> 3\u001b[0m     \u001b[43mrev_func\u001b[49m\u001b[43m(\u001b[49m\u001b[43mx\u001b[49m\u001b[43m,\u001b[49m\u001b[43mlength\u001b[49m\u001b[38;5;241;43m-\u001b[39;49m\u001b[38;5;241;43m1\u001b[39;49m\u001b[43m)\u001b[49m\n",
      "Input \u001b[1;32mIn [18]\u001b[0m, in \u001b[0;36mrev_func\u001b[1;34m(x, length)\u001b[0m\n\u001b[0;32m      1\u001b[0m \u001b[38;5;28;01mdef\u001b[39;00m \u001b[38;5;21mrev_func\u001b[39m(x,length):\n\u001b[0;32m      2\u001b[0m     \u001b[38;5;28mprint\u001b[39m(x[length\u001b[38;5;241m-\u001b[39m\u001b[38;5;241m1\u001b[39m],end\u001b[38;5;241m=\u001b[39m\u001b[38;5;124m'\u001b[39m\u001b[38;5;124m'\u001b[39m \u001b[38;5;124m'\u001b[39m\u001b[38;5;124m'\u001b[39m) \n\u001b[1;32m----> 3\u001b[0m     \u001b[43mrev_func\u001b[49m\u001b[43m(\u001b[49m\u001b[43mx\u001b[49m\u001b[43m,\u001b[49m\u001b[43mlength\u001b[49m\u001b[38;5;241;43m-\u001b[39;49m\u001b[38;5;241;43m1\u001b[39;49m\u001b[43m)\u001b[49m\n",
      "    \u001b[1;31m[... skipping similar frames: rev_func at line 3 (7 times)]\u001b[0m\n",
      "Input \u001b[1;32mIn [18]\u001b[0m, in \u001b[0;36mrev_func\u001b[1;34m(x, length)\u001b[0m\n\u001b[0;32m      1\u001b[0m \u001b[38;5;28;01mdef\u001b[39;00m \u001b[38;5;21mrev_func\u001b[39m(x,length):\n\u001b[0;32m      2\u001b[0m     \u001b[38;5;28mprint\u001b[39m(x[length\u001b[38;5;241m-\u001b[39m\u001b[38;5;241m1\u001b[39m],end\u001b[38;5;241m=\u001b[39m\u001b[38;5;124m'\u001b[39m\u001b[38;5;124m'\u001b[39m \u001b[38;5;124m'\u001b[39m\u001b[38;5;124m'\u001b[39m) \n\u001b[1;32m----> 3\u001b[0m     \u001b[43mrev_func\u001b[49m\u001b[43m(\u001b[49m\u001b[43mx\u001b[49m\u001b[43m,\u001b[49m\u001b[43mlength\u001b[49m\u001b[38;5;241;43m-\u001b[39;49m\u001b[38;5;241;43m1\u001b[39;49m\u001b[43m)\u001b[49m\n",
      "Input \u001b[1;32mIn [18]\u001b[0m, in \u001b[0;36mrev_func\u001b[1;34m(x, length)\u001b[0m\n\u001b[0;32m      1\u001b[0m \u001b[38;5;28;01mdef\u001b[39;00m \u001b[38;5;21mrev_func\u001b[39m(x,length):\n\u001b[1;32m----> 2\u001b[0m     \u001b[38;5;28mprint\u001b[39m(\u001b[43mx\u001b[49m\u001b[43m[\u001b[49m\u001b[43mlength\u001b[49m\u001b[38;5;241;43m-\u001b[39;49m\u001b[38;5;241;43m1\u001b[39;49m\u001b[43m]\u001b[49m,end\u001b[38;5;241m=\u001b[39m\u001b[38;5;124m'\u001b[39m\u001b[38;5;124m'\u001b[39m \u001b[38;5;124m'\u001b[39m\u001b[38;5;124m'\u001b[39m) \n\u001b[0;32m      3\u001b[0m     rev_func(x,length\u001b[38;5;241m-\u001b[39m\u001b[38;5;241m1\u001b[39m)\n",
      "\u001b[1;31mIndexError\u001b[0m: list index out of range"
     ]
    }
   ],
   "source": [
    "def rev_func(x,length):\n",
    "    print(x[length-1],end='' '') \n",
    "    rev_func(x,length-1) \n",
    "x=[11, 12, 13, 14, 15] \n",
    "rev_func(x,5)"
   ]
  },
  {
   "cell_type": "code",
   "execution_count": 19,
   "id": "60598a1e",
   "metadata": {},
   "outputs": [
    {
     "name": "stdout",
     "output_type": "stream",
     "text": [
      "100 400\n"
     ]
    }
   ],
   "source": [
    "class P: \n",
    "   def __init__(self): \n",
    "      self.__x=100 \n",
    "      self.y=200 \n",
    "   def print(self): \n",
    "      print(self.__x, self.y)  \n",
    "class C(P): \n",
    "   def __init__(self): \n",
    "      super().__init__() \n",
    "      self.__x=300 \n",
    "      self.y=400  \n",
    "d = C() \n",
    "d.print()"
   ]
  },
  {
   "cell_type": "code",
   "execution_count": 24,
   "id": "3b3d1301",
   "metadata": {},
   "outputs": [],
   "source": [
    "def nprint(message, n):\n",
    "    while(n > 0):\n",
    "        print(message)\n",
    "    n-=1\n",
    "    nprint('z', 5)"
   ]
  },
  {
   "cell_type": "code",
   "execution_count": 25,
   "id": "41b9d318",
   "metadata": {},
   "outputs": [],
   "source": [
    "a, b = c = 2 + 2, 'TutorialsPoint'"
   ]
  },
  {
   "cell_type": "code",
   "execution_count": 26,
   "id": "fb91867c",
   "metadata": {},
   "outputs": [
    {
     "name": "stdout",
     "output_type": "stream",
     "text": [
      "4\n",
      "TutorialsPoint\n",
      "(4, 'TutorialsPoint')\n"
     ]
    }
   ],
   "source": [
    "print(a)\n",
    "print(b)\n",
    "print(c)"
   ]
  },
  {
   "cell_type": "code",
   "execution_count": 27,
   "id": "e198cb69",
   "metadata": {},
   "outputs": [
    {
     "ename": "TypeError",
     "evalue": "'>' not supported between instances of 'dict' and 'dict'",
     "output_type": "error",
     "traceback": [
      "\u001b[1;31m---------------------------------------------------------------------------\u001b[0m",
      "\u001b[1;31mTypeError\u001b[0m                                 Traceback (most recent call last)",
      "Input \u001b[1;32mIn [27]\u001b[0m, in \u001b[0;36m<cell line: 3>\u001b[1;34m()\u001b[0m\n\u001b[0;32m      1\u001b[0m d0 \u001b[38;5;241m=\u001b[39m { \u001b[38;5;124m'\u001b[39m\u001b[38;5;124ma\u001b[39m\u001b[38;5;124m'\u001b[39m:\u001b[38;5;241m1\u001b[39m, \u001b[38;5;124m'\u001b[39m\u001b[38;5;124mb\u001b[39m\u001b[38;5;124m'\u001b[39m:\u001b[38;5;241m2\u001b[39m}\n\u001b[0;32m      2\u001b[0m d1 \u001b[38;5;241m=\u001b[39m { \u001b[38;5;124m'\u001b[39m\u001b[38;5;124ma\u001b[39m\u001b[38;5;124m'\u001b[39m:\u001b[38;5;241m3\u001b[39m, \u001b[38;5;124m'\u001b[39m\u001b[38;5;124mb\u001b[39m\u001b[38;5;124m'\u001b[39m:\u001b[38;5;241m4\u001b[39m}\n\u001b[1;32m----> 3\u001b[0m \u001b[43md1\u001b[49m\u001b[43m \u001b[49m\u001b[38;5;241;43m>\u001b[39;49m\u001b[43m \u001b[49m\u001b[43md0\u001b[49m\n",
      "\u001b[1;31mTypeError\u001b[0m: '>' not supported between instances of 'dict' and 'dict'"
     ]
    }
   ],
   "source": [
    "d0 = { 'a':1, 'b':2}\n",
    "d1 = { 'a':3, 'b':4}\n",
    "d1 > d0"
   ]
  },
  {
   "cell_type": "code",
   "execution_count": 30,
   "id": "54eb4cde",
   "metadata": {},
   "outputs": [
    {
     "name": "stdout",
     "output_type": "stream",
     "text": [
      "<__main__.C object at 0x00000208D05D66A0>\n"
     ]
    }
   ],
   "source": [
    "class Demo: \n",
    "    def __init__(self,d): \n",
    "        self.d=d \n",
    "    def print(self):\n",
    "        print(d)  \n",
    "a = Demo('Hello') \n",
    "a.print()"
   ]
  },
  {
   "cell_type": "code",
   "execution_count": 32,
   "id": "2d396314",
   "metadata": {},
   "outputs": [
    {
     "ename": "SyntaxError",
     "evalue": "invalid syntax (286452068.py, line 1)",
     "output_type": "error",
     "traceback": [
      "\u001b[1;36m  Input \u001b[1;32mIn [32]\u001b[1;36m\u001b[0m\n\u001b[1;33m    if tuple = ( 'abcd', 786 , 2.23, 'john', 70.2 )\u001b[0m\n\u001b[1;37m             ^\u001b[0m\n\u001b[1;31mSyntaxError\u001b[0m\u001b[1;31m:\u001b[0m invalid syntax\n"
     ]
    }
   ],
   "source": [
    "if tuple = ( 'abcd', 786 , 2.23, 'john', 70.2 )\n",
    "print tuple[0]"
   ]
  },
  {
   "cell_type": "code",
   "execution_count": 35,
   "id": "9fe6d85e",
   "metadata": {},
   "outputs": [],
   "source": [
    "s = 'mnopqr '\n",
    "i = 'm '\n",
    "while i in s:\n",
    "    print('i', end= ' ')"
   ]
  },
  {
   "cell_type": "code",
   "execution_count": 43,
   "id": "c7a11556",
   "metadata": {},
   "outputs": [
    {
     "name": "stdout",
     "output_type": "stream",
     "text": [
      "z is:  100\n",
      "new value of global z is:  50\n",
      "Value of z is:  50\n"
     ]
    }
   ],
   "source": [
    "def f():\n",
    "    global z\n",
    "    z=100\n",
    "    print('z is: ', z)\n",
    "    z=50\n",
    "    print('new value of global z is: ', z)\n",
    "\n",
    "f()\n",
    "\n",
    "print('Value of z is: ', z)"
   ]
  },
  {
   "cell_type": "code",
   "execution_count": 44,
   "id": "40f4bcc5",
   "metadata": {},
   "outputs": [
    {
     "name": "stdout",
     "output_type": "stream",
     "text": [
      "[2.23, 'john', 70.2]\n"
     ]
    }
   ],
   "source": [
    "list = [ 'abcd', 786 , 2.23, 'john', 70.2 ]\n",
    "print(list[2:]) "
   ]
  },
  {
   "cell_type": "code",
   "execution_count": 45,
   "id": "deda162b",
   "metadata": {},
   "outputs": [
    {
     "name": "stdout",
     "output_type": "stream",
     "text": [
      "0\n",
      "1\n",
      "2\n",
      "3\n",
      "4\n"
     ]
    }
   ],
   "source": [
    "for i in range(5):\n",
    "    print(i)\n",
    "   "
   ]
  },
  {
   "cell_type": "code",
   "execution_count": 46,
   "id": "47751db3",
   "metadata": {},
   "outputs": [
    {
     "data": {
      "text/plain": [
       "False"
      ]
     },
     "execution_count": 46,
     "metadata": {},
     "output_type": "execute_result"
    }
   ],
   "source": [
    "import random\n",
    "a = random.randrange(4)\n",
    "b = random.choice(range(0, 3))\n",
    "a == b"
   ]
  },
  {
   "cell_type": "code",
   "execution_count": 2,
   "id": "a7ca9e21",
   "metadata": {},
   "outputs": [
    {
     "name": "stdout",
     "output_type": "stream",
     "text": [
      "22\n",
      "21\n",
      "64\n",
      "23\n",
      "233\n",
      "23\n",
      "6\n"
     ]
    }
   ],
   "source": [
    "items = [int, float, \"HaERRY\", 5,3, 3, 22, 21, 64, 23, 233, 23, 6]\n",
    "\n",
    "for item in items:\n",
    "    if str(item).isnumeric() and item>=6:\n",
    "        print(item)"
   ]
  },
  {
   "cell_type": "code",
   "execution_count": 3,
   "id": "a0a5611d",
   "metadata": {},
   "outputs": [
    {
     "name": "stdout",
     "output_type": "stream",
     "text": [
      "The value of i is : 0\n",
      "The value of i is : 1\n",
      "The value of i is : 2\n",
      "The value of i is : 3\n",
      "The value of i is : 4\n",
      "The value of i is : 5\n",
      "The value of i is : 6\n",
      "The value of i is : 7\n",
      "The value of i is : 8\n",
      "The value of i is : 9\n",
      "The value of i is : 10\n",
      "Breaking the loop. \n"
     ]
    }
   ],
   "source": [
    "i=0;\n",
    "while(True):\n",
    "    print(f\"The value of i is : {i}\")\n",
    "    i=i+1\n",
    "    if(i>10):\n",
    "        print(\"Breaking the loop. \")\n",
    "        break;"
   ]
  },
  {
   "cell_type": "code",
   "execution_count": 4,
   "id": "0eb6f8bf",
   "metadata": {},
   "outputs": [
    {
     "name": "stdout",
     "output_type": "stream",
     "text": [
      "The value of i is : 1\n",
      "The value of i is : 2\n",
      "The value of i is : 3\n",
      "The value of i is : 4\n",
      "The value of i is : 6\n",
      "The value of i is : 7\n",
      "The value of i is : 8\n",
      "The value of i is : 9\n",
      "The value of i is : 10\n"
     ]
    }
   ],
   "source": [
    "i=0;\n",
    "while(True):\n",
    "    i=i+1\n",
    "    if(i==5):\n",
    "        continue\n",
    "    if(i>10):\n",
    "        break\n",
    "    print(f\"The value of i is : {i}\")"
   ]
  },
  {
   "cell_type": "code",
   "execution_count": null,
   "id": "b72e9523",
   "metadata": {},
   "outputs": [],
   "source": [
    "while(True):\n",
    "    inp = int(input(\"Enter a Number\\n\"))\n",
    "    if inp>100:\n",
    "        print(\"Congrats you have entered a number greater than 100\\n\")\n",
    "        break\n",
    "    else:\n",
    "        print(\"Try again!\\n\")\n",
    "        continue"
   ]
  },
  {
   "cell_type": "code",
   "execution_count": 6,
   "id": "354767d8",
   "metadata": {},
   "outputs": [
    {
     "name": "stdout",
     "output_type": "stream",
     "text": [
      "Guess the number between 1 to 30: 3\n",
      "Your guess is too low\n",
      "Guess the number between 1 to 30: 18\n",
      "Your guess is too high\n",
      "Guess the number between 1 to 30: 10\n",
      "Your guess is too high\n",
      "Sorry! You LOOSE\n",
      "Correct number is 4\n"
     ]
    }
   ],
   "source": [
    "import random\n",
    "random_number = random.randrange(1,30)\n",
    "flag = False\n",
    "for i in range(1,4):\n",
    "    guess = int(input(\"Guess the number between 1 to 30: \"))\n",
    "    if guess == random_number:\n",
    "        flag = True\n",
    "        break\n",
    "    elif guess < random_number:\n",
    "        print(\"Your guess is too low\")\n",
    "    else:\n",
    "        print(\"Your guess is too high\")\n",
    "if flag:\n",
    "    print(\"Congratulations You win!\")\n",
    "else:\n",
    "    print(\"Sorry! You LOOSE\")\n",
    "    \n",
    "    print(\"Correct number is\", random_number)"
   ]
  },
  {
   "cell_type": "code",
   "execution_count": 12,
   "id": "4efb545c",
   "metadata": {},
   "outputs": [
    {
     "name": "stdout",
     "output_type": "stream",
     "text": [
      "Guess the number between 1 to 30: 10\n",
      "Your guess is too low\n",
      "Guess the number between 1 to 30: 18\n",
      "Your guess is too high\n",
      "Guess the number between 1 to 30: 15\n",
      "Your guess is too high\n",
      "Guess the number between 1 to 30: 12\n",
      "Your guess is too low\n",
      "Guess the number between 1 to 30: 14\n",
      "Your guess is too high\n",
      "Guess the number between 1 to 30: 13\n",
      "Congratulations You win!\n",
      "Correct number is 13\n"
     ]
    }
   ],
   "source": [
    "import random\n",
    "random_number = random.randrange(1,30)\n",
    "flag \n",
    "while True:\n",
    "    guess = int(input(\"Guess the number between 1 to 30: \"))\n",
    "    if guess == random_number:\n",
    "        flag = False\n",
    "        break\n",
    "    elif guess < random_number:\n",
    "        print(\"Your guess is too low\")\n",
    "    else:\n",
    "        print(\"Your guess is too high\")\n",
    "if flag == False:\n",
    "    print(\"Congratulations You win!\")\n",
    "else:\n",
    "    print(\"Sorry! You LOOSE\")\n",
    "    \n",
    "print(\"Correct number is\", random_number)"
   ]
  },
  {
   "cell_type": "code",
   "execution_count": 15,
   "id": "75572789",
   "metadata": {},
   "outputs": [
    {
     "name": "stdout",
     "output_type": "stream",
     "text": [
      "6.0\n",
      "6.0\n",
      "This is a function which will calculate average of two numbers\n",
      "    this function doesnt work for three numbers\n"
     ]
    }
   ],
   "source": [
    "def function2(a, b):\n",
    "    \"\"\"This is a function which will calculate average of two numbers\n",
    "    this function doesnt work for three numbers\"\"\"\n",
    "    average = (a+b)/2\n",
    "    print(average)\n",
    "    return average\n",
    "\n",
    "v = function2(5, 7)\n",
    "print(v)\n",
    "print(function2.__doc__)"
   ]
  },
  {
   "cell_type": "code",
   "execution_count": null,
   "id": "0631e340",
   "metadata": {},
   "outputs": [],
   "source": []
  }
 ],
 "metadata": {
  "kernelspec": {
   "display_name": "Python 3 (ipykernel)",
   "language": "python",
   "name": "python3"
  },
  "language_info": {
   "codemirror_mode": {
    "name": "ipython",
    "version": 3
   },
   "file_extension": ".py",
   "mimetype": "text/x-python",
   "name": "python",
   "nbconvert_exporter": "python",
   "pygments_lexer": "ipython3",
   "version": "3.9.12"
  }
 },
 "nbformat": 4,
 "nbformat_minor": 5
}
