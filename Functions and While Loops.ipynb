{
 "cells": [
  {
   "cell_type": "markdown",
   "id": "a64b8a4a",
   "metadata": {},
   "source": [
    "# Functions"
   ]
  },
  {
   "cell_type": "markdown",
   "id": "8553860d",
   "metadata": {},
   "source": [
    "### Functions is like block of code through this we can do same thing many  time without typing code again and again"
   ]
  },
  {
   "cell_type": "code",
   "execution_count": 1,
   "id": "3ed2c6fc",
   "metadata": {},
   "outputs": [
    {
     "name": "stdout",
     "output_type": "stream",
     "text": [
      "4\n"
     ]
    }
   ],
   "source": [
    "a=1\n",
    "b=3\n",
    "c=a+b\n",
    "print(c)"
   ]
  },
  {
   "cell_type": "code",
   "execution_count": 2,
   "id": "21f7428a",
   "metadata": {},
   "outputs": [
    {
     "name": "stdout",
     "output_type": "stream",
     "text": [
      "4\n",
      "4\n"
     ]
    }
   ],
   "source": [
    "#now we do with function\n",
    "def sum():\n",
    "    a=1\n",
    "    b=3\n",
    "    c=a+b\n",
    "    print(c)\n",
    "sum()  \n",
    "sum()  "
   ]
  },
  {
   "cell_type": "code",
   "execution_count": 3,
   "id": "46843383",
   "metadata": {},
   "outputs": [
    {
     "name": "stdout",
     "output_type": "stream",
     "text": [
      "55\n",
      "5\n"
     ]
    }
   ],
   "source": [
    "def sum(a,b):  #parameters\n",
    "     \n",
    "    c=a+b\n",
    "    print(c)\n",
    "sum(22,33)  #arguments\n",
    "sum(2,3)  "
   ]
  },
  {
   "cell_type": "code",
   "execution_count": 4,
   "id": "76166bb3",
   "metadata": {
    "scrolled": true
   },
   "outputs": [
    {
     "name": "stdout",
     "output_type": "stream",
     "text": [
      "Enter the first number: 10\n",
      "\n",
      "Enter the second number :5\n",
      "\n",
      " Sum of a + b  is :  15.0 \n",
      "\n",
      "Substract of a - b  is :  5.0 \n",
      "\n",
      "Multiplication  of a * b  is :  50.0 \n",
      "\n",
      "Division of a / b  is :  2.0 \n",
      "\n",
      "Modulus of a % b  is :  0.0 \n",
      "\n"
     ]
    }
   ],
   "source": [
    "a=float(input(\"Enter the first number: \" ))\n",
    "b=float(input(\"\\n\"+\"Enter the second number :\"))\n",
    "\n",
    "def cal(a,b):\n",
    "    c=a+b\n",
    "    print(\"\\n\",\"Sum of a + b  is : \",c,\"\\n\")\n",
    "    d=a-b\n",
    "    print(\"Substract of a - b  is : \",d,\"\\n\")\n",
    "    e=a*b\n",
    "    print(\"Multiplication  of a * b  is : \",e,\"\\n\")\n",
    "    f=a/b\n",
    "    print(\"Division of a / b  is : \",f,\"\\n\")\n",
    "    g=a%b\n",
    "    print(\"Modulus of a % b  is : \",g,\"\\n\")\n",
    "cal(a,b)    \n",
    "    "
   ]
  },
  {
   "cell_type": "code",
   "execution_count": 5,
   "id": "c57db507",
   "metadata": {},
   "outputs": [
    {
     "name": "stdout",
     "output_type": "stream",
     "text": [
      "39\n"
     ]
    }
   ],
   "source": [
    "def addition(a,b):\n",
    "    sum=a+b\n",
    "    print(sum)\n",
    "addition(a=5,b=34)  "
   ]
  },
  {
   "cell_type": "code",
   "execution_count": 6,
   "id": "46d7f042",
   "metadata": {},
   "outputs": [
    {
     "name": "stdout",
     "output_type": "stream",
     "text": [
      "5\n"
     ]
    }
   ],
   "source": [
    "firstnum = 2  \n",
    "secondnum =3 \n",
    "#agr data phela sa diya ho to ap parameters change bhi krsakta hai\n",
    "def addnum(num1,num2):  #parameters\n",
    "    result =num1+num2\n",
    "    print(result)\n",
    "addnum(firstnum,secondnum) "
   ]
  },
  {
   "cell_type": "code",
   "execution_count": 7,
   "id": "0dc8b3b1",
   "metadata": {},
   "outputs": [
    {
     "name": "stdout",
     "output_type": "stream",
     "text": [
      "5\n"
     ]
    }
   ],
   "source": [
    "firstnum = 2  \n",
    "secondnum =3 \n",
    "#agr data phela sa diya ho to ap parameters change bhi krsakta hai\n",
    "def addnum(eight,ten):    #parameters\n",
    "    result = eight +ten\n",
    "    print(result)\n",
    "addnum(firstnum,secondnum)"
   ]
  },
  {
   "cell_type": "code",
   "execution_count": 8,
   "id": "b6b7a765",
   "metadata": {},
   "outputs": [
    {
     "name": "stdout",
     "output_type": "stream",
     "text": [
      "-4\n"
     ]
    }
   ],
   "source": [
    "firstnum =8 \n",
    "secondnum =4\n",
    "def addnum(secondnum,firstnum):\n",
    "    result =firstnum-secondnum  #firstnum=4 ,secondnum=8\n",
    "    print(result)\n",
    "addnum(firstnum,secondnum)"
   ]
  },
  {
   "cell_type": "code",
   "execution_count": 9,
   "id": "b3998fc3",
   "metadata": {},
   "outputs": [
    {
     "name": "stdout",
     "output_type": "stream",
     "text": [
      "4\n"
     ]
    }
   ],
   "source": [
    "firstnum =8 \n",
    "secondnum =4\n",
    "def addnum(eight,four):\n",
    "    result =eight-four\n",
    "    print(result)\n",
    "addnum(firstnum,secondnum)"
   ]
  },
  {
   "cell_type": "code",
   "execution_count": 10,
   "id": "9ace46ce",
   "metadata": {},
   "outputs": [
    {
     "name": "stdout",
     "output_type": "stream",
     "text": [
      "4\n"
     ]
    }
   ],
   "source": [
    "firstnum =8 \n",
    "def addnum(eight,four=4):\n",
    "    result =eight-four\n",
    "    print(result)\n",
    "addnum(firstnum)"
   ]
  },
  {
   "cell_type": "code",
   "execution_count": 11,
   "id": "aaaef043",
   "metadata": {},
   "outputs": [
    {
     "name": "stdout",
     "output_type": "stream",
     "text": [
      "5\n"
     ]
    }
   ],
   "source": [
    " \n",
    "def add(num1,num2):\n",
    "    total=num1+num2\n",
    "    print(total)\n",
    "    \n",
    "add(num1=2,num2=3) "
   ]
  },
  {
   "cell_type": "code",
   "execution_count": 12,
   "id": "c54f3ef3",
   "metadata": {},
   "outputs": [
    {
     "name": "stdout",
     "output_type": "stream",
     "text": [
      "15.0\n"
     ]
    }
   ],
   "source": [
    "#  jb data or parameters same na ho to parameters and arguments same rakha ga\n",
    "def add(num1,num2):\n",
    "    total=a+b\n",
    "    print(total)\n",
    "    \n",
    "add(num1=2,num2=3) "
   ]
  },
  {
   "cell_type": "code",
   "execution_count": 13,
   "id": "8e5fda37",
   "metadata": {},
   "outputs": [
    {
     "name": "stdout",
     "output_type": "stream",
     "text": [
      "4\n"
     ]
    }
   ],
   "source": [
    "firstnum =8 \n",
    "def addnum(eight,four=4):\n",
    "    result =eight-four\n",
    "    print(result)\n",
    "addnum(firstnum)"
   ]
  },
  {
   "cell_type": "code",
   "execution_count": 14,
   "id": "1d1c74a8",
   "metadata": {},
   "outputs": [
    {
     "name": "stdout",
     "output_type": "stream",
     "text": [
      "4\n"
     ]
    }
   ],
   "source": [
    " \n",
    "def addnum(firstnum,four=4):\n",
    "    result = firstnum -four\n",
    "    print(result)\n",
    "addnum(firstnum=8)"
   ]
  },
  {
   "cell_type": "code",
   "execution_count": 15,
   "id": "33b74d24",
   "metadata": {},
   "outputs": [
    {
     "name": "stdout",
     "output_type": "stream",
     "text": [
      "12\n"
     ]
    }
   ],
   "source": [
    "firstnum=8\n",
    "def addnum(ten , four=4):\n",
    "    result = ten + four\n",
    "    print(result)\n",
    "addnum(firstnum)"
   ]
  },
  {
   "cell_type": "code",
   "execution_count": null,
   "id": "fc7c4817",
   "metadata": {},
   "outputs": [],
   "source": []
  },
  {
   "cell_type": "code",
   "execution_count": 16,
   "id": "8e17ef03",
   "metadata": {},
   "outputs": [
    {
     "name": "stdout",
     "output_type": "stream",
     "text": [
      "61\n"
     ]
    }
   ],
   "source": [
    "#we also pass more than one parameters\n",
    "def sum(a,b,c,d):   \n",
    "    e=a+b+c+d\n",
    "    print(e)\n",
    "sum(22,33,4,2)   \n",
    " "
   ]
  },
  {
   "cell_type": "code",
   "execution_count": 17,
   "id": "a3c941af",
   "metadata": {},
   "outputs": [
    {
     "name": "stdout",
     "output_type": "stream",
     "text": [
      "Enter your name : asad\n",
      "Hello ASAD\n"
     ]
    }
   ],
   "source": [
    "name=input(\"Enter your name : \")\n",
    "def greeting(name):\n",
    "    print(\"Hello\",name)\n",
    "greeting(name.upper())    "
   ]
  },
  {
   "cell_type": "code",
   "execution_count": 18,
   "id": "872185c5",
   "metadata": {},
   "outputs": [
    {
     "name": "stdout",
     "output_type": "stream",
     "text": [
      "Enter your name : raza\n",
      "Good Morning Raza\n"
     ]
    }
   ],
   "source": [
    "name=input(\"Enter your name : \")\n",
    "def greeting(name):\n",
    "    greet=\"Good Morning\"\n",
    "    print( greet,name)\n",
    "greeting(name.capitalize()) "
   ]
  },
  {
   "cell_type": "code",
   "execution_count": 19,
   "id": "5843af57",
   "metadata": {},
   "outputs": [
    {
     "name": "stdout",
     "output_type": "stream",
     "text": [
      "Enter your name : ali\n",
      "Good Morning Ali\n"
     ]
    }
   ],
   "source": [
    "name=input(\"Enter your name : \")\n",
    "greet=\"Good Morning\"\n",
    "def greeting(greet,name):\n",
    "    \n",
    "    print( greet,name)\n",
    "greeting(greet,name.title()) "
   ]
  },
  {
   "cell_type": "code",
   "execution_count": 20,
   "id": "b1a223a1",
   "metadata": {},
   "outputs": [
    {
     "name": "stdout",
     "output_type": "stream",
     "text": [
      "Enter your name : FAHAD\n",
      "good morning fahad\n"
     ]
    }
   ],
   "source": [
    "name=input(\"Enter your name : \")\n",
    "greet=\"Good Morning\"\n",
    "def greeting(greet,name):\n",
    "    gree=greet +\" \"+name      \n",
    "    print(gree.lower())\n",
    "greeting(greet,name) "
   ]
  },
  {
   "cell_type": "code",
   "execution_count": 21,
   "id": "b89f2a30",
   "metadata": {},
   "outputs": [
    {
     "name": "stdout",
     "output_type": "stream",
     "text": [
      "Hello Pakistan \n",
      " welcome \n",
      " summer\n",
      " hot\n",
      "\n"
     ]
    }
   ],
   "source": [
    "greeting = \"Hello Pakistan \\n\"\n",
    "entering = \"welcome \\n\"\n",
    "season = \"summer\\n\"\n",
    "temperature = \"hot\\n\" \n",
    "def user(a,b,c,d):#parameter\n",
    "    print(a,b,c,d)\n",
    "   \n",
    "user(greeting,entering,season,temperature)#Arguments   "
   ]
  },
  {
   "cell_type": "code",
   "execution_count": 22,
   "id": "2680815d",
   "metadata": {},
   "outputs": [
    {
     "name": "stdout",
     "output_type": "stream",
     "text": [
      "20\n"
     ]
    },
    {
     "data": {
      "text/plain": [
       "20"
      ]
     },
     "execution_count": 22,
     "metadata": {},
     "output_type": "execute_result"
    }
   ],
   "source": [
    "a=6\n",
    "b=4\n",
    "c=4\n",
    "d=6\n",
    "def addition(a,b,c,d):\n",
    "    sum=a+b+c+d\n",
    "    print(sum)\n",
    "addition(a,b,c,d)\n",
    "20"
   ]
  },
  {
   "cell_type": "code",
   "execution_count": 23,
   "id": "e9f1c9da",
   "metadata": {},
   "outputs": [
    {
     "name": "stdout",
     "output_type": "stream",
     "text": [
      "20\n"
     ]
    }
   ],
   "source": [
    "a=6\n",
    "b=4\n",
    "c=4\n",
    "d=6\n",
    "def addition(r,g,f,t):\n",
    "    sum=r+g+f+t\n",
    "    print(sum)\n",
    "addition(a,b,c,d)"
   ]
  },
  {
   "cell_type": "code",
   "execution_count": 24,
   "id": "1ef0d62e",
   "metadata": {},
   "outputs": [
    {
     "name": "stdout",
     "output_type": "stream",
     "text": [
      "Hello Pakistan \n",
      " welcome \n",
      " summer\n",
      " hot\n",
      "\n"
     ]
    }
   ],
   "source": [
    "greeting = \"Hello Pakistan \\n\"\n",
    "entering = \"welcome \\n\"\n",
    "season = \"summer\\n\"\n",
    "temperature = \"hot\\n\"\n",
    "def user(greeting,entering,season,temperature):\n",
    "    print(greeting,entering,season,temperature)\n",
    "user(greeting,entering,season,temperature)   \n",
    "    "
   ]
  },
  {
   "cell_type": "code",
   "execution_count": 25,
   "id": "9ee10e59",
   "metadata": {},
   "outputs": [
    {
     "name": "stdout",
     "output_type": "stream",
     "text": [
      "Hello Pakistan \n",
      " welcome \n",
      " summer\n",
      " hot\n",
      "\n"
     ]
    }
   ],
   "source": [
    "def user(a,b,c,d):\n",
    "    print(a,b,c,d)\n",
    "    \n",
    "greeting = \"Hello Pakistan \\n\"\n",
    "entering = \"welcome \\n\"\n",
    "season = \"summer\\n\"\n",
    "temperature = \"hot\\n\"    \n",
    "user(greeting,entering,season,temperature)   \n",
    "    "
   ]
  },
  {
   "cell_type": "code",
   "execution_count": 26,
   "id": "bb9ac261",
   "metadata": {},
   "outputs": [
    {
     "name": "stdout",
     "output_type": "stream",
     "text": [
      "Enter husband namezakir \n",
      "Enter wife nameshamim\n",
      "ZAKIR   and  SHAMIM are husband and wife\n"
     ]
    }
   ],
   "source": [
    "husband_name=input(\"Enter husband name\")\n",
    "wife_name=input(\"Enter wife name\")\n",
    "def couple(husband_name,wife_name):\n",
    "    print(husband_name,\" and \",wife_name, \"are husband and wife\") \n",
    "couple(husband_name.upper(),wife_name.upper()) "
   ]
  },
  {
   "cell_type": "code",
   "execution_count": 27,
   "id": "d787c3a2",
   "metadata": {},
   "outputs": [
    {
     "name": "stdout",
     "output_type": "stream",
     "text": [
      "Enter the first name : muhammad \n",
      "Enter the middle name  : mudassir \n",
      "Enter the last name  : raza\n",
      "Your full name is : MUHAMMAD  MUDASSIR  RAZA \n"
     ]
    }
   ],
   "source": [
    "firstname=input(\"Enter the first name : \").upper()\n",
    "middlename=input(\"Enter the middle name  : \").upper()\n",
    "lastname=input(\"Enter the last name  : \").upper()\n",
    "\n",
    "def fullname(firstname,middlename,lastname):\n",
    "    print(\"Your full name is : \"+firstname+\" \"+middlename+\" \"+lastname+\" \")\n",
    "    \n",
    "fullname(firstname,middlename,lastname)"
   ]
  },
  {
   "cell_type": "code",
   "execution_count": 28,
   "id": "6fd9a7b4",
   "metadata": {},
   "outputs": [
    {
     "name": "stdout",
     "output_type": "stream",
     "text": [
      "mudassirraza\n"
     ]
    }
   ],
   "source": [
    "def username(lastname,firstname,):\n",
    "    fullname=firstname+lastname\n",
    "    print(fullname)\n",
    "username(firstname='mudassir',lastname='raza')  "
   ]
  },
  {
   "cell_type": "code",
   "execution_count": 29,
   "id": "893700bb",
   "metadata": {},
   "outputs": [
    {
     "name": "stdout",
     "output_type": "stream",
     "text": [
      "razamudassir\n"
     ]
    }
   ],
   "source": [
    "def username(lastname,firstname,):\n",
    "    fullname=lastname+firstname\n",
    "    print(fullname)\n",
    "username(firstname='mudassir',lastname='raza') "
   ]
  },
  {
   "cell_type": "code",
   "execution_count": 30,
   "id": "6116fab8",
   "metadata": {},
   "outputs": [
    {
     "ename": "SyntaxError",
     "evalue": "non-default argument follows default argument (123616646.py, line 2)",
     "output_type": "error",
     "traceback": [
      "\u001b[1;36m  Input \u001b[1;32mIn [30]\u001b[1;36m\u001b[0m\n\u001b[1;33m    def course(institute,language=\"python programming\",duration):\u001b[0m\n\u001b[1;37m                                                               ^\u001b[0m\n\u001b[1;31mSyntaxError\u001b[0m\u001b[1;31m:\u001b[0m non-default argument follows default argument\n"
     ]
    }
   ],
   "source": [
    "institute=\"SMITH\"\n",
    "def course(institute,language=\"python programming\",duration):\n",
    "    print(institute+\"  \"+language+\"  \"+duration)\n",
    "course(institute,language,duration=\"3 months\")"
   ]
  },
  {
   "cell_type": "code",
   "execution_count": 31,
   "id": "c66efcf8",
   "metadata": {},
   "outputs": [
    {
     "name": "stdout",
     "output_type": "stream",
     "text": [
      "SMITH  python programming  3 months\n"
     ]
    }
   ],
   "source": [
    "#default parameter value always comes in last\n",
    "institute=\"SMITH\"\n",
    "def course(institute,duration,language=\"python programming\"):\n",
    "    print(institute+\"  \"+language+\"  \"+duration)\n",
    "course(institute,duration=\"3 months\")"
   ]
  },
  {
   "cell_type": "code",
   "execution_count": 32,
   "id": "711eadf4",
   "metadata": {},
   "outputs": [
    {
     "name": "stdout",
     "output_type": "stream",
     "text": [
      "4.0548\n"
     ]
    }
   ],
   "source": [
    "   def calc_tax(sales_total, tax_rate):\n",
    "        print(sales_total * tax_rate)\n",
    "calc_tax(sales_total=101.37, tax_rate=.04) "
   ]
  },
  {
   "cell_type": "code",
   "execution_count": 33,
   "id": "0162afdb",
   "metadata": {},
   "outputs": [
    {
     "name": "stdout",
     "output_type": "stream",
     "text": [
      "4.0548\n"
     ]
    }
   ],
   "source": [
    "   def calc_tax(sales_total, tax_rate=.04):\n",
    "        print(sales_total * tax_rate)\n",
    "calc_tax(sales_total=101.37)        "
   ]
  },
  {
   "cell_type": "code",
   "execution_count": 34,
   "id": "bf21b78b",
   "metadata": {},
   "outputs": [
    {
     "name": "stdout",
     "output_type": "stream",
     "text": [
      "MY name is mudassir\n"
     ]
    }
   ],
   "source": [
    "pronoun=\"MY name\"\n",
    "def personalinformation(pronoun,verb,name=\"mudassir\"):\n",
    "    print(pronoun+\" \"+verb+\" \"+name)\n",
    "personalinformation(pronoun,verb=\"is\")    "
   ]
  },
  {
   "cell_type": "code",
   "execution_count": 35,
   "id": "3967148f",
   "metadata": {},
   "outputs": [
    {
     "name": "stdout",
     "output_type": "stream",
     "text": [
      "My name is MUHAMMAD MUDASSIR RAZA and my fahter name is ZAKIR RAZA\n"
     ]
    }
   ],
   "source": [
    "def personalinfo(name,fathername):\n",
    "    print(\"My name is \"+name+\" and my fahter name is \"+fathername)\n",
    "personalinfo(name=\"MUHAMMAD MUDASSIR RAZA\",fathername=\"ZAKIR RAZA\")    "
   ]
  },
  {
   "cell_type": "code",
   "execution_count": 36,
   "id": "7b275e1d",
   "metadata": {},
   "outputs": [
    {
     "name": "stdout",
     "output_type": "stream",
     "text": [
      "What is your subject name\n",
      "['Pakistan', 'UAE', 'USA', 'Africa', 'Computer Science']\n"
     ]
    }
   ],
   "source": [
    "\n",
    "questions={\n",
    "  1:  { \"sno\" : 1,\n",
    "      \"question\" : \"What is your country name\",\n",
    "     \"option\" : [\"Pakistan\",\"UAE\",\"USA\",\"Africa\"],\n",
    "     \"answer\" : \"Pakistan\"\n",
    "    } ,\n",
    "        \n",
    " 2:   { \"sno\" : 2,\n",
    "      \"question\" : \"What is your city name\",\n",
    "      \"option\" : [\"Pakistan\",\"UAE\",\"USA\",\"Africa\",\"Karachi\"],\n",
    "      \"answer\" :  \"Karachi\"\n",
    "     \n",
    "    } ,\n",
    "  3:  { \"sno\" : 3,\n",
    "      \"question\" : \"What is your subject name\",\n",
    "     \"option\" : [\"Pakistan\",\"UAE\",\"USA\",\"Africa\",\"Computer Science\"],\n",
    "     \"answer\" : \"Computer Science\"\n",
    "    } \n",
    " }\n",
    "def find_something(dict,inner_dict,target):\n",
    "    print(dict[inner_dict][target])\n",
    "    \n",
    "find_something(questions,3,\"question\")    \n",
    "find_something(questions,3,\"option\")    "
   ]
  },
  {
   "cell_type": "code",
   "execution_count": 37,
   "id": "0ae2d487",
   "metadata": {},
   "outputs": [
    {
     "name": "stdout",
     "output_type": "stream",
     "text": [
      "My class is BSCS and section is A\n",
      "Name : Mudassir\n",
      "Fathername :Zakir\n",
      "Email :raza@yahoo.com\n",
      "City:Karachi\n",
      "Country :Pakistan\n"
     ]
    }
   ],
   "source": [
    "#for insert/push more and many information(values) in a parameter we used * and loop\n",
    "def detail(Class,section,*otherinfo):\n",
    "    print(\"My class is \"+Class+\" and section is \"+section) \n",
    "    for information in otherinfo:\n",
    "        print(information)\n",
    "    \n",
    "detail(\"BSCS\",\"A\",\"Name : Mudassir\",\"Fathername :Zakir\",\"Email :raza@yahoo.com\",\"City:Karachi\",\"Country :Pakistan\")  "
   ]
  },
  {
   "cell_type": "code",
   "execution_count": 38,
   "id": "59f13b1f",
   "metadata": {},
   "outputs": [
    {
     "name": "stdout",
     "output_type": "stream",
     "text": [
      "My class is BSCS and section is A\n",
      "('Name :ALI', 'Fathername :RAZA', 'Email :ali@yahoo.com', 'City:Karachi', 'Country :Pakistan')\n"
     ]
    }
   ],
   "source": [
    " #without loop information come in this way\n",
    "def detail(Class,section,*otherinfo):\n",
    "    print(\"My class is \"+Class+\" and section is \"+section)\n",
    "    print(otherinfo)\n",
    "detail(\"BSCS\",\"A\",\"Name :ALI\",\"Fathername :RAZA\",\"Email :ali@yahoo.com\",\"City:Karachi\",\"Country :Pakistan\")        "
   ]
  },
  {
   "cell_type": "code",
   "execution_count": 39,
   "id": "11e1d79f",
   "metadata": {},
   "outputs": [
    {
     "name": "stdout",
     "output_type": "stream",
     "text": [
      "My class is BSCS and section is A\n",
      "Name\n",
      "Fathername\n",
      "Email\n",
      "City\n",
      "Country\n"
     ]
    }
   ],
   "source": [
    "#for excess keys and  in parameter we use ** and in loop using .items for excess both keys snd values\n",
    "def detail(Class,section,**otherinfo):\n",
    "    print(\"My class is \"+Class+\" and section is \"+section)\n",
    "    for information in otherinfo:\n",
    "        print(information)\n",
    "detail(\"BSCS\",\"A\",Name=\"ALI\",Fathername =\"RAZA\",Email=\"ali@yahoo.com\",City=\"Karachi\",Country=\"Pakistan\")        "
   ]
  },
  {
   "cell_type": "code",
   "execution_count": 40,
   "id": "3f33e395",
   "metadata": {},
   "outputs": [
    {
     "name": "stdout",
     "output_type": "stream",
     "text": [
      "My class is BSCS and section is A\n",
      "Name:ALI\n",
      "Fathername:RAZA\n",
      "Email:ali@yahoo.com\n",
      "City:Karachi\n",
      "Country:Pakistan\n"
     ]
    }
   ],
   "source": [
    "#for excess keys and  in parameter we use ** and in loop using .items for excess both keys snd values\n",
    "def detail(Class,section,**otherinfo):\n",
    "    print(\"My class is \"+Class+\" and section is \"+section)\n",
    "    for keys,values in otherinfo.items():\n",
    "        print(keys+\":\"+values)\n",
    "detail(\"BSCS\",\"A\",Name=\"ALI\",Fathername =\"RAZA\",Email=\"ali@yahoo.com\",City=\"Karachi\",Country=\"Pakistan\")"
   ]
  },
  {
   "cell_type": "code",
   "execution_count": 41,
   "id": "0264cac8",
   "metadata": {},
   "outputs": [
    {
     "name": "stdout",
     "output_type": "stream",
     "text": [
      "My class is BSCS and section is A\n",
      "Name:ALI\n",
      "Fathername:RAZA\n",
      "Email:ali@yahoo.com\n",
      "City:Karachi\n",
      "Country:Pakistan\n"
     ]
    }
   ],
   "source": [
    "def detail(Class,section,**otherinfo):\n",
    "    print(\"My class is \"+Class+\" and section is \"+section)\n",
    "    for a_key,b_values in otherinfo.items():\n",
    "        print(a_key+\":\"+b_values)\n",
    "detail(\"BSCS\",\"A\",Name=\"ALI\",Fathername =\"RAZA\",Email=\"ali@yahoo.com\",City=\"Karachi\",Country=\"Pakistan\")"
   ]
  },
  {
   "cell_type": "code",
   "execution_count": 42,
   "id": "cbdd70f0",
   "metadata": {},
   "outputs": [
    {
     "name": "stdout",
     "output_type": "stream",
     "text": [
      "My class is BSCS and section is A\n",
      "Name:ALI\n",
      "Fathername:RAZA\n",
      "Email:ali@yahoo.com\n",
      "City:Karachi\n",
      "Country:Pakistan\n"
     ]
    }
   ],
   "source": [
    "def detail(Class,section,**otherinfo):\n",
    "    print(\"My class is \"+Class+\" and section is \"+section)\n",
    "    for Forminformation,Detailinformation in otherinfo.items():\n",
    "        print(Forminformation+\":\"+Detailinformation)\n",
    "detail(\"BSCS\",\"A\",Name=\"ALI\",Fathername =\"RAZA\",Email=\"ali@yahoo.com\",City=\"Karachi\",Country=\"Pakistan\")"
   ]
  },
  {
   "cell_type": "code",
   "execution_count": 43,
   "id": "b14fd3b9",
   "metadata": {},
   "outputs": [
    {
     "name": "stdout",
     "output_type": "stream",
     "text": [
      "22\n"
     ]
    }
   ],
   "source": [
    "#if i want to print result out side of function so we used the keyword return jis ka through hum result ko bhr excess krsakta ha\n",
    "def sumfunction():\n",
    "    num1=3\n",
    "    num2=12\n",
    "    num3=7\n",
    "    result = num1+num2+num3\n",
    "    return result\n",
    "return_result=sumfunction()\n",
    "print(return_result)\n",
    "\n",
    "\n",
    "\n",
    "\n",
    "\n",
    "\n",
    "\n"
   ]
  },
  {
   "cell_type": "code",
   "execution_count": 44,
   "id": "1b66d079",
   "metadata": {},
   "outputs": [
    {
     "name": "stdout",
     "output_type": "stream",
     "text": [
      "317\n"
     ]
    }
   ],
   "source": [
    "def sumfunction():\n",
    "    number1=89\n",
    "    number2=87\n",
    "    number3=65\n",
    "    number4=76\n",
    "    result=number1+number2+number3+number4\n",
    "    return result#we use return here to excess the result outside of function\n",
    "return_result=sumfunction()#This is necessary to save function result when call return outsde of function that why we call function in return variable.\n",
    "print(return_result)"
   ]
  },
  {
   "cell_type": "code",
   "execution_count": 45,
   "id": "eed9c7d4",
   "metadata": {},
   "outputs": [
    {
     "name": "stdout",
     "output_type": "stream",
     "text": [
      "return_result1 : 22 \n",
      "\n",
      "return_result2 : 252 \n",
      "\n",
      "return_result3 : -16 \n",
      "\n",
      "return_result3 : -16 \n",
      "\n",
      "242\n"
     ]
    }
   ],
   "source": [
    "def sumfunction1():\n",
    "    num1=3\n",
    "    num2=12\n",
    "    num3=7\n",
    "    result = num1+num2+num3\n",
    "    return result\n",
    "return_result1=sumfunction1()\n",
    "print(\"return_result1 :\" ,return_result1 ,\"\\n\")\n",
    "\n",
    "def mulfunction2():\n",
    "    num1=3\n",
    "    num2=12\n",
    "    num3=7\n",
    "    result = num1*num2*num3\n",
    "    return result\n",
    "return_result2=mulfunction2()\n",
    "print(\"return_result2 :\" ,return_result2 ,\"\\n\")\n",
    " \n",
    "def subfunction3():\n",
    "    num1=3\n",
    "    num2=12\n",
    "    num3=7\n",
    "    result = num1-num2-num3\n",
    "    return result\n",
    "return_result3=subfunction3()\n",
    "print(\"return_result3 :\" ,return_result3 ,\"\\n\")\n",
    "\n",
    "def divfunction4():\n",
    "    num1=3\n",
    "    num2=12\n",
    "    num3=7\n",
    "    result = num1-num2-num3\n",
    "    return result\n",
    "return_result4=divfunction4()\n",
    "print(\"return_result3 :\" ,return_result4 ,\"\\n\")\n",
    "\n",
    "finalresult=return_result1+return_result2+return_result3+return_result4\n",
    "print(finalresult)\n"
   ]
  },
  {
   "cell_type": "code",
   "execution_count": 48,
   "id": "96ea8350",
   "metadata": {},
   "outputs": [
    {
     "name": "stdout",
     "output_type": "stream",
     "text": [
      "What is your name :raza\n",
      "RAZA is enrolled in SMITH  PYTHON PROGRAMMING 3 months\n"
     ]
    }
   ],
   "source": [
    "def courseinfo():\n",
    "    inst=\"SMITH\"\n",
    "    language=\"  PYTHON PROGRAMMING\"\n",
    "    duration=\" 3 months\"\n",
    "    return(inst+\"\"+language+\"\"+duration)\n",
    "#for multiple values return we used ()\n",
    "def userinfo():\n",
    "    name=input(\"What is your name :\")\n",
    "    result=name.upper()+\" \"+\"is enrolled in\"+\" \"+courseinfo() #for returnwe call function in variable\n",
    "    return result\n",
    "wholeinfo=userinfo()\n",
    "print(wholeinfo)"
   ]
  },
  {
   "cell_type": "code",
   "execution_count": 50,
   "id": "43834f2f",
   "metadata": {},
   "outputs": [
    {
     "name": "stdout",
     "output_type": "stream",
     "text": [
      "what is your name  mudassir\n",
      "\n",
      "MUDASSIR is enrolled in FUUAST COMPUTER SCIENCE 4 years \n"
     ]
    }
   ],
   "source": [
    "# call one function in to another\n",
    "def course():\n",
    "    inst=\"FUUAST\"\n",
    "    subject=\"COMPUTER SCIENCE\"\n",
    "    duration =\"4 years\"\n",
    "    return(inst+\" \"+subject+\" \"+duration+\" \")\n",
    "def userinfo():\n",
    "    name=input(\"what is your name  \")\n",
    "    result = \"\\n\"+name.upper()+\" is enrolled in \"+course()\n",
    "    return result\n",
    "wholeinfo=userinfo()\n",
    "print(wholeinfo)\n"
   ]
  },
  {
   "cell_type": "code",
   "execution_count": 51,
   "id": "c1332d90",
   "metadata": {},
   "outputs": [
    {
     "name": "stdout",
     "output_type": "stream",
     "text": [
      "What is your university name :  FUUAST\n",
      "\n",
      " You are enrolled in FUUAST\n",
      "name: MUHAMMAD MUDASSIR RAZA\n",
      "Class:   BSCS  \n",
      "Section:  A\n",
      " CNIC :42201-5510139-1\n",
      "Father Name  ZAKIR RAZA\n",
      "City Name: KARACHI\n",
      "\n"
     ]
    }
   ],
   "source": [
    "def personalinfo():\n",
    "    name=\"MUHAMMAD MUDASSIR RAZA\"\n",
    "    Class=\"  BSCS  \"\n",
    "    Section=\" A\"\n",
    "    return(\"\\n\"+\"name: \"+name+\"\\n\"+\"Class: \"+Class+\"\\n\"+\"Section: \"+Section)\n",
    "#for multiple values return we used ()\n",
    "def detailinfo():\n",
    "    CNIC=\"42201-5510139-1\"\n",
    "    Father_Name=\"  ZAKIR RAZA\"\n",
    "    Live_in=\" KARACHI\"\n",
    "    return(\"CNIC :\"+CNIC+\"\\n\"+\"Father Name\"+Father_Name+\"\\n\"+\"City Name:\"+Live_in+\"\\n\")\n",
    "#for multiple values return we used ()\n",
    "def userinfo():\n",
    "    University=input(\"What is your university name :  \")\n",
    "    result=\"\\n You are enrolled in \"+University+personalinfo()+\"\\n \"+detailinfo() #for returnwe call function in variable\n",
    "    return result\n",
    "wholeinfo=userinfo()\n",
    "print(wholeinfo)"
   ]
  },
  {
   "cell_type": "code",
   "execution_count": 52,
   "id": "0d044419",
   "metadata": {},
   "outputs": [
    {
     "name": "stdout",
     "output_type": "stream",
     "text": [
      "Umair Aslam\n"
     ]
    }
   ],
   "source": [
    "def addnum():\n",
    "    name =\"Umair\"\n",
    "    return name\n",
    "firstname=addnum()\n",
    "fullname=(firstname+\" \"+\"Aslam\")\n",
    "print(fullname)"
   ]
  },
  {
   "cell_type": "code",
   "execution_count": 53,
   "id": "743bd84a",
   "metadata": {},
   "outputs": [
    {
     "name": "stdout",
     "output_type": "stream",
     "text": [
      "MUHAMMAD MUDASSIR RAZA\n"
     ]
    }
   ],
   "source": [
    "def fullname(firstname ,middlename ,lastname):\n",
    "    firstname;\n",
    "    middlename;\n",
    "    lastname;\n",
    "    return(firstname +\" \"+middlename+\" \"+lastname)\n",
    "full_name=fullname(firstname=\"MUHAMMAD\",middlename=\"MUDASSIR\",lastname=\"RAZA\")\n",
    "print(full_name)\n",
    " "
   ]
  },
  {
   "cell_type": "code",
   "execution_count": 54,
   "id": "2f6591fc",
   "metadata": {},
   "outputs": [
    {
     "name": "stdout",
     "output_type": "stream",
     "text": [
      "5.0685\n"
     ]
    }
   ],
   "source": [
    "def calc_tax(sales_total, tax_rate):\n",
    "    print(sales_total * tax_rate)\n",
    "calc_tax(sales_total=101.37, tax_rate=.05) "
   ]
  },
  {
   "cell_type": "code",
   "execution_count": 55,
   "id": "4fe041d2",
   "metadata": {},
   "outputs": [
    {
     "name": "stdout",
     "output_type": "stream",
     "text": [
      "4.0548\n"
     ]
    }
   ],
   "source": [
    " def calc_tax(sales_total, tax_rate=.04):\n",
    "        print(sales_total * tax_rate)\n",
    "calc_tax(sales_total=101.37)"
   ]
  },
  {
   "cell_type": "code",
   "execution_count": 56,
   "id": "c16db297",
   "metadata": {},
   "outputs": [
    {
     "name": "stdout",
     "output_type": "stream",
     "text": [
      "4.0548\n"
     ]
    }
   ],
   "source": [
    " def calc_tax(sales_total, tax_rate=.04):\n",
    "        tax=sales_total * tax_rate\n",
    "        return tax\n",
    "        \n",
    "sale_tax=calc_tax(sales_total=101.37)\n",
    "print(sale_tax)"
   ]
  },
  {
   "cell_type": "code",
   "execution_count": 57,
   "id": "a57e31a3",
   "metadata": {},
   "outputs": [
    {
     "name": "stdout",
     "output_type": "stream",
     "text": [
      "4.0548\n"
     ]
    }
   ],
   "source": [
    "def calc_tax(sales_total, tax_rate=.04):\n",
    "        return(sales_total * tax_rate)\n",
    "        \n",
    "sale_tax=calc_tax(sales_total=101.37)\n",
    "print(sale_tax)"
   ]
  },
  {
   "cell_type": "code",
   "execution_count": 58,
   "id": "85497c39",
   "metadata": {},
   "outputs": [
    {
     "name": "stdout",
     "output_type": "stream",
     "text": [
      "Hello there, Ali\n"
     ]
    }
   ],
   "source": [
    "def give_greeting(greeting, first_name):\n",
    "    print(greeting + \", \" + first_name)\n",
    "give_greeting(\"Hello there\", first_name=\"Ali\")   "
   ]
  },
  {
   "cell_type": "code",
   "execution_count": 59,
   "id": "1f59700e",
   "metadata": {},
   "outputs": [
    {
     "name": "stdout",
     "output_type": "stream",
     "text": [
      "Hello there, Ali the wonder boy\n"
     ]
    }
   ],
   "source": [
    "def give_greeting(greeting, first_name,flattering_nickname=\" the wonder boy\"):\n",
    "    print(greeting + \", \" + first_name +flattering_nickname)\n",
    "give_greeting(\"Hello there\", first_name=\"Ali\")  "
   ]
  },
  {
   "cell_type": "code",
   "execution_count": 60,
   "id": "4998b4a8",
   "metadata": {},
   "outputs": [
    {
     "name": "stdout",
     "output_type": "stream",
     "text": [
      "4\n"
     ]
    }
   ],
   "source": [
    "def add_numbers(first_number, second_number):\n",
    "    return first_number + second_number\n",
    "\n",
    "def subtract_numbers(first_number, second_number):\n",
    "    return first_number - second_number\n",
    "\n",
    "result_of_adding = add_numbers(1, 2)\n",
    "\n",
    "result_of_subtracting = subtract_numbers(3, 2)\n",
    "\n",
    "sum_of_results = result_of_adding +result_of_subtracting\n",
    "\n",
    "print(sum_of_results)"
   ]
  },
  {
   "cell_type": "code",
   "execution_count": 61,
   "id": "d0cc5560",
   "metadata": {},
   "outputs": [
    {
     "name": "stdout",
     "output_type": "stream",
     "text": [
      "23\n",
      "1\n"
     ]
    }
   ],
   "source": [
    "#local variable define within in function\n",
    "def whatever():\n",
    "    y = 23 \n",
    "    print(y)\n",
    "    y = 1\n",
    "    print(y)\n",
    "whatever()"
   ]
  },
  {
   "cell_type": "code",
   "execution_count": 62,
   "id": "31d888ed",
   "metadata": {},
   "outputs": [
    {
     "name": "stdout",
     "output_type": "stream",
     "text": [
      "1\n"
     ]
    }
   ],
   "source": [
    "#global variable define outside in function\n",
    "y = 1\n",
    " \n",
    "def whatever():\n",
    "    \n",
    "    print(y)\n",
    "     \n",
    "whatever()\n",
    "\n",
    "\n"
   ]
  },
  {
   "cell_type": "code",
   "execution_count": 63,
   "id": "7c31c405",
   "metadata": {},
   "outputs": [
    {
     "name": "stdout",
     "output_type": "stream",
     "text": [
      "6\n"
     ]
    }
   ],
   "source": [
    "def whatever():\n",
    "    a = 1\n",
    "whatever()\n",
    "\n",
    "print(a)\n",
    "# you cant access local variable outside the function"
   ]
  },
  {
   "cell_type": "code",
   "execution_count": 64,
   "id": "b058c906",
   "metadata": {},
   "outputs": [
    {
     "name": "stdout",
     "output_type": "stream",
     "text": [
      "Hi\n"
     ]
    }
   ],
   "source": [
    "#functions within functions\n",
    "def say_something():\n",
    "    what_to_say = \"Hi\"\n",
    "    return(what_to_say)\n",
    "# now_say_it(say_something())\n",
    "# print(now_say_it)\n",
    "    \n",
    "def now_say_it(content):\n",
    "    print(content)\n",
    "now_say_it(say_something())    "
   ]
  },
  {
   "cell_type": "code",
   "execution_count": 65,
   "id": "afab0ebc",
   "metadata": {},
   "outputs": [
    {
     "name": "stdout",
     "output_type": "stream",
     "text": [
      "Hi\n"
     ]
    }
   ],
   "source": [
    "def say_something():\n",
    "    what_to_say = \"Hi\"\n",
    "    return what_to_say\n",
    "    \n",
    "now_say_it(say_something())\n",
    "    \n",
    "    \n",
    "def now_say_it(content):\n",
    "    print(content)    \n",
    "    "
   ]
  },
  {
   "cell_type": "markdown",
   "id": "1840fd4b",
   "metadata": {},
   "source": [
    "# while loops :"
   ]
  },
  {
   "cell_type": "code",
   "execution_count": 66,
   "id": "99f02117",
   "metadata": {},
   "outputs": [],
   "source": [
    "#when you want to select more than one city means continue selection you can used whie loop.\n",
    "# while work continously until you quit"
   ]
  },
  {
   "cell_type": "code",
   "execution_count": 67,
   "id": "b88f8d94",
   "metadata": {},
   "outputs": [
    {
     "name": "stdout",
     "output_type": "stream",
     "text": [
      "Enter a city, or q toquit:karachi\n",
      "It's one of the cleanest cities\n",
      "Enter a city, or q toquit:q\n"
     ]
    }
   ],
   "source": [
    "cleanest_cities = [\"karachi\", \"lahore\", \"islamabad\",\"peshawar\", \"quetta\"]\n",
    "user_input = \"\"\n",
    "while user_input != \"q\":\n",
    "    user_input = input(\"Enter a city, or q toquit:\")\n",
    "    if user_input != \"q\":\n",
    "        for a_clean_city in cleanest_cities:\n",
    "            if user_input == a_clean_city:\n",
    "                print(\"It's one of the cleanest cities\")\n",
    "                break"
   ]
  },
  {
   "cell_type": "code",
   "execution_count": 68,
   "id": "6eb15237",
   "metadata": {},
   "outputs": [
    {
     "name": "stdout",
     "output_type": "stream",
     "text": [
      "\n",
      "1) karachi\n",
      "2) lahore\n",
      "3) islamabad\n",
      "4) peshawar\n",
      "5) quetta\n",
      "Enter a city, or q to quit/exit:karachi\n",
      "It's one of the cleanest cities\n",
      "\n",
      "1) karachi\n",
      "2) lahore\n",
      "3) islamabad\n",
      "4) peshawar\n",
      "5) quetta\n",
      "Enter a city, or q to quit/exit:q\n"
     ]
    }
   ],
   "source": [
    "#now using flag make code easy\n",
    "cleanest_cities = [\"karachi\", \"lahore\", \"islamabad\",\"peshawar\", \"quetta\"]\n",
    "data =\"\\n\" + \"1) \"+str(cleanest_cities[0])+\"\\n\" + \"2) \"+str(cleanest_cities[1])+\"\\n\" + \"3) \"+str(cleanest_cities[2])+\"\\n\" + \"4) \"+str(cleanest_cities[3])+\"\\n\" + \"5) \"+str(cleanest_cities[4])+\"\\n\"\n",
    "# print(data)\n",
    "flag=True\n",
    "while  flag == True:\n",
    "    user_input = input(data +\"Enter a city, or q to quit/exit:\")\n",
    "    if user_input != \"q\":\n",
    "        for a_clean_city in cleanest_cities:\n",
    "            if user_input == a_clean_city:\n",
    "                print(\"It's one of the cleanest cities\")\n",
    "                break\n",
    "    else:\n",
    "        flag=False\n"
   ]
  },
  {
   "cell_type": "code",
   "execution_count": 70,
   "id": "35f4e17c",
   "metadata": {},
   "outputs": [
    {
     "name": "stdout",
     "output_type": "stream",
     "text": [
      "Elements in our list: \n",
      "\n",
      "options:\n",
      "1.Add Element\n",
      "2.Delete Element\n",
      "3.Delete All Element\n",
      "4.Exit\n",
      "\n",
      "Note: please give input in numbers e.g:1,2,3,4\n",
      "\n",
      "Enter your choice: 1\n",
      "\n",
      "Enter your element: raza\n",
      "Elements in our list: \n",
      "1 ) raza\n",
      "\n",
      "options:\n",
      "1.Add Element\n",
      "2.Delete Element\n",
      "3.Delete All Element\n",
      "4.Exit\n",
      "\n",
      "Note: please give input in numbers e.g:1,2,3,4\n",
      "\n",
      "Enter your choice: 1\n",
      "\n",
      "Enter your element: ali\n",
      "Elements in our list: \n",
      "2 ) raza\n",
      "3 ) ali\n",
      "\n",
      "options:\n",
      "1.Add Element\n",
      "2.Delete Element\n",
      "3.Delete All Element\n",
      "4.Exit\n",
      "\n",
      "Note: please give input in numbers e.g:1,2,3,4\n",
      "\n",
      "Enter your choice: 4\n"
     ]
    }
   ],
   "source": [
    " #today list in python\n",
    "elements=[]\n",
    "i=1\n",
    "while True :\n",
    "    print(\"Elements in our list: \")\n",
    "    for element in elements:\n",
    "        print(i,\")\" ,element)\n",
    "        i+=1\n",
    "    print(\"\\noptions:\")\n",
    "    print(\"1.Add Element\")\n",
    "    print(\"2.Delete Element\")\n",
    "    print(\"3.Delete All Element\")\n",
    "    print(\"4.Exit\")\n",
    "    print(\"\\nNote: please give input in numbers e.g:1,2,3,4\")\n",
    "    inp=input(\"\\nEnter your choice: \")\n",
    "    if inp == '1':\n",
    "        elements.append(input(\"\\nEnter your element: \"))\n",
    "    elif inp == '2':\n",
    "        elements.remove(input(\"\\nEnter your element: \"))\n",
    "    elif inp == '2':\n",
    "        elements.clear()\n",
    "    elif inp == '4':\n",
    "         break  \n",
    "    else :\n",
    "        print(\"Invalid Syntax\")"
   ]
  },
  {
   "cell_type": "code",
   "execution_count": 71,
   "id": "2d890533",
   "metadata": {},
   "outputs": [
    {
     "name": "stdout",
     "output_type": "stream",
     "text": [
      "Marks 89\n"
     ]
    }
   ],
   "source": [
    "marks=89\n",
    "print(\"Marks\",marks)"
   ]
  },
  {
   "cell_type": "code",
   "execution_count": 79,
   "id": "603886a9",
   "metadata": {},
   "outputs": [
    {
     "name": "stdout",
     "output_type": "stream",
     "text": [
      "Marks :89\n"
     ]
    }
   ],
   "source": [
    "marks=\"89\"\n",
    "print(\"Marks :{}\".format(marks))"
   ]
  },
  {
   "cell_type": "code",
   "execution_count": 80,
   "id": "d7a35c87",
   "metadata": {},
   "outputs": [
    {
     "name": "stdout",
     "output_type": "stream",
     "text": [
      "Marks :89\n"
     ]
    }
   ],
   "source": [
    "marks=89\n",
    "print(\"Marks :{}\".format(marks))"
   ]
  },
  {
   "cell_type": "code",
   "execution_count": null,
   "id": "7d60a1d4",
   "metadata": {},
   "outputs": [],
   "source": []
  },
  {
   "cell_type": "code",
   "execution_count": null,
   "id": "4d86ad02",
   "metadata": {},
   "outputs": [],
   "source": [
    "def checkPrime(X):\n",
    "    if X > 1:\n",
    "        for i in range(2,int(X/2)+1):\n",
    "            if(X % i)==0:\n",
    "                print(X, \" is not a prime number\\n\")\n",
    "                print(\"The factors of\", X, \"are: \")\n",
    "                for j in range(1, X+1):\n",
    "                    if(X % j)==0:\n",
    "                        print(j,\" \")\n",
    "                break\n",
    "            else:\n",
    "                print(X, \" is a prime number\")\n",
    "    else:\n",
    "        print(X, \" is 1 or less than one and it's not prime\")\n",
    "\n",
    "X=int(input(\"Enter a positive Number: \"))\n",
    "checkPrime(X) \n"
   ]
  },
  {
   "cell_type": "code",
   "execution_count": null,
   "id": "8d358b6e",
   "metadata": {},
   "outputs": [],
   "source": [
    "def prime(n): \n",
    " isprime = True \n",
    "\tif n<2: \n",
    "\t\tisprime = False \n",
    "\telse: \n",
    "\t\tfor i in range(2,n): \n",
    "\t\t\tif n%i==0: \n",
    "\t\t\t\tisprime = False \n",
    "\t\t\t\tbreak \n",
    "\treturn isprime \n",
    " \n",
    "def factors(n): \n",
    "\tfact,factlist = 2,[1] \n",
    "\tfor i in range(2,n): \n",
    "\t\tif not n%i: \n",
    "\t\t\tfact += 1 \n",
    "\t\t\tfactlist.append(i) \n",
    "\tfactlist.append(n) \n",
    "\treturn (fact,factlist) \n",
    " \n",
    "n = int(input('Enter any number: ')) \n",
    "print('Prime number:',prime(n)) \n",
    "print('Number of factors:',factors(n)[0]) \n",
    "print('List of factors:',factors(n)[1]) "
   ]
  }
 ],
 "metadata": {
  "kernelspec": {
   "display_name": "Python 3 (ipykernel)",
   "language": "python",
   "name": "python3"
  },
  "language_info": {
   "codemirror_mode": {
    "name": "ipython",
    "version": 3
   },
   "file_extension": ".py",
   "mimetype": "text/x-python",
   "name": "python",
   "nbconvert_exporter": "python",
   "pygments_lexer": "ipython3",
   "version": "3.9.12"
  }
 },
 "nbformat": 4,
 "nbformat_minor": 5
}
