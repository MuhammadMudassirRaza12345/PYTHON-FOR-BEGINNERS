{
 "cells": [
  {
   "cell_type": "markdown",
   "id": "a64b8a4a",
   "metadata": {},
   "source": [
    "# Functions"
   ]
  },
  {
   "cell_type": "markdown",
   "id": "8553860d",
   "metadata": {},
   "source": [
    "### Functions is like block of code through this we can do same thing many  time without typing code again and again"
   ]
  },
  {
   "cell_type": "code",
   "execution_count": 1,
   "id": "3ed2c6fc",
   "metadata": {},
   "outputs": [
    {
     "name": "stdout",
     "output_type": "stream",
     "text": [
      "4\n"
     ]
    }
   ],
   "source": [
    "a=1\n",
    "b=3\n",
    "c=a+b\n",
    "print(c)"
   ]
  },
  {
   "cell_type": "code",
   "execution_count": 2,
   "id": "21f7428a",
   "metadata": {},
   "outputs": [
    {
     "name": "stdout",
     "output_type": "stream",
     "text": [
      "4\n",
      "4\n"
     ]
    }
   ],
   "source": [
    "#now we do with function\n",
    "def sum():\n",
    "    a=1\n",
    "    b=3\n",
    "    c=a+b\n",
    "    print(c)\n",
    "sum()  \n",
    "sum()  "
   ]
  },
  {
   "cell_type": "code",
   "execution_count": 3,
   "id": "46843383",
   "metadata": {},
   "outputs": [
    {
     "name": "stdout",
     "output_type": "stream",
     "text": [
      "55\n",
      "5\n"
     ]
    }
   ],
   "source": [
    "def sum(a,b):  #parameters\n",
    "     \n",
    "    c=a+b\n",
    "    print(c)\n",
    "sum(22,33)  #positon arguments\n",
    "sum(2,3)  "
   ]
  },
  {
   "cell_type": "code",
   "execution_count": 4,
   "id": "76166bb3",
   "metadata": {
    "scrolled": true
   },
   "outputs": [
    {
     "name": "stdout",
     "output_type": "stream",
     "text": [
      "Enter the first number: 10\n",
      "\n",
      "Enter the second number :5\n",
      "\n",
      " Sum of a + b  is :  15.0 \n",
      "\n",
      "Substract of a - b  is :  5.0 \n",
      "\n",
      "Multiplication  of a * b  is :  50.0 \n",
      "\n",
      "Division of a / b  is :  2.0 \n",
      "\n",
      "Modulus of a % b  is :  0.0 \n",
      "\n"
     ]
    }
   ],
   "source": [
    "a=float(input(\"Enter the first number: \" ))\n",
    "b=float(input(\"\\n\"+\"Enter the second number :\"))\n",
    "\n",
    "def cal(a,b):\n",
    "    c=a+b\n",
    "    print(\"\\n\",\"Sum of a + b  is : \",c,\"\\n\")\n",
    "    d=a-b\n",
    "    print(\"Substract of a - b  is : \",d,\"\\n\")\n",
    "    e=a*b\n",
    "    print(\"Multiplication  of a * b  is : \",e,\"\\n\")\n",
    "    f=a/b\n",
    "    print(\"Division of a / b  is : \",f,\"\\n\")\n",
    "    g=a%b\n",
    "    print(\"Modulus of a % b  is : \",g,\"\\n\")\n",
    "cal(a,b)    \n",
    "    "
   ]
  },
  {
   "cell_type": "code",
   "execution_count": 5,
   "id": "c57db507",
   "metadata": {},
   "outputs": [
    {
     "name": "stdout",
     "output_type": "stream",
     "text": [
      "39\n"
     ]
    }
   ],
   "source": [
    "def addition(a,b):\n",
    "    sum=a+b\n",
    "    print(sum)\n",
    "addition(a=5,b=34)  "
   ]
  },
  {
   "cell_type": "code",
   "execution_count": 6,
   "id": "46d7f042",
   "metadata": {},
   "outputs": [
    {
     "name": "stdout",
     "output_type": "stream",
     "text": [
      "5\n"
     ]
    }
   ],
   "source": [
    "firstnum = 2  \n",
    "secondnum =3 \n",
    "#agr data phela sa diya ho to ap parameters change bhi krsakta hai\n",
    "def addnum(num1,num2):  #parameters\n",
    "    result =num1+num2\n",
    "    print(result)\n",
    "addnum(firstnum,secondnum) "
   ]
  },
  {
   "cell_type": "code",
   "execution_count": 7,
   "id": "0dc8b3b1",
   "metadata": {},
   "outputs": [
    {
     "name": "stdout",
     "output_type": "stream",
     "text": [
      "5\n"
     ]
    }
   ],
   "source": [
    "firstnum = 2  \n",
    "secondnum =3 \n",
    "#agr data phela sa diya ho to ap parameters change bhi krsakta hai\n",
    "def addnum(eight,ten):    #parameters\n",
    "    result = eight +ten\n",
    "    print(result)\n",
    "addnum(firstnum,secondnum)"
   ]
  },
  {
   "cell_type": "code",
   "execution_count": 8,
   "id": "b6b7a765",
   "metadata": {},
   "outputs": [
    {
     "name": "stdout",
     "output_type": "stream",
     "text": [
      "-4\n"
     ]
    }
   ],
   "source": [
    "firstnum =8 \n",
    "secondnum =4\n",
    "def addnum(secondnum,firstnum):\n",
    "    result =firstnum-secondnum  #firstnum=4 ,secondnum=8\n",
    "    print(result)\n",
    "addnum(firstnum,secondnum)"
   ]
  },
  {
   "cell_type": "code",
   "execution_count": 9,
   "id": "b3998fc3",
   "metadata": {},
   "outputs": [
    {
     "name": "stdout",
     "output_type": "stream",
     "text": [
      "4\n"
     ]
    }
   ],
   "source": [
    "firstnum =8 \n",
    "secondnum =4\n",
    "def addnum(eight,four):\n",
    "    result =eight-four\n",
    "    print(result)\n",
    "addnum(firstnum,secondnum)"
   ]
  },
  {
   "cell_type": "code",
   "execution_count": 10,
   "id": "9ace46ce",
   "metadata": {},
   "outputs": [
    {
     "name": "stdout",
     "output_type": "stream",
     "text": [
      "4\n"
     ]
    }
   ],
   "source": [
    "firstnum =8 \n",
    "def addnum(eight,four=4):\n",
    "    result =eight-four\n",
    "    print(result)\n",
    "addnum(firstnum)"
   ]
  },
  {
   "cell_type": "code",
   "execution_count": 11,
   "id": "aaaef043",
   "metadata": {},
   "outputs": [
    {
     "name": "stdout",
     "output_type": "stream",
     "text": [
      "5\n"
     ]
    }
   ],
   "source": [
    " \n",
    "def add(num1,num2):\n",
    "    total=num1+num2\n",
    "    print(total)\n",
    "    \n",
    "add(num1=2,num2=3) "
   ]
  },
  {
   "cell_type": "code",
   "execution_count": 12,
   "id": "c54f3ef3",
   "metadata": {},
   "outputs": [
    {
     "name": "stdout",
     "output_type": "stream",
     "text": [
      "15.0\n"
     ]
    }
   ],
   "source": [
    "#  jb data or parameters same na ho to parameters and arguments same rakha ga\n",
    "def add(num1,num2):\n",
    "    total=a+b\n",
    "    print(total)\n",
    "    \n",
    "add(num1=2,num2=3) "
   ]
  },
  {
   "cell_type": "code",
   "execution_count": 13,
   "id": "8e5fda37",
   "metadata": {},
   "outputs": [
    {
     "name": "stdout",
     "output_type": "stream",
     "text": [
      "4\n"
     ]
    }
   ],
   "source": [
    "firstnum =8 \n",
    "def addnum(eight,four=4):\n",
    "    result =eight-four\n",
    "    print(result)\n",
    "addnum(firstnum)"
   ]
  },
  {
   "cell_type": "code",
   "execution_count": 14,
   "id": "1d1c74a8",
   "metadata": {},
   "outputs": [
    {
     "name": "stdout",
     "output_type": "stream",
     "text": [
      "4\n"
     ]
    }
   ],
   "source": [
    " \n",
    "def addnum(firstnum,four=4):\n",
    "    result = firstnum -four\n",
    "    print(result)\n",
    "addnum(firstnum=8)"
   ]
  },
  {
   "cell_type": "code",
   "execution_count": 15,
   "id": "33b74d24",
   "metadata": {},
   "outputs": [
    {
     "name": "stdout",
     "output_type": "stream",
     "text": [
      "12\n"
     ]
    }
   ],
   "source": [
    "firstnum=8\n",
    "def addnum(ten , four=4):\n",
    "    result = ten + four\n",
    "    print(result)\n",
    "addnum(firstnum)"
   ]
  },
  {
   "cell_type": "code",
   "execution_count": null,
   "id": "fc7c4817",
   "metadata": {},
   "outputs": [],
   "source": []
  },
  {
   "cell_type": "code",
   "execution_count": 16,
   "id": "8e17ef03",
   "metadata": {},
   "outputs": [
    {
     "name": "stdout",
     "output_type": "stream",
     "text": [
      "61\n"
     ]
    }
   ],
   "source": [
    "#we also pass more than one parameters\n",
    "def sum(a,b,c,d):   \n",
    "    e=a+b+c+d\n",
    "    print(e)\n",
    "sum(22,33,4,2)   \n",
    " "
   ]
  },
  {
   "cell_type": "code",
   "execution_count": 17,
   "id": "a3c941af",
   "metadata": {},
   "outputs": [
    {
     "name": "stdout",
     "output_type": "stream",
     "text": [
      "Enter your name : asad\n",
      "Hello ASAD\n"
     ]
    }
   ],
   "source": [
    "name=input(\"Enter your name : \")\n",
    "def greeting(name):\n",
    "    print(\"Hello\",name)\n",
    "greeting(name.upper())    "
   ]
  },
  {
   "cell_type": "code",
   "execution_count": 18,
   "id": "872185c5",
   "metadata": {},
   "outputs": [
    {
     "name": "stdout",
     "output_type": "stream",
     "text": [
      "Enter your name : raza\n",
      "Good Morning Raza\n"
     ]
    }
   ],
   "source": [
    "name=input(\"Enter your name : \")\n",
    "def greeting(name):\n",
    "    greet=\"Good Morning\"\n",
    "    print( greet,name)\n",
    "greeting(name.capitalize()) "
   ]
  },
  {
   "cell_type": "code",
   "execution_count": 19,
   "id": "5843af57",
   "metadata": {},
   "outputs": [
    {
     "name": "stdout",
     "output_type": "stream",
     "text": [
      "Enter your name : ali\n",
      "Good Morning Ali\n"
     ]
    }
   ],
   "source": [
    "name=input(\"Enter your name : \")\n",
    "greet=\"Good Morning\"\n",
    "def greeting(greet,name):\n",
    "    \n",
    "    print( greet,name)\n",
    "greeting(greet,name.title()) "
   ]
  },
  {
   "cell_type": "code",
   "execution_count": 20,
   "id": "b1a223a1",
   "metadata": {},
   "outputs": [
    {
     "name": "stdout",
     "output_type": "stream",
     "text": [
      "Enter your name : FAHAD\n",
      "good morning fahad\n"
     ]
    }
   ],
   "source": [
    "name=input(\"Enter your name : \")\n",
    "greet=\"Good Morning\"\n",
    "def greeting(greet,name):\n",
    "    gree=greet +\" \"+name      \n",
    "    print(gree.lower())\n",
    "greeting(greet,name) "
   ]
  },
  {
   "cell_type": "code",
   "execution_count": 21,
   "id": "b89f2a30",
   "metadata": {},
   "outputs": [
    {
     "name": "stdout",
     "output_type": "stream",
     "text": [
      "Hello Pakistan \n",
      " welcome \n",
      " summer\n",
      " hot\n",
      "\n"
     ]
    }
   ],
   "source": [
    "greeting = \"Hello Pakistan \\n\"\n",
    "entering = \"welcome \\n\"\n",
    "season = \"summer\\n\"\n",
    "temperature = \"hot\\n\" \n",
    "def user(a,b,c,d):#parameter\n",
    "    print(a,b,c,d)\n",
    "   \n",
    "user(greeting,entering,season,temperature)#Arguments   "
   ]
  },
  {
   "cell_type": "code",
   "execution_count": 22,
   "id": "2680815d",
   "metadata": {},
   "outputs": [
    {
     "name": "stdout",
     "output_type": "stream",
     "text": [
      "20\n"
     ]
    },
    {
     "data": {
      "text/plain": [
       "20"
      ]
     },
     "execution_count": 22,
     "metadata": {},
     "output_type": "execute_result"
    }
   ],
   "source": [
    "a=6\n",
    "b=4\n",
    "c=4\n",
    "d=6\n",
    "def addition(a,b,c,d):\n",
    "    sum=a+b+c+d\n",
    "    print(sum)\n",
    "addition(a,b,c,d)\n",
    "20"
   ]
  },
  {
   "cell_type": "code",
   "execution_count": 23,
   "id": "e9f1c9da",
   "metadata": {},
   "outputs": [
    {
     "name": "stdout",
     "output_type": "stream",
     "text": [
      "20\n"
     ]
    }
   ],
   "source": [
    "a=6\n",
    "b=4\n",
    "c=4\n",
    "d=6\n",
    "def addition(r,g,f,t):\n",
    "    sum=r+g+f+t\n",
    "    print(sum)\n",
    "addition(a,b,c,d)"
   ]
  },
  {
   "cell_type": "code",
   "execution_count": 24,
   "id": "1ef0d62e",
   "metadata": {},
   "outputs": [
    {
     "name": "stdout",
     "output_type": "stream",
     "text": [
      "Hello Pakistan \n",
      " welcome \n",
      " summer\n",
      " hot\n",
      "\n"
     ]
    }
   ],
   "source": [
    "greeting = \"Hello Pakistan \\n\"\n",
    "entering = \"welcome \\n\"\n",
    "season = \"summer\\n\"\n",
    "temperature = \"hot\\n\"\n",
    "def user(greeting,entering,season,temperature):\n",
    "    print(greeting,entering,season,temperature)\n",
    "user(greeting,entering,season,temperature)   \n",
    "    "
   ]
  },
  {
   "cell_type": "code",
   "execution_count": 25,
   "id": "9ee10e59",
   "metadata": {},
   "outputs": [
    {
     "name": "stdout",
     "output_type": "stream",
     "text": [
      "Hello Pakistan \n",
      " welcome \n",
      " summer\n",
      " hot\n",
      "\n"
     ]
    }
   ],
   "source": [
    "def user(a,b,c,d):\n",
    "    print(a,b,c,d)\n",
    "    \n",
    "greeting = \"Hello Pakistan \\n\"\n",
    "entering = \"welcome \\n\"\n",
    "season = \"summer\\n\"\n",
    "temperature = \"hot\\n\"    \n",
    "user(greeting,entering,season,temperature)   \n",
    "    "
   ]
  },
  {
   "cell_type": "code",
   "execution_count": 26,
   "id": "bb9ac261",
   "metadata": {},
   "outputs": [
    {
     "name": "stdout",
     "output_type": "stream",
     "text": [
      "Enter husband namezakir \n",
      "Enter wife nameshamim\n",
      "ZAKIR   and  SHAMIM are husband and wife\n"
     ]
    }
   ],
   "source": [
    "husband_name=input(\"Enter husband name\")\n",
    "wife_name=input(\"Enter wife name\")\n",
    "def couple(husband_name,wife_name):\n",
    "    print(husband_name,\" and \",wife_name, \"are husband and wife\") \n",
    "couple(husband_name.upper(),wife_name.upper()) \n",
    "\n",
    "# dono parameters ka lia value dena zarori ha"
   ]
  },
  {
   "cell_type": "code",
   "execution_count": 1,
   "id": "d42ef9bd",
   "metadata": {},
   "outputs": [
    {
     "name": "stdout",
     "output_type": "stream",
     "text": [
      "Enter husband nameZakir Raza\n",
      "Enter wife nameShamim \n",
      "SHAMIM   and  ZAKIR RAZA are husband and wife\n"
     ]
    }
   ],
   "source": [
    "# husband_name=input(\"Enter husband name\")\n",
    "# wife_name=input(\"Enter wife name\")\n",
    "# def couple(husband_name,wife_name):\n",
    "#     print(husband_name,\" and \",wife_name, \"are husband and wife\") \n",
    "# couple(wife_name.upper(),husband_name.upper()) \n",
    "\n",
    "# # dono parameters ka lia value dena zarori ha"
   ]
  },
  {
   "cell_type": "code",
   "execution_count": 27,
   "id": "d787c3a2",
   "metadata": {},
   "outputs": [
    {
     "name": "stdout",
     "output_type": "stream",
     "text": [
      "Enter the first name : muhammad \n",
      "Enter the middle name  : mudassir \n",
      "Enter the last name  : raza\n",
      "Your full name is : MUHAMMAD  MUDASSIR  RAZA \n"
     ]
    }
   ],
   "source": [
    "firstname=input(\"Enter the first name : \").upper()\n",
    "middlename=input(\"Enter the middle name  : \").upper()\n",
    "lastname=input(\"Enter the last name  : \").upper()\n",
    "\n",
    "def fullname(firstname,middlename,lastname):\n",
    "    print(\"Your full name is : \"+firstname+\" \"+middlename+\" \"+lastname+\" \")\n",
    "    \n",
    "fullname(firstname,middlename,lastname)"
   ]
  },
  {
   "cell_type": "code",
   "execution_count": 28,
   "id": "6fd9a7b4",
   "metadata": {},
   "outputs": [
    {
     "name": "stdout",
     "output_type": "stream",
     "text": [
      "mudassirraza\n"
     ]
    }
   ],
   "source": [
    "def username(lastname,firstname,):\n",
    "    fullname=firstname+lastname\n",
    "    print(fullname)\n",
    "username(firstname='mudassir',lastname='raza')  "
   ]
  },
  {
   "cell_type": "code",
   "execution_count": 29,
   "id": "893700bb",
   "metadata": {},
   "outputs": [
    {
     "name": "stdout",
     "output_type": "stream",
     "text": [
      "razamudassir\n"
     ]
    }
   ],
   "source": [
    "def username(lastname,firstname,):\n",
    "    fullname=lastname+firstname\n",
    "    print(fullname)\n",
    "username(firstname='mudassir',lastname='raza') "
   ]
  },
  {
   "cell_type": "code",
   "execution_count": 30,
   "id": "6116fab8",
   "metadata": {},
   "outputs": [
    {
     "ename": "SyntaxError",
     "evalue": "non-default argument follows default argument (123616646.py, line 2)",
     "output_type": "error",
     "traceback": [
      "\u001b[1;36m  Input \u001b[1;32mIn [30]\u001b[1;36m\u001b[0m\n\u001b[1;33m    def course(institute,language=\"python programming\",duration):\u001b[0m\n\u001b[1;37m                                                               ^\u001b[0m\n\u001b[1;31mSyntaxError\u001b[0m\u001b[1;31m:\u001b[0m non-default argument follows default argument\n"
     ]
    }
   ],
   "source": [
    "institute=\"SMITH\"\n",
    "def course(institute,language=\"python programming\",duration): #manditary parameters must comes in last\n",
    "    print(institute+\"  \"+language+\"  \"+duration)\n",
    "course(institute,language,duration=\"3 months\")\n"
   ]
  },
  {
   "cell_type": "code",
   "execution_count": 31,
   "id": "c66efcf8",
   "metadata": {},
   "outputs": [
    {
     "name": "stdout",
     "output_type": "stream",
     "text": [
      "SMITH  python programming  3 months\n"
     ]
    }
   ],
   "source": [
    "#default parameter value always comes in last\n",
    "institute=\"SMITH\"\n",
    "def course(institute,duration,language=\"python programming\"): #manditary parameters must comes in last\n",
    "    print(institute+\"  \"+language+\"  \"+duration)\n",
    "course(institute,duration=\"3 months\")"
   ]
  },
  {
   "cell_type": "code",
   "execution_count": 32,
   "id": "711eadf4",
   "metadata": {},
   "outputs": [
    {
     "name": "stdout",
     "output_type": "stream",
     "text": [
      "4.0548\n"
     ]
    }
   ],
   "source": [
    "   def calc_tax(sales_total, tax_rate):\n",
    "        print(sales_total * tax_rate)\n",
    "calc_tax(sales_total=101.37, tax_rate=.04) "
   ]
  },
  {
   "cell_type": "code",
   "execution_count": 4,
   "id": "0162afdb",
   "metadata": {},
   "outputs": [
    {
     "name": "stdout",
     "output_type": "stream",
     "text": [
      "4.0548\n",
      "4.0548\n",
      "91.233\n",
      "10.137\n"
     ]
    }
   ],
   "source": [
    "   def calc_tax(sales_total, tax_rate=.04):\n",
    "        print(sales_total * tax_rate)\n",
    "calc_tax(sales_total=101.37)\n",
    "calc_tax(101.37)\n",
    "calc_tax(sales_total=101.37,tax_rate=0.9)\n",
    "calc_tax(101.37,0.10)\n"
   ]
  },
  {
   "cell_type": "code",
   "execution_count": null,
   "id": "475883c1",
   "metadata": {},
   "outputs": [],
   "source": [
    "  "
   ]
  },
  {
   "cell_type": "code",
   "execution_count": 34,
   "id": "bf21b78b",
   "metadata": {},
   "outputs": [
    {
     "name": "stdout",
     "output_type": "stream",
     "text": [
      "MY name is mudassir\n"
     ]
    }
   ],
   "source": [
    "pronoun=\"MY name\"\n",
    "def personalinformation(pronoun,verb,name=\"mudassir\"):\n",
    "    print(pronoun+\" \"+verb+\" \"+name)\n",
    "personalinformation(pronoun,verb=\"is\")    "
   ]
  },
  {
   "cell_type": "code",
   "execution_count": 35,
   "id": "3967148f",
   "metadata": {},
   "outputs": [
    {
     "name": "stdout",
     "output_type": "stream",
     "text": [
      "My name is MUHAMMAD MUDASSIR RAZA and my fahter name is ZAKIR RAZA\n"
     ]
    }
   ],
   "source": [
    "def personalinfo(name,fathername):\n",
    "    print(\"My name is \"+name+\" and my fahter name is \"+fathername)\n",
    "personalinfo(name=\"MUHAMMAD MUDASSIR RAZA\",fathername=\"ZAKIR RAZA\")    "
   ]
  },
  {
   "cell_type": "code",
   "execution_count": 36,
   "id": "7b275e1d",
   "metadata": {},
   "outputs": [
    {
     "name": "stdout",
     "output_type": "stream",
     "text": [
      "What is your subject name\n",
      "['Pakistan', 'UAE', 'USA', 'Africa', 'Computer Science']\n"
     ]
    }
   ],
   "source": [
    "\n",
    "questions={\n",
    "  1:  { \"sno\" : 1,\n",
    "      \"question\" : \"What is your country name\",\n",
    "     \"option\" : [\"Pakistan\",\"UAE\",\"USA\",\"Africa\"],\n",
    "     \"answer\" : \"Pakistan\"\n",
    "    } ,\n",
    "        \n",
    " 2:   { \"sno\" : 2,\n",
    "      \"question\" : \"What is your city name\",\n",
    "      \"option\" : [\"Pakistan\",\"UAE\",\"USA\",\"Africa\",\"Karachi\"],\n",
    "      \"answer\" :  \"Karachi\"\n",
    "     \n",
    "    } ,\n",
    "  3:  { \"sno\" : 3,\n",
    "      \"question\" : \"What is your subject name\",\n",
    "     \"option\" : [\"Pakistan\",\"UAE\",\"USA\",\"Africa\",\"Computer Science\"],\n",
    "     \"answer\" : \"Computer Science\"\n",
    "    } \n",
    " }\n",
    "def find_something(dict,inner_dict,target):\n",
    "    print(dict[inner_dict][target])\n",
    "    \n",
    "find_something(questions,3,\"question\")    \n",
    "find_something(questions,3,\"option\")    "
   ]
  },
  {
   "cell_type": "code",
   "execution_count": 6,
   "id": "508f33cd",
   "metadata": {},
   "outputs": [
    {
     "name": "stdout",
     "output_type": "stream",
     "text": [
      "fahad\n",
      "['Pakistan', 'UAE', 'USA', 'Africa', 'Computer Science']\n"
     ]
    }
   ],
   "source": [
    "\n",
    "questions={\n",
    "  1:  { \"sno\" : 1,\n",
    "      \"name\" : \"raza\",\n",
    "      \"question\" : \"What is your country name\",\n",
    "     \"option\" : [\"Pakistan\",\"UAE\",\"USA\",\"Africa\"],\n",
    "     \"answer\" : \"Pakistan\"\n",
    "    } ,\n",
    "        \n",
    " 2:   { \"sno\" : 2,\n",
    "       \"name\" : \"ali\",\n",
    "      \"question\" : \"What is your city name\",\n",
    "      \"option\" : [\"Pakistan\",\"UAE\",\"USA\",\"Africa\",\"Karachi\"],\n",
    "      \"answer\" :  \"Karachi\"\n",
    "     \n",
    "    } ,\n",
    "  3:  { \"sno\" : 3,\n",
    "       \"name\" : \"fahad\",\n",
    "      \"question\" : \"What is your subject name\",\n",
    "     \"option\" : [\"Pakistan\",\"UAE\",\"USA\",\"Africa\",\"Computer Science\"],\n",
    "     \"answer\" : \"Computer Science\"\n",
    "    } \n",
    " }\n",
    "def find_something(dict,inner_dict,target):\n",
    "    print(dict[inner_dict][target])\n",
    "    \n",
    "find_something(questions,3,\"name\")    \n",
    "find_something(questions,3,\"option\")    "
   ]
  },
  {
   "cell_type": "code",
   "execution_count": 37,
   "id": "0ae2d487",
   "metadata": {},
   "outputs": [
    {
     "name": "stdout",
     "output_type": "stream",
     "text": [
      "My class is BSCS and section is A\n",
      "Name : Mudassir\n",
      "Fathername :Zakir\n",
      "Email :raza@yahoo.com\n",
      "City:Karachi\n",
      "Country :Pakistan\n"
     ]
    }
   ],
   "source": [
    "#for insert/push more and many information(values) in a parameter we used * and loop\n",
    "# one * show that the data comes in tuple\n",
    "\n",
    "def detail(Class,section,*otherinfo):\n",
    "    print(\"My class is \"+Class+\" and section is \"+section) \n",
    "    for information in otherinfo:\n",
    "        print(information)\n",
    "    \n",
    "detail(\"BSCS\",\"A\",\"Name : Mudassir\",\"Fathername :Zakir\",\"Email :raza@yahoo.com\",\"City:Karachi\",\"Country :Pakistan\")  "
   ]
  },
  {
   "cell_type": "code",
   "execution_count": 38,
   "id": "59f13b1f",
   "metadata": {},
   "outputs": [
    {
     "name": "stdout",
     "output_type": "stream",
     "text": [
      "My class is BSCS and section is A\n",
      "('Name :ALI', 'Fathername :RAZA', 'Email :ali@yahoo.com', 'City:Karachi', 'Country :Pakistan')\n"
     ]
    }
   ],
   "source": [
    " #without loop information come in this way\n",
    "# one * show that the data comes in tuple   \n",
    "\n",
    "def detail(Class,section,*otherinfo):\n",
    "    print(\"My class is \"+Class+\" and section is \"+section)\n",
    "    print(otherinfo)\n",
    "detail(\"BSCS\",\"A\",\"Name :ALI\",\"Fathername :RAZA\",\"Email :ali@yahoo.com\",\"City:Karachi\",\"Country :Pakistan\")        "
   ]
  },
  {
   "cell_type": "code",
   "execution_count": 13,
   "id": "a108d124",
   "metadata": {},
   "outputs": [
    {
     "name": "stdout",
     "output_type": "stream",
     "text": [
      "My class is BSCS and section is A\n",
      "{'Name': 'ALI', 'Fathername': 'RAZA', 'Email': 'ali@yahoo.com', 'City': 'Karachi', 'Country': 'Pakistan'}\n"
     ]
    }
   ],
   "source": [
    "#for excess keys and  in parameter we use ** and in loop using .items for excess both keys snd values\n",
    "# two ** show that the data comes in dictionary and you pass extra data in the form of key and value\n",
    "\n",
    "def detail(Class,section,**otherinfo):\n",
    "    print(\"My class is \"+Class+\" and section is \"+section)\n",
    "    print(otherinfo)\n",
    "detail(\"BSCS\",\"A\",Name=\"ALI\",Fathername =\"RAZA\",Email=\"ali@yahoo.com\",City=\"Karachi\",Country=\"Pakistan\")        "
   ]
  },
  {
   "cell_type": "code",
   "execution_count": 39,
   "id": "11e1d79f",
   "metadata": {},
   "outputs": [
    {
     "name": "stdout",
     "output_type": "stream",
     "text": [
      "My class is BSCS and section is A\n",
      "Name\n",
      "Fathername\n",
      "Email\n",
      "City\n",
      "Country\n"
     ]
    }
   ],
   "source": [
    "#for excess keys and  in parameter we use ** and in loop using .items for excess both keys snd values\n",
    "# two ** show that the data comes in dictionary and you pass extra data in the form of key and value\n",
    "def detail(Class,section,**otherinfo):\n",
    "    print(\"My class is \"+Class+\" and section is \"+section)\n",
    "    for information in otherinfo:\n",
    "        print(information)\n",
    "detail(\"BSCS\",\"A\",Name=\"ALI\",Fathername =\"RAZA\",Email=\"ali@yahoo.com\",City=\"Karachi\",Country=\"Pakistan\")        "
   ]
  },
  {
   "cell_type": "code",
   "execution_count": 9,
   "id": "0fad2223",
   "metadata": {},
   "outputs": [
    {
     "name": "stdout",
     "output_type": "stream",
     "text": [
      "100\n",
      "200\n",
      "(300, 400, 500)\n"
     ]
    }
   ],
   "source": [
    "def display_nums(first_num, second_num,*opt_nums):\n",
    "    print(first_num)\n",
    "    print(second_num)\n",
    "    print(opt_nums)\n",
    "    \n",
    "display_nums(100, 200, 300, 400, 500)    \n",
    "# data comes in list or tuple"
   ]
  },
  {
   "cell_type": "code",
   "execution_count": 11,
   "id": "1cd3af0d",
   "metadata": {},
   "outputs": [
    {
     "name": "stdout",
     "output_type": "stream",
     "text": [
      "100\n",
      "200\n",
      "{'bonus': 300, 'overtime': 400, 'extra': 500}\n"
     ]
    }
   ],
   "source": [
    "def display_nums(basic_salary, house_rent,**other_benifits):\n",
    "    print(basic_salary)\n",
    "    print(house_rent)\n",
    "    print(other_benifits)\n",
    "    \n",
    "display_nums(100, 200,bonus=300,overtime= 400,extra= 500)\n",
    "display_nums(100, 200,bonus=300,overtime= 400,extra= 500)"
   ]
  },
  {
   "cell_type": "code",
   "execution_count": 14,
   "id": "ef9f03e6",
   "metadata": {},
   "outputs": [
    {
     "data": {
      "text/plain": [
       "100"
      ]
     },
     "execution_count": 14,
     "metadata": {},
     "output_type": "execute_result"
    }
   ],
   "source": [
    "def display_nums(basic_salary, house_rent,**other_benifits):\n",
    "     return basic_salary\n",
    "#     print(house_rent)\n",
    "#     print(other_benifits)\n",
    "    \n",
    "display_nums(100, 200,bonus=300,overtime= 400,extra= 500)\n",
    "# display_nums(100, 200,bonus=300,overtime= 400,extra= 500)"
   ]
  },
  {
   "cell_type": "code",
   "execution_count": 18,
   "id": "105e652c",
   "metadata": {},
   "outputs": [
    {
     "data": {
      "text/plain": [
       "(100, 200, {'bonus': 300, 'overtime': 400, 'extra': 500})"
      ]
     },
     "execution_count": 18,
     "metadata": {},
     "output_type": "execute_result"
    }
   ],
   "source": [
    "def display_nums(basic_salary, house_rent,**other_benifits):\n",
    "     return (basic_salary,house_rent,other_benifits)\n",
    " \n",
    "    \n",
    "display_nums(100, 200,bonus=300,overtime= 400,extra= 500)\n",
    "# display_nums(100, 200,bonus=300,overtime= 400,extra= 500)"
   ]
  },
  {
   "cell_type": "code",
   "execution_count": 40,
   "id": "3f33e395",
   "metadata": {},
   "outputs": [
    {
     "name": "stdout",
     "output_type": "stream",
     "text": [
      "My class is BSCS and section is A\n",
      "Name:ALI\n",
      "Fathername:RAZA\n",
      "Email:ali@yahoo.com\n",
      "City:Karachi\n",
      "Country:Pakistan\n"
     ]
    }
   ],
   "source": [
    "#for excess keys and  in parameter we use ** and in loop using .items for excess both keys snd values\n",
    "def detail(Class,section,**otherinfo):\n",
    "    print(\"My class is \"+Class+\" and section is \"+section)\n",
    "    for keys,values in otherinfo.items():\n",
    "        print(keys+\":\"+values)\n",
    "detail(\"BSCS\",\"A\",Name=\"ALI\",Fathername =\"RAZA\",Email=\"ali@yahoo.com\",City=\"Karachi\",Country=\"Pakistan\")"
   ]
  },
  {
   "cell_type": "code",
   "execution_count": 41,
   "id": "0264cac8",
   "metadata": {},
   "outputs": [
    {
     "name": "stdout",
     "output_type": "stream",
     "text": [
      "My class is BSCS and section is A\n",
      "Name:ALI\n",
      "Fathername:RAZA\n",
      "Email:ali@yahoo.com\n",
      "City:Karachi\n",
      "Country:Pakistan\n"
     ]
    }
   ],
   "source": [
    "def detail(Class,section,**otherinfo):\n",
    "    print(\"My class is \"+Class+\" and section is \"+section)\n",
    "    for a_key,b_values in otherinfo.items():\n",
    "        print(a_key+\":\"+b_values)\n",
    "detail(\"BSCS\",\"A\",Name=\"ALI\",Fathername =\"RAZA\",Email=\"ali@yahoo.com\",City=\"Karachi\",Country=\"Pakistan\")"
   ]
  },
  {
   "cell_type": "code",
   "execution_count": 42,
   "id": "cbdd70f0",
   "metadata": {},
   "outputs": [
    {
     "name": "stdout",
     "output_type": "stream",
     "text": [
      "My class is BSCS and section is A\n",
      "Name:ALI\n",
      "Fathername:RAZA\n",
      "Email:ali@yahoo.com\n",
      "City:Karachi\n",
      "Country:Pakistan\n"
     ]
    }
   ],
   "source": [
    "def detail(Class,section,**otherinfo):\n",
    "    print(\"My class is \"+Class+\" and section is \"+section)\n",
    "    for Forminformation,Detailinformation in otherinfo.items():\n",
    "        print(Forminformation+\":\"+Detailinformation)\n",
    "detail(\"BSCS\",\"A\",Name=\"ALI\",Fathername =\"RAZA\",Email=\"ali@yahoo.com\",City=\"Karachi\",Country=\"Pakistan\")"
   ]
  },
  {
   "cell_type": "code",
   "execution_count": 43,
   "id": "b14fd3b9",
   "metadata": {},
   "outputs": [
    {
     "name": "stdout",
     "output_type": "stream",
     "text": [
      "22\n"
     ]
    }
   ],
   "source": [
    "#if i want to print result out side of function so we used the keyword return jis ka through hum result ko bhr excess krsakta ha\n",
    "def sumfunction():\n",
    "    num1=3\n",
    "    num2=12\n",
    "    num3=7\n",
    "    result = num1+num2+num3\n",
    "    return result\n",
    "return_result=sumfunction()\n",
    "print(return_result)\n",
    "\n",
    "\n",
    "\n",
    "\n",
    "\n",
    "\n",
    "\n"
   ]
  },
  {
   "cell_type": "code",
   "execution_count": 44,
   "id": "1b66d079",
   "metadata": {},
   "outputs": [
    {
     "name": "stdout",
     "output_type": "stream",
     "text": [
      "317\n"
     ]
    }
   ],
   "source": [
    "def sumfunction():\n",
    "    number1=89\n",
    "    number2=87\n",
    "    number3=65\n",
    "    number4=76\n",
    "    result=number1+number2+number3+number4\n",
    "    return result#we use return here to excess the result outside of function\n",
    "return_result=sumfunction()#This is necessary to save function result when call return outsde of function that why we call function in return variable.\n",
    "print(return_result)"
   ]
  },
  {
   "cell_type": "code",
   "execution_count": 45,
   "id": "eed9c7d4",
   "metadata": {},
   "outputs": [
    {
     "name": "stdout",
     "output_type": "stream",
     "text": [
      "return_result1 : 22 \n",
      "\n",
      "return_result2 : 252 \n",
      "\n",
      "return_result3 : -16 \n",
      "\n",
      "return_result3 : -16 \n",
      "\n",
      "242\n"
     ]
    }
   ],
   "source": [
    "def sumfunction1():\n",
    "    num1=3\n",
    "    num2=12\n",
    "    num3=7\n",
    "    result = num1+num2+num3\n",
    "    return result\n",
    "return_result1=sumfunction1()\n",
    "print(\"return_result1 :\" ,return_result1 ,\"\\n\")\n",
    "\n",
    "def mulfunction2():\n",
    "    num1=3\n",
    "    num2=12\n",
    "    num3=7\n",
    "    result = num1*num2*num3\n",
    "    return result\n",
    "return_result2=mulfunction2()\n",
    "print(\"return_result2 :\" ,return_result2 ,\"\\n\")\n",
    " \n",
    "def subfunction3():\n",
    "    num1=3\n",
    "    num2=12\n",
    "    num3=7\n",
    "    result = num1-num2-num3\n",
    "    return result\n",
    "return_result3=subfunction3()\n",
    "print(\"return_result3 :\" ,return_result3 ,\"\\n\")\n",
    "\n",
    "def divfunction4():\n",
    "    num1=3\n",
    "    num2=12\n",
    "    num3=7\n",
    "    result = num1-num2-num3\n",
    "    return result\n",
    "return_result4=divfunction4()\n",
    "print(\"return_result3 :\" ,return_result4 ,\"\\n\")\n",
    "\n",
    "finalresult=return_result1+return_result2+return_result3+return_result4\n",
    "print(finalresult)\n"
   ]
  },
  {
   "cell_type": "code",
   "execution_count": 48,
   "id": "96ea8350",
   "metadata": {},
   "outputs": [
    {
     "name": "stdout",
     "output_type": "stream",
     "text": [
      "What is your name :raza\n",
      "RAZA is enrolled in SMITH  PYTHON PROGRAMMING 3 months\n"
     ]
    }
   ],
   "source": [
    "def courseinfo():\n",
    "    inst=\"SMITH\"\n",
    "    language=\"  PYTHON PROGRAMMING\"\n",
    "    duration=\" 3 months\"\n",
    "    return(inst+\"\"+language+\"\"+duration)\n",
    "#for multiple values return we used ()\n",
    "def userinfo():\n",
    "    name=input(\"What is your name :\")\n",
    "    result=name.upper()+\" \"+\"is enrolled in\"+\" \"+courseinfo() #for returnwe call function in variable\n",
    "    return result\n",
    "wholeinfo=userinfo()\n",
    "print(wholeinfo)"
   ]
  },
  {
   "cell_type": "code",
   "execution_count": 50,
   "id": "43834f2f",
   "metadata": {},
   "outputs": [
    {
     "name": "stdout",
     "output_type": "stream",
     "text": [
      "what is your name  mudassir\n",
      "\n",
      "MUDASSIR is enrolled in FUUAST COMPUTER SCIENCE 4 years \n"
     ]
    }
   ],
   "source": [
    "# call one function in to another\n",
    "def course():\n",
    "    inst=\"FUUAST\"\n",
    "    subject=\"COMPUTER SCIENCE\"\n",
    "    duration =\"4 years\"\n",
    "    return(inst+\" \"+subject+\" \"+duration+\" \")\n",
    "def userinfo():\n",
    "    name=input(\"what is your name  \")\n",
    "    result = \"\\n\"+name.upper()+\" is enrolled in \"+course()\n",
    "    return result\n",
    "wholeinfo=userinfo()\n",
    "print(wholeinfo)\n"
   ]
  },
  {
   "cell_type": "code",
   "execution_count": 51,
   "id": "c1332d90",
   "metadata": {},
   "outputs": [
    {
     "name": "stdout",
     "output_type": "stream",
     "text": [
      "What is your university name :  FUUAST\n",
      "\n",
      " You are enrolled in FUUAST\n",
      "name: MUHAMMAD MUDASSIR RAZA\n",
      "Class:   BSCS  \n",
      "Section:  A\n",
      " CNIC :42201-5510139-1\n",
      "Father Name  ZAKIR RAZA\n",
      "City Name: KARACHI\n",
      "\n"
     ]
    }
   ],
   "source": [
    "def personalinfo():\n",
    "    name=\"MUHAMMAD MUDASSIR RAZA\"\n",
    "    Class=\"  BSCS  \"\n",
    "    Section=\" A\"\n",
    "    return(\"\\n\"+\"name: \"+name+\"\\n\"+\"Class: \"+Class+\"\\n\"+\"Section: \"+Section)\n",
    "#for multiple values return we used ()\n",
    "def detailinfo():\n",
    "    CNIC=\"42201-5510139-1\"\n",
    "    Father_Name=\"  ZAKIR RAZA\"\n",
    "    Live_in=\" KARACHI\"\n",
    "    return(\"CNIC :\"+CNIC+\"\\n\"+\"Father Name\"+Father_Name+\"\\n\"+\"City Name:\"+Live_in+\"\\n\")\n",
    "#for multiple values return we used ()\n",
    "def userinfo():\n",
    "    University=input(\"What is your university name :  \")\n",
    "    result=\"\\n You are enrolled in \"+University+personalinfo()+\"\\n \"+detailinfo() #for returnwe call function in variable\n",
    "    return result\n",
    "wholeinfo=userinfo()\n",
    "print(wholeinfo)"
   ]
  },
  {
   "cell_type": "code",
   "execution_count": 52,
   "id": "0d044419",
   "metadata": {},
   "outputs": [
    {
     "name": "stdout",
     "output_type": "stream",
     "text": [
      "Umair Aslam\n"
     ]
    }
   ],
   "source": [
    "def addnum():\n",
    "    name =\"Umair\"\n",
    "    return name\n",
    "firstname=addnum()\n",
    "fullname=(firstname+\" \"+\"Aslam\")\n",
    "print(fullname)"
   ]
  },
  {
   "cell_type": "code",
   "execution_count": 53,
   "id": "743bd84a",
   "metadata": {},
   "outputs": [
    {
     "name": "stdout",
     "output_type": "stream",
     "text": [
      "MUHAMMAD MUDASSIR RAZA\n"
     ]
    }
   ],
   "source": [
    "def fullname(firstname ,middlename ,lastname):\n",
    "    firstname;\n",
    "    middlename;\n",
    "    lastname;\n",
    "    return(firstname +\" \"+middlename+\" \"+lastname)\n",
    "full_name=fullname(firstname=\"MUHAMMAD\",middlename=\"MUDASSIR\",lastname=\"RAZA\")\n",
    "print(full_name)\n",
    " "
   ]
  },
  {
   "cell_type": "code",
   "execution_count": 54,
   "id": "2f6591fc",
   "metadata": {},
   "outputs": [
    {
     "name": "stdout",
     "output_type": "stream",
     "text": [
      "5.0685\n"
     ]
    }
   ],
   "source": [
    "def calc_tax(sales_total, tax_rate):\n",
    "    print(sales_total * tax_rate)\n",
    "calc_tax(sales_total=101.37, tax_rate=.05) "
   ]
  },
  {
   "cell_type": "code",
   "execution_count": 55,
   "id": "4fe041d2",
   "metadata": {},
   "outputs": [
    {
     "name": "stdout",
     "output_type": "stream",
     "text": [
      "4.0548\n"
     ]
    }
   ],
   "source": [
    " def calc_tax(sales_total, tax_rate=.04):\n",
    "        print(sales_total * tax_rate)\n",
    "calc_tax(sales_total=101.37)"
   ]
  },
  {
   "cell_type": "code",
   "execution_count": 56,
   "id": "c16db297",
   "metadata": {},
   "outputs": [
    {
     "name": "stdout",
     "output_type": "stream",
     "text": [
      "4.0548\n"
     ]
    }
   ],
   "source": [
    " def calc_tax(sales_total, tax_rate=.04):\n",
    "        tax=sales_total * tax_rate\n",
    "        return tax\n",
    "        \n",
    "sale_tax=calc_tax(sales_total=101.37)\n",
    "print(sale_tax)"
   ]
  },
  {
   "cell_type": "code",
   "execution_count": 57,
   "id": "a57e31a3",
   "metadata": {},
   "outputs": [
    {
     "name": "stdout",
     "output_type": "stream",
     "text": [
      "4.0548\n"
     ]
    }
   ],
   "source": [
    "def calc_tax(sales_total, tax_rate=.04):\n",
    "        return(sales_total * tax_rate)\n",
    "        \n",
    "sale_tax=calc_tax(sales_total=101.37)\n",
    "print(sale_tax)"
   ]
  },
  {
   "cell_type": "code",
   "execution_count": 58,
   "id": "85497c39",
   "metadata": {},
   "outputs": [
    {
     "name": "stdout",
     "output_type": "stream",
     "text": [
      "Hello there, Ali\n"
     ]
    }
   ],
   "source": [
    "def give_greeting(greeting, first_name):\n",
    "    print(greeting + \", \" + first_name)\n",
    "give_greeting(\"Hello there\", first_name=\"Ali\")   "
   ]
  },
  {
   "cell_type": "code",
   "execution_count": 59,
   "id": "1f59700e",
   "metadata": {},
   "outputs": [
    {
     "name": "stdout",
     "output_type": "stream",
     "text": [
      "Hello there, Ali the wonder boy\n"
     ]
    }
   ],
   "source": [
    "def give_greeting(greeting, first_name,flattering_nickname=\" the wonder boy\"):\n",
    "    print(greeting + \", \" + first_name +flattering_nickname)\n",
    "give_greeting(\"Hello there\", first_name=\"Ali\")  "
   ]
  },
  {
   "cell_type": "code",
   "execution_count": 60,
   "id": "4998b4a8",
   "metadata": {},
   "outputs": [
    {
     "name": "stdout",
     "output_type": "stream",
     "text": [
      "4\n"
     ]
    }
   ],
   "source": [
    "def add_numbers(first_number, second_number):\n",
    "    return first_number + second_number\n",
    "\n",
    "def subtract_numbers(first_number, second_number):\n",
    "    return first_number - second_number\n",
    "\n",
    "result_of_adding = add_numbers(1, 2)\n",
    "\n",
    "result_of_subtracting = subtract_numbers(3, 2)\n",
    "\n",
    "sum_of_results = result_of_adding +result_of_subtracting\n",
    "\n",
    "print(sum_of_results)"
   ]
  },
  {
   "cell_type": "code",
   "execution_count": 61,
   "id": "d0cc5560",
   "metadata": {},
   "outputs": [
    {
     "name": "stdout",
     "output_type": "stream",
     "text": [
      "23\n",
      "1\n"
     ]
    }
   ],
   "source": [
    "#local variable define within in function\n",
    "def whatever():\n",
    "    y = 23 \n",
    "    print(y)\n",
    "    y = 1\n",
    "    print(y)\n",
    "whatever()"
   ]
  },
  {
   "cell_type": "code",
   "execution_count": 62,
   "id": "31d888ed",
   "metadata": {},
   "outputs": [
    {
     "name": "stdout",
     "output_type": "stream",
     "text": [
      "1\n"
     ]
    }
   ],
   "source": [
    "#global variable define outside in function\n",
    "y = 1\n",
    " \n",
    "def whatever():\n",
    "    \n",
    "    print(y)\n",
    "     \n",
    "whatever()\n",
    "\n",
    "\n"
   ]
  },
  {
   "cell_type": "code",
   "execution_count": 63,
   "id": "7c31c405",
   "metadata": {},
   "outputs": [
    {
     "name": "stdout",
     "output_type": "stream",
     "text": [
      "6\n"
     ]
    }
   ],
   "source": [
    "def whatever():\n",
    "    a = 1\n",
    "whatever()\n",
    "\n",
    "print(a)\n",
    "# you cant access local variable outside the function"
   ]
  },
  {
   "cell_type": "code",
   "execution_count": 64,
   "id": "b058c906",
   "metadata": {},
   "outputs": [
    {
     "name": "stdout",
     "output_type": "stream",
     "text": [
      "Hi\n"
     ]
    }
   ],
   "source": [
    "#functions within functions\n",
    "def say_something():\n",
    "    what_to_say = \"Hi\"\n",
    "    return(what_to_say)\n",
    "# now_say_it(say_something())\n",
    "# print(now_say_it)\n",
    "    \n",
    "def now_say_it(content):\n",
    "    print(content)\n",
    "now_say_it(say_something())    "
   ]
  },
  {
   "cell_type": "code",
   "execution_count": 65,
   "id": "afab0ebc",
   "metadata": {},
   "outputs": [
    {
     "name": "stdout",
     "output_type": "stream",
     "text": [
      "Hi\n"
     ]
    }
   ],
   "source": [
    "def say_something():\n",
    "    what_to_say = \"Hi\"\n",
    "    return what_to_say\n",
    "    \n",
    "now_say_it(say_something())\n",
    "    \n",
    "    \n",
    "def now_say_it(content):\n",
    "    print(content)    \n",
    "    "
   ]
  },
  {
   "cell_type": "markdown",
   "id": "1840fd4b",
   "metadata": {},
   "source": [
    "# while loops :"
   ]
  },
  {
   "cell_type": "code",
   "execution_count": 66,
   "id": "99f02117",
   "metadata": {},
   "outputs": [],
   "source": [
    "#when you want to select more than one city means continue selection you can used whie loop.\n",
    "# while work continously until you quit"
   ]
  },
  {
   "cell_type": "code",
   "execution_count": 67,
   "id": "b88f8d94",
   "metadata": {},
   "outputs": [
    {
     "name": "stdout",
     "output_type": "stream",
     "text": [
      "Enter a city, or q toquit:karachi\n",
      "It's one of the cleanest cities\n",
      "Enter a city, or q toquit:q\n"
     ]
    }
   ],
   "source": [
    "cleanest_cities = [\"karachi\", \"lahore\", \"islamabad\",\"peshawar\", \"quetta\"]\n",
    "user_input = \"\"\n",
    "while user_input != \"q\":\n",
    "    user_input = input(\"Enter a city, or q toquit:\")\n",
    "    if user_input != \"q\":\n",
    "        for a_clean_city in cleanest_cities:\n",
    "            if user_input == a_clean_city:\n",
    "                print(\"It's one of the cleanest cities\")\n",
    "                break"
   ]
  },
  {
   "cell_type": "code",
   "execution_count": 68,
   "id": "6eb15237",
   "metadata": {},
   "outputs": [
    {
     "name": "stdout",
     "output_type": "stream",
     "text": [
      "\n",
      "1) karachi\n",
      "2) lahore\n",
      "3) islamabad\n",
      "4) peshawar\n",
      "5) quetta\n",
      "Enter a city, or q to quit/exit:karachi\n",
      "It's one of the cleanest cities\n",
      "\n",
      "1) karachi\n",
      "2) lahore\n",
      "3) islamabad\n",
      "4) peshawar\n",
      "5) quetta\n",
      "Enter a city, or q to quit/exit:q\n"
     ]
    }
   ],
   "source": [
    "#now using flag make code easy\n",
    "cleanest_cities = [\"karachi\", \"lahore\", \"islamabad\",\"peshawar\", \"quetta\"]\n",
    "data =\"\\n\" + \"1) \"+str(cleanest_cities[0])+\"\\n\" + \"2) \"+str(cleanest_cities[1])+\"\\n\" + \"3) \"+str(cleanest_cities[2])+\"\\n\" + \"4) \"+str(cleanest_cities[3])+\"\\n\" + \"5) \"+str(cleanest_cities[4])+\"\\n\"\n",
    "# print(data)\n",
    "flag=True\n",
    "while  flag == True:\n",
    "    user_input = input(data +\"Enter a city, or q to quit/exit:\")\n",
    "    if user_input != \"q\":\n",
    "        for a_clean_city in cleanest_cities:\n",
    "            if user_input == a_clean_city:\n",
    "                print(\"It's one of the cleanest cities\")\n",
    "                break\n",
    "    else:\n",
    "        flag=False\n"
   ]
  },
  {
   "cell_type": "code",
   "execution_count": 70,
   "id": "35f4e17c",
   "metadata": {},
   "outputs": [
    {
     "name": "stdout",
     "output_type": "stream",
     "text": [
      "Elements in our list: \n",
      "\n",
      "options:\n",
      "1.Add Element\n",
      "2.Delete Element\n",
      "3.Delete All Element\n",
      "4.Exit\n",
      "\n",
      "Note: please give input in numbers e.g:1,2,3,4\n",
      "\n",
      "Enter your choice: 1\n",
      "\n",
      "Enter your element: raza\n",
      "Elements in our list: \n",
      "1 ) raza\n",
      "\n",
      "options:\n",
      "1.Add Element\n",
      "2.Delete Element\n",
      "3.Delete All Element\n",
      "4.Exit\n",
      "\n",
      "Note: please give input in numbers e.g:1,2,3,4\n",
      "\n",
      "Enter your choice: 1\n",
      "\n",
      "Enter your element: ali\n",
      "Elements in our list: \n",
      "2 ) raza\n",
      "3 ) ali\n",
      "\n",
      "options:\n",
      "1.Add Element\n",
      "2.Delete Element\n",
      "3.Delete All Element\n",
      "4.Exit\n",
      "\n",
      "Note: please give input in numbers e.g:1,2,3,4\n",
      "\n",
      "Enter your choice: 4\n"
     ]
    }
   ],
   "source": [
    " #today list in python\n",
    "elements=[]\n",
    "i=1\n",
    "while True :\n",
    "    print(\"Elements in our list: \")\n",
    "    for element in elements:\n",
    "        print(i,\")\" ,element)\n",
    "        i+=1\n",
    "    print(\"\\noptions:\")\n",
    "    print(\"1.Add Element\")\n",
    "    print(\"2.Delete Element\")\n",
    "    print(\"3.Delete All Element\")\n",
    "    print(\"4.Exit\")\n",
    "    print(\"\\nNote: please give input in numbers e.g:1,2,3,4\")\n",
    "    inp=input(\"\\nEnter your choice: \")\n",
    "    if inp == '1':\n",
    "        elements.append(input(\"\\nEnter your element: \"))\n",
    "    elif inp == '2':\n",
    "        elements.remove(input(\"\\nEnter your element: \"))\n",
    "    elif inp == '2':\n",
    "        elements.clear()\n",
    "    elif inp == '4':\n",
    "         break  \n",
    "    else :\n",
    "        print(\"Invalid Syntax\")"
   ]
  },
  {
   "cell_type": "code",
   "execution_count": 71,
   "id": "2d890533",
   "metadata": {},
   "outputs": [
    {
     "name": "stdout",
     "output_type": "stream",
     "text": [
      "Marks 89\n"
     ]
    }
   ],
   "source": [
    "marks=89\n",
    "print(\"Marks\",marks)"
   ]
  },
  {
   "cell_type": "code",
   "execution_count": 79,
   "id": "603886a9",
   "metadata": {},
   "outputs": [
    {
     "name": "stdout",
     "output_type": "stream",
     "text": [
      "Marks :89\n"
     ]
    }
   ],
   "source": [
    "marks=\"89\"\n",
    "print(\"Marks :{}\".format(marks))"
   ]
  },
  {
   "cell_type": "code",
   "execution_count": 80,
   "id": "d7a35c87",
   "metadata": {},
   "outputs": [
    {
     "name": "stdout",
     "output_type": "stream",
     "text": [
      "Marks :89\n"
     ]
    }
   ],
   "source": [
    "marks=89\n",
    "print(\"Marks :{}\".format(marks))"
   ]
  },
  {
   "cell_type": "code",
   "execution_count": null,
   "id": "7d60a1d4",
   "metadata": {},
   "outputs": [],
   "source": []
  },
  {
   "cell_type": "code",
   "execution_count": null,
   "id": "4d86ad02",
   "metadata": {},
   "outputs": [],
   "source": [
    "def checkPrime(X):\n",
    "    if X > 1:\n",
    "        for i in range(2,int(X/2)+1):\n",
    "            if(X % i)==0:\n",
    "                print(X, \" is not a prime number\\n\")\n",
    "                print(\"The factors of\", X, \"are: \")\n",
    "                for j in range(1, X+1):\n",
    "                    if(X % j)==0:\n",
    "                        print(j,\" \")\n",
    "                break\n",
    "            else:\n",
    "                print(X, \" is a prime number\")\n",
    "    else:\n",
    "        print(X, \" is 1 or less than one and it's not prime\")\n",
    "\n",
    "X=int(input(\"Enter a positive Number: \"))\n",
    "checkPrime(X) \n"
   ]
  },
  {
   "cell_type": "code",
   "execution_count": null,
   "id": "8d358b6e",
   "metadata": {},
   "outputs": [],
   "source": [
    "def prime(n): \n",
    " isprime = True \n",
    "\tif n<2: \n",
    "\t\tisprime = False \n",
    "\telse: \n",
    "\t\tfor i in range(2,n): \n",
    "\t\t\tif n%i==0: \n",
    "\t\t\t\tisprime = False \n",
    "\t\t\t\tbreak \n",
    "\treturn isprime \n",
    " \n",
    "def factors(n): \n",
    "\tfact,factlist = 2,[1] \n",
    "\tfor i in range(2,n): \n",
    "\t\tif not n%i: \n",
    "\t\t\tfact += 1 \n",
    "\t\t\tfactlist.append(i) \n",
    "\tfactlist.append(n) \n",
    "\treturn (fact,factlist) \n",
    " \n",
    "n = int(input('Enter any number: ')) \n",
    "print('Prime number:',prime(n)) \n",
    "print('Number of factors:',factors(n)[0]) \n",
    "print('List of factors:',factors(n)[1]) "
   ]
  },
  {
   "cell_type": "code",
   "execution_count": null,
   "id": "4859a219",
   "metadata": {},
   "outputs": [],
   "source": [
    "# pg#142,139,136,132,129,144"
   ]
  },
  {
   "cell_type": "code",
   "execution_count": null,
   "id": "5a10a18d",
   "metadata": {},
   "outputs": [],
   "source": [
    "calc(x=23,y=.4)"
   ]
  },
  {
   "cell_type": "code",
   "execution_count": 3,
   "id": "fb17cabc",
   "metadata": {},
   "outputs": [
    {
     "name": "stdout",
     "output_type": "stream",
     "text": [
      "{'adults': ['Ditmar', 'Salvador', 'Punya'], 'children': ['Caliban', 'Eustis', 'Ali']}\n",
      "['Ditmar', 'Salvador', 'Punya']\n",
      "Salvador\n"
     ]
    }
   ],
   "source": [
    "# First code the function call on line 12.\n",
    "# Then come back and code the function starting on line 4.\n",
    "# The function will take two or three lines, depending on how you approach it.\n",
    "members = {\n",
    "        \"adults\": [\"Ditmar\", \"Salvador\", \"Punya\"],\n",
    "        \"children\": [\"Caliban\", \"Eustis\", \"Ali\"],\n",
    "        }\n",
    "def call(dict,inner_dict,target):\n",
    "    \n",
    "    print(dict)\n",
    "    print(dict[inner_dict])\n",
    "    print(dict[inner_dict][target])\n",
    "# First code the function call on line 12.\n",
    "call(members,\"adults\",1)"
   ]
  },
  {
   "cell_type": "code",
   "execution_count": 6,
   "id": "f132d81a",
   "metadata": {},
   "outputs": [],
   "source": [
    "def add_numbers(2, second_number = 4): #first argument is position argument, second argument is keyword argument\n",
    "    total = first_number + second_number\n",
    "    print(total)    \n",
    "add_numbers()    "
   ]
  },
  {
   "cell_type": "code",
   "execution_count": 8,
   "id": "2a84e41c",
   "metadata": {},
   "outputs": [
    {
     "name": "stdout",
     "output_type": "stream",
     "text": [
      "8 10\n"
     ]
    }
   ],
   "source": [
    "def calc(first_number, second_number):\n",
    "    print(first_number,second_number)\n",
    "calc(8,second_number = 10)"
   ]
  },
  {
   "cell_type": "code",
   "execution_count": 2,
   "id": "3792014b",
   "metadata": {},
   "outputs": [
    {
     "name": "stdout",
     "output_type": "stream",
     "text": [
      "Enter a number to square:33\n",
      "The sqaure of 33.0 is 1089.0\n"
     ]
    }
   ],
   "source": [
    "def square_of_a_number():\n",
    "    num = float(input(\"Enter a number to square:\"))\n",
    "    square = num**2\n",
    "    print(f\"The sqaure of {num} is {square}\")\n",
    "square_of_a_number()    \n"
   ]
  },
  {
   "cell_type": "code",
   "execution_count": 3,
   "id": "5931cfb9",
   "metadata": {},
   "outputs": [
    {
     "name": "stdout",
     "output_type": "stream",
     "text": [
      "Enter length of sqaure in meters2\n",
      "Enter breadth of square in meters2\n",
      "Length: 2.0 \n",
      "Breadth 2.0: \n",
      "Area: 4.0 meters square\n"
     ]
    }
   ],
   "source": [
    "def area_of_square():\n",
    "    length = float(input(\"Enter length of sqaure in meters\"))\n",
    "    breadth = float(input(\"Enter breadth of square in meters\"))\n",
    "    area = length * breadth\n",
    "    print(f\"Length: {length} \\nBreadth {breadth}: \\nArea: {area} meters square\")\n",
    "area_of_square()    "
   ]
  },
  {
   "cell_type": "code",
   "execution_count": 4,
   "id": "f6938ab7",
   "metadata": {},
   "outputs": [
    {
     "name": "stdout",
     "output_type": "stream",
     "text": [
      "\n",
      "                    Name of Employee: Nasir\n",
      "                    Year of Service : 2\n",
      "                    Current Salary  : 120000\n",
      "                    Increment Amount: 12000.0\n",
      "                    New Salary      : 132000.0\n"
     ]
    }
   ],
   "source": [
    "def salary_increment(name='',eos=0,currentSalary=0): # parameters\n",
    "    '''This function is defined in our class of SMIT\n",
    "     on 26th Jan 2022\n",
    "     this function needs 3 arguments the name of emp \n",
    "     year of service\n",
    "     current salary of the employe\n",
    "     this will return Salary Details '''\n",
    "    \n",
    "    if eos >=1:\n",
    "        \n",
    "        if currentSalary <50000:\n",
    "            increment = currentSalary*.20\n",
    "            newSalary = currentSalary + increment\n",
    "            \n",
    "        elif ((currentSalary>=50000) and (currentSalary<100000)):\n",
    "            increment = currentSalary*.15\n",
    "            newSalary = currentSalary + increment\n",
    "            \n",
    "        elif ((currentSalary>=100000) and (currentSalary<=150000)):\n",
    "            increment = currentSalary*.10\n",
    "            newSalary = currentSalary + increment\n",
    "        else:\n",
    "            increment = currentSalary*.05\n",
    "            newSalary = currentSalary + increment\n",
    "        print(f\"\"\"\n",
    "                    Name of Employee: {name}\n",
    "                    Year of Service : {eos}\n",
    "                    Current Salary  : {currentSalary}\n",
    "                    Increment Amount: {increment}\n",
    "                    New Salary      : {newSalary }\"\"\")\n",
    "            \n",
    "    else:\n",
    "        print(\"There is no increment for you this year\")\n",
    "    \n",
    "salary_increment(\"Nasir\", 2, 120000)# arguments    "
   ]
  },
  {
   "cell_type": "code",
   "execution_count": 5,
   "id": "6efadb76",
   "metadata": {},
   "outputs": [
    {
     "name": "stdout",
     "output_type": "stream",
     "text": [
      "\n",
      "                    Name of Employee: Nasir\n",
      "                    Year of Service : 2\n",
      "                    Current Salary  : 120000\n",
      "                    Increment Amount: 12000.0\n",
      "                    New Salary      : 132000.0\n"
     ]
    }
   ],
   "source": [
    "salary_increment(\"Nasir\", 2, 120000)# arguments"
   ]
  },
  {
   "cell_type": "markdown",
   "id": "765f78b8",
   "metadata": {},
   "source": [
    "The variables written in function definition are called parameters\n",
    "\n",
    "The Values supplied during a function call are called arguments"
   ]
  },
  {
   "cell_type": "code",
   "execution_count": 6,
   "id": "5b7db46a",
   "metadata": {},
   "outputs": [
    {
     "name": "stdout",
     "output_type": "stream",
     "text": [
      "\n",
      "                    Name of Employee: Fahad\n",
      "                    Year of Service : 2\n",
      "                    Current Salary  : 36000\n",
      "                    Increment Amount: 7200.0\n",
      "                    New Salary      : 43200.0\n"
     ]
    }
   ],
   "source": [
    "salary_increment(eos=2, name=\"Fahad\",currentSalary=36000)# keyword arguments"
   ]
  },
  {
   "cell_type": "code",
   "execution_count": 7,
   "id": "8e84040b",
   "metadata": {},
   "outputs": [
    {
     "name": "stdout",
     "output_type": "stream",
     "text": [
      "There is no increment for you this year\n"
     ]
    }
   ],
   "source": [
    "salary_increment('Danish')"
   ]
  },
  {
   "cell_type": "code",
   "execution_count": 8,
   "id": "f36179e6",
   "metadata": {},
   "outputs": [
    {
     "name": "stdout",
     "output_type": "stream",
     "text": [
      "\n",
      "                    Name of Employee: Rehan\n",
      "                    Year of Service : 5\n",
      "                    Current Salary  : 0\n",
      "                    Increment Amount: 0.0\n",
      "                    New Salary      : 0.0\n"
     ]
    }
   ],
   "source": [
    "salary_increment(\"Rehan\", 5)"
   ]
  },
  {
   "cell_type": "code",
   "execution_count": 9,
   "id": "92552200",
   "metadata": {},
   "outputs": [
    {
     "name": "stdout",
     "output_type": "stream",
     "text": [
      "\n",
      "                    Name of Employee: 5\n",
      "                    Year of Service : 60000\n",
      "                    Current Salary  : 0\n",
      "                    Increment Amount: 0.0\n",
      "                    New Salary      : 0.0\n"
     ]
    }
   ],
   "source": [
    "salary_increment(5,60000)"
   ]
  },
  {
   "cell_type": "code",
   "execution_count": 10,
   "id": "cc67ab0b",
   "metadata": {},
   "outputs": [
    {
     "name": "stdout",
     "output_type": "stream",
     "text": [
      "Enter employee nameraza\n",
      "Enter number of years in service4\n",
      "Enter current salary of the empployee1200000\n",
      "\n",
      "                    Name of Employee: raza\n",
      "                    Year of Service : 4.0\n",
      "                    Current Salary  : 1200000.0\n",
      "                    Increment Amount: 60000.0\n",
      "                    New Salary      : 1260000.0\n"
     ]
    }
   ],
   "source": [
    "name= input(\"Enter employee name\")\n",
    "eos = float(input(\"Enter number of years in service\"))\n",
    "current_salary = float(input(\"Enter current salary of the empployee\"))\n",
    "\n",
    "\n",
    "salary_increment(name, eos, current_salary)\n",
    "\n"
   ]
  },
  {
   "cell_type": "code",
   "execution_count": 11,
   "id": "d9e4c4c5",
   "metadata": {},
   "outputs": [
    {
     "name": "stdout",
     "output_type": "stream",
     "text": [
      "Help on function salary_increment in module __main__:\n",
      "\n",
      "salary_increment(name='', eos=0, currentSalary=0)\n",
      "    This function is defined in our class of SMIT\n",
      "    on 26th Jan 2022\n",
      "    this function needs 3 arguments the name of emp \n",
      "    year of service\n",
      "    current salary of the employe\n",
      "    this will return Salary Details\n",
      "\n"
     ]
    }
   ],
   "source": [
    "help(salary_increment)"
   ]
  },
  {
   "cell_type": "code",
   "execution_count": 14,
   "id": "c2d3106f",
   "metadata": {},
   "outputs": [
    {
     "name": "stdout",
     "output_type": "stream",
     "text": [
      "Help on built-in function len in module builtins:\n",
      "\n",
      "len(obj, /)\n",
      "    Return the number of items in a container.\n",
      "\n"
     ]
    }
   ],
   "source": [
    "help(len)"
   ]
  },
  {
   "cell_type": "code",
   "execution_count": 15,
   "id": "b06427b4",
   "metadata": {},
   "outputs": [],
   "source": [
    " def describe_pet(animal_type, pet_name):\n",
    "    \"\"\"Display information about a pet.\"\"\"\n",
    "    print(\"\\nI have a \" + animal_type + \".\")\n",
    "    print(\"My \" + animal_type + \"'s name is \" + pet_name.title() + \".\")"
   ]
  },
  {
   "cell_type": "code",
   "execution_count": 16,
   "id": "76359070",
   "metadata": {},
   "outputs": [
    {
     "name": "stdout",
     "output_type": "stream",
     "text": [
      "\n",
      "I have a hamster.\n",
      "My hamster's name is Harry.\n"
     ]
    }
   ],
   "source": [
    "describe_pet('hamster', 'harry')"
   ]
  },
  {
   "cell_type": "markdown",
   "id": "880f6f6b",
   "metadata": {},
   "source": [
    "# Return Values"
   ]
  },
  {
   "cell_type": "markdown",
   "id": "ce15d38b",
   "metadata": {},
   "source": [
    "Gobal Variable: Can be accessed in and out of function\n",
    "\n",
    "Local Variable: local variables are defined and accessed only inside the function"
   ]
  },
  {
   "cell_type": "code",
   "execution_count": 17,
   "id": "02e1549f",
   "metadata": {},
   "outputs": [],
   "source": [
    "a  = 100   # gloabl variable\n",
    "\n",
    "def square_of_a_number(num):\n",
    "    \n",
    "    square = num**2   # local variable\n",
    "    print(f\"The sqaure of {num} is {square} which is a local variable\")\n",
    "    print(f\"The value of global variable a is {a}\")\n",
    "    "
   ]
  },
  {
   "cell_type": "code",
   "execution_count": 18,
   "id": "c7bd8bc0",
   "metadata": {},
   "outputs": [
    {
     "name": "stdout",
     "output_type": "stream",
     "text": [
      "The sqaure of 7 is 49 which is a local variable\n",
      "The value of global variable a is 100\n"
     ]
    }
   ],
   "source": [
    "square_of_a_number(7)"
   ]
  },
  {
   "cell_type": "code",
   "execution_count": 19,
   "id": "b138d068",
   "metadata": {},
   "outputs": [
    {
     "ename": "NameError",
     "evalue": "name 'square' is not defined",
     "output_type": "error",
     "traceback": [
      "\u001b[1;31m---------------------------------------------------------------------------\u001b[0m",
      "\u001b[1;31mNameError\u001b[0m                                 Traceback (most recent call last)",
      "Input \u001b[1;32mIn [19]\u001b[0m, in \u001b[0;36m<cell line: 1>\u001b[1;34m()\u001b[0m\n\u001b[1;32m----> 1\u001b[0m \u001b[38;5;28mprint\u001b[39m(\u001b[43msquare\u001b[49m)\n",
      "\u001b[1;31mNameError\u001b[0m: name 'square' is not defined"
     ]
    }
   ],
   "source": [
    "print(square)"
   ]
  },
  {
   "cell_type": "code",
   "execution_count": 20,
   "id": "a39e3321",
   "metadata": {},
   "outputs": [],
   "source": [
    "def circumference(radius):\n",
    "    circumference  = 2 * 3.142 * radius \n",
    "    # ksi local variable ki value ko function se bahar access karne k liye\n",
    "    # return k through bahar nikalenge\n",
    "    return circumference"
   ]
  },
  {
   "cell_type": "code",
   "execution_count": 21,
   "id": "aca588b6",
   "metadata": {},
   "outputs": [],
   "source": [
    "value_of_cir = circumference(4.5)"
   ]
  },
  {
   "cell_type": "code",
   "execution_count": 22,
   "id": "c8b0dd58",
   "metadata": {},
   "outputs": [
    {
     "data": {
      "text/plain": [
       "28.278"
      ]
     },
     "execution_count": 22,
     "metadata": {},
     "output_type": "execute_result"
    }
   ],
   "source": [
    "value_of_cir"
   ]
  },
  {
   "cell_type": "code",
   "execution_count": 23,
   "id": "f4b15657",
   "metadata": {},
   "outputs": [],
   "source": [
    "def square_of_a_number(num):\n",
    "    \n",
    "    square = num**2# local variable\n",
    "    print(\"I am code written after return\")\n",
    "    return square, f\"I am sqaured of {num}\" \n",
    "    \n",
    "    "
   ]
  },
  {
   "cell_type": "code",
   "execution_count": 24,
   "id": "57d59bd9",
   "metadata": {},
   "outputs": [
    {
     "name": "stdout",
     "output_type": "stream",
     "text": [
      "I am code written after return\n"
     ]
    }
   ],
   "source": [
    "returned_values = square_of_a_number(6)\n",
    "#tuple"
   ]
  },
  {
   "cell_type": "code",
   "execution_count": 25,
   "id": "411e2cda",
   "metadata": {},
   "outputs": [
    {
     "name": "stdout",
     "output_type": "stream",
     "text": [
      "36\n",
      "I am sqaured of 6\n"
     ]
    }
   ],
   "source": [
    "a,b = returned_values\n",
    "print(a)\n",
    "print(b)"
   ]
  },
  {
   "cell_type": "code",
   "execution_count": 26,
   "id": "979e2024",
   "metadata": {},
   "outputs": [],
   "source": [
    "def build_person(first_name, last_name):\n",
    "    \"\"\"Return a dictionary of information about a person.\"\"\"\n",
    "    person = {'first': first_name, 'last': last_name}\n",
    "    return person\n"
   ]
  },
  {
   "cell_type": "code",
   "execution_count": 27,
   "id": "97e0cdfb",
   "metadata": {},
   "outputs": [
    {
     "name": "stdout",
     "output_type": "stream",
     "text": [
      "{'first': 'ali', 'last': 'raza'}\n"
     ]
    }
   ],
   "source": [
    "musician = build_person('ali', 'raza')\n",
    "print(musician)"
   ]
  },
  {
   "cell_type": "code",
   "execution_count": 28,
   "id": "4bada6dc",
   "metadata": {},
   "outputs": [],
   "source": [
    "def build_person(first_name, last_name, age=''):\n",
    "    person = {'first': first_name, 'last': last_name}\n",
    "    if age:\n",
    "        person['age'] = age\n",
    "    return person\n"
   ]
  },
  {
   "cell_type": "code",
   "execution_count": 29,
   "id": "2ea2f7bf",
   "metadata": {},
   "outputs": [
    {
     "name": "stdout",
     "output_type": "stream",
     "text": [
      "{'first': 'ali', 'last': 'raza', 'age': 27}\n"
     ]
    }
   ],
   "source": [
    "musician = build_person('ali', 'raza',age=27)\n",
    "print(musician)"
   ]
  },
  {
   "cell_type": "code",
   "execution_count": 30,
   "id": "bdc00d91",
   "metadata": {},
   "outputs": [
    {
     "name": "stdout",
     "output_type": "stream",
     "text": [
      "{'first': 'ali', 'last': 'raza'}\n"
     ]
    }
   ],
   "source": [
    "musician = build_person('ali', 'raza')\n",
    "print(musician)"
   ]
  },
  {
   "cell_type": "code",
   "execution_count": 1,
   "id": "aa8b5fa9",
   "metadata": {},
   "outputs": [],
   "source": [
    "def get_formatted_name(first_name, last_name):    \n",
    "    full_name = first_name + ' ' + last_name\n",
    "    return full_name.title()"
   ]
  },
  {
   "cell_type": "code",
   "execution_count": 3,
   "id": "bc4b03d4",
   "metadata": {},
   "outputs": [
    {
     "name": "stdout",
     "output_type": "stream",
     "text": [
      "\n",
      "Please tell me your name:\n",
      "(enter 'q' at any time to quit)\n",
      "First name: Mudassir \n",
      "Last name: Raza\n",
      "\n",
      "Hello, Mudassir  Raza!\n",
      "\n",
      "Please tell me your name:\n",
      "(enter 'q' at any time to quit)\n",
      "First name: Mudassir\n",
      "Last name: Raza\n",
      "\n",
      "Hello, Mudassir Raza!\n",
      "\n",
      "Please tell me your name:\n",
      "(enter 'q' at any time to quit)\n",
      "First name: Muhammad\n",
      "Last name: Mudassir\n",
      "\n",
      "Hello, Muhammad Mudassir!\n",
      "\n",
      "Please tell me your name:\n",
      "(enter 'q' at any time to quit)\n",
      "First name: Ali\n",
      "Last name: Hassan\n",
      "\n",
      "Hello, Ali Hassan!\n",
      "\n",
      "Please tell me your name:\n",
      "(enter 'q' at any time to quit)\n",
      "First name: q\n"
     ]
    }
   ],
   "source": [
    "while True:\n",
    "    print(\"\\nPlease tell me your name:\")\n",
    "    print(\"(enter 'q' at any time to quit)\")\n",
    "\n",
    "    f_name = input(\"First name: \")\n",
    "    if f_name == 'q':\n",
    "        break\n",
    "    l_name = input(\"Last name: \")\n",
    "    if l_name == 'q':\n",
    "        break\n",
    "    formatted_name = get_formatted_name(f_name, l_name)\n",
    "\n",
    "    print(\"\\nHello, \" + formatted_name + \"!\")"
   ]
  },
  {
   "cell_type": "markdown",
   "id": "5b29d60f",
   "metadata": {},
   "source": [
    "8-7. Album: Write a function called make_album() that builds a dictionary\n",
    "describing a music album. The function should take in an artist name and an\n",
    "album title, and it should return a dictionary containing these two pieces of\n",
    "information. Use the function to make three dictionaries representing different\n",
    "albums. Print each return value to show that the dictionaries are storing the\n",
    "album information correctly.\n",
    "Add an optional parameter to make_album() that allows you to store the\n",
    "number of tracks on an album. If the calling line includes a value for the number of tracks, add that value to the album’s dictionary. Make at least one new\n",
    "function call that includes the number of tracks on an album."
   ]
  },
  {
   "cell_type": "code",
   "execution_count": 52,
   "id": "1c9e1e23",
   "metadata": {},
   "outputs": [],
   "source": [
    "studio=[]\n",
    "def make_album(artist_name,albumtitle,number_of_tracks=\"\"):\n",
    "    album_dic={\"artist name : \":artist_name,\"album title : \":albumtitle}\n",
    "    if number_of_tracks:\n",
    "        album_dic[\"number of tracks\"]=number_of_tracks\n",
    "    \n",
    "    studio.append(album_dic)\n",
    "    return album_dic    "
   ]
  },
  {
   "cell_type": "code",
   "execution_count": 53,
   "id": "ba8f6076",
   "metadata": {},
   "outputs": [
    {
     "name": "stdout",
     "output_type": "stream",
     "text": [
      "Enter the artis name or q for quitatif\n",
      "Enter the  album title or q for quittera\n",
      "Enter the    number of tracks or q for quit1\n",
      "Enter the artis name or q for quitabida\n",
      "Enter the  album title or q for quitae dard\n",
      "Enter the    number of tracks or q for quit3\n",
      "Enter the artis name or q for quitq\n"
     ]
    }
   ],
   "source": [
    "while True:\n",
    "    artist_name=input(\"Enter the artis name or q for quit\")\n",
    "    if artist_name == \"q\":\n",
    "        break\n",
    "    albumtitle=input(\"Enter the  album title or q for quit\")\n",
    "    if albumtitle == \"q\":\n",
    "        break    \n",
    "    number_of_tracks=input(\"Enter the    number of tracks or q for quit\")\n",
    "    if   number_of_tracks == \"q\":\n",
    "        break    \n",
    "    make_album(artist_name,albumtitle,number_of_tracks)  "
   ]
  },
  {
   "cell_type": "code",
   "execution_count": 56,
   "id": "dc471e2e",
   "metadata": {},
   "outputs": [
    {
     "name": "stdout",
     "output_type": "stream",
     "text": [
      "[{'artist name : ': 'atif', 'album title : ': 'tera', 'number of tracks': '1'}, {'artist name : ': 'abida', 'album title : ': 'ae dard', 'number of tracks': '3'}, {'artist name : ': 'ABC', 'album title : ': 'Album1'}]\n"
     ]
    }
   ],
   "source": [
    " print(studio)\n",
    "# studio"
   ]
  },
  {
   "cell_type": "code",
   "execution_count": 55,
   "id": "0ab95424",
   "metadata": {},
   "outputs": [
    {
     "name": "stdout",
     "output_type": "stream",
     "text": [
      "{'artist name : ': 'ABC', 'album title : ': 'Album1'}\n"
     ]
    }
   ],
   "source": [
    "print(make_album(\"ABC\",\"Album1\"))"
   ]
  },
  {
   "cell_type": "code",
   "execution_count": 23,
   "id": "337c2227",
   "metadata": {},
   "outputs": [
    {
     "name": "stdout",
     "output_type": "stream",
     "text": [
      "{'artist name : ': 'xyz', 'album title : ': 'Album2', 'number of tracks': 5}\n"
     ]
    }
   ],
   "source": [
    "print(make_album(\"xyz\",\"Album2\", 5))"
   ]
  },
  {
   "cell_type": "code",
   "execution_count": 62,
   "id": "121a3cac",
   "metadata": {},
   "outputs": [
    {
     "name": "stdout",
     "output_type": "stream",
     "text": [
      "Enter the artis name or q for quitf\n",
      "Enter the  album title or q for quitf\n",
      "Enter the    number of tracks or q for quitf\n",
      "Enter the artis name or q for quitq\n"
     ]
    }
   ],
   "source": [
    "studio=[]\n",
    "def make_album(artist_name,albumtitle,number_of_tracks=\"\"):\n",
    "    album_dic={\"artist name : \":artist_name,\"album title : \":albumtitle}\n",
    "    if number_of_tracks:\n",
    "        album_dic[\"number of tracks\"]=number_of_tracks\n",
    "    \n",
    "    studio.append(album_dic)\n",
    " \n",
    "        \n",
    "    return album_dic    \n",
    "\n",
    "\n",
    "while True:\n",
    "    artist_name=input(\"Enter the artis name or q for quit\")\n",
    "    if artist_name == \"q\":\n",
    "        break\n",
    "    albumtitle=input(\"Enter the  album title or q for quit\")\n",
    "    if albumtitle == \"q\":\n",
    "        break    \n",
    "    number_of_tracks=input(\"Enter the    number of tracks or q for quit\")\n",
    "    if   number_of_tracks == \"q\":\n",
    "        break    \n",
    "\n",
    "    make_album(artist_name,albumtitle,number_of_tracks)\n",
    "\n",
    "\n"
   ]
  },
  {
   "cell_type": "code",
   "execution_count": 65,
   "id": "b7d28e6b",
   "metadata": {},
   "outputs": [
    {
     "name": "stdout",
     "output_type": "stream",
     "text": [
      "[{'artist name : ': 'f', 'album title : ': 'f', 'number of tracks': 'f'}, {'artist name : ': 'xyz', 'album title : ': 'Album2', 'number of tracks': 5}]\n"
     ]
    }
   ],
   "source": [
    "print(studio)"
   ]
  },
  {
   "cell_type": "code",
   "execution_count": 64,
   "id": "7a5c6782",
   "metadata": {},
   "outputs": [
    {
     "name": "stdout",
     "output_type": "stream",
     "text": [
      "{'artist name : ': 'xyz', 'album title : ': 'Album2', 'number of tracks': 5}\n"
     ]
    }
   ],
   "source": [
    "print(make_album(\"xyz\",\"Album2\", 5))"
   ]
  },
  {
   "cell_type": "code",
   "execution_count": 66,
   "id": "471e3ed8",
   "metadata": {},
   "outputs": [
    {
     "name": "stdout",
     "output_type": "stream",
     "text": [
      "{'artist name : ': 'xyz', 'album title : ': 'Album2', 'number of tracks': 5}\n"
     ]
    }
   ],
   "source": [
    "print(make_album(\"xyz\",\"Album2\", 5))"
   ]
  },
  {
   "cell_type": "markdown",
   "id": "2aa31c0a",
   "metadata": {},
   "source": [
    "# Passing a List"
   ]
  },
  {
   "cell_type": "code",
   "execution_count": 68,
   "id": "f7d8dfa6",
   "metadata": {},
   "outputs": [],
   "source": [
    "def my_sum(alist):\n",
    "    total=sum(alist)\n",
    "    return total"
   ]
  },
  {
   "cell_type": "code",
   "execution_count": 69,
   "id": "8322ddaa",
   "metadata": {},
   "outputs": [
    {
     "data": {
      "text/plain": [
       "55"
      ]
     },
     "execution_count": 69,
     "metadata": {},
     "output_type": "execute_result"
    }
   ],
   "source": [
    "my_sum([1,2,3,4,5,6,7,8,9,10])"
   ]
  },
  {
   "cell_type": "code",
   "execution_count": 70,
   "id": "f6016186",
   "metadata": {},
   "outputs": [],
   "source": [
    "def greet_users(names):\n",
    "    for name in names:\n",
    "        msg = \"Hello, \" + name.title() + \"!\"\n",
    "        print(msg)"
   ]
  },
  {
   "cell_type": "code",
   "execution_count": 71,
   "id": "995dc8e4",
   "metadata": {},
   "outputs": [
    {
     "name": "stdout",
     "output_type": "stream",
     "text": [
      "Hello, Hannah!\n",
      "Hello, Ty!\n",
      "Hello, Margot!\n"
     ]
    }
   ],
   "source": [
    "usernames = ['hannah', 'ty', 'margot']\n",
    "greet_users(usernames)\n"
   ]
  },
  {
   "cell_type": "markdown",
   "id": "8c09a8c6",
   "metadata": {},
   "source": [
    "# Modifying a List in a Function"
   ]
  },
  {
   "cell_type": "code",
   "execution_count": 73,
   "id": "3d0fda6f",
   "metadata": {},
   "outputs": [],
   "source": [
    "unprinted_designs = ['iphone case', 'robot pendant', 'dodecahedron']\n",
    "completed_models = []"
   ]
  },
  {
   "cell_type": "code",
   "execution_count": 74,
   "id": "0cfb4f23",
   "metadata": {},
   "outputs": [
    {
     "name": "stdout",
     "output_type": "stream",
     "text": [
      "Printing model: dodecahedron\n",
      "Printing model: robot pendant\n",
      "Printing model: iphone case\n"
     ]
    }
   ],
   "source": [
    "while unprinted_designs:\n",
    "    current_design = unprinted_designs.pop()\n",
    "    \n",
    "    print(\"Printing model: \" + current_design)\n",
    "    completed_models.append(current_design)\n"
   ]
  },
  {
   "cell_type": "code",
   "execution_count": 75,
   "id": "e9621ad3",
   "metadata": {},
   "outputs": [
    {
     "name": "stdout",
     "output_type": "stream",
     "text": [
      "\n",
      "The following models have been printed:\n",
      "dodecahedron\n",
      "robot pendant\n",
      "iphone case\n"
     ]
    }
   ],
   "source": [
    "# Display all completed models.\n",
    "print(\"\\nThe following models have been printed:\")\n",
    "for completed_model in completed_models:\n",
    "    print(completed_model)"
   ]
  },
  {
   "cell_type": "markdown",
   "id": "23ba7033",
   "metadata": {},
   "source": [
    "# Passing an Arbitrary Number of Arguments"
   ]
  },
  {
   "cell_type": "code",
   "execution_count": 77,
   "id": "80d3b41c",
   "metadata": {},
   "outputs": [],
   "source": [
    "def addfunction(a=\"\",b=\"\",c=\"\",d=\"\",e=\"\",f=\"\"):\n",
    "    print(a,b,c,d,e,f)"
   ]
  },
  {
   "cell_type": "code",
   "execution_count": 78,
   "id": "1d511358",
   "metadata": {},
   "outputs": [
    {
     "name": "stdout",
     "output_type": "stream",
     "text": [
      "A B C D E Q\n"
     ]
    }
   ],
   "source": [
    "addfunction(\"A\",\"B\",\"C\",\"D\",\"E\",\"Q\")"
   ]
  },
  {
   "cell_type": "code",
   "execution_count": 79,
   "id": "5a0bdb7c",
   "metadata": {},
   "outputs": [
    {
     "name": "stdout",
     "output_type": "stream",
     "text": [
      "     \n"
     ]
    }
   ],
   "source": [
    "addfunction()"
   ]
  },
  {
   "cell_type": "code",
   "execution_count": 80,
   "id": "c19df6a4",
   "metadata": {},
   "outputs": [
    {
     "ename": "TypeError",
     "evalue": "addfunction() takes from 0 to 6 positional arguments but 7 were given",
     "output_type": "error",
     "traceback": [
      "\u001b[1;31m---------------------------------------------------------------------------\u001b[0m",
      "\u001b[1;31mTypeError\u001b[0m                                 Traceback (most recent call last)",
      "Input \u001b[1;32mIn [80]\u001b[0m, in \u001b[0;36m<cell line: 1>\u001b[1;34m()\u001b[0m\n\u001b[1;32m----> 1\u001b[0m \u001b[43maddfunction\u001b[49m\u001b[43m(\u001b[49m\u001b[38;5;241;43m111\u001b[39;49m\u001b[43m,\u001b[49m\u001b[38;5;241;43m222\u001b[39;49m\u001b[43m,\u001b[49m\u001b[38;5;241;43m333\u001b[39;49m\u001b[43m,\u001b[49m\u001b[38;5;241;43m444\u001b[39;49m\u001b[43m,\u001b[49m\u001b[38;5;241;43m555\u001b[39;49m\u001b[43m,\u001b[49m\u001b[38;5;241;43m666\u001b[39;49m\u001b[43m,\u001b[49m\u001b[38;5;241;43m777\u001b[39;49m\u001b[43m)\u001b[49m\n",
      "\u001b[1;31mTypeError\u001b[0m: addfunction() takes from 0 to 6 positional arguments but 7 were given"
     ]
    }
   ],
   "source": [
    "addfunction(111,222,333,444,555,666,777)"
   ]
  },
  {
   "cell_type": "code",
   "execution_count": 81,
   "id": "514dc9ee",
   "metadata": {},
   "outputs": [
    {
     "name": "stdout",
     "output_type": "stream",
     "text": [
      "111 222 333 444 555 666\n"
     ]
    }
   ],
   "source": [
    "addfunction(111,222,333,444,555,666)"
   ]
  },
  {
   "cell_type": "code",
   "execution_count": 82,
   "id": "85650537",
   "metadata": {},
   "outputs": [],
   "source": [
    "def make_pizza(*toppings):\n",
    "    print(\"\\nMaking a pizza with the following toppings:\")\n",
    "    for topping in toppings:\n",
    "        print(\"- \" + topping)\n",
    "    "
   ]
  },
  {
   "cell_type": "code",
   "execution_count": 83,
   "id": "64cf062a",
   "metadata": {},
   "outputs": [
    {
     "name": "stdout",
     "output_type": "stream",
     "text": [
      "\n",
      "Making a pizza with the following toppings:\n",
      "- mushrooms\n",
      "- green peppers\n",
      "- extra cheese\n"
     ]
    }
   ],
   "source": [
    "make_pizza('mushrooms', 'green peppers', 'extra cheese')"
   ]
  },
  {
   "cell_type": "code",
   "execution_count": 84,
   "id": "43817dc2",
   "metadata": {},
   "outputs": [],
   "source": [
    "a = (12,)"
   ]
  },
  {
   "cell_type": "code",
   "execution_count": 85,
   "id": "f31f59eb",
   "metadata": {},
   "outputs": [
    {
     "data": {
      "text/plain": [
       "(12,)"
      ]
     },
     "execution_count": 85,
     "metadata": {},
     "output_type": "execute_result"
    }
   ],
   "source": [
    "a\n"
   ]
  },
  {
   "cell_type": "code",
   "execution_count": 86,
   "id": "4a8a564f",
   "metadata": {},
   "outputs": [
    {
     "name": "stdout",
     "output_type": "stream",
     "text": [
      "\n",
      "Making a 16-inch pizza with the following toppings:\n",
      "- pepperoni\n",
      "\n",
      "Making a 12-inch pizza with the following toppings:\n",
      "- mushrooms\n",
      "- green peppers\n",
      "- extra cheese\n"
     ]
    }
   ],
   "source": [
    "def make_pizza(size, *toppings):\n",
    "    print(\"\\nMaking a \" + str(size) +\"-inch pizza with the following toppings:\")\n",
    "    for topping in toppings:\n",
    "         print(\"- \" + topping)\n",
    "\n",
    "make_pizza(16, 'pepperoni')\n",
    "make_pizza(12, 'mushrooms', 'green peppers', 'extra cheese')"
   ]
  },
  {
   "cell_type": "code",
   "execution_count": 87,
   "id": "e819b20a",
   "metadata": {},
   "outputs": [
    {
     "data": {
      "text/plain": [
       "0"
      ]
     },
     "execution_count": 87,
     "metadata": {},
     "output_type": "execute_result"
    }
   ],
   "source": [
    "len(\"\")"
   ]
  },
  {
   "cell_type": "code",
   "execution_count": 88,
   "id": "6a7ee65f",
   "metadata": {},
   "outputs": [],
   "source": [
    "a = 120\n",
    "def local_global():\n",
    "    \n",
    "    global a\n",
    "    a = 10\n",
    "    print(a)"
   ]
  },
  {
   "cell_type": "code",
   "execution_count": 89,
   "id": "bccfebe0",
   "metadata": {},
   "outputs": [
    {
     "name": "stdout",
     "output_type": "stream",
     "text": [
      "10\n"
     ]
    }
   ],
   "source": [
    "local_global()"
   ]
  },
  {
   "cell_type": "code",
   "execution_count": 90,
   "id": "3d010bf9",
   "metadata": {},
   "outputs": [
    {
     "data": {
      "text/plain": [
       "10"
      ]
     },
     "execution_count": 90,
     "metadata": {},
     "output_type": "execute_result"
    }
   ],
   "source": [
    "a\n"
   ]
  },
  {
   "cell_type": "code",
   "execution_count": null,
   "id": "3c5abae5",
   "metadata": {},
   "outputs": [],
   "source": [
    ".\n",
    "# assignment :create a program that will all a funnction to generate KE billings details on the basis of given input units\n",
    "#  The funtion will only call other functions for any processing and only print  return values from calling functions   \n",
    "#KE Teriff  unit forr july 2022"
   ]
  },
  {
   "cell_type": "code",
   "execution_count": 1,
   "id": "59cd91f8",
   "metadata": {},
   "outputs": [
    {
     "name": "stdout",
     "output_type": "stream",
     "text": [
      "Electirc charges for  525 = 10374.0\n",
      "eletric charge for  525 = 10106.25\n",
      "Electirc charges for  112 = 1152.48\n",
      "eletric charge for  112 = 908.3199999999999\n",
      "Electirc charges for  349 = 6065.62\n",
      "eletric charge for  349 = 6718.25\n",
      "Electirc charges for  700 = 14279.999999999998\n",
      "eletric charge for  700 = 13475.0\n",
      "Electirc charges for  -22 = -1\n",
      "eletric charge for  -22 = -1\n",
      "Electirc charges for  450 = 8478.0\n",
      "eletric charge for  450 = 8662.5\n",
      "Electirc charges for  116 = 1193.6399999999999\n",
      "eletric charge for  116 = 940.76\n"
     ]
    }
   ],
   "source": [
    "    \n",
    "def electricity(monthly_units):\n",
    "    \n",
    "    charges=0\n",
    "    if monthly_units > 0 and monthly_units <=100:\n",
    "        charges=monthly_units * 9.43\n",
    "    elif monthly_units >100 and monthly_units <=200:\n",
    "        charges=monthly_units * 10.29\n",
    "    elif monthly_units >200 and monthly_units <=300:\n",
    "        charges=monthly_units * 12.55\n",
    "    elif monthly_units >300 and monthly_units <=400:\n",
    "        charges=monthly_units * 17.38    \n",
    "    elif monthly_units >400 and monthly_units <=500:\n",
    "        charges=monthly_units * 18.84\n",
    "        \n",
    "    elif monthly_units >500 and monthly_units <=600:\n",
    "        charges=monthly_units * 19.76  \n",
    "    elif monthly_units >600 and monthly_units <=700:\n",
    "        charges=monthly_units * 20.40     \n",
    "        \n",
    "        \n",
    "    else: #invalid values given\n",
    "        charges=-1\n",
    "        \n",
    "        \n",
    "        \n",
    "    \n",
    "    return charges\n",
    "\n",
    "\n",
    "\n",
    "def  uniform(monthly_units):\n",
    "    \n",
    "    charges=0\n",
    "    if monthly_units > 0 and monthly_units <=100:\n",
    "        charges=monthly_units * 5.79\n",
    "    elif monthly_units >100 and monthly_units <=200:\n",
    "        charges=monthly_units * 8.11\n",
    "    elif monthly_units >200 and monthly_units <=300:\n",
    "        charges=monthly_units * 10.20\n",
    "    elif monthly_units >300 and monthly_units <=700:\n",
    "        charges=monthly_units * 19.25   \n",
    "          \n",
    "        \n",
    "    else: #invalid values given\n",
    "        charges=-1\n",
    "        \n",
    "        \n",
    "        \n",
    "    \n",
    "    return charges\n",
    "\n",
    "\n",
    "\n",
    "# monthly_units=525\n",
    "\n",
    "def bill_main(monthly_units):\n",
    "    electric_charges=electricity(monthly_units)\n",
    "    print(\"Electirc charges for \",monthly_units,\"=\",electric_charges)\n",
    "    \n",
    "    uniform_charges=uniform(monthly_units)\n",
    "    print(\"eletric charge for \",monthly_units,\"=\",uniform_charges)\n",
    "    \n",
    "#     fuel_charges=fuel(monthly_units)\n",
    "#     print(\"eletric charge for \",monthly_units,\"=\",fuel_charges)\n",
    "    \n",
    "#     sales_tax=sales_tax(monthly_units)\n",
    "#     print(\"eletric charge for \",monthly_units,\"=\",sales_tax)\n",
    "    \n",
    "#     advance_tax=advance_tax(monthly_units)\n",
    "#     print(\"eletric charge for \",monthly_units,\"=\",advance_tax)\n",
    "    \n",
    "#     tv_fee=tv_fee(monthly_units)\n",
    "#     print(\"eletric charge for \",monthly_units,\"=\",tv_fee)\n",
    "    \n",
    "    \n",
    "#     total=total(electric_charges,uniform_charges,fuel_charges,sales_tax,advance_tax,tv_fee)\n",
    "#      print(\"eletric charge for \",monthly_units,\"=\",total)\n",
    "    \n",
    "\n",
    "bill_main(monthly_units =525 )\n",
    "bill_main(112)\n",
    "bill_main(349)\n",
    "bill_main(700)\n",
    "bill_main(-22)\n",
    "bill_main( 450)\n",
    "bill_main( 116)\n",
    "\n",
    "\n",
    "\n",
    " \n",
    "    \n",
    "# Ans :  10374.0   \n",
    "    "
   ]
  },
  {
   "cell_type": "code",
   "execution_count": null,
   "id": "c4bc3e29",
   "metadata": {},
   "outputs": [],
   "source": []
  }
 ],
 "metadata": {
  "kernelspec": {
   "display_name": "Python 3 (ipykernel)",
   "language": "python",
   "name": "python3"
  },
  "language_info": {
   "codemirror_mode": {
    "name": "ipython",
    "version": 3
   },
   "file_extension": ".py",
   "mimetype": "text/x-python",
   "name": "python",
   "nbconvert_exporter": "python",
   "pygments_lexer": "ipython3",
   "version": "3.9.12"
  }
 },
 "nbformat": 4,
 "nbformat_minor": 5
}
