{
 "cells": [
  {
   "cell_type": "code",
   "execution_count": null,
   "id": "bcd3b35d",
   "metadata": {},
   "outputs": [],
   "source": [
    "# How to open CsV File"
   ]
  },
  {
   "cell_type": "code",
   "execution_count": 1,
   "id": "25b933cf",
   "metadata": {},
   "outputs": [
    {
     "ename": "SyntaxError",
     "evalue": "invalid syntax (3407567338.py, line 2)",
     "output_type": "error",
     "traceback": [
      "\u001b[1;36m  Input \u001b[1;32mIn [1]\u001b[1;36m\u001b[0m\n\u001b[1;33m    CSV_Data=[[Year,Event,Winner],[1995,Best-Kept Lawn,None],[1999,Gobstones,Welch National],[2006,World Cup,Burkina Faso]]\u001b[0m\n\u001b[1;37m                                                  ^\u001b[0m\n\u001b[1;31mSyntaxError\u001b[0m\u001b[1;31m:\u001b[0m invalid syntax\n"
     ]
    }
   ],
   "source": [
    "###CSV Files\n",
    "###CSV_Data=[[Year,Event,Winner],[1995,Best-Kept Lawn,None],[1999,Gobstones,Welch National],[2006,World Cup,Burkina Faso]]\n",
    "# Year,Event,Winner\n",
    "# 1995,Best-Kept Lawn,None\n",
    "# 1999,Gobstones,Welch National\n",
    "# 2006,World Cup,Burkina Faso"
   ]
  },
  {
   "cell_type": "code",
   "execution_count": 2,
   "id": "5fe84e51",
   "metadata": {},
   "outputs": [
    {
     "name": "stdout",
     "output_type": "stream",
     "text": [
      "[['Year', 'Event', 'Winner'], ['1995', 'Best-Kept Lawn', 'None'], ['1999', 'Gobstones', 'Welch National'], ['2006', 'World Cup', 'Burkina Faso']]\n",
      "['Year', 'Event', 'Winner']\n",
      "['1995', 'Best-Kept Lawn', 'None']\n",
      "['1999', 'Gobstones', 'Welch National']\n",
      "['2006', 'World Cup', 'Burkina Faso']\n"
     ]
    }
   ],
   "source": [
    "import csv\n",
    "# r for read file\n",
    "with open(\"data.csv\",\"r\") as file:\n",
    "    Data= csv.reader(file)\n",
    "    potter_competitions = []\n",
    "    for each_line in Data:\n",
    "        potter_competitions += each_line\n",
    "\n",
    "Data_list=[]      \n",
    "\n",
    "for i in range(0,len(potter_competitions),3):\n",
    "    Data_list.append(potter_competitions[i:i+3])\n",
    "\n",
    "print(Data_list)    \n",
    "\n",
    "for i in Data_list:\n",
    "    print(i)\n",
    "        \n",
    "  \n",
    "\n",
    "\n",
    "\n",
    "\n",
    "\n",
    "\n",
    "    \n"
   ]
  },
  {
   "cell_type": "code",
   "execution_count": 3,
   "id": "6b224fc7",
   "metadata": {},
   "outputs": [
    {
     "name": "stdout",
     "output_type": "stream",
     "text": [
      "Enter the name of competionsWorld Cup\n",
      "The winner was Burkina Faso\n"
     ]
    }
   ],
   "source": [
    "import csv\n",
    "with open(\"data.csv\",\"r\") as file:\n",
    "    Data= csv.reader(file)\n",
    "    potter_competitions = []\n",
    "    for each_line in Data:\n",
    "        potter_competitions += each_line\n",
    "\n",
    "target=input(\"Enter the name of competions\") \n",
    "index_number_Of_target= potter_competitions.index(target)\n",
    "index_number_of_winner =  index_number_Of_target + 1\n",
    "the_winner =potter_competitions[index_number_of_winner]\n",
    "print(\"The winner was \" + the_winner)\n",
    "\n",
    "\n",
    "\n",
    "\n",
    "\n",
    "\n",
    "    \n"
   ]
  },
  {
   "cell_type": "markdown",
   "id": "ab022991",
   "metadata": {},
   "source": [
    "### Transfer data excel"
   ]
  },
  {
   "cell_type": "code",
   "execution_count": 4,
   "id": "abbec4be",
   "metadata": {},
   "outputs": [],
   "source": [
    "import csv\n",
    "#w for file create\n",
    "with open(\"data1.csv\",\"w\") as file:\n",
    "    data= csv.writer(file, delimiter=\",\")\n",
    "    data.writerow([\"Year\",\"Event\",\"Winner\"])\n",
    "    data.writerow(['1995', 'Best-Kept Lawn', 'None'])\n",
    "    data.writerow(['1999', 'Gobstones', 'Welch National'])\n",
    "    data.writerow(['2006', 'World Cup', 'Burkina Faso'])\n",
    "    \n",
    "# Year,Event,Winner\n",
    "# 1995,Best-Kept Lawn,None\n",
    "# 1999,Gobstones,Welch National\n",
    "# 2006,World Cup,Burkina Faso    \n",
    "    "
   ]
  },
  {
   "cell_type": "code",
   "execution_count": 5,
   "id": "48c511c5",
   "metadata": {},
   "outputs": [],
   "source": [
    "import csv\n",
    "with open(\"data2.csv\",\"w\") as file:\n",
    "    data=csv.writer(file,delimiter=\",\")\n",
    "    data.writerow(potter_competitions[0:3])\n",
    "    data.writerow(potter_competitions[3:6])\n",
    "    data.writerow(potter_competitions[6:9])\n",
    "    data.writerow(potter_competitions[9:12])\n",
    "        \n",
    "        \n",
    "    "
   ]
  },
  {
   "cell_type": "code",
   "execution_count": 6,
   "id": "250d18ac",
   "metadata": {},
   "outputs": [],
   "source": [
    "import json #dictionary ya list ma data save ka lia\n",
    "alphabets_letters=[\"a\",\"b\",\"c\"]\n",
    "with open(\"alphabet_list.txt\",\"w\") as f:\n",
    "    json.dump(alphabets_letters,f)\n"
   ]
  },
  {
   "cell_type": "code",
   "execution_count": 7,
   "id": "01a566bb",
   "metadata": {},
   "outputs": [
    {
     "name": "stdout",
     "output_type": "stream",
     "text": [
      "<class 'list'> ['a', 'b', 'c']\n"
     ]
    }
   ],
   "source": [
    "import json\n",
    "with open(\"alphabet_list.txt\",\"r\") as f:\n",
    "     data=json.load(f)\n",
    "        \n",
    "print(type(data),data)         "
   ]
  },
  {
   "cell_type": "code",
   "execution_count": 8,
   "id": "9664de33",
   "metadata": {},
   "outputs": [
    {
     "name": "stdout",
     "output_type": "stream",
     "text": [
      "<class 'dict'> {'first name': 'David', 'last name': 'Elliott', 'address': '4803 Wellesley St.'}\n"
     ]
    }
   ],
   "source": [
    "import json\n",
    "customer_29876 = {\n",
    "    \"first name\": \"David\",\n",
    "    \"last name\": \"Elliott\",\n",
    "    \"address\": \"4803 Wellesley St.\",\n",
    " }\n",
    "\n",
    "with open(\"customer_29876.json\", \"w\") as f:\n",
    "    json.dump(customer_29876, f)\n",
    "    \n",
    "with open(\"customer_29876.json\",\"r\") as f:\n",
    "     data=json.load(f)\n",
    "        \n",
    "print(type(data),data)      "
   ]
  },
  {
   "cell_type": "code",
   "execution_count": null,
   "id": "13287482",
   "metadata": {},
   "outputs": [],
   "source": [
    "     "
   ]
  },
  {
   "cell_type": "code",
   "execution_count": 9,
   "id": "ee45a709",
   "metadata": {},
   "outputs": [
    {
     "name": "stdout",
     "output_type": "stream",
     "text": [
      "<class 'dict'> {'squadName': 'Super hero squad', 'homeTown': 'Metro City', 'formed': 2016, 'secretBase': 'Super tower', 'active': True, 'members': [{'name': 'Molecule Man', 'age': 29, 'secretIdentity': 'Dan Jukes', 'powers': ['Radiation resistance', 'Turning tiny', 'Radiation blast']}, {'name': 'Madame Uppercut', 'age': 39, 'secretIdentity': 'Jane Wilson', 'powers': ['Million tonne punch', 'Damage resistance', 'Superhuman reflexes']}, {'name': 'Eternal Flame', 'age': 1000000, 'secretIdentity': 'Unknown', 'powers': ['Immortality', 'Heat Immunity', 'Inferno', 'Teleportation', 'Interdimensional travel']}]}\n"
     ]
    }
   ],
   "source": [
    "Heros={\n",
    "  \"squadName\": \"Super hero squad\",\n",
    "  \"homeTown\": \"Metro City\",\n",
    "  \"formed\": 2016,\n",
    "  \"secretBase\": \"Super tower\",\n",
    "  \"active\": True,\n",
    "  \"members\": [\n",
    "    {\n",
    "      \"name\": \"Molecule Man\",\n",
    "      \"age\": 29,\n",
    "      \"secretIdentity\": \"Dan Jukes\",\n",
    "      \"powers\": [\"Radiation resistance\", \"Turning tiny\", \"Radiation blast\"]\n",
    "    },\n",
    "    {\n",
    "      \"name\": \"Madame Uppercut\",\n",
    "      \"age\": 39,\n",
    "      \"secretIdentity\": \"Jane Wilson\",\n",
    "      \"powers\": [\n",
    "        \"Million tonne punch\",\n",
    "        \"Damage resistance\",\n",
    "        \"Superhuman reflexes\"\n",
    "      ]\n",
    "    },\n",
    "    {\n",
    "      \"name\": \"Eternal Flame\",\n",
    "      \"age\": 1000000,\n",
    "      \"secretIdentity\": \"Unknown\",\n",
    "      \"powers\": [\n",
    "        \"Immortality\",\n",
    "        \"Heat Immunity\",\n",
    "        \"Inferno\",\n",
    "        \"Teleportation\",\n",
    "        \"Interdimensional travel\"\n",
    "      ]\n",
    "    }\n",
    "  ]\n",
    "}\n",
    "\n",
    "with open(\"Heros.json\", \"w\") as f:\n",
    "    json.dump(Heros, f)\n",
    "    \n",
    "with open(\"Heros.json\",\"r\") as f:\n",
    "     data=json.load(f)\n",
    "        \n",
    "print(type(data),data)     "
   ]
  },
  {
   "cell_type": "code",
   "execution_count": 11,
   "id": "a2f96e30",
   "metadata": {},
   "outputs": [
    {
     "name": "stdout",
     "output_type": "stream",
     "text": [
      "What text file to open? data.csv\n",
      "Year,Event,Winner\n",
      "1995,Best-Kept Lawn,None\n",
      "1999,Gobstones,Welch National\n",
      "2006,World Cup,Burkina Faso\n"
     ]
    }
   ],
   "source": [
    "try:\n",
    "    filename = input(\"What text file to open? \")\n",
    "    with open(filename) as f:\n",
    "        print(f.read())\n",
    "    \n",
    "except FileNotFoundError:\n",
    "    print(\"Sorry, \" + filename + \" not found.\")    "
   ]
  },
  {
   "cell_type": "code",
   "execution_count": 12,
   "id": "62f21930",
   "metadata": {},
   "outputs": [
    {
     "name": "stdout",
     "output_type": "stream",
     "text": [
      "Provide the valid file information orn enter q to quit\n",
      "what text file open: data.csv\n",
      "Year,Event,Winner\n",
      "1995,Best-Kept Lawn,None\n",
      "1999,Gobstones,Welch National\n",
      "2006,World Cup,Burkina Faso\n",
      "Provide the valid file information orn enter q to quit\n",
      "what text file open: q\n",
      "Programs ends Successfully\n"
     ]
    }
   ],
   "source": [
    "filename=\"\"\n",
    "while filename != \"q\":\n",
    "    print(\"Provide the valid file information orn enter q to quit\")\n",
    "    filename=input(\"what text file open: \")\n",
    "    if filename != \"q\":\n",
    "        try:\n",
    "            with open(filename) as f:\n",
    "                print(f.read())\n",
    "    \n",
    "#         except FileNotFoundError:\n",
    "#             print(\"Sorry, \" + filename + \" not found.\")   \n",
    "\n",
    "        except Exception as e:\n",
    "            print(\"Error ==>\",e )\n",
    "        \n",
    "        \n",
    "print(\"Programs ends Successfully\")            "
   ]
  },
  {
   "cell_type": "code",
   "execution_count": null,
   "id": "01c06a2f",
   "metadata": {},
   "outputs": [],
   "source": [
    "#https://codesignal.com/"
   ]
  },
  {
   "cell_type": "code",
   "execution_count": null,
   "id": "1e88ac79",
   "metadata": {},
   "outputs": [],
   "source": []
  }
 ],
 "metadata": {
  "kernelspec": {
   "display_name": "Python 3 (ipykernel)",
   "language": "python",
   "name": "python3"
  },
  "language_info": {
   "codemirror_mode": {
    "name": "ipython",
    "version": 3
   },
   "file_extension": ".py",
   "mimetype": "text/x-python",
   "name": "python",
   "nbconvert_exporter": "python",
   "pygments_lexer": "ipython3",
   "version": "3.9.12"
  }
 },
 "nbformat": 4,
 "nbformat_minor": 5
}
