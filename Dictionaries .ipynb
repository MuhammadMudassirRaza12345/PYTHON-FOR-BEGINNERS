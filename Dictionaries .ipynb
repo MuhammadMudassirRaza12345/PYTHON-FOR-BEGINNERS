{
 "cells": [
  {
   "cell_type": "markdown",
   "id": "02163f79",
   "metadata": {},
   "source": [
    "# Dictionaries"
   ]
  },
  {
   "cell_type": "markdown",
   "id": "aa19936c",
   "metadata": {},
   "source": [
    "## Dictionaries : dictionary works something like a list, but instead of a simple series of\n",
    "## things, a dictionary is a series of pairs of things. Each pair contains a key—\"first name\", \"last name\" etc.—and a value—\"David\", \"Elliott\", etc. To pick something out of a dictionary, you specify a particular key and ask  what value is paired with it.\n",
    "\n"
   ]
  },
  {
   "cell_type": "markdown",
   "id": "4a615591",
   "metadata": {},
   "source": [
    "### method means part of variable\n",
    "## function means indepent of variable"
   ]
  },
  {
   "cell_type": "code",
   "execution_count": 1,
   "id": "f55836ac",
   "metadata": {},
   "outputs": [
    {
     "name": "stdout",
     "output_type": "stream",
     "text": [
      "{'first_name': 'Muhammad', 'middle_name': 'Mudassir', 'last_name': 'Raza', 'address': 'A-128 New Rizvia Society', 'number': '03122512472', 1: 'love'}\n",
      "Muhammad\n",
      "Mudassir\n",
      "Raza\n",
      "A-128 New Rizvia Society\n",
      "03122512472\n",
      "love\n"
     ]
    }
   ],
   "source": [
    "customer={\n",
    "    \"first_name\" :\"Muhammad\",\n",
    "    \"middle_name\" :\"Mudassir\",\n",
    "    \"last_name\" :\"Raza\",\n",
    "    \"address\" : \"A-128 New Rizvia Society\",\n",
    "    \"number\" : \"03122512472\",\n",
    "    1  : \"love\"\n",
    "}\n",
    "print(customer)\n",
    "print(customer[\"first_name\"])\n",
    "print(customer[\"middle_name\"])\n",
    "print(customer[\"last_name\"])\n",
    "print(customer[\"address\"])\n",
    "print(customer[\"number\"])\n",
    "print(customer[1])\n",
    "    \n",
    " "
   ]
  },
  {
   "cell_type": "code",
   "execution_count": 2,
   "id": "7f1c6043",
   "metadata": {},
   "outputs": [
    {
     "name": "stdout",
     "output_type": "stream",
     "text": [
      "Karachi\n"
     ]
    }
   ],
   "source": [
    "Cities_ranking={\n",
    "    1: \"Karachi\",\n",
    "    2:\"Lahore\",\n",
    "    3: \"Islamabad\"\n",
    "    \n",
    "}\n",
    "print(Cities_ranking[1])"
   ]
  },
  {
   "cell_type": "markdown",
   "id": "80311304",
   "metadata": {},
   "source": [
    "## Adding New items in dictionary"
   ]
  },
  {
   "cell_type": "code",
   "execution_count": 3,
   "id": "4ed09c2e",
   "metadata": {},
   "outputs": [
    {
     "name": "stdout",
     "output_type": "stream",
     "text": [
      "{'first_name': 'Muhammad', 'middle_name': 'Mudassir', 'last_name': 'Raza', 'address': 'A-128 New Rizvia Society', 'number': '03122512472', 1: 'love', 'city': 'karachi'}\n",
      "{'first_name': 'Muhammad', 'middle_name': 'Mudassir', 'last_name': 'Raza', 'address': 'A-128 New Rizvia Society', 'number': '03122512472', 1: 'love', 'city': 'karachi', 'age': 21}\n"
     ]
    }
   ],
   "source": [
    "\n",
    "\n",
    "customer={\n",
    "    \"first_name\" :\"Muhammad\",\n",
    "    \"middle_name\" :\"Mudassir\",\n",
    "    \"last_name\" :\"Raza\",\n",
    "    \"address\" : \"A-128 New Rizvia Society\",\n",
    "    \"number\" : \"03122512472\",\n",
    "    1  : \"love\"\n",
    "}\n",
    "customer[\"city\"] =\"karachi\"\n",
    "print(customer)\n",
    "customer[\"age\"] = 21\n",
    "print(customer)\n",
    "\n",
    "# print(customer[\"first_name\"])\n",
    "# print(customer[\"middle_name\"])\n",
    "# print(customer[\"last_name\"])\n",
    "# print(customer[\"address\"])\n",
    "# print(customer[\"number\"])\n",
    "# print(customer[1])\n",
    "    \n",
    " "
   ]
  },
  {
   "cell_type": "markdown",
   "id": "80e0614d",
   "metadata": {},
   "source": [
    "## Removing and changing items in dictionary"
   ]
  },
  {
   "cell_type": "code",
   "execution_count": 4,
   "id": "040ff12b",
   "metadata": {},
   "outputs": [
    {
     "name": "stdout",
     "output_type": "stream",
     "text": [
      "{'first_name': 'Muhammad', 'middle_name': 'Mudassir', 'last_name': 'Raza', 'address': 'A-128 New Rizvia Society', 'number': '03122512472', 1: 'love', 'city': 'karachi'}\n"
     ]
    }
   ],
   "source": [
    "#in dictionary you are removing through key by del\n",
    "\n",
    "customer={\n",
    "    \"first_name\" :\"Muhammad\",\n",
    "    \"middle_name\" :\"Mudassir\",\n",
    "    \"last_name\" :\"Raza\",\n",
    "    \"address\" : \"A-128 New Rizvia Society\",\n",
    "    \"number\" : \"03122512472\",\n",
    "    1  : \"love\" ,\n",
    "    'city': 'karachi',\n",
    "    'age': 21\n",
    "}\n",
    "del customer[\"age\"] \n",
    "print(customer)\n",
    "\n",
    "\n",
    "# print(customer[\"first_name\"])\n",
    "# print(customer[\"middle_name\"])\n",
    "# print(customer[\"last_name\"])\n",
    "# print(customer[\"address\"])\n",
    "# print(customer[\"number\"])\n",
    "# print(customer[1])\n",
    "    \n",
    " "
   ]
  },
  {
   "cell_type": "markdown",
   "id": "7c9eacdd",
   "metadata": {},
   "source": [
    "## Changing the value in list"
   ]
  },
  {
   "cell_type": "code",
   "execution_count": 5,
   "id": "a1e9af34",
   "metadata": {},
   "outputs": [
    {
     "name": "stdout",
     "output_type": "stream",
     "text": [
      "{'first_name': 'Muhammad', 'middle_name': 'Mudassir', 'last_name': 'Raza', 'address': 'A-128 New Rizvia Society', 'number': '03122512472', 1: 'love', 'city': 'karachi', 'age': 21}\n",
      "22\n"
     ]
    }
   ],
   "source": [
    "customer={\n",
    "    \"first_name\" :\"Muhammad\",\n",
    "    \"middle_name\" :\"Mudassir\",\n",
    "    \"last_name\" :\"Raza\",\n",
    "    \"address\" : \"A-128 New Rizvia Society\",\n",
    "    \"number\" : \"03122512472\",\n",
    "    1  : \"love\" ,\n",
    "    'city': 'karachi',\n",
    "    'age': 21\n",
    "}\n",
    "print(customer)\n",
    "# print(customer[\"age\"])\n",
    "customer[\"age\"] =22\n",
    "# print(customer)\n",
    "print(customer[\"age\"])"
   ]
  },
  {
   "cell_type": "markdown",
   "id": "21cbc9bc",
   "metadata": {},
   "source": [
    "## LOOPING THE DICTIONARY"
   ]
  },
  {
   "cell_type": "code",
   "execution_count": 6,
   "id": "c57cc20c",
   "metadata": {},
   "outputs": [
    {
     "name": "stdout",
     "output_type": "stream",
     "text": [
      "Muhammad\n",
      "Mudassir\n",
      "Raza\n",
      "A-128 New Rizvia Society\n",
      "03122512472\n",
      "love\n",
      "karachi\n",
      "21\n"
     ]
    }
   ],
   "source": [
    "##Instead of one by one We print all the values of dictionary  through loops \n",
    "\n",
    "customer={\n",
    "    \"first_name\" :\"Muhammad\",\n",
    "    \"middle_name\" :\"Mudassir\",\n",
    "    \"last_name\" :\"Raza\",\n",
    "    \"address\" : \"A-128 New Rizvia Society\",\n",
    "    \"number\" : \"03122512472\",\n",
    "    1  : \"love\" ,\n",
    "    'city': 'karachi',\n",
    "    'age': 21\n",
    "}\n",
    "##looping through values\n",
    "for data in customer.values():\n",
    "    print(data)\n",
    "    \n",
    "    \n"
   ]
  },
  {
   "cell_type": "code",
   "execution_count": 7,
   "id": "942ed74f",
   "metadata": {},
   "outputs": [
    {
     "name": "stdout",
     "output_type": "stream",
     "text": [
      "first_name\n",
      "middle_name\n",
      "last_name\n",
      "address\n",
      "number\n",
      "1\n",
      "city\n",
      "age\n"
     ]
    }
   ],
   "source": [
    "##looping through keys\n",
    "customer={\n",
    "    \"first_name\" :\"Muhammad\",\n",
    "    \"middle_name\" :\"Mudassir\",\n",
    "    \"last_name\" :\"Raza\",\n",
    "    \"address\" : \"A-128 New Rizvia Society\",\n",
    "    \"number\" : \"03122512472\",\n",
    "    1  : \"love\" ,\n",
    "    'city': 'karachi',\n",
    "    'age': 21\n",
    "}\n",
    "for data in customer.keys():\n",
    "    print(data)\n",
    "    "
   ]
  },
  {
   "cell_type": "code",
   "execution_count": 8,
   "id": "9c780f57",
   "metadata": {},
   "outputs": [
    {
     "name": "stdout",
     "output_type": "stream",
     "text": [
      "first_name  :  Muhammad\n",
      "middle_name  :  Mudassir\n",
      "last_name  :  Raza\n",
      "address  :  A-128 New Rizvia Society\n",
      "number  :  03122512472\n",
      "1  :  love\n",
      "city  :  karachi\n",
      "age  :  21\n"
     ]
    }
   ],
   "source": [
    "##looping through keys and values both\n",
    "customer={\n",
    "    \"first_name\" :\"Muhammad\",\n",
    "    \"middle_name\" :\"Mudassir\",\n",
    "    \"last_name\" :\"Raza\",\n",
    "    \"address\" : \"A-128 New Rizvia Society\",\n",
    "    \"number\" : \"03122512472\",\n",
    "    1  : \"love\" ,\n",
    "    'city': 'karachi',\n",
    "    'age': 21\n",
    "}\n",
    "for data_key,data_values  in customer.items():\n",
    "    print(data_key,\" : \",data_values )\n",
    "    "
   ]
  },
  {
   "cell_type": "code",
   "execution_count": 9,
   "id": "aa89e35a",
   "metadata": {},
   "outputs": [
    {
     "name": "stdout",
     "output_type": "stream",
     "text": [
      "Customer key 1 is first_name  and  Customer values 1 is Muhammad\n",
      "Customer key 2 is middle_name  and  Customer values 2 is Mudassir\n",
      "Customer key 3 is last_name  and  Customer values 3 is Raza\n",
      "Customer key 4 is address  and  Customer values 4 is A-128 New Rizvia Society\n",
      "Customer key 5 is number  and  Customer values 5 is 03122512472\n",
      "Customer key 6 is 1  and  Customer values 6 is love\n",
      "Customer key 7 is city  and  Customer values 7 is karachi\n",
      "Customer key 8 is age  and  Customer values 8 is 21\n"
     ]
    }
   ],
   "source": [
    "##looping through keys and values both\n",
    "customer={\n",
    "    \"first_name\" :\"Muhammad\",\n",
    "    \"middle_name\" :\"Mudassir\",\n",
    "    \"last_name\" :\"Raza\",\n",
    "    \"address\" : \"A-128 New Rizvia Society\",\n",
    "    \"number\" : \"03122512472\",\n",
    "    1  : \"love\" ,\n",
    "    'city': 'karachi',\n",
    "    'age': 21\n",
    "}\n",
    "num=1\n",
    "for data_key,data_values  in customer.items():\n",
    "    print(\"Customer key\",num,\"is\",data_key,\" and \",\"Customer values\",num,\"is\",data_values )\n",
    "    num=num+1\n",
    "    "
   ]
  },
  {
   "cell_type": "code",
   "execution_count": 10,
   "id": "fa4edd88",
   "metadata": {},
   "outputs": [
    {
     "name": "stdout",
     "output_type": "stream",
     "text": [
      "Enter the number you want table of that 2\n",
      "Enter the starting  number for table1\n",
      "Enter the ending number for table100\n",
      "2 x 1 = 2\n",
      "2 x 2 = 4\n",
      "2 x 3 = 6\n",
      "2 x 4 = 8\n",
      "2 x 5 = 10\n",
      "2 x 6 = 12\n",
      "2 x 7 = 14\n",
      "2 x 8 = 16\n",
      "2 x 9 = 18\n",
      "2 x 10 = 20\n",
      "2 x 11 = 22\n",
      "2 x 12 = 24\n",
      "2 x 13 = 26\n",
      "2 x 14 = 28\n",
      "2 x 15 = 30\n",
      "2 x 16 = 32\n",
      "2 x 17 = 34\n",
      "2 x 18 = 36\n",
      "2 x 19 = 38\n",
      "2 x 20 = 40\n",
      "2 x 21 = 42\n",
      "2 x 22 = 44\n",
      "2 x 23 = 46\n",
      "2 x 24 = 48\n",
      "2 x 25 = 50\n",
      "2 x 26 = 52\n",
      "2 x 27 = 54\n",
      "2 x 28 = 56\n",
      "2 x 29 = 58\n",
      "2 x 30 = 60\n",
      "2 x 31 = 62\n",
      "2 x 32 = 64\n",
      "2 x 33 = 66\n",
      "2 x 34 = 68\n",
      "2 x 35 = 70\n",
      "2 x 36 = 72\n",
      "2 x 37 = 74\n",
      "2 x 38 = 76\n",
      "2 x 39 = 78\n",
      "2 x 40 = 80\n",
      "2 x 41 = 82\n",
      "2 x 42 = 84\n",
      "2 x 43 = 86\n",
      "2 x 44 = 88\n",
      "2 x 45 = 90\n",
      "2 x 46 = 92\n",
      "2 x 47 = 94\n",
      "2 x 48 = 96\n",
      "2 x 49 = 98\n",
      "2 x 50 = 100\n",
      "2 x 51 = 102\n",
      "2 x 52 = 104\n",
      "2 x 53 = 106\n",
      "2 x 54 = 108\n",
      "2 x 55 = 110\n",
      "2 x 56 = 112\n",
      "2 x 57 = 114\n",
      "2 x 58 = 116\n",
      "2 x 59 = 118\n",
      "2 x 60 = 120\n",
      "2 x 61 = 122\n",
      "2 x 62 = 124\n",
      "2 x 63 = 126\n",
      "2 x 64 = 128\n",
      "2 x 65 = 130\n",
      "2 x 66 = 132\n",
      "2 x 67 = 134\n",
      "2 x 68 = 136\n",
      "2 x 69 = 138\n",
      "2 x 70 = 140\n",
      "2 x 71 = 142\n",
      "2 x 72 = 144\n",
      "2 x 73 = 146\n",
      "2 x 74 = 148\n",
      "2 x 75 = 150\n",
      "2 x 76 = 152\n",
      "2 x 77 = 154\n",
      "2 x 78 = 156\n",
      "2 x 79 = 158\n",
      "2 x 80 = 160\n",
      "2 x 81 = 162\n",
      "2 x 82 = 164\n",
      "2 x 83 = 166\n",
      "2 x 84 = 168\n",
      "2 x 85 = 170\n",
      "2 x 86 = 172\n",
      "2 x 87 = 174\n",
      "2 x 88 = 176\n",
      "2 x 89 = 178\n",
      "2 x 90 = 180\n",
      "2 x 91 = 182\n",
      "2 x 92 = 184\n",
      "2 x 93 = 186\n",
      "2 x 94 = 188\n",
      "2 x 95 = 190\n",
      "2 x 96 = 192\n",
      "2 x 97 = 194\n",
      "2 x 98 = 196\n",
      "2 x 99 = 198\n",
      "2 x 100 = 200\n"
     ]
    }
   ],
   "source": [
    "# table\n",
    "num=int(input(\"Enter the number you want table of that \"))\n",
    "start_num=int(input(\"Enter the starting  number for table\"))\n",
    "end_num=int(input(\"Enter the ending number for table\"))\n",
    "\n",
    "for table in range (end_num):\n",
    "    print(num ,\"x\",start_num ,\"=\" ,num * start_num )\n",
    "    start_num=start_num+1\n",
    "    \n",
    "\n"
   ]
  },
  {
   "cell_type": "markdown",
   "id": "956f5a1c",
   "metadata": {},
   "source": [
    "# Creating a list of dictionaries"
   ]
  },
  {
   "cell_type": "code",
   "execution_count": 11,
   "id": "af0ddf67",
   "metadata": {},
   "outputs": [
    {
     "name": "stdout",
     "output_type": "stream",
     "text": [
      "[{'sno': 1, 'question': 'What is your country name'}, {'sno': 2, 'question': 'What is your city name'}, {'sno': 3, 'question': 'What is your subject name'}] \n",
      "\n",
      "{'sno': 1, 'question': 'What is your country name'} \n",
      "\n",
      "What is your subject name \n",
      "\n"
     ]
    }
   ],
   "source": [
    "questions=[\n",
    "    { \"sno\" : 1,\n",
    "      \"question\" : \"What is your country name\",\n",
    "    } ,\n",
    "    { \"sno\" : 2,\n",
    "      \"question\" : \"What is your city name\",\n",
    "    } ,\n",
    "    { \"sno\" : 3,\n",
    "      \"question\" : \"What is your subject name\",\n",
    "    } \n",
    "    \n",
    "]\n",
    "print(questions ,\"\\n\")\n",
    "print(questions[0],\"\\n\")\n",
    "print(questions[2][\"question\"],\"\\n\")\n"
   ]
  },
  {
   "cell_type": "markdown",
   "id": "4687136c",
   "metadata": {},
   "source": [
    "# Creating a  dictionaries than contain a list "
   ]
  },
  {
   "cell_type": "code",
   "execution_count": 12,
   "id": "9322ac6d",
   "metadata": {},
   "outputs": [
    {
     "name": "stdout",
     "output_type": "stream",
     "text": [
      "[{'sno': 1, 'question': 'What is your country name', 'option': ['Pakistan', 'UAE', 'USA', 'Africa'], 'answer': 'Pakistan'}, {'sno': 2, 'question': 'What is your city name', 'option': ['Pakistan', 'UAE', 'USA', 'Africa', 'Karachi'], 'answer': 'Karachi'}, {'sno': 3, 'question': 'What is your subject name', 'option': ['Pakistan', 'UAE', 'USA', 'Africa', 'Computer Science'], 'answer': 'Computer Science'}] \n",
      "\n",
      "{'sno': 1, 'question': 'What is your country name', 'option': ['Pakistan', 'UAE', 'USA', 'Africa'], 'answer': 'Pakistan'} \n",
      "\n",
      "{'sno': 2, 'question': 'What is your city name', 'option': ['Pakistan', 'UAE', 'USA', 'Africa', 'Karachi'], 'answer': 'Karachi'} \n",
      "\n",
      "{'sno': 3, 'question': 'What is your subject name', 'option': ['Pakistan', 'UAE', 'USA', 'Africa', 'Computer Science'], 'answer': 'Computer Science'} \n",
      "\n",
      "['Pakistan', 'UAE', 'USA', 'Africa', 'Computer Science'] \n",
      "\n",
      "Pakistan \n",
      "\n"
     ]
    }
   ],
   "source": [
    "questions=[\n",
    "    { \"sno\" : 1,\n",
    "      \"question\" : \"What is your country name\",\n",
    "     \"option\" : [\"Pakistan\",\"UAE\",\"USA\",\"Africa\"],\n",
    "     \"answer\" : \"Pakistan\"\n",
    "    } ,\n",
    "    { \"sno\" : 2,\n",
    "      \"question\" : \"What is your city name\",\n",
    "      \"option\" : [\"Pakistan\",\"UAE\",\"USA\",\"Africa\",\"Karachi\"],\n",
    "      \"answer\" :  \"Karachi\"\n",
    "     \n",
    "    } ,\n",
    "    { \"sno\" : 3,\n",
    "      \"question\" : \"What is your subject name\",\n",
    "     \"option\" : [\"Pakistan\",\"UAE\",\"USA\",\"Africa\",\"Computer Science\"],\n",
    "     \"answer\" : \"Computer Science\"\n",
    "    } \n",
    "    \n",
    "]\n",
    "\n",
    "print(questions ,\"\\n\")\n",
    "print(questions[0],\"\\n\")\n",
    "print(questions[1],\"\\n\")\n",
    "print(questions[2],\"\\n\")\n",
    "print(questions[2][\"option\"],\"\\n\")\n",
    "print(questions[2][\"option\"][0],\"\\n\")\n",
    " "
   ]
  },
  {
   "cell_type": "markdown",
   "id": "11a4e8a6",
   "metadata": {},
   "source": [
    "# How to append a new dictionary to a list of dictionaries"
   ]
  },
  {
   "cell_type": "code",
   "execution_count": 2,
   "id": "a4047b0f",
   "metadata": {},
   "outputs": [
    {
     "name": "stdout",
     "output_type": "stream",
     "text": [
      "[{'sno': 1, 'question': 'What is your country name'}, {'sno': 2, 'question': 'What is your city name'}, {'sno': 3, 'question': 'What is your subject name'}, {'sno': 4, 'question': 'What is your city name', 'age': 'What is your age'}] \n",
      "\n",
      "[{'sno': 1, 'question': 'What is your country name'}, {'sno': 2, 'question': 'What is your city name'}, {'sno': 3, 'question': 'What is your subject name'}, {'sno': 4, 'question': 'What is your city name', 'age': 'What is your age'}] \n",
      "\n",
      "{'sno': 1, 'question': 'What is your country name'} \n",
      "\n",
      "{'sno': 2, 'question': 'What is your city name'} \n",
      "\n",
      "{'sno': 3, 'question': 'What is your subject name'} \n",
      "\n",
      "{'sno': 4, 'question': 'What is your city name', 'age': 'What is your age'} \n",
      "\n",
      "What is your age \n",
      "\n"
     ]
    }
   ],
   "source": [
    "questions=[\n",
    "    { \"sno\" : 1,\n",
    "      \"question\" : \"What is your country name\",\n",
    "    } ,\n",
    "    { \"sno\" : 2,\n",
    "      \"question\" : \"What is your city name\",\n",
    "    } ,\n",
    "    { \"sno\" : 3,\n",
    "      \"question\" : \"What is your subject name\",\n",
    "    } \n",
    "    \n",
    "]\n",
    "\n",
    "new_question={ \"sno\" : 4,\n",
    "              \"question\" : \"What is your city name\",\n",
    "              \"age\" : \"What is your age\",\n",
    "               } \n",
    "\n",
    "questions.append(new_question)\n",
    "print(questions ,\"\\n\")\n",
    "\n",
    "\n",
    "print(questions ,\"\\n\")\n",
    "print(questions[0],\"\\n\")\n",
    "print(questions[1],\"\\n\")\n",
    "print(questions[2],\"\\n\")\n",
    "print(questions[3],\"\\n\")\n",
    "\n",
    "print(questions[3][\"age\"],\"\\n\")\n"
   ]
  },
  {
   "cell_type": "code",
   "execution_count": 14,
   "id": "9dea226a",
   "metadata": {},
   "outputs": [
    {
     "name": "stdout",
     "output_type": "stream",
     "text": [
      "[{'sno': 1, 'question': 'What is your country name', 'option': ['Pakistan', 'UAE', 'USA', 'Africa'], 'answer': 'Pakistan'}, {'sno': 2, 'question': 'What is your city name', 'option': ['Pakistan', 'UAE', 'USA', 'Africa', 'Karachi'], 'answer': 'Karachi'}, {'sno': 3, 'question': 'What is your subject name', 'option': ['Pakistan', 'UAE', 'USA', 'Africa', 'Computer Science'], 'answer': 'Computer Science'}, {'sno': 4, 'question': 'What is your age', 'option': [22, 'Pakistan', 'UAE', 'USA', 'Africa', 'Computer Science'], 'answer': 22}] \n",
      "\n",
      "{'sno': 1, 'question': 'What is your country name', 'option': ['Pakistan', 'UAE', 'USA', 'Africa'], 'answer': 'Pakistan'} \n",
      "\n",
      "{'sno': 2, 'question': 'What is your city name', 'option': ['Pakistan', 'UAE', 'USA', 'Africa', 'Karachi'], 'answer': 'Karachi'} \n",
      "\n",
      "{'sno': 3, 'question': 'What is your subject name', 'option': ['Pakistan', 'UAE', 'USA', 'Africa', 'Computer Science'], 'answer': 'Computer Science'} \n",
      "\n",
      "{'sno': 4, 'question': 'What is your age', 'option': [22, 'Pakistan', 'UAE', 'USA', 'Africa', 'Computer Science'], 'answer': 22} \n",
      "\n"
     ]
    }
   ],
   "source": [
    "questions=[\n",
    "    { \"sno\" : 1,\n",
    "      \"question\" : \"What is your country name\",\n",
    "     \"option\" : [\"Pakistan\",\"UAE\",\"USA\",\"Africa\"],\n",
    "     \"answer\" : \"Pakistan\"\n",
    "    } ,\n",
    "    { \"sno\" : 2,\n",
    "      \"question\" : \"What is your city name\",\n",
    "      \"option\" : [\"Pakistan\",\"UAE\",\"USA\",\"Africa\",\"Karachi\"],\n",
    "      \"answer\" :  \"Karachi\"\n",
    "     \n",
    "    } ,\n",
    "    { \"sno\" : 3,\n",
    "      \"question\" : \"What is your subject name\",\n",
    "     \"option\" : [\"Pakistan\",\"UAE\",\"USA\",\"Africa\",\"Computer Science\"],\n",
    "     \"answer\" : \"Computer Science\"\n",
    "    } \n",
    "    \n",
    "]\n",
    "new_question={ \"sno\" : 4,\n",
    "      \"question\" : \"What is your age\",\n",
    "     \"option\" : [22,\"Pakistan\",\"UAE\",\"USA\",\"Africa\",\"Computer Science\"],\n",
    "     \"answer\" :  22\n",
    "    } \n",
    "    \n",
    "questions.append(new_question)\n",
    "print(questions ,\"\\n\")\n",
    "print(questions[0],\"\\n\")\n",
    "print(questions[1],\"\\n\")\n",
    "print(questions[2],\"\\n\")\n",
    "print(questions[3],\"\\n\")\n",
    "\n",
    "# print(questions[2][\"option\"],\"\\n\")\n",
    "# print(questions[2][\"option\"][0],\"\\n\")\n",
    " "
   ]
  },
  {
   "cell_type": "markdown",
   "id": "51f31e05",
   "metadata": {},
   "source": [
    "# Creating a dictionary that contains a dictionary\n"
   ]
  },
  {
   "cell_type": "code",
   "execution_count": 3,
   "id": "729f510f",
   "metadata": {},
   "outputs": [
    {
     "name": "stdout",
     "output_type": "stream",
     "text": [
      "{1: {'sno': 1, 'question': 'What is your country name', 'option': ['Pakistan', 'UAE', 'USA', 'Africa'], 'answer': 'Pakistan'}, 2: {'sno': 2, 'question': 'What is your city name', 'option': ['Pakistan', 'UAE', 'USA', 'Africa', 'Karachi'], 'answer': 'Karachi'}, 3: {'sno': 3, 'question': 'What is your subject name', 'option': ['Pakistan', 'UAE', 'USA', 'Africa', 'Computer Science'], 'answer': 'Computer Science'}} \n",
      "\n",
      "{'sno': 1, 'question': 'What is your country name', 'option': ['Pakistan', 'UAE', 'USA', 'Africa'], 'answer': 'Pakistan'} \n",
      "\n",
      "['Pakistan', 'UAE', 'USA', 'Africa', 'Computer Science'] \n",
      "\n"
     ]
    }
   ],
   "source": [
    "questions={\n",
    "  1:  { \"sno\" : 1,\n",
    "      \"question\" : \"What is your country name\",\n",
    "     \"option\" : [\"Pakistan\",\"UAE\",\"USA\",\"Africa\"],\n",
    "     \"answer\" : \"Pakistan\"\n",
    "    } ,\n",
    "        \n",
    " 2:   { \"sno\" : 2,\n",
    "      \"question\" : \"What is your city name\",\n",
    "      \"option\" : [\"Pakistan\",\"UAE\",\"USA\",\"Africa\",\"Karachi\"],\n",
    "      \"answer\" :  \"Karachi\"\n",
    "     \n",
    "    } ,\n",
    "  3:  { \"sno\" : 3,\n",
    "      \"question\" : \"What is your subject name\",\n",
    "     \"option\" : [\"Pakistan\",\"UAE\",\"USA\",\"Africa\",\"Computer Science\"],\n",
    "     \"answer\" : \"Computer Science\"\n",
    "    } \n",
    " }   \n",
    "print(questions ,\"\\n\")\n",
    "print(questions[1] ,\"\\n\")\n",
    "print(questions[3][\"option\"] ,\"\\n\")\n",
    " \n",
    " \n"
   ]
  },
  {
   "cell_type": "code",
   "execution_count": 16,
   "id": "08077639",
   "metadata": {},
   "outputs": [
    {
     "name": "stdout",
     "output_type": "stream",
     "text": [
      "{1: {'sno': 1, 'question': 'What is your country name', 'option': ['Pakistan', 'UAE', 'USA', 'Africa'], 'answer': 'Pakistan'}, 2: {'sno': 2, 'question': 'What is your city name', 'option': ['Pakistan', 'UAE', 'USA', 'Africa', 'Karachi'], 'answer': 'Karachi'}, 3: {'sno': 3, 'question': 'What is your subject name', 'option': ['Pakistan', 'UAE', 'USA', 'Africa', 'Computer Science'], 'answer': 'Computer Science'}, 4: {'sno': 4, 'question': 'What is your age', 'option': [22, 'Pakistan', 'UAE', 'USA', 'Africa', 'Computer Science'], 'answer': 22}, 'new_question': {'sno': 5, 'question': 'What is your age', 'option': [22, 'Pakistan', 'UAE', 'USA', 'Africa', 'Computer Science'], 'answer': 22}} \n",
      "\n",
      "{'sno': 1, 'question': 'What is your country name', 'option': ['Pakistan', 'UAE', 'USA', 'Africa'], 'answer': 'Pakistan'} \n",
      "\n",
      "{'sno': 2, 'question': 'What is your city name', 'option': ['Pakistan', 'UAE', 'USA', 'Africa', 'Karachi'], 'answer': 'Karachi'} \n",
      "\n",
      "{'sno': 3, 'question': 'What is your subject name', 'option': ['Pakistan', 'UAE', 'USA', 'Africa', 'Computer Science'], 'answer': 'Computer Science'} \n",
      "\n",
      "{'sno': 4, 'question': 'What is your age', 'option': [22, 'Pakistan', 'UAE', 'USA', 'Africa', 'Computer Science'], 'answer': 22} \n",
      "\n",
      "{'sno': 5, 'question': 'What is your age', 'option': [22, 'Pakistan', 'UAE', 'USA', 'Africa', 'Computer Science'], 'answer': 22} \n",
      "\n"
     ]
    }
   ],
   "source": [
    "\n",
    "questions={\n",
    "  1:  { \"sno\" : 1,\n",
    "      \"question\" : \"What is your country name\",\n",
    "     \"option\" : [\"Pakistan\",\"UAE\",\"USA\",\"Africa\"],\n",
    "     \"answer\" : \"Pakistan\"\n",
    "    } ,\n",
    "        \n",
    " 2:   { \"sno\" : 2,\n",
    "      \"question\" : \"What is your city name\",\n",
    "      \"option\" : [\"Pakistan\",\"UAE\",\"USA\",\"Africa\",\"Karachi\"],\n",
    "      \"answer\" :  \"Karachi\"\n",
    "     \n",
    "    } ,\n",
    "  3:  { \"sno\" : 3,\n",
    "      \"question\" : \"What is your subject name\",\n",
    "     \"option\" : [\"Pakistan\",\"UAE\",\"USA\",\"Africa\",\"Computer Science\"],\n",
    "     \"answer\" : \"Computer Science\"\n",
    "    } \n",
    " }   \n",
    "\n",
    "##Adding dictionary in dictionary\n",
    "questions[4]= { \"sno\" : 4,\n",
    "      \"question\" : \"What is your age\",\n",
    "     \"option\" : [22,\"Pakistan\",\"UAE\",\"USA\",\"Africa\",\"Computer Science\"],\n",
    "     \"answer\" :  22\n",
    "    } \n",
    "questions[\"new_question\"]= { \"sno\" : 5,\n",
    "      \"question\" : \"What is your age\",\n",
    "     \"option\" : [22,\"Pakistan\",\"UAE\",\"USA\",\"Africa\",\"Computer Science\"],\n",
    "     \"answer\" :  22\n",
    "    } \n",
    " \n",
    "print(questions ,\"\\n\")\n",
    "\n",
    "print(questions[1] ,\"\\n\")\n",
    "print(questions[2] ,\"\\n\")\n",
    "print(questions[3] ,\"\\n\")\n",
    "print(questions[4] ,\"\\n\")\n",
    "print(questions[\"new_question\"] ,\"\\n\")\n",
    "# print(questions[3][\"option\"][0] ,\"\\n\")    "
   ]
  },
  {
   "cell_type": "code",
   "execution_count": 19,
   "id": "6bd02d2a",
   "metadata": {},
   "outputs": [
    {
     "name": "stdout",
     "output_type": "stream",
     "text": [
      "\n",
      "1:What is your country name ?\n",
      "a) Pakistan\n",
      "b) UAE\n",
      "c) USA\n",
      "d) Africa\n",
      "e) Computer Science\n",
      "\n",
      "Your Answer is : Pakistan\n",
      "\n",
      "2:What is the capital city of Pakistan ?\n",
      "a) Islamabad\n",
      "b) Karachi\n",
      "c) Lahore\n",
      "d) Quetta\n",
      "e) Peshawar\n",
      "\n",
      "Your Answer is : Islamabad\n",
      "\n",
      "3:What is your city name  ?\n",
      "a) Islamabad\n",
      "b) Karachi\n",
      "c) Lahore\n",
      "d) Quetta\n",
      "e) Peshawar\n",
      "\n",
      "Your Answer is : Karachi\n",
      "\n",
      " your score is :  3 \n",
      "\n",
      "your percentage is :100.0\n"
     ]
    }
   ],
   "source": [
    "# quiz app using dictionary\n",
    "questions =[\n",
    "    { \"s.no\" : 1,\n",
    "      \"question\" : \"What is your country name ?\",\n",
    "     \"option\" : [\"Pakistan\",\"UAE\",\"USA\",\"Africa\",\"Computer Science\"],\n",
    "     \"answer\" :  \"Pakistan\"\n",
    "    } ,\n",
    "    { \"s.no\" : 2,\n",
    "      \"question\" : \"What is the capital city of Pakistan ?\",\n",
    "     \"option\" : [\"Islamabad\",\"Karachi\",\"Lahore\",\"Quetta\",\"Peshawar\"],\n",
    "     \"answer\" :  \"Islamabad\"\n",
    "    } ,\n",
    "    { \"s.no\" : 3,\n",
    "      \"question\" : \"What is your city name  ?\",\n",
    "     \"option\" : [\"Islamabad\",\"Karachi\",\"Lahore\",\"Quetta\",\"Peshawar\"],\n",
    "     \"answer\" :  \"Karachi\"\n",
    "    } ,\n",
    "    \n",
    "]\n",
    "score = 0\n",
    "for question in questions :\n",
    "    data =  \"\\n\" + str(question[\"s.no\"]) + \":\"  + question[\"question\"] + \"\\n\" + \"a) \" +question[\"option\"][0] + \"\\n\" + \"b) \" + question[\"option\"][1] + \"\\n\" + \"c) \" + question[\"option\"][2] + \"\\n\" + \"d) \"+ question[\"option\"][3] + \"\\n\" + \"e) \"+ question[\"option\"][4] + \"\\n\"  \n",
    "    answer = input(data +\"\\n\" +\"Your Answer is : \" )\n",
    "    \n",
    "    if answer == question[\"answer\"] :\n",
    "        score += 1\n",
    "print(\"\\n\",\"your score is : \" ,score ,\"\\n\"  )\n",
    "\n",
    "percentage = (score*100)/3\n",
    "print(\"your percentage is :\" +str(percentage))     "
   ]
  },
  {
   "cell_type": "code",
   "execution_count": null,
   "id": "50aef5cd",
   "metadata": {},
   "outputs": [],
   "source": [
    "# codesignal ,codicity ,python sample assement\n",
    "        "
   ]
  },
  {
   "cell_type": "code",
   "execution_count": 28,
   "id": "dab79f65",
   "metadata": {},
   "outputs": [
    {
     "name": "stdout",
     "output_type": "stream",
     "text": [
      "Enter the number3\n",
      "Enter the number3\n",
      "Enter the number3\n",
      "Enter the number3\n",
      "Enter the number3\n",
      "[3, 3, 3, 3, 3]\n",
      "\n",
      "Sum of numbers is : 15\n"
     ]
    }
   ],
   "source": [
    "\n",
    "list1=[]\n",
    " \n",
    "i=0\n",
    "endnum=int(input(\"Enter the range\")) \n",
    "\n",
    "for i in range (endnum):\n",
    "    numbers=int(input(\"Enter the number\"))\n",
    "    list1.append(numbers)\n",
    "    i=i+1\n",
    "print(list1) \n",
    "\n",
    "print(\"\\nSum of numbers is :\",str(sum(list1)))\n",
    "\n",
    "    \n",
    "    \n",
    " \n",
    "\n",
    "    \n",
    "    \n",
    "    \n",
    "    \n",
    "    \n",
    "    \n",
    "    \n",
    "    \n",
    "    \n",
    "    \n",
    "    \n",
    "    \n",
    "    "
   ]
  },
  {
   "cell_type": "code",
   "execution_count": null,
   "id": "8c8593d3",
   "metadata": {},
   "outputs": [],
   "source": [
    " student1={\n",
    "\n",
    "\"Name\" :\"Muhammad Mudassir Raza \",\n",
    "\"Rollno\": 17122094,\n",
    "\"Bachelor\":\"Computer Science\",\n",
    "\"Attendence\":\"present\",\n",
    "\"Marks\":\"50%\"\n",
    "\n",
    "\n",
    "}\n",
    "print(student1[\"Marks\"])\n",
    "student1[\"MARKS_ADD\"]=[40,20,20,20]\n",
    "print(student1[\"MARKS_ADD\"])"
   ]
  },
  {
   "cell_type": "code",
   "execution_count": 15,
   "id": "ba02254e",
   "metadata": {},
   "outputs": [
    {
     "name": "stdout",
     "output_type": "stream",
     "text": [
      "Enter the quizess :mid\n",
      "50\n"
     ]
    }
   ],
   "source": [
    "# 40 45 50 55\n",
    "\n",
    "student1={\n",
    "    \"quiz1\":40,\n",
    "    \"quiz2\":45,\n",
    "    \"mid\":50,\n",
    "    \"final\":55\n",
    "}\n",
    "val1=input(\"Enter the quizess :\")\n",
    "\n",
    "\n",
    "print(student1[val1])"
   ]
  },
  {
   "cell_type": "code",
   "execution_count": 33,
   "id": "d5311b2a",
   "metadata": {},
   "outputs": [
    {
     "name": "stdout",
     "output_type": "stream",
     "text": [
      "{'Name': 'Muhammad Mudassir Raza ', 'Rollno': 17122094, 'Bachelor': 'Computer Science', 'Attendence': 'present', 'Marks': {'quiz1': 40, 'quiz2': 45, 'mid': 50, 'final': 55}}\n"
     ]
    }
   ],
   "source": [
    "student_11={\n",
    "\n",
    "\"Name\" :\"Muhammad Mudassir Raza \",\n",
    "\"Rollno\": 17122094,\n",
    "\"Bachelor\":\"Computer Science\",\n",
    "\"Attendence\":\"present\",\n",
    " \n",
    "\n",
    "\n",
    "}\n",
    " \n",
    "student_11[\"Marks\"]= {\n",
    "    \"quiz1\":40,\n",
    "    \"quiz2\":45,\n",
    "    \"mid\":50,\n",
    "    \"final\":55\n",
    "}\n",
    "print(student_11)"
   ]
  },
  {
   "cell_type": "code",
   "execution_count": null,
   "id": "3db0f918",
   "metadata": {},
   "outputs": [],
   "source": [
    "exam=input(\"Enter the exam\")\n",
    "print(student_11[\"Marks\"][exam])"
   ]
  },
  {
   "cell_type": "code",
   "execution_count": null,
   "id": "86e683de",
   "metadata": {},
   "outputs": [],
   "source": [
    "# another way "
   ]
  },
  {
   "cell_type": "code",
   "execution_count": 31,
   "id": "76df85b8",
   "metadata": {},
   "outputs": [
    {
     "name": "stdout",
     "output_type": "stream",
     "text": [
      "Enter the exammid\n",
      "50\n"
     ]
    }
   ],
   "source": [
    "student_11={\n",
    "\n",
    "\"Name\" :\"Muhammad Mudassir Raza \",\n",
    "\"Rollno\": 17122094,\n",
    "\"Bachelor\":\"Computer Science\",\n",
    "\"Attendence\":\"present\",\n",
    "\"Marks\":{\"quiz1\":40,\"quiz2\":45,\"mid\":50,\"final\":55}\n",
    "    \n",
    "    \n",
    " \n",
    "\n",
    "\n",
    "}\n",
    "exam=input(\"Enter the exam\")\n",
    "print(student_11[\"Marks\"][exam])\n"
   ]
  },
  {
   "cell_type": "code",
   "execution_count": 35,
   "id": "cbc938c4",
   "metadata": {},
   "outputs": [
    {
     "name": "stdout",
     "output_type": "stream",
     "text": [
      "[{'name': 'arif', 'class_AI': {'name': 'AI', 'marks': {'quiz1': 40, 'quiz2': 45, 'mid': 50, 'final': 55}}, 'class_CNC': {'name': 'CNC', 'marks': {'quiz1': 40, 'quiz2': 45, 'mid': 50, 'final': 55}}}]\n"
     ]
    }
   ],
   "source": [
    "#10 students\n",
    "# 2 classes\n",
    "# 4 exam\n",
    "# 3 attempts allow\n",
    "# take student name and exam_name as input and show in which class the student get maximum\n",
    "\n",
    "students=[]\n",
    "class_1={\n",
    "    \"name\":\"AI\",\n",
    "    \"marks\":{\n",
    "        \"quiz1\":40,\n",
    "        \"quiz2\":45,\n",
    "        \"mid\":50,\n",
    "        \"final\":55\n",
    "         \n",
    "    }\n",
    "    \n",
    "    \n",
    "}\n",
    "\n",
    "class_2={\n",
    "    \"name\":\"CNC\",\n",
    "    \"marks\":{\n",
    "        \"quiz1\":40,\n",
    "        \"quiz2\":45,\n",
    "        \"mid\":50,\n",
    "        \"final\":55\n",
    "         \n",
    "    }\n",
    "    \n",
    "    \n",
    "}\n",
    "student_1001 ={\n",
    "    \"name\":\"arif\",\n",
    "    \"class_AI\":class_1,\n",
    "    \"class_CNC\":class_2,\n",
    "    \n",
    "}\n",
    "students.append(student_1001)\n",
    "print(students)"
   ]
  },
  {
   "cell_type": "code",
   "execution_count": 38,
   "id": "0acad27e",
   "metadata": {},
   "outputs": [
    {
     "name": "stdout",
     "output_type": "stream",
     "text": [
      "0.6\n"
     ]
    }
   ],
   "source": [
    "# brother-in-law – 30%\n",
    "# loyalty – 15%\n",
    "# volume – 10%\n",
    "# standard – 5%\n",
    "\n",
    "customer_29876 = {\n",
    " \"first name\": \"David\",\n",
    " \"last name\": \"Elliott\",\n",
    " \"address\": \"4803 Wellesley St.\",\n",
    " \"discounts\": [\"brother-in-law\",\"standard\", \"volume\", \"loyalty\"],\n",
    " }\n",
    "discount_amount=0\n",
    "if \"brother-in-law\" in customer_29876[\"discounts\"]:\n",
    "    discount_amount += .30\n",
    "if \"loyalty\" in customer_29876[\"discounts\"]:\n",
    "    discount_amount += .15\n",
    "    \n",
    "if \"volume\" in customer_29876[\"discounts\"]:\n",
    "    discount_amount += .10\n",
    "if \"standard\" in customer_29876[\"discounts\"]:\n",
    "    discount_amount += .05\n",
    "    \n",
    "    \n",
    "print(discount_amount) "
   ]
  },
  {
   "cell_type": "code",
   "execution_count": 39,
   "id": "275130bb",
   "metadata": {},
   "outputs": [
    {
     "ename": "SyntaxError",
     "evalue": "invalid syntax (1361966415.py, line 7)",
     "output_type": "error",
     "traceback": [
      "\u001b[1;36m  Input \u001b[1;32mIn [39]\u001b[1;36m\u001b[0m\n\u001b[1;33m    if \"brother-in-law\" in\u001b[0m\n\u001b[1;37m                          ^\u001b[0m\n\u001b[1;31mSyntaxError\u001b[0m\u001b[1;31m:\u001b[0m invalid syntax\n"
     ]
    }
   ],
   "source": [
    " "
   ]
  },
  {
   "cell_type": "code",
   "execution_count": null,
   "id": "e16ba0f4",
   "metadata": {},
   "outputs": [],
   "source": [
    "# chap 40 resut"
   ]
  },
  {
   "cell_type": "code",
   "execution_count": 1,
   "id": "3acf70ef",
   "metadata": {},
   "outputs": [
    {
     "ename": "TypeError",
     "evalue": "must be str, not int",
     "output_type": "error",
     "traceback": [
      "\u001b[1;31m---------------------------------------------------------------------------\u001b[0m",
      "\u001b[1;31mTypeError\u001b[0m                                 Traceback (most recent call last)",
      "Input \u001b[1;32mIn [1]\u001b[0m, in \u001b[0;36m<cell line: 2>\u001b[1;34m()\u001b[0m\n\u001b[0;32m      1\u001b[0m a\u001b[38;5;241m=\u001b[39m\u001b[38;5;124m\"\u001b[39m\u001b[38;5;124manimals\u001b[39m\u001b[38;5;124m\"\u001b[39m\n\u001b[1;32m----> 2\u001b[0m b\u001b[38;5;241m=\u001b[39m\u001b[43ma\u001b[49m\u001b[38;5;241;43m.\u001b[39;49m\u001b[43mindex\u001b[49m\u001b[43m(\u001b[49m\u001b[38;5;241;43m3\u001b[39;49m\u001b[43m)\u001b[49m\n",
      "\u001b[1;31mTypeError\u001b[0m: must be str, not int"
     ]
    }
   ],
   "source": [
    "a=\"animals\"\n",
    "b=a.index(3)"
   ]
  },
  {
   "cell_type": "code",
   "execution_count": null,
   "id": "b94fe0b2",
   "metadata": {},
   "outputs": [],
   "source": []
  }
 ],
 "metadata": {
  "kernelspec": {
   "display_name": "Python 3 (ipykernel)",
   "language": "python",
   "name": "python3"
  },
  "language_info": {
   "codemirror_mode": {
    "name": "ipython",
    "version": 3
   },
   "file_extension": ".py",
   "mimetype": "text/x-python",
   "name": "python",
   "nbconvert_exporter": "python",
   "pygments_lexer": "ipython3",
   "version": "3.9.12"
  }
 },
 "nbformat": 4,
 "nbformat_minor": 5
}
