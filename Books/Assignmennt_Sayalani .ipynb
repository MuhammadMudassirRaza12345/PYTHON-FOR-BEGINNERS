{
 "cells": [
  {
   "cell_type": "code",
   "execution_count": null,
   "id": "b43e22ac",
   "metadata": {},
   "outputs": [],
   "source": [
    "# Task1:\n",
    "# Question:\n",
    "# You need to write a ocde in python that finds all such numbers which are divisible by 7 but are not a multiple of 5,\n",
    "# between 2000 and 3200 (both included).\n",
    "# Print the obtained numbers in a comma-separated sequence on a single line.\n",
    "\n",
    "\n",
    "\n",
    "\n",
    "\n"
   ]
  },
  {
   "cell_type": "code",
   "execution_count": null,
   "id": "10afe8a9",
   "metadata": {},
   "outputs": [],
   "source": [
    "# Task2:\n",
    "# You need code a program that calculates and prints the value according to the given formula:\n",
    "# P = Square root of [(2 * A * B)/C]\n",
    "# Following are the fixed values of A and B:\n",
    "# A is 50. B is 30.\n",
    "# The values of the literal C should be taken as console input to your program in a comma-separated sequence.\n",
    "# Example\n",
    "# Let us assume the following comma separated input sequence is given to the program:\n",
    "# 100,150,180\n",
    "# The output of the program should be:\n",
    "# 18,22,24"
   ]
  },
  {
   "cell_type": "code",
   "execution_count": null,
   "id": "2a77d5ca",
   "metadata": {},
   "outputs": [],
   "source": [
    "# Task3:\n",
    "# You need to write a code that takesa comma separated sequence of words as input and prints the words in a comma-separated sequence after sorting them alphabetically.\n",
    "# Suppose the following input is supplied to the program:\n",
    "# without,hello,bag,world\n",
    "# Then, the output should be:\n",
    "# bag,hello,without,world"
   ]
  },
  {
   "cell_type": "code",
   "execution_count": null,
   "id": "8bba2eaf",
   "metadata": {},
   "outputs": [],
   "source": [
    "# Task4:\n",
    "# You need to write a program that takes sequence of lines as input and prints the lines after making all characters in the sentence capitalized.\n",
    "# Suppose the following input is supplied to the program:\n",
    "# Hello world\n",
    "# Practice makes perfect\n",
    "# Then, the output should be:\n",
    "# HELLO WORLD\n",
    "# PRACTICE MAKES PERFECT"
   ]
  },
  {
   "cell_type": "code",
   "execution_count": null,
   "id": "676ab1b3",
   "metadata": {},
   "outputs": [],
   "source": [
    "# Task5: \n",
    "# You need to write a program that counts the number of vowels in a given sentence as input from console. \n",
    "# Suppose the following input is supplied to the program:\n",
    "# Hello world\n",
    "# Practice makes perfect\n",
    "# Then, the output should be:\n",
    "# a appeared 2 times\n",
    "# e appeared 5 times\n",
    "# i appeared  1 time\n",
    "# o appeared 2 times\n",
    "# u appeared 0 time\n",
    "# PRACTICE MAKES PERFECT"
   ]
  },
  {
   "cell_type": "code",
   "execution_count": null,
   "id": "1947bb77",
   "metadata": {},
   "outputs": [],
   "source": [
    "# Task6: \n",
    "# You need to trace and make a list of all such numbers from1000 to 3000 in which all the digits are even numbers."
   ]
  },
  {
   "cell_type": "code",
   "execution_count": null,
   "id": "3a444f46",
   "metadata": {},
   "outputs": [],
   "source": [
    "# Task7:\n",
    "# You need to write a code which accepts a sequence of comma separated 4 digit binary numbers as its input and then check whether they are divisible by 5 or not. The numbers that are divisible by 5 are to be printed in a comma separated sequence.\n",
    "# Example:\n",
    "# 0100,0011,1010,1001\n",
    "# Then the output should be:\n",
    "# 1010\n",
    "# Reference: https://www.datacamp.com/.../python-data-type-conversion\n",
    "# https://stackoverflow.com/.../converting-binary-to...\n",
    "# Converting binary to decimal integer output\n",
    "# STACKOVERFLOW.COM\n",
    "# Converting binary to decimal integer output\n",
    "# I need to convert a binary input into a decimal integer. I know how to go from a decimal to a binary: n = int(raw_input('enter a number: ')) print '{0:b}'.format(n) I need to go in the reverse\n"
   ]
  },
  {
   "cell_type": "code",
   "execution_count": null,
   "id": "a33ec24a",
   "metadata": {},
   "outputs": [],
   "source": [
    "# Task8:\n",
    "# Write a program that accepts a sentence and calculate the number of letters and digits.\n",
    "# Suppose the following input is supplied to the program:\n",
    "# hello world! 123\n",
    "# Then, the output should be:\n",
    "# LETTERS 10\n",
    "# DIGITS 3"
   ]
  },
  {
   "cell_type": "code",
   "execution_count": null,
   "id": "57452fd5",
   "metadata": {},
   "outputs": [],
   "source": [
    "# Task9:\n",
    "# With a given integral number n, write a program to generate a dictionary that contains (i, i*i) such that is an integral number between 1 and n (both included). and then the program should print the dictionary.\n",
    "# Suppose the following input is supplied to the program:\n",
    "# 8\n",
    "# Then, the output should be:\n",
    "# {1: 1, 2: 4, 3: 9, 4: 16, 5: 25, 6: 36, 7: 49, 8: 64}"
   ]
  },
  {
   "cell_type": "code",
   "execution_count": null,
   "id": "1acd4103",
   "metadata": {},
   "outputs": [],
   "source": []
  },
  {
   "cell_type": "code",
   "execution_count": null,
   "id": "789a03f8",
   "metadata": {},
   "outputs": [],
   "source": []
  },
  {
   "cell_type": "code",
   "execution_count": null,
   "id": "e6518213",
   "metadata": {},
   "outputs": [],
   "source": []
  },
  {
   "cell_type": "code",
   "execution_count": null,
   "id": "4483f58a",
   "metadata": {},
   "outputs": [],
   "source": []
  },
  {
   "cell_type": "code",
   "execution_count": null,
   "id": "e75eb26b",
   "metadata": {},
   "outputs": [],
   "source": []
  },
  {
   "cell_type": "code",
   "execution_count": null,
   "id": "cc0ac374",
   "metadata": {},
   "outputs": [],
   "source": []
  },
  {
   "cell_type": "code",
   "execution_count": null,
   "id": "61f9762e",
   "metadata": {},
   "outputs": [],
   "source": []
  }
 ],
 "metadata": {
  "kernelspec": {
   "display_name": "Python 3 (ipykernel)",
   "language": "python",
   "name": "python3"
  },
  "language_info": {
   "codemirror_mode": {
    "name": "ipython",
    "version": 3
   },
   "file_extension": ".py",
   "mimetype": "text/x-python",
   "name": "python",
   "nbconvert_exporter": "python",
   "pygments_lexer": "ipython3",
   "version": "3.9.12"
  }
 },
 "nbformat": 4,
 "nbformat_minor": 5
}
