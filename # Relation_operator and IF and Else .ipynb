{
 "cells": [
  {
   "cell_type": "markdown",
   "id": "be87bc2c",
   "metadata": {},
   "source": [
    "# Relation_operator and IF and Else "
   ]
  },
  {
   "cell_type": "markdown",
   "id": "ed500b44",
   "metadata": {},
   "source": [
    "# relational operator\n",
    "#OR LOGICAL OPERATOS (and ,or ,not)\n",
    "\n",
    "#OR \"TRUE OR FASLE \"\n",
    "\n",
    "#OR \"0 OR 1\"\n",
    "\n",
    "#OR \" YES OR NO\""
   ]
  },
  {
   "cell_type": "code",
   "execution_count": 1,
   "id": "2abd9947",
   "metadata": {},
   "outputs": [],
   "source": [
    "\n",
    "# >\n",
    "# <\n",
    "# >=\n",
    "# <=\n",
    "# !=\n",
    "# =="
   ]
  },
  {
   "cell_type": "code",
   "execution_count": 2,
   "id": "922da7cf",
   "metadata": {},
   "outputs": [
    {
     "name": "stdout",
     "output_type": "stream",
     "text": [
      "True\n",
      "False\n",
      "True\n",
      "True\n",
      "True\n"
     ]
    }
   ],
   "source": [
    "print(4==4)\n",
    "print(4!=4)\n",
    "print(4> 3)\n",
    "print(4 < 5)\n",
    "print(5 >= 4)"
   ]
  },
  {
   "cell_type": "code",
   "execution_count": 3,
   "id": "18e8d96b",
   "metadata": {},
   "outputs": [
    {
     "name": "stdout",
     "output_type": "stream",
     "text": [
      "Enter your age 5\n",
      "True\n"
     ]
    }
   ],
   "source": [
    "For_school_Admission_Age = 5\n",
    "Student_Age_Come_For_Admission=int(input(\"Enter your age \"))\n",
    "print(Student_Age_Come_For_Admission == For_school_Admission_Age)"
   ]
  },
  {
   "cell_type": "markdown",
   "id": "603ef887",
   "metadata": {},
   "source": [
    "# IF AND ELSE "
   ]
  },
  {
   "cell_type": "code",
   "execution_count": 4,
   "id": "86a10afb",
   "metadata": {},
   "outputs": [
    {
     "name": "stdout",
     "output_type": "stream",
     "text": [
      "Enter your age18\n",
      "You Are Eligible For CNIC\n"
     ]
    }
   ],
   "source": [
    "Age =int(input(\"Enter your age\"))\n",
    "\n",
    "if Age >= 18 :\n",
    "    print(\"You Are Eligible For CNIC\")\n",
    "else:\n",
    "    print(\"Yor Are Not Eligible For CNIC \")\n",
    " "
   ]
  },
  {
   "cell_type": "code",
   "execution_count": 5,
   "id": "921a5be6",
   "metadata": {},
   "outputs": [
    {
     "name": "stdout",
     "output_type": "stream",
     "text": [
      "Enter your age 21\n",
      " You are eligible for University\n"
     ]
    }
   ],
   "source": [
    "Student_Age_Come_For_school_Admission_Age = 5\n",
    "\n",
    "Student_Age_Come_For_Colledge_Admission_Age = 16\n",
    "\n",
    "Student_Age_Come_For_University_Admission_Age = 18\n",
    "\n",
    "Student_Age_Come_For_Admission=int(input(\"Enter your age \"))\n",
    "\n",
    "if Student_Age_Come_For_Admission >= Student_Age_Come_For_school_Admission_Age and  Student_Age_Come_For_Admission <= Student_Age_Come_For_Colledge_Admission_Age:\n",
    "    print(\" You are eligible for school\")\n",
    "elif Student_Age_Come_For_Admission >= Student_Age_Come_For_Colledge_Admission_Age and  Student_Age_Come_For_Admission <= Student_Age_Come_For_University_Admission_Age: \n",
    "    print(\" You are eligible for Colledge\")  \n",
    "elif Student_Age_Come_For_Admission >= Student_Age_Come_For_University_Admission_Age :\n",
    "    print(\" You are eligible for University\")        \n",
    "    \n",
    "else :\n",
    "    print(\" You are not  eligible for Admission\")\n",
    "    \n"
   ]
  },
  {
   "cell_type": "code",
   "execution_count": 6,
   "id": "402c7951",
   "metadata": {},
   "outputs": [
    {
     "name": "stdout",
     "output_type": "stream",
     "text": [
      "Enter your percentage 90\n",
      " you got A-one Grade\n"
     ]
    }
   ],
   "source": [
    "per  =int(input(\"Enter your percentage \"))\n",
    "if per >= 80 :\n",
    "    print(\" you got A-one Grade\")\n",
    "elif  per >=70 and per < 80  :    \n",
    "     print(\" you got A Grade\")\n",
    "elif  per >=50 and per < 69  :    \n",
    "     print(\" you got B Grade\")     \n",
    "elif  per >=42 and per < 49  :    \n",
    "     print(\" you got C Grade\")  \n",
    "else :\n",
    "    print(\" invalid percentage\")\n",
    "        \n",
    "        "
   ]
  },
  {
   "cell_type": "code",
   "execution_count": 7,
   "id": "33ddf5ff",
   "metadata": {},
   "outputs": [
    {
     "name": "stdout",
     "output_type": "stream",
     "text": [
      "Enter your percentage 90\n",
      " E for Pre-Eng , M for Pre-MedE\n",
      " you can go to NED\n"
     ]
    }
   ],
   "source": [
    "per =int(input(\"Enter your percentage \"))\n",
    "subject = input(\" E for Pre-Eng , M for Pre-Med\")\n",
    "if per >= 80 and subject == 'E' :\n",
    "    print(\" you can go to NED\")\n",
    "elif  per >=70 and subject == 'E' :    \n",
    "     print(\" you can go to KU / UIT / SSUET /DAWOOD UNIVERSITY\")\n",
    "elif per >= 80 and subject == 'M' :\n",
    "    print(\" you can go to Dow\")\n",
    "elif  per >=70 and subject == 'M' :    \n",
    "     print(\" Eligible for SMC\")   \n",
    "else : \n",
    "    print(\" You can join Private Uni\")\n",
    "        \n",
    "        "
   ]
  },
  {
   "cell_type": "code",
   "execution_count": 8,
   "id": "2321e0e5",
   "metadata": {},
   "outputs": [
    {
     "name": "stdout",
     "output_type": "stream",
     "text": [
      "Are you Pakistaniy\n",
      " enter your age18\n",
      "you can cast the vote\n"
     ]
    }
   ],
   "source": [
    "nationality = input (\"Are you Pakistani\")\n",
    "age =int(input(\" enter your age\"))\n",
    "if nationality == \"y\" and age >=18 :\n",
    "    print(\"you can cast the vote\")\n",
    "\n",
    "else:\n",
    "    print(\"You are not elegible for vote\")"
   ]
  },
  {
   "cell_type": "code",
   "execution_count": 9,
   "id": "ef3c21a3",
   "metadata": {},
   "outputs": [
    {
     "name": "stdout",
     "output_type": "stream",
     "text": [
      "Enter the maths marks90\n",
      "Enter the PST marks90\n",
      "Enter the Isl marks89\n",
      "Enter the Eng marks87\n",
      "Enter the Urdu marks98\n",
      "Your Total Marks is : 454 \n",
      "\n",
      "Your percentage  is : 90.8 %\n"
     ]
    }
   ],
   "source": [
    "a=int(input(\"Enter the maths marks :\"))\n",
    "b=int(input(\"Enter the PST marks :\"))\n",
    "c=int(input(\"Enter the Isl marks :\"))\n",
    "d=int(input(\"Enter the Eng marks :\"))\n",
    "e=int(input(\"Enter the Urdu marks :\"))\n",
    "sum=a+b+c+d+e\n",
    "print(\"Your Total Marks is :\",sum,\"\\n\")\n",
    "percentage=float(sum*100/500)\n",
    "print(\"Your percentage  is :\",percentage ,\"%\")"
   ]
  },
  {
   "cell_type": "code",
   "execution_count": 10,
   "id": "dffd42b2",
   "metadata": {},
   "outputs": [
    {
     "name": "stdout",
     "output_type": "stream",
     "text": [
      "False\n"
     ]
    }
   ],
   "source": [
    "print(2 != (1 * 2))"
   ]
  },
  {
   "cell_type": "code",
   "execution_count": null,
   "id": "d1ea187b",
   "metadata": {},
   "outputs": [],
   "source": []
  }
 ],
 "metadata": {
  "kernelspec": {
   "display_name": "Python 3 (ipykernel)",
   "language": "python",
   "name": "python3"
  },
  "language_info": {
   "codemirror_mode": {
    "name": "ipython",
    "version": 3
   },
   "file_extension": ".py",
   "mimetype": "text/x-python",
   "name": "python",
   "nbconvert_exporter": "python",
   "pygments_lexer": "ipython3",
   "version": "3.9.12"
  }
 },
 "nbformat": 4,
 "nbformat_minor": 5
}
