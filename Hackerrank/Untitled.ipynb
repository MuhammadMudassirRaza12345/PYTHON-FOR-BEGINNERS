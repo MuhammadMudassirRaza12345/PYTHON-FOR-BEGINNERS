{
 "cells": [
  {
   "cell_type": "code",
   "execution_count": 4,
   "id": "2a2d731f",
   "metadata": {},
   "outputs": [
    {
     "name": "stdout",
     "output_type": "stream",
     "text": [
      "3\n",
      "Weird\n"
     ]
    }
   ],
   "source": [
    "# Python If-Else\n",
    "\n",
    "# Task \n",
    "# Given an integer, n, perform the following conditional actions:\n",
    "# If n is odd, print Weird\n",
    "# If n is even and in the inclusive range of 2 to 5, print Not Weird\n",
    "# If n is even and in the inclusive range of 6 to 20, print Weird\n",
    "# If n is even and greater than 20, print Not Weird\n",
    "\n",
    "# Input Format\n",
    "# A single line containing a positive integer, n.\n",
    "\n",
    "# Constraints\n",
    "# 1 <= n <= 100\n",
    "\n",
    "# Output Format\n",
    "# Print Weird if the number is weird; otherwise, print Not Weird.\n",
    "\n",
    "#!/bin/python\n",
    "\n",
    "# import sys\n",
    "\n",
    "\n",
    "\n",
    "if __name__ == '__main__':\n",
    "    n = int(input().strip())\n",
    "    if n%2 != 0:\n",
    "        print(\"Weird\")\n",
    "    else:\n",
    "        if n >=2 and n <=5:\n",
    "            print(\"Not Weird\")\n",
    "        elif n >=6 and n <=20:\n",
    "            print(\"Weird\")\n",
    "        elif n >20 :\n",
    "            print(\"Not Weird\")         \n",
    "         "
   ]
  },
  {
   "cell_type": "code",
   "execution_count": 5,
   "id": "99ad9a13",
   "metadata": {},
   "outputs": [
    {
     "name": "stdout",
     "output_type": "stream",
     "text": [
      "2\n",
      "3\n",
      "5\n",
      "-1\n",
      "6\n"
     ]
    }
   ],
   "source": [
    "# Task\n",
    "#The provided code stub reads two integers from STDIN,  and . Add code to print three lines where:\n",
    "\n",
    "#The first line contains the sum of the two numbers.\n",
    "#The second line contains the difference of the two numbers (first - second).\n",
    "#The third line contains the product of the two numbers.\n",
    "#Example\n",
    "#a=3 ,b=5\n",
    "if __name__ == '__main__':\n",
    "    a = int(input())\n",
    "    b = int(input())\n",
    "    print(a+b)\n",
    "    print(a-b)\n",
    "    print(a*b)"
   ]
  },
  {
   "cell_type": "code",
   "execution_count": 6,
   "id": "befd3885",
   "metadata": {},
   "outputs": [
    {
     "name": "stdout",
     "output_type": "stream",
     "text": [
      "3\n",
      "5\n",
      "0\n",
      "0.6\n"
     ]
    }
   ],
   "source": [
    "#Task\n",
    "#The provided code stub reads two integers,  and , from STDIN.\n",
    "\n",
    "#Add logic to print two lines. The first line should contain the result of integer division,  \n",
    "# // . The second line should contain the result of float division,  / .\n",
    "#Example\n",
    "#a=3 ,b=5\n",
    "#The result of the integer division . 3//5=0\n",
    "#The result of the float division is . 3/5=0.6\n",
    "if __name__ == '__main__':\n",
    "    a = int(input())\n",
    "    b = int(input())\n",
    "    print(a//b)\n",
    "    print(a/b)\n",
    "    "
   ]
  },
  {
   "cell_type": "code",
   "execution_count": 10,
   "id": "97ef55f7",
   "metadata": {},
   "outputs": [
    {
     "name": "stdout",
     "output_type": "stream",
     "text": [
      "3\n",
      "0\n",
      "1\n",
      "4\n"
     ]
    }
   ],
   "source": [
    "#Task\n",
    "#The provided code stub reads and integer, , from STDIN. For all non-negative integers , print .\n",
    "\n",
    "#Example\n",
    "#The provided code stub reads and integer,n , from STDIN. For all non-negative integers i<n , print .i**2\n",
    "#Example\n",
    "\n",
    "#The list of non-negative integers that are less than n=3 is [0,1,2] . Print the square of each number on a separate line.\n",
    "\n",
    "\n",
    "n = int(input())\n",
    "for i in range(n):\n",
    "    print(i*i) "
   ]
  },
  {
   "cell_type": "code",
   "execution_count": 56,
   "id": "ccd882f1",
   "metadata": {},
   "outputs": [
    {
     "name": "stdout",
     "output_type": "stream",
     "text": [
      "2021\n",
      "False\n"
     ]
    }
   ],
   "source": [
    "#An extra day is added to the calendar almost every four years as February 29, and the day is called a leap day. It corrects the calendar for the fact that our planet takes approximately 365.25 days to orbit the sun. A leap year contains a leap day.\n",
    "\n",
    "#In the Gregorian calendar, three conditions are used to identify leap years:\n",
    "\n",
    "#The year can be evenly divided by 4, is a leap year, unless:\n",
    "#The year can be evenly divided by 100, it is NOT a leap year, unless:\n",
    "#The year is also evenly divisible by 400. Then it is a leap year.\n",
    "#This means that in the Gregorian calendar, the years 2000 and 2400 are leap years, while 1800, 1900, 2100, 2200, 2300 and 2500 are NOT leap\n",
    "\n",
    "#Task\n",
    "\n",
    "#Given a year, determine whether it is a leap year. If it is a leap year, return the Boolean True, otherwise return False.\n",
    "\n",
    "#Note that the code stub provided reads from STDIN and passes arguments to the is_leap function. \n",
    "#It is only necessary to complete the is_leap function.\n",
    "\n",
    "def is_leap(year):\n",
    "    leap = False\n",
    "     \n",
    "    # Write your logic here\n",
    "    if year % 400 == 0:\n",
    "        leap = True\n",
    "    elif year % 100 == 0:\n",
    "        leap = False\n",
    "    elif year % 4 == 0:\n",
    "        leap = True\n",
    "        \n",
    "    return leap\n",
    "          \n",
    "\n",
    "year = int(input())\n",
    "print(is_leap(year))"
   ]
  },
  {
   "cell_type": "code",
   "execution_count": 57,
   "id": "99d290d2",
   "metadata": {},
   "outputs": [
    {
     "name": "stdout",
     "output_type": "stream",
     "text": [
      "1\n"
     ]
    }
   ],
   "source": [
    "print(2021%4)"
   ]
  },
  {
   "cell_type": "code",
   "execution_count": 63,
   "id": "44eae4d0",
   "metadata": {},
   "outputs": [
    {
     "name": "stdout",
     "output_type": "stream",
     "text": [
      "5\n",
      "12345"
     ]
    }
   ],
   "source": [
    "# The included code stub will read an integer, , from STDIN.\n",
    "\n",
    "# Without using any string methods, try to print the following:\n",
    "# 123...n\n",
    "\n",
    "# Note that \"\" represents the consecutive values in between.\n",
    "\n",
    "# Example\n",
    "# n=5\n",
    "\n",
    "# Print the string 12345\n",
    "\n",
    "if __name__ == '__main__':\n",
    "    n = int(input())\n",
    "    for i in range(1,n+1):\n",
    "        print(i,end=\"\")"
   ]
  },
  {
   "cell_type": "code",
   "execution_count": 3,
   "id": "a1c0559d",
   "metadata": {},
   "outputs": [
    {
     "ename": "SyntaxError",
     "evalue": "invalid syntax (2867617771.py, line 9)",
     "output_type": "error",
     "traceback": [
      "\u001b[1;36m  Input \u001b[1;32mIn [3]\u001b[1;36m\u001b[0m\n\u001b[1;33m    >>>\u001b[0m\n\u001b[1;37m    ^\u001b[0m\n\u001b[1;31mSyntaxError\u001b[0m\u001b[1;31m:\u001b[0m invalid syntax\n"
     ]
    }
   ],
   "source": [
    "#A counter is a container that stores elements as dictionary keys, and their counts are stored as dictionary values.\n",
    "# Sample Code\n",
    "\n",
    "#>>> from collections import Counter\n",
    "#>>> \n",
    "#>>> myList = [1,1,2,3,4,5,3,2,3,4,2,1,2,3]\n",
    "#>>> print Counter(myList)\n",
    "Counter({2: 4, 3: 4, 1: 3, 4: 2, 5: 1})\n",
    ">>>\n",
    ">>> print Counter(myList).items()\n",
    "[(1, 3), (2, 4), (3, 4), (4, 2), (5, 1)]\n",
    ">>> \n",
    ">>> print Counter(myList).keys()\n",
    "[1, 2, 3, 4, 5]\n",
    ">>> \n",
    ">>> print Counter(myList).values()\n",
    "[3, 4, 4, 2, 1]"
   ]
  },
  {
   "cell_type": "code",
   "execution_count": 38,
   "id": "2879cbbc",
   "metadata": {},
   "outputs": [
    {
     "name": "stdout",
     "output_type": "stream",
     "text": [
      "4\n",
      "insert 0 1\n",
      "insert 1 2\n",
      "print\n",
      "[2, 1]\n",
      "reverse\n"
     ]
    }
   ],
   "source": [
    "if __name__ == '__main__':\n",
    "    N =int(input())  \n",
    "    list=[]\n",
    "    for i in range(N):\n",
    "        e=input().split();  #takes two inputs\n",
    "        if e[0]==\"insert\":\n",
    "            list.insert(int(e[1]),int(e[2]))\n",
    "        if e[0]==\"print\":\n",
    "            print(list)\n",
    "        elif  e[0]==\"remove\":\n",
    "            list.remove(int(e[1]))\n",
    "        elif  e[0]==\"append\":\n",
    "            list.append(int(e[1]))\n",
    "        elif e[0] == \"pop\":\n",
    "            list.pop();      \n",
    "        elif  e[0]==\"sort\":\n",
    "            list.sort()  \n",
    "        elif elif  e[0]==\"reverse\":\n",
    "            list.reverse()       \n",
    "            \n",
    "            \n",
    "            \n",
    "        \n",
    "        \n",
    "    \n",
    "    \n",
    "  "
   ]
  },
  {
   "cell_type": "code",
   "execution_count": 50,
   "id": "927bcef2",
   "metadata": {},
   "outputs": [
    {
     "name": "stdout",
     "output_type": "stream",
     "text": [
      "Enter the range of loop 4\n",
      " \n",
      "        \n",
      "        Instructions:\n",
      "        \n",
      "        For Remove\n",
      "        remove 6(value)\n",
      "        \n",
      "        For insert\n",
      "        insert  0 (position) 1 (value)\n",
      "        \n",
      "        For print\n",
      "        print\n",
      "        \n",
      "        For Sort\n",
      "        sort\n",
      "        \n",
      "        For Append\n",
      "        append 2(value)\n",
      "        \n",
      "        For reverse\n",
      "        reverse\n",
      "        \n",
      "        For pop\n",
      "        \n",
      "        pop\n",
      "        \n",
      "        \n",
      "Enter the task you want to perform insert \n"
     ]
    },
    {
     "ename": "IndexError",
     "evalue": "list index out of range",
     "output_type": "error",
     "traceback": [
      "\u001b[1;31m---------------------------------------------------------------------------\u001b[0m",
      "\u001b[1;31mIndexError\u001b[0m                                Traceback (most recent call last)",
      "Input \u001b[1;32mIn [50]\u001b[0m, in \u001b[0;36m<cell line: 1>\u001b[1;34m()\u001b[0m\n\u001b[0;32m     33\u001b[0m e\u001b[38;5;241m=\u001b[39m\u001b[38;5;28minput\u001b[39m(\u001b[38;5;124m\"\u001b[39m\u001b[38;5;124mEnter the task you want to perform \u001b[39m\u001b[38;5;124m\"\u001b[39m)\u001b[38;5;241m.\u001b[39msplit();  \u001b[38;5;66;03m#takes 3  inputs like a list\u001b[39;00m\n\u001b[0;32m     35\u001b[0m \u001b[38;5;28;01mif\u001b[39;00m e[\u001b[38;5;241m0\u001b[39m]\u001b[38;5;241m==\u001b[39m\u001b[38;5;124m\"\u001b[39m\u001b[38;5;124minsert\u001b[39m\u001b[38;5;124m\"\u001b[39m:\n\u001b[1;32m---> 36\u001b[0m     \u001b[38;5;28mlist\u001b[39m\u001b[38;5;241m.\u001b[39minsert(\u001b[38;5;28mint\u001b[39m(\u001b[43me\u001b[49m\u001b[43m[\u001b[49m\u001b[38;5;241;43m1\u001b[39;49m\u001b[43m]\u001b[49m),\u001b[38;5;28mint\u001b[39m(e[\u001b[38;5;241m2\u001b[39m]))\n\u001b[0;32m     37\u001b[0m \u001b[38;5;28;01mif\u001b[39;00m e[\u001b[38;5;241m0\u001b[39m]\u001b[38;5;241m==\u001b[39m\u001b[38;5;124m\"\u001b[39m\u001b[38;5;124mprint\u001b[39m\u001b[38;5;124m\"\u001b[39m:\n\u001b[0;32m     38\u001b[0m     \u001b[38;5;28mprint\u001b[39m(\u001b[38;5;28mlist\u001b[39m)\n",
      "\u001b[1;31mIndexError\u001b[0m: list index out of range"
     ]
    }
   ],
   "source": [
    "if __name__ == '__main__':\n",
    "    N =int(input(\"Enter the range of loop \"))  \n",
    "    list=[]\n",
    "    for i in range(N):\n",
    "        print( \"\"\" \n",
    "        \n",
    "        Instructions:\n",
    "        \n",
    "        For Remove\n",
    "        remove 6(value)\n",
    "        \n",
    "        For insert\n",
    "        insert  0 (position) 1 (value)\n",
    "        \n",
    "        For print\n",
    "        print\n",
    "        \n",
    "        For Sort\n",
    "        sort\n",
    "        \n",
    "        For Append\n",
    "        append 2(value)\n",
    "        \n",
    "        For reverse\n",
    "        reverse\n",
    "        \n",
    "        For pop\n",
    "        \n",
    "        pop\n",
    "        \n",
    "        \"\"\")\n",
    "        \n",
    "        e=input(\"Enter the task you want to perform \").split();  #takes 3  inputs like a list\n",
    "        \n",
    "        if e[0]==\"insert\":\n",
    "            list.insert(int(e[1]),int(e[2]))\n",
    "        if e[0]==\"print\":\n",
    "            print(list)\n",
    "        elif  e[0]==\"remove\":\n",
    "            list.remove(int(e[1]))\n",
    "        elif  e[0]==\"append\":\n",
    "            list.append(int(e[1]))\n",
    "        elif e[0] == \"pop\":\n",
    "            list.pop();    \n",
    "        elif  e[0]==\"sort\":\n",
    "            list.sort()  \n",
    "        elif e[0]==\"reverse\":\n",
    "            list.reverse()       \n",
    "            "
   ]
  },
  {
   "cell_type": "code",
   "execution_count": 23,
   "id": "47666a67",
   "metadata": {},
   "outputs": [
    {
     "name": "stdout",
     "output_type": "stream",
     "text": [
      "[1]\n"
     ]
    }
   ],
   "source": [
    "print(list)"
   ]
  },
  {
   "cell_type": "code",
   "execution_count": 28,
   "id": "5e445305",
   "metadata": {},
   "outputs": [
    {
     "name": "stdout",
     "output_type": "stream",
     "text": [
      "4\n",
      "insert 0 5\n",
      "insert 1 10\n",
      "insert 2 11\n",
      "print\n",
      "[5, 10, 11]\n"
     ]
    }
   ],
   "source": [
    "if __name__ == '__main__':\n",
    "    N = int(input())\n",
    "    # Lists in Python - Hacker Rank Solution START\n",
    "    Output = [];\n",
    "    for i in range(0,N):\n",
    "        ip = input().split();\n",
    "        if ip[0] == \"print\":\n",
    "            print(Output)\n",
    "        elif ip[0] == \"insert\":\n",
    "            Output.insert(int(ip[1]),int(ip[2]))\n",
    "        elif ip[0] == \"remove\":\n",
    "            Output.remove(int(ip[1]))\n",
    "        elif ip[0] == \"pop\":\n",
    "            Output.pop();\n",
    "        elif ip[0] == \"append\":\n",
    "            Output.append(int(ip[1]))\n",
    "        elif ip[0] == \"sort\":\n",
    "            Output.sort();\n",
    "        else:\n",
    "            Output.reverse();"
   ]
  },
  {
   "cell_type": "code",
   "execution_count": 35,
   "id": "ccd3266f",
   "metadata": {},
   "outputs": [
    {
     "data": {
      "text/plain": [
       "0"
      ]
     },
     "execution_count": 35,
     "metadata": {},
     "output_type": "execute_result"
    }
   ],
   "source": [
    "Output.index(5)\n"
   ]
  },
  {
   "cell_type": "code",
   "execution_count": 36,
   "id": "56743114",
   "metadata": {},
   "outputs": [
    {
     "ename": "IndexError",
     "evalue": "list index out of range",
     "output_type": "error",
     "traceback": [
      "\u001b[1;31m---------------------------------------------------------------------------\u001b[0m",
      "\u001b[1;31mIndexError\u001b[0m                                Traceback (most recent call last)",
      "Input \u001b[1;32mIn [36]\u001b[0m, in \u001b[0;36m<cell line: 1>\u001b[1;34m()\u001b[0m\n\u001b[1;32m----> 1\u001b[0m Output\u001b[38;5;241m.\u001b[39mremove(\u001b[38;5;28mint\u001b[39m(\u001b[43mip\u001b[49m\u001b[43m[\u001b[49m\u001b[38;5;241;43m1\u001b[39;49m\u001b[43m]\u001b[49m))\n",
      "\u001b[1;31mIndexError\u001b[0m: list index out of range"
     ]
    }
   ],
   "source": [
    "Output.remove(int(ip[1]))"
   ]
  },
  {
   "cell_type": "code",
   "execution_count": 62,
   "id": "6886de76",
   "metadata": {},
   "outputs": [
    {
     "name": "stdout",
     "output_type": "stream",
     "text": [
      "2 \n",
      "1 2\n",
      "-3550055125485641917\n"
     ]
    }
   ],
   "source": [
    "if __name__ == '__main__':\n",
    "    n = int(input())\n",
    "    integer_list = map(int, input().split())\n",
    "    print(str(hash(tuple(integer_list))))\n",
    "        \n",
    " \n",
    "    \n",
    "       \n",
    "   \n",
    " \n",
    "   \n",
    "    "
   ]
  },
  {
   "cell_type": "code",
   "execution_count": 63,
   "id": "e998cbdb",
   "metadata": {},
   "outputs": [
    {
     "name": "stdout",
     "output_type": "stream",
     "text": [
      "Enter the how many values you want to inputs 4\n",
      "write all the values you want in above length 1 2 3 4\n",
      "590899387183067792\n"
     ]
    }
   ],
   "source": [
    "if __name__ == '__main__':\n",
    "    n = int(input(\"Enter the how many values you want to inputs \"))\n",
    "    integer_list = map(int, input(\"write all the values you want in above length \").split())\n",
    "    print(str(hash(tuple(integer_list))))\n",
    "        \n",
    " \n",
    "    \n",
    "       \n",
    "   \n",
    " \n",
    "   \n",
    "    "
   ]
  },
  {
   "cell_type": "code",
   "execution_count": 78,
   "id": "e845a4ae",
   "metadata": {},
   "outputs": [
    {
     "name": "stdout",
     "output_type": "stream",
     "text": [
      "100,000,000.000\n",
      "100\n",
      "000\n",
      "000\n",
      "000\n"
     ]
    }
   ],
   "source": [
    "regex_pattern = r\"[,.]\"\t# Do not delete 'r'.  in you the characters which you donot process\n",
    "\n",
    "import re\n",
    "print(\"\\n\".join(re.split(regex_pattern, input())))"
   ]
  },
  {
   "cell_type": "code",
   "execution_count": 66,
   "id": "f1dd4627",
   "metadata": {},
   "outputs": [
    {
     "name": "stdout",
     "output_type": "stream",
     "text": [
      "['The', 'rain', 'in', 'Spain']\n"
     ]
    }
   ],
   "source": [
    "import re\n",
    "\n",
    "txt = \"The rain in Spain\"\n",
    "x = re.split(\"\\s\", txt)\n",
    "print(x)"
   ]
  },
  {
   "cell_type": "code",
   "execution_count": 73,
   "id": "43390484",
   "metadata": {},
   "outputs": [
    {
     "name": "stdout",
     "output_type": "stream",
     "text": [
      "['The', ',rain', '.in', 'Spain']\n"
     ]
    }
   ],
   "source": [
    "import re\n",
    "\n",
    "txt = \"The ,rain .in Spain\"\n",
    "x = re.split(\"\", txt)\n",
    "print(x)"
   ]
  },
  {
   "cell_type": "code",
   "execution_count": 82,
   "id": "f6e680df",
   "metadata": {},
   "outputs": [
    {
     "ename": "NameError",
     "evalue": "name 'raw_input' is not defined",
     "output_type": "error",
     "traceback": [
      "\u001b[1;31m---------------------------------------------------------------------------\u001b[0m",
      "\u001b[1;31mNameError\u001b[0m                                 Traceback (most recent call last)",
      "Input \u001b[1;32mIn [82]\u001b[0m, in \u001b[0;36m<cell line: 2>\u001b[1;34m()\u001b[0m\n\u001b[0;32m      1\u001b[0m \u001b[38;5;28;01mimport\u001b[39;00m \u001b[38;5;21;01mre\u001b[39;00m\n\u001b[1;32m----> 2\u001b[0m r\u001b[38;5;241m=\u001b[39mre\u001b[38;5;241m.\u001b[39msearch(\u001b[38;5;124mr\u001b[39m\u001b[38;5;124m'\u001b[39m\u001b[38;5;124m([0-9a-zA-Z])\u001b[39m\u001b[38;5;124m\\\u001b[39m\u001b[38;5;124m1\u001b[39m\u001b[38;5;124m'\u001b[39m,\u001b[43mraw_input\u001b[49m())\n\u001b[0;32m      3\u001b[0m \u001b[38;5;28mprint\u001b[39m(r\u001b[38;5;241m.\u001b[39mgroup(\u001b[38;5;241m1\u001b[39m) \u001b[38;5;28;01mif\u001b[39;00m r \u001b[38;5;28;01melse\u001b[39;00m \u001b[38;5;241m-\u001b[39m\u001b[38;5;241m1\u001b[39m)\n",
      "\u001b[1;31mNameError\u001b[0m: name 'raw_input' is not defined"
     ]
    }
   ],
   "source": [
    "# import re\n",
    "# r=re.search(r'([0-9a-zA-Z])\\1',raw_input())\n",
    "# print(r.group(1) if r else -1)\n",
    "\n",
    "# \\1 means the first group\n",
    "#\\1 is equivalent to re.search(...).group(1), the first parentheses-delimited expression inside of the regex."
   ]
  },
  {
   "cell_type": "code",
   "execution_count": 81,
   "id": "71c37136",
   "metadata": {},
   "outputs": [
    {
     "name": "stdout",
     "output_type": "stream",
     "text": [
      "..12345678910111213141516171820212223\n",
      "1\n"
     ]
    }
   ],
   "source": [
    "import re\n",
    "m = re.findall(r\"([A-Za-z0-9])\\1+\",input())\n",
    "if m:\n",
    "    print(m[0])\n",
    "else:\n",
    "    print(-1)\n",
    "# input ..12345678910111213141516171820212223    "
   ]
  },
  {
   "cell_type": "code",
   "execution_count": 80,
   "id": "a3234914",
   "metadata": {},
   "outputs": [
    {
     "name": "stdout",
     "output_type": "stream",
     "text": [
      "..12345678910111213141516171820212223\n",
      "1\n"
     ]
    }
   ],
   "source": [
    "\n",
    "import re\n",
    "\n",
    "expression=r\"([a-zA-Z0-9])\\1+\"\n",
    "\n",
    "m = re.search(expression,input())\n",
    "\n",
    "if m:\n",
    "    print(m.group(1))\n",
    "else:\n",
    "    print(-1)\n",
    "# Group() Groups() Groupdict() in Python - Hacker Rank Solution END"
   ]
  },
  {
   "cell_type": "code",
   "execution_count": null,
   "id": "ffe675ec",
   "metadata": {},
   "outputs": [],
   "source": [
    " import re\n",
    "sol=re.findall(r\"(?<=[QWRTYPSDFGHJKLZXCVBNMqwrtypsdfghjklzxcvbnm])[AEIOUaeiou]{2,}(?=[QWRTYPSDFGHJKLZXCVBNMqwrtypsdfghjklzxcvbnm])\", input())\n",
    "if sol:\n",
    "    print(*sol, sep=\"\\n\")\n",
    "else:\n",
    "    print(-1)"
   ]
  },
  {
   "cell_type": "code",
   "execution_count": 92,
   "id": "fea40dfe",
   "metadata": {},
   "outputs": [
    {
     "name": "stdout",
     "output_type": "stream",
     "text": [
      "abcdeefgyYhFjkIoomnpOeorteeeeet \n",
      "ee\n",
      "Ioo\n",
      "Oeo\n",
      "eeeee\n"
     ]
    }
   ],
   "source": [
    "import re\n",
    "#The lookahead approach allows the consonant that ends one sequence of vowels to start the next sequence,\n",
    "#whereas the non-lookahead approach requires at least two consonants between those sequences \n",
    "#(one to end a sequence, another to start the next, as both are matched).\n",
    "\n",
    "k = re.findall(r'(?<=[^aeiouAEIOU ])[aeiouAEIOU]{2,}(?=[^aeiouAEIOU ])',input())\n",
    "\n",
    "if k:\n",
    "    for i in k:\n",
    "        print(i)\n",
    "else:\n",
    "    print(-1)\n",
    "#input rabcdeefgyYhFjkIoomnpOeorteeeeet   (?=[^aeiouAEIOU ])  \n",
    "\n",
    "# k = re.findall(r'(?<=[^aeiouAEIOU ])[aeiouAEIOU]{2,}(?=[^aeiouAEIOU ])',input())\n",
    "\n",
    "# if k:\n",
    "#     for i in k:\n",
    "#         print(i)\n",
    "# else:\n",
    "#     print(-1)"
   ]
  },
  {
   "cell_type": "code",
   "execution_count": 87,
   "id": "9fe74238",
   "metadata": {},
   "outputs": [
    {
     "name": "stdout",
     "output_type": "stream",
     "text": [
      "rabcdeefgyYhFjkIoomnpOeorteeeeet \n",
      "ee\n",
      "Ioo\n",
      "Oeo\n",
      "eeeee\n"
     ]
    }
   ],
   "source": [
    "import re\n",
    "\n",
    "sol = re.findall(r\"[^aiueo]([aiueoAIUEO]{2,})[^aiueo]\", input())\n",
    "# (r'[^aiueo]([aiueoAIUEO]{2,})(?=[^aiueo])\n",
    "if sol:\n",
    "    for s in sol:\n",
    "        print(s)\n",
    "else:\n",
    "    print(-1)\n"
   ]
  },
  {
   "cell_type": "code",
   "execution_count": null,
   "id": "a5fc164d",
   "metadata": {},
   "outputs": [],
   "source": [
    "# Character\tDescription\tExample\tTry it\n",
    "# []\tA set of characters\t\"[a-m]\"\t\n",
    "# \\\tSignals a special sequence (can also be used to escape special characters)\t\"\\d\"\t\n",
    "# .\tAny character (except newline character)\t\"he..o\"\t\n",
    "# ^\tStarts with\t\"^hello\"\t\n",
    "# $\tEnds with\t\"planet$\"\t\n",
    "# *\tZero or more occurrences\t\"he.*o\"\t\n",
    "# +\tOne or more occurrences\t\"he.+o\"\t\n",
    "# ?\tZero or one occurrences\t\"he.?o\"\t\n",
    "# {}\tExactly the specified number of occurrences\t\"he.{2}o\"\t\n",
    "# |\tEither or\t\"falls|stays\"\t\n",
    "# ()\tCapture and group\t "
   ]
  }
 ],
 "metadata": {
  "kernelspec": {
   "display_name": "Python 3 (ipykernel)",
   "language": "python",
   "name": "python3"
  },
  "language_info": {
   "codemirror_mode": {
    "name": "ipython",
    "version": 3
   },
   "file_extension": ".py",
   "mimetype": "text/x-python",
   "name": "python",
   "nbconvert_exporter": "python",
   "pygments_lexer": "ipython3",
   "version": "3.9.12"
  }
 },
 "nbformat": 4,
 "nbformat_minor": 5
}
