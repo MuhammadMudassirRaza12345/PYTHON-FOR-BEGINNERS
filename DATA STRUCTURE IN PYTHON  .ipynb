{
 "cells": [
  {
   "cell_type": "markdown",
   "id": "155f3fef",
   "metadata": {},
   "source": [
    "# DATA STRUCTURE IN PYTHON  "
   ]
  },
  {
   "cell_type": "markdown",
   "id": "056a4198",
   "metadata": {},
   "source": [
    "### 1.TUPLE\n",
    "### 2.LIST\n",
    "### 3.DICTIONARY\n",
    "### 4.SET"
   ]
  },
  {
   "cell_type": "markdown",
   "id": "cf59e48a",
   "metadata": {},
   "source": [
    "### 1.TUPLE:\n",
    "- ORDER OF COLLECTION OF ELEMENTS ,ENCLOSED IN ROUND BRACKET/PARENTHESIS () ,DIFFEREMT TYPE OF ELEMENT STORE , ONCE THE ELEMENT \n",
    "- THEY CAN'T CHANGE.\n"
   ]
  },
  {
   "cell_type": "code",
   "execution_count": 1,
   "id": "9f6ebb09",
   "metadata": {},
   "outputs": [
    {
     "name": "stdout",
     "output_type": "stream",
     "text": [
      "('Raza', 'ALi', 1, 2)\n"
     ]
    }
   ],
   "source": [
    "tp=('Raza',\"ALi\",1,2)\n",
    "print(tp)"
   ]
  },
  {
   "cell_type": "code",
   "execution_count": 3,
   "id": "3f635296",
   "metadata": {},
   "outputs": [
    {
     "name": "stdout",
     "output_type": "stream",
     "text": [
      "<class 'tuple'>\n"
     ]
    }
   ],
   "source": [
    "print(type(tp))"
   ]
  },
  {
   "cell_type": "code",
   "execution_count": 4,
   "id": "57050c94",
   "metadata": {},
   "outputs": [
    {
     "name": "stdout",
     "output_type": "stream",
     "text": [
      "1\n"
     ]
    }
   ],
   "source": [
    "print(tp[2])"
   ]
  },
  {
   "cell_type": "code",
   "execution_count": 5,
   "id": "c4e71237",
   "metadata": {},
   "outputs": [
    {
     "name": "stdout",
     "output_type": "stream",
     "text": [
      "4\n"
     ]
    }
   ],
   "source": [
    "print(len(tp))"
   ]
  },
  {
   "cell_type": "code",
   "execution_count": 6,
   "id": "02eef5d7",
   "metadata": {},
   "outputs": [
    {
     "name": "stdout",
     "output_type": "stream",
     "text": [
      "('Raza', 'ALi', 1, 2)\n"
     ]
    }
   ],
   "source": [
    "print(tp[0:])"
   ]
  },
  {
   "cell_type": "code",
   "execution_count": 7,
   "id": "e2ef19c9",
   "metadata": {},
   "outputs": [
    {
     "name": "stdout",
     "output_type": "stream",
     "text": [
      "(1, 2)\n"
     ]
    }
   ],
   "source": [
    "print(tp[-2:])"
   ]
  },
  {
   "cell_type": "code",
   "execution_count": 8,
   "id": "5ecce3c7",
   "metadata": {},
   "outputs": [
    {
     "data": {
      "text/plain": [
       "('Raza', 'ALi', 1, 2, 'Raza', 'ALi', 14.3, 4)"
      ]
     },
     "execution_count": 8,
     "metadata": {},
     "output_type": "execute_result"
    }
   ],
   "source": [
    "tp1=('Raza',\"ALi\",1,2)\n",
    "tp2=('Raza',\"ALi\",14.3,4)\n",
    "tp1 +tp2"
   ]
  },
  {
   "cell_type": "code",
   "execution_count": 9,
   "id": "7cb1d88f",
   "metadata": {},
   "outputs": [
    {
     "data": {
      "text/plain": [
       "('Raza', 'ALi', 1, 2, 'Raza', 'ALi', 1, 2, 'Raza', 'ALi', 14.3, 4)"
      ]
     },
     "execution_count": 9,
     "metadata": {},
     "output_type": "execute_result"
    }
   ],
   "source": [
    "tp1*2 +tp2"
   ]
  },
  {
   "cell_type": "code",
   "execution_count": 15,
   "id": "f559a944",
   "metadata": {},
   "outputs": [
    {
     "data": {
      "text/plain": [
       "60"
      ]
     },
     "execution_count": 15,
     "metadata": {},
     "output_type": "execute_result"
    }
   ],
   "source": [
    "tup11 =(20,30,40,50,60)\n",
    "max(tup11)\n",
    " "
   ]
  },
  {
   "cell_type": "code",
   "execution_count": 16,
   "id": "2224ac40",
   "metadata": {},
   "outputs": [
    {
     "data": {
      "text/plain": [
       "20"
      ]
     },
     "execution_count": 16,
     "metadata": {},
     "output_type": "execute_result"
    }
   ],
   "source": [
    "min(tup11)"
   ]
  },
  {
   "cell_type": "code",
   "execution_count": 17,
   "id": "009f8496",
   "metadata": {},
   "outputs": [
    {
     "data": {
      "text/plain": [
       "(20, 30, 40, 50, 60, 20, 30, 40, 50, 60)"
      ]
     },
     "execution_count": 17,
     "metadata": {},
     "output_type": "execute_result"
    }
   ],
   "source": [
    "tup11 =(20,30,40,50,60)\n",
    "tup11*2"
   ]
  },
  {
   "cell_type": "code",
   "execution_count": 90,
   "id": "76672b8e",
   "metadata": {
    "scrolled": true
   },
   "outputs": [
    {
     "data": {
      "text/plain": [
       "1"
      ]
     },
     "execution_count": 90,
     "metadata": {},
     "output_type": "execute_result"
    }
   ],
   "source": [
    "tup11.count(30)"
   ]
  },
  {
   "cell_type": "code",
   "execution_count": 91,
   "id": "a3bfc7c8",
   "metadata": {},
   "outputs": [
    {
     "data": {
      "text/plain": [
       "4"
      ]
     },
     "execution_count": 91,
     "metadata": {},
     "output_type": "execute_result"
    }
   ],
   "source": [
    "tup11.index(60)"
   ]
  },
  {
   "cell_type": "markdown",
   "id": "16e07f40",
   "metadata": {},
   "source": [
    "## 2.LIST\n",
    "- ORDER OF COLLECTION OF ELEMENTS ,ENCLOSED IN SQUARE BRACKET [] ,DIFFEREMT TYPE OF ELEMENT STORE , TE ELEMENT \n",
    "- CAN  CHANGE WHICH STORED IN LIST.\n"
   ]
  },
  {
   "cell_type": "code",
   "execution_count": 19,
   "id": "27ab673b",
   "metadata": {},
   "outputs": [
    {
     "name": "stdout",
     "output_type": "stream",
     "text": [
      "[10, 20, 21, 30, 32, 28, 29, 'Pakistan']\n"
     ]
    }
   ],
   "source": [
    "khi_temp  = [10,20,21,30,32,28,29,\"Pakistan\"]   #A list consit of nos and string\n",
    "print(khi_temp)"
   ]
  },
  {
   "cell_type": "code",
   "execution_count": 20,
   "id": "092f59bc",
   "metadata": {},
   "outputs": [
    {
     "name": "stdout",
     "output_type": "stream",
     "text": [
      "<class 'list'>\n"
     ]
    }
   ],
   "source": [
    "print(type(khi_temp))"
   ]
  },
  {
   "cell_type": "code",
   "execution_count": 21,
   "id": "8156cade",
   "metadata": {},
   "outputs": [
    {
     "name": "stdout",
     "output_type": "stream",
     "text": [
      "8\n"
     ]
    }
   ],
   "source": [
    "print(len(khi_temp))"
   ]
  },
  {
   "cell_type": "code",
   "execution_count": 22,
   "id": "0e9b55b6",
   "metadata": {},
   "outputs": [],
   "source": [
    "khi_temp1  = [10,20,21,30,32,28,29,\"karachi\"]"
   ]
  },
  {
   "cell_type": "code",
   "execution_count": 24,
   "id": "4447b0ab",
   "metadata": {},
   "outputs": [
    {
     "data": {
      "text/plain": [
       "[10, 20, 21, 30, 32, 28, 29, 'Pakistan', 10, 20, 21, 30, 32, 28, 29, 'karachi']"
      ]
     },
     "execution_count": 24,
     "metadata": {},
     "output_type": "execute_result"
    }
   ],
   "source": [
    "khi_temp + khi_temp1 "
   ]
  },
  {
   "cell_type": "code",
   "execution_count": 25,
   "id": "a6045987",
   "metadata": {},
   "outputs": [
    {
     "data": {
      "text/plain": [
       "[10, 20, 21, 30, 32, 28, 29, 'karachi', 10, 20, 21, 30, 32, 28, 29, 'karachi']"
      ]
     },
     "execution_count": 25,
     "metadata": {},
     "output_type": "execute_result"
    }
   ],
   "source": [
    "khi_temp1  = [10,20,21,30,32,28,29,\"karachi\"]\n",
    "khi_temp1*2"
   ]
  },
  {
   "cell_type": "code",
   "execution_count": 26,
   "id": "ee3f14cb",
   "metadata": {},
   "outputs": [],
   "source": [
    "##for suggstion of predefined function you need to press tab after dot(.)\n",
    "khi_temp1.append(\"Ali\")"
   ]
  },
  {
   "cell_type": "code",
   "execution_count": 27,
   "id": "f1c76d93",
   "metadata": {},
   "outputs": [
    {
     "data": {
      "text/plain": [
       "[10, 20, 21, 30, 32, 28, 29, 'karachi', 'Ali']"
      ]
     },
     "execution_count": 27,
     "metadata": {},
     "output_type": "execute_result"
    }
   ],
   "source": [
    "khi_temp1"
   ]
  },
  {
   "cell_type": "code",
   "execution_count": 30,
   "id": "24d4a35c",
   "metadata": {},
   "outputs": [
    {
     "data": {
      "text/plain": [
       "[10, 20, 21, 30, 32, 28, 29, 'karachi', 'Ali']"
      ]
     },
     "execution_count": 30,
     "metadata": {},
     "output_type": "execute_result"
    }
   ],
   "source": [
    "khi_temp1.reverse()\n",
    "khi_temp1"
   ]
  },
  {
   "cell_type": "code",
   "execution_count": 31,
   "id": "a0b5f9cb",
   "metadata": {},
   "outputs": [
    {
     "data": {
      "text/plain": [
       "[10, 20, 21, 30, 32, 28, 29, 'karachi', 'Ali']"
      ]
     },
     "execution_count": 31,
     "metadata": {},
     "output_type": "execute_result"
    }
   ],
   "source": [
    "khi_temp1\n"
   ]
  },
  {
   "cell_type": "code",
   "execution_count": 45,
   "id": "9bab7a4e",
   "metadata": {},
   "outputs": [
    {
     "data": {
      "text/plain": [
       "4"
      ]
     },
     "execution_count": 45,
     "metadata": {},
     "output_type": "execute_result"
    }
   ],
   "source": [
    "khi_temp1=\"Razaaa\"\n",
    "khi_temp1.count('a')\n",
    " "
   ]
  },
  {
   "cell_type": "code",
   "execution_count": 47,
   "id": "14774ab6",
   "metadata": {},
   "outputs": [
    {
     "data": {
      "text/plain": [
       "2"
      ]
     },
     "execution_count": 47,
     "metadata": {},
     "output_type": "execute_result"
    }
   ],
   "source": [
    "khi_temp1.find('z')"
   ]
  },
  {
   "cell_type": "code",
   "execution_count": 52,
   "id": "6041b655",
   "metadata": {},
   "outputs": [
    {
     "data": {
      "text/plain": [
       "['I love biryani ,karhae ,pizza']"
      ]
     },
     "execution_count": 52,
     "metadata": {},
     "output_type": "execute_result"
    }
   ],
   "source": [
    "food=\"I love biryani ,karhae ,pizza\"\n",
    "food.split(\" , \")"
   ]
  },
  {
   "cell_type": "code",
   "execution_count": 56,
   "id": "9fe26de7",
   "metadata": {},
   "outputs": [
    {
     "data": {
      "text/plain": [
       "[2, 9, 10, 20, 21, 28, 29, 30, 30, 32, 45]"
      ]
     },
     "execution_count": 56,
     "metadata": {},
     "output_type": "execute_result"
    }
   ],
   "source": [
    "khi_temp1=[10, 20, 21, 30, 32, 28, 29,2,9,45,30]\n",
    "khi_temp1.sort()\n",
    "khi_temp1"
   ]
  },
  {
   "cell_type": "code",
   "execution_count": 57,
   "id": "4af8d63b",
   "metadata": {},
   "outputs": [
    {
     "data": {
      "text/plain": [
       "[2,\n",
       " 9,\n",
       " 10,\n",
       " 20,\n",
       " 21,\n",
       " 28,\n",
       " 29,\n",
       " 30,\n",
       " 30,\n",
       " 32,\n",
       " 45,\n",
       " 2,\n",
       " 9,\n",
       " 10,\n",
       " 20,\n",
       " 21,\n",
       " 28,\n",
       " 29,\n",
       " 30,\n",
       " 30,\n",
       " 32,\n",
       " 45]"
      ]
     },
     "execution_count": 57,
     "metadata": {},
     "output_type": "execute_result"
    }
   ],
   "source": [
    "khi_temp1 *2"
   ]
  },
  {
   "cell_type": "code",
   "execution_count": 92,
   "id": "fc45affe",
   "metadata": {},
   "outputs": [
    {
     "data": {
      "text/plain": [
       "[2, 9, 10, 20, 21, 28, 29, 30, 30, 32, 45]"
      ]
     },
     "execution_count": 92,
     "metadata": {},
     "output_type": "execute_result"
    }
   ],
   "source": [
    "khi_temp1\n"
   ]
  },
  {
   "cell_type": "code",
   "execution_count": null,
   "id": "994e8191",
   "metadata": {},
   "outputs": [],
   "source": [
    "khi_temp1."
   ]
  },
  {
   "cell_type": "markdown",
   "id": "6874321e",
   "metadata": {},
   "source": [
    "## 3.DICTIONARY\n",
    "- UNORDER OF COLLECTION OF ELEMENTS ,ENCLOSED IN BRACES / CURLY BRACES {} ,DIFFEREMT TYPE OF ELEMENT STORE , TE ELEMENT \n",
    "- CAN  CHANGE WHICH STORED IN LIST.\n"
   ]
  },
  {
   "cell_type": "code",
   "execution_count": 60,
   "id": "f1193bff",
   "metadata": {},
   "outputs": [],
   "source": [
    "customer={\n",
    "    \"first_name\" :\"Muhammad\",\n",
    "    \"middle_name\" :\"Mudassir\",\n",
    "    \"last_name\" :\"Raza\",\n",
    "    \"address\" : \"A-128 New Rizvia Society\",\n",
    "    \"number\" : \"03122512472\",\n",
    "    1  : \"love\"\n",
    "}\n"
   ]
  },
  {
   "cell_type": "code",
   "execution_count": 62,
   "id": "8426d8eb",
   "metadata": {},
   "outputs": [
    {
     "data": {
      "text/plain": [
       "dict_keys(['first_name', 'middle_name', 'last_name', 'address', 'number', 1])"
      ]
     },
     "execution_count": 62,
     "metadata": {},
     "output_type": "execute_result"
    }
   ],
   "source": [
    "customer.keys()"
   ]
  },
  {
   "cell_type": "code",
   "execution_count": 63,
   "id": "2a25b831",
   "metadata": {},
   "outputs": [
    {
     "data": {
      "text/plain": [
       "dict_values(['Muhammad', 'Mudassir', 'Raza', 'A-128 New Rizvia Society', '03122512472', 'love'])"
      ]
     },
     "execution_count": 63,
     "metadata": {},
     "output_type": "execute_result"
    }
   ],
   "source": [
    "customer.values()"
   ]
  },
  {
   "cell_type": "code",
   "execution_count": 64,
   "id": "bdb0e908",
   "metadata": {},
   "outputs": [],
   "source": [
    "#add elemrnt\n",
    "customer[\"fall in\"]=\"love\""
   ]
  },
  {
   "cell_type": "code",
   "execution_count": 65,
   "id": "cbbfa4b5",
   "metadata": {},
   "outputs": [
    {
     "data": {
      "text/plain": [
       "{'first_name': 'Muhammad',\n",
       " 'middle_name': 'Mudassir',\n",
       " 'last_name': 'Raza',\n",
       " 'address': 'A-128 New Rizvia Society',\n",
       " 'number': '03122512472',\n",
       " 1: 'love',\n",
       " 'fall in': 'love'}"
      ]
     },
     "execution_count": 65,
     "metadata": {},
     "output_type": "execute_result"
    }
   ],
   "source": [
    "customer"
   ]
  },
  {
   "cell_type": "code",
   "execution_count": 66,
   "id": "152ff2f7",
   "metadata": {},
   "outputs": [],
   "source": [
    "customer[\"1\"]=\"mom\""
   ]
  },
  {
   "cell_type": "code",
   "execution_count": 67,
   "id": "36020274",
   "metadata": {},
   "outputs": [
    {
     "data": {
      "text/plain": [
       "{'first_name': 'Muhammad',\n",
       " 'middle_name': 'Mudassir',\n",
       " 'last_name': 'Raza',\n",
       " 'address': 'A-128 New Rizvia Society',\n",
       " 'number': '03122512472',\n",
       " 1: 'love',\n",
       " 'fall in': 'love',\n",
       " '1': 'mom'}"
      ]
     },
     "execution_count": 67,
     "metadata": {},
     "output_type": "execute_result"
    }
   ],
   "source": [
    "customer"
   ]
  },
  {
   "cell_type": "code",
   "execution_count": 68,
   "id": "567f1bb0",
   "metadata": {},
   "outputs": [],
   "source": [
    "#del element\n",
    "del customer[\"1\"]"
   ]
  },
  {
   "cell_type": "code",
   "execution_count": 69,
   "id": "8a6e81e2",
   "metadata": {},
   "outputs": [
    {
     "data": {
      "text/plain": [
       "{'first_name': 'Muhammad',\n",
       " 'middle_name': 'Mudassir',\n",
       " 'last_name': 'Raza',\n",
       " 'address': 'A-128 New Rizvia Society',\n",
       " 'number': '03122512472',\n",
       " 1: 'love',\n",
       " 'fall in': 'love'}"
      ]
     },
     "execution_count": 69,
     "metadata": {},
     "output_type": "execute_result"
    }
   ],
   "source": [
    "customer"
   ]
  },
  {
   "cell_type": "code",
   "execution_count": 70,
   "id": "4a4c8eee",
   "metadata": {},
   "outputs": [],
   "source": [
    "#update element\n",
    "customer[1]=\"mom\""
   ]
  },
  {
   "cell_type": "code",
   "execution_count": 71,
   "id": "935cf03f",
   "metadata": {},
   "outputs": [
    {
     "data": {
      "text/plain": [
       "{'first_name': 'Muhammad',\n",
       " 'middle_name': 'Mudassir',\n",
       " 'last_name': 'Raza',\n",
       " 'address': 'A-128 New Rizvia Society',\n",
       " 'number': '03122512472',\n",
       " 1: 'mom',\n",
       " 'fall in': 'love'}"
      ]
     },
     "execution_count": 71,
     "metadata": {},
     "output_type": "execute_result"
    }
   ],
   "source": [
    "customer"
   ]
  },
  {
   "cell_type": "code",
   "execution_count": 73,
   "id": "d3de4269",
   "metadata": {},
   "outputs": [],
   "source": [
    "customer1={'first_name': 'Muhammad',\n",
    " 'middle_name': 'Ali',\n",
    " 'last_name': 'Raza',\n",
    " 'address': 'A-130 New Rizvia Society'\n",
    "  }"
   ]
  },
  {
   "cell_type": "code",
   "execution_count": 74,
   "id": "ed9e6d3d",
   "metadata": {},
   "outputs": [],
   "source": [
    "customer.update(customer1)"
   ]
  },
  {
   "cell_type": "code",
   "execution_count": 75,
   "id": "4ead1fb7",
   "metadata": {},
   "outputs": [
    {
     "data": {
      "text/plain": [
       "{'first_name': 'Muhammad',\n",
       " 'middle_name': 'Ali',\n",
       " 'last_name': 'Raza',\n",
       " 'address': 'A-130 New Rizvia Society',\n",
       " 'number': '03122512472',\n",
       " 1: 'mom',\n",
       " 'fall in': 'love'}"
      ]
     },
     "execution_count": 75,
     "metadata": {},
     "output_type": "execute_result"
    }
   ],
   "source": [
    "customer\n",
    "#replace name address and concatenate"
   ]
  },
  {
   "cell_type": "markdown",
   "id": "850d2252",
   "metadata": {},
   "source": [
    "### 4.Sets:\n",
    "- UNORDER AND UNINDEX \n",
    "- CURLY BRACES {} ARE USED\n",
    "- NO DUPLICATE ALLOWED"
   ]
  },
  {
   "cell_type": "code",
   "execution_count": 79,
   "id": "bd1248ad",
   "metadata": {},
   "outputs": [],
   "source": [
    "khi1  = {10,20,29,\"Pakistan\",\"KARACHI\",\"LAHORE\",True} "
   ]
  },
  {
   "cell_type": "code",
   "execution_count": 80,
   "id": "13297ab3",
   "metadata": {},
   "outputs": [],
   "source": [
    "khi1.add(50)"
   ]
  },
  {
   "cell_type": "code",
   "execution_count": 81,
   "id": "d9b3273e",
   "metadata": {},
   "outputs": [
    {
     "data": {
      "text/plain": [
       "{10, 20, 29, 50, 'KARACHI', 'LAHORE', 'Pakistan', True}"
      ]
     },
     "execution_count": 81,
     "metadata": {},
     "output_type": "execute_result"
    }
   ],
   "source": [
    "khi1"
   ]
  },
  {
   "cell_type": "code",
   "execution_count": 82,
   "id": "f27c8a27",
   "metadata": {},
   "outputs": [],
   "source": [
    "khi1.add(\"raza\")"
   ]
  },
  {
   "cell_type": "code",
   "execution_count": 83,
   "id": "63fef2f2",
   "metadata": {},
   "outputs": [
    {
     "data": {
      "text/plain": [
       "{10, 20, 29, 50, 'KARACHI', 'LAHORE', 'Pakistan', True, 'raza'}"
      ]
     },
     "execution_count": 83,
     "metadata": {},
     "output_type": "execute_result"
    }
   ],
   "source": [
    "khi1"
   ]
  },
  {
   "cell_type": "code",
   "execution_count": 84,
   "id": "ffcf89f2",
   "metadata": {},
   "outputs": [
    {
     "data": {
      "text/plain": [
       "{10, 20, 29, 50, 'KARACHI', 'LAHORE', 'Pakistan', True, 'raza'}"
      ]
     },
     "execution_count": 84,
     "metadata": {},
     "output_type": "execute_result"
    }
   ],
   "source": [
    "khi1.add(\"raza\")\n",
    "khi1\n",
    "#duplicate not add\n"
   ]
  },
  {
   "cell_type": "code",
   "execution_count": 85,
   "id": "51801b1b",
   "metadata": {},
   "outputs": [],
   "source": [
    "khi1.add(\"raza1\")"
   ]
  },
  {
   "cell_type": "code",
   "execution_count": 86,
   "id": "90063503",
   "metadata": {},
   "outputs": [
    {
     "data": {
      "text/plain": [
       "{10, 20, 29, 50, 'KARACHI', 'LAHORE', 'Pakistan', True, 'raza', 'raza1'}"
      ]
     },
     "execution_count": 86,
     "metadata": {},
     "output_type": "execute_result"
    }
   ],
   "source": [
    "khi1"
   ]
  },
  {
   "cell_type": "code",
   "execution_count": 87,
   "id": "7cd61ce7",
   "metadata": {},
   "outputs": [],
   "source": [
    "khi1.remove(\"raza1\")"
   ]
  },
  {
   "cell_type": "code",
   "execution_count": 88,
   "id": "208fe8f6",
   "metadata": {},
   "outputs": [
    {
     "data": {
      "text/plain": [
       "{10, 20, 29, 50, 'KARACHI', 'LAHORE', 'Pakistan', True, 'raza'}"
      ]
     },
     "execution_count": 88,
     "metadata": {},
     "output_type": "execute_result"
    }
   ],
   "source": [
    "khi1"
   ]
  },
  {
   "cell_type": "code",
   "execution_count": null,
   "id": "fd10f6a6",
   "metadata": {},
   "outputs": [],
   "source": []
  }
 ],
 "metadata": {
  "kernelspec": {
   "display_name": "Python 3 (ipykernel)",
   "language": "python",
   "name": "python3"
  },
  "language_info": {
   "codemirror_mode": {
    "name": "ipython",
    "version": 3
   },
   "file_extension": ".py",
   "mimetype": "text/x-python",
   "name": "python",
   "nbconvert_exporter": "python",
   "pygments_lexer": "ipython3",
   "version": "3.9.12"
  }
 },
 "nbformat": 4,
 "nbformat_minor": 5
}
