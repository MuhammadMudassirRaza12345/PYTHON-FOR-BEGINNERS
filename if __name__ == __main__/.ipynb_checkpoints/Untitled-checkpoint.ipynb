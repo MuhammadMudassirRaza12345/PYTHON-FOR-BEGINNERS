{
 "cells": [
  {
   "cell_type": "code",
   "execution_count": 4,
   "id": "da7b88a1",
   "metadata": {},
   "outputs": [
    {
     "name": "stdout",
     "output_type": "stream",
     "text": [
      "3\n",
      "Weird\n"
     ]
    }
   ],
   "source": [
    "# Python If-Else\n",
    "\n",
    "# Task \n",
    "# Given an integer, n, perform the following conditional actions:\n",
    "# If n is odd, print Weird\n",
    "# If n is even and in the inclusive range of 2 to 5, print Not Weird\n",
    "# If n is even and in the inclusive range of 6 to 20, print Weird\n",
    "# If n is even and greater than 20, print Not Weird\n",
    "\n",
    "# Input Format\n",
    "# A single line containing a positive integer, n.\n",
    "\n",
    "# Constraints\n",
    "# 1 <= n <= 100\n",
    "\n",
    "# Output Format\n",
    "# Print Weird if the number is weird; otherwise, print Not Weird.\n",
    "\n",
    "#!/bin/python\n",
    "\n",
    "# import sys\n",
    "\n",
    "\n",
    "\n",
    "if __name__ == '__main__':\n",
    "    n = int(input().strip())\n",
    "    if n%2 != 0:\n",
    "        print(\"Weird\")\n",
    "    else:\n",
    "        if n >=2 and n <=5:\n",
    "            print(\"Not Weird\")\n",
    "        elif n >=6 and n <=20:\n",
    "            print(\"Weird\")\n",
    "        elif n >20 :\n",
    "            print(\"Not Weird\")         \n",
    "         "
   ]
  },
  {
   "cell_type": "code",
   "execution_count": 5,
   "id": "f5f4064a",
   "metadata": {},
   "outputs": [
    {
     "name": "stdout",
     "output_type": "stream",
     "text": [
      "2\n",
      "3\n",
      "5\n",
      "-1\n",
      "6\n"
     ]
    }
   ],
   "source": [
    "# Task\n",
    "#The provided code stub reads two integers from STDIN,  and . Add code to print three lines where:\n",
    "\n",
    "#The first line contains the sum of the two numbers.\n",
    "#The second line contains the difference of the two numbers (first - second).\n",
    "#The third line contains the product of the two numbers.\n",
    "#Example\n",
    "#a=3 ,b=5\n",
    "if __name__ == '__main__':\n",
    "    a = int(input())\n",
    "    b = int(input())\n",
    "    print(a+b)\n",
    "    print(a-b)\n",
    "    print(a*b)"
   ]
  },
  {
   "cell_type": "code",
   "execution_count": 6,
   "id": "9f13e6f5",
   "metadata": {},
   "outputs": [
    {
     "name": "stdout",
     "output_type": "stream",
     "text": [
      "3\n",
      "5\n",
      "0\n",
      "0.6\n"
     ]
    }
   ],
   "source": [
    "#Task\n",
    "#The provided code stub reads two integers,  and , from STDIN.\n",
    "\n",
    "#Add logic to print two lines. The first line should contain the result of integer division,  \n",
    "# // . The second line should contain the result of float division,  / .\n",
    "#Example\n",
    "#a=3 ,b=5\n",
    "#The result of the integer division . 3//5=0\n",
    "#The result of the float division is . 3/5=0.6\n",
    "if __name__ == '__main__':\n",
    "    a = int(input())\n",
    "    b = int(input())\n",
    "    print(a//b)\n",
    "    print(a/b)\n",
    "    "
   ]
  },
  {
   "cell_type": "code",
   "execution_count": 10,
   "id": "d88b076f",
   "metadata": {},
   "outputs": [
    {
     "name": "stdout",
     "output_type": "stream",
     "text": [
      "3\n",
      "0\n",
      "1\n",
      "4\n"
     ]
    }
   ],
   "source": [
    "#Task\n",
    "#The provided code stub reads and integer, , from STDIN. For all non-negative integers , print .\n",
    "\n",
    "#Example\n",
    "#The provided code stub reads and integer,n , from STDIN. For all non-negative integers i<n , print .i**2\n",
    "#Example\n",
    "\n",
    "#The list of non-negative integers that are less than n=3 is [0,1,2] . Print the square of each number on a separate line.\n",
    "\n",
    "\n",
    "n = int(input())\n",
    "for i in range(n):\n",
    "    print(i*i) "
   ]
  },
  {
   "cell_type": "code",
   "execution_count": 56,
   "id": "9b3e280d",
   "metadata": {},
   "outputs": [
    {
     "name": "stdout",
     "output_type": "stream",
     "text": [
      "2021\n",
      "False\n"
     ]
    }
   ],
   "source": [
    "#An extra day is added to the calendar almost every four years as February 29, and the day is called a leap day. It corrects the calendar for the fact that our planet takes approximately 365.25 days to orbit the sun. A leap year contains a leap day.\n",
    "\n",
    "#In the Gregorian calendar, three conditions are used to identify leap years:\n",
    "\n",
    "#The year can be evenly divided by 4, is a leap year, unless:\n",
    "#The year can be evenly divided by 100, it is NOT a leap year, unless:\n",
    "#The year is also evenly divisible by 400. Then it is a leap year.\n",
    "#This means that in the Gregorian calendar, the years 2000 and 2400 are leap years, while 1800, 1900, 2100, 2200, 2300 and 2500 are NOT leap\n",
    "\n",
    "#Task\n",
    "\n",
    "#Given a year, determine whether it is a leap year. If it is a leap year, return the Boolean True, otherwise return False.\n",
    "\n",
    "#Note that the code stub provided reads from STDIN and passes arguments to the is_leap function. \n",
    "#It is only necessary to complete the is_leap function.\n",
    "\n",
    "def is_leap(year):\n",
    "    leap = False\n",
    "     \n",
    "    # Write your logic here\n",
    "    if year % 400 == 0:\n",
    "        leap = True\n",
    "    elif year % 100 == 0:\n",
    "        leap = False\n",
    "    elif year % 4 == 0:\n",
    "        leap = True\n",
    "        \n",
    "    return leap\n",
    "          \n",
    "\n",
    "year = int(input())\n",
    "print(is_leap(year))"
   ]
  },
  {
   "cell_type": "code",
   "execution_count": 57,
   "id": "18253196",
   "metadata": {},
   "outputs": [
    {
     "name": "stdout",
     "output_type": "stream",
     "text": [
      "1\n"
     ]
    }
   ],
   "source": [
    "print(2021%4)"
   ]
  },
  {
   "cell_type": "code",
   "execution_count": 63,
   "id": "c85ddf0b",
   "metadata": {},
   "outputs": [
    {
     "name": "stdout",
     "output_type": "stream",
     "text": [
      "5\n",
      "12345"
     ]
    }
   ],
   "source": [
    "# The included code stub will read an integer, , from STDIN.\n",
    "\n",
    "# Without using any string methods, try to print the following:\n",
    "# 123...n\n",
    "\n",
    "# Note that \"\" represents the consecutive values in between.\n",
    "\n",
    "# Example\n",
    "# n=5\n",
    "\n",
    "# Print the string 12345\n",
    "\n",
    "if __name__ == '__main__':\n",
    "    n = int(input())\n",
    "    for i in range(1,n+1):\n",
    "        print(i,end=\"\")"
   ]
  },
  {
   "cell_type": "code",
   "execution_count": 70,
   "id": "49392e87",
   "metadata": {
    "scrolled": true
   },
   "outputs": [
    {
     "name": "stdout",
     "output_type": "stream",
     "text": [
      "20\n",
      "3\n",
      "[3]\n"
     ]
    }
   ],
   "source": [
    "from collections import Counter\n",
    "X = int(input())\n",
    "shoe_sizes =list(map(int, input().split())) \n",
    "print(shoe_sizes)\n",
    "# N = int(input())\n",
    "# earnings = 0\n",
    "# for i in range(N):\n",
    "#     size, price = map(int, input().split())\n",
    "#     if shoe_sizes[size]:\n",
    "#         earnings += price\n",
    "#         shoe_sizes[size] -= 1\n",
    "# print(earnings)\n"
   ]
  },
  {
   "cell_type": "code",
   "execution_count": 72,
   "id": "f35db7b9",
   "metadata": {},
   "outputs": [
    {
     "name": "stdout",
     "output_type": "stream",
     "text": [
      "Enter the number of shoes :10\n",
      "9 5  3 4\n",
      "Number of customers :6\n",
      "9 55\n",
      "5 45\n",
      "4 30\n",
      "3 20\n",
      "9 55\n",
      "3 20\n",
      "150\n"
     ]
    }
   ],
   "source": [
    "X=int(input(\"Enter the number of shoes :\"))\n",
    "shoe_sizes = Counter(map(int, input().split())) \n",
    "N = int(input(\"Number of customers :\"))\n",
    "earnings = 0\n",
    "for i in range(N):\n",
    "    size, price = map(int, input().split())   #taking two inputs 1 for size and price\n",
    "    if shoe_sizes[size]:\n",
    "        earnings += price\n",
    "        shoe_sizes[size] -= 1\n",
    "print(earnings)\n"
   ]
  },
  {
   "cell_type": "code",
   "execution_count": 80,
   "id": "5c3ac290",
   "metadata": {},
   "outputs": [
    {
     "name": "stdout",
     "output_type": "stream",
     "text": [
      "defaultdict(<class 'list'>, {})\n",
      "('python', ['awesome', 'language'])\n",
      "('something-else', ['not relevant'])\n",
      "('bachelor', ['computerscience'])\n"
     ]
    }
   ],
   "source": [
    "from collections import defaultdict\n",
    "d = defaultdict(list)\n",
    "print(d)\n",
    "\n",
    "d['python'].append(\"awesome\")\n",
    "d['something-else'].append(\"not relevant\")\n",
    "d['python'].append(\"language\")\n",
    "d['bachelor'].append(\"computerscience\")\n",
    "for i in d.items():\n",
    "    print(i) "
   ]
  },
  {
   "cell_type": "code",
   "execution_count": 93,
   "id": "194c7709",
   "metadata": {},
   "outputs": [
    {
     "name": "stdout",
     "output_type": "stream",
     "text": [
      "5 4\n",
      "---for A(n)-----\n",
      "a\n",
      "a\n",
      "b\n",
      "a\n",
      "b\n",
      "---for B(m)-----\n",
      "a\n",
      "1 2 4\n",
      "c\n",
      "-1\n",
      "b\n",
      "3 5\n",
      "c\n",
      "-1\n"
     ]
    }
   ],
   "source": [
    "# from collections import defaultdict\n",
    "n,m = map(int,input().split()) #5 2     group A size n = 5, group B size m = 2\n",
    "d = defaultdict(list)\n",
    "print(\"---for A(n)-----\")\n",
    "for i in range(n):\n",
    "#     \n",
    "    d[input()].append(i+1)\n",
    "    \n",
    "print(\"---for B(m)-----\")    \n",
    "for i in range(m):\n",
    "    \n",
    "    print(*d[input()] or [-1])\n",
    "    "
   ]
  },
  {
   "cell_type": "code",
   "execution_count": null,
   "id": "782ed1fe",
   "metadata": {},
   "outputs": [],
   "source": []
  },
  {
   "cell_type": "code",
   "execution_count": 99,
   "id": "d2c68157",
   "metadata": {},
   "outputs": [
    {
     "name": "stdout",
     "output_type": "stream",
     "text": [
      "defaultdict(<class 'list'>, {'a': [1, 2, 4], 'b': [3, 5], 'c': [], <class 'list'>: []})\n"
     ]
    }
   ],
   "source": [
    "print(d)"
   ]
  },
  {
   "cell_type": "code",
   "execution_count": 102,
   "id": "75983f89",
   "metadata": {},
   "outputs": [
    {
     "name": "stdout",
     "output_type": "stream",
     "text": [
      "<module 'collections' from 'C:\\\\Users\\\\MUDASSIR RAZA\\\\anaconda3\\\\lib\\\\collections\\\\__init__.py'>\n"
     ]
    }
   ],
   "source": [
    " \n"
   ]
  },
  {
   "cell_type": "code",
   "execution_count": null,
   "id": "7b0afeb6",
   "metadata": {},
   "outputs": [],
   "source": []
  }
 ],
 "metadata": {
  "kernelspec": {
   "display_name": "Python 3 (ipykernel)",
   "language": "python",
   "name": "python3"
  },
  "language_info": {
   "codemirror_mode": {
    "name": "ipython",
    "version": 3
   },
   "file_extension": ".py",
   "mimetype": "text/x-python",
   "name": "python",
   "nbconvert_exporter": "python",
   "pygments_lexer": "ipython3",
   "version": "3.9.12"
  },
  "vscode": {
   "interpreter": {
    "hash": "02905ec98eafd26b0a5e89509b14ca35f002d9c808422b805683642982593c25"
   }
  }
 },
 "nbformat": 4,
 "nbformat_minor": 5
}
