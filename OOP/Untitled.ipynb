{
 "cells": [
  {
   "cell_type": "code",
   "execution_count": 23,
   "id": "d46e1e78",
   "metadata": {},
   "outputs": [],
   "source": [
    "class Dog():\n",
    "    \n",
    "        def __init__(self, age,breed, name=\"Dog\") :\n",
    "            \n",
    "            # Attrributes\n",
    "            self.name = name\n",
    "            self.age = age\n",
    "            self.breed = breed\n",
    "        \n",
    "        # Actions\n",
    "        def sit(self):\n",
    "         \"\"\"Simulate a dog sitting in response to a command.\"\"\"\n",
    "         print(self.name.title() + \" is now sitting.\")\n",
    "        \n",
    "        \n",
    "        def roll_over(self):\n",
    "         \"\"\"Simulate rolling over in response to a command.\"\"\"\n",
    "         print(self.name.title() + \" rolled over!\")\n"
   ]
  },
  {
   "cell_type": "code",
   "execution_count": 24,
   "id": "72f11db2",
   "metadata": {},
   "outputs": [],
   "source": [
    "dog1 = Dog(2, \"German\", \"Tonny\")\n",
    "# whenever an object is created, it automatically calls the class initializer\n",
    "# if we are nor making initializer in the class, object will be created"
   ]
  },
  {
   "cell_type": "code",
   "execution_count": 25,
   "id": "3d10c745",
   "metadata": {},
   "outputs": [],
   "source": [
    "# An object inherits every thing that a class have because object is an instance of class"
   ]
  },
  {
   "cell_type": "code",
   "execution_count": 26,
   "id": "c9ebb1db",
   "metadata": {},
   "outputs": [
    {
     "data": {
      "text/plain": [
       "'Tonny'"
      ]
     },
     "execution_count": 26,
     "metadata": {},
     "output_type": "execute_result"
    }
   ],
   "source": [
    "dog1.name"
   ]
  },
  {
   "cell_type": "code",
   "execution_count": 27,
   "id": "681c0df6",
   "metadata": {},
   "outputs": [
    {
     "data": {
      "text/plain": [
       "2"
      ]
     },
     "execution_count": 27,
     "metadata": {},
     "output_type": "execute_result"
    }
   ],
   "source": [
    "dog1.age"
   ]
  },
  {
   "cell_type": "code",
   "execution_count": 28,
   "id": "6e6b6f02",
   "metadata": {},
   "outputs": [
    {
     "data": {
      "text/plain": [
       "'German'"
      ]
     },
     "execution_count": 28,
     "metadata": {},
     "output_type": "execute_result"
    }
   ],
   "source": [
    "dog1.breed\n"
   ]
  },
  {
   "cell_type": "code",
   "execution_count": 29,
   "id": "ffe80525",
   "metadata": {},
   "outputs": [
    {
     "name": "stdout",
     "output_type": "stream",
     "text": [
      "Tonny is now sitting.\n"
     ]
    }
   ],
   "source": [
    "dog1.sit()"
   ]
  },
  {
   "cell_type": "code",
   "execution_count": 30,
   "id": "94d048bd",
   "metadata": {},
   "outputs": [
    {
     "name": "stdout",
     "output_type": "stream",
     "text": [
      "Tonny rolled over!\n"
     ]
    }
   ],
   "source": [
    "dog1.roll_over()"
   ]
  },
  {
   "cell_type": "code",
   "execution_count": 31,
   "id": "38f9f491",
   "metadata": {},
   "outputs": [],
   "source": [
    "dog2 = Dog(1,\"American\")"
   ]
  },
  {
   "cell_type": "code",
   "execution_count": 10,
   "id": "c881db08",
   "metadata": {},
   "outputs": [
    {
     "data": {
      "text/plain": [
       "'Dog'"
      ]
     },
     "execution_count": 10,
     "metadata": {},
     "output_type": "execute_result"
    }
   ],
   "source": [
    "dog2.name"
   ]
  },
  {
   "cell_type": "code",
   "execution_count": 11,
   "id": "5e6a0aa6",
   "metadata": {},
   "outputs": [
    {
     "data": {
      "text/plain": [
       "1"
      ]
     },
     "execution_count": 11,
     "metadata": {},
     "output_type": "execute_result"
    }
   ],
   "source": [
    "dog2.age"
   ]
  },
  {
   "cell_type": "code",
   "execution_count": 12,
   "id": "21b79b9c",
   "metadata": {},
   "outputs": [
    {
     "data": {
      "text/plain": [
       "'American'"
      ]
     },
     "execution_count": 12,
     "metadata": {},
     "output_type": "execute_result"
    }
   ],
   "source": [
    "dog2.breed\n"
   ]
  },
  {
   "cell_type": "code",
   "execution_count": 13,
   "id": "a8fa7c9d",
   "metadata": {},
   "outputs": [
    {
     "name": "stdout",
     "output_type": "stream",
     "text": [
      "Dog is now sitting.\n"
     ]
    }
   ],
   "source": [
    "dog2.sit()"
   ]
  },
  {
   "cell_type": "code",
   "execution_count": 14,
   "id": "59e925bd",
   "metadata": {},
   "outputs": [
    {
     "name": "stdout",
     "output_type": "stream",
     "text": [
      "Dog rolled over!\n"
     ]
    }
   ],
   "source": [
    "dog2.roll_over()"
   ]
  },
  {
   "cell_type": "code",
   "execution_count": 15,
   "id": "f7546225",
   "metadata": {},
   "outputs": [],
   "source": [
    "dog3 = Dog(\"2\",\"Breed\",\"Jecky\")"
   ]
  },
  {
   "cell_type": "code",
   "execution_count": 16,
   "id": "15618579",
   "metadata": {},
   "outputs": [
    {
     "name": "stdout",
     "output_type": "stream",
     "text": [
      "Jecky is now sitting.\n"
     ]
    }
   ],
   "source": [
    "Dog.sit(dog3)\n",
    "\n",
    "# If we call a method or property this way,\n",
    "#we will supply object name/reference explicitly"
   ]
  },
  {
   "cell_type": "code",
   "execution_count": 17,
   "id": "95120d7a",
   "metadata": {},
   "outputs": [
    {
     "name": "stdout",
     "output_type": "stream",
     "text": [
      "Jecky is now sitting.\n"
     ]
    }
   ],
   "source": [
    "dog3.sit()\n",
    "# If we call a method or property this way,\n",
    "#oBJECT NAME/REFERENCE itself goes with the call."
   ]
  },
  {
   "cell_type": "code",
   "execution_count": 18,
   "id": "d1baa241",
   "metadata": {},
   "outputs": [],
   "source": [
    "class Patient():\n",
    "    def __init__(self,name,gender,disease,contact):\n",
    "        self.Patient_name=name\n",
    "        self.Patient_gender=gender\n",
    "        self.Patient_disease=disease\n",
    "        self.Patient_contact=contact\n",
    "        \n",
    "    def take_medicine(self):\n",
    "        print(f\"{self.patient_name} is taking medicine\")\n",
    "        \n",
    "    def patient_details(self):\n",
    "        print(f\"\"\"\n",
    "        Name:{self.Patient_name}\n",
    "        Gender:{self.Patient_gender}\n",
    "        Disease: {self.patient_disease}\n",
    "        Contact: {self.patient_contact}\n",
    "               \n",
    "       \"\"\")\n",
    "        \n",
    "    # Getter \n",
    "    def get_name(self):\n",
    "        return self.Patient_name\n",
    "     \n",
    "    \n",
    "    # Setter\n",
    "    def set_name(self,newName): \n",
    "        self.patient_name = newName\n",
    "        \n",
    "    def get_gender(self):\n",
    "        return self.patient_gender\n",
    "    \n",
    "    # Setter\n",
    "    def set_gender(self,newGender):       \n",
    "        self.patient_gender = newGender\n",
    "    "
   ]
  },
  {
   "cell_type": "code",
   "execution_count": 22,
   "id": "1c3116f2",
   "metadata": {},
   "outputs": [
    {
     "ename": "AttributeError",
     "evalue": "'Patient' object has no attribute 'name'",
     "output_type": "error",
     "traceback": [
      "\u001b[1;31m---------------------------------------------------------------------------\u001b[0m",
      "\u001b[1;31mAttributeError\u001b[0m                            Traceback (most recent call last)",
      "Input \u001b[1;32mIn [22]\u001b[0m, in \u001b[0;36m<cell line: 2>\u001b[1;34m()\u001b[0m\n\u001b[0;32m      1\u001b[0m patient1 \u001b[38;5;241m=\u001b[39m Patient(\u001b[38;5;124m\"\u001b[39m\u001b[38;5;124mTom\u001b[39m\u001b[38;5;124m\"\u001b[39m, \u001b[38;5;124m\"\u001b[39m\u001b[38;5;124mMale\u001b[39m\u001b[38;5;124m\"\u001b[39m, \u001b[38;5;124m\"\u001b[39m\u001b[38;5;124mHigh Bp\u001b[39m\u001b[38;5;124m\"\u001b[39m,\u001b[38;5;124m\"\u001b[39m\u001b[38;5;124m12345678\u001b[39m\u001b[38;5;124m\"\u001b[39m)\n\u001b[1;32m----> 2\u001b[0m \u001b[43mpatient1\u001b[49m\u001b[38;5;241;43m.\u001b[39;49m\u001b[43mname\u001b[49m\n",
      "\u001b[1;31mAttributeError\u001b[0m: 'Patient' object has no attribute 'name'"
     ]
    }
   ],
   "source": [
    "patient1 = Patient(\"Tom\", \"Male\", \"High Bp\",\"12345678\")\n",
    "patient1.name"
   ]
  },
  {
   "cell_type": "code",
   "execution_count": 21,
   "id": "9fa8a933",
   "metadata": {},
   "outputs": [
    {
     "ename": "AttributeError",
     "evalue": "'Patient' object has no attribute 'name'",
     "output_type": "error",
     "traceback": [
      "\u001b[1;31m---------------------------------------------------------------------------\u001b[0m",
      "\u001b[1;31mAttributeError\u001b[0m                            Traceback (most recent call last)",
      "Input \u001b[1;32mIn [21]\u001b[0m, in \u001b[0;36m<cell line: 2>\u001b[1;34m()\u001b[0m\n\u001b[0;32m      1\u001b[0m patient2 \u001b[38;5;241m=\u001b[39m Patient(\u001b[38;5;124m\"\u001b[39m\u001b[38;5;124mJONNY\u001b[39m\u001b[38;5;124m\"\u001b[39m, \u001b[38;5;124m\"\u001b[39m\u001b[38;5;124mMale\u001b[39m\u001b[38;5;124m\"\u001b[39m,\u001b[38;5;124m\"\u001b[39m\u001b[38;5;124mHeadache\u001b[39m\u001b[38;5;124m\"\u001b[39m,\u001b[38;5;124m'\u001b[39m\u001b[38;5;124m87654321\u001b[39m\u001b[38;5;124m'\u001b[39m)\n\u001b[1;32m----> 2\u001b[0m \u001b[38;5;28mprint\u001b[39m(\u001b[43mpatient2\u001b[49m\u001b[38;5;241;43m.\u001b[39;49m\u001b[43mname\u001b[49m)\n",
      "\u001b[1;31mAttributeError\u001b[0m: 'Patient' object has no attribute 'name'"
     ]
    }
   ],
   "source": [
    "patient2 = Patient(\"JONNY\", \"Male\",\"Headache\",'87654321')\n",
    "print(patient2.name)"
   ]
  },
  {
   "cell_type": "code",
   "execution_count": null,
   "id": "a7ee335b",
   "metadata": {},
   "outputs": [],
   "source": [
    "patient2.name "
   ]
  },
  {
   "cell_type": "code",
   "execution_count": null,
   "id": "41d461f6",
   "metadata": {},
   "outputs": [],
   "source": [
    "patient1.disease"
   ]
  },
  {
   "cell_type": "code",
   "execution_count": null,
   "id": "3cb772ba",
   "metadata": {},
   "outputs": [],
   "source": [
    "patient2.name"
   ]
  },
  {
   "cell_type": "code",
   "execution_count": null,
   "id": "f8d63f8b",
   "metadata": {},
   "outputs": [],
   "source": [
    "Patient.take_medicine(patient1)\n"
   ]
  },
  {
   "cell_type": "code",
   "execution_count": null,
   "id": "efd60bc2",
   "metadata": {},
   "outputs": [],
   "source": []
  }
 ],
 "metadata": {
  "kernelspec": {
   "display_name": "Python 3.9.12 ('base')",
   "language": "python",
   "name": "python3"
  },
  "language_info": {
   "codemirror_mode": {
    "name": "ipython",
    "version": 3
   },
   "file_extension": ".py",
   "mimetype": "text/x-python",
   "name": "python",
   "nbconvert_exporter": "python",
   "pygments_lexer": "ipython3",
   "version": "3.9.12"
  },
  "vscode": {
   "interpreter": {
    "hash": "02905ec98eafd26b0a5e89509b14ca35f002d9c808422b805683642982593c25"
   }
  }
 },
 "nbformat": 4,
 "nbformat_minor": 5
}
