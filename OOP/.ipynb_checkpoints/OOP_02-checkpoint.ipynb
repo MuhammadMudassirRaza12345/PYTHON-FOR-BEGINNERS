{
 "cells": [
  {
   "cell_type": "code",
   "execution_count": 1,
   "id": "b40c6614",
   "metadata": {},
   "outputs": [],
   "source": [
    "class Dog():\n",
    "    \n",
    "        def __init__(self, age,breed, name=\"Dog\") :\n",
    "            \n",
    "            # Attrributes\n",
    "            self.name = name\n",
    "            self.age = age\n",
    "            self.breed = breed\n",
    "        \n",
    "        # Actions\n",
    "        def sit(self):\n",
    "         \"\"\"Simulate a dog sitting in response to a command.\"\"\"\n",
    "         print(self.name.title() + \" is now sitting.\")\n",
    "        \n",
    "        \n",
    "        def roll_over(self):\n",
    "         \"\"\"Simulate rolling over in response to a command.\"\"\"\n",
    "         print(self.name.title() + \" rolled over!\")\n"
   ]
  },
  {
   "cell_type": "code",
   "execution_count": 2,
   "id": "f47dcdf0",
   "metadata": {},
   "outputs": [],
   "source": [
    "dog1 = Dog(2, \"German\", \"Tonny\")\n",
    "# whenever an object is created, it automatically calls the class initializer\n",
    "# if we are nor making initializer in the class, object will be created"
   ]
  },
  {
   "cell_type": "code",
   "execution_count": 3,
   "id": "5c96f5c2",
   "metadata": {},
   "outputs": [],
   "source": [
    "# An object inherits every thing that a class have because object is an instance of class"
   ]
  },
  {
   "cell_type": "code",
   "execution_count": 4,
   "id": "8377ff7e",
   "metadata": {},
   "outputs": [
    {
     "data": {
      "text/plain": [
       "'Tonny'"
      ]
     },
     "execution_count": 4,
     "metadata": {},
     "output_type": "execute_result"
    }
   ],
   "source": [
    "dog1.name"
   ]
  },
  {
   "cell_type": "code",
   "execution_count": 5,
   "id": "d6b5cd80",
   "metadata": {},
   "outputs": [
    {
     "data": {
      "text/plain": [
       "2"
      ]
     },
     "execution_count": 5,
     "metadata": {},
     "output_type": "execute_result"
    }
   ],
   "source": [
    "dog1.age"
   ]
  },
  {
   "cell_type": "code",
   "execution_count": 6,
   "id": "4a378077",
   "metadata": {},
   "outputs": [
    {
     "data": {
      "text/plain": [
       "'German'"
      ]
     },
     "execution_count": 6,
     "metadata": {},
     "output_type": "execute_result"
    }
   ],
   "source": [
    "dog1.breed\n"
   ]
  },
  {
   "cell_type": "code",
   "execution_count": 7,
   "id": "ff57c5f1",
   "metadata": {},
   "outputs": [
    {
     "name": "stdout",
     "output_type": "stream",
     "text": [
      "Tonny is now sitting.\n"
     ]
    }
   ],
   "source": [
    "dog1.sit()"
   ]
  },
  {
   "cell_type": "code",
   "execution_count": 8,
   "id": "e880b74a",
   "metadata": {},
   "outputs": [
    {
     "name": "stdout",
     "output_type": "stream",
     "text": [
      "Tonny rolled over!\n"
     ]
    }
   ],
   "source": [
    "dog1.roll_over()"
   ]
  },
  {
   "cell_type": "code",
   "execution_count": 9,
   "id": "d86e82c9",
   "metadata": {},
   "outputs": [],
   "source": [
    "dog2 = Dog(1,\"American\")"
   ]
  },
  {
   "cell_type": "code",
   "execution_count": 10,
   "id": "5ad94a87",
   "metadata": {},
   "outputs": [
    {
     "data": {
      "text/plain": [
       "'Dog'"
      ]
     },
     "execution_count": 10,
     "metadata": {},
     "output_type": "execute_result"
    }
   ],
   "source": [
    "dog2.name"
   ]
  },
  {
   "cell_type": "code",
   "execution_count": 11,
   "id": "5757a70d",
   "metadata": {},
   "outputs": [
    {
     "data": {
      "text/plain": [
       "1"
      ]
     },
     "execution_count": 11,
     "metadata": {},
     "output_type": "execute_result"
    }
   ],
   "source": [
    "dog2.age"
   ]
  },
  {
   "cell_type": "code",
   "execution_count": 12,
   "id": "5bf4e956",
   "metadata": {},
   "outputs": [
    {
     "data": {
      "text/plain": [
       "'American'"
      ]
     },
     "execution_count": 12,
     "metadata": {},
     "output_type": "execute_result"
    }
   ],
   "source": [
    "dog2.breed\n"
   ]
  },
  {
   "cell_type": "code",
   "execution_count": 13,
   "id": "73afc808",
   "metadata": {},
   "outputs": [
    {
     "name": "stdout",
     "output_type": "stream",
     "text": [
      "Dog is now sitting.\n"
     ]
    }
   ],
   "source": [
    "dog2.sit()"
   ]
  },
  {
   "cell_type": "code",
   "execution_count": 14,
   "id": "252e68d7",
   "metadata": {},
   "outputs": [
    {
     "name": "stdout",
     "output_type": "stream",
     "text": [
      "Dog rolled over!\n"
     ]
    }
   ],
   "source": [
    "dog2.roll_over()"
   ]
  },
  {
   "cell_type": "code",
   "execution_count": 15,
   "id": "a144ac28",
   "metadata": {},
   "outputs": [],
   "source": [
    "dog3 = Dog(\"2\",\"Breed\",\"Jecky\")"
   ]
  },
  {
   "cell_type": "code",
   "execution_count": 16,
   "id": "9ab34317",
   "metadata": {},
   "outputs": [
    {
     "name": "stdout",
     "output_type": "stream",
     "text": [
      "Jecky is now sitting.\n"
     ]
    }
   ],
   "source": [
    "Dog.sit(dog3)\n",
    "\n",
    "# If we call a method or property this way,\n",
    "#we will supply object name/reference explicitly"
   ]
  },
  {
   "cell_type": "code",
   "execution_count": 17,
   "id": "20142e86",
   "metadata": {},
   "outputs": [
    {
     "name": "stdout",
     "output_type": "stream",
     "text": [
      "Jecky is now sitting.\n"
     ]
    }
   ],
   "source": [
    "dog3.sit()\n",
    "# If we call a method or property this way,\n",
    "#oBJECT NAME/REFERENCE itself goes with the call."
   ]
  },
  {
   "cell_type": "code",
   "execution_count": 18,
   "id": "18c9e1e5",
   "metadata": {},
   "outputs": [],
   "source": [
    "class Patient():\n",
    "    def __init__(self,name,gender,disease,contact):\n",
    "        self.name=name\n",
    "        self.gender=gender\n",
    "        self.disease=disease\n",
    "        self.contact=contact\n",
    "        \n",
    "    def take_medicine(self):\n",
    "        print(f\"{self.name} is taking medicine\")\n",
    "        \n",
    "    def patient_details(self):\n",
    "        print(f\"\"\"\n",
    "        Name:{self.name}\n",
    "        Gender:{self.gender}\n",
    "        Disease: {self.disease}\n",
    "        Contact: {self.contact}\n",
    "               \n",
    "       \"\"\")\n",
    "        \n",
    "    # Getter \n",
    "    def get_name(self):\n",
    "        return self.name\n",
    "    \n",
    "     def get_gender(self):  \n",
    "            return self.gender \n",
    "         \n",
    "     \n",
    "    \n",
    "    # Setter\n",
    "    def set_name(self,newName): \n",
    "        self.name = newName\n",
    "        \n",
    "    def get_gender(self):\n",
    "        return self.gender\n",
    "    \n",
    "    # Setter\n",
    "    def set_gender(self,newGender):       \n",
    "        self.gender = newGender\n",
    "    "
   ]
  },
  {
   "cell_type": "code",
   "execution_count": 19,
   "id": "e50f1238",
   "metadata": {},
   "outputs": [
    {
     "data": {
      "text/plain": [
       "'Tom'"
      ]
     },
     "execution_count": 19,
     "metadata": {},
     "output_type": "execute_result"
    }
   ],
   "source": [
    "patient1 = Patient(\"Tom\", \"Male\", \"High Bp\",\"12345678\")\n",
    "patient1.name"
   ]
  },
  {
   "cell_type": "code",
   "execution_count": 20,
   "id": "74eb748a",
   "metadata": {},
   "outputs": [
    {
     "name": "stdout",
     "output_type": "stream",
     "text": [
      "JONNY\n"
     ]
    }
   ],
   "source": [
    "patient2 = Patient(\"JONNY\", \"Male\",\"Headache\",'87654321')\n",
    "print(patient2.name)"
   ]
  },
  {
   "cell_type": "code",
   "execution_count": 21,
   "id": "37ae4f4b",
   "metadata": {},
   "outputs": [
    {
     "data": {
      "text/plain": [
       "'JONNY'"
      ]
     },
     "execution_count": 21,
     "metadata": {},
     "output_type": "execute_result"
    }
   ],
   "source": [
    "patient2.name "
   ]
  },
  {
   "cell_type": "code",
   "execution_count": 22,
   "id": "02e641ce",
   "metadata": {},
   "outputs": [
    {
     "data": {
      "text/plain": [
       "'High Bp'"
      ]
     },
     "execution_count": 22,
     "metadata": {},
     "output_type": "execute_result"
    }
   ],
   "source": [
    "patient1.disease"
   ]
  },
  {
   "cell_type": "code",
   "execution_count": 23,
   "id": "0b2e976b",
   "metadata": {},
   "outputs": [
    {
     "data": {
      "text/plain": [
       "'JONNY'"
      ]
     },
     "execution_count": 23,
     "metadata": {},
     "output_type": "execute_result"
    }
   ],
   "source": [
    "patient2.name"
   ]
  },
  {
   "cell_type": "code",
   "execution_count": 24,
   "id": "b312af18",
   "metadata": {},
   "outputs": [
    {
     "name": "stdout",
     "output_type": "stream",
     "text": [
      "Tom is taking medicine\n"
     ]
    }
   ],
   "source": [
    "Patient.take_medicine(patient1)\n"
   ]
  },
  {
   "cell_type": "code",
   "execution_count": 25,
   "id": "39939a07",
   "metadata": {},
   "outputs": [
    {
     "name": "stdout",
     "output_type": "stream",
     "text": [
      "Tom is taking medicine\n"
     ]
    }
   ],
   "source": [
    "patient1.take_medicine()"
   ]
  },
  {
   "cell_type": "code",
   "execution_count": 26,
   "id": "9477d82d",
   "metadata": {},
   "outputs": [
    {
     "name": "stdout",
     "output_type": "stream",
     "text": [
      "\n",
      "        Name:JONNY\n",
      "        Gender:Male\n",
      "        Disease: Headache\n",
      "        Contact: 87654321\n",
      "               \n",
      "       \n"
     ]
    }
   ],
   "source": [
    "patient2.patient_details()"
   ]
  },
  {
   "cell_type": "markdown",
   "id": "039587fb",
   "metadata": {},
   "source": [
    "# Updating a attrribute's value\n",
    "\n",
    "# Direclty"
   ]
  },
  {
   "cell_type": "code",
   "execution_count": 35,
   "id": "8975d4f0",
   "metadata": {},
   "outputs": [
    {
     "data": {
      "text/plain": [
       "'High Bp'"
      ]
     },
     "execution_count": 35,
     "metadata": {},
     "output_type": "execute_result"
    }
   ],
   "source": [
    "patient1.disease"
   ]
  },
  {
   "cell_type": "code",
   "execution_count": 36,
   "id": "8f8003ba",
   "metadata": {},
   "outputs": [],
   "source": [
    "patient1.disease = \"Low Bp\""
   ]
  },
  {
   "cell_type": "code",
   "execution_count": 37,
   "id": "8b09531f",
   "metadata": {},
   "outputs": [
    {
     "data": {
      "text/plain": [
       "'Low Bp'"
      ]
     },
     "execution_count": 37,
     "metadata": {},
     "output_type": "execute_result"
    }
   ],
   "source": [
    "patient1.disease"
   ]
  },
  {
   "cell_type": "code",
   "execution_count": 38,
   "id": "c349dfaa",
   "metadata": {},
   "outputs": [
    {
     "name": "stdout",
     "output_type": "stream",
     "text": [
      "\n",
      "        Name:John\n",
      "        Gender:Female\n",
      "        Disease: Low Bp\n",
      "        Contact: 12345678\n",
      "               \n",
      "       \n"
     ]
    }
   ],
   "source": [
    "patient1.patient_details()"
   ]
  },
  {
   "cell_type": "code",
   "execution_count": 39,
   "id": "40765ef2",
   "metadata": {},
   "outputs": [],
   "source": [
    "# Changing attributes value directly is totally not a good approach"
   ]
  },
  {
   "cell_type": "markdown",
   "id": "d897704e",
   "metadata": {},
   "source": [
    "# GETTERs & SETTERS\n",
    "\n",
    "# Changing attribute's value by Get SET"
   ]
  },
  {
   "cell_type": "code",
   "execution_count": 27,
   "id": "06bdbd59",
   "metadata": {},
   "outputs": [
    {
     "data": {
      "text/plain": [
       "'Tom'"
      ]
     },
     "execution_count": 27,
     "metadata": {},
     "output_type": "execute_result"
    }
   ],
   "source": [
    "patient1.get_name()"
   ]
  },
  {
   "cell_type": "code",
   "execution_count": 28,
   "id": "1042b34a",
   "metadata": {},
   "outputs": [],
   "source": [
    "patient1.set_name('John')"
   ]
  },
  {
   "cell_type": "code",
   "execution_count": 29,
   "id": "3ac05edf",
   "metadata": {},
   "outputs": [
    {
     "data": {
      "text/plain": [
       "'John'"
      ]
     },
     "execution_count": 29,
     "metadata": {},
     "output_type": "execute_result"
    }
   ],
   "source": [
    "patient1.get_name()"
   ]
  },
  {
   "cell_type": "code",
   "execution_count": 30,
   "id": "41fd58da",
   "metadata": {},
   "outputs": [],
   "source": [
    "patient1.set_gender('Female')"
   ]
  },
  {
   "cell_type": "code",
   "execution_count": 1,
   "id": "26c2a30c",
   "metadata": {},
   "outputs": [
    {
     "ename": "NameError",
     "evalue": "name 'patient1' is not defined",
     "output_type": "error",
     "traceback": [
      "\u001b[1;31m---------------------------------------------------------------------------\u001b[0m",
      "\u001b[1;31mNameError\u001b[0m                                 Traceback (most recent call last)",
      "Input \u001b[1;32mIn [1]\u001b[0m, in \u001b[0;36m<cell line: 1>\u001b[1;34m()\u001b[0m\n\u001b[1;32m----> 1\u001b[0m \u001b[43mpatient1\u001b[49m\u001b[38;5;241m.\u001b[39mget_gender(\u001b[38;5;124m'\u001b[39m\u001b[38;5;124mFemale\u001b[39m\u001b[38;5;124m'\u001b[39m)\n",
      "\u001b[1;31mNameError\u001b[0m: name 'patient1' is not defined"
     ]
    }
   ],
   "source": [
    "patient1.get_gender('Female')"
   ]
  },
  {
   "cell_type": "code",
   "execution_count": 32,
   "id": "28e96d2a",
   "metadata": {},
   "outputs": [
    {
     "data": {
      "text/plain": [
       "'John'"
      ]
     },
     "execution_count": 32,
     "metadata": {},
     "output_type": "execute_result"
    }
   ],
   "source": [
    "patient1.get_name()"
   ]
  },
  {
   "cell_type": "code",
   "execution_count": 34,
   "id": "8e24b8cb",
   "metadata": {},
   "outputs": [
    {
     "data": {
      "text/plain": [
       "'Female'"
      ]
     },
     "execution_count": 34,
     "metadata": {},
     "output_type": "execute_result"
    }
   ],
   "source": [
    "patient1.get_gender()"
   ]
  },
  {
   "cell_type": "code",
   "execution_count": null,
   "id": "c6902ab2",
   "metadata": {},
   "outputs": [],
   "source": []
  }
 ],
 "metadata": {
  "kernelspec": {
   "display_name": "Python 3 (ipykernel)",
   "language": "python",
   "name": "python3"
  },
  "language_info": {
   "codemirror_mode": {
    "name": "ipython",
    "version": 3
   },
   "file_extension": ".py",
   "mimetype": "text/x-python",
   "name": "python",
   "nbconvert_exporter": "python",
   "pygments_lexer": "ipython3",
   "version": "3.9.12"
  }
 },
 "nbformat": 4,
 "nbformat_minor": 5
}
