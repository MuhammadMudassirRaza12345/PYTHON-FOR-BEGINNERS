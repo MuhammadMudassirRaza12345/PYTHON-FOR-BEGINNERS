{
 "cells": [
  {
   "cell_type": "code",
   "execution_count": 1,
   "id": "1b236f27",
   "metadata": {},
   "outputs": [],
   "source": [
    "class Dog():\n",
    "    \n",
    "        def __init__(self, age,breed, name=\"Dog\") :\n",
    "            \n",
    "            # Attrributes\n",
    "            self.name = name\n",
    "            self.age = age\n",
    "            self.breed = breed\n",
    "        \n",
    "        # Actions\n",
    "        def sit(self):\n",
    "         \"\"\"Simulate a dog sitting in response to a command.\"\"\"\n",
    "         print(self.name.title() + \" is now sitting.\")\n",
    "        \n",
    "        \n",
    "        def roll_over(self):\n",
    "         \"\"\"Simulate rolling over in response to a command.\"\"\"\n",
    "         print(self.name.title() + \" rolled over!\")\n"
   ]
  },
  {
   "cell_type": "code",
   "execution_count": 2,
   "id": "c26baacc",
   "metadata": {},
   "outputs": [],
   "source": [
    "dog1 = Dog(2, \"German\", \"Tonny\")\n",
    "# whenever an object is created, it automatically calls the class initializer\n",
    "# if we are nor making initializer in the class, object will be created"
   ]
  },
  {
   "cell_type": "code",
   "execution_count": 3,
   "id": "d3266414",
   "metadata": {},
   "outputs": [],
   "source": [
    "# An object inherits every thing that a class have because object is an instance of class"
   ]
  },
  {
   "cell_type": "code",
   "execution_count": 4,
   "id": "a38e2288",
   "metadata": {},
   "outputs": [
    {
     "data": {
      "text/plain": [
       "'Tonny'"
      ]
     },
     "execution_count": 4,
     "metadata": {},
     "output_type": "execute_result"
    }
   ],
   "source": [
    "dog1.name"
   ]
  },
  {
   "cell_type": "code",
   "execution_count": 5,
   "id": "01870de0",
   "metadata": {},
   "outputs": [
    {
     "data": {
      "text/plain": [
       "2"
      ]
     },
     "execution_count": 5,
     "metadata": {},
     "output_type": "execute_result"
    }
   ],
   "source": [
    "dog1.age"
   ]
  },
  {
   "cell_type": "code",
   "execution_count": 6,
   "id": "d3851182",
   "metadata": {},
   "outputs": [
    {
     "data": {
      "text/plain": [
       "'German'"
      ]
     },
     "execution_count": 6,
     "metadata": {},
     "output_type": "execute_result"
    }
   ],
   "source": [
    "dog1.breed\n"
   ]
  },
  {
   "cell_type": "code",
   "execution_count": 7,
   "id": "397f51c4",
   "metadata": {},
   "outputs": [
    {
     "name": "stdout",
     "output_type": "stream",
     "text": [
      "Tonny is now sitting.\n"
     ]
    }
   ],
   "source": [
    "dog1.sit()"
   ]
  },
  {
   "cell_type": "code",
   "execution_count": 8,
   "id": "3a2b6389",
   "metadata": {},
   "outputs": [
    {
     "name": "stdout",
     "output_type": "stream",
     "text": [
      "Tonny rolled over!\n"
     ]
    }
   ],
   "source": [
    "dog1.roll_over()"
   ]
  },
  {
   "cell_type": "code",
   "execution_count": 9,
   "id": "787ef893",
   "metadata": {},
   "outputs": [],
   "source": [
    "dog2 = Dog(1,\"American\")"
   ]
  },
  {
   "cell_type": "code",
   "execution_count": 10,
   "id": "263177f6",
   "metadata": {},
   "outputs": [
    {
     "data": {
      "text/plain": [
       "'Dog'"
      ]
     },
     "execution_count": 10,
     "metadata": {},
     "output_type": "execute_result"
    }
   ],
   "source": [
    "dog2.name"
   ]
  },
  {
   "cell_type": "code",
   "execution_count": 11,
   "id": "2dc6f4d7",
   "metadata": {},
   "outputs": [
    {
     "data": {
      "text/plain": [
       "1"
      ]
     },
     "execution_count": 11,
     "metadata": {},
     "output_type": "execute_result"
    }
   ],
   "source": [
    "dog2.age"
   ]
  },
  {
   "cell_type": "code",
   "execution_count": 12,
   "id": "70f0b1f1",
   "metadata": {},
   "outputs": [
    {
     "data": {
      "text/plain": [
       "'American'"
      ]
     },
     "execution_count": 12,
     "metadata": {},
     "output_type": "execute_result"
    }
   ],
   "source": [
    "dog2.breed\n"
   ]
  },
  {
   "cell_type": "code",
   "execution_count": 13,
   "id": "40c3270c",
   "metadata": {},
   "outputs": [
    {
     "name": "stdout",
     "output_type": "stream",
     "text": [
      "Dog is now sitting.\n"
     ]
    }
   ],
   "source": [
    "dog2.sit()"
   ]
  },
  {
   "cell_type": "code",
   "execution_count": 14,
   "id": "69c943f5",
   "metadata": {},
   "outputs": [
    {
     "name": "stdout",
     "output_type": "stream",
     "text": [
      "Dog rolled over!\n"
     ]
    }
   ],
   "source": [
    "dog2.roll_over()"
   ]
  },
  {
   "cell_type": "code",
   "execution_count": 15,
   "id": "a9d68022",
   "metadata": {},
   "outputs": [],
   "source": [
    "dog3 = Dog(\"2\",\"Breed\",\"Jecky\")"
   ]
  },
  {
   "cell_type": "code",
   "execution_count": 16,
   "id": "79963392",
   "metadata": {},
   "outputs": [
    {
     "name": "stdout",
     "output_type": "stream",
     "text": [
      "Jecky is now sitting.\n"
     ]
    }
   ],
   "source": [
    "Dog.sit(dog3)\n",
    "\n",
    "# If we call a method or property this way,\n",
    "#we will supply object name/reference explicitly"
   ]
  },
  {
   "cell_type": "code",
   "execution_count": 17,
   "id": "014e3e94",
   "metadata": {},
   "outputs": [
    {
     "name": "stdout",
     "output_type": "stream",
     "text": [
      "Jecky is now sitting.\n"
     ]
    }
   ],
   "source": [
    "dog3.sit()\n",
    "# If we call a method or property this way,\n",
    "#oBJECT NAME/REFERENCE itself goes with the call."
   ]
  },
  {
   "cell_type": "code",
   "execution_count": 18,
   "id": "f3837e73",
   "metadata": {},
   "outputs": [],
   "source": [
    "class Patient():\n",
    "    def __init__(self,name,gender,disease,contact):\n",
    "        self.name=name\n",
    "        self.gender=gender\n",
    "        self.disease=disease\n",
    "        self.contact=contact\n",
    "        \n",
    "    def take_medicine(self):\n",
    "        print(f\"{self.name} is taking medicine\")\n",
    "        \n",
    "    def patient_details(self):\n",
    "        print(f\"\"\"\n",
    "        Name:{self.name}\n",
    "        Gender:{self.gender}\n",
    "        Disease: {self.disease}\n",
    "        Contact: {self.contact}\n",
    "               \n",
    "       \"\"\")\n",
    "        \n",
    "    # Getter \n",
    "    def get_name(self):\n",
    "        return self.name\n",
    "    \n",
    "     def get_gender(self):  \n",
    "            return self.gender \n",
    "         \n",
    "     \n",
    "    \n",
    "    # Setter\n",
    "    def set_name(self,newName): \n",
    "        self.name = newName\n",
    "        \n",
    "    def get_gender(self):\n",
    "        return self.gender\n",
    "    \n",
    "    # Setter\n",
    "    def set_gender(self,newGender):       \n",
    "        self.gender = newGender\n",
    "    "
   ]
  },
  {
   "cell_type": "code",
   "execution_count": 19,
   "id": "42539017",
   "metadata": {},
   "outputs": [
    {
     "data": {
      "text/plain": [
       "'Tom'"
      ]
     },
     "execution_count": 19,
     "metadata": {},
     "output_type": "execute_result"
    }
   ],
   "source": [
    "patient1 = Patient(\"Tom\", \"Male\", \"High Bp\",\"12345678\")\n",
    "patient1.name"
   ]
  },
  {
   "cell_type": "code",
   "execution_count": 20,
   "id": "041f1fbb",
   "metadata": {},
   "outputs": [
    {
     "name": "stdout",
     "output_type": "stream",
     "text": [
      "JONNY\n"
     ]
    }
   ],
   "source": [
    "patient2 = Patient(\"JONNY\", \"Male\",\"Headache\",'87654321')\n",
    "print(patient2.name)"
   ]
  },
  {
   "cell_type": "code",
   "execution_count": 21,
   "id": "1019f85d",
   "metadata": {},
   "outputs": [
    {
     "data": {
      "text/plain": [
       "'JONNY'"
      ]
     },
     "execution_count": 21,
     "metadata": {},
     "output_type": "execute_result"
    }
   ],
   "source": [
    "patient2.name "
   ]
  },
  {
   "cell_type": "code",
   "execution_count": 22,
   "id": "12fd7b9e",
   "metadata": {},
   "outputs": [
    {
     "data": {
      "text/plain": [
       "'High Bp'"
      ]
     },
     "execution_count": 22,
     "metadata": {},
     "output_type": "execute_result"
    }
   ],
   "source": [
    "patient1.disease"
   ]
  },
  {
   "cell_type": "code",
   "execution_count": 23,
   "id": "231b64a0",
   "metadata": {},
   "outputs": [
    {
     "data": {
      "text/plain": [
       "'JONNY'"
      ]
     },
     "execution_count": 23,
     "metadata": {},
     "output_type": "execute_result"
    }
   ],
   "source": [
    "patient2.name"
   ]
  },
  {
   "cell_type": "code",
   "execution_count": 24,
   "id": "ffc5a568",
   "metadata": {},
   "outputs": [
    {
     "name": "stdout",
     "output_type": "stream",
     "text": [
      "Tom is taking medicine\n"
     ]
    }
   ],
   "source": [
    "Patient.take_medicine(patient1)\n"
   ]
  },
  {
   "cell_type": "code",
   "execution_count": 25,
   "id": "4920dcb8",
   "metadata": {},
   "outputs": [
    {
     "name": "stdout",
     "output_type": "stream",
     "text": [
      "Tom is taking medicine\n"
     ]
    }
   ],
   "source": [
    "patient1.take_medicine()"
   ]
  },
  {
   "cell_type": "code",
   "execution_count": 26,
   "id": "cb64c449",
   "metadata": {},
   "outputs": [
    {
     "name": "stdout",
     "output_type": "stream",
     "text": [
      "\n",
      "        Name:JONNY\n",
      "        Gender:Male\n",
      "        Disease: Headache\n",
      "        Contact: 87654321\n",
      "               \n",
      "       \n"
     ]
    }
   ],
   "source": [
    "patient2.patient_details()"
   ]
  },
  {
   "cell_type": "markdown",
   "id": "4eef2488",
   "metadata": {},
   "source": [
    "# GETTERs & SETTERS\n",
    "\n",
    "# Changing attribute's value by Get SET"
   ]
  },
  {
   "cell_type": "code",
   "execution_count": 27,
   "id": "63c18fae",
   "metadata": {},
   "outputs": [
    {
     "data": {
      "text/plain": [
       "'Tom'"
      ]
     },
     "execution_count": 27,
     "metadata": {},
     "output_type": "execute_result"
    }
   ],
   "source": [
    "patient1.get_name()"
   ]
  },
  {
   "cell_type": "code",
   "execution_count": 28,
   "id": "0726a1a1",
   "metadata": {},
   "outputs": [],
   "source": [
    "patient1.set_name('John')"
   ]
  },
  {
   "cell_type": "code",
   "execution_count": 29,
   "id": "3a8dd3aa",
   "metadata": {},
   "outputs": [
    {
     "data": {
      "text/plain": [
       "'John'"
      ]
     },
     "execution_count": 29,
     "metadata": {},
     "output_type": "execute_result"
    }
   ],
   "source": [
    "patient1.get_name()"
   ]
  },
  {
   "cell_type": "code",
   "execution_count": 30,
   "id": "69cd57fa",
   "metadata": {},
   "outputs": [],
   "source": [
    "patient1.set_gender('Female')"
   ]
  },
  {
   "cell_type": "code",
   "execution_count": 31,
   "id": "75c0b1d1",
   "metadata": {},
   "outputs": [],
   "source": [
    "patient1.set_gender('Female')"
   ]
  },
  {
   "cell_type": "code",
   "execution_count": 32,
   "id": "f8fb0bf5",
   "metadata": {},
   "outputs": [
    {
     "data": {
      "text/plain": [
       "'John'"
      ]
     },
     "execution_count": 32,
     "metadata": {},
     "output_type": "execute_result"
    }
   ],
   "source": [
    "patient1.get_name()"
   ]
  },
  {
   "cell_type": "code",
   "execution_count": 33,
   "id": "b056530b",
   "metadata": {},
   "outputs": [
    {
     "ename": "TypeError",
     "evalue": "set_gender() missing 1 required positional argument: 'newGender'",
     "output_type": "error",
     "traceback": [
      "\u001b[1;31m---------------------------------------------------------------------------\u001b[0m",
      "\u001b[1;31mTypeError\u001b[0m                                 Traceback (most recent call last)",
      "Input \u001b[1;32mIn [33]\u001b[0m, in \u001b[0;36m<cell line: 1>\u001b[1;34m()\u001b[0m\n\u001b[1;32m----> 1\u001b[0m \u001b[43mpatient1\u001b[49m\u001b[38;5;241;43m.\u001b[39;49m\u001b[43mset_gender\u001b[49m\u001b[43m(\u001b[49m\u001b[43m)\u001b[49m\n",
      "\u001b[1;31mTypeError\u001b[0m: set_gender() missing 1 required positional argument: 'newGender'"
     ]
    }
   ],
   "source": [
    "patient1.set_gender()"
   ]
  },
  {
   "cell_type": "code",
   "execution_count": null,
   "id": "10dd3fe8",
   "metadata": {},
   "outputs": [],
   "source": []
  }
 ],
 "metadata": {
  "kernelspec": {
   "display_name": "Python 3 (ipykernel)",
   "language": "python",
   "name": "python3"
  },
  "language_info": {
   "codemirror_mode": {
    "name": "ipython",
    "version": 3
   },
   "file_extension": ".py",
   "mimetype": "text/x-python",
   "name": "python",
   "nbconvert_exporter": "python",
   "pygments_lexer": "ipython3",
   "version": "3.9.12"
  }
 },
 "nbformat": 4,
 "nbformat_minor": 5
}
