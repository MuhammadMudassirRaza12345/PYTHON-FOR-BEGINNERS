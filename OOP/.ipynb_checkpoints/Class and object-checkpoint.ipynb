{
 "cells": [
  {
   "cell_type": "markdown",
   "id": "57fe6e72",
   "metadata": {},
   "source": [
    "# OBJECT OREINTED PROGRAMMING"
   ]
  },
  {
   "cell_type": "code",
   "execution_count": 1,
   "id": "3db544ce",
   "metadata": {},
   "outputs": [],
   "source": [
    "# what is object oriented programming?\n",
    "# What are other types of programmings?\n",
    "# what we have learnt so far is what type of programming?"
   ]
  },
  {
   "cell_type": "code",
   "execution_count": 2,
   "id": "e026f37d",
   "metadata": {},
   "outputs": [],
   "source": [
    "#object :car ,cell phone ,pen\n",
    "# class is a map or blue print/model (e.g building model) . Class is a definition of object\n",
    "\n",
    "# e.g car , cell phone => jo jaisa object ha wo apni class sa belong krta ha"
   ]
  },
  {
   "cell_type": "markdown",
   "id": "953dfdeb",
   "metadata": {},
   "source": [
    "# In python everything is object:\n",
    "- Everything is  object has two things :characteristics and actions \n",
    "- e.g:car\n",
    "- characteristics:model,make,registration,color,engine help ,AC,power steering\n",
    "- Actions:Run ,stop ,open door ,close door \n",
    "            \n",
    "- e.g:dog\n",
    "- characteristics:name,color,size,weight,breed,age\n",
    "- Actions:bark,walk,run,bite"
   ]
  },
  {
   "cell_type": "code",
   "execution_count": 3,
   "id": "47e3b904",
   "metadata": {},
   "outputs": [],
   "source": [
    "class car():\n",
    " # characteristics/properties / attributes >>>> variables\n",
    "    make=\"Civic\"\n",
    "    model=\"2019\"\n",
    "    Reg=\"2022\"\n",
    "    color=\"Black\"\n",
    "    Engine=\"1300CC\"\n",
    "    \n",
    "   # Actions / behaviours >>>>>>>>functions(methods)\n",
    "    def run():\n",
    "        print(\"Car is runing\")\n",
    "    def stop():\n",
    "        print(\"Car is stops\") \n",
    "        \n",
    "    def open_door():\n",
    "        print(\"Doors open\")  \n",
    "        \n",
    "    def close_door():\n",
    "        print(\"Doors closes\")    \n",
    "        \n",
    "    "
   ]
  },
  {
   "cell_type": "code",
   "execution_count": 23,
   "id": "eb7f0bed",
   "metadata": {},
   "outputs": [],
   "source": [
    "class Human():\n",
    "    def __init__(self,name,gender,age,blood_group):\n",
    "        \"\"\" \n",
    "        This function init is called initializer.(Contructor)\n",
    "        Values required in initializer are mandatory to supply\n",
    "        to create an object\n",
    "        \"\"\"\n",
    "        #####ATTRIBUTES OF HUMAN#############\n",
    "        \n",
    "        self.name         =  name \n",
    "        self.gender       =  gender\n",
    "        self.age          =  age\n",
    "        self.blood_group  =  blood_group\n",
    "    \n",
    "    def eat(self):\n",
    "        print(f\"{self.name} is eating\")\n",
    "        \n",
    "    def sleep(self):\n",
    "        print(f\"{self.name} is sleeping\")\n",
    "    \n",
    "    def read(self):\n",
    "        print(f\"{self.name}is reading\")\n",
    "      \n",
    "    def human_age(self):\n",
    "        print(f\"{self.name} age is {self.age}\")\n",
    "        \n",
    "    def human_blood_group(self):\n",
    "        print(f\"{self.name} blood_group is {self.blood_group}\") \n",
    "        \n",
    "        \n",
    "\n",
    "\n",
    "\n",
    " \n",
    "        \n",
    "       \n",
    "        \n",
    "        \n",
    "   "
   ]
  },
  {
   "cell_type": "code",
   "execution_count": 10,
   "id": "eaad14e5",
   "metadata": {
    "scrolled": false
   },
   "outputs": [
    {
     "ename": "TypeError",
     "evalue": "__init__() missing 4 required positional arguments: 'name', 'gender', 'age', and 'blood_group'",
     "output_type": "error",
     "traceback": [
      "\u001b[1;31m---------------------------------------------------------------------------\u001b[0m",
      "\u001b[1;31mTypeError\u001b[0m                                 Traceback (most recent call last)",
      "Input \u001b[1;32mIn [10]\u001b[0m, in \u001b[0;36m<cell line: 1>\u001b[1;34m()\u001b[0m\n\u001b[1;32m----> 1\u001b[0m human1 \u001b[38;5;241m=\u001b[39m \u001b[43mHuman\u001b[49m\u001b[43m(\u001b[49m\u001b[43m)\u001b[49m\n",
      "\u001b[1;31mTypeError\u001b[0m: __init__() missing 4 required positional arguments: 'name', 'gender', 'age', and 'blood_group'"
     ]
    }
   ],
   "source": [
    "human1 = Human()"
   ]
  },
  {
   "cell_type": "code",
   "execution_count": 38,
   "id": "7ed0f882",
   "metadata": {},
   "outputs": [
    {
     "data": {
      "text/plain": [
       "'Mudassir'"
      ]
     },
     "execution_count": 38,
     "metadata": {},
     "output_type": "execute_result"
    }
   ],
   "source": [
    "human1.name\n",
    "# object is accessing its property"
   ]
  },
  {
   "cell_type": "code",
   "execution_count": 35,
   "id": "a497e928",
   "metadata": {},
   "outputs": [
    {
     "name": "stdout",
     "output_type": "stream",
     "text": [
      "Mudassir\n",
      "21\n",
      "Male\n",
      "A+\n"
     ]
    }
   ],
   "source": [
    "#objects create like more cars of same class\n",
    "human1 = Human(\"Mudassir\",\"Male\",\"21\",\"A+\")\n",
    " \n",
    "print(human1.name)\n",
    "print(human1.age)\n",
    "print(human1.gender)\n",
    "print(human1.blood_group)"
   ]
  },
  {
   "cell_type": "code",
   "execution_count": 37,
   "id": "f785f7e4",
   "metadata": {},
   "outputs": [
    {
     "name": "stdout",
     "output_type": "stream",
     "text": [
      "Mudassir is eating\n"
     ]
    },
    {
     "ename": "AttributeError",
     "evalue": "'Human' object has no attribute 'human_age'",
     "output_type": "error",
     "traceback": [
      "\u001b[1;31m---------------------------------------------------------------------------\u001b[0m",
      "\u001b[1;31mAttributeError\u001b[0m                            Traceback (most recent call last)",
      "Input \u001b[1;32mIn [37]\u001b[0m, in \u001b[0;36m<cell line: 2>\u001b[1;34m()\u001b[0m\n\u001b[0;32m      1\u001b[0m human1\u001b[38;5;241m.\u001b[39meat()\n\u001b[1;32m----> 2\u001b[0m \u001b[43mhuman1\u001b[49m\u001b[38;5;241;43m.\u001b[39;49m\u001b[43mhuman_age\u001b[49m()\n\u001b[0;32m      3\u001b[0m human1\u001b[38;5;241m.\u001b[39mhuman_blood_group()\n\u001b[0;32m      4\u001b[0m human1\u001b[38;5;241m.\u001b[39mread()\n",
      "\u001b[1;31mAttributeError\u001b[0m: 'Human' object has no attribute 'human_age'"
     ]
    }
   ],
   "source": [
    "\n",
    "\n",
    "human1.eat()\n",
    "human1.human_age()\n",
    "human1.human_blood_group()\n",
    "human1.read()\n",
    "human1.sleep()"
   ]
  },
  {
   "cell_type": "code",
   "execution_count": null,
   "id": "e3ecc463",
   "metadata": {},
   "outputs": [],
   "source": [
    "# while True:\n",
    "#     name=input(\"Enter the name\")\n",
    "#     gender=input(\"Enter the gender\")\n",
    "#     age=input(\"Enter the age\")\n",
    "#     blood_group=input(\"Enter the blood group\")\n",
    "    \n",
    "#     if (name =='q') or (gender =='q') or (age =='q') or "
   ]
  },
  {
   "cell_type": "code",
   "execution_count": null,
   "id": "53732aee",
   "metadata": {},
   "outputs": [],
   "source": [
    "def add(val1, val2):#Parameteras\n",
    "    \n",
    "    num1 = val1\n",
    "    num2 = val2\n",
    "    sum = num1 + num2\n",
    "add(2,3)# arguments"
   ]
  },
  {
   "cell_type": "code",
   "execution_count": null,
   "id": "1070531e",
   "metadata": {},
   "outputs": [],
   "source": []
  }
 ],
 "metadata": {
  "kernelspec": {
   "display_name": "Python 3 (ipykernel)",
   "language": "python",
   "name": "python3"
  },
  "language_info": {
   "codemirror_mode": {
    "name": "ipython",
    "version": 3
   },
   "file_extension": ".py",
   "mimetype": "text/x-python",
   "name": "python",
   "nbconvert_exporter": "python",
   "pygments_lexer": "ipython3",
   "version": "3.9.12"
  }
 },
 "nbformat": 4,
 "nbformat_minor": 5
}
