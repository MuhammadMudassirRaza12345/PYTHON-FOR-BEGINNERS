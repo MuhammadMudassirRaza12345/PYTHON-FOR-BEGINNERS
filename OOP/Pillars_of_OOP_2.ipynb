{
 "cells": [
  {
   "cell_type": "code",
   "execution_count": 1,
   "id": "951eb984",
   "metadata": {},
   "outputs": [],
   "source": [
    "class Car(): \n",
    "    def __init__(self, make, model, year):\n",
    "        self.make = make\n",
    "        self.model = model\n",
    "        self.year = year\n",
    "\n",
    "    def get_descriptive_name(self):        \n",
    "        long_name = str(self.year) + ' ' + self.make + ' ' + self.model\n",
    "        return long_name.title()"
   ]
  },
  {
   "cell_type": "code",
   "execution_count": 2,
   "id": "8a465603",
   "metadata": {},
   "outputs": [],
   "source": [
    "my_new_car = Car('audi', 'a4', 2016)"
   ]
  },
  {
   "cell_type": "code",
   "execution_count": 3,
   "id": "5c83c65a",
   "metadata": {},
   "outputs": [
    {
     "name": "stdout",
     "output_type": "stream",
     "text": [
      "2016 Audi A4\n"
     ]
    }
   ],
   "source": [
    "print(my_new_car.get_descriptive_name())"
   ]
  },
  {
   "cell_type": "markdown",
   "id": "6c85019c",
   "metadata": {},
   "source": [
    "# Setting a Default Value for an Attribute"
   ]
  },
  {
   "cell_type": "code",
   "execution_count": 4,
   "id": "7768b269",
   "metadata": {},
   "outputs": [],
   "source": [
    "# default attribute means it will be set to all objects \n",
    "class Car(): \n",
    "    def __init__(self, make, model, year):\n",
    "        self.make = make\n",
    "        self.model = model\n",
    "        self.year = year\n",
    "        self.odometer_reading = 0   #default attribute\n",
    "#         koe new car hogi is ka meter ki value o hi hogi\n",
    "\n",
    "    def get_descriptive_name(self):        \n",
    "        long_name = str(self.year) + ' ' + self.make + ' ' + self.model\n",
    "        return long_name.title()\n",
    "    \n",
    "    def read_odometer(self):\n",
    "        print(\"This car has \" + str(self.odometer_reading) + \" miles on it.\")\n",
    "\n"
   ]
  },
  {
   "cell_type": "code",
   "execution_count": 5,
   "id": "281c08bf",
   "metadata": {},
   "outputs": [],
   "source": [
    "new_car = Car('audi', 'a4', 2016)"
   ]
  },
  {
   "cell_type": "code",
   "execution_count": 6,
   "id": "2e267cb7",
   "metadata": {},
   "outputs": [
    {
     "name": "stdout",
     "output_type": "stream",
     "text": [
      "This car has 0 miles on it.\n"
     ]
    }
   ],
   "source": [
    "new_car.read_odometer()"
   ]
  },
  {
   "cell_type": "code",
   "execution_count": 7,
   "id": "76f52855",
   "metadata": {},
   "outputs": [],
   "source": [
    "new_car.odometer_reading=100"
   ]
  },
  {
   "cell_type": "code",
   "execution_count": 8,
   "id": "525b97da",
   "metadata": {},
   "outputs": [
    {
     "name": "stdout",
     "output_type": "stream",
     "text": [
      "This car has 100 miles on it.\n"
     ]
    }
   ],
   "source": [
    "new_car.read_odometer()"
   ]
  },
  {
   "cell_type": "code",
   "execution_count": 9,
   "id": "8ef89951",
   "metadata": {},
   "outputs": [],
   "source": [
    "car1 = Car(\"CIVIC\", 'Rebond', 2015)"
   ]
  },
  {
   "cell_type": "code",
   "execution_count": 10,
   "id": "60a5fb55",
   "metadata": {},
   "outputs": [
    {
     "name": "stdout",
     "output_type": "stream",
     "text": [
      "This car has 0 miles on it.\n"
     ]
    }
   ],
   "source": [
    "car1.read_odometer()"
   ]
  },
  {
   "cell_type": "code",
   "execution_count": 11,
   "id": "48137fa1",
   "metadata": {},
   "outputs": [],
   "source": [
    "car1.odometer_reading=1000"
   ]
  },
  {
   "cell_type": "code",
   "execution_count": 12,
   "id": "24e8804d",
   "metadata": {},
   "outputs": [
    {
     "name": "stdout",
     "output_type": "stream",
     "text": [
      "This car has 1000 miles on it.\n"
     ]
    }
   ],
   "source": [
    "car1.read_odometer()"
   ]
  },
  {
   "cell_type": "markdown",
   "id": "66bdb1f2",
   "metadata": {},
   "source": [
    "# Modifying an Attribute’s Value Through a Method"
   ]
  },
  {
   "cell_type": "code",
   "execution_count": 13,
   "id": "790cfe97",
   "metadata": {},
   "outputs": [],
   "source": [
    "class Car(): \n",
    "    def __init__(self, make, model, year):\n",
    "        self.make = make\n",
    "        self.model = model\n",
    "        self.year = year\n",
    "        self.odometer_reading = 0\n",
    "\n",
    "    def get_descriptive_name(self):        \n",
    "        long_name = str(self.year) + ' ' + self.make + ' ' + self.model\n",
    "        return long_name.title()\n",
    "    \n",
    "    def read_odometer(self):\n",
    "        print(\"This car has \" + str(self.odometer_reading) + \" miles on it.\")\n",
    "    \n",
    "    def update_odometer(self, mileage):\n",
    "        \"\"\"Set the odometer reading to the given value.\"\"\"\n",
    "        self.odometer_reading = mileage"
   ]
  },
  {
   "cell_type": "code",
   "execution_count": 14,
   "id": "14080b08",
   "metadata": {},
   "outputs": [],
   "source": [
    "car2 = Car(\"CIVIC\", 'Rebond', 2010)"
   ]
  },
  {
   "cell_type": "code",
   "execution_count": 15,
   "id": "dc6944c4",
   "metadata": {},
   "outputs": [
    {
     "data": {
      "text/plain": [
       "'2010 Civic Rebond'"
      ]
     },
     "execution_count": 15,
     "metadata": {},
     "output_type": "execute_result"
    }
   ],
   "source": [
    "car2.get_descriptive_name()"
   ]
  },
  {
   "cell_type": "code",
   "execution_count": 16,
   "id": "0b90aeaf",
   "metadata": {},
   "outputs": [
    {
     "name": "stdout",
     "output_type": "stream",
     "text": [
      "This car has 0 miles on it.\n"
     ]
    }
   ],
   "source": [
    "car2.read_odometer()"
   ]
  },
  {
   "cell_type": "code",
   "execution_count": 17,
   "id": "91d8c890",
   "metadata": {},
   "outputs": [],
   "source": [
    "car2.update_odometer(500)"
   ]
  },
  {
   "cell_type": "code",
   "execution_count": 18,
   "id": "c6345d5e",
   "metadata": {},
   "outputs": [
    {
     "name": "stdout",
     "output_type": "stream",
     "text": [
      "This car has 500 miles on it.\n"
     ]
    }
   ],
   "source": [
    "car2.read_odometer()"
   ]
  },
  {
   "cell_type": "code",
   "execution_count": 19,
   "id": "ce486419",
   "metadata": {},
   "outputs": [],
   "source": [
    "class Car(): \n",
    "    def __init__(self, make, model, year):\n",
    "        self.make = make\n",
    "        self.model = model\n",
    "        self.year = year\n",
    "        self.odometer_reading = 0\n",
    "\n",
    "    def get_descriptive_name(self):        \n",
    "        long_name = str(self.year) + ' ' + self.make + ' ' + self.model\n",
    "        return long_name.title()\n",
    "    \n",
    "    def read_odometer(self):\n",
    "        print(\"This car has \" + str(self.odometer_reading) + \" miles on it.\")\n",
    "    \n",
    "    def update_odometer(self, mileage):        \n",
    "        if mileage >= self.odometer_reading:\n",
    "            self.odometer_reading = mileage\n",
    "        else:\n",
    "            print(\"You can't roll back an odometer!\")"
   ]
  },
  {
   "cell_type": "code",
   "execution_count": 20,
   "id": "7cd94cca",
   "metadata": {},
   "outputs": [],
   "source": [
    "car4 = Car(\"Honda\", 'CITY', 2019)"
   ]
  },
  {
   "cell_type": "code",
   "execution_count": 21,
   "id": "9fda0afe",
   "metadata": {},
   "outputs": [
    {
     "name": "stdout",
     "output_type": "stream",
     "text": [
      "This car has 0 miles on it.\n"
     ]
    }
   ],
   "source": [
    "car4.read_odometer()"
   ]
  },
  {
   "cell_type": "code",
   "execution_count": 22,
   "id": "751ea3b1",
   "metadata": {},
   "outputs": [],
   "source": [
    "car4.update_odometer(100)"
   ]
  },
  {
   "cell_type": "code",
   "execution_count": 23,
   "id": "51080be2",
   "metadata": {},
   "outputs": [
    {
     "name": "stdout",
     "output_type": "stream",
     "text": [
      "This car has 100 miles on it.\n"
     ]
    }
   ],
   "source": [
    "car4.read_odometer()"
   ]
  },
  {
   "cell_type": "code",
   "execution_count": 24,
   "id": "e00e2018",
   "metadata": {},
   "outputs": [
    {
     "name": "stdout",
     "output_type": "stream",
     "text": [
      "You can't roll back an odometer!\n"
     ]
    }
   ],
   "source": [
    "car4.update_odometer(75)"
   ]
  },
  {
   "cell_type": "raw",
   "id": "ded4fa2b",
   "metadata": {},
   "source": [
    "# It will not update because 75 is lesser than 100"
   ]
  },
  {
   "cell_type": "markdown",
   "id": "018b31a6",
   "metadata": {},
   "source": [
    "# Incrementing an Attribute’s Value Through a Method"
   ]
  },
  {
   "cell_type": "code",
   "execution_count": 25,
   "id": "dc3e0ced",
   "metadata": {},
   "outputs": [],
   "source": [
    "class Car(): \n",
    "    def __init__(self, make, model, year):\n",
    "        self.make = make\n",
    "        self.model = model\n",
    "        self.year = year\n",
    "        self.odometer_reading = 0\n",
    "\n",
    "    def get_descriptive_name(self):        \n",
    "        long_name = str(self.year) + ' ' + self.make + ' ' + self.model\n",
    "        return long_name.title()\n",
    "    \n",
    "    def read_odometer(self):\n",
    "        print(\"This car has \" + str(self.odometer_reading) + \" miles on it.\")\n",
    "    \n",
    "    def update_odometer(self, mileage):        \n",
    "        if mileage >= self.odometer_reading:\n",
    "            self.odometer_reading = mileage\n",
    "        else:\n",
    "            print(\"You can't roll back an odometer!\")\n",
    "            \n",
    "    def increment_odometer(self, miles):\n",
    "        self.odometer_reading +=miles\n",
    "        "
   ]
  },
  {
   "cell_type": "code",
   "execution_count": 26,
   "id": "0d76622e",
   "metadata": {},
   "outputs": [],
   "source": [
    "car5 = Car(\"Honda\", 'CITY', 2019)"
   ]
  },
  {
   "cell_type": "code",
   "execution_count": 27,
   "id": "1ebddfab",
   "metadata": {},
   "outputs": [
    {
     "name": "stdout",
     "output_type": "stream",
     "text": [
      "This car has 0 miles on it.\n"
     ]
    }
   ],
   "source": [
    "car5.read_odometer()"
   ]
  },
  {
   "cell_type": "code",
   "execution_count": 28,
   "id": "9e37e90d",
   "metadata": {},
   "outputs": [],
   "source": [
    "car5.update_odometer(300)"
   ]
  },
  {
   "cell_type": "code",
   "execution_count": 29,
   "id": "6b14b8b3",
   "metadata": {},
   "outputs": [
    {
     "name": "stdout",
     "output_type": "stream",
     "text": [
      "This car has 300 miles on it.\n"
     ]
    }
   ],
   "source": [
    "car5.read_odometer()"
   ]
  },
  {
   "cell_type": "code",
   "execution_count": 30,
   "id": "75a16ba4",
   "metadata": {},
   "outputs": [],
   "source": [
    "car5.increment_odometer(15)"
   ]
  },
  {
   "cell_type": "code",
   "execution_count": 31,
   "id": "d76c11b8",
   "metadata": {},
   "outputs": [
    {
     "name": "stdout",
     "output_type": "stream",
     "text": [
      "This car has 315 miles on it.\n"
     ]
    }
   ],
   "source": [
    "car5.read_odometer()"
   ]
  },
  {
   "cell_type": "markdown",
   "id": "c5293ebe",
   "metadata": {},
   "source": [
    "# Inheritance"
   ]
  },
  {
   "cell_type": "code",
   "execution_count": 32,
   "id": "be7ea218",
   "metadata": {},
   "outputs": [],
   "source": [
    "class ElectricCar(Car):\n",
    "    def __init__(self, make, model, year, engine):        \n",
    "        #################################\n",
    "        super().__init__(make, model, year)\n",
    "# super ka matlab hota ha parent class .To super class inherit kra di elctric car(child class) ko Car (parent class) sa          \n",
    "        self.engine = engine"
   ]
  },
  {
   "cell_type": "code",
   "execution_count": 33,
   "id": "26eb0c55",
   "metadata": {},
   "outputs": [],
   "source": [
    "my_tesla = ElectricCar('tesla', 'models', 2016,\"Engine\") "
   ]
  },
  {
   "cell_type": "code",
   "execution_count": 34,
   "id": "4cf0775a",
   "metadata": {},
   "outputs": [
    {
     "data": {
      "text/plain": [
       "'2016 Tesla Models'"
      ]
     },
     "execution_count": 34,
     "metadata": {},
     "output_type": "execute_result"
    }
   ],
   "source": [
    "my_tesla.get_descriptive_name()"
   ]
  },
  {
   "cell_type": "code",
   "execution_count": 35,
   "id": "5263d73d",
   "metadata": {},
   "outputs": [
    {
     "data": {
      "text/plain": [
       "'Engine'"
      ]
     },
     "execution_count": 35,
     "metadata": {},
     "output_type": "execute_result"
    }
   ],
   "source": [
    "my_tesla.engine"
   ]
  },
  {
   "cell_type": "code",
   "execution_count": 36,
   "id": "0e4fc7a3",
   "metadata": {},
   "outputs": [],
   "source": [
    "class ElectricCar(Car):\n",
    "    def __init__(self, make, model, year):        \n",
    "        #################################\n",
    "        super().__init__(make, model, year)\n",
    "        \n",
    "        self.battery_size = 70\n",
    "        \n",
    "    def describe_battery(self): \n",
    "        print(\"This car has a \" + str(self.battery_size) + \"-kWh battery.\")"
   ]
  },
  {
   "cell_type": "code",
   "execution_count": 37,
   "id": "2ff19785",
   "metadata": {},
   "outputs": [],
   "source": [
    "e1 = ElectricCar(\"Elec Car\", \"Latest\", \"2022\")"
   ]
  },
  {
   "cell_type": "code",
   "execution_count": 38,
   "id": "a3b27270",
   "metadata": {},
   "outputs": [
    {
     "name": "stdout",
     "output_type": "stream",
     "text": [
      "This car has a 70-kWh battery.\n"
     ]
    }
   ],
   "source": [
    "e1.describe_battery()"
   ]
  },
  {
   "cell_type": "code",
   "execution_count": 39,
   "id": "bf24c39d",
   "metadata": {},
   "outputs": [],
   "source": [
    "e1.battery_size=80 "
   ]
  },
  {
   "cell_type": "code",
   "execution_count": 40,
   "id": "1b0dda67",
   "metadata": {},
   "outputs": [
    {
     "name": "stdout",
     "output_type": "stream",
     "text": [
      "This car has a 80-kWh battery.\n"
     ]
    }
   ],
   "source": [
    "e1.describe_battery()"
   ]
  },
  {
   "cell_type": "markdown",
   "id": "9c5742d7",
   "metadata": {},
   "source": [
    "# Overriding Methods from the Parent Class\n",
    "- overridding means parent class ki kuch cheezon adopt krna\n",
    "- e.g button phone replace with touch screen \n",
    "- call through button in phone but now in smart phone call through touch\n",
    "- so parent class calling repalce with new method of smart phone calling "
   ]
  },
  {
   "cell_type": "code",
   "execution_count": 41,
   "id": "57ccf46e",
   "metadata": {},
   "outputs": [],
   "source": [
    "class Car(): \n",
    "    def __init__(self, make, model, year):\n",
    "        self.make = make\n",
    "        self.model = model\n",
    "        self.year = year\n",
    "        self.odometer_reading = 0\n",
    "\n",
    "    def get_descriptive_name(self):        \n",
    "        long_name = str(self.year) + ' ' + self.make + ' ' + self.model\n",
    "        return long_name.title()\n",
    "    \n",
    "    def read_odometer(self):\n",
    "        print(\"This car has \" + str(self.odometer_reading) + \" miles on it.\")\n",
    "    \n",
    "    def update_odometer(self, mileage):        \n",
    "        if mileage >= self.odometer_reading:\n",
    "            self.odometer_reading = mileage\n",
    "        else:\n",
    "            print(\"You can't roll back an odometer!\")\n",
    "    def increment_odometer(self, miles):\n",
    "        self.odometer_reading +=miles\n",
    "    \n",
    "    def fill_gas_tank(self):\n",
    "        print(\"Gas tank is being filled\")"
   ]
  },
  {
   "cell_type": "code",
   "execution_count": 42,
   "id": "43947b6c",
   "metadata": {},
   "outputs": [],
   "source": [
    "class ElectricCar(Car):\n",
    "    def __init__(self, make, model, year):        \n",
    "        #################################\n",
    "        super().__init__(make, model, year)\n",
    "        self.battery_size =  70\n",
    "        \n",
    "        \n",
    "        \n",
    "    def describe_battery(self): \n",
    "        print(\"This car has a \" + str(self.battery_size) + \"-kWh battery.\")\n",
    "        \n",
    "# overidding same method taqa koe bhi petrol pump pr elctric car lekr na khara ho fuel dedo\n",
    "\n",
    "    def fill_gas_tank(self):\n",
    "        print(\"Electric car has no gas tank it runs on battery\") "
   ]
  },
  {
   "cell_type": "code",
   "execution_count": 43,
   "id": "0009dc26",
   "metadata": {},
   "outputs": [],
   "source": [
    "e2 = ElectricCar(\"Elec Car\", \"Latest\", \"2022\")"
   ]
  },
  {
   "cell_type": "code",
   "execution_count": 45,
   "id": "8f64a74d",
   "metadata": {
    "scrolled": true
   },
   "outputs": [
    {
     "name": "stdout",
     "output_type": "stream",
     "text": [
      "Electric car has no gas tank it runs on battery\n"
     ]
    }
   ],
   "source": [
    "e2.fill_gas_tank()"
   ]
  },
  {
   "cell_type": "code",
   "execution_count": 46,
   "id": "b8142164",
   "metadata": {},
   "outputs": [],
   "source": [
    "class Battery():\n",
    "    def __init__(self,manufac,hp,watts, cells):\n",
    "        self.manufac = manufac\n",
    "        self.hp  = hp\n",
    "        self.watts =watts\n",
    "        self.cells = cells\n",
    "        \n",
    "    def charge(self):\n",
    "        print(\"Battery is charging\")\n",
    "    \n",
    "    def description(self):\n",
    "        print(f\"\"\"\n",
    "                 Battery Details\n",
    "                =================\n",
    "        Manufacturer : {self.manufac}\n",
    "        Horse power   :{self.hp}\n",
    "        Watts         : {self.watts}\n",
    "        NUm of Cells   : {self.cells}\"\"\")\n",
    "    "
   ]
  },
  {
   "cell_type": "markdown",
   "id": "5ac68762",
   "metadata": {},
   "source": [
    "# Instances as Attributes\n",
    "Use of an Object of Class as a variable"
   ]
  },
  {
   "cell_type": "code",
   "execution_count": 47,
   "id": "a0b38959",
   "metadata": {},
   "outputs": [],
   "source": [
    "class ElectricCar(Car):\n",
    "    def __init__(self, make, model, year):        \n",
    "        #################################\n",
    "        super().__init__(make, model, year)\n",
    "        self.battery = Battery(\"AGS\", 200,230, 27)\n",
    "        \n",
    "    def fill_gas_tank(self):\n",
    "        print(\"Electric car has no gas tank it runs on battery\")\n",
    "        "
   ]
  },
  {
   "cell_type": "code",
   "execution_count": 48,
   "id": "c98bb570",
   "metadata": {},
   "outputs": [],
   "source": [
    "e5 = ElectricCar(\"Elec Car\", \"Latest\", \"2022\")"
   ]
  },
  {
   "cell_type": "code",
   "execution_count": 49,
   "id": "cdfb6cb9",
   "metadata": {},
   "outputs": [
    {
     "name": "stdout",
     "output_type": "stream",
     "text": [
      "\n",
      "                 Battery Details\n",
      "                =================\n",
      "        Manufacturer : AGS\n",
      "        Horse power   :200\n",
      "        Watts         : 230\n",
      "        NUm of Cells   : 27\n"
     ]
    }
   ],
   "source": [
    "e5.battery.description()"
   ]
  },
  {
   "cell_type": "code",
   "execution_count": null,
   "id": "d4c99f45",
   "metadata": {},
   "outputs": [],
   "source": []
  }
 ],
 "metadata": {
  "kernelspec": {
   "display_name": "Python 3 (ipykernel)",
   "language": "python",
   "name": "python3"
  },
  "language_info": {
   "codemirror_mode": {
    "name": "ipython",
    "version": 3
   },
   "file_extension": ".py",
   "mimetype": "text/x-python",
   "name": "python",
   "nbconvert_exporter": "python",
   "pygments_lexer": "ipython3",
   "version": "3.9.12"
  }
 },
 "nbformat": 4,
 "nbformat_minor": 5
}
