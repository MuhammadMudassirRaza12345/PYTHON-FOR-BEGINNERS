{
 "cells": [
  {
   "cell_type": "markdown",
   "id": "d1805c7a",
   "metadata": {},
   "source": [
    "# Pillars of OOP "
   ]
  },
  {
   "cell_type": "markdown",
   "id": "6105a976",
   "metadata": {},
   "source": [
    "- Inheritance\n",
    "- Polymorphism\n",
    "- Encapsulation\n",
    "- Abstraction"
   ]
  },
  {
   "cell_type": "markdown",
   "id": "3068953c",
   "metadata": {},
   "source": [
    "## Inheritance\n",
    "- means cheezo ko inherit krna .\n",
    "- e.g: parents sa kuch cheezon ko adopt krna \n",
    "\n",
    "- e.g duniya sb sa phela koe  car ae thi -->C1\n",
    "- but agr ab chatta hon ka ma koe or car bnalo lo -->C2\n",
    "- to agr ma new car banao ga to is ma tyre ,staring matlab kuch properties whi C1 wali ki hogi\n",
    "- to ma new class (C2) bnana ka bja ma porani wali C1   properties ko inherit krlo jo mujha new car C2 ma bhi chaya hogi\n",
    "- c2 inherit c1\n",
    "\n",
    "- when start doing inherit we should do( is A relationship) "
   ]
  },
  {
   "cell_type": "markdown",
   "id": "4857fa65",
   "metadata": {},
   "source": [
    "## Inheritance\n",
    "#### Multilevel Inheritance\n",
    "\n",
    "#### Multiple Inheritance"
   ]
  },
  {
   "cell_type": "markdown",
   "id": "4113053f",
   "metadata": {},
   "source": [
    "1)Multilevel Inheritance :\n",
    "\n",
    "Class A(): #dada\n",
    "#attributes A\n",
    "#behavaiours A\n",
    "\n",
    "\n",
    "Class B inherits class A:  #baap\n",
    "#attributes B\n",
    "#behavaiours B\n",
    "#attributes A\n",
    "#behavaiours A\n",
    "\n",
    "Class C inherits class B:  #beta\n",
    "#attributes C\n",
    "#behavaiours C\n",
    "#attributes B\n",
    "#behavaiours B\n",
    "#attributes A\n",
    "#behavaiours A\n"
   ]
  },
  {
   "cell_type": "markdown",
   "id": "6696a427",
   "metadata": {},
   "source": [
    "2)Multiple Inheritance :\n",
    "#i have a class circle,triangle,square,diamond,pantagone\n",
    "#shapes inherits circle,triangle,square,diamond,pantagone,hexagone\n",
    "#shapes child ha iska bhot sara parent\n",
    "shapes():\n"
   ]
  },
  {
   "cell_type": "code",
   "execution_count": 1,
   "id": "41bb8d88",
   "metadata": {},
   "outputs": [],
   "source": [
    "class Person():\n",
    "    def __init__(self,name,age,gender,cnic,contact):\n",
    "        self.name=name\n",
    "        self.age=age\n",
    "        self.gender=gender\n",
    "        self.cnic=cnic\n",
    "        self.contact=contact\n",
    "        \n",
    "    def walk(self):\n",
    "        if self.age >=1:\n",
    "            print(f\"{self.name} is walking\")\n",
    "        else :\n",
    "            print(f\"{self.name} is of age {self.age} years and can not walk\")\n",
    "    \n",
    "    def run(self):\n",
    "        if self.age >=1:\n",
    "            print(f\"{self.name} is running normally\")\n",
    "        else :\n",
    "            print(f\"{self.name} is of age {self.age} years and can not run\")\n",
    "            \n",
    "            \n",
    "    def sleep(self):\n",
    "        print(f\"{self.name} is sleeping\")    \n",
    "        \n",
    "        \n",
    "        \n",
    "#    ya specific quality ha general nhi islia ma isko apni class ka part nhi bnao ga     \n",
    "#     def Voice(self):\n",
    "#         print(\"Person has a melidious voice\")\n",
    "            "
   ]
  },
  {
   "cell_type": "code",
   "execution_count": 2,
   "id": "b76174e7",
   "metadata": {},
   "outputs": [],
   "source": [
    "p1=Person(\"raza\",23,\"male\",\"cnic\",12345)"
   ]
  },
  {
   "cell_type": "code",
   "execution_count": 3,
   "id": "feb4c7bb",
   "metadata": {},
   "outputs": [
    {
     "name": "stdout",
     "output_type": "stream",
     "text": [
      "raza is walking\n"
     ]
    }
   ],
   "source": [
    "p1.walk()"
   ]
  },
  {
   "cell_type": "code",
   "execution_count": 4,
   "id": "8cd803ef",
   "metadata": {},
   "outputs": [],
   "source": [
    "p2=Person(\"asad\",0.5,\"male\",\"cnic\",12345)"
   ]
  },
  {
   "cell_type": "code",
   "execution_count": 5,
   "id": "5e9d2f2d",
   "metadata": {},
   "outputs": [
    {
     "name": "stdout",
     "output_type": "stream",
     "text": [
      "asad is of age 0.5 years and can not walk\n"
     ]
    }
   ],
   "source": [
    "p2.walk()"
   ]
  },
  {
   "cell_type": "code",
   "execution_count": 6,
   "id": "31e68448",
   "metadata": {},
   "outputs": [
    {
     "name": "stdout",
     "output_type": "stream",
     "text": [
      "asad is sleeping\n"
     ]
    }
   ],
   "source": [
    "p2.sleep()"
   ]
  },
  {
   "cell_type": "code",
   "execution_count": 7,
   "id": "f5807ff3",
   "metadata": {},
   "outputs": [],
   "source": [
    "#now doing inheritance  (child na parent ki sari cheezon ko inherit krlia )\n",
    "class Student(Person):\n",
    "    pass"
   ]
  },
  {
   "cell_type": "code",
   "execution_count": 8,
   "id": "99ed508a",
   "metadata": {},
   "outputs": [],
   "source": [
    "s1=Student(\"Ali\",22,\"male\",4111,\"12345\")"
   ]
  },
  {
   "cell_type": "code",
   "execution_count": 9,
   "id": "0930adba",
   "metadata": {},
   "outputs": [
    {
     "data": {
      "text/plain": [
       "22"
      ]
     },
     "execution_count": 9,
     "metadata": {},
     "output_type": "execute_result"
    }
   ],
   "source": [
    "s1.age"
   ]
  },
  {
   "cell_type": "code",
   "execution_count": 10,
   "id": "bd447491",
   "metadata": {},
   "outputs": [],
   "source": [
    "class Teacher(Person):\n",
    "    pass"
   ]
  },
  {
   "cell_type": "code",
   "execution_count": 11,
   "id": "e4c1fc4d",
   "metadata": {},
   "outputs": [],
   "source": [
    "class Staff(Person):\n",
    "    pass"
   ]
  },
  {
   "cell_type": "code",
   "execution_count": 15,
   "id": "ea89dd48",
   "metadata": {},
   "outputs": [],
   "source": [
    "class Athlete(Person): #race ma bhagna wala not a normal run . islia method ko phir  sa redefine kiya  \n",
    "#function phir sa bataya for   Athelate\n",
    "    def run(self):\n",
    "        print(f\"{self.name} is running super fast\")\n",
    "        \n",
    " #Method overirdding\n",
    "# polymomorphism (many shape(rob) )        \n",
    "    "
   ]
  },
  {
   "cell_type": "code",
   "execution_count": 16,
   "id": "645419cb",
   "metadata": {},
   "outputs": [],
   "source": [
    "a1=Athlete(\"ashtar\",11,\"male\",411,\"12345\")"
   ]
  },
  {
   "cell_type": "code",
   "execution_count": 17,
   "id": "bacc10d9",
   "metadata": {},
   "outputs": [
    {
     "name": "stdout",
     "output_type": "stream",
     "text": [
      "ashtar is running super fast\n"
     ]
    }
   ],
   "source": [
    "a1.run()\n"
   ]
  },
  {
   "cell_type": "code",
   "execution_count": 18,
   "id": "babd448d",
   "metadata": {},
   "outputs": [
    {
     "data": {
      "text/plain": [
       "4"
      ]
     },
     "execution_count": 18,
     "metadata": {},
     "output_type": "execute_result"
    }
   ],
   "source": [
    "2 + 2 \n",
    "\n",
    "#Plus operator is overirded"
   ]
  },
  {
   "cell_type": "code",
   "execution_count": 19,
   "id": "b7d0e120",
   "metadata": {},
   "outputs": [
    {
     "data": {
      "text/plain": [
       "'22'"
      ]
     },
     "execution_count": 19,
     "metadata": {},
     "output_type": "execute_result"
    }
   ],
   "source": [
    "\"2\" + \"2\" \n",
    "\n",
    "# aik hi operator ha  but jha class string ha wha contatenate horha ha or jha class int ha wha add kr rha ha"
   ]
  },
  {
   "cell_type": "code",
   "execution_count": 20,
   "id": "179912a0",
   "metadata": {},
   "outputs": [],
   "source": [
    "class college_student(Student):\n",
    "    pass\n",
    "# college student is a student and aw well as is a person"
   ]
  },
  {
   "cell_type": "code",
   "execution_count": null,
   "id": "bbc26196",
   "metadata": {},
   "outputs": [],
   "source": []
  }
 ],
 "metadata": {
  "kernelspec": {
   "display_name": "Python 3 (ipykernel)",
   "language": "python",
   "name": "python3"
  },
  "language_info": {
   "codemirror_mode": {
    "name": "ipython",
    "version": 3
   },
   "file_extension": ".py",
   "mimetype": "text/x-python",
   "name": "python",
   "nbconvert_exporter": "python",
   "pygments_lexer": "ipython3",
   "version": "3.9.12"
  }
 },
 "nbformat": 4,
 "nbformat_minor": 5
}
