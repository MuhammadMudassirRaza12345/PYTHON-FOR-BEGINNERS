{
 "cells": [
  {
   "cell_type": "markdown",
   "id": "79fb8ebd",
   "metadata": {},
   "source": [
    "# OBJECT OREINTED PROGRAMMING"
   ]
  },
  {
   "cell_type": "code",
   "execution_count": 1,
   "id": "8b43e78b",
   "metadata": {},
   "outputs": [],
   "source": [
    "# what is object oriented programming?\n",
    "# What are other types of programmings?\n",
    "# what we have learnt so far is what type of programming?"
   ]
  },
  {
   "cell_type": "code",
   "execution_count": 2,
   "id": "4e466f1a",
   "metadata": {},
   "outputs": [],
   "source": [
    "#object :car ,cell phone ,pen\n",
    "# class is a map or blue print/model (e.g building model) . Class is a definition of object\n",
    "\n",
    "# e.g car , cell phone => jo jaisa object ha wo apni class sa belong krta ha"
   ]
  },
  {
   "cell_type": "markdown",
   "id": "d835544c",
   "metadata": {},
   "source": [
    "# In python everything is object:\n",
    "- Everything is  object has two things :characteristics and actions \n",
    "- e.g:car\n",
    "- characteristics:model,make,registration,color,engine help ,AC,power steering\n",
    "- Actions:Run ,stop ,open door ,close door \n",
    "            \n",
    "- e.g:dog\n",
    "- characteristics:name,color,size,weight,breed,age\n",
    "- Actions:bark,walk,run,bite"
   ]
  },
  {
   "cell_type": "code",
   "execution_count": 3,
   "id": "e3358eb3",
   "metadata": {},
   "outputs": [],
   "source": [
    "class car():\n",
    " # characteristics/properties / attributes >>>> variables\n",
    "    make=\"Civic\"\n",
    "    model=\"2019\"\n",
    "    Reg=\"2022\"\n",
    "    color=\"Black\"\n",
    "    Engine=\"1300CC\"\n",
    "    \n",
    "   # Actions / behaviours >>>>>>>>functions(methods)\n",
    "    def run():\n",
    "        print(\"Car is runing\")\n",
    "    def stop():\n",
    "        print(\"Car is stops\") \n",
    "        \n",
    "    def open_door():\n",
    "        print(\"Doors open\")  \n",
    "        \n",
    "    def close_door():\n",
    "        print(\"Doors closes\")    \n",
    "        \n",
    "    "
   ]
  },
  {
   "cell_type": "code",
   "execution_count": 39,
   "id": "9a1b0d24",
   "metadata": {},
   "outputs": [],
   "source": [
    "class Human():\n",
    "    def __init__(self,name,gender,age,blood_group):\n",
    "        \"\"\" \n",
    "        This function init is called initializer.(Contructor)\n",
    "        Values required in initializer are mandatory to supply\n",
    "        to create an object\n",
    "        \"\"\"\n",
    "        #####ATTRIBUTES OF HUMAN#############\n",
    "        \n",
    "        self.name         =  name \n",
    "        self.gender       =  gender\n",
    "        self.age          =  age\n",
    "        self.blood_group  =  blood_group\n",
    "    \n",
    "    def eat(self):\n",
    "        print(f\"{self.name} is eating\")\n",
    "        \n",
    "    def sleep(self):\n",
    "        print(f\"{self.name} is sleeping\")\n",
    "    \n",
    "    def read(self):\n",
    "        print(f\"{self.name}is reading\")\n",
    "      \n",
    "    def human_age(self):\n",
    "        print(f\"{self.name} age is {self.age}\")\n",
    "        \n",
    "    def human_blood_group(self):\n",
    "        print(f\"{self.name} blood_group is {self.blood_group}\") \n",
    "        \n",
    "        \n",
    "\n",
    "\n",
    "\n",
    " \n",
    "        \n",
    "       \n",
    "        \n",
    "        \n",
    "   "
   ]
  },
  {
   "cell_type": "code",
   "execution_count": 40,
   "id": "bb6102e9",
   "metadata": {
    "scrolled": false
   },
   "outputs": [
    {
     "ename": "TypeError",
     "evalue": "__init__() missing 4 required positional arguments: 'name', 'gender', 'age', and 'blood_group'",
     "output_type": "error",
     "traceback": [
      "\u001b[1;31m---------------------------------------------------------------------------\u001b[0m",
      "\u001b[1;31mTypeError\u001b[0m                                 Traceback (most recent call last)",
      "Input \u001b[1;32mIn [40]\u001b[0m, in \u001b[0;36m<cell line: 1>\u001b[1;34m()\u001b[0m\n\u001b[1;32m----> 1\u001b[0m human1 \u001b[38;5;241m=\u001b[39m \u001b[43mHuman\u001b[49m\u001b[43m(\u001b[49m\u001b[43m)\u001b[49m\n",
      "\u001b[1;31mTypeError\u001b[0m: __init__() missing 4 required positional arguments: 'name', 'gender', 'age', and 'blood_group'"
     ]
    }
   ],
   "source": [
    "human1 = Human()"
   ]
  },
  {
   "cell_type": "code",
   "execution_count": 53,
   "id": "8adc4f09",
   "metadata": {},
   "outputs": [],
   "source": [
    "#objects create like more cars of same class\n",
    "# object /instance\n",
    "human1 = Human(\"Mudassir\",\"Male\",\"21\",\"A+\")"
   ]
  },
  {
   "cell_type": "code",
   "execution_count": 41,
   "id": "c30267f2",
   "metadata": {},
   "outputs": [
    {
     "data": {
      "text/plain": [
       "'Mudassir'"
      ]
     },
     "execution_count": 41,
     "metadata": {},
     "output_type": "execute_result"
    }
   ],
   "source": [
    "human1.name\n",
    "\n",
    "# object is accessing its property"
   ]
  },
  {
   "cell_type": "code",
   "execution_count": 54,
   "id": "01c7772b",
   "metadata": {},
   "outputs": [
    {
     "name": "stdout",
     "output_type": "stream",
     "text": [
      "Mudassir\n",
      "21\n",
      "Male\n",
      "A+\n"
     ]
    }
   ],
   "source": [
    "\n",
    " \n",
    "print(human1.name)\n",
    "print(human1.age)\n",
    "print(human1.gender)\n",
    "print(human1.blood_group)"
   ]
  },
  {
   "cell_type": "code",
   "execution_count": 55,
   "id": "bcf9d254",
   "metadata": {},
   "outputs": [
    {
     "name": "stdout",
     "output_type": "stream",
     "text": [
      "Mudassir is eating\n",
      "Mudassir age is 21\n",
      "Mudassir blood_group is A+\n",
      "Mudassiris reading\n",
      "Mudassir is sleeping\n"
     ]
    }
   ],
   "source": [
    "# object is accessing its behaviour\n",
    "\n",
    "human1.eat()\n",
    "human1.human_age()\n",
    "human1.human_blood_group()\n",
    "human1.read()\n",
    "human1.sleep()"
   ]
  },
  {
   "cell_type": "code",
   "execution_count": 56,
   "id": "b11de8f7",
   "metadata": {},
   "outputs": [],
   "source": [
    "# Creting another object of human\n",
    "human2 = Human(\"Rehan\", 'Male',23, \"O+\")"
   ]
  },
  {
   "cell_type": "code",
   "execution_count": 57,
   "id": "206f13c4",
   "metadata": {},
   "outputs": [
    {
     "name": "stdout",
     "output_type": "stream",
     "text": [
      "Mudassir is sleeping\n"
     ]
    }
   ],
   "source": [
    "human1.sleep()"
   ]
  },
  {
   "cell_type": "code",
   "execution_count": 58,
   "id": "6a576e02",
   "metadata": {},
   "outputs": [
    {
     "name": "stdout",
     "output_type": "stream",
     "text": [
      "Rehan is sleeping\n"
     ]
    }
   ],
   "source": [
    "human2.sleep()"
   ]
  },
  {
   "cell_type": "code",
   "execution_count": 59,
   "id": "1347096a",
   "metadata": {},
   "outputs": [],
   "source": [
    "human3 = Human(\"Sana\", 'Female', 18, \"B+\")\n",
    "human4 = Human(\"Saba\", \"Female\", 18, \"A\")"
   ]
  },
  {
   "cell_type": "code",
   "execution_count": 63,
   "id": "d4daf310",
   "metadata": {},
   "outputs": [
    {
     "name": "stdout",
     "output_type": "stream",
     "text": [
      "\n",
      "xxxxxxxxx Human 1 data xxxxxxx\n",
      "Mudassir\n",
      "21\n",
      "Male\n",
      "A+\n",
      "Mudassir is eating\n",
      "Mudassir age is 21\n",
      "Mudassir blood_group is A+\n",
      "Mudassiris reading\n",
      "Mudassir is sleeping\n",
      "\n",
      "\n"
     ]
    }
   ],
   "source": [
    "print(\"\\nxxxxxxxxx Human 1 data xxxxxxx\")\n",
    "print(human1.name)\n",
    "print(human1.age)\n",
    "print(human1.gender)\n",
    "print(human1.blood_group)\n",
    "\n",
    "\n",
    "human1.eat()\n",
    "human1.human_age()\n",
    "human1.human_blood_group()\n",
    "human1.read()\n",
    "human1.sleep()\n",
    "print(\"\\n\")"
   ]
  },
  {
   "cell_type": "code",
   "execution_count": 64,
   "id": "290669bb",
   "metadata": {},
   "outputs": [
    {
     "name": "stdout",
     "output_type": "stream",
     "text": [
      "\n",
      "xxxxxxxxx Human 2 data xxxxxxx\n",
      "Rehan\n",
      "23\n",
      "Male\n",
      "O+\n",
      "Rehan is eating\n",
      "Rehan age is 23\n",
      "Rehan blood_group is O+\n",
      "Rehanis reading\n",
      "Rehan is sleeping\n",
      "\n",
      "\n"
     ]
    }
   ],
   "source": [
    "print(\"\\nxxxxxxxxx Human 2 data xxxxxxx\") \n",
    "print(human2.name)\n",
    "print(human2.age)\n",
    "print(human2.gender)\n",
    "print(human2.blood_group)\n",
    "\n",
    "\n",
    "human2.eat()\n",
    "human2.human_age()\n",
    "human2.human_blood_group()\n",
    "human2.read()\n",
    "human2.sleep()\n",
    "print(\"\\n\")"
   ]
  },
  {
   "cell_type": "code",
   "execution_count": 65,
   "id": "84816552",
   "metadata": {},
   "outputs": [
    {
     "name": "stdout",
     "output_type": "stream",
     "text": [
      "\n",
      "xxxxxxxxx Human 3 data xxxxxxx\n",
      "Sana\n",
      "18\n",
      "Female\n",
      "B+\n",
      "Sana is eating\n",
      "Sana age is 18\n",
      "Sana blood_group is B+\n",
      "Sanais reading\n",
      "Sana is sleeping\n",
      "\n",
      "\n"
     ]
    }
   ],
   "source": [
    "print(\"\\nxxxxxxxxx Human 3 data xxxxxxx\") \n",
    "print(human3.name)\n",
    "print(human3.age)\n",
    "print(human3.gender)\n",
    "print(human3.blood_group)\n",
    "\n",
    "\n",
    "human3.eat()\n",
    "human3.human_age()\n",
    "human3.human_blood_group()\n",
    "human3.read()\n",
    "human3.sleep()\n",
    "print(\"\\n\")"
   ]
  },
  {
   "cell_type": "code",
   "execution_count": 66,
   "id": "4d485c6b",
   "metadata": {},
   "outputs": [
    {
     "name": "stdout",
     "output_type": "stream",
     "text": [
      "\n",
      "xxxxxxxxx Human 4 data xxxxxxx\n",
      "Saba\n",
      "18\n",
      "Female\n",
      "A\n",
      "Saba is eating\n",
      "Saba age is 18\n",
      "Saba blood_group is A\n",
      "Sabais reading\n",
      "Saba is sleeping\n",
      "\n",
      "\n"
     ]
    }
   ],
   "source": [
    "print(\"\\nxxxxxxxxx Human 4 data xxxxxxx\") \n",
    "print(human4.name)\n",
    "print(human4.age)\n",
    "print(human4.gender)\n",
    "print(human4.blood_group)\n",
    "\n",
    "\n",
    "human4.eat()\n",
    "human4.human_age()\n",
    "human4.human_blood_group()\n",
    "human4.read()\n",
    "human4.sleep()\n",
    "print(\"\\n\")"
   ]
  },
  {
   "cell_type": "code",
   "execution_count": null,
   "id": "3589aea3",
   "metadata": {},
   "outputs": [],
   "source": [
    "# while True:\n",
    "#     name=input(\"Enter the name\")\n",
    "#     gender=input(\"Enter the gender\")\n",
    "#     age=input(\"Enter the age\")\n",
    "#     blood_group=input(\"Enter the blood group\")\n",
    "    \n",
    "#     if (name =='q') or (gender =='q') or (age =='q') or "
   ]
  },
  {
   "cell_type": "code",
   "execution_count": null,
   "id": "83c5b936",
   "metadata": {},
   "outputs": [],
   "source": [
    "def add(val1, val2):#Parameteras\n",
    "    \n",
    "    num1 = val1\n",
    "    num2 = val2\n",
    "    sum = num1 + num2\n",
    "add(2,3)# arguments"
   ]
  },
  {
   "cell_type": "code",
   "execution_count": null,
   "id": "df1a405f",
   "metadata": {},
   "outputs": [],
   "source": []
  }
 ],
 "metadata": {
  "kernelspec": {
   "display_name": "Python 3 (ipykernel)",
   "language": "python",
   "name": "python3"
  },
  "language_info": {
   "codemirror_mode": {
    "name": "ipython",
    "version": 3
   },
   "file_extension": ".py",
   "mimetype": "text/x-python",
   "name": "python",
   "nbconvert_exporter": "python",
   "pygments_lexer": "ipython3",
   "version": "3.9.12"
  }
 },
 "nbformat": 4,
 "nbformat_minor": 5
}
