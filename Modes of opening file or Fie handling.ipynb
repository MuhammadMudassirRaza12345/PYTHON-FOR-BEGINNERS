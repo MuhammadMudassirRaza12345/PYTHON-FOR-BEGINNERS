{
 "cells": [
  {
   "cell_type": "raw",
   "id": "1c88833c",
   "metadata": {},
   "source": [
    "\n",
    "# Modes of opening file in Python:\n",
    "- There are many modes of opening a file in Python, unlike other languages Python has provided its users a variety of options. We will discuss seven of them in this tutorial.\n",
    "\n",
    "- r : r mode opens a file for read-only. We do not have permission to update or change any data in this mode.\n",
    "- w : w mode does not concern itself with what is present in the file. It just opens a file for writing and if there is already some data present in the file, it overwrites it.\n",
    "- x : x is used to create a new file. It does not work for an already existing file, as in such cases the operation fails.\n",
    "- a : a stands for append, which means to add something to the end of the file. It does exactly the same. It just adds the data    we like in write(w) mode but instead of overwriting it just adds it to the end of the file. It also does not have the          permission of reading the file.\n",
    "- t : t mode is used to open our file in text mode and only proper text files can be opened by it. It deals with the file data as a string.\n",
    "\n",
    "- b : b stands for binary and this mode can only open the binary files, that are read in bytes. The binary files include images, documents, or all other files that require specific software to be read.\n",
    "\n",
    "- + : In plus mode, we can read and write a file simultaneously. The mode is mostly used in cases where we want to update our file.\n",
    "\n",
    "\n"
   ]
  },
  {
   "cell_type": "markdown",
   "id": "c9dadf0e",
   "metadata": {},
   "source": [
    "## Open(), Read() & Readline() For Reading File"
   ]
  },
  {
   "cell_type": "code",
   "execution_count": 4,
   "id": "d3ab255b",
   "metadata": {},
   "outputs": [
    {
     "data": {
      "text/plain": [
       "<_io.TextIOWrapper name='python.txt' mode='r' encoding='cp1252'>"
      ]
     },
     "execution_count": 4,
     "metadata": {},
     "output_type": "execute_result"
    }
   ],
   "source": [
    "open(\"python.txt\")"
   ]
  },
  {
   "cell_type": "code",
   "execution_count": 6,
   "id": "07434f19",
   "metadata": {},
   "outputs": [
    {
     "name": "stdout",
     "output_type": "stream",
     "text": [
      "i love you\n",
      "\n"
     ]
    }
   ],
   "source": [
    "f= open(\"python.txt\")\n",
    "b=f.read()\n",
    "print(b)"
   ]
  },
  {
   "cell_type": "code",
   "execution_count": 9,
   "id": "c3d46224",
   "metadata": {},
   "outputs": [],
   "source": [
    "f.close()"
   ]
  },
  {
   "cell_type": "code",
   "execution_count": 8,
   "id": "fa035f1a",
   "metadata": {},
   "outputs": [
    {
     "name": "stdout",
     "output_type": "stream",
     "text": [
      "i love you\n",
      "\n"
     ]
    }
   ],
   "source": [
    "#another way\n",
    "f= open(\"python.txt\" ,\"r\")\n",
    "print(f.read())\n"
   ]
  },
  {
   "cell_type": "code",
   "execution_count": 14,
   "id": "b8ac43a4",
   "metadata": {},
   "outputs": [
    {
     "name": "stdout",
     "output_type": "stream",
     "text": [
      "b'i love you\\r\\n'\n"
     ]
    }
   ],
   "source": [
    "#another way\n",
    "f= open(\"python.txt\" ,\"rb\")\n",
    "t=f.read()\n",
    "print(t)\n"
   ]
  },
  {
   "cell_type": "code",
   "execution_count": 16,
   "id": "791edcc6",
   "metadata": {},
   "outputs": [
    {
     "name": "stdout",
     "output_type": "stream",
     "text": [
      "i l\n"
     ]
    }
   ],
   "source": [
    "f= open(\"python.txt\" ,\"rt\")\n",
    "print(f.read(3))  #reads 3 character\n"
   ]
  },
  {
   "cell_type": "code",
   "execution_count": 19,
   "id": "2d2238ef",
   "metadata": {},
   "outputs": [
    {
     "name": "stdout",
     "output_type": "stream",
     "text": [
      "i love you\n",
      "\n"
     ]
    }
   ],
   "source": [
    "f= open(\"python.txt\" ,\"rt\")\n",
    "print(f.read(35))\n",
    "f.close()"
   ]
  },
  {
   "cell_type": "code",
   "execution_count": 28,
   "id": "66e5a767",
   "metadata": {},
   "outputs": [
    {
     "name": "stdout",
     "output_type": "stream",
     "text": [
      "i love you\n",
      "\n"
     ]
    }
   ],
   "source": [
    "f= open(\"python.txt\" ,\"rt\")\n",
    "# t=f.read()\n",
    "# print(t)\n",
    "for line in f:\n",
    "    print(line )\n",
    "# print(content)"
   ]
  },
  {
   "cell_type": "code",
   "execution_count": 29,
   "id": "32f554cc",
   "metadata": {},
   "outputs": [
    {
     "name": "stdout",
     "output_type": "stream",
     "text": [
      "i love you\n"
     ]
    }
   ],
   "source": [
    "f= open(\"python.txt\" ,\"rt\")\n",
    "# t=f.read()\n",
    "# print(t)\n",
    "for line in f:\n",
    "    print(line, end=\"\")\n",
    "# print(content)"
   ]
  },
  {
   "cell_type": "code",
   "execution_count": 33,
   "id": "c10a8448",
   "metadata": {},
   "outputs": [
    {
     "name": "stdout",
     "output_type": "stream",
     "text": [
      "i love you\n",
      "\n"
     ]
    }
   ],
   "source": [
    "f= open(\"python.txt\" ,\"rt\")\n",
    "print(f.readline())\n"
   ]
  },
  {
   "cell_type": "code",
   "execution_count": 32,
   "id": "8d2a3527",
   "metadata": {},
   "outputs": [
    {
     "name": "stdout",
     "output_type": "stream",
     "text": [
      "['i love you\\n', 'i love you 1\\n', 'i love you 2\\n', '\\n']\n"
     ]
    }
   ],
   "source": [
    "f= open(\"python.txt\" ,\"rt\")\n",
    "print(f.readlines())\n"
   ]
  },
  {
   "cell_type": "code",
   "execution_count": 20,
   "id": "0f5f2df5",
   "metadata": {},
   "outputs": [
    {
     "ename": "FileNotFoundError",
     "evalue": "[Errno 2] No such file or directory: 'harry.txt'",
     "output_type": "error",
     "traceback": [
      "\u001b[1;31m---------------------------------------------------------------------------\u001b[0m",
      "\u001b[1;31mFileNotFoundError\u001b[0m                         Traceback (most recent call last)",
      "Input \u001b[1;32mIn [20]\u001b[0m, in \u001b[0;36m<cell line: 1>\u001b[1;34m()\u001b[0m\n\u001b[1;32m----> 1\u001b[0m f \u001b[38;5;241m=\u001b[39m \u001b[38;5;28;43mopen\u001b[39;49m\u001b[43m(\u001b[49m\u001b[38;5;124;43m\"\u001b[39;49m\u001b[38;5;124;43mharry.txt\u001b[39;49m\u001b[38;5;124;43m\"\u001b[39;49m\u001b[43m,\u001b[49m\u001b[43m \u001b[49m\u001b[38;5;124;43m\"\u001b[39;49m\u001b[38;5;124;43mrt\u001b[39;49m\u001b[38;5;124;43m\"\u001b[39;49m\u001b[43m)\u001b[49m\n\u001b[0;32m      2\u001b[0m \u001b[38;5;28mprint\u001b[39m(f\u001b[38;5;241m.\u001b[39mreadlines())\n",
      "\u001b[1;31mFileNotFoundError\u001b[0m: [Errno 2] No such file or directory: 'harry.txt'"
     ]
    }
   ],
   "source": [
    "# f = open(\"harry.txt\", \"rt\")\n",
    "# print(f.readlines())\n",
    "# print(f.readline())\n",
    "# print(f.readline())\n",
    "# print(f.readline())\n",
    "# content = f.read()\n",
    "#\n",
    "# for line in f:\n",
    "#     print(line, end=\"\")\n",
    "# print(content)\n",
    "# content = f.read(34455)\n",
    "# print(\"1\", content)\n",
    "#\n",
    "# content = f.read(34455)\n",
    "# print(\"2\", content)\n",
    "# f.close()"
   ]
  },
  {
   "cell_type": "code",
   "execution_count": 1,
   "id": "6a44b5df",
   "metadata": {},
   "outputs": [],
   "source": []
  },
  {
   "cell_type": "code",
   "execution_count": null,
   "id": "782198e6",
   "metadata": {},
   "outputs": [],
   "source": []
  }
 ],
 "metadata": {
  "kernelspec": {
   "display_name": "Python 3 (ipykernel)",
   "language": "python",
   "name": "python3"
  },
  "language_info": {
   "codemirror_mode": {
    "name": "ipython",
    "version": 3
   },
   "file_extension": ".py",
   "mimetype": "text/x-python",
   "name": "python",
   "nbconvert_exporter": "python",
   "pygments_lexer": "ipython3",
   "version": "3.9.12"
  }
 },
 "nbformat": 4,
 "nbformat_minor": 5
}
