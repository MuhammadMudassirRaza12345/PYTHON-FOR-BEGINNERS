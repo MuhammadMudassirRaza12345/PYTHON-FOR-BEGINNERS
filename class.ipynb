{
 "cells": [
  {
   "cell_type": "code",
   "execution_count": 1,
   "id": "9916fcb6",
   "metadata": {},
   "outputs": [],
   "source": [
    "class patients():\n",
    "    def __init__(self,first_name,last_name,age):\n",
    "        self.first_name = first_name\n",
    "        self.last_name = last_name\n",
    "        self.age = age\n",
    "        print(f\"Patient name is {self.first_name} {self.last_name}\")\n",
    "        print(f\"Patient age is {self.age}\")\n",
    "        \n",
    "        \n",
    "        "
   ]
  },
  {
   "cell_type": "code",
   "execution_count": 2,
   "id": "f012c370",
   "metadata": {},
   "outputs": [
    {
     "name": "stdout",
     "output_type": "stream",
     "text": [
      "Patient name is Ali Raza\n",
      "Patient age is 22\n"
     ]
    }
   ],
   "source": [
    "patient1=patients(\"Ali\",\"Raza\",22)\n",
    "# patient1.first_name"
   ]
  },
  {
   "cell_type": "code",
   "execution_count": 3,
   "id": "e991ff56",
   "metadata": {},
   "outputs": [],
   "source": [
    "# patient1.last_name"
   ]
  },
  {
   "cell_type": "code",
   "execution_count": 4,
   "id": "789e285c",
   "metadata": {},
   "outputs": [],
   "source": [
    "# patient1.age"
   ]
  },
  {
   "cell_type": "code",
   "execution_count": 5,
   "id": "75fca6ae",
   "metadata": {},
   "outputs": [
    {
     "name": "stdout",
     "output_type": "stream",
     "text": [
      "Patient name is Hassan Mujtaba\n",
      "Patient age is 58\n"
     ]
    }
   ],
   "source": [
    "patient2=patients(\"Hassan\",\"Mujtaba\",58)"
   ]
  },
  {
   "cell_type": "code",
   "execution_count": 6,
   "id": "eacaf9e9",
   "metadata": {},
   "outputs": [
    {
     "name": "stdout",
     "output_type": "stream",
     "text": [
      "Patient name is jawad haider\n",
      "Patient age is 50\n"
     ]
    }
   ],
   "source": [
    "patient3=patients(\"jawad\",\"haider\",50)"
   ]
  },
  {
   "cell_type": "code",
   "execution_count": 7,
   "id": "50df20db",
   "metadata": {},
   "outputs": [
    {
     "name": "stdout",
     "output_type": "stream",
     "text": [
      "Patient name is Ali haider\n",
      "Patient age is 15\n"
     ]
    }
   ],
   "source": [
    "patient4=patients(\"Ali\",\"haider\",15)"
   ]
  },
  {
   "cell_type": "code",
   "execution_count": 8,
   "id": "5ef26313",
   "metadata": {},
   "outputs": [
    {
     "name": "stdout",
     "output_type": "stream",
     "text": [
      "58 1\n"
     ]
    }
   ],
   "source": [
    "patients_age=[patient1.age,patient2.age,patient3.age,patient4.age]\n",
    "max_age=max(patients_age)\n",
    "# print(max_age)\n",
    "location=patients_age.index(max_age)\n",
    "patients=patients_age[location]\n",
    "print(max_age,location)\n"
   ]
  },
  {
   "cell_type": "code",
   "execution_count": 13,
   "id": "0ab4dff7",
   "metadata": {},
   "outputs": [],
   "source": [
    "class patient():\n",
    "    def __init__(self, last_name, first_name, age):\n",
    "        self.last_name = last_name\n",
    "        self.first_name = first_name\n",
    "        self.age = age\n",
    "    def  get_fullname(self):\n",
    "        full_name = self.first_name + \"   \" + self.last_name\n",
    "        print(full_name)\n",
    "         \n",
    "        \n",
    "    def is_minor (self):\n",
    "        ret_value = \"Not Minor\"\n",
    "        if self.age < str(21):\n",
    "            ret_value = \"Minor\"\n",
    "        ret_value = self.first_name +\" \"+self.last_name +\" is \" + ret_value\n",
    "        print(ret_value)\n",
    "        \n",
    "    def get_short_name(self):\n",
    "        short_name = self.first_name[0] + \"   \" + self.last_name\n",
    "        return short_name\n",
    "    \n",
    "#     def chnage_last_name()"
   ]
  },
  {
   "cell_type": "code",
   "execution_count": 14,
   "id": "8b06dba2",
   "metadata": {},
   "outputs": [],
   "source": [
    "p1=patient(\"raza\",\"mudassir\",\"23\")"
   ]
  },
  {
   "cell_type": "code",
   "execution_count": 15,
   "id": "1ffd1e9e",
   "metadata": {},
   "outputs": [
    {
     "name": "stdout",
     "output_type": "stream",
     "text": [
      "mudassir   raza\n"
     ]
    }
   ],
   "source": [
    "p1.get_fullname()"
   ]
  },
  {
   "cell_type": "code",
   "execution_count": 16,
   "id": "7f4914c4",
   "metadata": {},
   "outputs": [
    {
     "name": "stdout",
     "output_type": "stream",
     "text": [
      "mudassir raza is Not Minor\n"
     ]
    }
   ],
   "source": [
    "p1.is_minor()"
   ]
  },
  {
   "cell_type": "code",
   "execution_count": 17,
   "id": "05f92274",
   "metadata": {},
   "outputs": [],
   "source": [
    "short_name=p1.get_short_name()"
   ]
  },
  {
   "cell_type": "code",
   "execution_count": 18,
   "id": "d320dd36",
   "metadata": {},
   "outputs": [
    {
     "data": {
      "text/plain": [
       "'m   raza'"
      ]
     },
     "execution_count": 18,
     "metadata": {},
     "output_type": "execute_result"
    }
   ],
   "source": [
    "short_name"
   ]
  },
  {
   "cell_type": "code",
   "execution_count": null,
   "id": "d75e55b3",
   "metadata": {},
   "outputs": [],
   "source": []
  }
 ],
 "metadata": {
  "kernelspec": {
   "display_name": "Python 3 (ipykernel)",
   "language": "python",
   "name": "python3"
  },
  "language_info": {
   "codemirror_mode": {
    "name": "ipython",
    "version": 3
   },
   "file_extension": ".py",
   "mimetype": "text/x-python",
   "name": "python",
   "nbconvert_exporter": "python",
   "pygments_lexer": "ipython3",
   "version": "3.9.12"
  }
 },
 "nbformat": 4,
 "nbformat_minor": 5
}
